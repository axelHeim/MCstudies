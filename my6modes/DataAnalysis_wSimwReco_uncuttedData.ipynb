{
 "cells": [
  {
   "cell_type": "code",
   "execution_count": 1,
   "metadata": {},
   "outputs": [],
   "source": [
    "import numpy as np\n",
    "import pandas as pd\n",
    "from pathlib import Path\n",
    "\n",
    "from uproot import concatenate\n",
    "\n",
    "import matplotlib.pyplot as plt\n",
    "\n",
    "import math\n",
    "import sys"
   ]
  },
  {
   "cell_type": "code",
   "execution_count": null,
   "metadata": {},
   "outputs": [],
   "source": [
    "x = np.random.randn(100)\n",
    "\n",
    "plt.figure(figsize=(8,5))\n",
    "\n",
    "_ = plt.hist(x,bins=100)  # arguments are passed to np.histogram\n",
    "plt.title(\"FSPs\")\n",
    "\n",
    "plt.show()"
   ]
  },
  {
   "cell_type": "code",
   "execution_count": 8,
   "metadata": {},
   "outputs": [],
   "source": [
    "events_num_identifier = \"_15000_events\"\n",
    "\n",
    "subdir = \"wSim_wReco_UNCUT\"\n",
    "\n",
    "path = \"/nfs/dust/belle2/user/axelheim/MC_studies/my6modes/\"\n",
    "root_path = path + \"rootfiles/\" + subdir + '/'"
   ]
  },
  {
   "cell_type": "code",
   "execution_count": 9,
   "metadata": {},
   "outputs": [
    {
     "ename": "AttributeError",
     "evalue": "module 'uproot' has no attribute 'concatenate'",
     "output_type": "error",
     "traceback": [
      "\u001b[0;31m---------------------------------------------------------------------------\u001b[0m",
      "\u001b[0;31mAttributeError\u001b[0m                            Traceback (most recent call last)",
      "\u001b[0;32m<ipython-input-9-a921f2966391>\u001b[0m in \u001b[0;36m<module>\u001b[0;34m\u001b[0m\n\u001b[0;32m----> 1\u001b[0;31m \u001b[0mraw_nTuples\u001b[0m \u001b[0;34m=\u001b[0m \u001b[0muproot\u001b[0m\u001b[0;34m.\u001b[0m\u001b[0mconcatenate\u001b[0m\u001b[0;34m(\u001b[0m\u001b[0;34m[\u001b[0m\u001b[0;34m(\u001b[0m\u001b[0mroot_path\u001b[0m \u001b[0;34m+\u001b[0m \u001b[0;34m\"*mode2*.root\"\u001b[0m\u001b[0;34m)\u001b[0m\u001b[0;34m]\u001b[0m\u001b[0;34m)\u001b[0m\u001b[0;34m\u001b[0m\u001b[0;34m\u001b[0m\u001b[0m\n\u001b[0m",
      "\u001b[0;31mAttributeError\u001b[0m: module 'uproot' has no attribute 'concatenate'"
     ]
    }
   ],
   "source": [
    "raw_nTuples = uproot.concatenate([(root_path + \"*mode2*.root\")])\n"
   ]
  },
  {
   "cell_type": "code",
   "execution_count": null,
   "metadata": {},
   "outputs": [],
   "source": [
    "df = pd.DataFrame({\"event\" : np.array(raw_nTuples[\"__event__\"]),\n",
    "   \"mcPDG\" : np.array(raw_nTuples[\"mcPDG\"]),\n",
    "   \"mcPrimary\":np.array(raw_nTuples[\"mcPrimary\"]),\n",
    "   \"isSignal\":np.array(raw_nTuples[\"isSignal\"]),\n",
    "   #\"mcInitial\":np.array(raw_nTuples[\"mcInitial\"]),\n",
    "   \"px\" :  np.array(raw_nTuples[\"px\"]),\n",
    "   \"py\" : np.array(raw_nTuples[\"py\"]),\n",
    "   \"pz\" : np.array(raw_nTuples[\"pz\"]),\n",
    "   \"E\" : np.array(raw_nTuples[\"E\"]),\n",
    "\n",
    "   \"pionID\":np.array(raw_nTuples[\"pionID\"]),   \n",
    "   \"kaonID\": np.array(raw_nTuples[\"kaonID\"]),\n",
    "   \"M\" : np.array(raw_nTuples[\"M\"]),\n",
    "   \"charge\" : np.array(raw_nTuples[\"charge\"]),\n",
    "   #\"fromY4S\" : hasAncestor_300553,\n",
    "   \"genPDG0\" : np.array(raw_nTuples[\"genMotherPDG__bo0__bc\"]),\n",
    "   \"genPDG1\" : np.array(raw_nTuples[\"genMotherPDG__bo1__bc\"]),\n",
    "   \"genPDG2\" : np.array(raw_nTuples[\"genMotherPDG__bo2__bc\"]),\n",
    "   \"genPDG3\" :  np.array(raw_nTuples[\"genMotherPDG__bo3__bc\"]) })"
   ]
  },
  {
   "cell_type": "code",
   "execution_count": null,
   "metadata": {},
   "outputs": [],
   "source": [
    "numFSPs_df = pd.DataFrame({'count' : df.groupby( [\"event\"] ).size()}).reset_index()\n",
    "minFSPs = numFSPs_df[\"count\"].min()\n",
    "maxFSPs = numFSPs_df[\"count\"].max()\n",
    "\n",
    "\n",
    "print(\"maxFSPs:\",maxFSPs)\n",
    "print(\"minFSPs:\",minFSPs)\n"
   ]
  },
  {
   "cell_type": "code",
   "execution_count": null,
   "metadata": {},
   "outputs": [],
   "source": [
    "X = numFSPs_df.sample(n=10)"
   ]
  },
  {
   "cell_type": "code",
   "execution_count": null,
   "metadata": {},
   "outputs": [],
   "source": [
    "#X[\"count\"].hist()"
   ]
  },
  {
   "cell_type": "code",
   "execution_count": null,
   "metadata": {},
   "outputs": [],
   "source": [
    "count = np.array(X[\"count\"])"
   ]
  },
  {
   "cell_type": "code",
   "execution_count": null,
   "metadata": {},
   "outputs": [],
   "source": [
    "bins = np.linspace(0, maxFSPs, maxFSPs)\n",
    "#X.hist(bins=bins, legend=True)\n",
    "x = np.random.randn(100)\n",
    "\n",
    "plt.figure(figsize=(8,5))\n",
    "#num_particles\n",
    "#num_errors\n",
    "#_ = plt.hist(count,bins=bins)  # arguments are passed to np.histogram\n",
    "_ = plt.hist(x,bins=bins)  # arguments are passed to np.histogram\n",
    "plt.title(\"FSPs\")\n",
    "#plt.axvline(5280, 0, 1, label='pyplot vertical line', c=\"r\")\n",
    "\n",
    "#plt.savefig('plots_40.2/mass_B_' + plot_identifier + '.pdf')\n",
    "plt.show()"
   ]
  },
  {
   "cell_type": "code",
   "execution_count": null,
   "metadata": {},
   "outputs": [],
   "source": []
  }
 ],
 "metadata": {
  "kernelspec": {
   "display_name": "Python 3",
   "language": "python",
   "name": "python3"
  },
  "language_info": {
   "codemirror_mode": {
    "name": "ipython",
    "version": 3
   },
   "file_extension": ".py",
   "mimetype": "text/x-python",
   "name": "python",
   "nbconvert_exporter": "python",
   "pygments_lexer": "ipython3",
   "version": "3.8.6"
  }
 },
 "nbformat": 4,
 "nbformat_minor": 4
}
