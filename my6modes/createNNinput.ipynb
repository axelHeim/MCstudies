{
 "cells": [
  {
   "cell_type": "code",
   "execution_count": 1,
   "metadata": {},
   "outputs": [],
   "source": [
    "import matplotlib.pyplot as plt\n",
    "import uproot\n",
    "import numpy as np\n",
    "import pandas as pd\n",
    "\n",
    "from pathlib import Path\n",
    "from sklearn.model_selection import train_test_split\n",
    "\n",
    "\n",
    "events_num_identifier = \"_10_events\"\n",
    "\n",
    "\n",
    "\n",
    "path = \"/nfs/dust/belle2/user/axelheim/MC_studies/my6modes/\"\n",
    "root_path = path + \"rootfiles/noSim_noReco/\"\n",
    "#file_pi = uproot.open((root_path + \"pi_nTuples_mode0.root\"))\n",
    "\n",
    "#file_raw = uproot.open(root_path + \"mode0_17_events.root\")"
   ]
  },
  {
   "cell_type": "code",
   "execution_count": 2,
   "metadata": {},
   "outputs": [],
   "source": [
    "def conditions(s):\n",
    "    label = -1\n",
    "    if (int(s['genMotherPDG0']) == Bs_pdg) or (int(s['genMotherPDG1']) == Bs_pdg) or (int(s['genMotherPDG2']) == Bs_pdg) or (int(s['genMotherPDG3']) == Bs_pdg):\n",
    "        label = 1\n",
    "    elif (int(s['genMotherPDG0']) == Hc_pdg) or (int(s['genMotherPDG1']) == Hc_pdg) or (int(s['genMotherPDG2']) == Hc_pdg) or (int(s['genMotherPDG3']) == Hc_pdg):    \n",
    "        label = 2\n",
    "    else:\n",
    "        label = 0\n",
    "    \n",
    "    return label"
   ]
  },
  {
   "cell_type": "code",
   "execution_count": 3,
   "metadata": {},
   "outputs": [
    {
     "name": "stdout",
     "output_type": "stream",
     "text": [
      "mode: 0 0 0 0 0 0 0 0 0 0 0 0 0 0 0 0 0 0 0 0 0\n"
     ]
    },
    {
     "ename": "FileNotFoundError",
     "evalue": "file not found\n\n    '/nfs/dust/belle2/user/axelheim/MC_studies/my6modes/rootfiles/noSim_noReco/gamma_nTuples_mode0_10_events.root'\n\nFiles may be specified as:\n   * str/bytes: relative or absolute filesystem path or URL, without any colons\n         other than Windows drive letter or URL schema.\n         Examples: \"rel/file.root\", \"C:\\abs\\file.root\", \"http://where/what.root\"\n   * str/bytes: same with an object-within-ROOT path, separated by a colon.\n         Example: \"rel/file.root:tdirectory/ttree\"\n   * pathlib.Path: always interpreted as a filesystem path or URL only (no\n         object-within-ROOT path), regardless of whether there are any colons.\n         Examples: Path(\"rel:/file.root\"), Path(\"/abs/path:stuff.root\")\n\nFunctions that accept many files (uproot.iterate, etc.) also allow:\n   * glob syntax in str/bytes and pathlib.Path.\n         Examples: Path(\"rel/*.root\"), \"/abs/*.root:tdirectory/ttree\"\n   * dict: keys are filesystem paths, values are objects-within-ROOT paths.\n         Example: {\"/data_v1/*.root\": \"ttree_v1\", \"/data_v2/*.root\": \"ttree_v2\"}\n   * already-open TTree objects.\n   * iterables of the above.\n",
     "output_type": "error",
     "traceback": [
      "\u001b[0;31m---------------------------------------------------------------------------\u001b[0m",
      "\u001b[0;31mFileNotFoundError\u001b[0m                         Traceback (most recent call last)",
      "\u001b[0;32m~/miniconda3/envs/baum/lib/python3.8/site-packages/uproot/source/file.py\u001b[0m in \u001b[0;36m_open\u001b[0;34m(self)\u001b[0m\n\u001b[1;32m    112\u001b[0m         \u001b[0;32mtry\u001b[0m\u001b[0;34m:\u001b[0m\u001b[0;34m\u001b[0m\u001b[0;34m\u001b[0m\u001b[0m\n\u001b[0;32m--> 113\u001b[0;31m             \u001b[0mself\u001b[0m\u001b[0;34m.\u001b[0m\u001b[0m_file\u001b[0m \u001b[0;34m=\u001b[0m \u001b[0mnumpy\u001b[0m\u001b[0;34m.\u001b[0m\u001b[0mmemmap\u001b[0m\u001b[0;34m(\u001b[0m\u001b[0mself\u001b[0m\u001b[0;34m.\u001b[0m\u001b[0m_file_path\u001b[0m\u001b[0;34m,\u001b[0m \u001b[0mdtype\u001b[0m\u001b[0;34m=\u001b[0m\u001b[0mself\u001b[0m\u001b[0;34m.\u001b[0m\u001b[0m_dtype\u001b[0m\u001b[0;34m,\u001b[0m \u001b[0mmode\u001b[0m\u001b[0;34m=\u001b[0m\u001b[0;34m\"r\"\u001b[0m\u001b[0;34m)\u001b[0m\u001b[0;34m\u001b[0m\u001b[0;34m\u001b[0m\u001b[0m\n\u001b[0m\u001b[1;32m    114\u001b[0m             \u001b[0mself\u001b[0m\u001b[0;34m.\u001b[0m\u001b[0m_fallback\u001b[0m \u001b[0;34m=\u001b[0m \u001b[0;32mNone\u001b[0m\u001b[0;34m\u001b[0m\u001b[0;34m\u001b[0m\u001b[0m\n",
      "\u001b[0;32m~/miniconda3/envs/baum/lib/python3.8/site-packages/numpy/core/memmap.py\u001b[0m in \u001b[0;36m__new__\u001b[0;34m(subtype, filename, dtype, mode, offset, shape, order)\u001b[0m\n\u001b[1;32m    224\u001b[0m         \u001b[0;32melse\u001b[0m\u001b[0;34m:\u001b[0m\u001b[0;34m\u001b[0m\u001b[0;34m\u001b[0m\u001b[0m\n\u001b[0;32m--> 225\u001b[0;31m             \u001b[0mf_ctx\u001b[0m \u001b[0;34m=\u001b[0m \u001b[0mopen\u001b[0m\u001b[0;34m(\u001b[0m\u001b[0mos_fspath\u001b[0m\u001b[0;34m(\u001b[0m\u001b[0mfilename\u001b[0m\u001b[0;34m)\u001b[0m\u001b[0;34m,\u001b[0m \u001b[0;34m(\u001b[0m\u001b[0;34m'r'\u001b[0m \u001b[0;32mif\u001b[0m \u001b[0mmode\u001b[0m \u001b[0;34m==\u001b[0m \u001b[0;34m'c'\u001b[0m \u001b[0;32melse\u001b[0m \u001b[0mmode\u001b[0m\u001b[0;34m)\u001b[0m\u001b[0;34m+\u001b[0m\u001b[0;34m'b'\u001b[0m\u001b[0;34m)\u001b[0m\u001b[0;34m\u001b[0m\u001b[0;34m\u001b[0m\u001b[0m\n\u001b[0m\u001b[1;32m    226\u001b[0m \u001b[0;34m\u001b[0m\u001b[0m\n",
      "\u001b[0;31mFileNotFoundError\u001b[0m: [Errno 2] No such file or directory: '/nfs/dust/belle2/user/axelheim/MC_studies/my6modes/rootfiles/noSim_noReco/gamma_nTuples_mode0_10_events.root'",
      "\nDuring handling of the above exception, another exception occurred:\n",
      "\u001b[0;31mFileNotFoundError\u001b[0m                         Traceback (most recent call last)",
      "\u001b[0;32m~/miniconda3/envs/baum/lib/python3.8/site-packages/uproot/source/file.py\u001b[0m in \u001b[0;36m__init__\u001b[0;34m(self, file_path)\u001b[0m\n\u001b[1;32m     36\u001b[0m         \u001b[0;32mtry\u001b[0m\u001b[0;34m:\u001b[0m\u001b[0;34m\u001b[0m\u001b[0;34m\u001b[0m\u001b[0m\n\u001b[0;32m---> 37\u001b[0;31m             \u001b[0mself\u001b[0m\u001b[0;34m.\u001b[0m\u001b[0m_file\u001b[0m \u001b[0;34m=\u001b[0m \u001b[0mopen\u001b[0m\u001b[0;34m(\u001b[0m\u001b[0mself\u001b[0m\u001b[0;34m.\u001b[0m\u001b[0m_file_path\u001b[0m\u001b[0;34m,\u001b[0m \u001b[0;34m\"rb\"\u001b[0m\u001b[0;34m)\u001b[0m\u001b[0;34m\u001b[0m\u001b[0;34m\u001b[0m\u001b[0m\n\u001b[0m\u001b[1;32m     38\u001b[0m         \u001b[0;32mexcept\u001b[0m \u001b[0muproot\u001b[0m\u001b[0;34m.\u001b[0m\u001b[0m_util\u001b[0m\u001b[0;34m.\u001b[0m\u001b[0m_FileNotFoundError\u001b[0m\u001b[0;34m:\u001b[0m\u001b[0;34m\u001b[0m\u001b[0;34m\u001b[0m\u001b[0m\n",
      "\u001b[0;31mFileNotFoundError\u001b[0m: [Errno 2] No such file or directory: '/nfs/dust/belle2/user/axelheim/MC_studies/my6modes/rootfiles/noSim_noReco/gamma_nTuples_mode0_10_events.root'",
      "\nDuring handling of the above exception, another exception occurred:\n",
      "\u001b[0;31mFileNotFoundError\u001b[0m                         Traceback (most recent call last)",
      "\u001b[0;32m<ipython-input-3-8168da8310c6>\u001b[0m in \u001b[0;36m<module>\u001b[0;34m\u001b[0m\n\u001b[1;32m      9\u001b[0m \u001b[0;34m\u001b[0m\u001b[0m\n\u001b[1;32m     10\u001b[0m     \u001b[0mnm\u001b[0m \u001b[0;34m=\u001b[0m \u001b[0;34mf\"_nTuples_mode{mode}\"\u001b[0m \u001b[0;34m+\u001b[0m \u001b[0mevents_num_identifier\u001b[0m \u001b[0;34m+\u001b[0m \u001b[0;34m\".root\"\u001b[0m\u001b[0;34m\u001b[0m\u001b[0;34m\u001b[0m\u001b[0m\n\u001b[0;32m---> 11\u001b[0;31m     \u001b[0mraw_nTuples\u001b[0m \u001b[0;34m=\u001b[0m \u001b[0muproot\u001b[0m\u001b[0;34m.\u001b[0m\u001b[0mconcatenate\u001b[0m\u001b[0;34m(\u001b[0m\u001b[0;34m[\u001b[0m\u001b[0;34m(\u001b[0m\u001b[0mroot_path\u001b[0m \u001b[0;34m+\u001b[0m \u001b[0;34m\"gamma\"\u001b[0m \u001b[0;34m+\u001b[0m \u001b[0mnm\u001b[0m\u001b[0;34m)\u001b[0m\u001b[0;34m,\u001b[0m \u001b[0;34m(\u001b[0m\u001b[0mroot_path\u001b[0m \u001b[0;34m+\u001b[0m \u001b[0;34m\"pi\"\u001b[0m \u001b[0;34m+\u001b[0m \u001b[0mnm\u001b[0m\u001b[0;34m)\u001b[0m\u001b[0;34m,\u001b[0m \u001b[0;34m(\u001b[0m\u001b[0mroot_path\u001b[0m \u001b[0;34m+\u001b[0m \u001b[0;34m\"K\"\u001b[0m \u001b[0;34m+\u001b[0m \u001b[0mnm\u001b[0m\u001b[0;34m)\u001b[0m\u001b[0;34m]\u001b[0m\u001b[0;34m)\u001b[0m\u001b[0;34m\u001b[0m\u001b[0;34m\u001b[0m\u001b[0m\n\u001b[0m\u001b[1;32m     12\u001b[0m     \u001b[0mevent\u001b[0m \u001b[0;34m=\u001b[0m \u001b[0mnp\u001b[0m\u001b[0;34m.\u001b[0m\u001b[0marray\u001b[0m\u001b[0;34m(\u001b[0m\u001b[0mraw_nTuples\u001b[0m\u001b[0;34m[\u001b[0m\u001b[0;34m\"__event__\"\u001b[0m\u001b[0;34m]\u001b[0m\u001b[0;34m)\u001b[0m\u001b[0;34m\u001b[0m\u001b[0;34m\u001b[0m\u001b[0m\n\u001b[1;32m     13\u001b[0m     \u001b[0mmcPDG\u001b[0m \u001b[0;34m=\u001b[0m \u001b[0mnp\u001b[0m\u001b[0;34m.\u001b[0m\u001b[0marray\u001b[0m\u001b[0;34m(\u001b[0m\u001b[0mraw_nTuples\u001b[0m\u001b[0;34m[\u001b[0m\u001b[0;34m\"mcPDG\"\u001b[0m\u001b[0;34m]\u001b[0m\u001b[0;34m)\u001b[0m\u001b[0;34m\u001b[0m\u001b[0;34m\u001b[0m\u001b[0m\n",
      "\u001b[0;32m~/miniconda3/envs/baum/lib/python3.8/site-packages/uproot/behaviors/TBranch.py\u001b[0m in \u001b[0;36mconcatenate\u001b[0;34m(files, expressions, cut, filter_name, filter_typename, filter_branch, aliases, language, decompression_executor, interpretation_executor, library, how, custom_classes, allow_missing, **options)\u001b[0m\n\u001b[1;32m    361\u001b[0m     \u001b[0mglobal_start\u001b[0m \u001b[0;34m=\u001b[0m \u001b[0;36m0\u001b[0m\u001b[0;34m\u001b[0m\u001b[0;34m\u001b[0m\u001b[0m\n\u001b[1;32m    362\u001b[0m     \u001b[0;32mfor\u001b[0m \u001b[0mfile_path\u001b[0m\u001b[0;34m,\u001b[0m \u001b[0mobject_path\u001b[0m \u001b[0;32min\u001b[0m \u001b[0mfiles\u001b[0m\u001b[0;34m:\u001b[0m\u001b[0;34m\u001b[0m\u001b[0;34m\u001b[0m\u001b[0m\n\u001b[0;32m--> 363\u001b[0;31m         hasbranches = _regularize_object_path(\n\u001b[0m\u001b[1;32m    364\u001b[0m             \u001b[0mfile_path\u001b[0m\u001b[0;34m,\u001b[0m \u001b[0mobject_path\u001b[0m\u001b[0;34m,\u001b[0m \u001b[0mcustom_classes\u001b[0m\u001b[0;34m,\u001b[0m \u001b[0mallow_missing\u001b[0m\u001b[0;34m,\u001b[0m \u001b[0moptions\u001b[0m\u001b[0;34m\u001b[0m\u001b[0;34m\u001b[0m\u001b[0m\n\u001b[1;32m    365\u001b[0m         )\n",
      "\u001b[0;32m~/miniconda3/envs/baum/lib/python3.8/site-packages/uproot/behaviors/TBranch.py\u001b[0m in \u001b[0;36m_regularize_object_path\u001b[0;34m(file_path, object_path, custom_classes, allow_missing, options)\u001b[0m\n\u001b[1;32m   2926\u001b[0m \u001b[0;34m\u001b[0m\u001b[0m\n\u001b[1;32m   2927\u001b[0m     \u001b[0;32melse\u001b[0m\u001b[0;34m:\u001b[0m\u001b[0;34m\u001b[0m\u001b[0;34m\u001b[0m\u001b[0m\n\u001b[0;32m-> 2928\u001b[0;31m         file = uproot.reading.ReadOnlyFile(\n\u001b[0m\u001b[1;32m   2929\u001b[0m             \u001b[0mfile_path\u001b[0m\u001b[0;34m,\u001b[0m\u001b[0;34m\u001b[0m\u001b[0;34m\u001b[0m\u001b[0m\n\u001b[1;32m   2930\u001b[0m             \u001b[0mobject_cache\u001b[0m\u001b[0;34m=\u001b[0m\u001b[0;32mNone\u001b[0m\u001b[0;34m,\u001b[0m\u001b[0;34m\u001b[0m\u001b[0;34m\u001b[0m\u001b[0m\n",
      "\u001b[0;32m~/miniconda3/envs/baum/lib/python3.8/site-packages/uproot/reading.py\u001b[0m in \u001b[0;36m__init__\u001b[0;34m(self, file_path, object_cache, array_cache, custom_classes, decompression_executor, interpretation_executor, **options)\u001b[0m\n\u001b[1;32m    550\u001b[0m             \u001b[0mfile_path\u001b[0m\u001b[0;34m,\u001b[0m \u001b[0mself\u001b[0m\u001b[0;34m.\u001b[0m\u001b[0m_options\u001b[0m\u001b[0;34m\u001b[0m\u001b[0;34m\u001b[0m\u001b[0m\n\u001b[1;32m    551\u001b[0m         )\n\u001b[0;32m--> 552\u001b[0;31m         self._source = Source(\n\u001b[0m\u001b[1;32m    553\u001b[0m             \u001b[0mfile_path\u001b[0m\u001b[0;34m,\u001b[0m \u001b[0;34m**\u001b[0m\u001b[0mself\u001b[0m\u001b[0;34m.\u001b[0m\u001b[0m_options\u001b[0m  \u001b[0;31m# NOTE: a comma after **options breaks Python 2\u001b[0m\u001b[0;34m\u001b[0m\u001b[0;34m\u001b[0m\u001b[0m\n\u001b[1;32m    554\u001b[0m         )\n",
      "\u001b[0;32m~/miniconda3/envs/baum/lib/python3.8/site-packages/uproot/source/file.py\u001b[0m in \u001b[0;36m__init__\u001b[0;34m(self, file_path, **options)\u001b[0m\n\u001b[1;32m    107\u001b[0m \u001b[0;34m\u001b[0m\u001b[0m\n\u001b[1;32m    108\u001b[0m         \u001b[0mself\u001b[0m\u001b[0;34m.\u001b[0m\u001b[0m_file_path\u001b[0m \u001b[0;34m=\u001b[0m \u001b[0mfile_path\u001b[0m\u001b[0;34m\u001b[0m\u001b[0;34m\u001b[0m\u001b[0m\n\u001b[0;32m--> 109\u001b[0;31m         \u001b[0mself\u001b[0m\u001b[0;34m.\u001b[0m\u001b[0m_open\u001b[0m\u001b[0;34m(\u001b[0m\u001b[0;34m)\u001b[0m\u001b[0;34m\u001b[0m\u001b[0;34m\u001b[0m\u001b[0m\n\u001b[0m\u001b[1;32m    110\u001b[0m \u001b[0;34m\u001b[0m\u001b[0m\n\u001b[1;32m    111\u001b[0m     \u001b[0;32mdef\u001b[0m \u001b[0m_open\u001b[0m\u001b[0;34m(\u001b[0m\u001b[0mself\u001b[0m\u001b[0;34m)\u001b[0m\u001b[0;34m:\u001b[0m\u001b[0;34m\u001b[0m\u001b[0;34m\u001b[0m\u001b[0m\n",
      "\u001b[0;32m~/miniconda3/envs/baum/lib/python3.8/site-packages/uproot/source/file.py\u001b[0m in \u001b[0;36m_open\u001b[0;34m(self)\u001b[0m\n\u001b[1;32m    117\u001b[0m             \u001b[0mopts\u001b[0m \u001b[0;34m=\u001b[0m \u001b[0mdict\u001b[0m\u001b[0;34m(\u001b[0m\u001b[0mself\u001b[0m\u001b[0;34m.\u001b[0m\u001b[0m_fallback_opts\u001b[0m\u001b[0;34m)\u001b[0m\u001b[0;34m\u001b[0m\u001b[0;34m\u001b[0m\u001b[0m\n\u001b[1;32m    118\u001b[0m             \u001b[0mopts\u001b[0m\u001b[0;34m[\u001b[0m\u001b[0;34m\"num_workers\"\u001b[0m\u001b[0;34m]\u001b[0m \u001b[0;34m=\u001b[0m \u001b[0mself\u001b[0m\u001b[0;34m.\u001b[0m\u001b[0m_num_fallback_workers\u001b[0m\u001b[0;34m\u001b[0m\u001b[0;34m\u001b[0m\u001b[0m\n\u001b[0;32m--> 119\u001b[0;31m             self._fallback = uproot.source.file.MultithreadedFileSource(\n\u001b[0m\u001b[1;32m    120\u001b[0m                 \u001b[0mself\u001b[0m\u001b[0;34m.\u001b[0m\u001b[0m_file_path\u001b[0m\u001b[0;34m,\u001b[0m \u001b[0;34m**\u001b[0m\u001b[0mopts\u001b[0m  \u001b[0;31m# NOTE: a comma after **opts breaks Python 2\u001b[0m\u001b[0;34m\u001b[0m\u001b[0;34m\u001b[0m\u001b[0m\n\u001b[1;32m    121\u001b[0m             )\n",
      "\u001b[0;32m~/miniconda3/envs/baum/lib/python3.8/site-packages/uproot/source/file.py\u001b[0m in \u001b[0;36m__init__\u001b[0;34m(self, file_path, **options)\u001b[0m\n\u001b[1;32m    255\u001b[0m \u001b[0;34m\u001b[0m\u001b[0m\n\u001b[1;32m    256\u001b[0m         \u001b[0mself\u001b[0m\u001b[0;34m.\u001b[0m\u001b[0m_file_path\u001b[0m \u001b[0;34m=\u001b[0m \u001b[0mfile_path\u001b[0m\u001b[0;34m\u001b[0m\u001b[0;34m\u001b[0m\u001b[0m\n\u001b[0;32m--> 257\u001b[0;31m         \u001b[0mself\u001b[0m\u001b[0;34m.\u001b[0m\u001b[0m_open\u001b[0m\u001b[0;34m(\u001b[0m\u001b[0;34m)\u001b[0m\u001b[0;34m\u001b[0m\u001b[0;34m\u001b[0m\u001b[0m\n\u001b[0m\u001b[1;32m    258\u001b[0m \u001b[0;34m\u001b[0m\u001b[0m\n\u001b[1;32m    259\u001b[0m     \u001b[0;32mdef\u001b[0m \u001b[0m_open\u001b[0m\u001b[0;34m(\u001b[0m\u001b[0mself\u001b[0m\u001b[0;34m)\u001b[0m\u001b[0;34m:\u001b[0m\u001b[0;34m\u001b[0m\u001b[0;34m\u001b[0m\u001b[0m\n",
      "\u001b[0;32m~/miniconda3/envs/baum/lib/python3.8/site-packages/uproot/source/file.py\u001b[0m in \u001b[0;36m_open\u001b[0;34m(self)\u001b[0m\n\u001b[1;32m    259\u001b[0m     \u001b[0;32mdef\u001b[0m \u001b[0m_open\u001b[0m\u001b[0;34m(\u001b[0m\u001b[0mself\u001b[0m\u001b[0;34m)\u001b[0m\u001b[0;34m:\u001b[0m\u001b[0;34m\u001b[0m\u001b[0;34m\u001b[0m\u001b[0m\n\u001b[1;32m    260\u001b[0m         self._executor = uproot.source.futures.ResourceThreadPoolExecutor(\n\u001b[0;32m--> 261\u001b[0;31m             [\n\u001b[0m\u001b[1;32m    262\u001b[0m                 \u001b[0mFileResource\u001b[0m\u001b[0;34m(\u001b[0m\u001b[0mself\u001b[0m\u001b[0;34m.\u001b[0m\u001b[0m_file_path\u001b[0m\u001b[0;34m)\u001b[0m\u001b[0;34m\u001b[0m\u001b[0;34m\u001b[0m\u001b[0m\n\u001b[1;32m    263\u001b[0m                 \u001b[0;32mfor\u001b[0m \u001b[0mx\u001b[0m \u001b[0;32min\u001b[0m \u001b[0muproot\u001b[0m\u001b[0;34m.\u001b[0m\u001b[0m_util\u001b[0m\u001b[0;34m.\u001b[0m\u001b[0mrange\u001b[0m\u001b[0;34m(\u001b[0m\u001b[0mself\u001b[0m\u001b[0;34m.\u001b[0m\u001b[0m_num_workers\u001b[0m\u001b[0;34m)\u001b[0m\u001b[0;34m\u001b[0m\u001b[0;34m\u001b[0m\u001b[0m\n",
      "\u001b[0;32m~/miniconda3/envs/baum/lib/python3.8/site-packages/uproot/source/file.py\u001b[0m in \u001b[0;36m<listcomp>\u001b[0;34m(.0)\u001b[0m\n\u001b[1;32m    260\u001b[0m         self._executor = uproot.source.futures.ResourceThreadPoolExecutor(\n\u001b[1;32m    261\u001b[0m             [\n\u001b[0;32m--> 262\u001b[0;31m                 \u001b[0mFileResource\u001b[0m\u001b[0;34m(\u001b[0m\u001b[0mself\u001b[0m\u001b[0;34m.\u001b[0m\u001b[0m_file_path\u001b[0m\u001b[0;34m)\u001b[0m\u001b[0;34m\u001b[0m\u001b[0;34m\u001b[0m\u001b[0m\n\u001b[0m\u001b[1;32m    263\u001b[0m                 \u001b[0;32mfor\u001b[0m \u001b[0mx\u001b[0m \u001b[0;32min\u001b[0m \u001b[0muproot\u001b[0m\u001b[0;34m.\u001b[0m\u001b[0m_util\u001b[0m\u001b[0;34m.\u001b[0m\u001b[0mrange\u001b[0m\u001b[0;34m(\u001b[0m\u001b[0mself\u001b[0m\u001b[0;34m.\u001b[0m\u001b[0m_num_workers\u001b[0m\u001b[0;34m)\u001b[0m\u001b[0;34m\u001b[0m\u001b[0;34m\u001b[0m\u001b[0m\n\u001b[1;32m    264\u001b[0m             ]\n",
      "\u001b[0;32m~/miniconda3/envs/baum/lib/python3.8/site-packages/uproot/source/file.py\u001b[0m in \u001b[0;36m__init__\u001b[0;34m(self, file_path)\u001b[0m\n\u001b[1;32m     37\u001b[0m             \u001b[0mself\u001b[0m\u001b[0;34m.\u001b[0m\u001b[0m_file\u001b[0m \u001b[0;34m=\u001b[0m \u001b[0mopen\u001b[0m\u001b[0;34m(\u001b[0m\u001b[0mself\u001b[0m\u001b[0;34m.\u001b[0m\u001b[0m_file_path\u001b[0m\u001b[0;34m,\u001b[0m \u001b[0;34m\"rb\"\u001b[0m\u001b[0;34m)\u001b[0m\u001b[0;34m\u001b[0m\u001b[0;34m\u001b[0m\u001b[0m\n\u001b[1;32m     38\u001b[0m         \u001b[0;32mexcept\u001b[0m \u001b[0muproot\u001b[0m\u001b[0;34m.\u001b[0m\u001b[0m_util\u001b[0m\u001b[0;34m.\u001b[0m\u001b[0m_FileNotFoundError\u001b[0m\u001b[0;34m:\u001b[0m\u001b[0;34m\u001b[0m\u001b[0;34m\u001b[0m\u001b[0m\n\u001b[0;32m---> 39\u001b[0;31m             \u001b[0;32mraise\u001b[0m \u001b[0muproot\u001b[0m\u001b[0;34m.\u001b[0m\u001b[0m_util\u001b[0m\u001b[0;34m.\u001b[0m\u001b[0m_file_not_found\u001b[0m\u001b[0;34m(\u001b[0m\u001b[0mfile_path\u001b[0m\u001b[0;34m)\u001b[0m\u001b[0;34m\u001b[0m\u001b[0;34m\u001b[0m\u001b[0m\n\u001b[0m\u001b[1;32m     40\u001b[0m \u001b[0;34m\u001b[0m\u001b[0m\n\u001b[1;32m     41\u001b[0m     \u001b[0;34m@\u001b[0m\u001b[0mproperty\u001b[0m\u001b[0;34m\u001b[0m\u001b[0;34m\u001b[0m\u001b[0m\n",
      "\u001b[0;31mFileNotFoundError\u001b[0m: file not found\n\n    '/nfs/dust/belle2/user/axelheim/MC_studies/my6modes/rootfiles/noSim_noReco/gamma_nTuples_mode0_10_events.root'\n\nFiles may be specified as:\n   * str/bytes: relative or absolute filesystem path or URL, without any colons\n         other than Windows drive letter or URL schema.\n         Examples: \"rel/file.root\", \"C:\\abs\\file.root\", \"http://where/what.root\"\n   * str/bytes: same with an object-within-ROOT path, separated by a colon.\n         Example: \"rel/file.root:tdirectory/ttree\"\n   * pathlib.Path: always interpreted as a filesystem path or URL only (no\n         object-within-ROOT path), regardless of whether there are any colons.\n         Examples: Path(\"rel:/file.root\"), Path(\"/abs/path:stuff.root\")\n\nFunctions that accept many files (uproot.iterate, etc.) also allow:\n   * glob syntax in str/bytes and pathlib.Path.\n         Examples: Path(\"rel/*.root\"), \"/abs/*.root:tdirectory/ttree\"\n   * dict: keys are filesystem paths, values are objects-within-ROOT paths.\n         Example: {\"/data_v1/*.root\": \"ttree_v1\", \"/data_v2/*.root\": \"ttree_v2\"}\n   * already-open TTree objects.\n   * iterables of the above.\n"
     ]
    }
   ],
   "source": [
    "Bs_pdg_list = [-511, 511,-521,-521,521,521]\n",
    "Hc_pdg_list = [-411, 411, -411, -421, 411, 423]\n",
    "dfs =[]\n",
    "for mode in range(6):\n",
    "    print(\"mode:\",mode,mode,mode,mode,mode,mode,mode,mode,mode,mode,mode,mode,mode,mode,mode,mode,mode,mode,mode,mode,mode)\n",
    "    \n",
    "    Bs_pdg = Bs_pdg_list[mode]\n",
    "    Hc_pdg = Hc_pdg_list[mode]\n",
    "    \n",
    "    nm = f\"_nTuples_mode{mode}\" + events_num_identifier + \".root\"\n",
    "    raw_nTuples = uproot.concatenate([(root_path + \"gamma\" + nm), (root_path + \"pi\" + nm), (root_path + \"K\" + nm)])\n",
    "    event = np.array(raw_nTuples[\"__event__\"])\n",
    "    mcPDG = np.array(raw_nTuples[\"mcPDG\"])\n",
    "    px = np.array(raw_nTuples[\"px\"])\n",
    "    py = np.array(raw_nTuples[\"py\"])\n",
    "    pz = np.array(raw_nTuples[\"pz\"])\n",
    "    E = np.array(raw_nTuples[\"E\"])\n",
    "    M = np.array(raw_nTuples[\"M\"])\n",
    "    charge = np.array(raw_nTuples[\"charge\"])\n",
    "    #mcPDG = np.array(raw_nTuples[\"kaonID\"])\n",
    "    #mcPDG = np.array(raw_nTuples[\"pionID\"])\n",
    "    genMotherPDG0 = np.array(raw_nTuples[\"genMotherPDG__bo0__bc\"])\n",
    "    genMotherPDG1 = np.array(raw_nTuples[\"genMotherPDG__bo1__bc\"])\n",
    "    genMotherPDG2 = np.array(raw_nTuples[\"genMotherPDG__bo2__bc\"])\n",
    "    genMotherPDG3 = np.array(raw_nTuples[\"genMotherPDG__bo3__bc\"])\n",
    "    \n",
    "    #u,c = np.unique(event,return_counts=True)\n",
    "    #print('\\n entries per event:',u,c)\n",
    "    \n",
    "    \n",
    "    df = pd.DataFrame({\"event\" : event,\n",
    "                   \"mcPDG\" : mcPDG,\n",
    "                   \"px\" : px,\n",
    "                   \"py\" : py,\n",
    "                   \"pz\" : pz,\n",
    "                   \"E\" : E,\n",
    "                   #\"M\" : M,\n",
    "                   \"charge\" : charge,\n",
    "                   \"genMotherPDG0\" : genMotherPDG0,\n",
    "                   \"genMotherPDG1\" : genMotherPDG1,\n",
    "                   \"genMotherPDG2\" : genMotherPDG2,\n",
    "                   \"genMotherPDG3\" : genMotherPDG3})\n",
    "    df['label'] = df.apply(conditions, axis=1)\n",
    "    \n",
    "    #print(df)\n",
    "    \n",
    "    dfs.append(df)\n",
    "    print('\\n')\n",
    "    \n",
    "    label_cut_names = [\"BsHc\",\"XHc\",\"BsX\",\"BsXHc\"]\n",
    "    for label_cut, label_cut_name in enumerate(label_cut_names):\n",
    "        print(label_cut,label_cut_name)\n",
    "        #print(df.describe())\n",
    "\n",
    "        df_cut = df.copy()\n",
    "        if label_cut != \"BsXHc\":\n",
    "            df_cut = df_cut[df_cut.label != label_cut]\n",
    "            \n",
    "            #important to fix labels (no gap in label classes allowed for NN)\n",
    "            if label_cut<2: \n",
    "                mask = df_cut.label == 2\n",
    "                column_name = 'label'\n",
    "                df_cut.loc[mask, column_name] = label_cut\n",
    "                #df_cut[df_cut.label == 2] = label_cut\n",
    "\n",
    "       # print(df_cut.describe())\n",
    "        \n",
    "        # read out data to save it\n",
    "        event_tmp = df_cut.copy()        \n",
    "        event_tmp = event_tmp[event_tmp.event == 1]\n",
    "        #print(event_tmp.describe())\n",
    "        \n",
    "        num_FSPs_toData = len(event_tmp)\n",
    "        numEvents = df_cut.event.max()\n",
    "        num_features = 3\n",
    "        print(\"numEvents:\",numEvents)\n",
    "        print(\"num_FSPs_toData:\",num_FSPs_toData)  \n",
    "\n",
    "        leaves = np.zeros((numEvents, num_FSPs_toData,  num_features))  \n",
    "        SA_target =  np.zeros((numEvents, num_FSPs_toData))\n",
    "        global_tag = np.chararray((numEvents, num_FSPs_toData + 1), itemsize=30)\n",
    "        #global_tag[:,-1] = str(mode)\n",
    "\n",
    "        for i in range(numEvents):\n",
    "            event_iter = i + 1\n",
    "\n",
    "            global_tag_masterInfo = str(mode) + \"_evt\" + str(event_iter)\n",
    "            global_tag[i,-1] = global_tag_masterInfo\n",
    "            #print(\"global_tag[i,-1]:\",global_tag[i,-1])\n",
    "            #event_df = df_cut.copy()\n",
    "            #event_df = event_df[event_df.event == event_iter]\n",
    "            event_df = df_cut[df_cut.event == event_iter]\n",
    "\n",
    "            for j in range(num_FSPs_toData):\n",
    "\n",
    "                particle = event_df.iloc[j]\n",
    "\n",
    "                #print(particle[\"mcPDG\"],particle[\"px\"],particle[\"py\"],particle[\"pz\"],particle[\"E\"])\n",
    "                leaves[i,j,0] = particle[\"px\"]\n",
    "                leaves[i,j,1] = particle[\"py\"]\n",
    "                leaves[i,j,2] = particle[\"pz\"]\n",
    "                #leaves[i,j,3] = particle[\"E\"]\n",
    "\n",
    "                global_tag[i,j] = int(particle[\"mcPDG\"])\n",
    "                SA_target[i,j] = int(particle[\"label\"])\n",
    "        \n",
    "        del event_tmp,df_cut\n",
    "\n",
    "        for idx in np.arange(leaves.shape[0]):   # arange is like range but gives ndarray instead of list\n",
    "            perms = np.random.permutation(leaves.shape[1])\n",
    "\n",
    "            leaves[idx,:] = leaves[idx,perms]\n",
    "            SA_target[idx,:] = SA_target[idx,perms]\n",
    "            global_tag[idx,0:-1] = global_tag[idx,perms]\n",
    "\n",
    "        data_subdir = \"noSim_noReco_\" + label_cut_name + events_num_identifier +  \"/\"        \n",
    "        data_dir = Path(\"/nfs/dust/belle2/user/axelheim/MC_studies/my6modes/data/\" + data_subdir)    \n",
    "        data_dir.mkdir(parents=True, exist_ok=True)\n",
    "\n",
    "\n",
    "        train_ratio = 0.75\n",
    "        validation_ratio = 0.15\n",
    "        test_ratio = 0.10\n",
    "\n",
    "        x=leaves\n",
    "        y=SA_target\n",
    "        z=global_tag\n",
    "\n",
    "        x_train, x_test, y_train, y_test, z_train, z_test = train_test_split(x, y, z, test_size=1 - train_ratio, shuffle=False)\n",
    "        x_val, x_test, y_val, y_test, z_val, z_test = train_test_split(x_test, y_test, z_test, test_size=test_ratio/(test_ratio + validation_ratio), shuffle=False) \n",
    "\n",
    "\n",
    "        np.save(data_dir / \"leaves_train_{}.npy\".format(mode), x_train)\n",
    "        np.save(data_dir / \"is_left_arr_train_{}.npy\".format(mode), y_train)\n",
    "        np.save(data_dir / \"global_tag_train_{}.npy\".format(mode), z_train)\n",
    "\n",
    "        np.save(data_dir / \"leaves_val_{}.npy\".format(mode), x_val)\n",
    "        np.save(data_dir / \"is_left_arr_val_{}.npy\".format(mode), y_val)\n",
    "        np.save(data_dir / \"global_tag_val_{}.npy\".format(mode), z_val)\n",
    "\n",
    "        np.save(data_dir / \"leaves_test_{}.npy\".format(mode), x_test)\n",
    "        np.save(data_dir / \"is_left_arr_test_{}.npy\".format(mode), y_test)\n",
    "        np.save(data_dir / \"global_tag_test_{}.npy\".format(mode), z_test)\n",
    "\n",
    "\n",
    "        print(\"Data saved to:\", data_dir,'\\n')"
   ]
  },
  {
   "cell_type": "code",
   "execution_count": null,
   "metadata": {},
   "outputs": [],
   "source": [
    "print(df_cut.describe())\n"
   ]
  },
  {
   "cell_type": "code",
   "execution_count": null,
   "metadata": {},
   "outputs": [],
   "source": [
    "print(event_tmp)"
   ]
  },
  {
   "cell_type": "code",
   "execution_count": null,
   "metadata": {},
   "outputs": [],
   "source": [
    "label_cut_names = [\"BsHc\",\"XHc\",\"BsX\",\"BsXHc\"]\n",
    "for i,df in enumerate(dfs):\n",
    "    print(\"mode:\",i,i,i,i,i,i,i,i,i,i,i,i,i,i,i,i)\n",
    "    for label_cut, label_cut_name in enumerate(label_cut_names):\n",
    "        print(label_cut,label_cut_name)\n",
    "\n",
    "        if label_cut != \"BsXHc\":\n",
    "            df_cut = df[df.label != label_cut]\n",
    "        else:\n",
    "            df_cut = df\n",
    "\n",
    "        event_tmp = df_cut[df_cut.event == 1]    \n",
    "        num_FSPs_toData = len(event_tmp)\n",
    "        numEvents = df_cut.event.max()\n",
    "\n",
    "        print(\"numEvents:\",numEvents)\n",
    "        print(\"num_FSPs_toData:\",num_FSPs_toData)    "
   ]
  },
  {
   "cell_type": "code",
   "execution_count": null,
   "metadata": {},
   "outputs": [],
   "source": [
    "df[(df.event==1)]"
   ]
  },
  {
   "cell_type": "code",
   "execution_count": null,
   "metadata": {},
   "outputs": [],
   "source": [
    "df = pd.DataFrame({\"event\" : event,\n",
    "               \"mcPDG\" : mcPDG,\n",
    "               \"px\" : px,\n",
    "               \"py\" : py,\n",
    "               \"pz\" : pz,\n",
    "               \"E\" : E,\n",
    "               #\"M\" : M,\n",
    "               \"charge\" : charge,\n",
    "               \"genMotherPDG0\" : genMotherPDG0,\n",
    "               \"genMotherPDG1\" : genMotherPDG1,\n",
    "               \"genMotherPDG2\" : genMotherPDG2,\n",
    "               \"genMotherPDG3\" : genMotherPDG3})\n",
    "df['label'] = df.apply(conditions, axis=1)\n",
    "df"
   ]
  },
  {
   "cell_type": "code",
   "execution_count": null,
   "metadata": {},
   "outputs": [],
   "source": [
    "\n",
    "#df[(df.label==0) & (df['mode']==mode)]\n",
    "subset = df[(df.event==1) & (df.label!=1)]\n",
    "#df.loc[df['A'] > 2, 'B'] = new_val\n",
    "#subset.__setitem__((subset.label == 2, 'label'), 1)\n",
    "subset.__getitem__(subset.label == 2).__setitem__(\"label\", 1)\n",
    "#subset.loc[subset.label == 2,'label'] = 1\n",
    "subset"
   ]
  },
  {
   "cell_type": "code",
   "execution_count": null,
   "metadata": {},
   "outputs": [],
   "source": [
    "subset = df[(df.event==1) & (df.label!=1)]\n",
    "subset.label == 2"
   ]
  },
  {
   "cell_type": "code",
   "execution_count": null,
   "metadata": {},
   "outputs": [],
   "source": [
    "l = 14\n",
    "print(leaves[l])\n",
    "print(SA_target[l])\n",
    "print(global_tag[l])"
   ]
  },
  {
   "cell_type": "code",
   "execution_count": null,
   "metadata": {},
   "outputs": [],
   "source": [
    "event_df = df[df.event == 15]\n",
    "event_df.iloc[3][\"mcPDG\"]"
   ]
  },
  {
   "cell_type": "code",
   "execution_count": null,
   "metadata": {},
   "outputs": [],
   "source": [
    "event_df"
   ]
  },
  {
   "cell_type": "code",
   "execution_count": null,
   "metadata": {},
   "outputs": [],
   "source": [
    "df = dfs[5]\n",
    "event_df = df[df.event == 1]\n",
    "event_df"
   ]
  },
  {
   "cell_type": "code",
   "execution_count": null,
   "metadata": {},
   "outputs": [],
   "source": []
  },
  {
   "cell_type": "code",
   "execution_count": null,
   "metadata": {},
   "outputs": [],
   "source": [
    "\n",
    "\n"
   ]
  },
  {
   "cell_type": "code",
   "execution_count": null,
   "metadata": {},
   "outputs": [],
   "source": []
  },
  {
   "cell_type": "code",
   "execution_count": null,
   "metadata": {},
   "outputs": [],
   "source": [
    "u,c = np.unique(event,return_counts=True)\n",
    "print('\\n entries per event:',u,c)\n",
    "\n",
    "print(mcPDG)\n",
    "\n",
    "print(event)"
   ]
  },
  {
   "cell_type": "code",
   "execution_count": null,
   "metadata": {},
   "outputs": [],
   "source": []
  },
  {
   "cell_type": "code",
   "execution_count": null,
   "metadata": {},
   "outputs": [],
   "source": []
  },
  {
   "cell_type": "code",
   "execution_count": null,
   "metadata": {},
   "outputs": [],
   "source": []
  },
  {
   "cell_type": "code",
   "execution_count": null,
   "metadata": {},
   "outputs": [],
   "source": []
  },
  {
   "cell_type": "code",
   "execution_count": null,
   "metadata": {},
   "outputs": [],
   "source": []
  },
  {
   "cell_type": "code",
   "execution_count": null,
   "metadata": {},
   "outputs": [],
   "source": []
  }
 ],
 "metadata": {
  "kernelspec": {
   "display_name": "Python 3",
   "language": "python",
   "name": "python3"
  },
  "language_info": {
   "codemirror_mode": {
    "name": "ipython",
    "version": 3
   },
   "file_extension": ".py",
   "mimetype": "text/x-python",
   "name": "python",
   "nbconvert_exporter": "python",
   "pygments_lexer": "ipython3",
   "version": "3.8.6"
  }
 },
 "nbformat": 4,
 "nbformat_minor": 4
}
