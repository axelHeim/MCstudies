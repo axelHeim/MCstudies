{
 "cells": [
  {
   "cell_type": "code",
   "execution_count": 2,
   "id": "be1cc7b2",
   "metadata": {},
   "outputs": [],
   "source": [
    "import matplotlib.pyplot as plt\n",
    "import uproot\n",
    "import numpy as np\n",
    "import pandas as pd\n",
    "\n",
    "\n",
    "from datetime import datetime\n",
    "from pathlib import Path\n",
    "from sklearn.model_selection import train_test_split\n",
    "\n",
    "\n",
    "import sys\n",
    "sys.path.insert(1, '/afs/desy.de/user/a/axelheim/private/MC_studies/Dstlnu_Bt_generic/util_funcs/')\n",
    "from pandas_colFuncs import B_ID, whichBisSig, D0_decay_type, whichBisSig_NAHS"
   ]
  },
  {
   "cell_type": "markdown",
   "id": "f9cba66b",
   "metadata": {},
   "source": [
    "## set paths and conditions"
   ]
  },
  {
   "cell_type": "code",
   "execution_count": 3,
   "id": "44094698",
   "metadata": {},
   "outputs": [],
   "source": [
    "save_data = True\n",
    "\n",
    "delete_top_numFSP_evts=True"
   ]
  },
  {
   "cell_type": "code",
   "execution_count": 4,
   "id": "8a78515e",
   "metadata": {},
   "outputs": [],
   "source": [
    "nfs_path = \"/nfs/dust/belle2/user/axelheim/MC_studies/ROEcleanup/caupi/\""
   ]
  },
  {
   "cell_type": "code",
   "execution_count": 5,
   "id": "4f402dea",
   "metadata": {},
   "outputs": [],
   "source": [
    "data_savedir = \"data/Bsig_isSig1/\"\n",
    "rawData_subdir = \"onlineRawData/Bsig_isSig1/\"  "
   ]
  },
  {
   "cell_type": "markdown",
   "id": "4779179e",
   "metadata": {},
   "source": [
    "## load the raw data"
   ]
  },
  {
   "cell_type": "code",
   "execution_count": 52,
   "id": "78eb4586",
   "metadata": {},
   "outputs": [],
   "source": [
    "fileFSPs = uproot.open(nfs_path + rawData_subdir + \"FSPs.root:variables\")"
   ]
  },
  {
   "cell_type": "code",
   "execution_count": 53,
   "id": "f22c8051",
   "metadata": {},
   "outputs": [
    {
     "data": {
      "text/plain": [
       "2441440"
      ]
     },
     "execution_count": 53,
     "metadata": {},
     "output_type": "execute_result"
    }
   ],
   "source": [
    "df_FSPs = fileFSPs.arrays(library=\"pd\")\n",
    "df_FSPs.shape[0]"
   ]
  },
  {
   "cell_type": "code",
   "execution_count": 50,
   "id": "e7f0f774",
   "metadata": {},
   "outputs": [],
   "source": [
    "Bsig_cand_File = uproot.open(nfs_path + rawData_subdir +  \"Bsig_cand.root:variables\")"
   ]
  },
  {
   "cell_type": "code",
   "execution_count": 54,
   "id": "71ea623c",
   "metadata": {},
   "outputs": [
    {
     "data": {
      "text/plain": [
       "213977"
      ]
     },
     "execution_count": 54,
     "metadata": {},
     "output_type": "execute_result"
    }
   ],
   "source": [
    "Bsig_cand_df = Bsig_cand_File.arrays(library=\"pd\")\n",
    "Bsig_cand_df.shape[0]"
   ]
  },
  {
   "cell_type": "markdown",
   "id": "2356b083",
   "metadata": {},
   "source": [
    "## overview of data properties"
   ]
  },
  {
   "cell_type": "code",
   "execution_count": 55,
   "id": "5c037749",
   "metadata": {},
   "outputs": [
    {
     "name": "stdout",
     "output_type": "stream",
     "text": [
      "FSPs per event: 11.42\n",
      "non Bsig FSPs per event: 8.14\n"
     ]
    }
   ],
   "source": [
    "FSPs_noDuplis = df_FSPs.drop_duplicates(subset=(\"uniqueParticleIdentifier\",\"__event__\"), keep='first')\n",
    "nonBsig_FSPs = FSPs_noDuplis[FSPs_noDuplis[\"Bsig_used\"] == 0]\n",
    "#df_FSPs.groupby([\"uniqueParticleIdentifier\",'__event__', '__production__']).ngroups\n",
    "\n",
    "print(\"FSPs per event:\", round(FSPs_noDuplis.shape[0] / FSPs_noDuplis[\"__event__\"].nunique(), 2))\n",
    "print(\"non Bsig FSPs per event:\", round(nonBsig_FSPs.shape[0] / nonBsig_FSPs[\"__event__\"].nunique(), 2))"
   ]
  },
  {
   "cell_type": "code",
   "execution_count": 56,
   "id": "70fa6ea8",
   "metadata": {},
   "outputs": [
    {
     "data": {
      "text/plain": [
       "<AxesSubplot:>"
      ]
     },
     "execution_count": 56,
     "metadata": {},
     "output_type": "execute_result"
    },
    {
     "data": {
      "image/png": "[encoded data removed]",
      "text/plain": [
       "<Figure size 432x288 with 1 Axes>"
      ]
     },
     "metadata": {
      "needs_background": "light"
     },
     "output_type": "display_data"
    }
   ],
   "source": [
    "bins = np.linspace(0, 25, 24)\n",
    "\n",
    "numberOfFSPs = pd.DataFrame({'numFSPs' : nonBsig_FSPs.groupby( [\"__event__\"] ).size()}).reset_index()\n",
    "numberOfFSPs[\"numFSPs\"].hist(bins=bins)"
   ]
  },
  {
   "cell_type": "code",
   "execution_count": 57,
   "id": "665f33be",
   "metadata": {},
   "outputs": [
    {
     "data": {
      "text/plain": [
       "1.0"
      ]
     },
     "execution_count": 57,
     "metadata": {},
     "output_type": "execute_result"
    }
   ],
   "source": [
    "Bsig_cand_df['Bsig_isSignal'].mean()"
   ]
  },
  {
   "cell_type": "code",
   "execution_count": 58,
   "id": "58d33d89",
   "metadata": {},
   "outputs": [
    {
     "data": {
      "text/plain": [
       "213977"
      ]
     },
     "execution_count": 58,
     "metadata": {},
     "output_type": "execute_result"
    }
   ],
   "source": [
    "Bsig_cand_df.shape[0]"
   ]
  },
  {
   "cell_type": "code",
   "execution_count": null,
   "id": "90e14a9b",
   "metadata": {},
   "outputs": [],
   "source": []
  },
  {
   "cell_type": "code",
   "execution_count": null,
   "id": "034a4652",
   "metadata": {},
   "outputs": [],
   "source": []
  },
  {
   "cell_type": "markdown",
   "id": "3449882f",
   "metadata": {},
   "source": [
    "# pre selection and labeling"
   ]
  },
  {
   "cell_type": "markdown",
   "id": "b88f555e",
   "metadata": {},
   "source": [
    "### delete FSP duplicates and Bsig descendants"
   ]
  },
  {
   "cell_type": "code",
   "execution_count": 59,
   "id": "b784bf0b",
   "metadata": {},
   "outputs": [],
   "source": [
    "FSPs_noDuplis = df_FSPs.drop_duplicates(subset=(\"uniqueParticleIdentifier\",\"__event__\"), keep='first')\n",
    "nonBsig_FSPs = FSPs_noDuplis[FSPs_noDuplis[\"Bsig_used\"] == 0]"
   ]
  },
  {
   "cell_type": "markdown",
   "id": "054a25cb",
   "metadata": {},
   "source": [
    "### which B is Bsig? and is it the real D*lv one?"
   ]
  },
  {
   "cell_type": "code",
   "execution_count": 60,
   "id": "361b2625",
   "metadata": {},
   "outputs": [],
   "source": [
    "Bsig_cand_df['Bsig_uniqParID'] = Bsig_cand_df.apply(whichBisSig_NAHS, axis=1)"
   ]
  },
  {
   "cell_type": "code",
   "execution_count": 61,
   "id": "dbfce499",
   "metadata": {
    "scrolled": true
   },
   "outputs": [
    {
     "data": {
      "text/plain": [
       "83886081.0    121083\n",
       "83886082.0     92894\n",
       "Name: Bsig_uniqParID, dtype: int64"
      ]
     },
     "execution_count": 61,
     "metadata": {},
     "output_type": "execute_result"
    }
   ],
   "source": [
    "Bsig_cand_df['Bsig_uniqParID'].value_counts()"
   ]
  },
  {
   "cell_type": "markdown",
   "id": "f8c00bbe",
   "metadata": {},
   "source": [
    "### label and filter D0 modes"
   ]
  },
  {
   "cell_type": "code",
   "execution_count": 62,
   "id": "4d30a1ee",
   "metadata": {},
   "outputs": [],
   "source": [
    "Bsig_cand_df['D0_decay'] = Bsig_cand_df.apply(D0_decay_type, axis=1)"
   ]
  },
  {
   "cell_type": "code",
   "execution_count": 63,
   "id": "12b990be",
   "metadata": {},
   "outputs": [
    {
     "data": {
      "text/plain": [
       "Kpipi0        77910\n",
       "Kpi           71053\n",
       "notWanted     48417\n",
       "Kpipipi       15055\n",
       "Kpipipipi0     1542\n",
       "Name: D0_decay, dtype: int64"
      ]
     },
     "execution_count": 63,
     "metadata": {},
     "output_type": "execute_result"
    }
   ],
   "source": [
    "Bsig_cand_df['D0_decay'].value_counts()"
   ]
  },
  {
   "cell_type": "code",
   "execution_count": 105,
   "id": "0e9411b7",
   "metadata": {},
   "outputs": [
    {
     "data": {
      "text/plain": [
       "109902"
      ]
     },
     "execution_count": 105,
     "metadata": {},
     "output_type": "execute_result"
    }
   ],
   "source": [
    "Bsig_cand_df = Bsig_cand_df[Bsig_cand_df['D0_decay'] != \"notWanted\"]\n",
    "Bsig_cand_df.shape[0]"
   ]
  },
  {
   "cell_type": "code",
   "execution_count": 107,
   "id": "8e3cb5f6",
   "metadata": {},
   "outputs": [
    {
     "name": "stdout",
     "output_type": "stream",
     "text": [
      "1039115\n",
      "132863\n",
      "860640\n",
      "109901\n"
     ]
    }
   ],
   "source": [
    "print(nonBsig_FSPs.shape[0])\n",
    "print(nonBsig_FSPs[\"__event__\"].nunique())\n",
    "\n",
    "\n",
    "nonBsig_FSPs = nonBsig_FSPs[nonBsig_FSPs['__event__'].isin(Bsig_cand_df[\"__event__\"])]\n",
    "\n",
    "\n",
    "print(nonBsig_FSPs.shape[0])\n",
    "print(nonBsig_FSPs[\"__event__\"].nunique())"
   ]
  },
  {
   "cell_type": "markdown",
   "id": "b2aee6c9",
   "metadata": {},
   "source": [
    "## label FSPs"
   ]
  },
  {
   "cell_type": "code",
   "execution_count": 65,
   "id": "795b1713",
   "metadata": {},
   "outputs": [
    {
     "name": "stdout",
     "output_type": "stream",
     "text": [
      "1738670\n",
      "1741915\n"
     ]
    }
   ],
   "source": [
    "print(nonBsig_FSPs.shape[0])\n",
    "nonBsig_FSPs = pd.merge(nonBsig_FSPs, Bsig_cand_df[[\"__event__\",\"Bsig_uniqParID\"]], on=\"__event__\")\n",
    "print(nonBsig_FSPs.shape[0])"
   ]
  },
  {
   "cell_type": "code",
   "execution_count": 66,
   "id": "8a39f100",
   "metadata": {},
   "outputs": [],
   "source": [
    "nonBsig_FSPs['B_ID'] = nonBsig_FSPs.apply(B_ID, axis=1)"
   ]
  },
  {
   "cell_type": "code",
   "execution_count": 67,
   "id": "24cb6c84",
   "metadata": {},
   "outputs": [],
   "source": [
    "def labels(s):\n",
    "    label = -1\n",
    "    if int(s['B_ID']) == 0:\n",
    "        label = 0 # background, cause not related to MC Particles\n",
    "    else: \n",
    "        B_sigID = s['Bsig_uniqParID']\n",
    "        \n",
    "        if int(s['B_ID']) == B_sigID:\n",
    "            label = 2 # Bsig\n",
    "        else:\n",
    "            label = 1 # Btag\n",
    "    return label"
   ]
  },
  {
   "cell_type": "code",
   "execution_count": 68,
   "id": "267acdb9",
   "metadata": {},
   "outputs": [],
   "source": [
    "nonBsig_FSPs['label'] = nonBsig_FSPs.apply(labels, axis=1)"
   ]
  },
  {
   "cell_type": "code",
   "execution_count": 69,
   "id": "92d6238d",
   "metadata": {
    "scrolled": true
   },
   "outputs": [
    {
     "data": {
      "text/plain": [
       "1    1200701\n",
       "0     391619\n",
       "2     149595\n",
       "Name: label, dtype: int64"
      ]
     },
     "execution_count": 69,
     "metadata": {},
     "output_type": "execute_result"
    }
   ],
   "source": [
    "nonBsig_FSPs['label'].value_counts()"
   ]
  },
  {
   "cell_type": "code",
   "execution_count": 70,
   "id": "fdf85d29",
   "metadata": {
    "scrolled": true
   },
   "outputs": [
    {
     "data": {
      "text/plain": [
       "1    0.689299\n",
       "0    0.224821\n",
       "2    0.085880\n",
       "Name: label, dtype: float64"
      ]
     },
     "execution_count": 70,
     "metadata": {},
     "output_type": "execute_result"
    }
   ],
   "source": [
    "nonBsig_FSPs['label'].value_counts(normalize=True)"
   ]
  },
  {
   "cell_type": "markdown",
   "id": "0b09bc0d",
   "metadata": {},
   "source": [
    "## new step: only for Bsig isSig==1, check which evts still have label==2, despite Bsig isSig==1"
   ]
  },
  {
   "cell_type": "code",
   "execution_count": 73,
   "id": "2ade72eb",
   "metadata": {},
   "outputs": [],
   "source": [
    "label2_FSPs = nonBsig_FSPs[nonBsig_FSPs['label']==2]"
   ]
  },
  {
   "cell_type": "code",
   "execution_count": 74,
   "id": "e0d1810b",
   "metadata": {},
   "outputs": [],
   "source": [
    "TMP_nonLabel2_FSPs = nonBsig_FSPs[~nonBsig_FSPs['__event__'].isin(label2_FSPs[\"__event__\"])]"
   ]
  },
  {
   "cell_type": "code",
   "execution_count": 75,
   "id": "f33f9117",
   "metadata": {},
   "outputs": [
    {
     "data": {
      "text/plain": [
       "1    799956\n",
       "0    243498\n",
       "Name: label, dtype: int64"
      ]
     },
     "execution_count": 75,
     "metadata": {},
     "output_type": "execute_result"
    }
   ],
   "source": [
    "TMP_nonLabel2_FSPs[\"label\"].value_counts()"
   ]
  },
  {
   "cell_type": "code",
   "execution_count": 76,
   "id": "47342faa",
   "metadata": {},
   "outputs": [
    {
     "data": {
      "text/plain": [
       "133055"
      ]
     },
     "execution_count": 76,
     "metadata": {},
     "output_type": "execute_result"
    }
   ],
   "source": [
    "TMP_nonLabel2_FSPs[\"__event__\"].nunique()"
   ]
  },
  {
   "cell_type": "code",
   "execution_count": 77,
   "id": "c1d9c1c7",
   "metadata": {},
   "outputs": [],
   "source": [
    "Bsig_cand_df_tmp = Bsig_cand_df[Bsig_cand_df['__event__'].isin(TMP_nonLabel2_FSPs[\"__event__\"])]"
   ]
  },
  {
   "cell_type": "code",
   "execution_count": 78,
   "id": "241849f0",
   "metadata": {},
   "outputs": [
    {
     "data": {
      "text/plain": [
       "133100"
      ]
     },
     "execution_count": 78,
     "metadata": {},
     "output_type": "execute_result"
    }
   ],
   "source": [
    "Bsig_cand_df_tmp.shape[0]"
   ]
  },
  {
   "cell_type": "code",
   "execution_count": 80,
   "id": "e31b2ecd",
   "metadata": {},
   "outputs": [
    {
     "data": {
      "text/plain": [
       "Kpipi0        53082\n",
       "Kpi           47187\n",
       "notWanted     23004\n",
       "Kpipipi        8974\n",
       "Kpipipipi0      853\n",
       "Name: D0_decay, dtype: int64"
      ]
     },
     "execution_count": 80,
     "metadata": {},
     "output_type": "execute_result"
    }
   ],
   "source": [
    "Bsig_cand_df_tmp['D0_decay'].value_counts()"
   ]
  },
  {
   "cell_type": "code",
   "execution_count": 81,
   "id": "3e95c23f",
   "metadata": {},
   "outputs": [],
   "source": [
    "Bsig_cand_df = Bsig_cand_df_tmp\n",
    "nonBsig_FSPs = TMP_nonLabel2_FSPs"
   ]
  },
  {
   "cell_type": "markdown",
   "id": "0b17437a",
   "metadata": {},
   "source": [
    "### check max num FSPs per event"
   ]
  },
  {
   "cell_type": "code",
   "execution_count": 82,
   "id": "de8f51a2",
   "metadata": {},
   "outputs": [
    {
     "data": {
      "text/plain": [
       "<AxesSubplot:>"
      ]
     },
     "execution_count": 82,
     "metadata": {},
     "output_type": "execute_result"
    },
    {
     "data": {
      "image/png": "[encoded data removed]",
      "text/plain": [
       "<Figure size 432x288 with 1 Axes>"
      ]
     },
     "metadata": {
      "needs_background": "light"
     },
     "output_type": "display_data"
    }
   ],
   "source": [
    "numberFSPsEvts = pd.DataFrame({'count' : nonBsig_FSPs.groupby([\"__event__\"]).size()}).reset_index()\n",
    "numberFSPsEvts['count'].hist()"
   ]
  },
  {
   "cell_type": "code",
   "execution_count": 83,
   "id": "fc8312c8",
   "metadata": {},
   "outputs": [
    {
     "data": {
      "text/plain": [
       "42"
      ]
     },
     "execution_count": 83,
     "metadata": {},
     "output_type": "execute_result"
    }
   ],
   "source": [
    "numberFSPsEvts['count'].max()"
   ]
  },
  {
   "cell_type": "markdown",
   "id": "3c48512a",
   "metadata": {},
   "source": [
    "## delete delete_top_numFSP_evts"
   ]
  },
  {
   "cell_type": "code",
   "execution_count": 87,
   "id": "e687919a",
   "metadata": {},
   "outputs": [
    {
     "name": "stdout",
     "output_type": "stream",
     "text": [
      "original max FSPs: 42\n",
      "0.995\n",
      "would delete 0.0 % of evts\n",
      "new max FSPs: 17\n",
      "0.996\n",
      "would delete 0.0 % of evts\n",
      "new max FSPs: 17\n",
      "0.997\n",
      "would delete 0.0 % of evts\n",
      "new max FSPs: 17\n",
      "0.998\n",
      "would delete 0.0 % of evts\n",
      "new max FSPs: 18\n",
      "0.999\n",
      "would delete 0.0 % of evts\n",
      "new max FSPs: 19\n"
     ]
    }
   ],
   "source": [
    "# print first to adjust percentile used\n",
    "print(\"original max FSPs:\",numberFSPsEvts[\"count\"].max())\n",
    "for percentile_lvl in [0.995,0.996,0.997,0.998,0.999]:\n",
    "    print(percentile_lvl)\n",
    "    percentile = numberFSPsEvts[\"count\"].quantile(q=percentile_lvl)\n",
    "    cut_numberFSPsEvts = numberFSPsEvts[numberFSPsEvts[\"count\"] < percentile]\n",
    "    \n",
    "    #TMP_df_FSPs = df_FSPs[df_FSPs['__event__'].isin(cut_numberFSPsEvts[\"__event__\"])]\n",
    "    TMP_nonBsig_FSPs = nonBsig_FSPs[nonBsig_FSPs['__event__'].isin(cut_numberFSPsEvts[\"__event__\"])]\n",
    "    \n",
    "    print(\"would delete\", round(100 - (TMP_nonBsig_FSPs.shape[0]/TMP_nonBsig_FSPs.shape[0])*100,6),\"% of evts\")\n",
    "    print(\"new max FSPs:\",cut_numberFSPsEvts[\"count\"].max())"
   ]
  },
  {
   "cell_type": "code",
   "execution_count": 88,
   "id": "6bd21e08",
   "metadata": {},
   "outputs": [
    {
     "name": "stdout",
     "output_type": "stream",
     "text": [
      "1043454\n",
      "133100\n",
      "used delete_percentileLvl: 0.999\n",
      "count    133055.000000\n",
      "mean          7.842276\n",
      "std           3.182363\n",
      "min           1.000000\n",
      "25%           6.000000\n",
      "50%           8.000000\n",
      "75%          10.000000\n",
      "max          42.000000\n",
      "Name: count, dtype: float64\n",
      "1039115\n",
      "132865\n",
      "deleted 0.4158 % of events\n",
      "count    132863.000000\n",
      "mean          7.820951\n",
      "std           3.129894\n",
      "min           1.000000\n",
      "25%           6.000000\n",
      "50%           8.000000\n",
      "75%          10.000000\n",
      "max          19.000000\n",
      "Name: count, dtype: float64\n"
     ]
    }
   ],
   "source": [
    "print(nonBsig_FSPs.shape[0])\n",
    "print(Bsig_cand_df.shape[0])\n",
    "numEvtsBeforeCut = nonBsig_FSPs.shape[0]\n",
    "\n",
    "if delete_top_numFSP_evts:\n",
    "    delete_percentileLvl = 0.999\n",
    "    print(\"used delete_percentileLvl:\",delete_percentileLvl)\n",
    "    \n",
    "    \n",
    "    print(numberFSPsEvts[\"count\"].describe())\n",
    "    \n",
    "    percentile = numberFSPsEvts[\"count\"].quantile(q=delete_percentileLvl)\n",
    "    cut_numberFSPsEvts = numberFSPsEvts[numberFSPsEvts[\"count\"] < percentile]\n",
    "    \n",
    "    nonBsig_FSPs = nonBsig_FSPs[nonBsig_FSPs['__event__'].isin(cut_numberFSPsEvts[\"__event__\"])]\n",
    "    Bsig_cand_df = Bsig_cand_df[Bsig_cand_df['__event__'].isin(cut_numberFSPsEvts[\"__event__\"])]\n",
    "    \n",
    "print(nonBsig_FSPs.shape[0])\n",
    "print(Bsig_cand_df.shape[0])\n",
    "print(\"deleted\", round(100 - (nonBsig_FSPs.shape[0]/numEvtsBeforeCut)*100,4),\"% of events\")\n",
    "numberFSPsEvts = pd.DataFrame({'count' : nonBsig_FSPs.groupby([\"__event__\"]).size()}).reset_index()\n",
    "print(numberFSPsEvts[\"count\"].describe())"
   ]
  },
  {
   "cell_type": "markdown",
   "id": "90fce55b",
   "metadata": {},
   "source": [
    "### impute the nan values of variables"
   ]
  },
  {
   "cell_type": "code",
   "execution_count": 89,
   "id": "52f84fa8",
   "metadata": {
    "scrolled": true
   },
   "outputs": [
    {
     "name": "stdout",
     "output_type": "stream",
     "text": [
      "792264\n",
      "0\n",
      "792264\n",
      "0\n",
      "792264\n",
      "0\n"
     ]
    },
    {
     "name": "stderr",
     "output_type": "stream",
     "text": [
      "/usr/local/lib64/python3.6/site-packages/pandas/core/indexing.py:1763: SettingWithCopyWarning: \n",
      "A value is trying to be set on a copy of a slice from a DataFrame.\n",
      "Try using .loc[row_indexer,col_indexer] = value instead\n",
      "\n",
      "See the caveats in the documentation: https://pandas.pydata.org/pandas-docs/stable/user_guide/indexing.html#returning-a-view-versus-a-copy\n",
      "  isetter(loc, value)\n",
      "/usr/local/lib64/python3.6/site-packages/pandas/core/indexing.py:1763: SettingWithCopyWarning: \n",
      "A value is trying to be set on a copy of a slice from a DataFrame.\n",
      "Try using .loc[row_indexer,col_indexer] = value instead\n",
      "\n",
      "See the caveats in the documentation: https://pandas.pydata.org/pandas-docs/stable/user_guide/indexing.html#returning-a-view-versus-a-copy\n",
      "  isetter(loc, value)\n",
      "/usr/local/lib64/python3.6/site-packages/pandas/core/indexing.py:1763: SettingWithCopyWarning: \n",
      "A value is trying to be set on a copy of a slice from a DataFrame.\n",
      "Try using .loc[row_indexer,col_indexer] = value instead\n",
      "\n",
      "See the caveats in the documentation: https://pandas.pydata.org/pandas-docs/stable/user_guide/indexing.html#returning-a-view-versus-a-copy\n",
      "  isetter(loc, value)\n"
     ]
    },
    {
     "name": "stdout",
     "output_type": "stream",
     "text": [
      "792264\n",
      "0\n",
      "792264\n",
      "0\n",
      "21777\n",
      "0\n",
      "21777\n",
      "0\n"
     ]
    },
    {
     "name": "stderr",
     "output_type": "stream",
     "text": [
      "/usr/local/lib64/python3.6/site-packages/pandas/core/indexing.py:1763: SettingWithCopyWarning: \n",
      "A value is trying to be set on a copy of a slice from a DataFrame.\n",
      "Try using .loc[row_indexer,col_indexer] = value instead\n",
      "\n",
      "See the caveats in the documentation: https://pandas.pydata.org/pandas-docs/stable/user_guide/indexing.html#returning-a-view-versus-a-copy\n",
      "  isetter(loc, value)\n",
      "/usr/local/lib64/python3.6/site-packages/pandas/core/indexing.py:1763: SettingWithCopyWarning: \n",
      "A value is trying to be set on a copy of a slice from a DataFrame.\n",
      "Try using .loc[row_indexer,col_indexer] = value instead\n",
      "\n",
      "See the caveats in the documentation: https://pandas.pydata.org/pandas-docs/stable/user_guide/indexing.html#returning-a-view-versus-a-copy\n",
      "  isetter(loc, value)\n",
      "/usr/local/lib64/python3.6/site-packages/pandas/core/indexing.py:1763: SettingWithCopyWarning: \n",
      "A value is trying to be set on a copy of a slice from a DataFrame.\n",
      "Try using .loc[row_indexer,col_indexer] = value instead\n",
      "\n",
      "See the caveats in the documentation: https://pandas.pydata.org/pandas-docs/stable/user_guide/indexing.html#returning-a-view-versus-a-copy\n",
      "  isetter(loc, value)\n",
      "/usr/local/lib64/python3.6/site-packages/pandas/core/indexing.py:1763: SettingWithCopyWarning: \n",
      "A value is trying to be set on a copy of a slice from a DataFrame.\n",
      "Try using .loc[row_indexer,col_indexer] = value instead\n",
      "\n",
      "See the caveats in the documentation: https://pandas.pydata.org/pandas-docs/stable/user_guide/indexing.html#returning-a-view-versus-a-copy\n",
      "  isetter(loc, value)\n"
     ]
    }
   ],
   "source": [
    "## data preprocessing, dealing with NaN\n",
    "imputelist = [[\"pionID\",-1.],[\"kaonID\",-1.],[\"electronID\",-1.],[\"muonID\",-1.],[\"protonID\",-1.]\n",
    "              ,[\"clusterReg\",-1.],[\"clusterE9E21\",-1.]\n",
    "              ]\n",
    "for impute in imputelist:\n",
    "    column_name = impute[0]\n",
    "    impute_val = impute[1]\n",
    "    print(nonBsig_FSPs[nonBsig_FSPs[column_name].isna() == True].shape[0])    \n",
    "    mask = nonBsig_FSPs[column_name].isna() == 1\n",
    "    nonBsig_FSPs.loc[mask, column_name] = impute_val\n",
    "    print(nonBsig_FSPs[nonBsig_FSPs[column_name].isna() == True].shape[0])"
   ]
  },
  {
   "cell_type": "markdown",
   "id": "cfbbb9a2",
   "metadata": {},
   "source": [
    "### check that each particles occurs only ones; count must be == 1 for all"
   ]
  },
  {
   "cell_type": "code",
   "execution_count": 90,
   "id": "a84cfa7d",
   "metadata": {},
   "outputs": [
    {
     "data": {
      "text/plain": [
       "count\n",
       "1    2439996\n",
       "2        722\n",
       "dtype: int64"
      ]
     },
     "execution_count": 90,
     "metadata": {},
     "output_type": "execute_result"
    }
   ],
   "source": [
    "groupsFSPs_uniqParID = pd.DataFrame({'count' : df_FSPs.groupby( [\"__event__\",\"uniqueParticleIdentifier\"] ).size()}).reset_index()\n",
    "groupsFSPs_uniqParID.value_counts('count')"
   ]
  },
  {
   "cell_type": "markdown",
   "id": "6642014b",
   "metadata": {},
   "source": [
    "## save & load labeled and processed df's"
   ]
  },
  {
   "cell_type": "markdown",
   "id": "aac6d704",
   "metadata": {},
   "source": [
    "### save"
   ]
  },
  {
   "cell_type": "code",
   "execution_count": 109,
   "id": "88ca8ada",
   "metadata": {},
   "outputs": [],
   "source": [
    "nonBsig_FSPs.to_csv(nfs_path + rawData_subdir +  \"nonBsig_FSPs_preProcessed.csv\")\n",
    "Bsig_cand_df.to_csv(nfs_path + \"Bsig_cand_df_preProcessed.csv\")"
   ]
  },
  {
   "cell_type": "code",
   "execution_count": 110,
   "id": "23e957cc",
   "metadata": {},
   "outputs": [
    {
     "name": "stdout",
     "output_type": "stream",
     "text": [
      "save successful\n"
     ]
    }
   ],
   "source": [
    "print(\"save successful\")"
   ]
  },
  {
   "cell_type": "markdown",
   "id": "f316103c",
   "metadata": {},
   "source": [
    "### load"
   ]
  },
  {
   "cell_type": "code",
   "execution_count": 6,
   "id": "17d7a05b",
   "metadata": {},
   "outputs": [],
   "source": [
    "nonBsig_FSPs = pd.read_csv(nfs_path + rawData_subdir +  \"nonBsig_FSPs_preProcessed.csv\")"
   ]
  },
  {
   "cell_type": "code",
   "execution_count": null,
   "id": "3aa937ac",
   "metadata": {},
   "outputs": [],
   "source": [
    "Bsig_cand_df = pd.read_csv(nfs_path + rawData_subdir +  \"Bsig_cand_df_preProcessed.csv\")"
   ]
  },
  {
   "cell_type": "code",
   "execution_count": 11,
   "id": "35103d9d",
   "metadata": {},
   "outputs": [
    {
     "data": {
      "text/plain": [
       "49239"
      ]
     },
     "execution_count": 11,
     "metadata": {},
     "output_type": "execute_result"
    }
   ],
   "source": [
    "numberOfFSPs[(numberOfFSPs[\"numFSPs\"] >= 5)  & (numberOfFSPs[\"numFSPs\"] <= 13)].shape[0]"
   ]
  },
  {
   "cell_type": "code",
   "execution_count": 15,
   "id": "dd7e2b26",
   "metadata": {},
   "outputs": [
    {
     "data": {
      "text/plain": [
       "<AxesSubplot:>"
      ]
     },
     "execution_count": 15,
     "metadata": {},
     "output_type": "execute_result"
    },
    {
     "data": {
      "image/png": "[encoded data removed]",
      "text/plain": [
       "<Figure size 432x288 with 1 Axes>"
      ]
     },
     "metadata": {
      "needs_background": "light"
     },
     "output_type": "display_data"
    }
   ],
   "source": [
    "bins = np.linspace(0, 25, 24)\n",
    "\n",
    "numberOfFSPs = pd.DataFrame({'numFSPs' : nonBsig_FSPs.groupby( [\"__event__\"] ).size()}).reset_index()\n",
    "numberOfFSPs[(numberOfFSPs[\"numFSPs\"] >= 4)  & (numberOfFSPs[\"numFSPs\"] <= 13)][\"numFSPs\"].hist(bins=bins)"
   ]
  },
  {
   "cell_type": "code",
   "execution_count": 14,
   "id": "3f19ec56",
   "metadata": {},
   "outputs": [
    {
     "data": {
      "text/plain": [
       "53314"
      ]
     },
     "execution_count": 14,
     "metadata": {},
     "output_type": "execute_result"
    }
   ],
   "source": [
    "numberOfFSPs[(numberOfFSPs[\"numFSPs\"] >= 4)  & (numberOfFSPs[\"numFSPs\"] <= 13)].shape[0]"
   ]
  },
  {
   "cell_type": "code",
   "execution_count": 12,
   "id": "ede53d01",
   "metadata": {},
   "outputs": [
    {
     "data": {
      "text/plain": [
       "<AxesSubplot:>"
      ]
     },
     "execution_count": 12,
     "metadata": {},
     "output_type": "execute_result"
    },
    {
     "data": {
      "image/png": "[encoded data removed]",
      "text/plain": [
       "<Figure size 432x288 with 1 Axes>"
      ]
     },
     "metadata": {
      "needs_background": "light"
     },
     "output_type": "display_data"
    }
   ],
   "source": [
    "numberOfFSPs[\"numFSPs\"].hist(bins=bins)"
   ]
  },
  {
   "cell_type": "markdown",
   "id": "c9e8e9f2",
   "metadata": {},
   "source": [
    "# beginning of data prod"
   ]
  },
  {
   "cell_type": "code",
   "execution_count": 111,
   "id": "c760b133",
   "metadata": {},
   "outputs": [],
   "source": [
    "df_FSPs_final = nonBsig_FSPs"
   ]
  },
  {
   "cell_type": "markdown",
   "id": "e11d6581",
   "metadata": {},
   "source": [
    "## definition of input vars to be saved"
   ]
  },
  {
   "cell_type": "code",
   "execution_count": 112,
   "id": "fad5fead",
   "metadata": {},
   "outputs": [],
   "source": [
    "variable_combinations = [\n",
    "    [[],\"caupi_only4mom\"],\n",
    "    [[\"M\",\"charge\",\"dr\",\"dz\",\"clusterReg\",\"clusterE9E21\",\"pionID\",\"kaonID\",\"electronID\",\"muonID\",\"protonID\",\n",
    "     ],\"caupi_allExtras\"],\n",
    "    [[\"charge\",\"dr\",\"clusterE9E21\"],\"caupi_chrg_dr_E9E21\"],\n",
    "    [[    \"charge\",\"dr\",\"dz\",\"clusterReg\",\"clusterE9E21\",\"pionID\",\"kaonID\",\"electronID\",\"muonID\",\"protonID\",\n",
    "     ],\"caupi_no_M\"],\n",
    "    [[\"M\",         \"dr\",\"dz\",\"clusterReg\",\"clusterE9E21\",\"pionID\",\"kaonID\",\"electronID\",\"muonID\",\"protonID\",\n",
    "     ],\"caupi_no_charge\"],\n",
    "    [[\"M\",\"charge\",     \"dz\",\"clusterReg\",\"clusterE9E21\",\"pionID\",\"kaonID\",\"electronID\",\"muonID\",\"protonID\",\n",
    "     ],\"caupi_no_dr\"],\n",
    "    [[\"M\",\"charge\",\"dr\",     \"clusterReg\",\"clusterE9E21\",\"pionID\",\"kaonID\",\"electronID\",\"muonID\",\"protonID\",\n",
    "     ],\"caupi_no_dz\"],\n",
    "    [[\"M\",\"charge\",\"dr\",\"dz\",             \"clusterE9E21\",\"pionID\",\"kaonID\",\"electronID\",\"muonID\",\"protonID\",\n",
    "     ],\"caupi_no_clReg\"],\n",
    "    [[\"M\",\"charge\",\"dr\",\"dz\",\"clusterReg\",               \"pionID\",\"kaonID\",\"electronID\",\"muonID\",\"protonID\",\n",
    "     ],\"caupi_no_E9E21\"],\n",
    "    [[\"M\",\"charge\",\"dr\",\"dz\",\"clusterReg\",\"clusterE9E21\",         \"kaonID\",\"electronID\",\"muonID\",\"protonID\",\n",
    "     ],\"caupi_no_pID\"],\n",
    "    [[\"M\",\"charge\",\"dr\",\"dz\",\"clusterReg\",\"clusterE9E21\",\"pionID\",         \"electronID\",\"muonID\",\"protonID\",\n",
    "     ],\"caupi_no_kID\"],\n",
    "    [[\"M\",\"charge\",\"dr\",\"dz\",\"clusterReg\",\"clusterE9E21\",\"pionID\",\"kaonID\",             \"muonID\",\"protonID\",\n",
    "     ],\"caupi_no_eID\"],\n",
    "    [[\"M\",\"charge\",\"dr\",\"dz\",\"clusterReg\",\"clusterE9E21\",\"pionID\",\"kaonID\",\"electronID\"         ,\"protonID\",\n",
    "     ],\"caupi_no_muID\"],\n",
    "    [[\"M\",\"charge\",\"dr\",\"dz\",\"clusterReg\",\"clusterE9E21\",\"pionID\",\"kaonID\",\"electronID\",\"muonID\"           ,\n",
    "     ],\"caupi_no_proID\"],\n",
    "    [[\"charge\",\"pionID\",\"muonID\",],\"caupi_charge_mpIDs\"],\n",
    "    [[\"charge\"],\"caupi_charge\"]\n",
    "]"
   ]
  },
  {
   "cell_type": "code",
   "execution_count": 113,
   "id": "b048f3dc",
   "metadata": {},
   "outputs": [
    {
     "data": {
      "text/plain": [
       "16"
      ]
     },
     "execution_count": 113,
     "metadata": {},
     "output_type": "execute_result"
    }
   ],
   "source": [
    "len(variable_combinations)"
   ]
  },
  {
   "cell_type": "markdown",
   "id": "3d98b66f",
   "metadata": {},
   "source": [
    "## start of saving"
   ]
  },
  {
   "cell_type": "code",
   "execution_count": 114,
   "id": "3f5cafa0",
   "metadata": {},
   "outputs": [
    {
     "name": "stdout",
     "output_type": "stream",
     "text": [
      "minFSPs: 1\n",
      "maxFSPs: 19 \n",
      "\n",
      "num Events: 59514 \n",
      "\n"
     ]
    }
   ],
   "source": [
    "numFSPs = pd.DataFrame({'count' : df_FSPs_final.groupby( [\"__event__\"] ).size()}).reset_index()\n",
    "\n",
    "minFSPs = numFSPs[\"count\"].min()\n",
    "maxFSPs = numFSPs[\"count\"].max()\n",
    "print(\"minFSPs:\",minFSPs)\n",
    "print(\"maxFSPs:\",maxFSPs,'\\n')\n",
    "print(\"num Events:\",numFSPs.shape[0],'\\n')\n",
    "\n",
    "df_FSPs_final['numFSPs'] = df_FSPs_final.groupby('__event__')['__event__'].transform('count')"
   ]
  },
  {
   "cell_type": "code",
   "execution_count": 115,
   "id": "5d16f443",
   "metadata": {},
   "outputs": [
    {
     "name": "stdout",
     "output_type": "stream",
     "text": [
      "time at start = 2022-01-28 20:48:42.831244\n"
     ]
    }
   ],
   "source": [
    "now = datetime.now()\n",
    "print(\"time at start =\", now)"
   ]
  },
  {
   "cell_type": "code",
   "execution_count": 116,
   "id": "53b49567",
   "metadata": {},
   "outputs": [
    {
     "data": {
      "text/plain": [
       "True"
      ]
     },
     "execution_count": 116,
     "metadata": {},
     "output_type": "execute_result"
    }
   ],
   "source": [
    "save_data"
   ]
  },
  {
   "cell_type": "code",
   "execution_count": null,
   "id": "a03512c5",
   "metadata": {
    "scrolled": true
   },
   "outputs": [
    {
     "name": "stdout",
     "output_type": "stream",
     "text": [
      "Will save data to: /nfs/dust/belle2/user/axelheim/MC_studies/ROEcleanup/caupi/data/Bsig_isSig1/caupi_only4mom is True \n",
      "\n",
      "numEvents: 880\n",
      "num_FSPs_toData: 2\n",
      "leaves.shape: (880, 2, 4)\n",
      "SA_target.shape: (880, 2)\n",
      "global_tag.shape: (880, 3)\n",
      "leaves[0]: [[ 0.48801678 -0.37948602  0.67160851  1.0377596 ]\n",
      " [ 0.07662224 -0.14136499  0.1637796   0.2295186 ]]\n",
      "SA_target[0]: [1. 0.]\n",
      "global_tag[0]: [b'-321.0' b'nan' b'evt354552']\n",
      "\n",
      "numEvents: 2456\n",
      "num_FSPs_toData: 3\n",
      "leaves.shape: (2456, 3, 4)\n",
      "SA_target.shape: (2456, 3)\n",
      "global_tag.shape: (2456, 4)\n",
      "leaves[0]: [[-0.01414753  0.02164434  0.07378036  0.07818038]\n",
      " [-0.18539055  0.49315667  1.42012846  1.51470724]\n",
      " [ 0.14423987  0.32583258 -0.02796469  0.60948421]]\n",
      "SA_target[0]: [0. 1. 1.]\n",
      "global_tag[0]: [b'nan' b'22.0' b'-211.0' b'evt3680894']\n",
      "\n",
      "numEvents: 4075\n",
      "num_FSPs_toData: 4\n",
      "leaves.shape: (4075, 4, 4)\n",
      "SA_target.shape: (4075, 4)\n",
      "global_tag.shape: (4075, 5)\n",
      "leaves[0]: [[ 0.43934    -0.51771712 -0.06711557  0.69644457]\n",
      " [ 1.15616906 -0.05132571  0.5180276   1.36067292]\n",
      " [-0.80670559 -0.10175595  0.95644319  1.25535324]\n",
      " [-0.42851827  0.00763365  0.41101813  0.59381991]]\n",
      "SA_target[0]: [1. 1. 1. 1.]\n",
      "global_tag[0]: [b'-211.0' b'321.0' b'22.0' b'22.0' b'evt2336453']\n",
      "\n",
      "numEvents: 6116\n",
      "num_FSPs_toData: 5\n",
      "leaves.shape: (6116, 5, 4)\n",
      "SA_target.shape: (6116, 5)\n",
      "global_tag.shape: (6116, 6)\n",
      "leaves[0]: [[ 2.01270476e-01  1.29302621e+00  1.53144658e+00  2.01921645e+00]\n",
      " [ 6.62819371e-02  2.00186476e-01  2.50704587e-01  3.27598398e-01]\n",
      " [ 2.20193490e-01 -6.32354915e-01  8.60274315e-01  1.19672335e+00]\n",
      " [-8.55468970e-04  9.99916866e-02  1.01668380e-01  1.42602695e-01]\n",
      " [-3.42634805e-02  6.44689575e-02 -1.12393377e-02  7.38684999e-02]]\n",
      "SA_target[0]: [1. 1. 1. 0. 0.]\n",
      "global_tag[0]: [b'-211.0' b'22.0' b'321.0' b'nan' b'nan' b'evt14412']\n",
      "\n",
      "numEvents: 7395\n",
      "num_FSPs_toData: 6\n",
      "leaves.shape: (7395, 6, 4)\n",
      "SA_target.shape: (7395, 6)\n",
      "global_tag.shape: (7395, 7)\n",
      "leaves[0]: [[ 0.41126671 -0.0581772   0.41444004  0.58675842]\n",
      " [ 0.14838426 -0.13718602 -0.40039137  0.44849876]\n",
      " [ 0.30926681  0.19178261  0.72410607  0.94893261]\n",
      " [ 0.1840561  -0.34861901 -0.01140526  0.39438807]\n",
      " [-0.72561502  0.35722029  0.66780865  1.05809819]\n",
      " [-0.36735541 -0.07487912  0.76850307  0.98735547]]\n",
      "SA_target[0]: [1. 1. 1. 1. 1. 1.]\n",
      "global_tag[0]: [b'22.0' b'22.0' b'321.0' b'22.0' b'211.0' b'-321.0' b'evt4083421']\n",
      "\n",
      "numEvents: 7724\n",
      "num_FSPs_toData: 7\n",
      "leaves.shape: (7724, 7, 4)\n",
      "SA_target.shape: (7724, 7)\n",
      "global_tag.shape: (7724, 8)\n",
      "leaves[0]: [[ 0.00774964  0.03305581  0.02356372  0.04132787]\n",
      " [ 0.20753792 -0.76345909  0.73817134  1.09101722]\n",
      " [-0.12548412 -0.30920759  0.03529937  0.33556168]\n",
      " [ 0.26968154 -0.16067806 -0.41788635  0.7189517 ]\n",
      " [ 0.34397709  0.66037285  1.9444468   2.08680756]\n",
      " [-0.09487166 -0.11213102  0.07707903  0.16587699]\n",
      " [ 0.02436066 -0.02972937  0.04375499  0.05823896]]\n",
      "SA_target[0]: [0. 1. 1. 1. 1. 1. 0.]\n",
      "global_tag[0]: [b'nan' b'-211.0' b'22.0' b'321.0' b'211.0' b'22.0' b'nan' b'evt11979']\n",
      "\n",
      "numEvents: 7484\n",
      "num_FSPs_toData: 8\n",
      "leaves.shape: (7484, 8, 4)\n",
      "SA_target.shape: (7484, 8)\n",
      "global_tag.shape: (7484, 9)\n",
      "leaves[0]: [[-1.28691806e-03  3.34380083e-02  4.67803180e-02  5.75165603e-02]\n",
      " [ 1.20639456e-02  6.96485937e-02  5.59779517e-02  9.01664930e-02]\n",
      " [ 2.80257255e-01  7.31428027e-01  6.12049937e-01  1.10988882e+00]\n",
      " [-3.28106076e-01 -4.84695673e-01 -5.18762767e-01  7.82111438e-01]\n",
      " [ 1.92968100e-02  4.40804102e-02 -9.65481275e-04  4.81288021e-02]\n",
      " [ 2.48376235e-01 -2.08442897e-01 -1.89750135e-01  6.20371888e-01]\n",
      " [-1.29938170e-01 -3.26274365e-01 -2.35104322e-01  4.22626232e-01]\n",
      " [-8.82310420e-02 -3.90358455e-02 -4.97654639e-02  1.08559271e-01]]\n",
      "SA_target[0]: [0. 0. 1. 1. 1. 1. 1. 1.]\n",
      "global_tag[0]: [b'nan' b'nan' b'-321.0' b'22.0' b'22.0' b'321.0' b'22.0' b'22.0'\n",
      " b'evt2339666']\n",
      "\n",
      "numEvents: 6635\n",
      "num_FSPs_toData: 9\n",
      "leaves.shape: (6635, 9, 4)\n",
      "SA_target.shape: (6635, 9)\n",
      "global_tag.shape: (6635, 10)\n",
      "leaves[0]: [[-0.02209905  0.03760592  0.11472411  0.12273628]\n",
      " [ 0.51164687  0.18826288  0.12673798  0.57686033]\n",
      " [ 0.04232983 -0.10818814 -0.07748533  0.13964407]\n",
      " [ 0.03263456 -0.01471603  0.00265606  0.03589751]\n",
      " [ 0.04333398 -0.28070888  0.37734172  0.47229448]\n",
      " [-0.14253116 -0.31836534  0.1071478   0.61389677]\n",
      " [ 0.03801839 -0.33247867 -0.01667092  0.33506027]\n",
      " [ 0.4580889  -0.61310762  0.35772783  0.85626835]\n",
      " [ 0.47579554  0.20984519 -0.15218492  0.55951455]]\n",
      "SA_target[0]: [1. 1. 1. 1. 1. 1. 1. 1. 1.]\n",
      "global_tag[0]: [b'-211.0' b'-211.0' b'22.0' b'22.0' b'22.0' b'321.0' b'22.0' b'-211.0'\n",
      " b'211.0' b'evt2334699']\n",
      "\n",
      "numEvents: 5262\n",
      "num_FSPs_toData: 10\n",
      "leaves.shape: (5262, 10, 4)\n",
      "SA_target.shape: (5262, 10)\n",
      "global_tag.shape: (5262, 11)\n",
      "leaves[0]: [[-0.0018837  -0.02816826  0.08472128  0.08930115]\n",
      " [ 0.01144471  0.04975124 -0.07965028  0.0946062 ]\n",
      " [ 0.55181843  0.52378774  1.1711359   1.40056423]\n",
      " [-0.57732439  0.07622781 -0.81825817  1.11909675]\n",
      " [-0.01005141  0.09004929  0.03630781  0.09761231]\n",
      " [ 0.36119404  0.08584022  1.0800606   1.15058267]\n",
      " [-0.27134928 -0.24939086  0.1402097   0.39431585]\n",
      " [-0.15615062 -0.0660274   0.06189419  0.18048137]\n",
      " [-0.0678639  -0.05482176  0.07191886  0.11306306]\n",
      " [-0.05193093 -0.03513378 -0.00446442  0.06285805]]\n",
      "SA_target[0]: [1. 1. 1. 1. 1. 1. 1. 1. 0. 1.]\n",
      "global_tag[0]: [b'22.0' b'22.0' b'211.0' b'-13.0' b'22.0' b'-211.0' b'22.0' b'22.0'\n",
      " b'nan' b'22.0' b'evt2338677']\n",
      "\n",
      "numEvents: 3960\n",
      "num_FSPs_toData: 11\n",
      "leaves.shape: (3960, 11, 4)\n",
      "SA_target.shape: (3960, 11)\n",
      "global_tag.shape: (3960, 12)\n",
      "leaves[0]: [[ 0.0960793  -0.2162531   0.18112752  0.29799969]\n",
      " [ 0.64756095  0.21399    -0.52951008  0.87463577]\n",
      " [ 0.0101001   0.01928957 -0.02823453  0.03565513]\n",
      " [-0.09954951 -0.02217467 -0.06254698  0.1196409 ]\n",
      " [ 0.14641774 -0.08341362  0.08661134  0.18946638]\n",
      " [-0.20276274 -0.13028763 -0.17035218  0.29513973]\n",
      " [-0.09206783  0.02650612 -0.02824606  0.09988443]\n",
      " [-0.82673544  0.07727572  0.89896572  1.23169894]\n",
      " [ 0.00169044  0.05636157  0.01127189  0.05750252]\n",
      " [ 0.04554497 -0.04794017 -0.02489909  0.07065811]\n",
      " [ 0.61803174 -0.16596165 -0.23690265  0.84222701]]\n",
      "SA_target[0]: [1. 1. 0. 1. 1. 1. 1. 1. 0. 0. 1.]\n",
      "global_tag[0]: [b'22.0' b'211.0' b'nan' b'22.0' b'22.0' b'22.0' b'22.0' b'-211.0' b'nan'\n",
      " b'nan' b'-321.0' b'evt3291559']\n",
      "\n",
      "numEvents: 2842\n",
      "num_FSPs_toData: 12\n",
      "leaves.shape: (2842, 12, 4)\n",
      "SA_target.shape: (2842, 12)\n",
      "global_tag.shape: (2842, 13)\n",
      "leaves[0]: [[ 4.96609420e-01  3.63488466e-01  3.20315391e-01  8.51506724e-01]\n",
      " [-3.01384896e-01  3.29280078e-01  2.66889066e-01  5.38486668e-01]\n",
      " [ 4.46298486e-03 -7.78682828e-02  1.34446904e-01  1.55432808e-01]\n",
      " [-2.42466088e-02 -1.05878748e-01 -7.62882351e-04  1.08622232e-01]\n",
      " [ 6.87077641e-02 -1.36225130e-02  8.78783166e-02  1.12378504e-01]\n",
      " [ 8.56910646e-02 -2.72108298e-02  1.02741979e-01  1.36525829e-01]\n",
      " [-4.66805845e-02  1.14631951e-02  5.16476706e-02  7.05546858e-02]\n",
      " [-2.11249329e-02 -1.87439639e-02  4.78508808e-02  5.55635291e-02]\n",
      " [-2.49386095e-02  2.42210496e-02 -4.70571853e-02  5.85061721e-02]\n",
      " [-4.00070429e-01 -1.98491424e-01  9.81443599e-02  4.57260876e-01]\n",
      " [ 3.48826684e-02 -2.09357627e-02 -7.60080144e-02  8.62109330e-02]\n",
      " [ 6.26769324e-04  3.53675447e-02  4.31858189e-02  5.58235705e-02]]\n",
      "SA_target[0]: [1. 1. 1. 1. 0. 1. 0. 1. 0. 1. 1. 1.]\n",
      "global_tag[0]: [b'-321.0' b'211.0' b'22.0' b'22.0' b'nan' b'22.0' b'nan' b'22.0' b'nan'\n",
      " b'22.0' b'22.0' b'22.0' b'evt3677683']\n",
      "\n",
      "numEvents: 1821\n",
      "num_FSPs_toData: 13\n",
      "leaves.shape: (1821, 13, 4)\n",
      "SA_target.shape: (1821, 13)\n",
      "global_tag.shape: (1821, 14)\n",
      "leaves[0]: [[-0.30604553  0.26590705 -0.07469553  0.43523527]\n",
      " [ 0.19808893  0.03969929  0.03113126  0.20441236]\n",
      " [ 0.0921599   0.01020544  0.0465579   0.10375566]\n",
      " [ 0.09268018 -0.07797707 -0.0538907   0.13256789]\n",
      " [ 0.05849243  0.35383752  0.26694778  0.66603336]\n",
      " [ 0.53292817  0.19760256 -0.15987837  0.59044077]\n",
      " [ 0.38999572 -0.28744879  0.77059972  0.92088398]\n",
      " [-0.08280209 -0.22100024  0.03889619  0.23918655]\n",
      " [-0.2154963  -0.04704836  0.15810032  0.2713815 ]\n",
      " [ 0.17700398 -0.25323147 -0.06281012  0.34479209]\n",
      " [-0.30207497 -0.12240279 -0.10700522  0.34304788]\n",
      " [-0.03928749 -0.03923797  0.10526383  0.11901092]\n",
      " [-0.01349049  0.02483074  0.06359904  0.06959451]]\n",
      "SA_target[0]: [1. 0. 0. 1. 1. 1. 1. 1. 1. 1. 1. 1. 0.]\n",
      "global_tag[0]: [b'-211.0' b'nan' b'nan' b'-11.0' b'-321.0' b'22.0' b'-211.0' b'22.0'\n",
      " b'22.0' b'211.0' b'22.0' b'22.0' b'nan' b'evt4072733']\n"
     ]
    },
    {
     "name": "stdout",
     "output_type": "stream",
     "text": [
      "\n",
      "numEvents: 1150\n",
      "num_FSPs_toData: 14\n",
      "leaves.shape: (1150, 14, 4)\n",
      "SA_target.shape: (1150, 14)\n",
      "global_tag.shape: (1150, 15)\n",
      "leaves[0]: [[ 0.02727498  0.01165743  0.05303084  0.06076257]\n",
      " [ 0.05298585  0.02537317  0.07253508  0.0933415 ]\n",
      " [-0.00885411 -0.05358255  0.04081906  0.0679388 ]\n",
      " [-0.07499092  0.08623031  0.01712751  0.11555369]\n",
      " [-0.97411221  0.5907169  -0.05464669  1.14053817]\n",
      " [-0.02166902  0.00381156 -0.026566    0.03449386]\n",
      " [ 0.1987882  -0.5435937   0.36237231  0.84263962]\n",
      " [-0.0113273  -0.03282306  0.02348863  0.04192108]\n",
      " [ 0.3213658  -0.57631516  0.69644773  1.34194227]\n",
      " [ 0.33933976  0.01610216  0.06899811  0.3466576 ]\n",
      " [ 0.18735009 -0.3109822   0.05999712  0.36798049]\n",
      " [ 0.16661799 -0.10002281  0.02955383  0.19656944]\n",
      " [-0.0617203  -0.00897871 -0.0055974   0.06262064]\n",
      " [ 0.06703683  0.02552936  0.16035317  0.1756668 ]]\n",
      "SA_target[0]: [0. 1. 1. 1. 1. 0. 1. 0. 1. 1. 1. 1. 0. 0.]\n",
      "global_tag[0]: [b'nan' b'22.0' b'22.0' b'22.0' b'22.0' b'nan' b'321.0' b'nan' b'-321.0'\n",
      " b'22.0' b'22.0' b'22.0' b'nan' b'nan' b'evt4085653']\n",
      "\n",
      "numEvents: 716\n",
      "num_FSPs_toData: 15\n",
      "leaves.shape: (716, 15, 4)\n",
      "SA_target.shape: (716, 15)\n",
      "global_tag.shape: (716, 16)\n",
      "leaves[0]: [[-0.3439742  -0.02848987  0.07540245  0.37986227]\n",
      " [ 0.28778005 -0.08594809  0.51331806  0.59472671]\n",
      " [-0.22949673  0.2025582   0.01674271  0.30655977]\n",
      " [ 0.02482454  0.01506963 -0.02623797  0.03913799]\n",
      " [-0.07224756 -0.01342944  0.05016413  0.08897471]\n",
      " [-0.00523268  0.04666456  0.10486257  0.11489613]\n",
      " [ 0.22821775 -0.09694213 -0.08074599  0.26077008]\n",
      " [-0.27353767 -0.13992359  0.13630414  0.3361254 ]\n",
      " [ 0.17569925  0.2190689  -0.10335674  0.29923908]\n",
      " [-0.0046271   0.05407338  0.04494306  0.07046431]\n",
      " [ 0.00856492  0.10465439  0.1959383   0.22230096]\n",
      " [-0.03465182 -0.0263138   0.03412767  0.05529795]\n",
      " [ 0.12511766  0.00384174 -0.13640916  0.18513954]\n",
      " [-0.05435476 -0.32139686  0.35089174  0.49885397]\n",
      " [ 0.33007422  0.56730908 -0.30767706  0.87702379]]\n",
      "SA_target[0]: [1. 1. 1. 0. 0. 0. 1. 1. 1. 1. 0. 1. 1. 1. 1.]\n",
      "global_tag[0]: [b'-211.0' b'22.0' b'22.0' b'nan' b'nan' b'nan' b'22.0' b'130.0' b'22.0'\n",
      " b'22.0' b'nan' b'22.0' b'22.0' b'-211.0' b'211.0' b'evt36019380']\n",
      "\n",
      "numEvents: 368\n",
      "num_FSPs_toData: 16\n",
      "leaves.shape: (368, 16, 4)\n",
      "SA_target.shape: (368, 16)\n",
      "global_tag.shape: (368, 17)\n",
      "leaves[0]: [[ 0.28665096  0.43965623  0.09673187  0.55163694]\n",
      " [-0.00763383 -0.20235898 -0.20705175  0.28961675]\n",
      " [-0.22368962  0.28977874 -0.0286981   0.36719524]\n",
      " [-0.41949058 -0.12634134  0.06497303  0.44289499]\n",
      " [-0.15951887  0.07579242  0.0562253   0.18534305]\n",
      " [-0.10148407  0.07444596 -0.12472841  0.17719592]\n",
      " [-0.07271601  0.19118023 -0.00236876  0.20455588]\n",
      " [-0.03746707  0.02488951 -0.02679144  0.05235504]\n",
      " [-0.90084207 -0.63994247  0.30122641  1.2471957 ]\n",
      " [-0.04606129 -0.16575782 -0.03848097  0.17628977]\n",
      " [-0.02709922  0.04806877  0.00608763  0.05551607]\n",
      " [-0.06189168  0.00724341  0.03025926  0.06927243]\n",
      " [-0.10504242  0.00758651  0.03120677  0.10984229]\n",
      " [ 0.54823893 -0.07441353  0.38423207  0.68790805]\n",
      " [ 0.10268588 -0.11904191 -0.03731996  0.16158016]\n",
      " [-0.0190864   0.01632839 -0.03333942  0.04174235]]\n",
      "SA_target[0]: [1. 1. 1. 1. 1. 1. 1. 1. 0. 1. 0. 1. 1. 1. 1. 1.]\n",
      "global_tag[0]: [b'-211.0' b'22.0' b'22.0' b'211.0' b'22.0' b'22.0' b'22.0' b'22.0' b'nan'\n",
      " b'22.0' b'nan' b'22.0' b'22.0' b'-13.0' b'22.0' b'22.0' b'evt7237838']\n",
      "\n",
      "numEvents: 225\n",
      "num_FSPs_toData: 17\n",
      "leaves.shape: (225, 17, 4)\n",
      "SA_target.shape: (225, 17)\n",
      "global_tag.shape: (225, 18)\n",
      "leaves[0]: [[ 2.28881147e-02  3.97797115e-02 -1.08231269e-02  4.71532747e-02]\n",
      " [-5.46823777e-02 -7.56445667e-03  5.07529005e-02  7.49882681e-02]\n",
      " [-5.46294227e-02 -1.11627243e-01  2.36112997e-02  1.26501023e-01]\n",
      " [ 9.58290473e-02  2.28747949e-01  7.13834018e-02  2.58078322e-01]\n",
      " [-3.81935030e-01 -5.35898149e-01  4.29270685e-01  7.98006520e-01]\n",
      " [-3.23910713e-02  6.75079972e-02 -1.28371338e-03  7.48876432e-02]\n",
      " [-3.98919508e-02  9.63508412e-02 -1.95349142e-01  2.21441052e-01]\n",
      " [ 1.05879970e-01  9.23218429e-02  4.45194393e-02  1.47363059e-01]\n",
      " [-1.82267744e-02 -3.46888825e-02  3.07734236e-02  4.98250688e-02]\n",
      " [ 2.46297233e-02  3.62442404e-01  6.83884978e-01  9.18360906e-01]\n",
      " [-1.21414497e-01  1.05721809e-01  1.80935785e-01  2.42190709e-01]\n",
      " [-2.02844009e-01 -3.46202880e-01 -3.24953347e-01  5.34861381e-01]\n",
      " [ 6.00727228e-03 -1.29985273e-01  1.23204522e-01  1.79197134e-01]\n",
      " [ 8.28214511e-02  1.09185793e-01 -3.24349850e-02  1.40829536e-01]\n",
      " [ 8.48577097e-02  3.84101897e-01  1.84355244e-01  4.34421402e-01]\n",
      " [-7.10612014e-02  1.47738919e-01  4.12294567e-02  1.69045410e-01]\n",
      " [ 2.42506098e-02  5.90736279e-04 -4.41608131e-02  5.03847046e-02]]\n",
      "SA_target[0]: [0. 0. 0. 1. 1. 1. 0. 1. 0. 1. 1. 1. 1. 1. 1. 1. 0.]\n",
      "global_tag[0]: [b'nan' b'nan' b'nan' b'22.0' b'-211.0' b'22.0' b'nan' b'22.0' b'nan'\n",
      " b'321.0' b'22.0' b'211.0' b'22.0' b'22.0' b'22.0' b'22.0' b'nan'\n",
      " b'evt30685456']\n",
      "\n",
      "numEvents: 132\n",
      "num_FSPs_toData: 18\n",
      "leaves.shape: (132, 18, 4)\n",
      "SA_target.shape: (132, 18)\n",
      "global_tag.shape: (132, 19)\n",
      "leaves[0]: [[ 6.37873486e-02 -7.20914546e-03  4.76962924e-02  7.99733326e-02]\n",
      " [-2.92881846e-01  1.09844901e-01 -2.97150835e-02  3.43814713e-01]\n",
      " [ 1.46451890e-01 -2.64604181e-01 -1.31130368e-01  3.29634194e-01]\n",
      " [-2.50671431e-02  1.16497971e-01  6.87021241e-02  1.37550430e-01]\n",
      " [-3.77210155e-02  4.97367680e-01  1.34666577e-01  7.14597468e-01]\n",
      " [-3.64559323e-01  2.95300931e-02  1.50124297e-01  3.95364175e-01]\n",
      " [ 4.61598709e-02 -4.63124588e-02  9.51710716e-02  1.15469088e-01]\n",
      " [ 2.26827294e-01  5.72536141e-02 -3.80847231e-02  2.37021188e-01]\n",
      " [ 4.02540356e-01 -5.70068300e-01  1.38352227e+00  1.55583752e+00]\n",
      " [-1.72836743e-02 -3.65513861e-02  2.06673257e-02  4.54077920e-02]\n",
      " [ 3.10399737e-02  1.02103967e-03 -3.72122191e-02  4.84692866e-02]\n",
      " [ 3.90925631e-02 -2.02893130e-02  1.64239872e-02  4.70067237e-02]\n",
      " [-8.83486196e-02  5.07042836e-03  1.69675928e-02  9.01059767e-02]\n",
      " [-2.17515547e-02  1.93855725e-02 -2.72811297e-02  3.99147917e-02]\n",
      " [ 1.90180521e-02  2.85347756e-02  1.46034844e-02  3.72717250e-02]\n",
      " [ 1.75437927e-01 -3.47834416e-02  1.04775757e-01  2.07283172e-01]\n",
      " [-2.10843328e-02  2.79288162e-02 -3.83360195e-03  3.52031869e-02]\n",
      " [-2.23856181e-01  1.99305117e-01  1.93812055e-04  2.99723468e-01]]\n",
      "SA_target[0]: [0. 1. 1. 1. 1. 1. 0. 1. 1. 1. 0. 0. 1. 1. 0. 0. 0. 1.]\n",
      "global_tag[0]: [b'nan' b'211.0' b'22.0' b'22.0' b'-321.0' b'22.0' b'nan' b'22.0'\n",
      " b'-211.0' b'22.0' b'nan' b'nan' b'22.0' b'22.0' b'nan' b'nan' b'nan'\n",
      " b'22.0' b'evt42919927']\n",
      "\n",
      "numEvents: 77\n",
      "num_FSPs_toData: 19\n",
      "leaves.shape: (77, 19, 4)\n",
      "SA_target.shape: (77, 19)\n",
      "global_tag.shape: (77, 20)\n",
      "leaves[0]: [[-1.01181224e-01  9.64022428e-03  2.06099436e-01  2.29798937e-01]\n",
      " [-2.69907974e-02  9.81641188e-02 -7.09518194e-02  1.24092135e-01]\n",
      " [ 6.57861978e-02  1.08742692e-01 -2.99911685e-02  1.30584329e-01]\n",
      " [ 2.39887778e-02  2.14035213e-02 -7.16233859e-03  3.29373842e-02]\n",
      " [-3.31839100e-02  1.20777719e-01 -5.60399983e-03  1.25378762e-01]\n",
      " [-3.63228545e-02 -3.20278294e-02 -3.73349898e-02  6.11476334e-02]\n",
      " [-6.33328333e-02 -4.78734486e-02  4.49543670e-02  9.12349164e-02]\n",
      " [ 1.67417321e-02  7.22847953e-02 -1.40553166e-04  7.41983624e-02]\n",
      " [-5.14560863e-02  1.16926312e-01  7.56185800e-02  1.48450871e-01]\n",
      " [-1.57205358e-01  7.40474239e-02  9.47485864e-02  1.97923824e-01]\n",
      " [ 2.57757694e-01  6.17025560e-03  2.01757640e-01  3.27388524e-01]\n",
      " [-1.36227101e-01 -9.92162824e-01  4.04470861e-02  1.11727250e+00]\n",
      " [-9.08336341e-02  8.83202627e-02  4.19983752e-02  1.33473149e-01]\n",
      " [ 3.32821868e-02 -6.54510036e-02  4.87647988e-02  8.81450137e-02]\n",
      " [ 5.93919717e-02  8.09397995e-02  1.28164232e-01  1.62802727e-01]\n",
      " [-4.00183443e-03  7.53671452e-02  6.65517524e-02  1.00624833e-01]\n",
      " [-7.26359664e-03 -1.23405024e-01 -5.56991771e-02  1.35587456e-01]\n",
      " [ 2.97962844e-01 -2.46678144e-01  5.90198040e-01  7.19336904e-01]\n",
      " [-6.23185560e-02 -1.61136929e-02  5.75362779e-02  8.63346790e-02]]\n",
      "SA_target[0]: [1. 1. 1. 1. 1. 0. 1. 1. 1. 1. 1. 1. 1. 1. 1. 1. 1. 1. 1.]\n",
      "global_tag[0]: [b'22.0' b'22.0' b'22.0' b'22.0' b'13.0' b'nan' b'22.0' b'22.0' b'22.0'\n",
      " b'22.0' b'22.0' b'211.0' b'22.0' b'22.0' b'22.0' b'22.0' b'22.0'\n",
      " b'-211.0' b'22.0' b'evt47924683']\n",
      "\n",
      "Will save data to: /nfs/dust/belle2/user/axelheim/MC_studies/ROEcleanup/caupi/data/Bsig_isSig1/caupi_allExtras is True \n",
      "\n",
      "numEvents: 880\n",
      "num_FSPs_toData: 2\n"
     ]
    },
    {
     "name": "stdout",
     "output_type": "stream",
     "text": [
      "leaves.shape: (880, 2, 15)\n",
      "SA_target.shape: (880, 2)\n",
      "global_tag.shape: (880, 3)\n",
      "leaves[0]: [[ 7.66222402e-02 -1.41364992e-01  1.63779601e-01  2.29518597e-01\n",
      "   0.00000000e+00  0.00000000e+00  1.18686603e-09  2.23517418e-10\n",
      "   2.00000000e+00  1.00000000e+00 -1.00000000e+00 -1.00000000e+00\n",
      "  -1.00000000e+00 -1.00000000e+00 -1.00000000e+00]\n",
      " [ 4.88016784e-01 -3.79486024e-01  6.71608508e-01  1.03775960e+00\n",
      "   4.93676990e-01 -1.00000000e+00  2.35286168e-03  2.26462343e-02\n",
      "   2.00000000e+00  9.55078125e-01  1.27901329e-17  1.00000000e+00\n",
      "   3.41348795e-13  2.10340184e-17  2.74405510e-39]]\n",
      "SA_target[0]: [0. 1.]\n",
      "global_tag[0]: [b'nan' b'-321.0' b'evt354552']\n",
      "\n",
      "numEvents: 2456\n",
      "num_FSPs_toData: 3\n",
      "leaves.shape: (2456, 3, 15)\n",
      "SA_target.shape: (2456, 3)\n",
      "global_tag.shape: (2456, 4)\n",
      "leaves[0]: [[-1.85390547e-01  4.93156672e-01  1.42012846e+00  1.51470724e+00\n",
      "   0.00000000e+00  0.00000000e+00  1.18686603e-09  2.23517418e-10\n",
      "   1.00000000e+00  9.84375000e-01 -1.00000000e+00 -1.00000000e+00\n",
      "  -1.00000000e+00 -1.00000000e+00 -1.00000000e+00]\n",
      " [ 1.44239873e-01  3.25832576e-01 -2.79646944e-02  6.09484211e-01\n",
      "   4.93676990e-01 -1.00000000e+00  1.63393849e-01  8.52897483e-02\n",
      "  -1.00000000e+00 -1.00000000e+00  1.54536998e-06  9.93977542e-01\n",
      "   7.11427844e-13  4.23586864e-07  1.34533540e-09]\n",
      " [-1.41475257e-02  2.16443427e-02  7.37803578e-02  7.81803764e-02\n",
      "   0.00000000e+00  0.00000000e+00  1.18686603e-09  2.23517418e-10\n",
      "   1.00000000e+00  1.00000000e+00 -1.00000000e+00 -1.00000000e+00\n",
      "  -1.00000000e+00 -1.00000000e+00 -1.00000000e+00]]\n",
      "SA_target[0]: [1. 1. 0.]\n",
      "global_tag[0]: [b'22.0' b'-211.0' b'nan' b'evt3680894']\n",
      "\n",
      "numEvents: 4075\n",
      "num_FSPs_toData: 4\n",
      "leaves.shape: (4075, 4, 15)\n",
      "SA_target.shape: (4075, 4)\n",
      "global_tag.shape: (4075, 5)\n",
      "leaves[0]: [[-4.28518265e-01  7.63365254e-03  4.11018133e-01  5.93819907e-01\n",
      "   0.00000000e+00  0.00000000e+00  1.18686603e-09  2.23517418e-10\n",
      "   2.00000000e+00  9.79492188e-01 -1.00000000e+00 -1.00000000e+00\n",
      "  -1.00000000e+00 -1.00000000e+00 -1.00000000e+00]\n",
      " [-8.06705594e-01 -1.01755954e-01  9.56443191e-01  1.25535324e+00\n",
      "   0.00000000e+00  0.00000000e+00  1.18686603e-09  2.23517418e-10\n",
      "   2.00000000e+00  9.96093750e-01 -1.00000000e+00 -1.00000000e+00\n",
      "  -1.00000000e+00 -1.00000000e+00 -1.00000000e+00]\n",
      " [ 1.15616906e+00 -5.13257086e-02  5.18027604e-01  1.36067292e+00\n",
      "   4.93676990e-01  1.00000000e+00  1.17582329e-02 -1.04011041e-02\n",
      "   2.00000000e+00  1.00000000e+00  5.08034587e-03  9.94570621e-01\n",
      "   6.53813619e-12  1.64189998e-05  3.32614483e-04]\n",
      " [ 4.39339995e-01 -5.17717123e-01 -6.71155676e-02  6.96444573e-01\n",
      "   1.39570385e-01 -1.00000000e+00  1.20731395e-02  9.14852058e-03\n",
      "   2.00000000e+00  1.00000000e+00  8.99578558e-01  2.92107072e-32\n",
      "   2.40313785e-09  1.00421440e-01  5.16323526e-42]]\n",
      "SA_target[0]: [1. 1. 1. 1.]\n",
      "global_tag[0]: [b'22.0' b'22.0' b'321.0' b'-211.0' b'evt2336453']\n",
      "\n",
      "numEvents: 6116\n",
      "num_FSPs_toData: 5\n",
      "leaves.shape: (6116, 5, 15)\n",
      "SA_target.shape: (6116, 5)\n",
      "global_tag.shape: (6116, 6)\n",
      "leaves[0]: [[-8.55468970e-04  9.99916866e-02  1.01668380e-01  1.42602695e-01\n",
      "   0.00000000e+00  0.00000000e+00  1.18686603e-09  2.23517418e-10\n",
      "   2.00000000e+00  9.64843750e-01 -1.00000000e+00 -1.00000000e+00\n",
      "  -1.00000000e+00 -1.00000000e+00 -1.00000000e+00]\n",
      " [-3.42634805e-02  6.44689575e-02 -1.12393377e-02  7.38684999e-02\n",
      "   0.00000000e+00  0.00000000e+00  1.18686603e-09  2.23517418e-10\n",
      "   2.00000000e+00  9.58984375e-01 -1.00000000e+00 -1.00000000e+00\n",
      "  -1.00000000e+00 -1.00000000e+00 -1.00000000e+00]\n",
      " [ 6.62819371e-02  2.00186476e-01  2.50704587e-01  3.27598398e-01\n",
      "   0.00000000e+00  0.00000000e+00  1.18686603e-09  2.23517418e-10\n",
      "   2.00000000e+00  9.95117188e-01 -1.00000000e+00 -1.00000000e+00\n",
      "  -1.00000000e+00 -1.00000000e+00 -1.00000000e+00]\n",
      " [ 2.01270476e-01  1.29302621e+00  1.53144658e+00  2.01921645e+00\n",
      "   1.39570385e-01 -1.00000000e+00  4.04639022e-03  8.72461645e-02\n",
      "   2.00000000e+00  9.88281250e-01  9.98857786e-01  6.28020015e-04\n",
      "   5.13733854e-04  4.59824500e-07  3.84807629e-16]\n",
      " [ 2.20193490e-01 -6.32354915e-01  8.60274315e-01  1.19672335e+00\n",
      "   4.93676990e-01  1.00000000e+00  1.70840511e-03  8.40310045e-02\n",
      "   2.00000000e+00  9.37500000e-01  1.41392317e-04  9.99858436e-01\n",
      "   1.77246411e-10  1.71602777e-07  4.20190950e-22]]\n",
      "SA_target[0]: [0. 0. 1. 1. 1.]\n",
      "global_tag[0]: [b'nan' b'nan' b'22.0' b'-211.0' b'321.0' b'evt14412']\n",
      "\n",
      "numEvents: 7395\n",
      "num_FSPs_toData: 6\n",
      "leaves.shape: (7395, 6, 15)\n",
      "SA_target.shape: (7395, 6)\n",
      "global_tag.shape: (7395, 7)\n",
      "leaves[0]: [[ 1.48384258e-01 -1.37186021e-01 -4.00391370e-01  4.48498764e-01\n",
      "   0.00000000e+00  0.00000000e+00  1.18686603e-09  2.23517418e-10\n",
      "   3.00000000e+00  9.95117188e-01 -1.00000000e+00 -1.00000000e+00\n",
      "  -1.00000000e+00 -1.00000000e+00 -1.00000000e+00]\n",
      " [ 1.84056103e-01 -3.48619014e-01 -1.14052575e-02  3.94388065e-01\n",
      "   0.00000000e+00  0.00000000e+00  1.18686603e-09  2.23517418e-10\n",
      "   2.00000000e+00  9.81445312e-01 -1.00000000e+00 -1.00000000e+00\n",
      "  -1.00000000e+00 -1.00000000e+00 -1.00000000e+00]\n",
      " [-3.67355406e-01 -7.48791248e-02  7.68503070e-01  9.87355466e-01\n",
      "   4.93676990e-01 -1.00000000e+00  2.16345523e-03 -2.56165040e-02\n",
      "   1.00000000e+00  9.78515625e-01  6.28912139e-05  9.99926219e-01\n",
      "   1.16494463e-09  1.08774671e-05  1.07118142e-08]\n",
      " [ 3.09266806e-01  1.91782609e-01  7.24106073e-01  9.48932612e-01\n",
      "   4.93676990e-01  1.00000000e+00  3.72846825e-03 -4.08876999e-02\n",
      "  -1.00000000e+00 -1.00000000e+00  8.33590363e-07  9.99941409e-01\n",
      "   4.88824003e-08  8.99385091e-08  5.76183985e-05]\n",
      " [ 4.11266714e-01 -5.81772029e-02  4.14440036e-01  5.86758418e-01\n",
      "   0.00000000e+00  0.00000000e+00  1.18686603e-09  2.23517418e-10\n",
      "   2.00000000e+00  9.91210938e-01 -1.00000000e+00 -1.00000000e+00\n",
      "  -1.00000000e+00 -1.00000000e+00 -1.00000000e+00]\n",
      " [-7.25615025e-01  3.57220292e-01  6.67808652e-01  1.05809819e+00\n",
      "   1.39570385e-01  1.00000000e+00  2.62914902e-03 -3.13171269e-02\n",
      "   2.00000000e+00  7.56835938e-01  8.44931578e-01  1.54770230e-01\n",
      "   8.99167334e-06  2.89080036e-04  1.20617601e-07]]\n",
      "SA_target[0]: [1. 1. 1. 1. 1. 1.]\n",
      "global_tag[0]: [b'22.0' b'22.0' b'-321.0' b'321.0' b'22.0' b'211.0' b'evt4083421']\n",
      "\n",
      "numEvents: 7724\n",
      "num_FSPs_toData: 7\n",
      "leaves.shape: (7724, 7, 15)\n",
      "SA_target.shape: (7724, 7)\n",
      "global_tag.shape: (7724, 8)\n",
      "leaves[0]: [[ 3.43977094e-01  6.60372853e-01  1.94444680e+00  2.08680756e+00\n",
      "   1.39570385e-01  1.00000000e+00  3.39559717e-03  5.44550254e-02\n",
      "   1.00000000e+00  9.47265625e-01  9.56681863e-01  4.85316702e-09\n",
      "   1.67992974e-03  4.16380440e-02  1.58155581e-07]\n",
      " [ 2.69681543e-01 -1.60678059e-01 -4.17886347e-01  7.18951697e-01\n",
      "   4.93676990e-01  1.00000000e+00  7.06209208e-02 -6.14030368e-02\n",
      "  -1.00000000e+00 -1.00000000e+00  1.96824620e-05  9.73583478e-01\n",
      "   2.63707081e-02  2.20195276e-05  4.06990255e-06]\n",
      " [ 2.43606586e-02 -2.97293738e-02  4.37549949e-02  5.82389640e-02\n",
      "   0.00000000e+00  0.00000000e+00  1.18686603e-09  2.23517418e-10\n",
      "   2.00000000e+00  1.00000000e+00 -1.00000000e+00 -1.00000000e+00\n",
      "  -1.00000000e+00 -1.00000000e+00 -1.00000000e+00]\n",
      " [ 7.74964038e-03  3.30558121e-02  2.35637184e-02  4.13278655e-02\n",
      "   0.00000000e+00  0.00000000e+00  1.18686603e-09  2.23517418e-10\n",
      "   2.00000000e+00  1.00000000e+00 -1.00000000e+00 -1.00000000e+00\n",
      "  -1.00000000e+00 -1.00000000e+00 -1.00000000e+00]\n",
      " [-9.48716626e-02 -1.12131022e-01  7.70790279e-02  1.65876987e-01\n",
      "   0.00000000e+00  0.00000000e+00  1.18686603e-09  2.23517418e-10\n",
      "   2.00000000e+00  1.00000000e+00 -1.00000000e+00 -1.00000000e+00\n",
      "  -1.00000000e+00 -1.00000000e+00 -1.00000000e+00]\n",
      " [-1.25484124e-01 -3.09207588e-01  3.52993719e-02  3.35561684e-01\n",
      "   0.00000000e+00  0.00000000e+00  1.18686603e-09  2.23517418e-10\n",
      "   2.00000000e+00  9.99023438e-01 -1.00000000e+00 -1.00000000e+00\n",
      "  -1.00000000e+00 -1.00000000e+00 -1.00000000e+00]\n",
      " [ 2.07537919e-01 -7.63459086e-01  7.38171339e-01  1.09101722e+00\n",
      "   1.39570385e-01 -1.00000000e+00  8.82528922e-03  4.03203711e-02\n",
      "   2.00000000e+00  9.63867188e-01  9.98977500e-01  4.79789296e-05\n",
      "   9.17170103e-04  5.73514558e-05  4.68409150e-18]]\n",
      "SA_target[0]: [1. 1. 0. 0. 1. 1. 1.]\n",
      "global_tag[0]: [b'211.0' b'321.0' b'nan' b'nan' b'22.0' b'22.0' b'-211.0' b'evt11979']\n",
      "\n",
      "numEvents: 7484\n",
      "num_FSPs_toData: 8\n",
      "leaves.shape: (7484, 8, 15)\n",
      "SA_target.shape: (7484, 8)\n",
      "global_tag.shape: (7484, 9)\n",
      "leaves[0]: [[-1.29938170e-01 -3.26274365e-01 -2.35104322e-01  4.22626232e-01\n",
      "   0.00000000e+00  0.00000000e+00  1.18686603e-09  2.23517418e-10\n",
      "   2.00000000e+00  9.90234375e-01 -1.00000000e+00 -1.00000000e+00\n",
      "  -1.00000000e+00 -1.00000000e+00 -1.00000000e+00]\n",
      " [-3.28106076e-01 -4.84695673e-01 -5.18762767e-01  7.82111438e-01\n",
      "   0.00000000e+00  0.00000000e+00  1.18686603e-09  2.23517418e-10\n",
      "   3.00000000e+00  9.73632812e-01 -1.00000000e+00 -1.00000000e+00\n",
      "  -1.00000000e+00 -1.00000000e+00 -1.00000000e+00]\n",
      " [-8.82310420e-02 -3.90358455e-02 -4.97654639e-02  1.08559271e-01\n",
      "   0.00000000e+00  0.00000000e+00  1.18686603e-09  2.23517418e-10\n",
      "   2.00000000e+00  1.00000000e+00 -1.00000000e+00 -1.00000000e+00\n",
      "  -1.00000000e+00 -1.00000000e+00 -1.00000000e+00]\n",
      " [ 1.92968100e-02  4.40804102e-02 -9.65481275e-04  4.81288021e-02\n",
      "   0.00000000e+00  0.00000000e+00  1.18686603e-09  2.23517418e-10\n",
      "   2.00000000e+00  1.00000000e+00 -1.00000000e+00 -1.00000000e+00\n",
      "  -1.00000000e+00 -1.00000000e+00 -1.00000000e+00]\n",
      " [-1.28691806e-03  3.34380083e-02  4.67803180e-02  5.75165603e-02\n",
      "   0.00000000e+00  0.00000000e+00  1.18686603e-09  2.23517418e-10\n",
      "   2.00000000e+00  1.00000000e+00 -1.00000000e+00 -1.00000000e+00\n",
      "  -1.00000000e+00 -1.00000000e+00 -1.00000000e+00]\n",
      " [ 1.20639456e-02  6.96485937e-02  5.59779517e-02  9.01664930e-02\n",
      "   0.00000000e+00  0.00000000e+00  1.18686603e-09  2.23517418e-10\n",
      "   2.00000000e+00  8.90625000e-01 -1.00000000e+00 -1.00000000e+00\n",
      "  -1.00000000e+00 -1.00000000e+00 -1.00000000e+00]\n",
      " [ 2.48376235e-01 -2.08442897e-01 -1.89750135e-01  6.20371888e-01\n",
      "   4.93676990e-01  1.00000000e+00  7.23554406e-03 -8.38109290e-04\n",
      "  -1.00000000e+00 -1.00000000e+00  2.47440728e-81  1.00000000e+00\n",
      "   1.81643887e-34  1.44274787e-88  7.71101214e-24]\n",
      " [ 2.80257255e-01  7.31428027e-01  6.12049937e-01  1.10988882e+00\n",
      "   4.93676990e-01 -1.00000000e+00  1.51236798e-03 -1.27303001e-03\n",
      "   2.00000000e+00  9.80468750e-01  2.64360911e-07  9.99999736e-01\n",
      "   2.88608132e-12  6.41055760e-11  4.18967014e-20]]\n",
      "SA_target[0]: [1. 1. 1. 1. 0. 0. 1. 1.]\n",
      "global_tag[0]: [b'22.0' b'22.0' b'22.0' b'22.0' b'nan' b'nan' b'321.0' b'-321.0'\n",
      " b'evt2339666']\n"
     ]
    },
    {
     "name": "stdout",
     "output_type": "stream",
     "text": [
      "\n",
      "numEvents: 6635\n",
      "num_FSPs_toData: 9\n"
     ]
    }
   ],
   "source": [
    "minFSPs = 2 # minimum: Btag: 2 particles\n",
    "for var_comb in variable_combinations:\n",
    "    ablationSub = var_comb[1]\n",
    "    data_dir = Path(nfs_path + data_savedir + \"/\" + ablationSub + \"/\")    \n",
    "    if save_data:\n",
    "        data_dir.mkdir(parents=True, exist_ok=True)\n",
    "    print(\"Will save data to:\", data_dir,'is', save_data ,'\\n')\n",
    "\n",
    "\n",
    "    \n",
    "    for num_FSPs_toData in range(minFSPs, maxFSPs+1):\n",
    "        df_num_subset = df_FSPs_final.copy()\n",
    "        df_num_subset = df_num_subset[df_num_subset['numFSPs'] == num_FSPs_toData]\n",
    "\n",
    "\n",
    "        numEvents = df_num_subset.__event__.nunique()\n",
    "        print(\"numEvents:\",numEvents)\n",
    "        print(\"num_FSPs_toData:\",num_FSPs_toData)  \n",
    "        if numEvents == 0:\n",
    "            print(\"skipped because empty \\n\")\n",
    "            continue\n",
    "\n",
    "        if numEvents < 10:\n",
    "            print(\"skipped because <10 events \\n\")\n",
    "            continue\n",
    "\n",
    "        num_features = 4 + len(var_comb[0])\n",
    "        leaves = np.zeros((numEvents, num_FSPs_toData,  num_features))  \n",
    "        SA_target =  np.zeros((numEvents, num_FSPs_toData))\n",
    "        global_tag = np.chararray((numEvents, num_FSPs_toData + 1), itemsize=30)\n",
    "\n",
    "        event_list = df_num_subset[df_num_subset[\"numFSPs\"] == num_FSPs_toData][\"__event__\"].unique()\n",
    "        #print(\"len(event_list):\",len(event_list))\n",
    "        for i in range(numEvents):\n",
    "\n",
    "            event_iter = event_list[i]\n",
    "\n",
    "            global_tag_masterInfo = \"evt\" + str(event_iter)\n",
    "            global_tag[i,-1] = global_tag_masterInfo\n",
    "            #print(\"global_tag[i,-1]:\",global_tag[i,-1])\n",
    "            #print(\"i:\",i,\"event_iter:\",event_iter)\n",
    "\n",
    "            event_df = df_num_subset[df_num_subset.__event__ == event_iter]\n",
    "\n",
    "            for j in range(num_FSPs_toData):\n",
    "                #print(\"numParticle:\",j)\n",
    "                particle = event_df.iloc[j]\n",
    "\n",
    "                #print(particle[\"mcPDG\"],particle[\"px\"],particle[\"py\"],particle[\"pz\"],particle[\"E\"])\n",
    "                leaves[i,j,0] = particle[\"px\"]\n",
    "                leaves[i,j,1] = particle[\"py\"]\n",
    "                leaves[i,j,2] = particle[\"pz\"]\n",
    "                leaves[i,j,3] = particle[\"E\"]\n",
    "                \n",
    "                for k in range(len(var_comb[0])):\n",
    "                    leav_idx = k + 4\n",
    "                    leaves[i,j,leav_idx] = particle[var_comb[0][k]]\n",
    "                    \n",
    "\n",
    "\n",
    "\n",
    "                global_tag_Info = str((particle[\"mcPDG\"])) \n",
    "                global_tag[i,j] = global_tag_Info\n",
    "\n",
    "        \n",
    "                SA_target[i,j] = particle[\"label\"]\n",
    "\n",
    "            del event_df\n",
    "\n",
    "\n",
    "        # shuffle the data    \n",
    "        for idx in np.arange(leaves.shape[0]):   # arange is like range but gives ndarray instead of list\n",
    "            perms = np.random.permutation(leaves.shape[1])\n",
    "\n",
    "            leaves[idx,:] = leaves[idx,perms]\n",
    "            SA_target[idx,:] = SA_target[idx,perms]\n",
    "            global_tag[idx,0:-1] = global_tag[idx,perms]\n",
    "\n",
    "\n",
    "\n",
    "\n",
    "\n",
    "        #print(global_tag)\n",
    "        train_ratio = 0.8\n",
    "        validation_ratio = 0.2\n",
    "        #test_ratio = 0.1\n",
    "\n",
    "        print(\"leaves.shape:\",leaves.shape)\n",
    "        print(\"SA_target.shape:\",SA_target.shape)\n",
    "        print(\"global_tag.shape:\",global_tag.shape)\n",
    "\n",
    "\n",
    "        print(\"leaves[0]:\",leaves[0])\n",
    "        print(\"SA_target[0]:\",SA_target[0])\n",
    "        print(\"global_tag[0]:\",global_tag[0])\n",
    "\n",
    "        x=leaves\n",
    "        y=SA_target\n",
    "        z=global_tag\n",
    "\n",
    "        x_train, x_val, y_train, y_val, z_train, z_val = train_test_split(x, y, z, test_size=1 - train_ratio, shuffle=False)\n",
    "        #x_train, x_test, y_train, y_test, z_train, z_test = train_test_split(x, y, z, test_size=1 - train_ratio, shuffle=False)\n",
    "        #x_val, x_test, y_val, y_test, z_val, z_test = train_test_split(x_test, y_test, z_test, test_size=test_ratio/(test_ratio + validation_ratio), shuffle=False) \n",
    "\n",
    "        if save_data==True:\n",
    "            np.save(data_dir / \"leaves_train_FSP{}.npy\".format(num_FSPs_toData), x_train)\n",
    "            np.save(data_dir / \"is_left_arr_train_FSP{}.npy\".format(num_FSPs_toData), y_train)\n",
    "            np.save(data_dir / \"global_tag_train_FSP{}.npy\".format(num_FSPs_toData), z_train)\n",
    "\n",
    "            np.save(data_dir / \"leaves_val_FSP{}.npy\".format(num_FSPs_toData), x_val)\n",
    "            np.save(data_dir / \"is_left_arr_val_FSP{}.npy\".format(num_FSPs_toData), y_val)\n",
    "            np.save(data_dir / \"global_tag_val_FSP{}.npy\".format(num_FSPs_toData), z_val)\n",
    "\n",
    "            #np.save(data_dir / \"leaves_test_FSP{}.npy\".format(num_FSPs_toData), x_test)\n",
    "            #np.save(data_dir / \"is_left_arr_test_FSP{}.npy\".format(num_FSPs_toData), y_test)\n",
    "            #np.save(data_dir / \"global_tag_test_FSP{}.npy\".format(num_FSPs_toData), z_test)\n",
    "\n",
    "\n",
    "        print(\"\")\n",
    "\n",
    "\n",
    "        del df_num_subset\n"
   ]
  },
  {
   "cell_type": "code",
   "execution_count": null,
   "id": "7409187d",
   "metadata": {},
   "outputs": [],
   "source": [
    "print(\"saving is done\")\n",
    "now = datetime.now()\n",
    "print(\"time at end =\", now)"
   ]
  },
  {
   "cell_type": "code",
   "execution_count": null,
   "id": "a8aff462",
   "metadata": {},
   "outputs": [],
   "source": []
  },
  {
   "cell_type": "code",
   "execution_count": null,
   "id": "2d5d92b8",
   "metadata": {},
   "outputs": [],
   "source": []
  },
  {
   "cell_type": "code",
   "execution_count": null,
   "id": "6c56602a",
   "metadata": {},
   "outputs": [],
   "source": []
  },
  {
   "cell_type": "markdown",
   "id": "f3208831",
   "metadata": {},
   "source": [
    "## additional analysis on Bsig correctness"
   ]
  },
  {
   "cell_type": "code",
   "execution_count": 19,
   "id": "83771bf3",
   "metadata": {},
   "outputs": [],
   "source": [
    "FSPs_noDuplis = df_FSPs.drop_duplicates(subset=(\"uniqueParticleIdentifier\",\"__event__\"), keep='first')"
   ]
  },
  {
   "cell_type": "code",
   "execution_count": 20,
   "id": "8712c213",
   "metadata": {},
   "outputs": [],
   "source": [
    "FSPs_noDuplis = FSPs_noDuplis[FSPs_noDuplis['__event__'].isin(Bsig_cand_df[\"__event__\"])]"
   ]
  },
  {
   "cell_type": "code",
   "execution_count": 21,
   "id": "34a8ef8e",
   "metadata": {},
   "outputs": [],
   "source": [
    "FSPs_noDuplis['B_ID'] = FSPs_noDuplis.apply(B_ID, axis=1)"
   ]
  },
  {
   "cell_type": "code",
   "execution_count": 22,
   "id": "678c0e4a",
   "metadata": {},
   "outputs": [
    {
     "data": {
      "text/plain": [
       "83886082    2088965\n",
       "83886081    2081963\n",
       "0            763802\n",
       "Name: B_ID, dtype: int64"
      ]
     },
     "execution_count": 22,
     "metadata": {},
     "output_type": "execute_result"
    }
   ],
   "source": [
    "FSPs_noDuplis['B_ID'].value_counts()"
   ]
  },
  {
   "cell_type": "code",
   "execution_count": 23,
   "id": "90416d4f",
   "metadata": {},
   "outputs": [
    {
     "name": "stdout",
     "output_type": "stream",
     "text": [
      "4934730\n",
      "4934730\n"
     ]
    }
   ],
   "source": [
    "print(FSPs_noDuplis.shape[0])\n",
    "FSPs_noDuplis = pd.merge(FSPs_noDuplis, Bsig_cand_df[[\"__event__\",\"Bsig_uniqParID\"]], on=\"__event__\")\n",
    "print(FSPs_noDuplis.shape[0])"
   ]
  },
  {
   "cell_type": "code",
   "execution_count": 24,
   "id": "736e52d3",
   "metadata": {},
   "outputs": [],
   "source": [
    "FSPs_noDuplis[\"genBsig_descendant\"] = (FSPs_noDuplis[\"B_ID\"] == FSPs_noDuplis[\"Bsig_uniqParID\"]).astype(int)"
   ]
  },
  {
   "cell_type": "code",
   "execution_count": 25,
   "id": "98bf3944",
   "metadata": {},
   "outputs": [
    {
     "data": {
      "text/plain": [
       "count    4.934730e+06\n",
       "mean     2.998267e-01\n",
       "std      4.581820e-01\n",
       "min      0.000000e+00\n",
       "25%      0.000000e+00\n",
       "50%      0.000000e+00\n",
       "75%      1.000000e+00\n",
       "max      1.000000e+00\n",
       "Name: genBsig_descendant, dtype: float64"
      ]
     },
     "execution_count": 25,
     "metadata": {},
     "output_type": "execute_result"
    }
   ],
   "source": [
    "FSPs_noDuplis['genBsig_descendant'].describe()"
   ]
  },
  {
   "cell_type": "code",
   "execution_count": 26,
   "id": "6fb41bb0",
   "metadata": {
    "scrolled": true
   },
   "outputs": [
    {
     "data": {
      "text/plain": [
       "0.0    220628\n",
       "1.0     31483\n",
       "2.0     28070\n",
       "Name: Bsig_genParticleID, dtype: int64"
      ]
     },
     "execution_count": 26,
     "metadata": {},
     "output_type": "execute_result"
    }
   ],
   "source": [
    "Bsig_cand_df[\"Bsig_genParticleID\"].value_counts()"
   ]
  },
  {
   "cell_type": "code",
   "execution_count": 27,
   "id": "e9438b23",
   "metadata": {},
   "outputs": [
    {
     "data": {
      "text/html": [
       "<div>\n",
       "<style scoped>\n",
       "    .dataframe tbody tr th:only-of-type {\n",
       "        vertical-align: middle;\n",
       "    }\n",
       "\n",
       "    .dataframe tbody tr th {\n",
       "        vertical-align: top;\n",
       "    }\n",
       "\n",
       "    .dataframe thead th {\n",
       "        text-align: right;\n",
       "    }\n",
       "</style>\n",
       "<table border=\"1\" class=\"dataframe\">\n",
       "  <thead>\n",
       "    <tr style=\"text-align: right;\">\n",
       "      <th></th>\n",
       "      <th>Bsig_genParticleID</th>\n",
       "      <th>Bsig_uniqParID</th>\n",
       "      <th>count</th>\n",
       "    </tr>\n",
       "  </thead>\n",
       "  <tbody>\n",
       "    <tr>\n",
       "      <th>0</th>\n",
       "      <td>0.0</td>\n",
       "      <td>83886081.0</td>\n",
       "      <td>115373</td>\n",
       "    </tr>\n",
       "    <tr>\n",
       "      <th>1</th>\n",
       "      <td>0.0</td>\n",
       "      <td>83886082.0</td>\n",
       "      <td>105255</td>\n",
       "    </tr>\n",
       "    <tr>\n",
       "      <th>2</th>\n",
       "      <td>1.0</td>\n",
       "      <td>83886081.0</td>\n",
       "      <td>31239</td>\n",
       "    </tr>\n",
       "    <tr>\n",
       "      <th>3</th>\n",
       "      <td>1.0</td>\n",
       "      <td>83886082.0</td>\n",
       "      <td>244</td>\n",
       "    </tr>\n",
       "    <tr>\n",
       "      <th>4</th>\n",
       "      <td>2.0</td>\n",
       "      <td>83886081.0</td>\n",
       "      <td>1167</td>\n",
       "    </tr>\n",
       "    <tr>\n",
       "      <th>5</th>\n",
       "      <td>2.0</td>\n",
       "      <td>83886082.0</td>\n",
       "      <td>26903</td>\n",
       "    </tr>\n",
       "  </tbody>\n",
       "</table>\n",
       "</div>"
      ],
      "text/plain": [
       "   Bsig_genParticleID  Bsig_uniqParID   count\n",
       "0                 0.0      83886081.0  115373\n",
       "1                 0.0      83886082.0  105255\n",
       "2                 1.0      83886081.0   31239\n",
       "3                 1.0      83886082.0     244\n",
       "4                 2.0      83886081.0    1167\n",
       "5                 2.0      83886082.0   26903"
      ]
     },
     "execution_count": 27,
     "metadata": {},
     "output_type": "execute_result"
    }
   ],
   "source": [
    "genBsigs = pd.DataFrame({'count' : Bsig_cand_df.groupby( [\"Bsig_genParticleID\",\"Bsig_uniqParID\"] ).size()}).reset_index()\n",
    "genBsigs"
   ]
  },
  {
   "cell_type": "code",
   "execution_count": 28,
   "id": "7ef08e73",
   "metadata": {},
   "outputs": [
    {
     "name": "stdout",
     "output_type": "stream",
     "text": [
      "58142\n"
     ]
    },
    {
     "data": {
      "text/plain": [
       "count    674085.000000\n",
       "mean          0.325314\n",
       "std           0.468492\n",
       "min           0.000000\n",
       "25%           0.000000\n",
       "50%           0.000000\n",
       "75%           1.000000\n",
       "max           1.000000\n",
       "Name: genBsig_descendant, dtype: float64"
      ]
     },
     "execution_count": 28,
     "metadata": {},
     "output_type": "execute_result"
    }
   ],
   "source": [
    "tmp = Bsig_cand_df[((((Bsig_cand_df[\"Bsig_genParticleID\"] == 1.0) & (Bsig_cand_df[\"Bsig_uniqParID\"] == 83886081.0))) | \n",
    "                   ((Bsig_cand_df[\"Bsig_genParticleID\"] == 2.0) & (Bsig_cand_df[\"Bsig_uniqParID\"] == 83886082.0)))]\n",
    "print(tmp.shape[0])\n",
    "\n",
    "tmpFSPs = FSPs_noDuplis[FSPs_noDuplis['__event__'].isin(tmp[\"__event__\"])]\n",
    "\n",
    "\n",
    "tmpFSPs['genBsig_descendant'].describe()"
   ]
  },
  {
   "cell_type": "code",
   "execution_count": 29,
   "id": "c9b367d3",
   "metadata": {
    "scrolled": false
   },
   "outputs": [
    {
     "data": {
      "text/html": [
       "<div>\n",
       "<style scoped>\n",
       "    .dataframe tbody tr th:only-of-type {\n",
       "        vertical-align: middle;\n",
       "    }\n",
       "\n",
       "    .dataframe tbody tr th {\n",
       "        vertical-align: top;\n",
       "    }\n",
       "\n",
       "    .dataframe thead th {\n",
       "        text-align: right;\n",
       "    }\n",
       "</style>\n",
       "<table border=\"1\" class=\"dataframe\">\n",
       "  <thead>\n",
       "    <tr style=\"text-align: right;\">\n",
       "      <th></th>\n",
       "      <th>genBsig_descendant</th>\n",
       "      <th>Bsig_used</th>\n",
       "      <th>count</th>\n",
       "      <th>fraction</th>\n",
       "    </tr>\n",
       "  </thead>\n",
       "  <tbody>\n",
       "    <tr>\n",
       "      <th>0</th>\n",
       "      <td>0</td>\n",
       "      <td>0.0</td>\n",
       "      <td>3079555</td>\n",
       "      <td>0.624057</td>\n",
       "    </tr>\n",
       "    <tr>\n",
       "      <th>1</th>\n",
       "      <td>0</td>\n",
       "      <td>1.0</td>\n",
       "      <td>375611</td>\n",
       "      <td>0.076116</td>\n",
       "    </tr>\n",
       "    <tr>\n",
       "      <th>2</th>\n",
       "      <td>1</td>\n",
       "      <td>0.0</td>\n",
       "      <td>694162</td>\n",
       "      <td>0.140669</td>\n",
       "    </tr>\n",
       "    <tr>\n",
       "      <th>3</th>\n",
       "      <td>1</td>\n",
       "      <td>1.0</td>\n",
       "      <td>785402</td>\n",
       "      <td>0.159158</td>\n",
       "    </tr>\n",
       "  </tbody>\n",
       "</table>\n",
       "</div>"
      ],
      "text/plain": [
       "   genBsig_descendant  Bsig_used    count  fraction\n",
       "0                   0        0.0  3079555  0.624057\n",
       "1                   0        1.0   375611  0.076116\n",
       "2                   1        0.0   694162  0.140669\n",
       "3                   1        1.0   785402  0.159158"
      ]
     },
     "execution_count": 29,
     "metadata": {},
     "output_type": "execute_result"
    }
   ],
   "source": [
    "Bsig_correctness = pd.DataFrame({'count' : FSPs_noDuplis.groupby( [\"genBsig_descendant\",\"Bsig_used\"] ).size(),\n",
    "                            'fraction' : FSPs_noDuplis.groupby( [\"genBsig_descendant\",\"Bsig_used\"] ).size()/FSPs_noDuplis.shape[0]}).reset_index()\n",
    "Bsig_correctness"
   ]
  },
  {
   "cell_type": "code",
   "execution_count": null,
   "id": "a19050d0",
   "metadata": {},
   "outputs": [],
   "source": [
    "tmpFSPs['label'] = tmpFSPs.apply(labels, axis=1)"
   ]
  },
  {
   "cell_type": "code",
   "execution_count": 32,
   "id": "3c45994c",
   "metadata": {},
   "outputs": [
    {
     "name": "stdout",
     "output_type": "stream",
     "text": [
      "count    1.161013e+06\n",
      "mean     6.764799e-01\n",
      "std      4.678194e-01\n",
      "min      0.000000e+00\n",
      "25%      0.000000e+00\n",
      "50%      1.000000e+00\n",
      "75%      1.000000e+00\n",
      "max      1.000000e+00\n",
      "Name: genBsig_descendant, dtype: float64\n",
      "count    190223.0\n",
      "mean          1.0\n",
      "std           0.0\n",
      "min           1.0\n",
      "25%           1.0\n",
      "50%           1.0\n",
      "75%           1.0\n",
      "max           1.0\n",
      "Name: genBsig_descendant, dtype: float64\n",
      "count    219289.0\n",
      "mean          1.0\n",
      "std           0.0\n",
      "min           1.0\n",
      "25%           1.0\n",
      "50%           1.0\n",
      "75%           1.0\n",
      "max           1.0\n",
      "Name: genBsig_descendant, dtype: float64\n"
     ]
    },
    {
     "name": "stderr",
     "output_type": "stream",
     "text": [
      "/usr/local/lib/python3.6/site-packages/ipykernel_launcher.py:5: SettingWithCopyWarning: \n",
      "A value is trying to be set on a copy of a slice from a DataFrame.\n",
      "Try using .loc[row_indexer,col_indexer] = value instead\n",
      "\n",
      "See the caveats in the documentation: https://pandas.pydata.org/pandas-docs/stable/user_guide/indexing.html#returning-a-view-versus-a-copy\n",
      "  \"\"\"\n"
     ]
    }
   ],
   "source": [
    "## genBsig descendants only for Bsig used each\n",
    "\n",
    "print(FSPs_noDuplis[FSPs_noDuplis[\"Bsig_used\"] == 1]['genBsig_descendant'].describe())\n",
    "\n",
    "print(tmpFSPs[tmpFSPs[\"Bsig_used\"] == 1]['genBsig_descendant'].describe())\n",
    "print(tmpFSPs[tmpFSPs[\"label\"] == 2]['genBsig_descendant'].describe())\n",
    "\n",
    "# the tmpFSPs is probably close to isSig==1, otherwise the Bsig_genParticleID wouldnt be 1 or 2"
   ]
  },
  {
   "cell_type": "code",
   "execution_count": null,
   "id": "718e1c81",
   "metadata": {},
   "outputs": [],
   "source": []
  }
 ],
 "metadata": {
  "kernelspec": {
   "display_name": "Python 3",
   "language": "python",
   "name": "python3"
  },
  "language_info": {
   "codemirror_mode": {
    "name": "ipython",
    "version": 3
   },
   "file_extension": ".py",
   "mimetype": "text/x-python",
   "name": "python",
   "nbconvert_exporter": "python",
   "pygments_lexer": "ipython3",
   "version": "3.6.8"
  }
 },
 "nbformat": 4,
 "nbformat_minor": 5
}
