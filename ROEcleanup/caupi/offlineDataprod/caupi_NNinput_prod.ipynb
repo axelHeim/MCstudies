{
 "cells": [
  {
   "cell_type": "code",
   "execution_count": 61,
   "id": "be1cc7b2",
   "metadata": {},
   "outputs": [],
   "source": [
    "import matplotlib.pyplot as plt\n",
    "import uproot\n",
    "import numpy as np\n",
    "import pandas as pd\n",
    "\n",
    "\n",
    "from datetime import datetime\n",
    "from pathlib import Path\n",
    "from sklearn.model_selection import train_test_split\n",
    "\n",
    "\n",
    "import sys\n",
    "sys.path.insert(1, '/afs/desy.de/user/a/axelheim/private/MC_studies/Dstlnu_Bt_generic/util_funcs/')\n",
    "from pandas_colFuncs import B_ID, whichBisSig, D0_decay_type, whichBisSig_NAHS"
   ]
  },
  {
   "cell_type": "markdown",
   "id": "f9cba66b",
   "metadata": {},
   "source": [
    "## set paths and conditions"
   ]
  },
  {
   "cell_type": "code",
   "execution_count": 62,
   "id": "44094698",
   "metadata": {},
   "outputs": [],
   "source": [
    "save_data = True\n",
    "\n",
    "delete_top_numFSP_evts=True"
   ]
  },
  {
   "cell_type": "code",
   "execution_count": 63,
   "id": "8a78515e",
   "metadata": {},
   "outputs": [],
   "source": [
    "nfs_path = \"/nfs/dust/belle2/user/axelheim/MC_studies/ROEcleanup/caupi/\""
   ]
  },
  {
   "cell_type": "code",
   "execution_count": 64,
   "id": "4f402dea",
   "metadata": {},
   "outputs": [],
   "source": [
    "data_savedir = \"data/svenjasCutsRun1/\"\n",
    "rawData_subdir = \"onlineRawData/svenjasCutsRun1/\"  "
   ]
  },
  {
   "cell_type": "markdown",
   "id": "4779179e",
   "metadata": {},
   "source": [
    "## load the raw data"
   ]
  },
  {
   "cell_type": "code",
   "execution_count": 65,
   "id": "78eb4586",
   "metadata": {},
   "outputs": [],
   "source": [
    "fileFSPs = uproot.open(nfs_path + rawData_subdir + \"FSPs.root:variables\")"
   ]
  },
  {
   "cell_type": "code",
   "execution_count": null,
   "id": "f22c8051",
   "metadata": {},
   "outputs": [],
   "source": [
    "df_FSPs = fileFSPs.arrays(library=\"pd\")\n",
    "df_FSPs.shape[0]"
   ]
  },
  {
   "cell_type": "code",
   "execution_count": null,
   "id": "e7f0f774",
   "metadata": {},
   "outputs": [],
   "source": [
    "Bsig_cand_File = uproot.open(nfs_path + rawData_subdir +  \"Bsig_cand.root:variables\")"
   ]
  },
  {
   "cell_type": "code",
   "execution_count": null,
   "id": "71ea623c",
   "metadata": {},
   "outputs": [],
   "source": [
    "Bsig_cand_df = Bsig_cand_File.arrays(library=\"pd\")\n",
    "Bsig_cand_df.shape[0]"
   ]
  },
  {
   "cell_type": "markdown",
   "id": "2356b083",
   "metadata": {},
   "source": [
    "## overview of data properties"
   ]
  },
  {
   "cell_type": "code",
   "execution_count": null,
   "id": "5c037749",
   "metadata": {},
   "outputs": [],
   "source": [
    "FSPs_noDuplis = df_FSPs.drop_duplicates(subset=(\"uniqueParticleIdentifier\",\"__event__\"), keep='first')\n",
    "nonBsig_FSPs = FSPs_noDuplis[FSPs_noDuplis[\"Bsig_used\"] == 0]\n",
    "#df_FSPs.groupby([\"uniqueParticleIdentifier\",'__event__', '__production__']).ngroups\n",
    "\n",
    "print(\"FSPs per event:\", round(FSPs_noDuplis.shape[0] / FSPs_noDuplis[\"__event__\"].nunique(), 2))\n",
    "print(\"non Bsig FSPs per event:\", round(nonBsig_FSPs.shape[0] / nonBsig_FSPs[\"__event__\"].nunique(), 2))"
   ]
  },
  {
   "cell_type": "code",
   "execution_count": null,
   "id": "70fa6ea8",
   "metadata": {},
   "outputs": [],
   "source": [
    "bins = np.linspace(0, 25, 24)\n",
    "\n",
    "numberOfFSPs = pd.DataFrame({'numFSPs' : nonBsig_FSPs.groupby( [\"__event__\"] ).size()}).reset_index()\n",
    "numberOfFSPs[\"numFSPs\"].hist(bins=bins)"
   ]
  },
  {
   "cell_type": "code",
   "execution_count": null,
   "id": "665f33be",
   "metadata": {},
   "outputs": [],
   "source": [
    "Bsig_cand_df['Bsig_isSignal'].mean()"
   ]
  },
  {
   "cell_type": "code",
   "execution_count": null,
   "id": "58d33d89",
   "metadata": {},
   "outputs": [],
   "source": [
    "Bsig_cand_df.shape[0]"
   ]
  },
  {
   "cell_type": "code",
   "execution_count": null,
   "id": "90e14a9b",
   "metadata": {},
   "outputs": [],
   "source": []
  },
  {
   "cell_type": "code",
   "execution_count": null,
   "id": "034a4652",
   "metadata": {},
   "outputs": [],
   "source": []
  },
  {
   "cell_type": "markdown",
   "id": "3449882f",
   "metadata": {},
   "source": [
    "# pre selection and labeling"
   ]
  },
  {
   "cell_type": "markdown",
   "id": "b88f555e",
   "metadata": {},
   "source": [
    "### delete FSP duplicates and Bsig descendants"
   ]
  },
  {
   "cell_type": "code",
   "execution_count": null,
   "id": "b784bf0b",
   "metadata": {},
   "outputs": [],
   "source": [
    "FSPs_noDuplis = df_FSPs.drop_duplicates(subset=(\"uniqueParticleIdentifier\",\"__event__\"), keep='first')\n",
    "nonBsig_FSPs = FSPs_noDuplis[FSPs_noDuplis[\"Bsig_used\"] == 0]"
   ]
  },
  {
   "cell_type": "markdown",
   "id": "054a25cb",
   "metadata": {},
   "source": [
    "### which B is Bsig? and is it the real D*lv one?"
   ]
  },
  {
   "cell_type": "code",
   "execution_count": null,
   "id": "361b2625",
   "metadata": {},
   "outputs": [],
   "source": [
    "Bsig_cand_df['Bsig_uniqParID'] = Bsig_cand_df.apply(whichBisSig_NAHS, axis=1)"
   ]
  },
  {
   "cell_type": "code",
   "execution_count": null,
   "id": "dbfce499",
   "metadata": {
    "scrolled": true
   },
   "outputs": [],
   "source": [
    "Bsig_cand_df['Bsig_uniqParID'].value_counts()"
   ]
  },
  {
   "cell_type": "markdown",
   "id": "f8c00bbe",
   "metadata": {},
   "source": [
    "### label and filter D0 modes"
   ]
  },
  {
   "cell_type": "code",
   "execution_count": null,
   "id": "4d30a1ee",
   "metadata": {},
   "outputs": [],
   "source": [
    "Bsig_cand_df['D0_decay'] = Bsig_cand_df.apply(D0_decay_type, axis=1)"
   ]
  },
  {
   "cell_type": "code",
   "execution_count": null,
   "id": "12b990be",
   "metadata": {},
   "outputs": [],
   "source": [
    "Bsig_cand_df['D0_decay'].value_counts()"
   ]
  },
  {
   "cell_type": "code",
   "execution_count": null,
   "id": "0e9411b7",
   "metadata": {},
   "outputs": [],
   "source": [
    "Bsig_cand_df = Bsig_cand_df[Bsig_cand_df['D0_decay'] != \"notWanted\"]\n",
    "Bsig_cand_df.shape[0]"
   ]
  },
  {
   "cell_type": "code",
   "execution_count": null,
   "id": "8e3cb5f6",
   "metadata": {},
   "outputs": [],
   "source": [
    "print(nonBsig_FSPs.shape[0])\n",
    "print(nonBsig_FSPs[\"__event__\"].nunique())\n",
    "\n",
    "\n",
    "nonBsig_FSPs = nonBsig_FSPs[nonBsig_FSPs['__event__'].isin(Bsig_cand_df[\"__event__\"])]\n",
    "\n",
    "\n",
    "print(nonBsig_FSPs.shape[0])\n",
    "print(nonBsig_FSPs[\"__event__\"].nunique())"
   ]
  },
  {
   "cell_type": "markdown",
   "id": "b2aee6c9",
   "metadata": {},
   "source": [
    "## label FSPs"
   ]
  },
  {
   "cell_type": "code",
   "execution_count": null,
   "id": "795b1713",
   "metadata": {},
   "outputs": [],
   "source": [
    "print(nonBsig_FSPs.shape[0])\n",
    "nonBsig_FSPs = pd.merge(nonBsig_FSPs, Bsig_cand_df[[\"__event__\",\"Bsig_uniqParID\"]], on=\"__event__\")\n",
    "print(nonBsig_FSPs.shape[0])"
   ]
  },
  {
   "cell_type": "code",
   "execution_count": null,
   "id": "8a39f100",
   "metadata": {},
   "outputs": [],
   "source": [
    "nonBsig_FSPs['B_ID'] = nonBsig_FSPs.apply(B_ID, axis=1)"
   ]
  },
  {
   "cell_type": "code",
   "execution_count": null,
   "id": "24cb6c84",
   "metadata": {},
   "outputs": [],
   "source": [
    "def labels(s):\n",
    "    label = -1\n",
    "    if int(s['B_ID']) == 0:\n",
    "        label = 0 # background, cause not related to MC Particles\n",
    "    else: \n",
    "        B_sigID = s['Bsig_uniqParID']\n",
    "        \n",
    "        if int(s['B_ID']) == B_sigID:\n",
    "            label = 2 # Bsig\n",
    "        else:\n",
    "            label = 1 # Btag\n",
    "    return label"
   ]
  },
  {
   "cell_type": "code",
   "execution_count": null,
   "id": "267acdb9",
   "metadata": {},
   "outputs": [],
   "source": [
    "nonBsig_FSPs['label'] = nonBsig_FSPs.apply(labels, axis=1)"
   ]
  },
  {
   "cell_type": "code",
   "execution_count": null,
   "id": "92d6238d",
   "metadata": {
    "scrolled": true
   },
   "outputs": [],
   "source": [
    "nonBsig_FSPs['label'].value_counts()"
   ]
  },
  {
   "cell_type": "code",
   "execution_count": null,
   "id": "fdf85d29",
   "metadata": {
    "scrolled": true
   },
   "outputs": [],
   "source": [
    "nonBsig_FSPs['label'].value_counts(normalize=True)"
   ]
  },
  {
   "cell_type": "markdown",
   "id": "0b09bc0d",
   "metadata": {},
   "source": [
    "## new step: only for Bsig isSig==1, check which evts still have label==2, despite Bsig isSig==1"
   ]
  },
  {
   "cell_type": "code",
   "execution_count": 30,
   "id": "2ade72eb",
   "metadata": {},
   "outputs": [],
   "source": [
    "label2_FSPs = nonBsig_FSPs[nonBsig_FSPs['label']==2]"
   ]
  },
  {
   "cell_type": "code",
   "execution_count": 31,
   "id": "e0d1810b",
   "metadata": {},
   "outputs": [],
   "source": [
    "TMP_nonLabel2_FSPs = nonBsig_FSPs[~nonBsig_FSPs['__event__'].isin(label2_FSPs[\"__event__\"])]"
   ]
  },
  {
   "cell_type": "code",
   "execution_count": 32,
   "id": "f33f9117",
   "metadata": {},
   "outputs": [
    {
     "data": {
      "text/plain": [
       "1    240192\n",
       "0     48529\n",
       "Name: label, dtype: int64"
      ]
     },
     "execution_count": 32,
     "metadata": {},
     "output_type": "execute_result"
    }
   ],
   "source": [
    "TMP_nonLabel2_FSPs[\"label\"].value_counts()"
   ]
  },
  {
   "cell_type": "code",
   "execution_count": 33,
   "id": "47342faa",
   "metadata": {},
   "outputs": [
    {
     "data": {
      "text/plain": [
       "28846"
      ]
     },
     "execution_count": 33,
     "metadata": {},
     "output_type": "execute_result"
    }
   ],
   "source": [
    "TMP_nonLabel2_FSPs[\"__event__\"].nunique()"
   ]
  },
  {
   "cell_type": "code",
   "execution_count": 34,
   "id": "c1d9c1c7",
   "metadata": {},
   "outputs": [],
   "source": [
    "Bsig_cand_df_tmp = Bsig_cand_df[Bsig_cand_df['__event__'].isin(TMP_nonLabel2_FSPs[\"__event__\"])]"
   ]
  },
  {
   "cell_type": "code",
   "execution_count": 35,
   "id": "241849f0",
   "metadata": {},
   "outputs": [
    {
     "data": {
      "text/plain": [
       "28846"
      ]
     },
     "execution_count": 35,
     "metadata": {},
     "output_type": "execute_result"
    }
   ],
   "source": [
    "Bsig_cand_df_tmp.shape[0]"
   ]
  },
  {
   "cell_type": "code",
   "execution_count": 36,
   "id": "e31b2ecd",
   "metadata": {},
   "outputs": [
    {
     "data": {
      "text/plain": [
       "Kpipi0        14409\n",
       "Kpi           11900\n",
       "Kpipipi        2184\n",
       "Kpipipipi0      353\n",
       "Name: D0_decay, dtype: int64"
      ]
     },
     "execution_count": 36,
     "metadata": {},
     "output_type": "execute_result"
    }
   ],
   "source": [
    "Bsig_cand_df_tmp['D0_decay'].value_counts()"
   ]
  },
  {
   "cell_type": "code",
   "execution_count": 37,
   "id": "3e95c23f",
   "metadata": {},
   "outputs": [],
   "source": [
    "Bsig_cand_df = Bsig_cand_df_tmp\n",
    "nonBsig_FSPs = TMP_nonLabel2_FSPs"
   ]
  },
  {
   "cell_type": "markdown",
   "id": "0b17437a",
   "metadata": {},
   "source": [
    "### check max num FSPs per event"
   ]
  },
  {
   "cell_type": "code",
   "execution_count": null,
   "id": "de8f51a2",
   "metadata": {},
   "outputs": [],
   "source": [
    "numberFSPsEvts = pd.DataFrame({'count' : nonBsig_FSPs.groupby([\"__event__\"]).size()}).reset_index()\n",
    "numberFSPsEvts['count'].hist()"
   ]
  },
  {
   "cell_type": "code",
   "execution_count": null,
   "id": "fc8312c8",
   "metadata": {},
   "outputs": [],
   "source": [
    "numberFSPsEvts['count'].max()"
   ]
  },
  {
   "cell_type": "markdown",
   "id": "3c48512a",
   "metadata": {},
   "source": [
    "## delete delete_top_numFSP_evts"
   ]
  },
  {
   "cell_type": "code",
   "execution_count": null,
   "id": "e687919a",
   "metadata": {},
   "outputs": [],
   "source": [
    "# print first to adjust percentile used\n",
    "print(\"original max FSPs:\",numberFSPsEvts[\"count\"].max())\n",
    "for percentile_lvl in [0.995,0.996,0.997,0.998,0.999]:\n",
    "    print(percentile_lvl)\n",
    "    percentile = numberFSPsEvts[\"count\"].quantile(q=percentile_lvl)\n",
    "    cut_numberFSPsEvts = numberFSPsEvts[numberFSPsEvts[\"count\"] < percentile]\n",
    "    \n",
    "    #TMP_df_FSPs = df_FSPs[df_FSPs['__event__'].isin(cut_numberFSPsEvts[\"__event__\"])]\n",
    "    TMP_nonBsig_FSPs = nonBsig_FSPs[nonBsig_FSPs['__event__'].isin(cut_numberFSPsEvts[\"__event__\"])]\n",
    "    \n",
    "    print(\"would delete\", round(100 - (TMP_nonBsig_FSPs.shape[0]/TMP_nonBsig_FSPs.shape[0])*100,6),\"% of evts\")\n",
    "    print(\"new max FSPs:\",cut_numberFSPsEvts[\"count\"].max())"
   ]
  },
  {
   "cell_type": "code",
   "execution_count": null,
   "id": "65b8c1c6",
   "metadata": {},
   "outputs": [],
   "source": [
    "print(Bsig_cand_df.shape[0])\n",
    "print(nonBsig_FSPs.shape[0])"
   ]
  },
  {
   "cell_type": "code",
   "execution_count": null,
   "id": "5110ba8f",
   "metadata": {},
   "outputs": [],
   "source": []
  },
  {
   "cell_type": "code",
   "execution_count": 41,
   "id": "6bd21e08",
   "metadata": {},
   "outputs": [
    {
     "name": "stdout",
     "output_type": "stream",
     "text": [
      "288721\n",
      "28846\n",
      "used delete_percentileLvl: 0.995\n",
      "count    28846.000000\n",
      "mean        10.009048\n",
      "std          3.553990\n",
      "min          1.000000\n",
      "25%          7.000000\n",
      "50%         10.000000\n",
      "75%         12.000000\n",
      "max         26.000000\n",
      "Name: count, dtype: float64\n",
      "284236\n",
      "28633\n",
      "deleted 1.5534 % of events\n",
      "count    28633.000000\n",
      "mean         9.926868\n",
      "std          3.434845\n",
      "min          1.000000\n",
      "25%          7.000000\n",
      "50%         10.000000\n",
      "75%         12.000000\n",
      "max         19.000000\n",
      "Name: count, dtype: float64\n"
     ]
    }
   ],
   "source": [
    "print(nonBsig_FSPs.shape[0])\n",
    "print(Bsig_cand_df.shape[0])\n",
    "numEvtsBeforeCut = nonBsig_FSPs.shape[0]\n",
    "\n",
    "if delete_top_numFSP_evts:\n",
    "    delete_percentileLvl = 0.995\n",
    "    print(\"used delete_percentileLvl:\",delete_percentileLvl)\n",
    "    \n",
    "    \n",
    "    print(numberFSPsEvts[\"count\"].describe())\n",
    "    \n",
    "    percentile = numberFSPsEvts[\"count\"].quantile(q=delete_percentileLvl)\n",
    "    cut_numberFSPsEvts = numberFSPsEvts[numberFSPsEvts[\"count\"] < percentile]\n",
    "    \n",
    "    nonBsig_FSPs = nonBsig_FSPs[nonBsig_FSPs['__event__'].isin(cut_numberFSPsEvts[\"__event__\"])]\n",
    "    Bsig_cand_df = Bsig_cand_df[Bsig_cand_df['__event__'].isin(cut_numberFSPsEvts[\"__event__\"])]\n",
    "    \n",
    "print(nonBsig_FSPs.shape[0])\n",
    "print(Bsig_cand_df.shape[0])\n",
    "print(\"deleted\", round(100 - (nonBsig_FSPs.shape[0]/numEvtsBeforeCut)*100,4),\"% of events\")\n",
    "numberFSPsEvts = pd.DataFrame({'count' : nonBsig_FSPs.groupby([\"__event__\"]).size()}).reset_index()\n",
    "print(numberFSPsEvts[\"count\"].describe())"
   ]
  },
  {
   "cell_type": "markdown",
   "id": "90fce55b",
   "metadata": {},
   "source": [
    "### impute the nan values of variables"
   ]
  },
  {
   "cell_type": "code",
   "execution_count": 42,
   "id": "52f84fa8",
   "metadata": {
    "scrolled": true
   },
   "outputs": [
    {
     "name": "stdout",
     "output_type": "stream",
     "text": [
      "184415\n",
      "0\n",
      "184415\n",
      "0\n",
      "184415\n",
      "0\n",
      "184415\n",
      "0\n",
      "184415\n",
      "0\n",
      "27561\n",
      "0\n",
      "27561\n",
      "0\n"
     ]
    },
    {
     "name": "stderr",
     "output_type": "stream",
     "text": [
      "/usr/local/lib64/python3.6/site-packages/pandas/core/indexing.py:1763: SettingWithCopyWarning: \n",
      "A value is trying to be set on a copy of a slice from a DataFrame.\n",
      "Try using .loc[row_indexer,col_indexer] = value instead\n",
      "\n",
      "See the caveats in the documentation: https://pandas.pydata.org/pandas-docs/stable/user_guide/indexing.html#returning-a-view-versus-a-copy\n",
      "  isetter(loc, value)\n",
      "/usr/local/lib64/python3.6/site-packages/pandas/core/indexing.py:1763: SettingWithCopyWarning: \n",
      "A value is trying to be set on a copy of a slice from a DataFrame.\n",
      "Try using .loc[row_indexer,col_indexer] = value instead\n",
      "\n",
      "See the caveats in the documentation: https://pandas.pydata.org/pandas-docs/stable/user_guide/indexing.html#returning-a-view-versus-a-copy\n",
      "  isetter(loc, value)\n",
      "/usr/local/lib64/python3.6/site-packages/pandas/core/indexing.py:1763: SettingWithCopyWarning: \n",
      "A value is trying to be set on a copy of a slice from a DataFrame.\n",
      "Try using .loc[row_indexer,col_indexer] = value instead\n",
      "\n",
      "See the caveats in the documentation: https://pandas.pydata.org/pandas-docs/stable/user_guide/indexing.html#returning-a-view-versus-a-copy\n",
      "  isetter(loc, value)\n",
      "/usr/local/lib64/python3.6/site-packages/pandas/core/indexing.py:1763: SettingWithCopyWarning: \n",
      "A value is trying to be set on a copy of a slice from a DataFrame.\n",
      "Try using .loc[row_indexer,col_indexer] = value instead\n",
      "\n",
      "See the caveats in the documentation: https://pandas.pydata.org/pandas-docs/stable/user_guide/indexing.html#returning-a-view-versus-a-copy\n",
      "  isetter(loc, value)\n",
      "/usr/local/lib64/python3.6/site-packages/pandas/core/indexing.py:1763: SettingWithCopyWarning: \n",
      "A value is trying to be set on a copy of a slice from a DataFrame.\n",
      "Try using .loc[row_indexer,col_indexer] = value instead\n",
      "\n",
      "See the caveats in the documentation: https://pandas.pydata.org/pandas-docs/stable/user_guide/indexing.html#returning-a-view-versus-a-copy\n",
      "  isetter(loc, value)\n",
      "/usr/local/lib64/python3.6/site-packages/pandas/core/indexing.py:1763: SettingWithCopyWarning: \n",
      "A value is trying to be set on a copy of a slice from a DataFrame.\n",
      "Try using .loc[row_indexer,col_indexer] = value instead\n",
      "\n",
      "See the caveats in the documentation: https://pandas.pydata.org/pandas-docs/stable/user_guide/indexing.html#returning-a-view-versus-a-copy\n",
      "  isetter(loc, value)\n",
      "/usr/local/lib64/python3.6/site-packages/pandas/core/indexing.py:1763: SettingWithCopyWarning: \n",
      "A value is trying to be set on a copy of a slice from a DataFrame.\n",
      "Try using .loc[row_indexer,col_indexer] = value instead\n",
      "\n",
      "See the caveats in the documentation: https://pandas.pydata.org/pandas-docs/stable/user_guide/indexing.html#returning-a-view-versus-a-copy\n",
      "  isetter(loc, value)\n"
     ]
    }
   ],
   "source": [
    "## data preprocessing, dealing with NaN\n",
    "imputelist = [[\"pionID\",-1.],[\"kaonID\",-1.],[\"electronID\",-1.],[\"muonID\",-1.],[\"protonID\",-1.]\n",
    "              ,[\"clusterReg\",-1.],[\"clusterE9E21\",-1.]\n",
    "              ]\n",
    "for impute in imputelist:\n",
    "    column_name = impute[0]\n",
    "    impute_val = impute[1]\n",
    "    print(nonBsig_FSPs[nonBsig_FSPs[column_name].isna() == True].shape[0])    \n",
    "    mask = nonBsig_FSPs[column_name].isna() == 1\n",
    "    nonBsig_FSPs.loc[mask, column_name] = impute_val\n",
    "    print(nonBsig_FSPs[nonBsig_FSPs[column_name].isna() == True].shape[0])"
   ]
  },
  {
   "cell_type": "markdown",
   "id": "cfbbb9a2",
   "metadata": {},
   "source": [
    "### check that each particles occurs only ones; count must be == 1 for all"
   ]
  },
  {
   "cell_type": "code",
   "execution_count": 43,
   "id": "a84cfa7d",
   "metadata": {},
   "outputs": [
    {
     "data": {
      "text/plain": [
       "count\n",
       "1    26835426\n",
       "dtype: int64"
      ]
     },
     "execution_count": 43,
     "metadata": {},
     "output_type": "execute_result"
    }
   ],
   "source": [
    "groupsFSPs_uniqParID = pd.DataFrame({'count' : df_FSPs.groupby( [\"__event__\",\"uniqueParticleIdentifier\"] ).size()}).reset_index()\n",
    "groupsFSPs_uniqParID.value_counts('count')"
   ]
  },
  {
   "cell_type": "markdown",
   "id": "6642014b",
   "metadata": {},
   "source": [
    "## save & load labeled and processed df's"
   ]
  },
  {
   "cell_type": "markdown",
   "id": "aac6d704",
   "metadata": {},
   "source": [
    "### save"
   ]
  },
  {
   "cell_type": "code",
   "execution_count": 44,
   "id": "88ca8ada",
   "metadata": {},
   "outputs": [],
   "source": [
    "nonBsig_FSPs.to_csv(nfs_path + rawData_subdir +  \"nonBsig_FSPs_preProcessed.csv\")\n",
    "Bsig_cand_df.to_csv(nfs_path + \"Bsig_cand_df_preProcessed.csv\")"
   ]
  },
  {
   "cell_type": "code",
   "execution_count": 60,
   "id": "6c0aaca9",
   "metadata": {},
   "outputs": [
    {
     "name": "stdout",
     "output_type": "stream",
     "text": [
      "28633\n",
      "284236\n"
     ]
    }
   ],
   "source": [
    "print(Bsig_cand_df.shape[0])\n",
    "print(nonBsig_FSPs.shape[0])"
   ]
  },
  {
   "cell_type": "code",
   "execution_count": 45,
   "id": "23e957cc",
   "metadata": {},
   "outputs": [
    {
     "name": "stdout",
     "output_type": "stream",
     "text": [
      "save successful\n"
     ]
    }
   ],
   "source": [
    "print(\"save successful\")"
   ]
  },
  {
   "cell_type": "markdown",
   "id": "f316103c",
   "metadata": {},
   "source": [
    "### load"
   ]
  },
  {
   "cell_type": "code",
   "execution_count": 6,
   "id": "17d7a05b",
   "metadata": {},
   "outputs": [],
   "source": [
    "nonBsig_FSPs = pd.read_csv(nfs_path + rawData_subdir +  \"nonBsig_FSPs_preProcessed.csv\")"
   ]
  },
  {
   "cell_type": "code",
   "execution_count": null,
   "id": "3aa937ac",
   "metadata": {},
   "outputs": [],
   "source": [
    "Bsig_cand_df = pd.read_csv(nfs_path + rawData_subdir +  \"Bsig_cand_df_preProcessed.csv\")"
   ]
  },
  {
   "cell_type": "code",
   "execution_count": 11,
   "id": "35103d9d",
   "metadata": {},
   "outputs": [
    {
     "data": {
      "text/plain": [
       "49239"
      ]
     },
     "execution_count": 11,
     "metadata": {},
     "output_type": "execute_result"
    }
   ],
   "source": [
    "numberOfFSPs[(numberOfFSPs[\"numFSPs\"] >= 5)  & (numberOfFSPs[\"numFSPs\"] <= 13)].shape[0]"
   ]
  },
  {
   "cell_type": "code",
   "execution_count": 15,
   "id": "dd7e2b26",
   "metadata": {},
   "outputs": [
    {
     "data": {
      "text/plain": [
       "<AxesSubplot:>"
      ]
     },
     "execution_count": 15,
     "metadata": {},
     "output_type": "execute_result"
    },
    {
     "data": {
      "image/png": "[encoded data removed]",
      "text/plain": [
       "<Figure size 432x288 with 1 Axes>"
      ]
     },
     "metadata": {
      "needs_background": "light"
     },
     "output_type": "display_data"
    }
   ],
   "source": [
    "bins = np.linspace(0, 25, 24)\n",
    "\n",
    "numberOfFSPs = pd.DataFrame({'numFSPs' : nonBsig_FSPs.groupby( [\"__event__\"] ).size()}).reset_index()\n",
    "numberOfFSPs[(numberOfFSPs[\"numFSPs\"] >= 4)  & (numberOfFSPs[\"numFSPs\"] <= 13)][\"numFSPs\"].hist(bins=bins)"
   ]
  },
  {
   "cell_type": "code",
   "execution_count": 14,
   "id": "3f19ec56",
   "metadata": {},
   "outputs": [
    {
     "data": {
      "text/plain": [
       "53314"
      ]
     },
     "execution_count": 14,
     "metadata": {},
     "output_type": "execute_result"
    }
   ],
   "source": [
    "numberOfFSPs[(numberOfFSPs[\"numFSPs\"] >= 4)  & (numberOfFSPs[\"numFSPs\"] <= 13)].shape[0]"
   ]
  },
  {
   "cell_type": "code",
   "execution_count": 12,
   "id": "ede53d01",
   "metadata": {},
   "outputs": [
    {
     "data": {
      "text/plain": [
       "<AxesSubplot:>"
      ]
     },
     "execution_count": 12,
     "metadata": {},
     "output_type": "execute_result"
    },
    {
     "data": {
      "image/png": "[encoded data removed]",
      "text/plain": [
       "<Figure size 432x288 with 1 Axes>"
      ]
     },
     "metadata": {
      "needs_background": "light"
     },
     "output_type": "display_data"
    }
   ],
   "source": [
    "numberOfFSPs[\"numFSPs\"].hist(bins=bins)"
   ]
  },
  {
   "cell_type": "markdown",
   "id": "c9e8e9f2",
   "metadata": {},
   "source": [
    "# beginning of data prod"
   ]
  },
  {
   "cell_type": "code",
   "execution_count": 46,
   "id": "c760b133",
   "metadata": {},
   "outputs": [],
   "source": [
    "df_FSPs_final = nonBsig_FSPs"
   ]
  },
  {
   "cell_type": "markdown",
   "id": "e11d6581",
   "metadata": {},
   "source": [
    "## definition of input vars to be saved"
   ]
  },
  {
   "cell_type": "code",
   "execution_count": 47,
   "id": "fad5fead",
   "metadata": {},
   "outputs": [],
   "source": [
    "variable_combinations = [\n",
    "    [[],\"caupi_only4mom\"],\n",
    "    [[\"M\",\"charge\",\"dr\",\"dz\",\"clusterReg\",\"clusterE9E21\",\"pionID\",\"kaonID\",\"electronID\",\"muonID\",\"protonID\",\n",
    "     ],\"caupi_allExtras\"],\n",
    "    [[\"charge\",\"dr\",\"clusterE9E21\"],\"caupi_chrg_dr_E9E21\"],\n",
    "    [[    \"charge\",\"dr\",\"dz\",\"clusterReg\",\"clusterE9E21\",\"pionID\",\"kaonID\",\"electronID\",\"muonID\",\"protonID\",\n",
    "     ],\"caupi_no_M\"],\n",
    "    [[\"M\",         \"dr\",\"dz\",\"clusterReg\",\"clusterE9E21\",\"pionID\",\"kaonID\",\"electronID\",\"muonID\",\"protonID\",\n",
    "     ],\"caupi_no_charge\"],\n",
    "    [[\"M\",\"charge\",     \"dz\",\"clusterReg\",\"clusterE9E21\",\"pionID\",\"kaonID\",\"electronID\",\"muonID\",\"protonID\",\n",
    "     ],\"caupi_no_dr\"],\n",
    "    [[\"M\",\"charge\",\"dr\",     \"clusterReg\",\"clusterE9E21\",\"pionID\",\"kaonID\",\"electronID\",\"muonID\",\"protonID\",\n",
    "     ],\"caupi_no_dz\"],\n",
    "    [[\"M\",\"charge\",\"dr\",\"dz\",             \"clusterE9E21\",\"pionID\",\"kaonID\",\"electronID\",\"muonID\",\"protonID\",\n",
    "     ],\"caupi_no_clReg\"],\n",
    "    [[\"M\",\"charge\",\"dr\",\"dz\",\"clusterReg\",               \"pionID\",\"kaonID\",\"electronID\",\"muonID\",\"protonID\",\n",
    "     ],\"caupi_no_E9E21\"],\n",
    "    [[\"M\",\"charge\",\"dr\",\"dz\",\"clusterReg\",\"clusterE9E21\",         \"kaonID\",\"electronID\",\"muonID\",\"protonID\",\n",
    "     ],\"caupi_no_pID\"],\n",
    "    [[\"M\",\"charge\",\"dr\",\"dz\",\"clusterReg\",\"clusterE9E21\",\"pionID\",         \"electronID\",\"muonID\",\"protonID\",\n",
    "     ],\"caupi_no_kID\"],\n",
    "    [[\"M\",\"charge\",\"dr\",\"dz\",\"clusterReg\",\"clusterE9E21\",\"pionID\",\"kaonID\",             \"muonID\",\"protonID\",\n",
    "     ],\"caupi_no_eID\"],\n",
    "    [[\"M\",\"charge\",\"dr\",\"dz\",\"clusterReg\",\"clusterE9E21\",\"pionID\",\"kaonID\",\"electronID\"         ,\"protonID\",\n",
    "     ],\"caupi_no_muID\"],\n",
    "    [[\"M\",\"charge\",\"dr\",\"dz\",\"clusterReg\",\"clusterE9E21\",\"pionID\",\"kaonID\",\"electronID\",\"muonID\"           ,\n",
    "     ],\"caupi_no_proID\"],\n",
    "    [[\"charge\",\"pionID\",\"muonID\",],\"caupi_charge_mpIDs\"],\n",
    "    [[\"charge\"],\"caupi_charge\"]\n",
    "]"
   ]
  },
  {
   "cell_type": "code",
   "execution_count": 48,
   "id": "b048f3dc",
   "metadata": {},
   "outputs": [
    {
     "data": {
      "text/plain": [
       "16"
      ]
     },
     "execution_count": 48,
     "metadata": {},
     "output_type": "execute_result"
    }
   ],
   "source": [
    "len(variable_combinations)"
   ]
  },
  {
   "cell_type": "markdown",
   "id": "3d98b66f",
   "metadata": {},
   "source": [
    "## start of saving"
   ]
  },
  {
   "cell_type": "code",
   "execution_count": 56,
   "id": "3f5cafa0",
   "metadata": {},
   "outputs": [
    {
     "name": "stdout",
     "output_type": "stream",
     "text": [
      "minFSPs: 1\n",
      "maxFSPs: 19 \n",
      "\n",
      "num Events: 28633 \n",
      "\n"
     ]
    },
    {
     "name": "stderr",
     "output_type": "stream",
     "text": [
      "/usr/local/lib/python3.6/site-packages/ipykernel_launcher.py:9: SettingWithCopyWarning: \n",
      "A value is trying to be set on a copy of a slice from a DataFrame.\n",
      "Try using .loc[row_indexer,col_indexer] = value instead\n",
      "\n",
      "See the caveats in the documentation: https://pandas.pydata.org/pandas-docs/stable/user_guide/indexing.html#returning-a-view-versus-a-copy\n",
      "  if __name__ == '__main__':\n"
     ]
    }
   ],
   "source": [
    "numFSPs = pd.DataFrame({'count' : df_FSPs_final.groupby( [\"__event__\"] ).size()}).reset_index()\n",
    "\n",
    "minFSPs = numFSPs[\"count\"].min()\n",
    "maxFSPs = numFSPs[\"count\"].max()\n",
    "print(\"minFSPs:\",minFSPs)\n",
    "print(\"maxFSPs:\",maxFSPs,'\\n')\n",
    "print(\"num Events:\",numFSPs.shape[0],'\\n')\n",
    "\n",
    "df_FSPs_final['numFSPs'] = df_FSPs_final.groupby('__event__')['__event__'].transform('count')"
   ]
  },
  {
   "cell_type": "code",
   "execution_count": 57,
   "id": "5d16f443",
   "metadata": {},
   "outputs": [
    {
     "name": "stdout",
     "output_type": "stream",
     "text": [
      "time at start = 2022-02-04 11:39:10.139537\n"
     ]
    }
   ],
   "source": [
    "now = datetime.now()\n",
    "print(\"time at start =\", now)"
   ]
  },
  {
   "cell_type": "code",
   "execution_count": 58,
   "id": "53b49567",
   "metadata": {},
   "outputs": [
    {
     "data": {
      "text/plain": [
       "True"
      ]
     },
     "execution_count": 58,
     "metadata": {},
     "output_type": "execute_result"
    }
   ],
   "source": [
    "save_data"
   ]
  },
  {
   "cell_type": "code",
   "execution_count": 59,
   "id": "a03512c5",
   "metadata": {
    "scrolled": true
   },
   "outputs": [
    {
     "name": "stdout",
     "output_type": "stream",
     "text": [
      "Will save data to: /nfs/dust/belle2/user/axelheim/MC_studies/ROEcleanup/caupi/data/svenjasCutsRun1/caupi_only4mom is True \n",
      "\n",
      "numEvents: 135\n",
      "num_FSPs_toData: 2\n",
      "leaves.shape: (135, 2, 4)\n",
      "SA_target.shape: (135, 2)\n",
      "global_tag.shape: (135, 3)\n",
      "leaves[0]: [[-0.15778349  0.04723675 -0.14089467  0.53916159]\n",
      " [ 0.09297166  0.14171849 -0.17867163  0.24627507]]\n",
      "SA_target[0]: [1. 0.]\n",
      "global_tag[0]: [b'321.0' b'nan' b'evt30470886']\n",
      "\n",
      "numEvents: 372\n",
      "num_FSPs_toData: 3\n",
      "leaves.shape: (372, 3, 4)\n",
      "SA_target.shape: (372, 3)\n",
      "global_tag.shape: (372, 4)\n",
      "leaves[0]: [[-0.01928123  0.72427702 -0.08546018  0.73716762]\n",
      " [-0.23788671 -1.37116075  0.07242467  1.39752671]\n",
      " [-0.94290429  0.01162589  0.5018121   1.17674807]]\n",
      "SA_target[0]: [1. 1. 1.]\n",
      "global_tag[0]: [b'13.0' b'-13.0' b'321.0' b'evt3691111']\n",
      "\n",
      "numEvents: 809\n",
      "num_FSPs_toData: 4\n",
      "leaves.shape: (809, 4, 4)\n",
      "SA_target.shape: (809, 4)\n",
      "global_tag.shape: (809, 5)\n",
      "leaves[0]: [[ 0.2589514  -0.76914293 -0.03243796  0.81905591]\n",
      " [-0.1652915  -0.0324438   0.33753991  0.3772361 ]\n",
      " [-0.22929555 -0.74663877  1.70798373  1.94189889]\n",
      " [-0.11322509  0.01698655  0.23102567  0.29319143]]\n",
      "SA_target[0]: [1. 1. 1. 1.]\n",
      "global_tag[0]: [b'211.0' b'11.0' b'-321.0' b'11.0' b'evt38576254']\n",
      "\n",
      "numEvents: 1456\n",
      "num_FSPs_toData: 5\n",
      "leaves.shape: (1456, 5, 4)\n",
      "SA_target.shape: (1456, 5)\n",
      "global_tag.shape: (1456, 6)\n",
      "leaves[0]: [[ 0.53218204  0.71180815 -0.13503732  0.89895712]\n",
      " [ 1.15616906 -0.05132571  0.5180276   1.36067292]\n",
      " [-0.42851827  0.00763365  0.41101813  0.59381991]\n",
      " [ 0.43934    -0.51771712 -0.06711557  0.69644457]\n",
      " [-0.80670559 -0.10175595  0.95644319  1.25535324]]\n",
      "SA_target[0]: [1. 1. 1. 1. 1.]\n",
      "global_tag[0]: [b'211.0' b'321.0' b'22.0' b'-211.0' b'22.0' b'evt2336453']\n",
      "\n",
      "numEvents: 2018\n",
      "num_FSPs_toData: 6\n",
      "leaves.shape: (2018, 6, 4)\n",
      "SA_target.shape: (2018, 6)\n",
      "global_tag.shape: (2018, 7)\n",
      "leaves[0]: [[ 0.11263452  0.02891211  0.17104229  0.20682822]\n",
      " [ 0.00983348  0.06837111  0.07645788  0.10303938]\n",
      " [ 0.08287784 -0.03556161  0.03033584  0.09515055]\n",
      " [-0.04998812 -0.04193351 -0.04329831  0.07830693]\n",
      " [ 0.26731938 -0.22398458 -0.00803549  0.37573023]\n",
      " [-0.84041315  0.37690115  0.23803368  1.07178624]]\n",
      "SA_target[0]: [0. 1. 1. 1. 1. 1.]\n",
      "global_tag[0]: [b'nan' b'22.0' b'22.0' b'22.0' b'211.0' b'-321.0' b'evt2338287']\n",
      "\n",
      "numEvents: 2550\n",
      "num_FSPs_toData: 7\n",
      "leaves.shape: (2550, 7, 4)\n",
      "SA_target.shape: (2550, 7)\n",
      "global_tag.shape: (2550, 8)\n",
      "leaves[0]: [[-0.09362789  0.11993076  0.22617035  0.27258502]\n",
      " [-0.19454341 -0.48822317  0.56678957  0.91715668]\n",
      " [ 1.2414701   0.83795619  1.5085181   2.12580466]\n",
      " [ 0.19540051  0.15804379  0.18456341  0.31180579]\n",
      " [-0.09276649 -0.40667313 -0.18512884  0.47722242]\n",
      " [-0.30104512  0.07636493  0.00913286  0.34062159]\n",
      " [-0.06411021 -0.01758429  0.03148749  0.07355806]]\n",
      "SA_target[0]: [1. 1. 1. 1. 1. 1. 1.]\n",
      "global_tag[0]: [b'22.0' b'321.0' b'22.0' b'22.0' b'211.0' b'-211.0' b'22.0' b'evt3680222']\n",
      "\n",
      "numEvents: 2908\n",
      "num_FSPs_toData: 8\n",
      "leaves.shape: (2908, 8, 4)\n",
      "SA_target.shape: (2908, 8)\n",
      "global_tag.shape: (2908, 9)\n",
      "leaves[0]: [[ 0.04073582 -0.04154199  0.06897295  0.09023531]\n",
      " [ 0.19629116  0.0042474  -0.06418826  0.20656329]\n",
      " [-0.46958908  0.04600201  0.83380163  1.0777626 ]\n",
      " [ 0.16987097 -0.1467133   0.30244613  0.40166465]\n",
      " [ 0.05723163 -0.62944776  0.32520258  0.72437321]\n",
      " [ 0.01666087  0.06689728  0.0024251   0.06898342]\n",
      " [ 0.00728123  0.52113098  0.10756843  0.53216678]\n",
      " [ 0.00440168 -0.05335143  0.0278525   0.06034494]]\n",
      "SA_target[0]: [0. 1. 1. 1. 1. 0. 1. 0.]\n",
      "global_tag[0]: [b'nan' b'22.0' b'-321.0' b'211.0' b'-11.0' b'nan' b'22.0' b'nan'\n",
      " b'evt3296']\n",
      "\n",
      "numEvents: 3149\n",
      "num_FSPs_toData: 9\n",
      "leaves.shape: (3149, 9, 4)\n",
      "SA_target.shape: (3149, 9)\n",
      "global_tag.shape: (3149, 10)\n",
      "leaves[0]: [[-0.03244393 -0.09195048  0.09668539  0.13731556]\n",
      " [ 0.22706325 -0.01473713 -0.05233426  0.23348186]\n",
      " [ 0.03108297 -0.001903    0.08111186  0.08688445]\n",
      " [-0.02939464  0.00799437  0.05110228  0.05949283]\n",
      " [ 0.0691121  -0.30579671  0.29288399  0.4290328 ]\n",
      " [-0.2089992  -0.60798967  0.54176003  0.8522417 ]\n",
      " [ 0.42899427  0.04106125  0.07879892  0.45979481]\n",
      " [ 0.10015045  0.19528566 -0.15561408  0.5622271 ]\n",
      " [ 0.0998546   0.05813668  0.33582756  0.35514921]]\n",
      "SA_target[0]: [1. 1. 1. 1. 1. 1. 1. 1. 1.]\n",
      "global_tag[0]: [b'22.0' b'22.0' b'22.0' b'22.0' b'-211.0' b'-211.0' b'-211.0' b'-321.0'\n",
      " b'22.0' b'evt7756024']\n",
      "\n",
      "numEvents: 3123\n",
      "num_FSPs_toData: 10\n",
      "leaves.shape: (3123, 10, 4)\n",
      "SA_target.shape: (3123, 10)\n",
      "global_tag.shape: (3123, 11)\n",
      "leaves[0]: [[ 0.1306081  -0.02400099 -0.08763351  0.15910423]\n",
      " [ 0.05402146  0.12950744  0.09565794  0.16982619]\n",
      " [ 0.01128342  0.08207833  0.10482328  0.13361171]\n",
      " [ 0.64226073 -0.45150116 -0.42743453  0.89389747]\n",
      " [ 0.20707047  0.16761506  0.0982706   0.28395439]\n",
      " [-0.45055237  0.57171923  0.22024906  0.9066901 ]\n",
      " [-0.06268399  0.0245488   0.18723714  0.19897154]\n",
      " [ 0.30253971 -0.63426834 -0.43735468  0.8344276 ]\n",
      " [-0.06654827  0.02879403 -0.01480341  0.07400614]\n",
      " [ 0.00719473  0.16674946  0.05196077  0.1748058 ]]\n",
      "SA_target[0]: [0. 1. 1. 1. 1. 1. 1. 1. 1. 1.]\n",
      "global_tag[0]: [b'nan' b'22.0' b'22.0' b'-211.0' b'22.0' b'321.0' b'-211.0' b'211.0'\n",
      " b'22.0' b'22.0' b'evt2333308']\n",
      "\n",
      "numEvents: 2985\n",
      "num_FSPs_toData: 11\n",
      "leaves.shape: (2985, 11, 4)\n",
      "SA_target.shape: (2985, 11)\n",
      "global_tag.shape: (2985, 12)\n",
      "leaves[0]: [[-3.01384896e-01  3.29280078e-01  2.66889066e-01  5.38486668e-01]\n",
      " [ 3.95246059e-01 -1.83462933e-01 -1.61455274e-01  4.76560165e-01]\n",
      " [-4.00070429e-01 -1.98491424e-01  9.81443599e-02  4.57260876e-01]\n",
      " [-4.66805845e-02  1.14631951e-02  5.16476706e-02  7.05546858e-02]\n",
      " [ 8.56910646e-02 -2.72108298e-02  1.02741979e-01  1.36525829e-01]\n",
      " [-2.42466088e-02 -1.05878748e-01 -7.62882351e-04  1.08622232e-01]\n",
      " [ 4.46298486e-03 -7.78682828e-02  1.34446904e-01  1.55432808e-01]\n",
      " [ 5.39597534e-02 -1.67526722e-01 -6.82227165e-02  1.88762275e-01]\n",
      " [-1.42316893e-01  1.07828915e-01  1.37423798e-01  2.65040310e-01]\n",
      " [ 8.39775726e-02 -2.86794811e-01  3.00829202e-01  4.36995876e-01]\n",
      " [ 4.96609420e-01  3.63488466e-01  3.20315391e-01  8.51506724e-01]]\n",
      "SA_target[0]: [1. 1. 1. 0. 1. 1. 1. 1. 1. 1. 1.]\n",
      "global_tag[0]: [b'211.0' b'211.0' b'22.0' b'nan' b'22.0' b'22.0' b'22.0' b'211.0'\n",
      " b'-211.0' b'-211.0' b'-321.0' b'evt3677683']\n",
      "\n",
      "numEvents: 2545\n",
      "num_FSPs_toData: 12\n",
      "leaves.shape: (2545, 12, 4)\n",
      "SA_target.shape: (2545, 12)\n",
      "global_tag.shape: (2545, 13)\n",
      "leaves[0]: [[ 0.03848296  0.04029116  0.05831354  0.08065225]\n",
      " [ 0.23825969  0.23488018  0.08829407  0.34602344]\n",
      " [-0.11391443 -0.03102231  0.16452925  0.20250618]\n",
      " [ 0.38803816 -0.23485856 -0.1261383   0.49104268]\n",
      " [ 0.08181451  0.00333084 -0.04280727  0.16738298]\n",
      " [-0.04905557 -0.00701647  0.06341741  0.08048259]\n",
      " [ 0.20840943  0.0704845   0.07444413  0.23225952]\n",
      " [ 0.01839647 -0.07969265  0.03024982  0.08720321]\n",
      " [ 0.04808377  0.05935804  0.1400926   0.15956617]\n",
      " [ 0.02182399  0.03533076  0.07350812  0.08442744]\n",
      " [ 0.02217018  0.06878155  0.11952067  0.13966964]\n",
      " [-0.46426892  0.22714721  0.66500467  0.97626311]]\n",
      "SA_target[0]: [1. 1. 0. 1. 1. 1. 1. 1. 0. 0. 1. 1.]\n",
      "global_tag[0]: [b'22.0' b'22.0' b'nan' b'211.0' b'211.0' b'22.0' b'22.0' b'22.0' b'nan'\n",
      " b'nan' b'-13.0' b'-321.0' b'evt3672104']\n",
      "\n",
      "numEvents: 2063\n",
      "num_FSPs_toData: 13\n",
      "leaves.shape: (2063, 13, 4)\n",
      "SA_target.shape: (2063, 13)\n",
      "global_tag.shape: (2063, 14)\n",
      "leaves[0]: [[-0.25769678  0.26920694  0.21064381  0.42807806]\n",
      " [ 0.03801839 -0.33247867 -0.01667092  0.33506027]\n",
      " [ 0.51164687  0.18826288  0.12673798  0.57686033]\n",
      " [-0.16201401  0.24916004  0.11181023  0.31753864]\n",
      " [-0.04408903  0.24834821  0.30259722  0.41793019]\n",
      " [-0.92237055  0.63658452  0.51771319  1.23451792]\n",
      " [ 0.04333398 -0.28070888  0.37734172  0.47229448]\n",
      " [ 0.47579554  0.20984519 -0.15218492  0.55951455]\n",
      " [ 0.4580889  -0.61310762  0.35772783  0.85626835]\n",
      " [ 0.04232983 -0.10818814 -0.07748533  0.13964407]\n",
      " [-0.02209905  0.03760592  0.11472411  0.12273628]\n",
      " [-0.14253116 -0.31836534  0.1071478   0.61389677]\n",
      " [-0.03701111 -0.00900606  0.10055435  0.10752725]]\n",
      "SA_target[0]: [1. 1. 1. 0. 1. 1. 1. 1. 1. 1. 1. 1. 1.]\n",
      "global_tag[0]: [b'211.0' b'22.0' b'-211.0' b'nan' b'-211.0' b'211.0' b'22.0' b'211.0'\n",
      " b'-211.0' b'22.0' b'-211.0' b'321.0' b'13.0' b'evt2334699']\n",
      "\n",
      "numEvents: 1589\n",
      "num_FSPs_toData: 14\n",
      "leaves.shape: (1589, 14, 4)\n",
      "SA_target.shape: (1589, 14)\n",
      "global_tag.shape: (1589, 15)\n",
      "leaves[0]: [[-0.00776616 -0.05119973 -0.00400073  0.05193969]\n",
      " [ 0.04646541 -0.18720736  0.15160041  0.26711795]\n",
      " [ 0.09903428 -0.11753748  0.04336479  0.15969769]\n",
      " [ 0.07459965 -0.01205935 -0.03455948  0.08309569]\n",
      " [ 0.1902688   0.2324025  -0.15168636  0.33648461]\n",
      " [ 0.01486192 -0.07646789  0.14611547  0.16558365]\n",
      " [ 0.19973974 -0.47357491  0.01075985  0.71274252]\n",
      " [-0.12196676 -0.27874857  0.28595626  0.41754957]\n",
      " [ 0.41697484  0.51705194 -0.11880487  0.67477798]\n",
      " [ 0.04157916  0.1840947  -0.091903    0.20991866]\n",
      " [ 0.04834688 -0.26721436 -0.15346593  0.34172009]\n",
      " [ 0.02143136 -0.14144658  0.10616425  0.20712551]\n",
      " [-0.04426082 -0.02929319  0.02012354  0.05676326]\n",
      " [-0.04899073  0.1213215   0.04963633  0.13993843]]\n",
      "SA_target[0]: [1. 1. 1. 0. 1. 1. 1. 1. 1. 1. 1. 1. 1. 0.]\n",
      "global_tag[0]: [b'22.0' b'211.0' b'22.0' b'nan' b'22.0' b'22.0' b'211.0' b'22.0' b'22.0'\n",
      " b'22.0' b'-211.0' b'211.0' b'22.0' b'nan' b'evt1430081']\n"
     ]
    },
    {
     "name": "stdout",
     "output_type": "stream",
     "text": [
      "\n",
      "numEvents: 1116\n",
      "num_FSPs_toData: 15\n"
     ]
    },
    {
     "ename": "KeyboardInterrupt",
     "evalue": "",
     "output_type": "error",
     "traceback": [
      "\u001b[0;31m---------------------------------------------------------------------------\u001b[0m",
      "\u001b[0;31mKeyboardInterrupt\u001b[0m                         Traceback (most recent call last)",
      "\u001b[0;32m<ipython-input-59-03944045a428>\u001b[0m in \u001b[0;36m<module>\u001b[0;34m\u001b[0m\n\u001b[1;32m     45\u001b[0m             \u001b[0;32mfor\u001b[0m \u001b[0mj\u001b[0m \u001b[0;32min\u001b[0m \u001b[0mrange\u001b[0m\u001b[0;34m(\u001b[0m\u001b[0mnum_FSPs_toData\u001b[0m\u001b[0;34m)\u001b[0m\u001b[0;34m:\u001b[0m\u001b[0;34m\u001b[0m\u001b[0;34m\u001b[0m\u001b[0m\n\u001b[1;32m     46\u001b[0m                 \u001b[0;31m#print(\"numParticle:\",j)\u001b[0m\u001b[0;34m\u001b[0m\u001b[0;34m\u001b[0m\u001b[0;34m\u001b[0m\u001b[0m\n\u001b[0;32m---> 47\u001b[0;31m                 \u001b[0mparticle\u001b[0m \u001b[0;34m=\u001b[0m \u001b[0mevent_df\u001b[0m\u001b[0;34m.\u001b[0m\u001b[0miloc\u001b[0m\u001b[0;34m[\u001b[0m\u001b[0mj\u001b[0m\u001b[0;34m]\u001b[0m\u001b[0;34m\u001b[0m\u001b[0;34m\u001b[0m\u001b[0m\n\u001b[0m\u001b[1;32m     48\u001b[0m \u001b[0;34m\u001b[0m\u001b[0m\n\u001b[1;32m     49\u001b[0m                 \u001b[0;31m#print(particle[\"mcPDG\"],particle[\"px\"],particle[\"py\"],particle[\"pz\"],particle[\"E\"])\u001b[0m\u001b[0;34m\u001b[0m\u001b[0;34m\u001b[0m\u001b[0;34m\u001b[0m\u001b[0m\n",
      "\u001b[0;32m/usr/local/lib64/python3.6/site-packages/pandas/core/indexing.py\u001b[0m in \u001b[0;36m__getitem__\u001b[0;34m(self, key)\u001b[0m\n\u001b[1;32m    877\u001b[0m \u001b[0;34m\u001b[0m\u001b[0m\n\u001b[1;32m    878\u001b[0m             \u001b[0mmaybe_callable\u001b[0m \u001b[0;34m=\u001b[0m \u001b[0mcom\u001b[0m\u001b[0;34m.\u001b[0m\u001b[0mapply_if_callable\u001b[0m\u001b[0;34m(\u001b[0m\u001b[0mkey\u001b[0m\u001b[0;34m,\u001b[0m \u001b[0mself\u001b[0m\u001b[0;34m.\u001b[0m\u001b[0mobj\u001b[0m\u001b[0;34m)\u001b[0m\u001b[0;34m\u001b[0m\u001b[0;34m\u001b[0m\u001b[0m\n\u001b[0;32m--> 879\u001b[0;31m             \u001b[0;32mreturn\u001b[0m \u001b[0mself\u001b[0m\u001b[0;34m.\u001b[0m\u001b[0m_getitem_axis\u001b[0m\u001b[0;34m(\u001b[0m\u001b[0mmaybe_callable\u001b[0m\u001b[0;34m,\u001b[0m \u001b[0maxis\u001b[0m\u001b[0;34m=\u001b[0m\u001b[0maxis\u001b[0m\u001b[0;34m)\u001b[0m\u001b[0;34m\u001b[0m\u001b[0;34m\u001b[0m\u001b[0m\n\u001b[0m\u001b[1;32m    880\u001b[0m \u001b[0;34m\u001b[0m\u001b[0m\n\u001b[1;32m    881\u001b[0m     \u001b[0;32mdef\u001b[0m \u001b[0m_is_scalar_access\u001b[0m\u001b[0;34m(\u001b[0m\u001b[0mself\u001b[0m\u001b[0;34m,\u001b[0m \u001b[0mkey\u001b[0m\u001b[0;34m:\u001b[0m \u001b[0mTuple\u001b[0m\u001b[0;34m)\u001b[0m\u001b[0;34m:\u001b[0m\u001b[0;34m\u001b[0m\u001b[0;34m\u001b[0m\u001b[0m\n",
      "\u001b[0;32m/usr/local/lib64/python3.6/site-packages/pandas/core/indexing.py\u001b[0m in \u001b[0;36m_getitem_axis\u001b[0;34m(self, key, axis)\u001b[0m\n\u001b[1;32m   1496\u001b[0m             \u001b[0mself\u001b[0m\u001b[0;34m.\u001b[0m\u001b[0m_validate_integer\u001b[0m\u001b[0;34m(\u001b[0m\u001b[0mkey\u001b[0m\u001b[0;34m,\u001b[0m \u001b[0maxis\u001b[0m\u001b[0;34m)\u001b[0m\u001b[0;34m\u001b[0m\u001b[0;34m\u001b[0m\u001b[0m\n\u001b[1;32m   1497\u001b[0m \u001b[0;34m\u001b[0m\u001b[0m\n\u001b[0;32m-> 1498\u001b[0;31m             \u001b[0;32mreturn\u001b[0m \u001b[0mself\u001b[0m\u001b[0;34m.\u001b[0m\u001b[0mobj\u001b[0m\u001b[0;34m.\u001b[0m\u001b[0m_ixs\u001b[0m\u001b[0;34m(\u001b[0m\u001b[0mkey\u001b[0m\u001b[0;34m,\u001b[0m \u001b[0maxis\u001b[0m\u001b[0;34m=\u001b[0m\u001b[0maxis\u001b[0m\u001b[0;34m)\u001b[0m\u001b[0;34m\u001b[0m\u001b[0;34m\u001b[0m\u001b[0m\n\u001b[0m\u001b[1;32m   1499\u001b[0m \u001b[0;34m\u001b[0m\u001b[0m\n\u001b[1;32m   1500\u001b[0m     \u001b[0;32mdef\u001b[0m \u001b[0m_get_slice_axis\u001b[0m\u001b[0;34m(\u001b[0m\u001b[0mself\u001b[0m\u001b[0;34m,\u001b[0m \u001b[0mslice_obj\u001b[0m\u001b[0;34m:\u001b[0m \u001b[0mslice\u001b[0m\u001b[0;34m,\u001b[0m \u001b[0maxis\u001b[0m\u001b[0;34m:\u001b[0m \u001b[0mint\u001b[0m\u001b[0;34m)\u001b[0m\u001b[0;34m:\u001b[0m\u001b[0;34m\u001b[0m\u001b[0;34m\u001b[0m\u001b[0m\n",
      "\u001b[0;32m/usr/local/lib64/python3.6/site-packages/pandas/core/frame.py\u001b[0m in \u001b[0;36m_ixs\u001b[0;34m(self, i, axis)\u001b[0m\n\u001b[1;32m   2835\u001b[0m                 \u001b[0mindex\u001b[0m\u001b[0;34m=\u001b[0m\u001b[0mself\u001b[0m\u001b[0;34m.\u001b[0m\u001b[0mcolumns\u001b[0m\u001b[0;34m,\u001b[0m\u001b[0;34m\u001b[0m\u001b[0;34m\u001b[0m\u001b[0m\n\u001b[1;32m   2836\u001b[0m                 \u001b[0mname\u001b[0m\u001b[0;34m=\u001b[0m\u001b[0mself\u001b[0m\u001b[0;34m.\u001b[0m\u001b[0mindex\u001b[0m\u001b[0;34m[\u001b[0m\u001b[0mi\u001b[0m\u001b[0;34m]\u001b[0m\u001b[0;34m,\u001b[0m\u001b[0;34m\u001b[0m\u001b[0;34m\u001b[0m\u001b[0m\n\u001b[0;32m-> 2837\u001b[0;31m                 \u001b[0mdtype\u001b[0m\u001b[0;34m=\u001b[0m\u001b[0mnew_values\u001b[0m\u001b[0;34m.\u001b[0m\u001b[0mdtype\u001b[0m\u001b[0;34m,\u001b[0m\u001b[0;34m\u001b[0m\u001b[0;34m\u001b[0m\u001b[0m\n\u001b[0m\u001b[1;32m   2838\u001b[0m             )\n\u001b[1;32m   2839\u001b[0m             \u001b[0mresult\u001b[0m\u001b[0;34m.\u001b[0m\u001b[0m_set_is_copy\u001b[0m\u001b[0;34m(\u001b[0m\u001b[0mself\u001b[0m\u001b[0;34m,\u001b[0m \u001b[0mcopy\u001b[0m\u001b[0;34m=\u001b[0m\u001b[0mcopy\u001b[0m\u001b[0;34m)\u001b[0m\u001b[0;34m\u001b[0m\u001b[0;34m\u001b[0m\u001b[0m\n",
      "\u001b[0;32m/usr/local/lib64/python3.6/site-packages/pandas/core/series.py\u001b[0m in \u001b[0;36m__init__\u001b[0;34m(self, data, index, dtype, name, copy, fastpath)\u001b[0m\n\u001b[1;32m    327\u001b[0m                 \u001b[0mdata\u001b[0m \u001b[0;34m=\u001b[0m \u001b[0msanitize_array\u001b[0m\u001b[0;34m(\u001b[0m\u001b[0mdata\u001b[0m\u001b[0;34m,\u001b[0m \u001b[0mindex\u001b[0m\u001b[0;34m,\u001b[0m \u001b[0mdtype\u001b[0m\u001b[0;34m,\u001b[0m \u001b[0mcopy\u001b[0m\u001b[0;34m,\u001b[0m \u001b[0mraise_cast_failure\u001b[0m\u001b[0;34m=\u001b[0m\u001b[0;32mTrue\u001b[0m\u001b[0;34m)\u001b[0m\u001b[0;34m\u001b[0m\u001b[0;34m\u001b[0m\u001b[0m\n\u001b[1;32m    328\u001b[0m \u001b[0;34m\u001b[0m\u001b[0m\n\u001b[0;32m--> 329\u001b[0;31m                 \u001b[0mdata\u001b[0m \u001b[0;34m=\u001b[0m \u001b[0mSingleBlockManager\u001b[0m\u001b[0;34m.\u001b[0m\u001b[0mfrom_array\u001b[0m\u001b[0;34m(\u001b[0m\u001b[0mdata\u001b[0m\u001b[0;34m,\u001b[0m \u001b[0mindex\u001b[0m\u001b[0;34m)\u001b[0m\u001b[0;34m\u001b[0m\u001b[0;34m\u001b[0m\u001b[0m\n\u001b[0m\u001b[1;32m    330\u001b[0m \u001b[0;34m\u001b[0m\u001b[0m\n\u001b[1;32m    331\u001b[0m         \u001b[0mgeneric\u001b[0m\u001b[0;34m.\u001b[0m\u001b[0mNDFrame\u001b[0m\u001b[0;34m.\u001b[0m\u001b[0m__init__\u001b[0m\u001b[0;34m(\u001b[0m\u001b[0mself\u001b[0m\u001b[0;34m,\u001b[0m \u001b[0mdata\u001b[0m\u001b[0;34m)\u001b[0m\u001b[0;34m\u001b[0m\u001b[0;34m\u001b[0m\u001b[0m\n",
      "\u001b[0;32m/usr/local/lib64/python3.6/site-packages/pandas/core/internals/managers.py\u001b[0m in \u001b[0;36mfrom_array\u001b[0;34m(cls, array, index)\u001b[0m\n\u001b[1;32m   1576\u001b[0m         \u001b[0mConstructor\u001b[0m \u001b[0;32mfor\u001b[0m \u001b[0;32mif\u001b[0m \u001b[0mwe\u001b[0m \u001b[0mhave\u001b[0m \u001b[0man\u001b[0m \u001b[0marray\u001b[0m \u001b[0mthat\u001b[0m \u001b[0;32mis\u001b[0m \u001b[0;32mnot\u001b[0m \u001b[0myet\u001b[0m \u001b[0ma\u001b[0m \u001b[0mBlock\u001b[0m\u001b[0;34m.\u001b[0m\u001b[0;34m\u001b[0m\u001b[0;34m\u001b[0m\u001b[0m\n\u001b[1;32m   1577\u001b[0m         \"\"\"\n\u001b[0;32m-> 1578\u001b[0;31m         \u001b[0mblock\u001b[0m \u001b[0;34m=\u001b[0m \u001b[0mmake_block\u001b[0m\u001b[0;34m(\u001b[0m\u001b[0marray\u001b[0m\u001b[0;34m,\u001b[0m \u001b[0mplacement\u001b[0m\u001b[0;34m=\u001b[0m\u001b[0mslice\u001b[0m\u001b[0;34m(\u001b[0m\u001b[0;36m0\u001b[0m\u001b[0;34m,\u001b[0m \u001b[0mlen\u001b[0m\u001b[0;34m(\u001b[0m\u001b[0mindex\u001b[0m\u001b[0;34m)\u001b[0m\u001b[0;34m)\u001b[0m\u001b[0;34m,\u001b[0m \u001b[0mndim\u001b[0m\u001b[0;34m=\u001b[0m\u001b[0;36m1\u001b[0m\u001b[0;34m)\u001b[0m\u001b[0;34m\u001b[0m\u001b[0;34m\u001b[0m\u001b[0m\n\u001b[0m\u001b[1;32m   1579\u001b[0m         \u001b[0;32mreturn\u001b[0m \u001b[0mcls\u001b[0m\u001b[0;34m(\u001b[0m\u001b[0mblock\u001b[0m\u001b[0;34m,\u001b[0m \u001b[0mindex\u001b[0m\u001b[0;34m)\u001b[0m\u001b[0;34m\u001b[0m\u001b[0;34m\u001b[0m\u001b[0m\n\u001b[1;32m   1580\u001b[0m \u001b[0;34m\u001b[0m\u001b[0m\n",
      "\u001b[0;32m/usr/local/lib64/python3.6/site-packages/pandas/core/internals/blocks.py\u001b[0m in \u001b[0;36mmake_block\u001b[0;34m(values, placement, klass, ndim, dtype)\u001b[0m\n\u001b[1;32m   2724\u001b[0m     \u001b[0;31m# Ensure that we don't allow PandasArray / PandasDtype in internals.\u001b[0m\u001b[0;34m\u001b[0m\u001b[0;34m\u001b[0m\u001b[0;34m\u001b[0m\u001b[0m\n\u001b[1;32m   2725\u001b[0m     \u001b[0;31m# For now, blocks should be backed by ndarrays when possible.\u001b[0m\u001b[0;34m\u001b[0m\u001b[0;34m\u001b[0m\u001b[0;34m\u001b[0m\u001b[0m\n\u001b[0;32m-> 2726\u001b[0;31m     \u001b[0;32mif\u001b[0m \u001b[0misinstance\u001b[0m\u001b[0;34m(\u001b[0m\u001b[0mvalues\u001b[0m\u001b[0;34m,\u001b[0m \u001b[0mABCPandasArray\u001b[0m\u001b[0;34m)\u001b[0m\u001b[0;34m:\u001b[0m\u001b[0;34m\u001b[0m\u001b[0;34m\u001b[0m\u001b[0m\n\u001b[0m\u001b[1;32m   2727\u001b[0m         \u001b[0mvalues\u001b[0m \u001b[0;34m=\u001b[0m \u001b[0mvalues\u001b[0m\u001b[0;34m.\u001b[0m\u001b[0mto_numpy\u001b[0m\u001b[0;34m(\u001b[0m\u001b[0;34m)\u001b[0m\u001b[0;34m\u001b[0m\u001b[0;34m\u001b[0m\u001b[0m\n\u001b[1;32m   2728\u001b[0m         \u001b[0;32mif\u001b[0m \u001b[0mndim\u001b[0m \u001b[0;32mand\u001b[0m \u001b[0mndim\u001b[0m \u001b[0;34m>\u001b[0m \u001b[0;36m1\u001b[0m\u001b[0;34m:\u001b[0m\u001b[0;34m\u001b[0m\u001b[0;34m\u001b[0m\u001b[0m\n",
      "\u001b[0;31mKeyboardInterrupt\u001b[0m: "
     ]
    }
   ],
   "source": [
    "minFSPs = 2 # minimum: Btag: 2 particles\n",
    "for var_comb in variable_combinations:\n",
    "    ablationSub = var_comb[1]\n",
    "    data_dir = Path(nfs_path + data_savedir + \"/\" + ablationSub + \"/\")    \n",
    "    if save_data:\n",
    "        data_dir.mkdir(parents=True, exist_ok=True)\n",
    "    print(\"Will save data to:\", data_dir,'is', save_data ,'\\n')\n",
    "\n",
    "\n",
    "    \n",
    "    for num_FSPs_toData in range(minFSPs, maxFSPs+1):\n",
    "        df_num_subset = df_FSPs_final.copy()\n",
    "        df_num_subset = df_num_subset[df_num_subset['numFSPs'] == num_FSPs_toData]\n",
    "\n",
    "\n",
    "        numEvents = df_num_subset.__event__.nunique()\n",
    "        print(\"numEvents:\",numEvents)\n",
    "        print(\"num_FSPs_toData:\",num_FSPs_toData)  \n",
    "        if numEvents == 0:\n",
    "            print(\"skipped because empty \\n\")\n",
    "            continue\n",
    "\n",
    "        if numEvents < 10:\n",
    "            print(\"skipped because <10 events \\n\")\n",
    "            continue\n",
    "\n",
    "        num_features = 4 + len(var_comb[0])\n",
    "        leaves = np.zeros((numEvents, num_FSPs_toData,  num_features))  \n",
    "        SA_target =  np.zeros((numEvents, num_FSPs_toData))\n",
    "        global_tag = np.chararray((numEvents, num_FSPs_toData + 1), itemsize=30)\n",
    "\n",
    "        event_list = df_num_subset[df_num_subset[\"numFSPs\"] == num_FSPs_toData][\"__event__\"].unique()\n",
    "        #print(\"len(event_list):\",len(event_list))\n",
    "        for i in range(numEvents):\n",
    "\n",
    "            event_iter = event_list[i]\n",
    "\n",
    "            global_tag_masterInfo = \"evt\" + str(event_iter)\n",
    "            global_tag[i,-1] = global_tag_masterInfo\n",
    "            #print(\"global_tag[i,-1]:\",global_tag[i,-1])\n",
    "            #print(\"i:\",i,\"event_iter:\",event_iter)\n",
    "\n",
    "            event_df = df_num_subset[df_num_subset.__event__ == event_iter]\n",
    "\n",
    "            for j in range(num_FSPs_toData):\n",
    "                #print(\"numParticle:\",j)\n",
    "                particle = event_df.iloc[j]\n",
    "\n",
    "                #print(particle[\"mcPDG\"],particle[\"px\"],particle[\"py\"],particle[\"pz\"],particle[\"E\"])\n",
    "                leaves[i,j,0] = particle[\"px\"]\n",
    "                leaves[i,j,1] = particle[\"py\"]\n",
    "                leaves[i,j,2] = particle[\"pz\"]\n",
    "                leaves[i,j,3] = particle[\"E\"]\n",
    "                \n",
    "                for k in range(len(var_comb[0])):\n",
    "                    leav_idx = k + 4\n",
    "                    leaves[i,j,leav_idx] = particle[var_comb[0][k]]\n",
    "                    \n",
    "\n",
    "\n",
    "\n",
    "                global_tag_Info = str((particle[\"mcPDG\"])) \n",
    "                global_tag[i,j] = global_tag_Info\n",
    "\n",
    "        \n",
    "                SA_target[i,j] = particle[\"label\"]\n",
    "\n",
    "            del event_df\n",
    "\n",
    "\n",
    "        # shuffle the data    \n",
    "        for idx in np.arange(leaves.shape[0]):   # arange is like range but gives ndarray instead of list\n",
    "            perms = np.random.permutation(leaves.shape[1])\n",
    "\n",
    "            leaves[idx,:] = leaves[idx,perms]\n",
    "            SA_target[idx,:] = SA_target[idx,perms]\n",
    "            global_tag[idx,0:-1] = global_tag[idx,perms]\n",
    "\n",
    "\n",
    "\n",
    "\n",
    "\n",
    "        #print(global_tag)\n",
    "        train_ratio = 0.8\n",
    "        validation_ratio = 0.2\n",
    "        #test_ratio = 0.1\n",
    "\n",
    "        print(\"leaves.shape:\",leaves.shape)\n",
    "        print(\"SA_target.shape:\",SA_target.shape)\n",
    "        print(\"global_tag.shape:\",global_tag.shape)\n",
    "\n",
    "\n",
    "        print(\"leaves[0]:\",leaves[0])\n",
    "        print(\"SA_target[0]:\",SA_target[0])\n",
    "        print(\"global_tag[0]:\",global_tag[0])\n",
    "\n",
    "        x=leaves\n",
    "        y=SA_target\n",
    "        z=global_tag\n",
    "\n",
    "        x_train, x_val, y_train, y_val, z_train, z_val = train_test_split(x, y, z, test_size=1 - train_ratio, shuffle=False)\n",
    "        #x_train, x_test, y_train, y_test, z_train, z_test = train_test_split(x, y, z, test_size=1 - train_ratio, shuffle=False)\n",
    "        #x_val, x_test, y_val, y_test, z_val, z_test = train_test_split(x_test, y_test, z_test, test_size=test_ratio/(test_ratio + validation_ratio), shuffle=False) \n",
    "\n",
    "        if save_data==True:\n",
    "            np.save(data_dir / \"leaves_train_FSP{}.npy\".format(num_FSPs_toData), x_train)\n",
    "            np.save(data_dir / \"is_left_arr_train_FSP{}.npy\".format(num_FSPs_toData), y_train)\n",
    "            np.save(data_dir / \"global_tag_train_FSP{}.npy\".format(num_FSPs_toData), z_train)\n",
    "\n",
    "            np.save(data_dir / \"leaves_val_FSP{}.npy\".format(num_FSPs_toData), x_val)\n",
    "            np.save(data_dir / \"is_left_arr_val_FSP{}.npy\".format(num_FSPs_toData), y_val)\n",
    "            np.save(data_dir / \"global_tag_val_FSP{}.npy\".format(num_FSPs_toData), z_val)\n",
    "\n",
    "            #np.save(data_dir / \"leaves_test_FSP{}.npy\".format(num_FSPs_toData), x_test)\n",
    "            #np.save(data_dir / \"is_left_arr_test_FSP{}.npy\".format(num_FSPs_toData), y_test)\n",
    "            #np.save(data_dir / \"global_tag_test_FSP{}.npy\".format(num_FSPs_toData), z_test)\n",
    "\n",
    "\n",
    "        print(\"\")\n",
    "\n",
    "\n",
    "        del df_num_subset\n"
   ]
  },
  {
   "cell_type": "code",
   "execution_count": null,
   "id": "7409187d",
   "metadata": {},
   "outputs": [],
   "source": [
    "print(\"saving is done\")\n",
    "now = datetime.now()\n",
    "print(\"time at end =\", now)"
   ]
  },
  {
   "cell_type": "code",
   "execution_count": null,
   "id": "a8aff462",
   "metadata": {},
   "outputs": [],
   "source": []
  },
  {
   "cell_type": "code",
   "execution_count": null,
   "id": "2d5d92b8",
   "metadata": {},
   "outputs": [],
   "source": []
  },
  {
   "cell_type": "code",
   "execution_count": null,
   "id": "6c56602a",
   "metadata": {},
   "outputs": [],
   "source": []
  },
  {
   "cell_type": "markdown",
   "id": "f3208831",
   "metadata": {},
   "source": [
    "## additional analysis on Bsig correctness"
   ]
  },
  {
   "cell_type": "code",
   "execution_count": 19,
   "id": "83771bf3",
   "metadata": {},
   "outputs": [],
   "source": [
    "FSPs_noDuplis = df_FSPs.drop_duplicates(subset=(\"uniqueParticleIdentifier\",\"__event__\"), keep='first')"
   ]
  },
  {
   "cell_type": "code",
   "execution_count": 20,
   "id": "8712c213",
   "metadata": {},
   "outputs": [],
   "source": [
    "FSPs_noDuplis = FSPs_noDuplis[FSPs_noDuplis['__event__'].isin(Bsig_cand_df[\"__event__\"])]"
   ]
  },
  {
   "cell_type": "code",
   "execution_count": 21,
   "id": "34a8ef8e",
   "metadata": {},
   "outputs": [],
   "source": [
    "FSPs_noDuplis['B_ID'] = FSPs_noDuplis.apply(B_ID, axis=1)"
   ]
  },
  {
   "cell_type": "code",
   "execution_count": 22,
   "id": "678c0e4a",
   "metadata": {},
   "outputs": [
    {
     "data": {
      "text/plain": [
       "83886082    2088965\n",
       "83886081    2081963\n",
       "0            763802\n",
       "Name: B_ID, dtype: int64"
      ]
     },
     "execution_count": 22,
     "metadata": {},
     "output_type": "execute_result"
    }
   ],
   "source": [
    "FSPs_noDuplis['B_ID'].value_counts()"
   ]
  },
  {
   "cell_type": "code",
   "execution_count": 23,
   "id": "90416d4f",
   "metadata": {},
   "outputs": [
    {
     "name": "stdout",
     "output_type": "stream",
     "text": [
      "4934730\n",
      "4934730\n"
     ]
    }
   ],
   "source": [
    "print(FSPs_noDuplis.shape[0])\n",
    "FSPs_noDuplis = pd.merge(FSPs_noDuplis, Bsig_cand_df[[\"__event__\",\"Bsig_uniqParID\"]], on=\"__event__\")\n",
    "print(FSPs_noDuplis.shape[0])"
   ]
  },
  {
   "cell_type": "code",
   "execution_count": 24,
   "id": "736e52d3",
   "metadata": {},
   "outputs": [],
   "source": [
    "FSPs_noDuplis[\"genBsig_descendant\"] = (FSPs_noDuplis[\"B_ID\"] == FSPs_noDuplis[\"Bsig_uniqParID\"]).astype(int)"
   ]
  },
  {
   "cell_type": "code",
   "execution_count": 25,
   "id": "98bf3944",
   "metadata": {},
   "outputs": [
    {
     "data": {
      "text/plain": [
       "count    4.934730e+06\n",
       "mean     2.998267e-01\n",
       "std      4.581820e-01\n",
       "min      0.000000e+00\n",
       "25%      0.000000e+00\n",
       "50%      0.000000e+00\n",
       "75%      1.000000e+00\n",
       "max      1.000000e+00\n",
       "Name: genBsig_descendant, dtype: float64"
      ]
     },
     "execution_count": 25,
     "metadata": {},
     "output_type": "execute_result"
    }
   ],
   "source": [
    "FSPs_noDuplis['genBsig_descendant'].describe()"
   ]
  },
  {
   "cell_type": "code",
   "execution_count": 26,
   "id": "6fb41bb0",
   "metadata": {
    "scrolled": true
   },
   "outputs": [
    {
     "data": {
      "text/plain": [
       "0.0    220628\n",
       "1.0     31483\n",
       "2.0     28070\n",
       "Name: Bsig_genParticleID, dtype: int64"
      ]
     },
     "execution_count": 26,
     "metadata": {},
     "output_type": "execute_result"
    }
   ],
   "source": [
    "Bsig_cand_df[\"Bsig_genParticleID\"].value_counts()"
   ]
  },
  {
   "cell_type": "code",
   "execution_count": 27,
   "id": "e9438b23",
   "metadata": {},
   "outputs": [
    {
     "data": {
      "text/html": [
       "<div>\n",
       "<style scoped>\n",
       "    .dataframe tbody tr th:only-of-type {\n",
       "        vertical-align: middle;\n",
       "    }\n",
       "\n",
       "    .dataframe tbody tr th {\n",
       "        vertical-align: top;\n",
       "    }\n",
       "\n",
       "    .dataframe thead th {\n",
       "        text-align: right;\n",
       "    }\n",
       "</style>\n",
       "<table border=\"1\" class=\"dataframe\">\n",
       "  <thead>\n",
       "    <tr style=\"text-align: right;\">\n",
       "      <th></th>\n",
       "      <th>Bsig_genParticleID</th>\n",
       "      <th>Bsig_uniqParID</th>\n",
       "      <th>count</th>\n",
       "    </tr>\n",
       "  </thead>\n",
       "  <tbody>\n",
       "    <tr>\n",
       "      <th>0</th>\n",
       "      <td>0.0</td>\n",
       "      <td>83886081.0</td>\n",
       "      <td>115373</td>\n",
       "    </tr>\n",
       "    <tr>\n",
       "      <th>1</th>\n",
       "      <td>0.0</td>\n",
       "      <td>83886082.0</td>\n",
       "      <td>105255</td>\n",
       "    </tr>\n",
       "    <tr>\n",
       "      <th>2</th>\n",
       "      <td>1.0</td>\n",
       "      <td>83886081.0</td>\n",
       "      <td>31239</td>\n",
       "    </tr>\n",
       "    <tr>\n",
       "      <th>3</th>\n",
       "      <td>1.0</td>\n",
       "      <td>83886082.0</td>\n",
       "      <td>244</td>\n",
       "    </tr>\n",
       "    <tr>\n",
       "      <th>4</th>\n",
       "      <td>2.0</td>\n",
       "      <td>83886081.0</td>\n",
       "      <td>1167</td>\n",
       "    </tr>\n",
       "    <tr>\n",
       "      <th>5</th>\n",
       "      <td>2.0</td>\n",
       "      <td>83886082.0</td>\n",
       "      <td>26903</td>\n",
       "    </tr>\n",
       "  </tbody>\n",
       "</table>\n",
       "</div>"
      ],
      "text/plain": [
       "   Bsig_genParticleID  Bsig_uniqParID   count\n",
       "0                 0.0      83886081.0  115373\n",
       "1                 0.0      83886082.0  105255\n",
       "2                 1.0      83886081.0   31239\n",
       "3                 1.0      83886082.0     244\n",
       "4                 2.0      83886081.0    1167\n",
       "5                 2.0      83886082.0   26903"
      ]
     },
     "execution_count": 27,
     "metadata": {},
     "output_type": "execute_result"
    }
   ],
   "source": [
    "genBsigs = pd.DataFrame({'count' : Bsig_cand_df.groupby( [\"Bsig_genParticleID\",\"Bsig_uniqParID\"] ).size()}).reset_index()\n",
    "genBsigs"
   ]
  },
  {
   "cell_type": "code",
   "execution_count": 28,
   "id": "7ef08e73",
   "metadata": {},
   "outputs": [
    {
     "name": "stdout",
     "output_type": "stream",
     "text": [
      "58142\n"
     ]
    },
    {
     "data": {
      "text/plain": [
       "count    674085.000000\n",
       "mean          0.325314\n",
       "std           0.468492\n",
       "min           0.000000\n",
       "25%           0.000000\n",
       "50%           0.000000\n",
       "75%           1.000000\n",
       "max           1.000000\n",
       "Name: genBsig_descendant, dtype: float64"
      ]
     },
     "execution_count": 28,
     "metadata": {},
     "output_type": "execute_result"
    }
   ],
   "source": [
    "tmp = Bsig_cand_df[((((Bsig_cand_df[\"Bsig_genParticleID\"] == 1.0) & (Bsig_cand_df[\"Bsig_uniqParID\"] == 83886081.0))) | \n",
    "                   ((Bsig_cand_df[\"Bsig_genParticleID\"] == 2.0) & (Bsig_cand_df[\"Bsig_uniqParID\"] == 83886082.0)))]\n",
    "print(tmp.shape[0])\n",
    "\n",
    "tmpFSPs = FSPs_noDuplis[FSPs_noDuplis['__event__'].isin(tmp[\"__event__\"])]\n",
    "\n",
    "\n",
    "tmpFSPs['genBsig_descendant'].describe()"
   ]
  },
  {
   "cell_type": "code",
   "execution_count": 29,
   "id": "c9b367d3",
   "metadata": {
    "scrolled": false
   },
   "outputs": [
    {
     "data": {
      "text/html": [
       "<div>\n",
       "<style scoped>\n",
       "    .dataframe tbody tr th:only-of-type {\n",
       "        vertical-align: middle;\n",
       "    }\n",
       "\n",
       "    .dataframe tbody tr th {\n",
       "        vertical-align: top;\n",
       "    }\n",
       "\n",
       "    .dataframe thead th {\n",
       "        text-align: right;\n",
       "    }\n",
       "</style>\n",
       "<table border=\"1\" class=\"dataframe\">\n",
       "  <thead>\n",
       "    <tr style=\"text-align: right;\">\n",
       "      <th></th>\n",
       "      <th>genBsig_descendant</th>\n",
       "      <th>Bsig_used</th>\n",
       "      <th>count</th>\n",
       "      <th>fraction</th>\n",
       "    </tr>\n",
       "  </thead>\n",
       "  <tbody>\n",
       "    <tr>\n",
       "      <th>0</th>\n",
       "      <td>0</td>\n",
       "      <td>0.0</td>\n",
       "      <td>3079555</td>\n",
       "      <td>0.624057</td>\n",
       "    </tr>\n",
       "    <tr>\n",
       "      <th>1</th>\n",
       "      <td>0</td>\n",
       "      <td>1.0</td>\n",
       "      <td>375611</td>\n",
       "      <td>0.076116</td>\n",
       "    </tr>\n",
       "    <tr>\n",
       "      <th>2</th>\n",
       "      <td>1</td>\n",
       "      <td>0.0</td>\n",
       "      <td>694162</td>\n",
       "      <td>0.140669</td>\n",
       "    </tr>\n",
       "    <tr>\n",
       "      <th>3</th>\n",
       "      <td>1</td>\n",
       "      <td>1.0</td>\n",
       "      <td>785402</td>\n",
       "      <td>0.159158</td>\n",
       "    </tr>\n",
       "  </tbody>\n",
       "</table>\n",
       "</div>"
      ],
      "text/plain": [
       "   genBsig_descendant  Bsig_used    count  fraction\n",
       "0                   0        0.0  3079555  0.624057\n",
       "1                   0        1.0   375611  0.076116\n",
       "2                   1        0.0   694162  0.140669\n",
       "3                   1        1.0   785402  0.159158"
      ]
     },
     "execution_count": 29,
     "metadata": {},
     "output_type": "execute_result"
    }
   ],
   "source": [
    "Bsig_correctness = pd.DataFrame({'count' : FSPs_noDuplis.groupby( [\"genBsig_descendant\",\"Bsig_used\"] ).size(),\n",
    "                            'fraction' : FSPs_noDuplis.groupby( [\"genBsig_descendant\",\"Bsig_used\"] ).size()/FSPs_noDuplis.shape[0]}).reset_index()\n",
    "Bsig_correctness"
   ]
  },
  {
   "cell_type": "code",
   "execution_count": null,
   "id": "a19050d0",
   "metadata": {},
   "outputs": [],
   "source": [
    "tmpFSPs['label'] = tmpFSPs.apply(labels, axis=1)"
   ]
  },
  {
   "cell_type": "code",
   "execution_count": 32,
   "id": "3c45994c",
   "metadata": {},
   "outputs": [
    {
     "name": "stdout",
     "output_type": "stream",
     "text": [
      "count    1.161013e+06\n",
      "mean     6.764799e-01\n",
      "std      4.678194e-01\n",
      "min      0.000000e+00\n",
      "25%      0.000000e+00\n",
      "50%      1.000000e+00\n",
      "75%      1.000000e+00\n",
      "max      1.000000e+00\n",
      "Name: genBsig_descendant, dtype: float64\n",
      "count    190223.0\n",
      "mean          1.0\n",
      "std           0.0\n",
      "min           1.0\n",
      "25%           1.0\n",
      "50%           1.0\n",
      "75%           1.0\n",
      "max           1.0\n",
      "Name: genBsig_descendant, dtype: float64\n",
      "count    219289.0\n",
      "mean          1.0\n",
      "std           0.0\n",
      "min           1.0\n",
      "25%           1.0\n",
      "50%           1.0\n",
      "75%           1.0\n",
      "max           1.0\n",
      "Name: genBsig_descendant, dtype: float64\n"
     ]
    },
    {
     "name": "stderr",
     "output_type": "stream",
     "text": [
      "/usr/local/lib/python3.6/site-packages/ipykernel_launcher.py:5: SettingWithCopyWarning: \n",
      "A value is trying to be set on a copy of a slice from a DataFrame.\n",
      "Try using .loc[row_indexer,col_indexer] = value instead\n",
      "\n",
      "See the caveats in the documentation: https://pandas.pydata.org/pandas-docs/stable/user_guide/indexing.html#returning-a-view-versus-a-copy\n",
      "  \"\"\"\n"
     ]
    }
   ],
   "source": [
    "## genBsig descendants only for Bsig used each\n",
    "\n",
    "print(FSPs_noDuplis[FSPs_noDuplis[\"Bsig_used\"] == 1]['genBsig_descendant'].describe())\n",
    "\n",
    "print(tmpFSPs[tmpFSPs[\"Bsig_used\"] == 1]['genBsig_descendant'].describe())\n",
    "print(tmpFSPs[tmpFSPs[\"label\"] == 2]['genBsig_descendant'].describe())\n",
    "\n",
    "# the tmpFSPs is probably close to isSig==1, otherwise the Bsig_genParticleID wouldnt be 1 or 2"
   ]
  },
  {
   "cell_type": "code",
   "execution_count": null,
   "id": "718e1c81",
   "metadata": {},
   "outputs": [],
   "source": []
  }
 ],
 "metadata": {
  "kernelspec": {
   "display_name": "Python 3",
   "language": "python",
   "name": "python3"
  },
  "language_info": {
   "codemirror_mode": {
    "name": "ipython",
    "version": 3
   },
   "file_extension": ".py",
   "mimetype": "text/x-python",
   "name": "python",
   "nbconvert_exporter": "python",
   "pygments_lexer": "ipython3",
   "version": "3.6.8"
  }
 },
 "nbformat": 4,
 "nbformat_minor": 5
}
