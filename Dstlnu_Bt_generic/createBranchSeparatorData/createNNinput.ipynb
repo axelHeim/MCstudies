{
 "cells": [
  {
   "cell_type": "code",
   "execution_count": 97,
   "metadata": {},
   "outputs": [],
   "source": [
    "import matplotlib.pyplot as plt\n",
    "import uproot\n",
    "import numpy as np\n",
    "import pandas as pd\n",
    "\n",
    "from pathlib import Path\n",
    "from sklearn.model_selection import train_test_split\n",
    "\n",
    "from datetime import datetime"
   ]
  },
  {
   "cell_type": "code",
   "execution_count": 99,
   "metadata": {},
   "outputs": [
    {
     "name": "stdout",
     "output_type": "stream",
     "text": [
      "time at start = 2021-09-20 15:13:13.383214\n"
     ]
    }
   ],
   "source": [
    "now = datetime.now()\n",
    "print(\"time at start =\", now)"
   ]
  },
  {
   "cell_type": "code",
   "execution_count": 79,
   "metadata": {},
   "outputs": [],
   "source": [
    "save_data = True\n",
    "tmp_data = False"
   ]
  },
  {
   "cell_type": "code",
   "execution_count": 80,
   "metadata": {},
   "outputs": [],
   "source": [
    "nfs_path = \"/nfs/dust/belle2/user/axelheim/MC_studies/Dstlnu_Bt_generic/\"\n",
    "\n",
    "data_subdir = \"Dstlnu_Hc_corr_BsigX_separation_dataRun1/\"   \n",
    "root_subdir = \"axheim_data2_MC14_100kEvts/\"   \n",
    "\n",
    "root_path = nfs_path + \"createBranchSeparatorData/\" + root_subdir"
   ]
  },
  {
   "cell_type": "code",
   "execution_count": 81,
   "metadata": {},
   "outputs": [],
   "source": [
    "merged = \"merged_\"\n",
    "if tmp_data:\n",
    "    merged += \"tmp_\""
   ]
  },
  {
   "cell_type": "code",
   "execution_count": 82,
   "metadata": {},
   "outputs": [],
   "source": [
    "fileY4S = uproot.open(root_path + merged + \"DXtagDstl.root:variables\")"
   ]
  },
  {
   "cell_type": "code",
   "execution_count": 83,
   "metadata": {},
   "outputs": [
    {
     "name": "stdout",
     "output_type": "stream",
     "text": [
      "/nfs/dust/belle2/user/axelheim/MC_studies/Dstlnu_Bt_generic/createBranchSeparatorData/axheim_data2_MC14_100kEvts/merged_gammas.root:variables\n",
      "/nfs/dust/belle2/user/axelheim/MC_studies/Dstlnu_Bt_generic/createBranchSeparatorData/axheim_data2_MC14_100kEvts/merged_electrons.root:variables\n",
      "/nfs/dust/belle2/user/axelheim/MC_studies/Dstlnu_Bt_generic/createBranchSeparatorData/axheim_data2_MC14_100kEvts/merged_pions.root:variables\n",
      "/nfs/dust/belle2/user/axelheim/MC_studies/Dstlnu_Bt_generic/createBranchSeparatorData/axheim_data2_MC14_100kEvts/merged_kaons.root:variables\n",
      "/nfs/dust/belle2/user/axelheim/MC_studies/Dstlnu_Bt_generic/createBranchSeparatorData/axheim_data2_MC14_100kEvts/merged_muons.root:variables\n"
     ]
    }
   ],
   "source": [
    "names = [\"gammas\",\"electrons\",\"pions\",\"kaons\",\"muons\"]\n",
    "dfs = []\n",
    "for name in names:\n",
    "    filename = root_path + merged + \"{}.root:variables\".format(name)\n",
    "    print(filename)\n",
    "    tmpFileFSPs = uproot.open(filename)\n",
    "    df_tmp = tmpFileFSPs.arrays(library=\"pd\")\n",
    "    dfs.append(df_tmp)"
   ]
  },
  {
   "cell_type": "code",
   "execution_count": 84,
   "metadata": {},
   "outputs": [],
   "source": [
    "df_FSPs = pd.concat(dfs)"
   ]
  },
  {
   "cell_type": "code",
   "execution_count": 85,
   "metadata": {},
   "outputs": [],
   "source": [
    "df_Y4S = fileY4S.arrays(library=\"pd\")"
   ]
  },
  {
   "cell_type": "code",
   "execution_count": 86,
   "metadata": {},
   "outputs": [
    {
     "name": "stdout",
     "output_type": "stream",
     "text": [
      "9865292\n",
      "211319\n"
     ]
    }
   ],
   "source": [
    "print(df_FSPs.shape[0])\n",
    "print(df_Y4S.shape[0])"
   ]
  },
  {
   "cell_type": "code",
   "execution_count": 87,
   "metadata": {},
   "outputs": [],
   "source": [
    "# delete FSPs for which no Y4S file entry was found\n",
    "df_FSPs = df_FSPs[df_FSPs['__event__'].isin(df_Y4S[\"__event__\"])]"
   ]
  },
  {
   "cell_type": "code",
   "execution_count": 88,
   "metadata": {},
   "outputs": [
    {
     "name": "stdout",
     "output_type": "stream",
     "text": [
      "9754944\n",
      "211319\n"
     ]
    }
   ],
   "source": [
    "print(df_FSPs.shape[0])\n",
    "print(df_Y4S.shape[0])"
   ]
  },
  {
   "cell_type": "markdown",
   "metadata": {},
   "source": [
    "## take a sample if used in notebook for faster processing"
   ]
  },
  {
   "cell_type": "code",
   "execution_count": 95,
   "metadata": {},
   "outputs": [],
   "source": [
    "#df_Y4Ssample = df_Y4S.sample(n=10000)\n",
    "#df_FSPssample = df_FSPs[df_FSPs['__event__'].isin(df_Y4Ssample[\"__event__\"])]"
   ]
  },
  {
   "cell_type": "code",
   "execution_count": 96,
   "metadata": {},
   "outputs": [],
   "source": [
    "#df_Y4S=df_Y4Ssample\n",
    "#df_FSPs=df_FSPssample"
   ]
  },
  {
   "cell_type": "code",
   "execution_count": 91,
   "metadata": {
    "scrolled": true
   },
   "outputs": [
    {
     "name": "stdout",
     "output_type": "stream",
     "text": [
      "462793\n",
      "10000\n"
     ]
    }
   ],
   "source": [
    "print(\"df_FSPs.shape[0]:\",df_FSPs.shape[0])\n",
    "print(\"df_Y4S.shape[0]:\",df_Y4S.shape[0])"
   ]
  },
  {
   "cell_type": "markdown",
   "metadata": {},
   "source": [
    "### delete particles which occur more than ones based on uniqueParticleIdentifier"
   ]
  },
  {
   "cell_type": "code",
   "execution_count": 92,
   "metadata": {},
   "outputs": [],
   "source": [
    "groupsFSPs_uniqParID = pd.DataFrame({'count' : df_FSPs.groupby( [\"__event__\",\"uniqueParticleIdentifier\"] ).size()}).reset_index()\n",
    "#with pd.option_context('display.max_rows', None, 'display.max_columns', None):  # more options can be specified also\n",
    "#    print(groupsFSPs_uniqParID.sort_values(\"count\"))"
   ]
  },
  {
   "cell_type": "code",
   "execution_count": 93,
   "metadata": {
    "scrolled": true
   },
   "outputs": [
    {
     "name": "stdout",
     "output_type": "stream",
     "text": [
      "462793\n",
      "343589\n",
      "9983\n"
     ]
    }
   ],
   "source": [
    "print(\"df_FSPs.shape[0]:\",df_FSPs.shape[0])\n",
    "print(\"groupsFSPs_uniqParID.shape[0]:\",groupsFSPs_uniqParID.shape[0])\n",
    "print(\"event_Bs.shape[0]:\",event_Bs.shape[0])"
   ]
  },
  {
   "cell_type": "code",
   "execution_count": 94,
   "metadata": {},
   "outputs": [
    {
     "name": "stdout",
     "output_type": "stream",
     "text": [
      "0.0    246478\n",
      "1.0    216315\n",
      "Name: basf2_used, dtype: int64\n",
      "1.0    216315\n",
      "0.0    127274\n",
      "Name: basf2_used, dtype: int64\n"
     ]
    }
   ],
   "source": [
    "# delete particles which occur more than ones (keep first) and if possible keep the one with basf2_used==1\n",
    "print(\"df_FSPs[\"basf2_used\"].value_counts():\",df_FSPs[\"basf2_used\"].value_counts())\n",
    "df_FSPs = df_FSPs.sort_values(\"basf2_used\",ascending=False).drop_duplicates(subset=(\"__event__\",\"uniqueParticleIdentifier\"), keep='first')\n",
    "print(\"df_FSPs[\"basf2_used\"].value_counts():\",df_FSPs[\"basf2_used\"].value_counts())"
   ]
  },
  {
   "cell_type": "code",
   "execution_count": 58,
   "metadata": {},
   "outputs": [
    {
     "name": "stdout",
     "output_type": "stream",
     "text": [
      "343386\n"
     ]
    }
   ],
   "source": [
    "print(\"df_FSPs.shape[0]:\",df_FSPs.shape[0])"
   ]
  },
  {
   "cell_type": "markdown",
   "metadata": {},
   "source": [
    "## check if category combinations make sense"
   ]
  },
  {
   "cell_type": "code",
   "execution_count": 59,
   "metadata": {},
   "outputs": [
    {
     "data": {
      "text/html": [
       "<div>\n",
       "<style scoped>\n",
       "    .dataframe tbody tr th:only-of-type {\n",
       "        vertical-align: middle;\n",
       "    }\n",
       "\n",
       "    .dataframe tbody tr th {\n",
       "        vertical-align: top;\n",
       "    }\n",
       "\n",
       "    .dataframe thead th {\n",
       "        text-align: right;\n",
       "    }\n",
       "</style>\n",
       "<table border=\"1\" class=\"dataframe\">\n",
       "  <thead>\n",
       "    <tr style=\"text-align: right;\">\n",
       "      <th></th>\n",
       "      <th>basf2_used</th>\n",
       "      <th>basf2_Bsig</th>\n",
       "      <th>basf2_X</th>\n",
       "      <th>count</th>\n",
       "    </tr>\n",
       "  </thead>\n",
       "  <tbody>\n",
       "    <tr>\n",
       "      <th>0</th>\n",
       "      <td>0.0</td>\n",
       "      <td>0.0</td>\n",
       "      <td>0.0</td>\n",
       "      <td>127411</td>\n",
       "    </tr>\n",
       "    <tr>\n",
       "      <th>1</th>\n",
       "      <td>1.0</td>\n",
       "      <td>0.0</td>\n",
       "      <td>0.0</td>\n",
       "      <td>38506</td>\n",
       "    </tr>\n",
       "    <tr>\n",
       "      <th>2</th>\n",
       "      <td>1.0</td>\n",
       "      <td>0.0</td>\n",
       "      <td>1.0</td>\n",
       "      <td>108556</td>\n",
       "    </tr>\n",
       "    <tr>\n",
       "      <th>3</th>\n",
       "      <td>1.0</td>\n",
       "      <td>1.0</td>\n",
       "      <td>0.0</td>\n",
       "      <td>68913</td>\n",
       "    </tr>\n",
       "  </tbody>\n",
       "</table>\n",
       "</div>"
      ],
      "text/plain": [
       "   basf2_used  basf2_Bsig  basf2_X   count\n",
       "0         0.0         0.0      0.0  127411\n",
       "1         1.0         0.0      0.0   38506\n",
       "2         1.0         0.0      1.0  108556\n",
       "3         1.0         1.0      0.0   68913"
      ]
     },
     "execution_count": 59,
     "metadata": {},
     "output_type": "execute_result"
    }
   ],
   "source": [
    "groupsAllFSPs = pd.DataFrame({'count' : df_FSPs.groupby( [\"basf2_used\",\"basf2_Bsig\",\"basf2_X\"] ).size()}).reset_index()\n",
    "groupsAllFSPs"
   ]
  },
  {
   "cell_type": "markdown",
   "metadata": {},
   "source": [
    "### add two cols with extra info"
   ]
  },
  {
   "cell_type": "code",
   "execution_count": 60,
   "metadata": {},
   "outputs": [],
   "source": [
    "# function to create col with the particles mother B's uniqueParticleIdentifier\n",
    "def B_ID(s):\n",
    "    label = 0\n",
    "    for i in range(10): \n",
    "        mcMotheri_uniqParID = \"mcMother{}_uniqParID\".format(i)\n",
    "        if ((s[mcMotheri_uniqParID]) == 83886082.0):\n",
    "            label = 83886082   \n",
    "        elif ((s[mcMotheri_uniqParID]) == 83886081.0):\n",
    "            label = 83886081   \n",
    "    return label\n",
    "df_FSPs['B_ID'] = df_FSPs.apply(B_ID, axis=1)\n"
   ]
  },
  {
   "cell_type": "code",
   "execution_count": 61,
   "metadata": {},
   "outputs": [],
   "source": [
    "# if particle was used by basf2 but neither for B-sig or X it is from the Hc\n",
    "def Hc(s):\n",
    "    label = 0\n",
    "    if ((s[\"basf2_used\"] == 1.0) & (s[\"basf2_Bsig\"] == 0.0) & (s[\"basf2_X\"] == 0.0)):\n",
    "            label = 1   \n",
    "    \n",
    "    return label\n",
    "df_FSPs['Hc'] = df_FSPs.apply(Hc, axis=1)\n"
   ]
  },
  {
   "cell_type": "code",
   "execution_count": 82,
   "metadata": {
    "scrolled": true
   },
   "outputs": [],
   "source": [
    "# this shows that Hc is sometimes combined from both B's which is of course wrong\n",
    "#groupsAllFSPs = pd.DataFrame({'count' : df_FSPs.groupby( [\"__event__\",\"B_ID\",\"Hc\",\"basf2_used\",\"basf2_Bsig\",\"basf2_X\"] ).size()}).reset_index()\n",
    "#with pd.option_context('display.max_rows', None, 'display.max_columns', None):  # more options can be specified also\n",
    "#    print(groupsAllFSPs.sort_values(\"Hc\"))"
   ]
  },
  {
   "cell_type": "markdown",
   "metadata": {},
   "source": [
    "## data preprocessing"
   ]
  },
  {
   "cell_type": "markdown",
   "metadata": {},
   "source": [
    "### create df with per event info about which B is sig and which is tag"
   ]
  },
  {
   "cell_type": "code",
   "execution_count": 62,
   "metadata": {
    "scrolled": true
   },
   "outputs": [],
   "source": [
    "groupsAllFSPs = pd.DataFrame({'count' : df_FSPs.groupby([\"__event__\",\"B_ID\",\"Hc\"]).size(),\n",
    "                             'sum_p': df_FSPs.groupby([\"__event__\",\"B_ID\",\"Hc\"])[\"p\"].sum()}).reset_index()\n",
    "#with pd.option_context('display.max_rows', None, 'display.max_columns', None):  # more options can be specified also\n",
    "#    print(groupsAllFSPs[(groupsAllFSPs[\"__event__\"] == 3183239)].sort_values(\"__event__\"))"
   ]
  },
  {
   "cell_type": "code",
   "execution_count": 63,
   "metadata": {},
   "outputs": [],
   "source": [
    "#print(groupsAllFSPs[groupsAllFSPs[\"Hc\"] == 1].sort_values(\"__event__\"))"
   ]
  },
  {
   "cell_type": "code",
   "execution_count": 64,
   "metadata": {},
   "outputs": [],
   "source": [
    "events=[]\n",
    "B_tag_IDs=[]\n",
    "B_sig_IDs=[]"
   ]
  },
  {
   "cell_type": "code",
   "execution_count": 65,
   "metadata": {},
   "outputs": [
    {
     "name": "stdout",
     "output_type": "stream",
     "text": [
      "in 0 cases, Btag (B mother of Hc) was unclear\n",
      "equals to 0.0 %\n"
     ]
    }
   ],
   "source": [
    "unclearHc = 0\n",
    "for evt in pd.unique(groupsAllFSPs[groupsAllFSPs[\"Hc\"] == 1][\"__event__\"]):\n",
    "    # sort by sum_p to take \"max_count_idx\" from the H_c particles with more momentum if two categories have the same particle count\n",
    "    singleEvt_Hcs = groupsAllFSPs[(groupsAllFSPs[\"Hc\"] == 1) & (groupsAllFSPs[\"__event__\"] == evt)].sort_values(\"sum_p\",ascending=False)\n",
    "    \n",
    "    # B_ID=0 => background, so take the other one if available\n",
    "    singleEvt_Hcs = singleEvt_Hcs[(singleEvt_Hcs[\"B_ID\"] != 0)]\n",
    "    \n",
    "    if singleEvt_Hcs.empty:\n",
    "        unclearHc += 1\n",
    "        continue\n",
    "    \n",
    "    max_count_idx = singleEvt_Hcs[\"count\"].idxmax()\n",
    "    \n",
    "    #print((max_count_idx))\n",
    "    max_count_row = singleEvt_Hcs.loc[[max_count_idx]]\n",
    "       \n",
    "    \n",
    "    #print(max_count_row,'\\n\\n\\n\\n')\n",
    "\n",
    "        \n",
    "    events.append(max_count_row.iloc[0]['__event__'])\n",
    "    B_tag_IDs.append(max_count_row.iloc[0]['B_ID']) # this is Btag because it is Hc's mother B\n",
    "    Bsig_tmp = 0\n",
    "    if B_tag_IDs[-1] == 83886082:\n",
    "        Bsig_tmp = 83886081.0\n",
    "    elif B_tag_IDs[-1] == 83886081:\n",
    "        Bsig_tmp = 83886082.0\n",
    "    #else:\n",
    "    #    unclearHc +=1\n",
    "    #    print(singleEvt_Hcs)\n",
    "    #    print(events[-1],B_tag_IDs[-1],max_count_idx)\n",
    "    #    raise ValueError('Btag/Bsig assignment unclear')\n",
    "    B_sig_IDs.append(Bsig_tmp)\n",
    "    \n",
    "print(\"in\",unclearHc,\"cases, Btag (B mother of Hc) was unclear\")\n",
    "print(\"equals to\",round(unclearHc/(len(B_sig_IDs)+unclearHc) , 4)*100,\"%\")\n",
    "    "
   ]
  },
  {
   "cell_type": "code",
   "execution_count": 67,
   "metadata": {},
   "outputs": [],
   "source": [
    "event_Bs = pd.DataFrame(\n",
    "{\"__event__\" : events,\n",
    "\"B_tag_ID\" : B_tag_IDs,\n",
    "\"B_sig_ID\" : B_sig_IDs})"
   ]
  },
  {
   "cell_type": "code",
   "execution_count": 68,
   "metadata": {},
   "outputs": [
    {
     "name": "stdout",
     "output_type": "stream",
     "text": [
      "343386\n",
      "342986\n"
     ]
    }
   ],
   "source": [
    "# throw away events with unclear Btag\n",
    "print(\"df_FSPs.shape[0]:\",df_FSPs.shape[0])\n",
    "df_FSPs = df_FSPs[df_FSPs['__event__'].isin(event_Bs[\"__event__\"])]\n",
    "print(\"df_FSPs.shape[0]:\",df_FSPs.shape[0])"
   ]
  },
  {
   "cell_type": "code",
   "execution_count": 69,
   "metadata": {},
   "outputs": [
    {
     "data": {
      "text/html": [
       "<div>\n",
       "<style scoped>\n",
       "    .dataframe tbody tr th:only-of-type {\n",
       "        vertical-align: middle;\n",
       "    }\n",
       "\n",
       "    .dataframe tbody tr th {\n",
       "        vertical-align: top;\n",
       "    }\n",
       "\n",
       "    .dataframe thead th {\n",
       "        text-align: right;\n",
       "    }\n",
       "</style>\n",
       "<table border=\"1\" class=\"dataframe\">\n",
       "  <thead>\n",
       "    <tr style=\"text-align: right;\">\n",
       "      <th></th>\n",
       "      <th>__event__</th>\n",
       "      <th>B_tag_ID</th>\n",
       "      <th>B_sig_ID</th>\n",
       "    </tr>\n",
       "  </thead>\n",
       "  <tbody>\n",
       "    <tr>\n",
       "      <th>0</th>\n",
       "      <td>4094.0</td>\n",
       "      <td>83886081.0</td>\n",
       "      <td>83886082.0</td>\n",
       "    </tr>\n",
       "    <tr>\n",
       "      <th>1</th>\n",
       "      <td>4358.0</td>\n",
       "      <td>83886081.0</td>\n",
       "      <td>83886082.0</td>\n",
       "    </tr>\n",
       "    <tr>\n",
       "      <th>2</th>\n",
       "      <td>8765.0</td>\n",
       "      <td>83886082.0</td>\n",
       "      <td>83886081.0</td>\n",
       "    </tr>\n",
       "    <tr>\n",
       "      <th>3</th>\n",
       "      <td>9687.0</td>\n",
       "      <td>83886081.0</td>\n",
       "      <td>83886082.0</td>\n",
       "    </tr>\n",
       "    <tr>\n",
       "      <th>4</th>\n",
       "      <td>10725.0</td>\n",
       "      <td>83886081.0</td>\n",
       "      <td>83886082.0</td>\n",
       "    </tr>\n",
       "    <tr>\n",
       "      <th>5</th>\n",
       "      <td>10796.0</td>\n",
       "      <td>83886081.0</td>\n",
       "      <td>83886082.0</td>\n",
       "    </tr>\n",
       "    <tr>\n",
       "      <th>6</th>\n",
       "      <td>10842.0</td>\n",
       "      <td>83886082.0</td>\n",
       "      <td>83886081.0</td>\n",
       "    </tr>\n",
       "    <tr>\n",
       "      <th>7</th>\n",
       "      <td>13458.0</td>\n",
       "      <td>83886082.0</td>\n",
       "      <td>83886081.0</td>\n",
       "    </tr>\n",
       "    <tr>\n",
       "      <th>8</th>\n",
       "      <td>13915.0</td>\n",
       "      <td>83886081.0</td>\n",
       "      <td>83886082.0</td>\n",
       "    </tr>\n",
       "    <tr>\n",
       "      <th>9</th>\n",
       "      <td>13987.0</td>\n",
       "      <td>83886081.0</td>\n",
       "      <td>83886082.0</td>\n",
       "    </tr>\n",
       "  </tbody>\n",
       "</table>\n",
       "</div>"
      ],
      "text/plain": [
       "   __event__    B_tag_ID    B_sig_ID\n",
       "0     4094.0  83886081.0  83886082.0\n",
       "1     4358.0  83886081.0  83886082.0\n",
       "2     8765.0  83886082.0  83886081.0\n",
       "3     9687.0  83886081.0  83886082.0\n",
       "4    10725.0  83886081.0  83886082.0\n",
       "5    10796.0  83886081.0  83886082.0\n",
       "6    10842.0  83886082.0  83886081.0\n",
       "7    13458.0  83886082.0  83886081.0\n",
       "8    13915.0  83886081.0  83886082.0\n",
       "9    13987.0  83886081.0  83886082.0"
      ]
     },
     "execution_count": 69,
     "metadata": {},
     "output_type": "execute_result"
    }
   ],
   "source": [
    "event_Bs[:10]"
   ]
  },
  {
   "cell_type": "code",
   "execution_count": 70,
   "metadata": {},
   "outputs": [
    {
     "data": {
      "text/html": [
       "<div>\n",
       "<style scoped>\n",
       "    .dataframe tbody tr th:only-of-type {\n",
       "        vertical-align: middle;\n",
       "    }\n",
       "\n",
       "    .dataframe tbody tr th {\n",
       "        vertical-align: top;\n",
       "    }\n",
       "\n",
       "    .dataframe thead th {\n",
       "        text-align: right;\n",
       "    }\n",
       "</style>\n",
       "<table border=\"1\" class=\"dataframe\">\n",
       "  <thead>\n",
       "    <tr style=\"text-align: right;\">\n",
       "      <th></th>\n",
       "      <th>B_tag_ID</th>\n",
       "      <th>B_sig_ID</th>\n",
       "      <th>count</th>\n",
       "    </tr>\n",
       "  </thead>\n",
       "  <tbody>\n",
       "    <tr>\n",
       "      <th>0</th>\n",
       "      <td>83886081.0</td>\n",
       "      <td>83886082.0</td>\n",
       "      <td>5034</td>\n",
       "    </tr>\n",
       "    <tr>\n",
       "      <th>1</th>\n",
       "      <td>83886082.0</td>\n",
       "      <td>83886081.0</td>\n",
       "      <td>4949</td>\n",
       "    </tr>\n",
       "  </tbody>\n",
       "</table>\n",
       "</div>"
      ],
      "text/plain": [
       "     B_tag_ID    B_sig_ID  count\n",
       "0  83886081.0  83886082.0   5034\n",
       "1  83886082.0  83886081.0   4949"
      ]
     },
     "execution_count": 70,
     "metadata": {},
     "output_type": "execute_result"
    }
   ],
   "source": [
    "# check that B-tag and B-sig are not equal for any event -> only 2 rows shall appear here\n",
    "pd.DataFrame({'count' : event_Bs.groupby([\"B_tag_ID\",\"B_sig_ID\"]).size()}).reset_index()"
   ]
  },
  {
   "cell_type": "markdown",
   "metadata": {},
   "source": [
    "### save dataframes on NFS"
   ]
  },
  {
   "cell_type": "code",
   "execution_count": 71,
   "metadata": {},
   "outputs": [],
   "source": [
    "df_FSPs.to_csv(root_path + \"df_FSPs_preProcessed.csv\")\n",
    "event_Bs.to_csv(root_path + \"event_Bs.csv\")"
   ]
  },
  {
   "cell_type": "markdown",
   "metadata": {},
   "source": [
    "### load dataframes"
   ]
  },
  {
   "cell_type": "code",
   "execution_count": 6,
   "metadata": {},
   "outputs": [],
   "source": [
    "df_FSPs = pd.read_csv(root_path + \"df_FSPs_preProcessed.csv\")\n",
    "event_Bs = pd.read_csv(root_path + \"event_Bs.csv\")"
   ]
  },
  {
   "cell_type": "markdown",
   "metadata": {},
   "source": [
    "### delete Hc particles, after loading data, so saved df's cotain the Hc particles as well"
   ]
  },
  {
   "cell_type": "code",
   "execution_count": 72,
   "metadata": {},
   "outputs": [
    {
     "name": "stdout",
     "output_type": "stream",
     "text": [
      "342986\n",
      "304480\n"
     ]
    }
   ],
   "source": [
    "print(\"df_FSPs.shape[0]:\",df_FSPs.shape[0])\n",
    "df_FSPs_final = df_FSPs[df_FSPs[\"Hc\"] == 0]\n",
    "print(\"df_FSPs_final.shape[0]:\",df_FSPs_final.shape[0])"
   ]
  },
  {
   "cell_type": "code",
   "execution_count": 73,
   "metadata": {},
   "outputs": [
    {
     "data": {
      "text/plain": [
       "Index(['__event__', 'B_tag_ID', 'B_sig_ID'], dtype='object')"
      ]
     },
     "execution_count": 73,
     "metadata": {},
     "output_type": "execute_result"
    }
   ],
   "source": [
    "event_Bs.keys()"
   ]
  },
  {
   "cell_type": "code",
   "execution_count": 74,
   "metadata": {},
   "outputs": [
    {
     "data": {
      "text/plain": [
       "Index(['__experiment__', '__run__', '__event__', '__candidate__',\n",
       "       '__ncandidates__', '__weight__', 'basf2_X', 'basf2_used', 'basf2_Bsig',\n",
       "       'isSignal', 'uniqueParticleIdentifier', 'mcErrors', 'mcPDG',\n",
       "       'genMotherID', 'genMotherP', 'genMotherPDG', 'px', 'py', 'pz', 'pt',\n",
       "       'p', 'E', 'kaonID', 'pionID', 'genMothPDG_0', 'genMothPDG_1',\n",
       "       'genMothPDG_2', 'genMothPDG_3', 'genMothPDG_4', 'genMothPDG_5',\n",
       "       'genMothPDG_6', 'genMothPDG_7', 'genMothPDG_8', 'genMothPDG_9',\n",
       "       'mcMother0_uniqParID', 'mcMother1_uniqParID', 'mcMother2_uniqParID',\n",
       "       'mcMother3_uniqParID', 'mcMother4_uniqParID', 'mcMother5_uniqParID',\n",
       "       'mcMother6_uniqParID', 'mcMother7_uniqParID', 'mcMother8_uniqParID',\n",
       "       'mcMother9_uniqParID', 'PDG', 'B_ID', 'Hc'],\n",
       "      dtype='object')"
      ]
     },
     "execution_count": 74,
     "metadata": {},
     "output_type": "execute_result"
    }
   ],
   "source": [
    "df_FSPs_final.keys()"
   ]
  },
  {
   "cell_type": "markdown",
   "metadata": {},
   "source": [
    "# start of NN data creation"
   ]
  },
  {
   "cell_type": "code",
   "execution_count": 75,
   "metadata": {},
   "outputs": [
    {
     "name": "stdout",
     "output_type": "stream",
     "text": [
      "minFSPs: 11\n",
      "maxFSPs: 58 \n",
      "\n"
     ]
    },
    {
     "name": "stderr",
     "output_type": "stream",
     "text": [
      "<ipython-input-75-887bf7860262>:8: SettingWithCopyWarning: \n",
      "A value is trying to be set on a copy of a slice from a DataFrame.\n",
      "Try using .loc[row_indexer,col_indexer] = value instead\n",
      "\n",
      "See the caveats in the documentation: https://pandas.pydata.org/pandas-docs/stable/user_guide/indexing.html#returning-a-view-versus-a-copy\n",
      "  df_FSPs_final['numFSPs'] = df_FSPs_final.groupby('__event__')['__event__'].transform('count')\n"
     ]
    }
   ],
   "source": [
    "numFSPs = pd.DataFrame({'count' : df_FSPs_final.groupby( [\"__event__\"] ).size()}).reset_index()\n",
    "\n",
    "minFSPs = numFSPs[\"count\"].min()\n",
    "maxFSPs = numFSPs[\"count\"].max()\n",
    "print(\"minFSPs:\",minFSPs)\n",
    "print(\"maxFSPs:\",maxFSPs,'\\n')\n",
    "\n",
    "df_FSPs_final['numFSPs'] = df_FSPs_final.groupby('__event__')['__event__'].transform('count')"
   ]
  },
  {
   "cell_type": "code",
   "execution_count": 76,
   "metadata": {},
   "outputs": [
    {
     "name": "stdout",
     "output_type": "stream",
     "text": [
      "Will save data to: /nfs/dust/belle2/user/axelheim/MC_studies/Dstlnu_Bt_generic/NNdata/Dstlnu_Hc_corr_BsigX_separation_dataRun1/axheim_data2_MC14_100kEvts is True \n",
      "\n"
     ]
    }
   ],
   "source": [
    "data_dir = Path(nfs_path + \"NNdata/\" + data_subdir + root_subdir)    \n",
    "data_dir.mkdir(parents=True, exist_ok=True)\n",
    "print(\"Will save data to:\", data_dir,'is', save_data ,'\\n')"
   ]
  },
  {
   "cell_type": "code",
   "execution_count": 77,
   "metadata": {
    "scrolled": false
   },
   "outputs": [
    {
     "name": "stdout",
     "output_type": "stream",
     "text": [
      "numEvents: 1\n",
      "num_FSPs_toData: 11\n",
      "skipped because <10 events \n",
      "\n",
      "numEvents: 0\n",
      "num_FSPs_toData: 12\n",
      "skipped because empty \n",
      "\n",
      "numEvents: 3\n",
      "num_FSPs_toData: 13\n",
      "skipped because <10 events \n",
      "\n",
      "numEvents: 8\n",
      "num_FSPs_toData: 14\n",
      "skipped because <10 events \n",
      "\n",
      "numEvents: 11\n",
      "num_FSPs_toData: 15\n",
      "leaves.shape: (11, 15, 4)\n",
      "SA_target.shape: (11, 15)\n",
      "global_tag.shape: (11, 16)\n",
      "leaves[0]: [[-2.75482088e-01 -5.19157946e-01  4.72412676e-01  9.01280234e-01]\n",
      " [ 3.29472512e-01  4.04790223e-01 -2.10221931e-01  5.79724429e-01]\n",
      " [-1.05169946e-02  5.96350692e-02  7.14062229e-02  1.68064540e-01]\n",
      " [-1.72787663e-02  2.16576234e-02 -4.80147963e-03  2.81187236e-02]\n",
      " [-6.85140863e-02 -2.33237483e-02 -1.15756376e-03  7.23845095e-02]\n",
      " [ 6.04003528e-03  9.98164713e-03 -2.25332882e-02  2.53744829e-02]\n",
      " [ 8.65890145e-01 -4.58193749e-01 -5.24339557e-01  1.11987460e+00]\n",
      " [ 1.91684633e-01 -5.27542196e-02 -1.03206322e-01  2.24003463e-01]\n",
      " [-1.03996241e+00  1.34095913e-02  1.53371537e+00  1.85611103e+00]\n",
      " [-6.61818776e-03  1.96104217e-02  1.44374371e-03  2.07473720e-02]\n",
      " [-3.96270245e-01  2.89712865e-02  7.35377610e-01  9.70755707e-01]\n",
      " [ 8.06750953e-02 -1.25120655e-01 -6.14115968e-02  1.61043576e-01]\n",
      " [-2.57835716e-01  3.84630263e-01 -9.16071795e-03  4.63145349e-01]\n",
      " [ 1.98297963e-01 -1.95670072e-02 -1.12685613e-01  2.28917009e-01]\n",
      " [ 1.83641374e-01  5.68473339e-02 -1.63112447e-01  5.54326993e-01]]\n",
      "SA_target[0]: [1. 1. 1. 2. 0. 0. 2. 0. 2. 0. 1. 2. 1. 0. 2.]\n",
      "global_tag[0]: [b'321.0_basf2_X' b'-321.0_basf2_Bsig' b'-211.0_basf2_Bsig'\n",
      " b'22.0_basf2_bg' b'nan_basf2_X' b'nan_basf2_bg' b'-211.0_basf2_X'\n",
      " b'nan_basf2_Bsig' b'-13.0_basf2_Bsig' b'nan_basf2_bg' b'211.0_basf2_Bsig'\n",
      " b'22.0_basf2_Bsig' b'130.0_basf2_X' b'nan_basf2_bg' b'211.0_basf2_bg'\n",
      " b'evt28546543']\n",
      "\n",
      "numEvents: 22\n",
      "num_FSPs_toData: 16\n",
      "leaves.shape: (22, 16, 4)\n",
      "SA_target.shape: (22, 16)\n",
      "global_tag.shape: (22, 17)\n",
      "leaves[0]: [[ 1.47410214e-01  7.85841867e-02 -7.01777637e-02  2.28713919e-01]\n",
      " [-2.57944971e-01  5.69578767e-01 -2.52636755e-06  6.40652380e-01]\n",
      " [ 8.04745220e-03  1.22859189e-02 -2.72425730e-02  3.09493631e-02]\n",
      " [-9.71453115e-02  2.13768750e-01  2.62609065e-01  6.06477355e-01]\n",
      " [-3.33419219e-02  8.29254184e-03 -3.63343358e-02  5.00063392e-02]\n",
      " [ 8.07716325e-03  1.18698599e-02 -1.60727147e-02  2.15514802e-02]\n",
      " [ 9.95427254e-04 -1.50099825e-02  1.94387026e-02  2.45795364e-02]\n",
      " [ 7.84911495e-03  2.61322819e-02 -5.46930954e-02  6.11215138e-02]\n",
      " [-1.40322256e+00 -5.49132168e-01  1.72437906e+00  2.29424121e+00]\n",
      " [-2.84830518e-02  1.08176984e-01  1.79090366e-01  2.53114195e-01]\n",
      " [ 4.43437733e-02 -3.18446718e-02  1.14807948e-01  1.88788799e-01]\n",
      " [-2.52480768e-02  1.67315695e-04 -4.88319546e-02  5.49732041e-02]\n",
      " [-1.16327889e-01  1.39869541e-01  1.73501343e-01  5.53999416e-01]\n",
      " [-5.53990006e-01  5.77062964e-01  1.68392038e+00  1.86948505e+00]\n",
      " [ 1.77481007e-02 -2.44394387e-03 -2.59151105e-02  3.15049344e-02]\n",
      " [ 1.18686855e+00 -1.27928567e+00 -8.76136273e-02  1.75044812e+00]]\n",
      "SA_target[0]: [1. 2. 0. 2. 0. 0. 0. 0. 1. 1. 1. 0. 2. 2. 0. 2.]\n",
      "global_tag[0]: [b'-211.0_basf2_Bsig' b'-211.0_basf2_X' b'nan_basf2_bg'\n",
      " b'-211.0_basf2_Bsig' b'nan_basf2_bg' b'nan_basf2_bg' b'nan_basf2_bg'\n",
      " b'nan_basf2_bg' b'-211.0_basf2_X' b'211.0_basf2_Bsig' b'211.0_basf2_Bsig'\n",
      " b'nan_basf2_X' b'211.0_basf2_bg' b'211.0_basf2_Bsig' b'nan_basf2_bg'\n",
      " b'13.0_basf2_Bsig' b'evt4509497']\n",
      "\n",
      "numEvents: 34\n",
      "num_FSPs_toData: 17\n",
      "leaves.shape: (34, 17, 4)\n",
      "SA_target.shape: (34, 17)\n",
      "global_tag.shape: (34, 18)\n",
      "leaves[0]: [[-1.96369514e-01  4.59285736e-01  5.00002354e-02  7.04074831e-01]\n",
      " [-2.06932407e-02 -5.53834140e-02  9.90123302e-02  1.15321179e-01]\n",
      " [ 1.12258062e-01  2.75712192e-01  3.83775443e-01  4.85698132e-01]\n",
      " [-3.85659337e-02 -9.88245159e-02  8.51323828e-02  1.94887227e-01]\n",
      " [ 6.64543435e-02 -9.98886675e-02  2.31130630e-01  5.58150754e-01]\n",
      " [-2.86799669e-01  1.72755629e-01 -8.00556876e-03  3.34906922e-01]\n",
      " [-3.44509512e-01  1.45382024e-02  5.65950796e-02  3.49429773e-01]\n",
      " [ 4.33275141e-02  2.41706315e-02  9.61554497e-02  5.05395226e-01]\n",
      " [ 8.24513674e-01 -2.21759737e-01  1.45061934e+00  1.68324000e+00]\n",
      " [ 6.94020465e-02  4.77165187e-04 -3.09917256e-02  7.60089390e-02]\n",
      " [-9.91414767e-03 -3.34370392e-03 -1.76682714e-02  2.05338378e-02]\n",
      " [-1.28304437e-01  3.44724059e-02  7.50334188e-03  1.33066432e-01]\n",
      " [ 1.98289715e-02  2.15534270e-02 -1.85567066e-02  3.46711650e-02]\n",
      " [-1.19074690e+00  4.07034568e-02  3.13126206e-01  1.32713976e+00]\n",
      " [-3.91068578e-01 -1.35695636e+00  5.96980035e-01  1.53952274e+00]\n",
      " [ 1.21681355e-01  3.62036526e-01  2.73868680e-01  4.69979630e-01]\n",
      " [-1.29520576e-02 -1.32930994e-01  1.82904035e-01  2.26478014e-01]]\n",
      "SA_target[0]: [2. 0. 1. 2. 1. 2. 1. 1. 2. 1. 0. 1. 0. 1. 2. 1. 1.]\n",
      "global_tag[0]: [b'-321.0_basf2_Bsig' b'nan_basf2_bg' b'22.0_basf2_X' b'211.0_basf2_Bsig'\n",
      " b'321.0_basf2_bg' b'-321.0_basf2_bg' b'22.0_basf2_X' b'211.0_basf2_bg'\n",
      " b'11.0_basf2_Bsig' b'22.0_basf2_X' b'nan_basf2_bg' b'22.0_basf2_X'\n",
      " b'nan_basf2_bg' b'-321.0_basf2_bg' b'211.0_basf2_Bsig' b'22.0_basf2_X'\n",
      " b'-13.0_basf2_bg' b'evt17813305']\n",
      "\n",
      "numEvents: 75\n",
      "num_FSPs_toData: 18\n",
      "leaves.shape: (75, 18, 4)\n",
      "SA_target.shape: (75, 18)\n",
      "global_tag.shape: (75, 19)\n",
      "leaves[0]: [[ 1.62514865e-01  1.63289189e-01 -1.27715588e-01  2.98103345e-01]\n",
      " [ 4.09509897e-01  3.56209040e-01 -6.75059795e-01  9.96998462e-01]\n",
      " [-4.25171033e-02 -4.24036123e-02 -8.54614675e-02  1.04448230e-01]\n",
      " [ 8.85893285e-01  1.14479768e+00  5.43432474e-01  1.55247138e+00]\n",
      " [-4.42622788e-02 -1.55194676e+00  1.29362094e+00  2.02363948e+00]\n",
      " [-1.00087589e-02 -4.38315468e-03 -1.84141193e-02  2.14118445e-02]\n",
      " [-1.04386725e-01  7.66675398e-02  4.01844561e-01  4.22200842e-01]\n",
      " [ 3.77102420e-02  1.01800106e-01  7.86203332e-03  1.76994429e-01]\n",
      " [ 4.23879735e-03 -1.27795376e-02  2.27522925e-02  2.64376776e-02]\n",
      " [ 1.67551171e-02  2.12682318e-03 -3.30533609e-02  3.71184858e-02]\n",
      " [ 3.40279192e-02 -1.68298036e-01  1.82268023e-01  5.53552826e-01]\n",
      " [-1.30231857e-01  3.26652616e-01  2.14073315e-01  4.11691210e-01]\n",
      " [-1.89849958e-02 -1.74058929e-01 -3.77010405e-02  1.79104186e-01]\n",
      " [-6.13839030e-02  5.28328754e-02 -6.91066012e-02  1.06466044e-01]\n",
      " [ 1.02158144e-01  7.10663274e-02 -5.96962906e-02  1.96291235e-01]\n",
      " [ 5.04128747e-02  1.76298141e-03  7.04684295e-03  5.09335256e-02]\n",
      " [-7.23919794e-02 -5.35047770e-01  7.40002990e-01  1.04059507e+00]\n",
      " [ 1.68575272e-02 -3.85588892e-02 -4.60419767e-02  6.23765002e-02]]\n",
      "SA_target[0]: [1. 1. 2. 2. 2. 0. 1. 2. 0. 0. 1. 1. 2. 2. 2. 2. 1. 0.]\n",
      "global_tag[0]: [b'-211.0_basf2_Bsig' b'2212.0_basf2_bg' b'22.0_basf2_X'\n",
      " b'321.0_basf2_Bsig' b'-13.0_basf2_Bsig' b'nan_basf2_bg' b'22.0_basf2_X'\n",
      " b'-211.0_basf2_Bsig' b'nan_basf2_bg' b'nan_basf2_bg' b'211.0_basf2_Bsig'\n",
      " b'211.0_basf2_bg' b'22.0_basf2_X' b'22.0_basf2_bg' b'-211.0_basf2_Bsig'\n",
      " b'22.0_basf2_bg' b'-2212.0_basf2_bg' b'nan_basf2_X' b'evt1580857']\n",
      "\n",
      "numEvents: 93\n",
      "num_FSPs_toData: 19\n",
      "leaves.shape: (93, 19, 4)\n",
      "SA_target.shape: (93, 19)\n",
      "global_tag.shape: (93, 20)\n",
      "leaves[0]: [[-0.01897665  0.01584171  0.00591574  0.02541789]\n",
      " [ 0.07932305 -0.07373554  0.03429979  0.1136026 ]\n",
      " [-0.31495467 -0.40401772  0.40009111  0.66481542]\n",
      " [ 0.79595256  0.65328187 -0.24182588  1.16726792]\n",
      " [ 0.02674112  0.04013536  0.08109199  0.0943496 ]\n",
      " [-0.03377406 -0.00982911 -0.05057276  0.06160278]\n",
      " [-0.02291575  0.03844468 -0.0489882   0.06635488]\n",
      " [-0.11186997  0.04778088  0.05358161  0.13292438]\n",
      " [ 0.01223922 -0.00645948 -0.0155798   0.02083875]\n",
      " [-0.01787278 -0.04179342 -0.03531689  0.05756221]\n",
      " [-0.4627673  -0.11601826  0.36223981  0.59902545]\n",
      " [-0.68477005 -0.13273108  0.56872129  1.02649327]\n",
      " [ 0.03855877 -0.22212383 -0.01760751  0.54300347]\n",
      " [ 1.30153346 -0.62096232 -0.05809259  1.44324584]\n",
      " [ 0.86244762 -0.02372273  0.41568235  1.07744487]\n",
      " [-0.04438611 -0.04654514  0.06417103  0.09085427]\n",
      " [ 0.05821702  0.03493514 -0.0037133   0.15525259]\n",
      " [-0.42194095  0.38798526 -0.2231597   0.78872299]\n",
      " [-0.02365241  0.05774239  0.15790261  0.16978473]]\n",
      "SA_target[0]: [0. 2. 2. 2. 2. 0. 2. 2. 0. 0. 2. 2. 2. 1. 2. 2. 1. 1. 0.]\n",
      "global_tag[0]: [b'nan_basf2_bg' b'22.0_basf2_X' b'211.0_basf2_Bsig' b'-211.0_basf2_Bsig'\n",
      " b'22.0_basf2_Bsig' b'nan_basf2_X' b'22.0_basf2_bg' b'22.0_basf2_bg'\n",
      " b'nan_basf2_bg' b'nan_basf2_Bsig' b'211.0_basf2_bg' b'-321.0_basf2_X'\n",
      " b'211.0_basf2_bg' b'11.0_basf2_Bsig' b'2212.0_basf2_bg' b'22.0_basf2_X'\n",
      " b'211.0_basf2_Bsig' b'-321.0_basf2_X' b'nan_basf2_bg' b'evt261650']\n"
     ]
    },
    {
     "name": "stdout",
     "output_type": "stream",
     "text": [
      "\n",
      "numEvents: 126\n",
      "num_FSPs_toData: 20\n",
      "leaves.shape: (126, 20, 4)\n",
      "SA_target.shape: (126, 20)\n",
      "global_tag.shape: (126, 21)\n",
      "leaves[0]: [[-0.96612293 -0.69614768 -0.16445683  1.29952996]\n",
      " [ 0.01267718  0.01218023 -0.01116726  0.0208273 ]\n",
      " [ 0.01362544  0.01584664 -0.03995909  0.04509432]\n",
      " [ 0.16520719 -0.03818807 -0.00603573  0.16967078]\n",
      " [ 0.21983039  0.01895103  0.1739092   0.5680193 ]\n",
      " [-0.17497464 -0.17515962 -0.02761157  0.24911727]\n",
      " [-0.03179014  0.02769185  0.01196861  0.04382578]\n",
      " [ 0.4232778  -0.82459855 -0.32560709  0.982419  ]\n",
      " [ 0.04178032  0.16452479  0.08267161  0.18880836]\n",
      " [-0.00753863 -0.01473701 -0.02140075  0.02705555]\n",
      " [-0.11683015 -0.00678951  0.04869025  0.12675221]\n",
      " [ 0.54257864 -0.47477835  0.05949088  0.73676667]\n",
      " [-0.0307834  -0.30103326  0.62320679  0.70670732]\n",
      " [-0.0945418  -0.0207451   0.06527913  0.18196089]\n",
      " [-0.47885162  0.17540298 -0.93377984  1.0730749 ]\n",
      " [ 0.29388571  0.32861364  0.86159456  1.08647038]\n",
      " [ 0.00964431  0.02382471  0.01688296  0.03075165]\n",
      " [-0.26970002 -0.24309905  0.15578131  0.39509881]\n",
      " [ 0.35831028 -0.11274669  0.83576351  0.92686494]\n",
      " [ 0.24835849  0.60699707  0.32740825  0.73302357]]\n",
      "SA_target[0]: [2. 0. 0. 2. 1. 0. 0. 2. 0. 0. 1. 1. 1. 1. 1. 1. 0. 1. 2. 2.]\n",
      "global_tag[0]: [b'-321.0_basf2_Bsig' b'nan_basf2_bg' b'nan_basf2_bg' b'-11.0_basf2_bg'\n",
      " b'-211.0_basf2_bg' b'nan_basf2_bg' b'nan_basf2_X' b'-321.0_basf2_Bsig'\n",
      " b'nan_basf2_X' b'nan_basf2_bg' b'22.0_basf2_X' b'-211.0_basf2_X'\n",
      " b'-211.0_basf2_X' b'211.0_basf2_Bsig' b'211.0_basf2_bg' b'321.0_basf2_X'\n",
      " b'nan_basf2_bg' b'22.0_basf2_X' b'211.0_basf2_Bsig' b'130.0_basf2_bg'\n",
      " b'evt38087372']\n",
      "\n",
      "numEvents: 203\n",
      "num_FSPs_toData: 21\n",
      "leaves.shape: (203, 21, 4)\n",
      "SA_target.shape: (203, 21)\n",
      "global_tag.shape: (203, 22)\n",
      "leaves[0]: [[ 7.58837850e-04  1.47395162e-02 -2.10158546e-02  2.56806409e-02]\n",
      " [ 4.33397666e-02 -4.26165797e-02  8.92171860e-02  1.07954687e-01]\n",
      " [ 7.83486784e-01 -2.71773478e-03  1.43612230e+00  1.70880752e+00]\n",
      " [-3.34110968e-02 -4.94847726e-03 -4.14717942e-02  5.34854983e-02]\n",
      " [-1.43754380e-02 -1.65973455e-02 -1.92616936e-02  2.92085250e-02]\n",
      " [ 3.44947837e-02 -7.43360445e-02 -6.93986043e-02  1.76101665e-01]\n",
      " [ 4.70962673e-02  2.07873195e-01 -1.42554950e-03  2.13146325e-01]\n",
      " [ 2.43884102e-01  6.60390615e-01  5.06216511e-02  7.05802927e-01]\n",
      " [ 1.00813404e-01  8.33632499e-02  1.56014562e-01  2.46846531e-01]\n",
      " [ 7.06251189e-02 -9.67304967e-03  2.11221222e-02  7.43479613e-02]\n",
      " [-1.16012180e+00 -1.43929112e+00  4.08039689e-01  1.89312920e+00]\n",
      " [-1.55986324e-02  5.36972545e-02  2.36399770e-02  6.07088213e-02]\n",
      " [-3.25978287e-02  1.71900317e-02  3.42795216e-02  5.03309172e-02]\n",
      " [-6.12781718e-02 -3.02344188e-02 -1.34521397e-03  6.83443050e-02]\n",
      " [-3.93987335e-02 -1.25534451e+00  2.67918915e-01  1.28422074e+00]\n",
      " [-5.70817199e-03  1.70421153e-02 -1.82873923e-02  2.56407028e-02]\n",
      " [ 2.98631817e-01 -3.31673026e-01 -2.59205729e-01  7.14207630e-01]\n",
      " [ 9.46507975e-03  2.98237125e-03 -1.83863137e-02  2.08935111e-02]\n",
      " [-9.10709496e-04 -3.11255276e-01  5.01646101e-01  6.06637767e-01]\n",
      " [ 3.25661944e-03 -1.59311835e-02 -2.04556789e-02  2.61312644e-02]\n",
      " [ 7.93312415e-02  6.97233826e-02  2.11864011e-03  1.05637515e-01]]\n",
      "SA_target[0]: [0. 0. 2. 0. 0. 2. 1. 2. 2. 0. 2. 0. 1. 0. 1. 0. 1. 0. 1. 0. 2.]\n",
      "global_tag[0]: [b'nan_basf2_bg' b'nan_basf2_X' b'-321.0_basf2_Bsig' b'nan_basf2_bg'\n",
      " b'nan_basf2_bg' b'211.0_basf2_Bsig' b'22.0_basf2_X' b'22.0_basf2_Bsig'\n",
      " b'211.0_basf2_Bsig' b'nan_basf2_X' b'11.0_basf2_Bsig' b'nan_basf2_Bsig'\n",
      " b'22.0_basf2_X' b'nan_basf2_X' b'-211.0_basf2_X' b'nan_basf2_bg'\n",
      " b'211.0_basf2_bg' b'nan_basf2_bg' b'211.0_basf2_X' b'nan_basf2_bg'\n",
      " b'22.0_basf2_X' b'evt263957']\n",
      "\n",
      "numEvents: 249\n",
      "num_FSPs_toData: 22\n",
      "leaves.shape: (249, 22, 4)\n",
      "SA_target.shape: (249, 22)\n",
      "global_tag.shape: (249, 23)\n",
      "leaves[0]: [[ 0.06541036  0.58364576  0.52291662  0.92848244]\n",
      " [-0.12726244  0.29224464  0.42767817  0.55135394]\n",
      " [ 0.01296383  0.00657545 -0.02116688  0.02567751]\n",
      " [-0.08141706 -0.0025797   0.01966732  0.08379855]\n",
      " [-0.06080883 -0.03876906  0.01648671  0.07397679]\n",
      " [ 0.48097891 -0.66924727  0.08734249  0.96466486]\n",
      " [-0.03560204 -0.07625746  0.06921115  0.17706716]\n",
      " [-0.09354033 -0.19030388  0.00367503  0.21208221]\n",
      " [-0.34445304  0.3987442  -0.2522763   0.76485628]\n",
      " [-0.49604851  0.48131162  0.5312472   1.0018311 ]\n",
      " [ 0.39898983 -0.49574009  0.89211595  1.10467275]\n",
      " [ 0.02418662 -0.01083413 -0.00905248  0.02800568]\n",
      " [ 0.51992112  1.19837511  0.50845027  1.40176418]\n",
      " [-0.01760367  0.01039112 -0.01917924  0.02803048]\n",
      " [-0.06637757  0.05786541  0.08254868  0.12070075]\n",
      " [-0.03037236  0.02018236 -0.04201918  0.05563649]\n",
      " [ 0.21671464 -0.0053421  -0.07152986  0.54390005]\n",
      " [-0.11076139  0.02696295  0.04064536  0.12102534]\n",
      " [-0.29419208  0.13045198 -0.15556073  0.35744347]\n",
      " [ 0.01736541 -0.01062034 -0.0101494   0.02274554]\n",
      " [ 0.01823791  0.00534723 -0.0080915   0.0206564 ]\n",
      " [-0.00992417  0.01279469 -0.01794579  0.02417116]]\n",
      "SA_target[0]: [2. 1. 0. 1. 0. 2. 1. 0. 2. 2. 2. 0. 1. 0. 0. 0. 2. 1. 2. 0. 0. 0.]\n",
      "global_tag[0]: [b'-321.0_basf2_X' b'-211.0_basf2_X' b'nan_basf2_bg' b'22.0_basf2_Bsig'\n",
      " b'nan_basf2_X' b'211.0_basf2_bg' b'211.0_basf2_Bsig' b'nan_basf2_Bsig'\n",
      " b'-321.0_basf2_X' b'13.0_basf2_Bsig' b'321.0_basf2_Bsig' b'nan_basf2_bg'\n",
      " b'-211.0_basf2_Bsig' b'nan_basf2_bg' b'nan_basf2_X' b'nan_basf2_bg'\n",
      " b'211.0_basf2_bg' b'22.0_basf2_X' b'22.0_basf2_bg' b'nan_basf2_bg'\n",
      " b'nan_basf2_bg' b'nan_basf2_bg' b'evt1229493']\n",
      "\n",
      "numEvents: 344\n",
      "num_FSPs_toData: 23\n"
     ]
    },
    {
     "ename": "KeyboardInterrupt",
     "evalue": "",
     "output_type": "error",
     "traceback": [
      "\u001b[0;31m---------------------------------------------------------------------------\u001b[0m",
      "\u001b[0;31mKeyboardInterrupt\u001b[0m                         Traceback (most recent call last)",
      "\u001b[0;32m<ipython-input-77-256b78049c16>\u001b[0m in \u001b[0;36m<module>\u001b[0;34m\u001b[0m\n\u001b[1;32m     56\u001b[0m \u001b[0;34m\u001b[0m\u001b[0m\n\u001b[1;32m     57\u001b[0m             \u001b[0mlabel\u001b[0m \u001b[0;34m=\u001b[0m \u001b[0;34m-\u001b[0m\u001b[0;36m10\u001b[0m \u001b[0;31m# error code if assignment fails\u001b[0m\u001b[0;34m\u001b[0m\u001b[0;34m\u001b[0m\u001b[0m\n\u001b[0;32m---> 58\u001b[0;31m             \u001b[0mB_tag_uniqID\u001b[0m \u001b[0;34m=\u001b[0m \u001b[0mevent_Bs\u001b[0m\u001b[0;34m[\u001b[0m\u001b[0mevent_Bs\u001b[0m\u001b[0;34m.\u001b[0m\u001b[0m__event__\u001b[0m \u001b[0;34m==\u001b[0m \u001b[0mevent_iter\u001b[0m\u001b[0;34m]\u001b[0m\u001b[0;34m.\u001b[0m\u001b[0miloc\u001b[0m\u001b[0;34m[\u001b[0m\u001b[0;36m0\u001b[0m\u001b[0;34m]\u001b[0m\u001b[0;34m[\u001b[0m\u001b[0;34m'B_tag_ID'\u001b[0m\u001b[0;34m]\u001b[0m\u001b[0;34m\u001b[0m\u001b[0;34m\u001b[0m\u001b[0m\n\u001b[0m\u001b[1;32m     59\u001b[0m             \u001b[0mB_sig_uniqID\u001b[0m \u001b[0;34m=\u001b[0m \u001b[0mevent_Bs\u001b[0m\u001b[0;34m[\u001b[0m\u001b[0mevent_Bs\u001b[0m\u001b[0;34m.\u001b[0m\u001b[0m__event__\u001b[0m \u001b[0;34m==\u001b[0m \u001b[0mevent_iter\u001b[0m\u001b[0;34m]\u001b[0m\u001b[0;34m.\u001b[0m\u001b[0miloc\u001b[0m\u001b[0;34m[\u001b[0m\u001b[0;36m0\u001b[0m\u001b[0;34m]\u001b[0m\u001b[0;34m[\u001b[0m\u001b[0;34m'B_sig_ID'\u001b[0m\u001b[0;34m]\u001b[0m\u001b[0;34m\u001b[0m\u001b[0;34m\u001b[0m\u001b[0m\n\u001b[1;32m     60\u001b[0m             \u001b[0;32mif\u001b[0m \u001b[0mparticle\u001b[0m\u001b[0;34m[\u001b[0m\u001b[0;34m\"B_ID\"\u001b[0m\u001b[0;34m]\u001b[0m \u001b[0;34m==\u001b[0m \u001b[0mB_tag_uniqID\u001b[0m\u001b[0;34m:\u001b[0m\u001b[0;34m\u001b[0m\u001b[0;34m\u001b[0m\u001b[0m\n",
      "\u001b[0;32m~/miniconda3/envs/baum/lib/python3.8/site-packages/pandas/core/frame.py\u001b[0m in \u001b[0;36m__getitem__\u001b[0;34m(self, key)\u001b[0m\n\u001b[1;32m   3013\u001b[0m         \u001b[0;31m# Do we have a (boolean) 1d indexer?\u001b[0m\u001b[0;34m\u001b[0m\u001b[0;34m\u001b[0m\u001b[0;34m\u001b[0m\u001b[0m\n\u001b[1;32m   3014\u001b[0m         \u001b[0;32mif\u001b[0m \u001b[0mcom\u001b[0m\u001b[0;34m.\u001b[0m\u001b[0mis_bool_indexer\u001b[0m\u001b[0;34m(\u001b[0m\u001b[0mkey\u001b[0m\u001b[0;34m)\u001b[0m\u001b[0;34m:\u001b[0m\u001b[0;34m\u001b[0m\u001b[0;34m\u001b[0m\u001b[0m\n\u001b[0;32m-> 3015\u001b[0;31m             \u001b[0;32mreturn\u001b[0m \u001b[0mself\u001b[0m\u001b[0;34m.\u001b[0m\u001b[0m_getitem_bool_array\u001b[0m\u001b[0;34m(\u001b[0m\u001b[0mkey\u001b[0m\u001b[0;34m)\u001b[0m\u001b[0;34m\u001b[0m\u001b[0;34m\u001b[0m\u001b[0m\n\u001b[0m\u001b[1;32m   3016\u001b[0m \u001b[0;34m\u001b[0m\u001b[0m\n\u001b[1;32m   3017\u001b[0m         \u001b[0;31m# We are left with two options: a single key, and a collection of keys,\u001b[0m\u001b[0;34m\u001b[0m\u001b[0;34m\u001b[0m\u001b[0;34m\u001b[0m\u001b[0m\n",
      "\u001b[0;32m~/miniconda3/envs/baum/lib/python3.8/site-packages/pandas/core/frame.py\u001b[0m in \u001b[0;36m_getitem_bool_array\u001b[0;34m(self, key)\u001b[0m\n\u001b[1;32m   3068\u001b[0m         \u001b[0mkey\u001b[0m \u001b[0;34m=\u001b[0m \u001b[0mcheck_bool_indexer\u001b[0m\u001b[0;34m(\u001b[0m\u001b[0mself\u001b[0m\u001b[0;34m.\u001b[0m\u001b[0mindex\u001b[0m\u001b[0;34m,\u001b[0m \u001b[0mkey\u001b[0m\u001b[0;34m)\u001b[0m\u001b[0;34m\u001b[0m\u001b[0;34m\u001b[0m\u001b[0m\n\u001b[1;32m   3069\u001b[0m         \u001b[0mindexer\u001b[0m \u001b[0;34m=\u001b[0m \u001b[0mkey\u001b[0m\u001b[0;34m.\u001b[0m\u001b[0mnonzero\u001b[0m\u001b[0;34m(\u001b[0m\u001b[0;34m)\u001b[0m\u001b[0;34m[\u001b[0m\u001b[0;36m0\u001b[0m\u001b[0;34m]\u001b[0m\u001b[0;34m\u001b[0m\u001b[0;34m\u001b[0m\u001b[0m\n\u001b[0;32m-> 3070\u001b[0;31m         \u001b[0;32mreturn\u001b[0m \u001b[0mself\u001b[0m\u001b[0;34m.\u001b[0m\u001b[0m_take_with_is_copy\u001b[0m\u001b[0;34m(\u001b[0m\u001b[0mindexer\u001b[0m\u001b[0;34m,\u001b[0m \u001b[0maxis\u001b[0m\u001b[0;34m=\u001b[0m\u001b[0;36m0\u001b[0m\u001b[0;34m)\u001b[0m\u001b[0;34m\u001b[0m\u001b[0;34m\u001b[0m\u001b[0m\n\u001b[0m\u001b[1;32m   3071\u001b[0m \u001b[0;34m\u001b[0m\u001b[0m\n\u001b[1;32m   3072\u001b[0m     \u001b[0;32mdef\u001b[0m \u001b[0m_getitem_multilevel\u001b[0m\u001b[0;34m(\u001b[0m\u001b[0mself\u001b[0m\u001b[0;34m,\u001b[0m \u001b[0mkey\u001b[0m\u001b[0;34m)\u001b[0m\u001b[0;34m:\u001b[0m\u001b[0;34m\u001b[0m\u001b[0;34m\u001b[0m\u001b[0m\n",
      "\u001b[0;32m~/miniconda3/envs/baum/lib/python3.8/site-packages/pandas/core/generic.py\u001b[0m in \u001b[0;36m_take_with_is_copy\u001b[0;34m(self, indices, axis)\u001b[0m\n\u001b[1;32m   3598\u001b[0m         \u001b[0mSee\u001b[0m \u001b[0mthe\u001b[0m \u001b[0mdocstring\u001b[0m \u001b[0mof\u001b[0m\u001b[0;31m \u001b[0m\u001b[0;31m`\u001b[0m\u001b[0mtake\u001b[0m\u001b[0;31m`\u001b[0m \u001b[0;32mfor\u001b[0m \u001b[0mfull\u001b[0m \u001b[0mexplanation\u001b[0m \u001b[0mof\u001b[0m \u001b[0mthe\u001b[0m \u001b[0mparameters\u001b[0m\u001b[0;34m.\u001b[0m\u001b[0;34m\u001b[0m\u001b[0;34m\u001b[0m\u001b[0m\n\u001b[1;32m   3599\u001b[0m         \"\"\"\n\u001b[0;32m-> 3600\u001b[0;31m         \u001b[0mresult\u001b[0m \u001b[0;34m=\u001b[0m \u001b[0mself\u001b[0m\u001b[0;34m.\u001b[0m\u001b[0mtake\u001b[0m\u001b[0;34m(\u001b[0m\u001b[0mindices\u001b[0m\u001b[0;34m=\u001b[0m\u001b[0mindices\u001b[0m\u001b[0;34m,\u001b[0m \u001b[0maxis\u001b[0m\u001b[0;34m=\u001b[0m\u001b[0maxis\u001b[0m\u001b[0;34m)\u001b[0m\u001b[0;34m\u001b[0m\u001b[0;34m\u001b[0m\u001b[0m\n\u001b[0m\u001b[1;32m   3601\u001b[0m         \u001b[0;31m# Maybe set copy if we didn't actually change the index.\u001b[0m\u001b[0;34m\u001b[0m\u001b[0;34m\u001b[0m\u001b[0;34m\u001b[0m\u001b[0m\n\u001b[1;32m   3602\u001b[0m         \u001b[0;32mif\u001b[0m \u001b[0;32mnot\u001b[0m \u001b[0mresult\u001b[0m\u001b[0;34m.\u001b[0m\u001b[0m_get_axis\u001b[0m\u001b[0;34m(\u001b[0m\u001b[0maxis\u001b[0m\u001b[0;34m)\u001b[0m\u001b[0;34m.\u001b[0m\u001b[0mequals\u001b[0m\u001b[0;34m(\u001b[0m\u001b[0mself\u001b[0m\u001b[0;34m.\u001b[0m\u001b[0m_get_axis\u001b[0m\u001b[0;34m(\u001b[0m\u001b[0maxis\u001b[0m\u001b[0;34m)\u001b[0m\u001b[0;34m)\u001b[0m\u001b[0;34m:\u001b[0m\u001b[0;34m\u001b[0m\u001b[0;34m\u001b[0m\u001b[0m\n",
      "\u001b[0;32m~/miniconda3/envs/baum/lib/python3.8/site-packages/pandas/core/generic.py\u001b[0m in \u001b[0;36mtake\u001b[0;34m(self, indices, axis, is_copy, **kwargs)\u001b[0m\n\u001b[1;32m   3587\u001b[0m             \u001b[0mindices\u001b[0m\u001b[0;34m,\u001b[0m \u001b[0maxis\u001b[0m\u001b[0;34m=\u001b[0m\u001b[0mself\u001b[0m\u001b[0;34m.\u001b[0m\u001b[0m_get_block_manager_axis\u001b[0m\u001b[0;34m(\u001b[0m\u001b[0maxis\u001b[0m\u001b[0;34m)\u001b[0m\u001b[0;34m,\u001b[0m \u001b[0mverify\u001b[0m\u001b[0;34m=\u001b[0m\u001b[0;32mTrue\u001b[0m\u001b[0;34m\u001b[0m\u001b[0;34m\u001b[0m\u001b[0m\n\u001b[1;32m   3588\u001b[0m         )\n\u001b[0;32m-> 3589\u001b[0;31m         \u001b[0;32mreturn\u001b[0m \u001b[0mself\u001b[0m\u001b[0;34m.\u001b[0m\u001b[0m_constructor\u001b[0m\u001b[0;34m(\u001b[0m\u001b[0mnew_data\u001b[0m\u001b[0;34m)\u001b[0m\u001b[0;34m.\u001b[0m\u001b[0m__finalize__\u001b[0m\u001b[0;34m(\u001b[0m\u001b[0mself\u001b[0m\u001b[0;34m,\u001b[0m \u001b[0mmethod\u001b[0m\u001b[0;34m=\u001b[0m\u001b[0;34m\"take\"\u001b[0m\u001b[0;34m)\u001b[0m\u001b[0;34m\u001b[0m\u001b[0;34m\u001b[0m\u001b[0m\n\u001b[0m\u001b[1;32m   3590\u001b[0m \u001b[0;34m\u001b[0m\u001b[0m\n\u001b[1;32m   3591\u001b[0m     \u001b[0;34m@\u001b[0m\u001b[0mfinal\u001b[0m\u001b[0;34m\u001b[0m\u001b[0;34m\u001b[0m\u001b[0m\n",
      "\u001b[0;32m~/miniconda3/envs/baum/lib/python3.8/site-packages/pandas/core/frame.py\u001b[0m in \u001b[0;36m__init__\u001b[0;34m(self, data, index, columns, dtype, copy)\u001b[0m\n\u001b[1;32m    519\u001b[0m             \u001b[0;32mif\u001b[0m \u001b[0mindex\u001b[0m \u001b[0;32mis\u001b[0m \u001b[0;32mNone\u001b[0m \u001b[0;32mand\u001b[0m \u001b[0mcolumns\u001b[0m \u001b[0;32mis\u001b[0m \u001b[0;32mNone\u001b[0m \u001b[0;32mand\u001b[0m \u001b[0mdtype\u001b[0m \u001b[0;32mis\u001b[0m \u001b[0;32mNone\u001b[0m \u001b[0;32mand\u001b[0m \u001b[0mcopy\u001b[0m \u001b[0;32mis\u001b[0m \u001b[0;32mFalse\u001b[0m\u001b[0;34m:\u001b[0m\u001b[0;34m\u001b[0m\u001b[0;34m\u001b[0m\u001b[0m\n\u001b[1;32m    520\u001b[0m                 \u001b[0;31m# GH#33357 fastpath\u001b[0m\u001b[0;34m\u001b[0m\u001b[0;34m\u001b[0m\u001b[0;34m\u001b[0m\u001b[0m\n\u001b[0;32m--> 521\u001b[0;31m                 \u001b[0mNDFrame\u001b[0m\u001b[0;34m.\u001b[0m\u001b[0m__init__\u001b[0m\u001b[0;34m(\u001b[0m\u001b[0mself\u001b[0m\u001b[0;34m,\u001b[0m \u001b[0mdata\u001b[0m\u001b[0;34m)\u001b[0m\u001b[0;34m\u001b[0m\u001b[0;34m\u001b[0m\u001b[0m\n\u001b[0m\u001b[1;32m    522\u001b[0m                 \u001b[0;32mreturn\u001b[0m\u001b[0;34m\u001b[0m\u001b[0;34m\u001b[0m\u001b[0m\n\u001b[1;32m    523\u001b[0m \u001b[0;34m\u001b[0m\u001b[0m\n",
      "\u001b[0;31mKeyboardInterrupt\u001b[0m: "
     ]
    }
   ],
   "source": [
    "for num_FSPs_toData in range(minFSPs, maxFSPs+1):\n",
    "    df_num_subset = df_FSPs_final.copy()\n",
    "    df_num_subset = df_num_subset[df_num_subset['numFSPs'] == num_FSPs_toData]\n",
    "    \n",
    "        \n",
    "    numEvents = df_num_subset.__event__.nunique()\n",
    "    print(\"numEvents:\",numEvents)\n",
    "    print(\"num_FSPs_toData:\",num_FSPs_toData)  \n",
    "    if numEvents == 0:\n",
    "        print(\"skipped because empty \\n\")\n",
    "        continue\n",
    "\n",
    "    if numEvents < 10:\n",
    "        print(\"skipped because <10 events \\n\")\n",
    "        continue\n",
    "    \n",
    "    num_features = 4\n",
    "    leaves = np.zeros((numEvents, num_FSPs_toData,  num_features))  \n",
    "    SA_target =  np.zeros((numEvents, num_FSPs_toData))\n",
    "    global_tag = np.chararray((numEvents, num_FSPs_toData + 1), itemsize=30)\n",
    "    \n",
    "    event_list = df_num_subset[df_num_subset[\"numFSPs\"] == num_FSPs_toData][\"__event__\"].unique()\n",
    "    #print(\"len(event_list):\",len(event_list))\n",
    "    for i in range(numEvents):\n",
    "\n",
    "        event_iter = event_list[i]\n",
    "\n",
    "        global_tag_masterInfo = \"evt\" + str(event_iter)\n",
    "        global_tag[i,-1] = global_tag_masterInfo\n",
    "        #print(\"global_tag[i,-1]:\",global_tag[i,-1])\n",
    "        #print(\"i:\",i,\"event_iter:\",event_iter)\n",
    "\n",
    "        event_df = df_num_subset[df_num_subset.__event__ == event_iter]\n",
    "\n",
    "        for j in range(num_FSPs_toData):\n",
    "            #print(\"numParticle:\",j)\n",
    "            particle = event_df.iloc[j]\n",
    "\n",
    "            #print(particle[\"mcPDG\"],particle[\"px\"],particle[\"py\"],particle[\"pz\"],particle[\"E\"])\n",
    "            leaves[i,j,0] = particle[\"px\"]\n",
    "            leaves[i,j,1] = particle[\"py\"]\n",
    "            leaves[i,j,2] = particle[\"pz\"]\n",
    "            leaves[i,j,3] = particle[\"E\"]\n",
    "            \n",
    "            basf2_usage = \"basf2_NONE\"\n",
    "            if particle[\"basf2_Bsig\"] == 1.0:\n",
    "                basf2_usage = \"basf2_Bsig\"\n",
    "            elif particle[\"basf2_X\"] == 1.0:\n",
    "                basf2_usage = \"basf2_X\"\n",
    "            elif particle[\"basf2_used\"] == 0:\n",
    "                basf2_usage = \"basf2_bg\"\n",
    "\n",
    "            global_tag_Info = str((particle[\"mcPDG\"])) \n",
    "            global_tag_Info += \"_\" + basf2_usage\n",
    "            global_tag[i,j] = global_tag_Info\n",
    "\n",
    "            label = -10 # error code if assignment fails\n",
    "            B_tag_uniqID = event_Bs[event_Bs.__event__ == event_iter].iloc[0]['B_tag_ID']\n",
    "            B_sig_uniqID = event_Bs[event_Bs.__event__ == event_iter].iloc[0]['B_sig_ID']\n",
    "            if particle[\"B_ID\"] == B_tag_uniqID:\n",
    "                label = 1 # particle belongs to X (MC truth)\n",
    "            elif particle[\"B_ID\"] == B_sig_uniqID:\n",
    "                label = 2 # particle belongs to Bsig (MC truth)\n",
    "            elif particle[\"B_ID\"] == 0:\n",
    "                label = 0 # background\n",
    "            \n",
    "            \n",
    "            SA_target[i,j] = label\n",
    "            \n",
    "        del event_df\n",
    "        \n",
    "        \n",
    "    # shuffle the data    \n",
    "    for idx in np.arange(leaves.shape[0]):   # arange is like range but gives ndarray instead of list\n",
    "        perms = np.random.permutation(leaves.shape[1])\n",
    "\n",
    "        leaves[idx,:] = leaves[idx,perms]\n",
    "        SA_target[idx,:] = SA_target[idx,perms]\n",
    "        global_tag[idx,0:-1] = global_tag[idx,perms]\n",
    "        \n",
    "        \n",
    "         \n",
    "\n",
    "\n",
    "    #print(global_tag)\n",
    "    train_ratio = 0.75\n",
    "    validation_ratio = 0.15\n",
    "    test_ratio = 0.10\n",
    "\n",
    "    print(\"leaves.shape:\",leaves.shape)\n",
    "    print(\"SA_target.shape:\",SA_target.shape)\n",
    "    print(\"global_tag.shape:\",global_tag.shape)\n",
    "\n",
    "\n",
    "    print(\"leaves[0]:\",leaves[0])\n",
    "    print(\"SA_target[0]:\",SA_target[0])\n",
    "    print(\"global_tag[0]:\",global_tag[0])\n",
    "\n",
    "    x=leaves\n",
    "    y=SA_target\n",
    "    z=global_tag\n",
    "\n",
    "    x_train, x_test, y_train, y_test, z_train, z_test = train_test_split(x, y, z, test_size=1 - train_ratio, shuffle=False)\n",
    "    x_val, x_test, y_val, y_test, z_val, z_test = train_test_split(x_test, y_test, z_test, test_size=test_ratio/(test_ratio + validation_ratio), shuffle=False) \n",
    "\n",
    "    if save_data==True:\n",
    "        np.save(data_dir / \"leaves_train_FSP{}.npy\".format(num_FSPs_toData), x_train)\n",
    "        np.save(data_dir / \"is_left_arr_train_FSP{}.npy\".format(num_FSPs_toData), y_train)\n",
    "        np.save(data_dir / \"global_tag_train_FSP{}.npy\".format(num_FSPs_toData), z_train)\n",
    "\n",
    "        np.save(data_dir / \"leaves_val_FSP{}.npy\".format(num_FSPs_toData), x_val)\n",
    "        np.save(data_dir / \"is_left_arr_val_FSP{}.npy\".format(num_FSPs_toData), y_val)\n",
    "        np.save(data_dir / \"global_tag_val_FSP{}.npy\".format(num_FSPs_toData), z_val)\n",
    "\n",
    "        np.save(data_dir / \"leaves_test_FSP{}.npy\".format(num_FSPs_toData), x_test)\n",
    "        np.save(data_dir / \"is_left_arr_test_FSP{}.npy\".format(num_FSPs_toData), y_test)\n",
    "        np.save(data_dir / \"global_tag_test_FSP{}.npy\".format(num_FSPs_toData), z_test)\n",
    "\n",
    "    \n",
    "    print(\"\")\n",
    "    #del df_num_subset\n",
    "\n",
    "\n",
    "    del df_num_subset\n",
    "                                          "
   ]
  },
  {
   "cell_type": "code",
   "execution_count": 100,
   "metadata": {},
   "outputs": [
    {
     "name": "stdout",
     "output_type": "stream",
     "text": [
      "saving is done\n",
      "time at end = 2021-09-20 15:13:30.136619\n"
     ]
    }
   ],
   "source": [
    "print(\"saving is done\")\n",
    "now = datetime.now()\n",
    "print(\"time at end =\", now)"
   ]
  },
  {
   "cell_type": "code",
   "execution_count": null,
   "metadata": {},
   "outputs": [],
   "source": []
  }
 ],
 "metadata": {
  "kernelspec": {
   "display_name": "Python 3",
   "language": "python",
   "name": "python3"
  },
  "language_info": {
   "codemirror_mode": {
    "name": "ipython",
    "version": 3
   },
   "file_extension": ".py",
   "mimetype": "text/x-python",
   "name": "python",
   "nbconvert_exporter": "python",
   "pygments_lexer": "ipython3",
   "version": "3.8.6"
  }
 },
 "nbformat": 4,
 "nbformat_minor": 4
}
