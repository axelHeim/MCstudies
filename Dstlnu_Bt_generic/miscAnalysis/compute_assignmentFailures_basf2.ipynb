{
 "cells": [
  {
   "cell_type": "code",
   "execution_count": 1,
   "id": "2aafdb93",
   "metadata": {},
   "outputs": [],
   "source": [
    "import matplotlib.pyplot as plt\n",
    "import uproot\n",
    "import numpy as np\n",
    "import pandas as pd\n",
    "\n",
    "from pathlib import Path\n",
    "from sklearn.model_selection import train_test_split\n",
    "\n",
    "from datetime import datetime\n",
    "import sys\n",
    "sys.path.insert(1, '/afs/desy.de/user/a/axelheim/private/MC_studies/Dstlnu_Bt_generic/util_funcs/')\n",
    "from pandas_colFuncs import isBtoDstlnu, whichBisSig, customMCmatching, B_ID, whichBisSig_NAHS, D0_decay_type"
   ]
  },
  {
   "cell_type": "code",
   "execution_count": 2,
   "id": "a577745c",
   "metadata": {},
   "outputs": [],
   "source": [
    "root_path = \"/nfs/dust/belle2/user/axelheim/MC_studies/Dstlnu_Bt_generic/BASF2_performance_GiannasScript/GiannasScript_wNNcuts_D0fixed/\""
   ]
  },
  {
   "cell_type": "markdown",
   "id": "74494460",
   "metadata": {},
   "source": [
    "## load root files"
   ]
  },
  {
   "cell_type": "code",
   "execution_count": 3,
   "id": "544d6478",
   "metadata": {},
   "outputs": [],
   "source": [
    "fileY4S = uproot.open(root_path + \"DXtagDstl.root:variables\")\n",
    "df_Y4S = fileY4S.arrays(library=\"pd\")"
   ]
  },
  {
   "cell_type": "code",
   "execution_count": 4,
   "id": "0313f7b5",
   "metadata": {},
   "outputs": [
    {
     "name": "stdout",
     "output_type": "stream",
     "text": [
      "/nfs/dust/belle2/user/axelheim/MC_studies/Dstlnu_Bt_generic/BASF2_performance_GiannasScript/GiannasScript_wNNcuts_D0fixed/gammas.root:variables\n",
      "/nfs/dust/belle2/user/axelheim/MC_studies/Dstlnu_Bt_generic/BASF2_performance_GiannasScript/GiannasScript_wNNcuts_D0fixed/electrons.root:variables\n",
      "/nfs/dust/belle2/user/axelheim/MC_studies/Dstlnu_Bt_generic/BASF2_performance_GiannasScript/GiannasScript_wNNcuts_D0fixed/pions.root:variables\n",
      "/nfs/dust/belle2/user/axelheim/MC_studies/Dstlnu_Bt_generic/BASF2_performance_GiannasScript/GiannasScript_wNNcuts_D0fixed/kaons.root:variables\n",
      "/nfs/dust/belle2/user/axelheim/MC_studies/Dstlnu_Bt_generic/BASF2_performance_GiannasScript/GiannasScript_wNNcuts_D0fixed/muons.root:variables\n"
     ]
    }
   ],
   "source": [
    "names = [\"gammas\",\"electrons\",\"pions\",\"kaons\",\"muons\"]\n",
    "dfs = []\n",
    "for name in names:\n",
    "    filename = root_path + \"{}.root:variables\".format(name)\n",
    "    print(filename)\n",
    "    tmpFileFSPs = uproot.open(filename)\n",
    "    df_tmp = tmpFileFSPs.arrays(library=\"pd\")\n",
    "    dfs.append(df_tmp)\n",
    "df_FSPs = pd.concat(dfs)"
   ]
  },
  {
   "cell_type": "code",
   "execution_count": 5,
   "id": "dbec6dbb",
   "metadata": {},
   "outputs": [
    {
     "name": "stdout",
     "output_type": "stream",
     "text": [
      "94683\n",
      "4777\n"
     ]
    }
   ],
   "source": [
    "print(df_FSPs.shape[0])\n",
    "print(df_Y4S.shape[0])"
   ]
  },
  {
   "cell_type": "code",
   "execution_count": 6,
   "id": "dd305889",
   "metadata": {},
   "outputs": [],
   "source": [
    "df_Y4S = df_Y4S[(df_Y4S['Hc_isSignalAcceptMissingGamma'] == 1.0)]\n",
    "df_FSPs = df_FSPs[df_FSPs['__event__'].isin(df_Y4S[\"__event__\"])]"
   ]
  },
  {
   "cell_type": "code",
   "execution_count": 7,
   "id": "b964b7ea",
   "metadata": {},
   "outputs": [
    {
     "name": "stdout",
     "output_type": "stream",
     "text": [
      "94683\n",
      "4777\n"
     ]
    }
   ],
   "source": [
    "print(df_FSPs.shape[0])\n",
    "print(df_Y4S.shape[0])"
   ]
  },
  {
   "cell_type": "markdown",
   "id": "ae5ac28e",
   "metadata": {},
   "source": [
    "## filter for the wanted D0 modes"
   ]
  },
  {
   "cell_type": "code",
   "execution_count": 8,
   "id": "d0f7c867",
   "metadata": {},
   "outputs": [],
   "source": [
    "df_Y4S['Bsig_uniqParID'] = df_Y4S.apply(whichBisSig_NAHS, axis=1)"
   ]
  },
  {
   "cell_type": "code",
   "execution_count": 9,
   "id": "227c491a",
   "metadata": {},
   "outputs": [],
   "source": [
    "df_Y4S['D0_decay'] = df_Y4S.apply(D0_decay_type, axis=1)\n",
    "df_Y4S = df_Y4S[df_Y4S['D0_decay'] != \"notWanted\"]"
   ]
  },
  {
   "cell_type": "code",
   "execution_count": 10,
   "id": "b4411e6d",
   "metadata": {},
   "outputs": [],
   "source": [
    "df_Y4S = df_Y4S[((df_Y4S[\"Bsig_uniqParID\"] == 83886081.0)  &\n",
    "            (df_Y4S[\"genUp4S_PDG_0_0_0\"].abs() == 421.0)  & # 421=D0\n",
    "            (df_Y4S[\"genUp4S_PDG_0_0_1\"].abs() == 211.0)  & # 211=pion\n",
    "            (df_Y4S[\"genUp4S_PDG_0_0_2\"].isna() == True)   # no particle \n",
    "              |\n",
    "        ((df_Y4S[\"Bsig_uniqParID\"] == 83886082.0)  &\n",
    "            (df_Y4S[\"genUp4S_PDG_1_0_0\"].abs() == 421.0)  & # 421=D0\n",
    "            (df_Y4S[\"genUp4S_PDG_1_0_1\"].abs() == 211.0)  & # 211=pion\n",
    "            (df_Y4S[\"genUp4S_PDG_1_0_2\"].isna() == True)))] # no particle "
   ]
  },
  {
   "cell_type": "code",
   "execution_count": 11,
   "id": "749ab41a",
   "metadata": {},
   "outputs": [
    {
     "name": "stdout",
     "output_type": "stream",
     "text": [
      "58944\n",
      "3073\n"
     ]
    }
   ],
   "source": [
    "df_FSPs = df_FSPs[df_FSPs['__event__'].isin(df_Y4S[\"__event__\"])]\n",
    "print(df_FSPs.shape[0])\n",
    "print(df_Y4S.shape[0])"
   ]
  },
  {
   "cell_type": "markdown",
   "id": "17fb35b9",
   "metadata": {},
   "source": [
    "## delete evts where Bsig and Hc mother are the same"
   ]
  },
  {
   "cell_type": "code",
   "execution_count": 12,
   "id": "e45f7b39",
   "metadata": {
    "scrolled": true
   },
   "outputs": [],
   "source": [
    "df_Y4S = df_Y4S[(df_Y4S[\"Hc_motherUniqParID\"]==83886082.0) | (df_Y4S[\"Hc_motherUniqParID\"]==83886081.0)]"
   ]
  },
  {
   "cell_type": "code",
   "execution_count": 13,
   "id": "25d7edd0",
   "metadata": {},
   "outputs": [],
   "source": [
    "df_Y4S = df_Y4S[df_Y4S[\"Bsig_uniqParID\"] != df_Y4S[\"Hc_motherUniqParID\"]]"
   ]
  },
  {
   "cell_type": "code",
   "execution_count": 14,
   "id": "187a2653",
   "metadata": {},
   "outputs": [
    {
     "name": "stdout",
     "output_type": "stream",
     "text": [
      "33896\n",
      "1776\n"
     ]
    }
   ],
   "source": [
    "df_FSPs = df_FSPs[df_FSPs['__event__'].isin(df_Y4S[\"__event__\"])]\n",
    "print(df_FSPs.shape[0])\n",
    "print(df_Y4S.shape[0])"
   ]
  },
  {
   "cell_type": "markdown",
   "id": "f99847ae",
   "metadata": {},
   "source": [
    "## take care of duplis in particle lists"
   ]
  },
  {
   "cell_type": "code",
   "execution_count": 15,
   "id": "5bb0b71d",
   "metadata": {},
   "outputs": [
    {
     "data": {
      "text/plain": [
       "count\n",
       "1    33896\n",
       "dtype: int64"
      ]
     },
     "execution_count": 15,
     "metadata": {},
     "output_type": "execute_result"
    }
   ],
   "source": [
    "groupsFSPs_uniqParID = pd.DataFrame({'count' : df_FSPs.groupby( [\"__event__\",\"uniqueParticleIdentifier\"] ).size()}).reset_index()\n",
    "groupsFSPs_uniqParID.value_counts('count')"
   ]
  },
  {
   "cell_type": "code",
   "execution_count": 16,
   "id": "5b173c2d",
   "metadata": {},
   "outputs": [
    {
     "name": "stdout",
     "output_type": "stream",
     "text": [
      "df_FSPs[basf2_used].value_counts(): 1.0    28692\n",
      "0.0     5204\n",
      "Name: basf2_used, dtype: int64\n",
      "df_FSPs[basf2_used].value_counts(): 1.0    28692\n",
      "0.0     5204\n",
      "Name: basf2_used, dtype: int64\n"
     ]
    }
   ],
   "source": [
    "# delete particles which occur more than ones (keep first) and if possible keep the one with basf2_used==1\n",
    "print(\"df_FSPs[basf2_used].value_counts():\",df_FSPs[\"basf2_used\"].value_counts())\n",
    "df_FSPs = df_FSPs.sort_values(\"basf2_used\",ascending=False).drop_duplicates(subset=(\"__event__\",\"uniqueParticleIdentifier\"), keep='first')\n",
    "print(\"df_FSPs[basf2_used].value_counts():\",df_FSPs[\"basf2_used\"].value_counts())"
   ]
  },
  {
   "cell_type": "code",
   "execution_count": 17,
   "id": "9cab2e51",
   "metadata": {},
   "outputs": [
    {
     "data": {
      "text/plain": [
       "count\n",
       "1    33896\n",
       "dtype: int64"
      ]
     },
     "execution_count": 17,
     "metadata": {},
     "output_type": "execute_result"
    }
   ],
   "source": [
    "groupsFSPs_uniqParID = pd.DataFrame({'count' : df_FSPs.groupby( [\"__event__\",\"uniqueParticleIdentifier\"] ).size()}).reset_index()\n",
    "groupsFSPs_uniqParID.value_counts('count')"
   ]
  },
  {
   "cell_type": "markdown",
   "id": "e7a5f21e",
   "metadata": {},
   "source": [
    "## delete Hc particles"
   ]
  },
  {
   "cell_type": "code",
   "execution_count": 18,
   "id": "1b6753ad",
   "metadata": {},
   "outputs": [],
   "source": [
    "df_FSPs = df_FSPs[~((df_FSPs[\"basf2_used\"]== 1) & (df_FSPs[\"basf2_Bsig\"]== 0) & (df_FSPs[\"basf2_X\"]== 0))]"
   ]
  },
  {
   "cell_type": "code",
   "execution_count": null,
   "id": "7fbf2955",
   "metadata": {},
   "outputs": [],
   "source": []
  },
  {
   "cell_type": "code",
   "execution_count": null,
   "id": "9410ee74",
   "metadata": {},
   "outputs": [],
   "source": []
  },
  {
   "cell_type": "code",
   "execution_count": 19,
   "id": "f8d0ebab",
   "metadata": {},
   "outputs": [],
   "source": [
    "numFSPs = pd.DataFrame({'numFSPs' : df_FSPs.groupby([\"__event__\"]).size()}).reset_index()"
   ]
  },
  {
   "cell_type": "code",
   "execution_count": 20,
   "id": "1005a4a0",
   "metadata": {},
   "outputs": [
    {
     "data": {
      "text/plain": [
       "count    1776.000000\n",
       "mean       16.188626\n",
       "std         4.120974\n",
       "min         5.000000\n",
       "25%        13.000000\n",
       "50%        16.000000\n",
       "75%        19.000000\n",
       "max        32.000000\n",
       "Name: numFSPs, dtype: float64"
      ]
     },
     "execution_count": 20,
     "metadata": {},
     "output_type": "execute_result"
    }
   ],
   "source": [
    "numFSPs[\"numFSPs\"].describe()"
   ]
  },
  {
   "cell_type": "markdown",
   "id": "16b766f1",
   "metadata": {},
   "source": [
    "## add the basf2 label"
   ]
  },
  {
   "cell_type": "code",
   "execution_count": 21,
   "id": "c1fd3ac3",
   "metadata": {},
   "outputs": [],
   "source": [
    "def basf2_label(s):\n",
    "    label = 0\n",
    " \n",
    "    if s[\"basf2_X\"] == 1.0:\n",
    "        label = 1 # particle belongs to X \n",
    "    elif s[\"basf2_Bsig\"] == 1.0:\n",
    "        label = 2 # particle belongs to Bsig \n",
    "    elif s[\"basf2_used\"] == 0.0:\n",
    "        label = 0 # background  \n",
    "        \n",
    "    return label"
   ]
  },
  {
   "cell_type": "code",
   "execution_count": 22,
   "id": "c336aeee",
   "metadata": {},
   "outputs": [],
   "source": [
    "df_FSPs['basf2_label'] = df_FSPs.apply(basf2_label, axis=1)"
   ]
  },
  {
   "cell_type": "code",
   "execution_count": 23,
   "id": "b2f049e8",
   "metadata": {},
   "outputs": [],
   "source": [
    "def labels(s):\n",
    "    label = -1\n",
    "    if int(s['B_ID']) == 0:\n",
    "        label = 0 # background, cause not related to MC Particles\n",
    "    else: \n",
    "        event_num = (s['__event__'])\n",
    "        B_sigID = df_Y4S[df_Y4S['__event__'] == event_num].iloc[0]['Bsig_uniqParID']\n",
    "        \n",
    "        if int(s['B_ID']) == B_sigID:\n",
    "            label = 2 # Bsig\n",
    "        else:\n",
    "            label = 1 #X\n",
    "    return label"
   ]
  },
  {
   "cell_type": "code",
   "execution_count": 24,
   "id": "610ee28c",
   "metadata": {},
   "outputs": [],
   "source": [
    "df_FSPs['B_ID'] = df_FSPs.apply(B_ID, axis=1)"
   ]
  },
  {
   "cell_type": "code",
   "execution_count": 25,
   "id": "2fbd04ca",
   "metadata": {},
   "outputs": [],
   "source": [
    "df_FSPs['label'] = df_FSPs.apply(labels, axis=1)"
   ]
  },
  {
   "cell_type": "code",
   "execution_count": 26,
   "id": "60d23388",
   "metadata": {},
   "outputs": [],
   "source": [
    "df_FSPs['basf2_correct'] = (df_FSPs['basf2_label'] == df_FSPs['label'])"
   ]
  },
  {
   "cell_type": "code",
   "execution_count": 27,
   "id": "782bb37d",
   "metadata": {},
   "outputs": [
    {
     "data": {
      "text/plain": [
       "count     28751\n",
       "unique        2\n",
       "top        True\n",
       "freq      20631\n",
       "Name: basf2_correct, dtype: object"
      ]
     },
     "execution_count": 27,
     "metadata": {},
     "output_type": "execute_result"
    }
   ],
   "source": [
    "df_FSPs['basf2_correct'].describe()"
   ]
  },
  {
   "cell_type": "markdown",
   "id": "c58e8bd1",
   "metadata": {},
   "source": [
    "## delete top num particle evts"
   ]
  },
  {
   "cell_type": "code",
   "execution_count": 28,
   "id": "9fb2f09f",
   "metadata": {},
   "outputs": [],
   "source": [
    "numberFSPsEvts = pd.DataFrame({'count' : df_FSPs.groupby([\"__event__\"]).size()}).reset_index()\n",
    "numEvtsBeforeCut = df_Y4S.shape[0]"
   ]
  },
  {
   "cell_type": "code",
   "execution_count": 29,
   "id": "61438f87",
   "metadata": {},
   "outputs": [
    {
     "name": "stdout",
     "output_type": "stream",
     "text": [
      "original max FSPs: 32\n",
      "0.995\n",
      "would delete 0.79 % of evts\n",
      "new max FSPs: 26\n",
      "0.996\n",
      "would delete 0.79 % of evts\n",
      "new max FSPs: 26\n",
      "0.997\n",
      "would delete 0.79 % of evts\n",
      "new max FSPs: 26\n",
      "0.998\n",
      "would delete 0.28 % of evts\n",
      "new max FSPs: 27\n",
      "0.999\n",
      "would delete 0.11 % of evts\n",
      "new max FSPs: 30\n"
     ]
    }
   ],
   "source": [
    "# print first to adjust percentile used\n",
    "print(\"original max FSPs:\",numberFSPsEvts[\"count\"].max())\n",
    "for percentile_lvl in [0.995,0.996,0.997,0.998,0.999]:\n",
    "    print(percentile_lvl)\n",
    "    percentile = numberFSPsEvts[\"count\"].quantile(q=percentile_lvl)\n",
    "    cut_numberFSPsEvts = numberFSPsEvts[numberFSPsEvts[\"count\"] < percentile]\n",
    "    \n",
    "    #TMP_df_FSPs = df_FSPs[df_FSPs['__event__'].isin(cut_numberFSPsEvts[\"__event__\"])]\n",
    "    TMP_df_Hc = df_Y4S[df_Y4S['__event__'].isin(cut_numberFSPsEvts[\"__event__\"])]\n",
    "    \n",
    "    print(\"would delete\", round(100 - (TMP_df_Hc.shape[0]/df_Y4S.shape[0])*100,2),\"% of evts\")\n",
    "    print(\"new max FSPs:\",cut_numberFSPsEvts[\"count\"].max())"
   ]
  },
  {
   "cell_type": "code",
   "execution_count": 31,
   "id": "dec9ed88",
   "metadata": {},
   "outputs": [],
   "source": [
    "delete_top_numFSP_evts = True"
   ]
  },
  {
   "cell_type": "code",
   "execution_count": 32,
   "id": "eed1519d",
   "metadata": {},
   "outputs": [
    {
     "name": "stdout",
     "output_type": "stream",
     "text": [
      "28751\n",
      "1776\n",
      "used delete_percentileLvl: 0.997\n",
      "count    1776.000000\n",
      "mean       16.188626\n",
      "std         4.120974\n",
      "min         5.000000\n",
      "25%        13.000000\n",
      "50%        16.000000\n",
      "75%        19.000000\n",
      "max        32.000000\n",
      "Name: count, dtype: float64\n",
      "28359\n",
      "1762\n",
      "deleted 0.7883 % of events\n",
      "count    1762.000000\n",
      "mean       16.094779\n",
      "std         3.997243\n",
      "min         5.000000\n",
      "25%        13.000000\n",
      "50%        16.000000\n",
      "75%        19.000000\n",
      "max        26.000000\n",
      "Name: count, dtype: float64\n"
     ]
    }
   ],
   "source": [
    "print(df_FSPs.shape[0])\n",
    "print(df_Y4S.shape[0])\n",
    "\n",
    "\n",
    "if delete_top_numFSP_evts:\n",
    "    delete_percentileLvl = 0.997\n",
    "    print(\"used delete_percentileLvl:\",delete_percentileLvl)\n",
    "    \n",
    "    \n",
    "    print(numberFSPsEvts[\"count\"].describe())\n",
    "    \n",
    "    percentile = numberFSPsEvts[\"count\"].quantile(q=delete_percentileLvl)\n",
    "    cut_numberFSPsEvts = numberFSPsEvts[numberFSPsEvts[\"count\"] < percentile]\n",
    "    \n",
    "    df_FSPs = df_FSPs[df_FSPs['__event__'].isin(cut_numberFSPsEvts[\"__event__\"])]\n",
    "    df_Y4S = df_Y4S[df_Y4S['__event__'].isin(cut_numberFSPsEvts[\"__event__\"])]\n",
    "    \n",
    "print(df_FSPs.shape[0])\n",
    "print(df_Y4S.shape[0])\n",
    "print(\"deleted\", round(100 - (df_Y4S.shape[0]/numEvtsBeforeCut)*100,4),\"% of events\")\n",
    "numberFSPsEvts = pd.DataFrame({'count' : df_FSPs.groupby([\"__event__\"]).size()}).reset_index()\n",
    "print(numberFSPsEvts[\"count\"].describe())"
   ]
  },
  {
   "cell_type": "markdown",
   "id": "3abba04b",
   "metadata": {},
   "source": [
    "## save df's"
   ]
  },
  {
   "cell_type": "code",
   "execution_count": 33,
   "id": "b148749f",
   "metadata": {},
   "outputs": [],
   "source": [
    "df_FSPs.to_csv(root_path + \"FSPs_preProcessed_basf2Perf.csv\")\n",
    "df_Y4S.to_csv(root_path + \"Y4S_preProcessed_basf2Perf.csv\")"
   ]
  },
  {
   "cell_type": "markdown",
   "id": "7c6786c8",
   "metadata": {},
   "source": [
    "## load df's"
   ]
  },
  {
   "cell_type": "code",
   "execution_count": 3,
   "id": "423bc010",
   "metadata": {},
   "outputs": [],
   "source": [
    "df_FSPs = pd.read_csv(root_path + \"FSPs_preProcessed_basf2Perf.csv\")\n",
    "df_Y4S = pd.read_csv(root_path + \"Y4S_preProcessed_basf2Perf.csv\")"
   ]
  },
  {
   "cell_type": "code",
   "execution_count": 5,
   "id": "022b7730",
   "metadata": {},
   "outputs": [
    {
     "data": {
      "text/plain": [
       "Kpipi0        924\n",
       "Kpi           445\n",
       "Kpipipi       270\n",
       "Kpipipipi0    123\n",
       "Name: D0_decay, dtype: int64"
      ]
     },
     "execution_count": 5,
     "metadata": {},
     "output_type": "execute_result"
    }
   ],
   "source": [
    "df_Y4S[\"D0_decay\"].value_counts()"
   ]
  },
  {
   "cell_type": "markdown",
   "id": "54852837",
   "metadata": {},
   "source": [
    "## plot num particles"
   ]
  },
  {
   "cell_type": "code",
   "execution_count": 4,
   "id": "fcdc1069",
   "metadata": {},
   "outputs": [
    {
     "data": {
      "image/png": "[encoded data removed]",
      "text/plain": [
       "<Figure size 576x360 with 1 Axes>"
      ]
     },
     "metadata": {
      "needs_background": "light"
     },
     "output_type": "display_data"
    }
   ],
   "source": [
    "bins = np.linspace(0, 30, 30)\n",
    "neutrals = df_FSPs[df_FSPs[\"PDG\"] == 22.]\n",
    "charged = df_FSPs[df_FSPs[\"PDG\"] != 22.]\n",
    "\n",
    "numFSPs_all = pd.DataFrame({'count' : df_FSPs.groupby( [\"__event__\"] ).size()}).reset_index()\n",
    "numFSPs_charged = pd.DataFrame({'count' : charged.groupby( [\"__event__\"] ).size()}).reset_index()\n",
    "numFSPs_neutral = pd.DataFrame({'count' : neutrals.groupby( [\"__event__\"] ).size()}).reset_index()\n",
    "\n",
    "\n",
    "fig, ax = plt.subplots()\n",
    "fig.suptitle(r'Number of FSPs per event')\n",
    "fig.set_size_inches(8, 5)\n",
    "\n",
    "ax.set_xlabel(r'number of FSPs per event')\n",
    "ax.set_ylabel(\"fraction of events\")\n",
    "\n",
    "ax.hist(numFSPs_all[\"count\"],bins=bins,density=True, alpha=0.5, label=(r'total'),histtype='step')\n",
    "ax.hist(numFSPs_neutral[\"count\"],bins=bins,density=True, alpha=0.5, label=(r'neutrals'),histtype='step')\n",
    "ax.hist(numFSPs_charged[\"count\"],bins=bins,density=True, alpha=0.5, label=(r'charged'),histtype='step')\n",
    "\n",
    "ax.legend(loc='upper right')\n",
    "\n",
    "\n",
    "plt.savefig('numFSPs_Gmodes_basf2Performance_D0fixed.pdf')"
   ]
  },
  {
   "cell_type": "code",
   "execution_count": 40,
   "id": "b49847cf",
   "metadata": {},
   "outputs": [
    {
     "data": {
      "text/plain": [
       "count    1762.000000\n",
       "mean       16.094779\n",
       "std         3.997243\n",
       "min         5.000000\n",
       "25%        13.000000\n",
       "50%        16.000000\n",
       "75%        19.000000\n",
       "max        26.000000\n",
       "Name: count, dtype: float64"
      ]
     },
     "execution_count": 40,
     "metadata": {},
     "output_type": "execute_result"
    }
   ],
   "source": [
    "numFSPs_all = pd.DataFrame({'count' : df_FSPs.groupby( [\"__event__\"] ).size()}).reset_index()\n",
    "numFSPs_all[\"count\"].describe()"
   ]
  },
  {
   "cell_type": "code",
   "execution_count": null,
   "id": "c555b192",
   "metadata": {},
   "outputs": [],
   "source": []
  },
  {
   "cell_type": "markdown",
   "id": "1d9226b2",
   "metadata": {},
   "source": [
    "## check the assignment accuracy of basf2"
   ]
  },
  {
   "cell_type": "code",
   "execution_count": 35,
   "id": "ecc60890",
   "metadata": {},
   "outputs": [
    {
     "data": {
      "text/html": [
       "<div>\n",
       "<style scoped>\n",
       "    .dataframe tbody tr th:only-of-type {\n",
       "        vertical-align: middle;\n",
       "    }\n",
       "\n",
       "    .dataframe tbody tr th {\n",
       "        vertical-align: top;\n",
       "    }\n",
       "\n",
       "    .dataframe thead th {\n",
       "        text-align: right;\n",
       "    }\n",
       "</style>\n",
       "<table border=\"1\" class=\"dataframe\">\n",
       "  <thead>\n",
       "    <tr style=\"text-align: right;\">\n",
       "      <th></th>\n",
       "      <th>label</th>\n",
       "      <th>basf2_label</th>\n",
       "      <th>count</th>\n",
       "    </tr>\n",
       "  </thead>\n",
       "  <tbody>\n",
       "    <tr>\n",
       "      <th>0</th>\n",
       "      <td>0</td>\n",
       "      <td>0</td>\n",
       "      <td>1893</td>\n",
       "    </tr>\n",
       "    <tr>\n",
       "      <th>1</th>\n",
       "      <td>0</td>\n",
       "      <td>1</td>\n",
       "      <td>2061</td>\n",
       "    </tr>\n",
       "    <tr>\n",
       "      <th>2</th>\n",
       "      <td>0</td>\n",
       "      <td>2</td>\n",
       "      <td>273</td>\n",
       "    </tr>\n",
       "    <tr>\n",
       "      <th>3</th>\n",
       "      <td>1</td>\n",
       "      <td>0</td>\n",
       "      <td>2592</td>\n",
       "    </tr>\n",
       "    <tr>\n",
       "      <th>4</th>\n",
       "      <td>1</td>\n",
       "      <td>1</td>\n",
       "      <td>9846</td>\n",
       "    </tr>\n",
       "    <tr>\n",
       "      <th>5</th>\n",
       "      <td>1</td>\n",
       "      <td>2</td>\n",
       "      <td>1032</td>\n",
       "    </tr>\n",
       "    <tr>\n",
       "      <th>6</th>\n",
       "      <td>2</td>\n",
       "      <td>0</td>\n",
       "      <td>627</td>\n",
       "    </tr>\n",
       "    <tr>\n",
       "      <th>7</th>\n",
       "      <td>2</td>\n",
       "      <td>1</td>\n",
       "      <td>1370</td>\n",
       "    </tr>\n",
       "    <tr>\n",
       "      <th>8</th>\n",
       "      <td>2</td>\n",
       "      <td>2</td>\n",
       "      <td>8665</td>\n",
       "    </tr>\n",
       "  </tbody>\n",
       "</table>\n",
       "</div>"
      ],
      "text/plain": [
       "   label  basf2_label  count\n",
       "0      0            0   1893\n",
       "1      0            1   2061\n",
       "2      0            2    273\n",
       "3      1            0   2592\n",
       "4      1            1   9846\n",
       "5      1            2   1032\n",
       "6      2            0    627\n",
       "7      2            1   1370\n",
       "8      2            2   8665"
      ]
     },
     "execution_count": 35,
     "metadata": {},
     "output_type": "execute_result"
    }
   ],
   "source": [
    "groupsAllFSPs = pd.DataFrame({'count' : df_FSPs.groupby([\"label\",\"basf2_label\"]).size()}).reset_index()\n",
    "groupsAllFSPs"
   ]
  },
  {
   "cell_type": "code",
   "execution_count": 36,
   "id": "70166e3a",
   "metadata": {},
   "outputs": [
    {
     "name": "stdout",
     "output_type": "stream",
     "text": [
      "accuracy of basf2 for all particles: 71.95 %\n"
     ]
    }
   ],
   "source": [
    "print(\"accuracy of basf2 for all particles:\",round(df_FSPs[df_FSPs[\"basf2_correct\"] == True].shape[0] / df_FSPs.shape[0] *100,2),'%')"
   ]
  },
  {
   "cell_type": "code",
   "execution_count": 29,
   "id": "89bffba3",
   "metadata": {},
   "outputs": [
    {
     "data": {
      "text/plain": [
       "1693"
      ]
     },
     "execution_count": 29,
     "metadata": {},
     "output_type": "execute_result"
    }
   ],
   "source": [
    "numFSPs.shape[0]"
   ]
  },
  {
   "cell_type": "code",
   "execution_count": 37,
   "id": "5d2a211f",
   "metadata": {},
   "outputs": [
    {
     "data": {
      "text/html": [
       "<div>\n",
       "<style scoped>\n",
       "    .dataframe tbody tr th:only-of-type {\n",
       "        vertical-align: middle;\n",
       "    }\n",
       "\n",
       "    .dataframe tbody tr th {\n",
       "        vertical-align: top;\n",
       "    }\n",
       "\n",
       "    .dataframe thead th {\n",
       "        text-align: right;\n",
       "    }\n",
       "</style>\n",
       "<table border=\"1\" class=\"dataframe\">\n",
       "  <thead>\n",
       "    <tr style=\"text-align: right;\">\n",
       "      <th></th>\n",
       "      <th>__event__</th>\n",
       "      <th>corrects</th>\n",
       "      <th>numFSPs</th>\n",
       "    </tr>\n",
       "  </thead>\n",
       "  <tbody>\n",
       "    <tr>\n",
       "      <th>0</th>\n",
       "      <td>579</td>\n",
       "      <td>14</td>\n",
       "      <td>25</td>\n",
       "    </tr>\n",
       "    <tr>\n",
       "      <th>1</th>\n",
       "      <td>56345</td>\n",
       "      <td>12</td>\n",
       "      <td>19</td>\n",
       "    </tr>\n",
       "    <tr>\n",
       "      <th>2</th>\n",
       "      <td>59093</td>\n",
       "      <td>16</td>\n",
       "      <td>19</td>\n",
       "    </tr>\n",
       "    <tr>\n",
       "      <th>3</th>\n",
       "      <td>61733</td>\n",
       "      <td>15</td>\n",
       "      <td>18</td>\n",
       "    </tr>\n",
       "    <tr>\n",
       "      <th>4</th>\n",
       "      <td>134598</td>\n",
       "      <td>8</td>\n",
       "      <td>11</td>\n",
       "    </tr>\n",
       "    <tr>\n",
       "      <th>...</th>\n",
       "      <td>...</td>\n",
       "      <td>...</td>\n",
       "      <td>...</td>\n",
       "    </tr>\n",
       "    <tr>\n",
       "      <th>1757</th>\n",
       "      <td>50819999</td>\n",
       "      <td>12</td>\n",
       "      <td>14</td>\n",
       "    </tr>\n",
       "    <tr>\n",
       "      <th>1758</th>\n",
       "      <td>50839237</td>\n",
       "      <td>9</td>\n",
       "      <td>11</td>\n",
       "    </tr>\n",
       "    <tr>\n",
       "      <th>1759</th>\n",
       "      <td>50845012</td>\n",
       "      <td>15</td>\n",
       "      <td>17</td>\n",
       "    </tr>\n",
       "    <tr>\n",
       "      <th>1760</th>\n",
       "      <td>50864508</td>\n",
       "      <td>14</td>\n",
       "      <td>16</td>\n",
       "    </tr>\n",
       "    <tr>\n",
       "      <th>1761</th>\n",
       "      <td>50902203</td>\n",
       "      <td>11</td>\n",
       "      <td>12</td>\n",
       "    </tr>\n",
       "  </tbody>\n",
       "</table>\n",
       "<p>1762 rows × 3 columns</p>\n",
       "</div>"
      ],
      "text/plain": [
       "      __event__  corrects  numFSPs\n",
       "0           579        14       25\n",
       "1         56345        12       19\n",
       "2         59093        16       19\n",
       "3         61733        15       18\n",
       "4        134598         8       11\n",
       "...         ...       ...      ...\n",
       "1757   50819999        12       14\n",
       "1758   50839237         9       11\n",
       "1759   50845012        15       17\n",
       "1760   50864508        14       16\n",
       "1761   50902203        11       12\n",
       "\n",
       "[1762 rows x 3 columns]"
      ]
     },
     "execution_count": 37,
     "metadata": {},
     "output_type": "execute_result"
    }
   ],
   "source": [
    "groupsAllFSPs = pd.DataFrame({'corrects' : df_FSPs.groupby( [\"__event__\",\"basf2_correct\"] ).size()}).reset_index()\n",
    "basf2_failureCount = groupsAllFSPs[groupsAllFSPs[\"basf2_correct\"] == True]\n",
    "\n",
    "numFSPs = pd.DataFrame({'numFSPs' : df_FSPs.groupby([\"__event__\"]).size()}).reset_index()\n",
    "\n",
    "basf2_stats = pd.merge(basf2_failureCount[[\"__event__\",\"corrects\"]],numFSPs[[\"__event__\",\"numFSPs\"]], on=\"__event__\")\n",
    "\n",
    "\n",
    "basf2_stats"
   ]
  },
  {
   "cell_type": "code",
   "execution_count": 38,
   "id": "a85cc46a",
   "metadata": {},
   "outputs": [
    {
     "data": {
      "text/html": [
       "<div>\n",
       "<style scoped>\n",
       "    .dataframe tbody tr th:only-of-type {\n",
       "        vertical-align: middle;\n",
       "    }\n",
       "\n",
       "    .dataframe tbody tr th {\n",
       "        vertical-align: top;\n",
       "    }\n",
       "\n",
       "    .dataframe thead th {\n",
       "        text-align: right;\n",
       "    }\n",
       "</style>\n",
       "<table border=\"1\" class=\"dataframe\">\n",
       "  <thead>\n",
       "    <tr style=\"text-align: right;\">\n",
       "      <th></th>\n",
       "      <th>__event__</th>\n",
       "      <th>corrects</th>\n",
       "      <th>numFSPs</th>\n",
       "      <th>wrongs</th>\n",
       "    </tr>\n",
       "  </thead>\n",
       "  <tbody>\n",
       "    <tr>\n",
       "      <th>0</th>\n",
       "      <td>579</td>\n",
       "      <td>14</td>\n",
       "      <td>25</td>\n",
       "      <td>11</td>\n",
       "    </tr>\n",
       "    <tr>\n",
       "      <th>1</th>\n",
       "      <td>56345</td>\n",
       "      <td>12</td>\n",
       "      <td>19</td>\n",
       "      <td>7</td>\n",
       "    </tr>\n",
       "    <tr>\n",
       "      <th>2</th>\n",
       "      <td>59093</td>\n",
       "      <td>16</td>\n",
       "      <td>19</td>\n",
       "      <td>3</td>\n",
       "    </tr>\n",
       "    <tr>\n",
       "      <th>3</th>\n",
       "      <td>61733</td>\n",
       "      <td>15</td>\n",
       "      <td>18</td>\n",
       "      <td>3</td>\n",
       "    </tr>\n",
       "    <tr>\n",
       "      <th>4</th>\n",
       "      <td>134598</td>\n",
       "      <td>8</td>\n",
       "      <td>11</td>\n",
       "      <td>3</td>\n",
       "    </tr>\n",
       "    <tr>\n",
       "      <th>...</th>\n",
       "      <td>...</td>\n",
       "      <td>...</td>\n",
       "      <td>...</td>\n",
       "      <td>...</td>\n",
       "    </tr>\n",
       "    <tr>\n",
       "      <th>1757</th>\n",
       "      <td>50819999</td>\n",
       "      <td>12</td>\n",
       "      <td>14</td>\n",
       "      <td>2</td>\n",
       "    </tr>\n",
       "    <tr>\n",
       "      <th>1758</th>\n",
       "      <td>50839237</td>\n",
       "      <td>9</td>\n",
       "      <td>11</td>\n",
       "      <td>2</td>\n",
       "    </tr>\n",
       "    <tr>\n",
       "      <th>1759</th>\n",
       "      <td>50845012</td>\n",
       "      <td>15</td>\n",
       "      <td>17</td>\n",
       "      <td>2</td>\n",
       "    </tr>\n",
       "    <tr>\n",
       "      <th>1760</th>\n",
       "      <td>50864508</td>\n",
       "      <td>14</td>\n",
       "      <td>16</td>\n",
       "      <td>2</td>\n",
       "    </tr>\n",
       "    <tr>\n",
       "      <th>1761</th>\n",
       "      <td>50902203</td>\n",
       "      <td>11</td>\n",
       "      <td>12</td>\n",
       "      <td>1</td>\n",
       "    </tr>\n",
       "  </tbody>\n",
       "</table>\n",
       "<p>1762 rows × 4 columns</p>\n",
       "</div>"
      ],
      "text/plain": [
       "      __event__  corrects  numFSPs  wrongs\n",
       "0           579        14       25      11\n",
       "1         56345        12       19       7\n",
       "2         59093        16       19       3\n",
       "3         61733        15       18       3\n",
       "4        134598         8       11       3\n",
       "...         ...       ...      ...     ...\n",
       "1757   50819999        12       14       2\n",
       "1758   50839237         9       11       2\n",
       "1759   50845012        15       17       2\n",
       "1760   50864508        14       16       2\n",
       "1761   50902203        11       12       1\n",
       "\n",
       "[1762 rows x 4 columns]"
      ]
     },
     "execution_count": 38,
     "metadata": {},
     "output_type": "execute_result"
    }
   ],
   "source": [
    "basf2_stats[\"wrongs\"] = basf2_stats[\"numFSPs\"] - basf2_stats[\"corrects\"] \n",
    "basf2_stats"
   ]
  },
  {
   "cell_type": "code",
   "execution_count": null,
   "id": "d309dfd0",
   "metadata": {},
   "outputs": [],
   "source": [
    "bins = np.linspace(0, 30, 30)\n",
    "fig, ax = plt.subplots()\n",
    "fig.suptitle(r'----')\n",
    "fig.set_size_inches(8, 5)\n",
    "\n",
    "ax.set_xlabel(r'number of wrong assignments per event')\n",
    "ax.set_ylabel(\"fraction of total events\")\n",
    "\n",
    "ax.hist(basf2_stats[\"wrongs\"],bins=bins,density=True, alpha=0.5, label=(r'---'),histtype='step')\n",
    "#ax.hist(numFSPs_charged[\"count\"],bins=bins,density=True, alpha=0.5, label=(r'charged'),histtype='step')\n",
    "#ax.hist(numFSPs[\"count\"],bins=bins,density=True, alpha=0.5, label=(r'total'),histtype='step')\n",
    "\n",
    "\n",
    "\n",
    "\n",
    "ax.legend(loc='upper right')\n",
    "\n",
    "#plt.savefig('dataSetAnaPlots/numFSPs_histo_NAHSrun1_neutrals_charged.pdf')"
   ]
  },
  {
   "cell_type": "code",
   "execution_count": 39,
   "id": "5cc91993",
   "metadata": {},
   "outputs": [
    {
     "name": "stdout",
     "output_type": "stream",
     "text": [
      "accuracy of basf2 for all particles: 71.95 %\n",
      "BASF2 assignment errors per event \n",
      "\n",
      "0 errors: 3.52 %\n",
      "1 errors: 9.25 %\n",
      "2 errors: 15.04 %\n",
      "3 errors: 14.81 %\n",
      "more than 3 errors: 57.38 %\n"
     ]
    }
   ],
   "source": [
    "print(\"accuracy of basf2 for all particles:\",round(df_FSPs[df_FSPs[\"basf2_correct\"] == True].shape[0] / df_FSPs.shape[0] *100,2),'%')\n",
    "\n",
    "print(\"BASF2 assignment errors per event \\n\")\n",
    "\n",
    "numEvts = basf2_stats.shape[0]\n",
    "for i in range(4):\n",
    "    print(i, 'errors:', round(basf2_stats[basf2_stats[\"wrongs\"] == i].shape[0]  /  numEvts * 100, 2),'%')\n",
    "\n",
    "i = 3\n",
    "print('more than',i, 'errors:', round(basf2_stats[basf2_stats[\"wrongs\"] > i].shape[0]  /  numEvts * 100, 2),'%')"
   ]
  },
  {
   "cell_type": "code",
   "execution_count": 52,
   "id": "b508d9a6",
   "metadata": {},
   "outputs": [
    {
     "data": {
      "text/plain": [
       "count    51177.000000\n",
       "mean         7.330129\n",
       "std          3.737335\n",
       "min          0.000000\n",
       "25%          5.000000\n",
       "50%          7.000000\n",
       "75%         10.000000\n",
       "max         22.000000\n",
       "Name: wrongs, dtype: float64"
      ]
     },
     "execution_count": 52,
     "metadata": {},
     "output_type": "execute_result"
    }
   ],
   "source": [
    "basf2_stats[\"wrongs\"].describe()"
   ]
  },
  {
   "cell_type": "code",
   "execution_count": null,
   "id": "6f67536f",
   "metadata": {},
   "outputs": [],
   "source": []
  }
 ],
 "metadata": {
  "kernelspec": {
   "display_name": "Python 3",
   "language": "python",
   "name": "python3"
  },
  "language_info": {
   "codemirror_mode": {
    "name": "ipython",
    "version": 3
   },
   "file_extension": ".py",
   "mimetype": "text/x-python",
   "name": "python",
   "nbconvert_exporter": "python",
   "pygments_lexer": "ipython3",
   "version": "3.6.8"
  }
 },
 "nbformat": 4,
 "nbformat_minor": 5
}
