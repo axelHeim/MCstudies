{
 "cells": [
  {
   "cell_type": "code",
   "execution_count": 1,
   "id": "d51be6ac",
   "metadata": {},
   "outputs": [],
   "source": [
    "import matplotlib.pyplot as plt\n",
    "import uproot\n",
    "import numpy as np\n",
    "import pandas as pd\n",
    "\n",
    "from pathlib import Path\n",
    "from sklearn.model_selection import train_test_split\n",
    "\n",
    "from datetime import datetime\n",
    "import sys\n",
    "sys.path.insert(1, '/afs/desy.de/user/a/axelheim/private/MC_studies/Dstlnu_Bt_generic/util_funcs/')\n",
    "from pandas_colFuncs import isBtoDstlnu, whichBisSig, customMCmatching, B_ID, whichBisSig_NAHS"
   ]
  },
  {
   "cell_type": "code",
   "execution_count": 2,
   "id": "827c588e",
   "metadata": {},
   "outputs": [],
   "source": [
    "root_path = \"/nfs/dust/belle2/user/axelheim/MC_studies/Dstlnu_Bt_generic/BASF2_performance_GiannasScript/\""
   ]
  },
  {
   "cell_type": "markdown",
   "id": "ca971355",
   "metadata": {},
   "source": [
    "## load root files"
   ]
  },
  {
   "cell_type": "code",
   "execution_count": 3,
   "id": "79f1c277",
   "metadata": {},
   "outputs": [],
   "source": [
    "fileY4S = uproot.open(root_path + \"DXtagDstl.root:variables\")\n",
    "df_Y4S = fileY4S.arrays(library=\"pd\")"
   ]
  },
  {
   "cell_type": "code",
   "execution_count": 4,
   "id": "1d30bc20",
   "metadata": {},
   "outputs": [
    {
     "name": "stdout",
     "output_type": "stream",
     "text": [
      "/nfs/dust/belle2/user/axelheim/MC_studies/Dstlnu_Bt_generic/BASF2_performance_GiannasScript/gammas.root:variables\n",
      "/nfs/dust/belle2/user/axelheim/MC_studies/Dstlnu_Bt_generic/BASF2_performance_GiannasScript/electrons.root:variables\n",
      "/nfs/dust/belle2/user/axelheim/MC_studies/Dstlnu_Bt_generic/BASF2_performance_GiannasScript/pions.root:variables\n",
      "/nfs/dust/belle2/user/axelheim/MC_studies/Dstlnu_Bt_generic/BASF2_performance_GiannasScript/kaons.root:variables\n",
      "/nfs/dust/belle2/user/axelheim/MC_studies/Dstlnu_Bt_generic/BASF2_performance_GiannasScript/muons.root:variables\n"
     ]
    }
   ],
   "source": [
    "names = [\"gammas\",\"electrons\",\"pions\",\"kaons\",\"muons\"]\n",
    "dfs = []\n",
    "for name in names:\n",
    "    filename = root_path + \"{}.root:variables\".format(name)\n",
    "    print(filename)\n",
    "    tmpFileFSPs = uproot.open(filename)\n",
    "    df_tmp = tmpFileFSPs.arrays(library=\"pd\")\n",
    "    dfs.append(df_tmp)\n",
    "df_FSPs = pd.concat(dfs)"
   ]
  },
  {
   "cell_type": "code",
   "execution_count": 5,
   "id": "75741e7d",
   "metadata": {},
   "outputs": [
    {
     "name": "stdout",
     "output_type": "stream",
     "text": [
      "3593087\n",
      "105734\n"
     ]
    }
   ],
   "source": [
    "print(df_FSPs.shape[0])\n",
    "print(df_Y4S.shape[0])"
   ]
  },
  {
   "cell_type": "code",
   "execution_count": 6,
   "id": "1ff36af6",
   "metadata": {},
   "outputs": [],
   "source": [
    "df_Y4S = df_Y4S[(df_Y4S['Hc_isSignalAcceptMissingGamma'] == 1.0)]\n",
    "df_FSPs = df_FSPs[df_FSPs['__event__'].isin(df_Y4S[\"__event__\"])]"
   ]
  },
  {
   "cell_type": "code",
   "execution_count": 7,
   "id": "cc41dc24",
   "metadata": {},
   "outputs": [
    {
     "name": "stdout",
     "output_type": "stream",
     "text": [
      "397836\n",
      "12275\n"
     ]
    }
   ],
   "source": [
    "print(df_FSPs.shape[0])\n",
    "print(df_Y4S.shape[0])"
   ]
  },
  {
   "cell_type": "markdown",
   "id": "a25e3153",
   "metadata": {},
   "source": [
    "## filter for the wanted D0 modes"
   ]
  },
  {
   "cell_type": "code",
   "execution_count": 8,
   "id": "7ad40a50",
   "metadata": {},
   "outputs": [],
   "source": [
    "df_Y4S['Bsig_uniqParID'] = df_Y4S.apply(whichBisSig_NAHS, axis=1)"
   ]
  },
  {
   "cell_type": "code",
   "execution_count": 9,
   "id": "76ca40a2",
   "metadata": {},
   "outputs": [],
   "source": [
    "pd.options.display.float_format = '{:20.2f}'.format\n",
    "df_Y4S = df_Y4S[((df_Y4S[\"Bsig_uniqParID\"] == 83886081.0)  &\n",
    "            (df_Y4S[\"genUp4S_PDG_0_0_0\"].abs() == 421.0)  & # 421=D0\n",
    "            (df_Y4S[\"genUp4S_PDG_0_0_1\"].abs() == 211.0)  & # 211=pion\n",
    "            (df_Y4S[\"genUp4S_PDG_0_0_2\"].isna() == True)  & # no particle \n",
    "            (df_Y4S[\"genUp4S_PDG_0_0_0_0\"].abs() == 321.0)  & # 321=kaon \n",
    "            (df_Y4S[\"genUp4S_PDG_0_0_0_1\"].abs() == 211.0)  & # 211=pion\n",
    "            ((df_Y4S[\"genUp4S_PDG_0_0_0_2\"].abs() == 211.0)  | # 211=pion\n",
    "            (df_Y4S[\"genUp4S_PDG_0_0_0_2\"].isna() == True) | # OR no particle\n",
    "            (df_Y4S[\"genUp4S_PDG_0_0_0_2\"].abs() == 111.0)) & # OR 111=pi0\n",
    "            ((df_Y4S[\"genUp4S_PDG_0_0_0_3\"].abs() == 211.0)  | # 211=pion\n",
    "            (df_Y4S[\"genUp4S_PDG_0_0_0_3\"].isna() == True)) & # OR no particle\n",
    "            ((df_Y4S[\"genUp4S_PDG_0_0_0_4\"].abs() == 111.0)  | # 111=pi0\n",
    "            (df_Y4S[\"genUp4S_PDG_0_0_0_4\"].isna() == True)) & # OR no particle\n",
    "            (df_Y4S[\"genUp4S_PDG_0_0_0_5\"].isna() == True)) # no particle\n",
    "              |\n",
    "        ((df_Y4S[\"Bsig_uniqParID\"] == 83886082.0)  &\n",
    "            (df_Y4S[\"genUp4S_PDG_1_0_0\"].abs() == 421.0)  & # 421=D0\n",
    "            (df_Y4S[\"genUp4S_PDG_1_0_1\"].abs() == 211.0)  & # 211=pion\n",
    "            (df_Y4S[\"genUp4S_PDG_1_0_2\"].isna() == True)  & # no particle \n",
    "            (df_Y4S[\"genUp4S_PDG_1_0_0_0\"].abs() == 321.0)  & # 321=kaon \n",
    "            (df_Y4S[\"genUp4S_PDG_1_0_0_1\"].abs() == 211.0)  & # 211=pion\n",
    "            ((df_Y4S[\"genUp4S_PDG_1_0_0_2\"].abs() == 211.0)  | # 211=pion\n",
    "            (df_Y4S[\"genUp4S_PDG_1_0_0_2\"].isna() == True) | # OR no particle\n",
    "            (df_Y4S[\"genUp4S_PDG_1_0_0_2\"].abs() == 111.0)) & # OR 111=pi0\n",
    "            ((df_Y4S[\"genUp4S_PDG_1_0_0_3\"].abs() == 211.0)  | # 211=pion\n",
    "            (df_Y4S[\"genUp4S_PDG_1_0_0_3\"].isna() == True)) & # OR no particle\n",
    "            ((df_Y4S[\"genUp4S_PDG_1_0_0_4\"].abs() == 111.0)  | # 111=pi0\n",
    "            (df_Y4S[\"genUp4S_PDG_1_0_0_4\"].isna() == True)) & # OR no particle\n",
    "            (df_Y4S[\"genUp4S_PDG_1_0_0_5\"].isna() == True)) # no particle\n",
    "     ]"
   ]
  },
  {
   "cell_type": "code",
   "execution_count": 10,
   "id": "a32e069c",
   "metadata": {},
   "outputs": [
    {
     "name": "stdout",
     "output_type": "stream",
     "text": [
      "92923\n",
      "3120\n"
     ]
    }
   ],
   "source": [
    "df_FSPs = df_FSPs[df_FSPs['__event__'].isin(df_Y4S[\"__event__\"])]\n",
    "print(df_FSPs.shape[0])\n",
    "print(df_Y4S.shape[0])"
   ]
  },
  {
   "cell_type": "markdown",
   "id": "faafe79b",
   "metadata": {},
   "source": [
    "## delete evts where Bsig and Hc mother are the same"
   ]
  },
  {
   "cell_type": "code",
   "execution_count": 11,
   "id": "25e1ca86",
   "metadata": {
    "scrolled": true
   },
   "outputs": [],
   "source": [
    "df_Y4S = df_Y4S[(df_Y4S[\"Hc_motherUniqParID\"]==83886082.0) | (df_Y4S[\"Hc_motherUniqParID\"]==83886081.0)]"
   ]
  },
  {
   "cell_type": "code",
   "execution_count": 12,
   "id": "53f091a0",
   "metadata": {},
   "outputs": [],
   "source": [
    "df_Y4S = df_Y4S[df_Y4S[\"Bsig_uniqParID\"] != df_Y4S[\"Hc_motherUniqParID\"]]"
   ]
  },
  {
   "cell_type": "code",
   "execution_count": 13,
   "id": "8b59f253",
   "metadata": {},
   "outputs": [
    {
     "name": "stdout",
     "output_type": "stream",
     "text": [
      "50289\n",
      "1693\n"
     ]
    }
   ],
   "source": [
    "df_FSPs = df_FSPs[df_FSPs['__event__'].isin(df_Y4S[\"__event__\"])]\n",
    "print(df_FSPs.shape[0])\n",
    "print(df_Y4S.shape[0])"
   ]
  },
  {
   "cell_type": "markdown",
   "id": "6222e2bd",
   "metadata": {},
   "source": [
    "## take care of duplis in particle lists"
   ]
  },
  {
   "cell_type": "code",
   "execution_count": 14,
   "id": "85f6dec6",
   "metadata": {},
   "outputs": [
    {
     "data": {
      "text/plain": [
       "count\n",
       "1    16688\n",
       "2    13706\n",
       "3     2063\n",
       "dtype: int64"
      ]
     },
     "execution_count": 14,
     "metadata": {},
     "output_type": "execute_result"
    }
   ],
   "source": [
    "groupsFSPs_uniqParID = pd.DataFrame({'count' : df_FSPs.groupby( [\"__event__\",\"uniqueParticleIdentifier\"] ).size()}).reset_index()\n",
    "groupsFSPs_uniqParID.value_counts('count')"
   ]
  },
  {
   "cell_type": "code",
   "execution_count": 15,
   "id": "1a1bccae",
   "metadata": {},
   "outputs": [
    {
     "name": "stdout",
     "output_type": "stream",
     "text": [
      "df_FSPs[basf2_used].value_counts(): 1.00    27477\n",
      "0.00    22812\n",
      "Name: basf2_used, dtype: int64\n",
      "df_FSPs[basf2_used].value_counts(): 1.00    27477\n",
      "0.00     4980\n",
      "Name: basf2_used, dtype: int64\n"
     ]
    }
   ],
   "source": [
    "# delete particles which occur more than ones (keep first) and if possible keep the one with basf2_used==1\n",
    "print(\"df_FSPs[basf2_used].value_counts():\",df_FSPs[\"basf2_used\"].value_counts())\n",
    "df_FSPs = df_FSPs.sort_values(\"basf2_used\",ascending=False).drop_duplicates(subset=(\"__event__\",\"uniqueParticleIdentifier\"), keep='first')\n",
    "print(\"df_FSPs[basf2_used].value_counts():\",df_FSPs[\"basf2_used\"].value_counts())"
   ]
  },
  {
   "cell_type": "code",
   "execution_count": 16,
   "id": "444e8a4a",
   "metadata": {},
   "outputs": [
    {
     "data": {
      "text/plain": [
       "count\n",
       "1    32457\n",
       "dtype: int64"
      ]
     },
     "execution_count": 16,
     "metadata": {},
     "output_type": "execute_result"
    }
   ],
   "source": [
    "groupsFSPs_uniqParID = pd.DataFrame({'count' : df_FSPs.groupby( [\"__event__\",\"uniqueParticleIdentifier\"] ).size()}).reset_index()\n",
    "groupsFSPs_uniqParID.value_counts('count')"
   ]
  },
  {
   "cell_type": "markdown",
   "id": "35a6b766",
   "metadata": {},
   "source": [
    "## delete Hc particles"
   ]
  },
  {
   "cell_type": "code",
   "execution_count": 17,
   "id": "477980cc",
   "metadata": {},
   "outputs": [],
   "source": [
    "df_FSPs = df_FSPs[~((df_FSPs[\"basf2_used\"]== 1) & (df_FSPs[\"basf2_Bsig\"]== 0) & (df_FSPs[\"basf2_X\"]== 0))]"
   ]
  },
  {
   "cell_type": "code",
   "execution_count": null,
   "id": "f9ac32f2",
   "metadata": {},
   "outputs": [],
   "source": []
  },
  {
   "cell_type": "code",
   "execution_count": null,
   "id": "f829cf48",
   "metadata": {},
   "outputs": [],
   "source": []
  },
  {
   "cell_type": "code",
   "execution_count": 18,
   "id": "8bab751d",
   "metadata": {},
   "outputs": [],
   "source": [
    "numFSPs = pd.DataFrame({'numFSPs' : df_FSPs.groupby([\"__event__\"]).size()}).reset_index()"
   ]
  },
  {
   "cell_type": "code",
   "execution_count": 19,
   "id": "2fcf390f",
   "metadata": {},
   "outputs": [
    {
     "data": {
      "text/plain": [
       "count                1693.00\n",
       "mean                   15.38\n",
       "std                     3.99\n",
       "min                     5.00\n",
       "25%                    13.00\n",
       "50%                    15.00\n",
       "75%                    18.00\n",
       "max                    27.00\n",
       "Name: numFSPs, dtype: float64"
      ]
     },
     "execution_count": 19,
     "metadata": {},
     "output_type": "execute_result"
    }
   ],
   "source": [
    "numFSPs[\"numFSPs\"].describe()"
   ]
  },
  {
   "cell_type": "markdown",
   "id": "e021c964",
   "metadata": {},
   "source": [
    "## add the basf2 label"
   ]
  },
  {
   "cell_type": "code",
   "execution_count": 20,
   "id": "30246f15",
   "metadata": {},
   "outputs": [],
   "source": [
    "def basf2_label(s):\n",
    "    label = 0\n",
    " \n",
    "    if s[\"basf2_X\"] == 1.0:\n",
    "        label = 1 # particle belongs to X \n",
    "    elif s[\"basf2_Bsig\"] == 1.0:\n",
    "        label = 2 # particle belongs to Bsig \n",
    "    elif s[\"basf2_used\"] == 0.0:\n",
    "        label = 0 # background  \n",
    "        \n",
    "    return label"
   ]
  },
  {
   "cell_type": "code",
   "execution_count": 21,
   "id": "197b531b",
   "metadata": {},
   "outputs": [],
   "source": [
    "df_FSPs['basf2_label'] = df_FSPs.apply(basf2_label, axis=1)"
   ]
  },
  {
   "cell_type": "code",
   "execution_count": 22,
   "id": "54433099",
   "metadata": {},
   "outputs": [],
   "source": [
    "def labels(s):\n",
    "    label = -1\n",
    "    if int(s['B_ID']) == 0:\n",
    "        label = 0 # background, cause not related to MC Particles\n",
    "    else: \n",
    "        event_num = (s['__event__'])\n",
    "        B_sigID = df_Y4S[df_Y4S['__event__'] == event_num].iloc[0]['Bsig_uniqParID']\n",
    "        \n",
    "        if int(s['B_ID']) == B_sigID:\n",
    "            label = 2 # Bsig\n",
    "        else:\n",
    "            label = 1 #X\n",
    "    return label"
   ]
  },
  {
   "cell_type": "code",
   "execution_count": 23,
   "id": "af4df8b4",
   "metadata": {},
   "outputs": [],
   "source": [
    "df_FSPs['B_ID'] = df_FSPs.apply(B_ID, axis=1)"
   ]
  },
  {
   "cell_type": "code",
   "execution_count": 24,
   "id": "e7de1977",
   "metadata": {},
   "outputs": [],
   "source": [
    "df_FSPs['label'] = df_FSPs.apply(labels, axis=1)"
   ]
  },
  {
   "cell_type": "code",
   "execution_count": 25,
   "id": "07a87422",
   "metadata": {},
   "outputs": [],
   "source": [
    "df_FSPs['basf2_correct'] = (df_FSPs['basf2_label'] == df_FSPs['label'])"
   ]
  },
  {
   "cell_type": "code",
   "execution_count": 26,
   "id": "e671764c",
   "metadata": {},
   "outputs": [
    {
     "data": {
      "text/plain": [
       "count     26033\n",
       "unique        2\n",
       "top        True\n",
       "freq      16727\n",
       "Name: basf2_correct, dtype: object"
      ]
     },
     "execution_count": 26,
     "metadata": {},
     "output_type": "execute_result"
    }
   ],
   "source": [
    "df_FSPs['basf2_correct'].describe()"
   ]
  },
  {
   "cell_type": "markdown",
   "id": "ba729279",
   "metadata": {},
   "source": [
    "## save df's"
   ]
  },
  {
   "cell_type": "code",
   "execution_count": 35,
   "id": "ecc4bca0",
   "metadata": {},
   "outputs": [],
   "source": [
    "df_FSPs.to_csv(root_path + \"FSPs_preProcessed_basf2Perf.csv\")\n",
    "df_Y4S.to_csv(root_path + \"Y4S_preProcessed_basf2Perf.csv\")"
   ]
  },
  {
   "cell_type": "markdown",
   "id": "751a6e1d",
   "metadata": {},
   "source": [
    "## load df's"
   ]
  },
  {
   "cell_type": "code",
   "execution_count": 3,
   "id": "7c2877c3",
   "metadata": {},
   "outputs": [],
   "source": [
    "df_FSPs = pd.read_csv(root_path + \"FSPs_preProcessed_basf2Perf.csv\")\n",
    "df_Y4S = pd.read_csv(root_path + \"Y4S_preProcessed_basf2Perf.csv\")"
   ]
  },
  {
   "cell_type": "markdown",
   "id": "554fd77a",
   "metadata": {},
   "source": [
    "## plot num particles"
   ]
  },
  {
   "cell_type": "code",
   "execution_count": 6,
   "id": "c5f0cd05",
   "metadata": {},
   "outputs": [
    {
     "data": {
      "image/png": "[encoded data removed]",
      "text/plain": [
       "<Figure size 576x360 with 1 Axes>"
      ]
     },
     "metadata": {
      "needs_background": "light"
     },
     "output_type": "display_data"
    }
   ],
   "source": [
    "bins = np.linspace(0, 30, 30)\n",
    "neutrals = df_FSPs[df_FSPs[\"PDG\"] == 22.]\n",
    "charged = df_FSPs[df_FSPs[\"PDG\"] != 22.]\n",
    "\n",
    "numFSPs_all = pd.DataFrame({'count' : df_FSPs.groupby( [\"__event__\"] ).size()}).reset_index()\n",
    "numFSPs_charged = pd.DataFrame({'count' : charged.groupby( [\"__event__\"] ).size()}).reset_index()\n",
    "numFSPs_neutral = pd.DataFrame({'count' : neutrals.groupby( [\"__event__\"] ).size()}).reset_index()\n",
    "\n",
    "\n",
    "fig, ax = plt.subplots()\n",
    "fig.suptitle(r'Number of FSPs per event')\n",
    "fig.set_size_inches(8, 5)\n",
    "\n",
    "ax.set_xlabel(r'number of FSPs per event')\n",
    "ax.set_ylabel(\"fraction of events\")\n",
    "\n",
    "ax.hist(numFSPs_all[\"count\"],bins=bins,density=True, alpha=0.5, label=(r'total'),histtype='step')\n",
    "ax.hist(numFSPs_neutral[\"count\"],bins=bins,density=True, alpha=0.5, label=(r'neutrals'),histtype='step')\n",
    "ax.hist(numFSPs_charged[\"count\"],bins=bins,density=True, alpha=0.5, label=(r'charged'),histtype='step')\n",
    "\n",
    "ax.legend(loc='upper right')\n",
    "\n",
    "\n",
    "plt.savefig('numFSPs_Gmodes_basf2Performance.pdf')"
   ]
  },
  {
   "cell_type": "code",
   "execution_count": 7,
   "id": "1c89ece7",
   "metadata": {},
   "outputs": [
    {
     "data": {
      "text/plain": [
       "count    1693.000000\n",
       "mean       15.376846\n",
       "std         3.987982\n",
       "min         5.000000\n",
       "25%        13.000000\n",
       "50%        15.000000\n",
       "75%        18.000000\n",
       "max        27.000000\n",
       "Name: count, dtype: float64"
      ]
     },
     "execution_count": 7,
     "metadata": {},
     "output_type": "execute_result"
    }
   ],
   "source": [
    "numFSPs_all[\"count\"].describe()"
   ]
  },
  {
   "cell_type": "code",
   "execution_count": null,
   "id": "a6278a76",
   "metadata": {},
   "outputs": [],
   "source": []
  },
  {
   "cell_type": "markdown",
   "id": "7305db4e",
   "metadata": {},
   "source": [
    "## check the assignment accuracy of basf2"
   ]
  },
  {
   "cell_type": "code",
   "execution_count": 27,
   "id": "ac3520a2",
   "metadata": {},
   "outputs": [
    {
     "data": {
      "text/html": [
       "<div>\n",
       "<style scoped>\n",
       "    .dataframe tbody tr th:only-of-type {\n",
       "        vertical-align: middle;\n",
       "    }\n",
       "\n",
       "    .dataframe tbody tr th {\n",
       "        vertical-align: top;\n",
       "    }\n",
       "\n",
       "    .dataframe thead th {\n",
       "        text-align: right;\n",
       "    }\n",
       "</style>\n",
       "<table border=\"1\" class=\"dataframe\">\n",
       "  <thead>\n",
       "    <tr style=\"text-align: right;\">\n",
       "      <th></th>\n",
       "      <th>label</th>\n",
       "      <th>basf2_label</th>\n",
       "      <th>count</th>\n",
       "    </tr>\n",
       "  </thead>\n",
       "  <tbody>\n",
       "    <tr>\n",
       "      <th>0</th>\n",
       "      <td>0</td>\n",
       "      <td>0</td>\n",
       "      <td>1809</td>\n",
       "    </tr>\n",
       "    <tr>\n",
       "      <th>1</th>\n",
       "      <td>0</td>\n",
       "      <td>1</td>\n",
       "      <td>2023</td>\n",
       "    </tr>\n",
       "    <tr>\n",
       "      <th>2</th>\n",
       "      <td>0</td>\n",
       "      <td>2</td>\n",
       "      <td>419</td>\n",
       "    </tr>\n",
       "    <tr>\n",
       "      <th>3</th>\n",
       "      <td>1</td>\n",
       "      <td>0</td>\n",
       "      <td>2434</td>\n",
       "    </tr>\n",
       "    <tr>\n",
       "      <th>4</th>\n",
       "      <td>1</td>\n",
       "      <td>1</td>\n",
       "      <td>7510</td>\n",
       "    </tr>\n",
       "    <tr>\n",
       "      <th>5</th>\n",
       "      <td>1</td>\n",
       "      <td>2</td>\n",
       "      <td>1761</td>\n",
       "    </tr>\n",
       "    <tr>\n",
       "      <th>6</th>\n",
       "      <td>2</td>\n",
       "      <td>0</td>\n",
       "      <td>737</td>\n",
       "    </tr>\n",
       "    <tr>\n",
       "      <th>7</th>\n",
       "      <td>2</td>\n",
       "      <td>1</td>\n",
       "      <td>1932</td>\n",
       "    </tr>\n",
       "    <tr>\n",
       "      <th>8</th>\n",
       "      <td>2</td>\n",
       "      <td>2</td>\n",
       "      <td>7408</td>\n",
       "    </tr>\n",
       "  </tbody>\n",
       "</table>\n",
       "</div>"
      ],
      "text/plain": [
       "   label  basf2_label  count\n",
       "0      0            0   1809\n",
       "1      0            1   2023\n",
       "2      0            2    419\n",
       "3      1            0   2434\n",
       "4      1            1   7510\n",
       "5      1            2   1761\n",
       "6      2            0    737\n",
       "7      2            1   1932\n",
       "8      2            2   7408"
      ]
     },
     "execution_count": 27,
     "metadata": {},
     "output_type": "execute_result"
    }
   ],
   "source": [
    "groupsAllFSPs = pd.DataFrame({'count' : df_FSPs.groupby([\"label\",\"basf2_label\"]).size()}).reset_index()\n",
    "groupsAllFSPs"
   ]
  },
  {
   "cell_type": "code",
   "execution_count": 28,
   "id": "babe94c0",
   "metadata": {},
   "outputs": [
    {
     "name": "stdout",
     "output_type": "stream",
     "text": [
      "accuracy of basf2 for all particles: 64.25 %\n"
     ]
    }
   ],
   "source": [
    "print(\"accuracy of basf2 for all particles:\",round(df_FSPs[df_FSPs[\"basf2_correct\"] == True].shape[0] / df_FSPs.shape[0] *100,2),'%')"
   ]
  },
  {
   "cell_type": "code",
   "execution_count": 29,
   "id": "4ede1cc8",
   "metadata": {},
   "outputs": [
    {
     "data": {
      "text/plain": [
       "1693"
      ]
     },
     "execution_count": 29,
     "metadata": {},
     "output_type": "execute_result"
    }
   ],
   "source": [
    "numFSPs.shape[0]"
   ]
  },
  {
   "cell_type": "code",
   "execution_count": 30,
   "id": "d640ac62",
   "metadata": {},
   "outputs": [
    {
     "data": {
      "text/html": [
       "<div>\n",
       "<style scoped>\n",
       "    .dataframe tbody tr th:only-of-type {\n",
       "        vertical-align: middle;\n",
       "    }\n",
       "\n",
       "    .dataframe tbody tr th {\n",
       "        vertical-align: top;\n",
       "    }\n",
       "\n",
       "    .dataframe thead th {\n",
       "        text-align: right;\n",
       "    }\n",
       "</style>\n",
       "<table border=\"1\" class=\"dataframe\">\n",
       "  <thead>\n",
       "    <tr style=\"text-align: right;\">\n",
       "      <th></th>\n",
       "      <th>__event__</th>\n",
       "      <th>corrects</th>\n",
       "      <th>numFSPs</th>\n",
       "    </tr>\n",
       "  </thead>\n",
       "  <tbody>\n",
       "    <tr>\n",
       "      <th>0</th>\n",
       "      <td>26524</td>\n",
       "      <td>10</td>\n",
       "      <td>13</td>\n",
       "    </tr>\n",
       "    <tr>\n",
       "      <th>1</th>\n",
       "      <td>52330</td>\n",
       "      <td>14</td>\n",
       "      <td>18</td>\n",
       "    </tr>\n",
       "    <tr>\n",
       "      <th>2</th>\n",
       "      <td>56345</td>\n",
       "      <td>12</td>\n",
       "      <td>21</td>\n",
       "    </tr>\n",
       "    <tr>\n",
       "      <th>3</th>\n",
       "      <td>93963</td>\n",
       "      <td>9</td>\n",
       "      <td>14</td>\n",
       "    </tr>\n",
       "    <tr>\n",
       "      <th>4</th>\n",
       "      <td>134598</td>\n",
       "      <td>8</td>\n",
       "      <td>10</td>\n",
       "    </tr>\n",
       "    <tr>\n",
       "      <th>...</th>\n",
       "      <td>...</td>\n",
       "      <td>...</td>\n",
       "      <td>...</td>\n",
       "    </tr>\n",
       "    <tr>\n",
       "      <th>1688</th>\n",
       "      <td>50894068</td>\n",
       "      <td>7</td>\n",
       "      <td>16</td>\n",
       "    </tr>\n",
       "    <tr>\n",
       "      <th>1689</th>\n",
       "      <td>50909917</td>\n",
       "      <td>11</td>\n",
       "      <td>16</td>\n",
       "    </tr>\n",
       "    <tr>\n",
       "      <th>1690</th>\n",
       "      <td>50921022</td>\n",
       "      <td>10</td>\n",
       "      <td>17</td>\n",
       "    </tr>\n",
       "    <tr>\n",
       "      <th>1691</th>\n",
       "      <td>50957266</td>\n",
       "      <td>12</td>\n",
       "      <td>18</td>\n",
       "    </tr>\n",
       "    <tr>\n",
       "      <th>1692</th>\n",
       "      <td>50997788</td>\n",
       "      <td>12</td>\n",
       "      <td>18</td>\n",
       "    </tr>\n",
       "  </tbody>\n",
       "</table>\n",
       "<p>1693 rows × 3 columns</p>\n",
       "</div>"
      ],
      "text/plain": [
       "      __event__  corrects  numFSPs\n",
       "0         26524        10       13\n",
       "1         52330        14       18\n",
       "2         56345        12       21\n",
       "3         93963         9       14\n",
       "4        134598         8       10\n",
       "...         ...       ...      ...\n",
       "1688   50894068         7       16\n",
       "1689   50909917        11       16\n",
       "1690   50921022        10       17\n",
       "1691   50957266        12       18\n",
       "1692   50997788        12       18\n",
       "\n",
       "[1693 rows x 3 columns]"
      ]
     },
     "execution_count": 30,
     "metadata": {},
     "output_type": "execute_result"
    }
   ],
   "source": [
    "groupsAllFSPs = pd.DataFrame({'corrects' : df_FSPs.groupby( [\"__event__\",\"basf2_correct\"] ).size()}).reset_index()\n",
    "basf2_failureCount = groupsAllFSPs[groupsAllFSPs[\"basf2_correct\"] == True]\n",
    "\n",
    "numFSPs = pd.DataFrame({'numFSPs' : df_FSPs.groupby([\"__event__\"]).size()}).reset_index()\n",
    "\n",
    "basf2_stats = pd.merge(basf2_failureCount[[\"__event__\",\"corrects\"]],numFSPs[[\"__event__\",\"numFSPs\"]], on=\"__event__\")\n",
    "\n",
    "\n",
    "basf2_stats"
   ]
  },
  {
   "cell_type": "code",
   "execution_count": 31,
   "id": "d10a5761",
   "metadata": {},
   "outputs": [
    {
     "data": {
      "text/html": [
       "<div>\n",
       "<style scoped>\n",
       "    .dataframe tbody tr th:only-of-type {\n",
       "        vertical-align: middle;\n",
       "    }\n",
       "\n",
       "    .dataframe tbody tr th {\n",
       "        vertical-align: top;\n",
       "    }\n",
       "\n",
       "    .dataframe thead th {\n",
       "        text-align: right;\n",
       "    }\n",
       "</style>\n",
       "<table border=\"1\" class=\"dataframe\">\n",
       "  <thead>\n",
       "    <tr style=\"text-align: right;\">\n",
       "      <th></th>\n",
       "      <th>__event__</th>\n",
       "      <th>corrects</th>\n",
       "      <th>numFSPs</th>\n",
       "      <th>wrongs</th>\n",
       "    </tr>\n",
       "  </thead>\n",
       "  <tbody>\n",
       "    <tr>\n",
       "      <th>0</th>\n",
       "      <td>26524</td>\n",
       "      <td>10</td>\n",
       "      <td>13</td>\n",
       "      <td>3</td>\n",
       "    </tr>\n",
       "    <tr>\n",
       "      <th>1</th>\n",
       "      <td>52330</td>\n",
       "      <td>14</td>\n",
       "      <td>18</td>\n",
       "      <td>4</td>\n",
       "    </tr>\n",
       "    <tr>\n",
       "      <th>2</th>\n",
       "      <td>56345</td>\n",
       "      <td>12</td>\n",
       "      <td>21</td>\n",
       "      <td>9</td>\n",
       "    </tr>\n",
       "    <tr>\n",
       "      <th>3</th>\n",
       "      <td>93963</td>\n",
       "      <td>9</td>\n",
       "      <td>14</td>\n",
       "      <td>5</td>\n",
       "    </tr>\n",
       "    <tr>\n",
       "      <th>4</th>\n",
       "      <td>134598</td>\n",
       "      <td>8</td>\n",
       "      <td>10</td>\n",
       "      <td>2</td>\n",
       "    </tr>\n",
       "    <tr>\n",
       "      <th>...</th>\n",
       "      <td>...</td>\n",
       "      <td>...</td>\n",
       "      <td>...</td>\n",
       "      <td>...</td>\n",
       "    </tr>\n",
       "    <tr>\n",
       "      <th>1688</th>\n",
       "      <td>50894068</td>\n",
       "      <td>7</td>\n",
       "      <td>16</td>\n",
       "      <td>9</td>\n",
       "    </tr>\n",
       "    <tr>\n",
       "      <th>1689</th>\n",
       "      <td>50909917</td>\n",
       "      <td>11</td>\n",
       "      <td>16</td>\n",
       "      <td>5</td>\n",
       "    </tr>\n",
       "    <tr>\n",
       "      <th>1690</th>\n",
       "      <td>50921022</td>\n",
       "      <td>10</td>\n",
       "      <td>17</td>\n",
       "      <td>7</td>\n",
       "    </tr>\n",
       "    <tr>\n",
       "      <th>1691</th>\n",
       "      <td>50957266</td>\n",
       "      <td>12</td>\n",
       "      <td>18</td>\n",
       "      <td>6</td>\n",
       "    </tr>\n",
       "    <tr>\n",
       "      <th>1692</th>\n",
       "      <td>50997788</td>\n",
       "      <td>12</td>\n",
       "      <td>18</td>\n",
       "      <td>6</td>\n",
       "    </tr>\n",
       "  </tbody>\n",
       "</table>\n",
       "<p>1693 rows × 4 columns</p>\n",
       "</div>"
      ],
      "text/plain": [
       "      __event__  corrects  numFSPs  wrongs\n",
       "0         26524        10       13       3\n",
       "1         52330        14       18       4\n",
       "2         56345        12       21       9\n",
       "3         93963         9       14       5\n",
       "4        134598         8       10       2\n",
       "...         ...       ...      ...     ...\n",
       "1688   50894068         7       16       9\n",
       "1689   50909917        11       16       5\n",
       "1690   50921022        10       17       7\n",
       "1691   50957266        12       18       6\n",
       "1692   50997788        12       18       6\n",
       "\n",
       "[1693 rows x 4 columns]"
      ]
     },
     "execution_count": 31,
     "metadata": {},
     "output_type": "execute_result"
    }
   ],
   "source": [
    "basf2_stats[\"wrongs\"] = basf2_stats[\"numFSPs\"] - basf2_stats[\"corrects\"] \n",
    "basf2_stats"
   ]
  },
  {
   "cell_type": "code",
   "execution_count": null,
   "id": "de71ce25",
   "metadata": {},
   "outputs": [],
   "source": [
    "bins = np.linspace(0, 30, 30)\n",
    "fig, ax = plt.subplots()\n",
    "fig.suptitle(r'----')\n",
    "fig.set_size_inches(8, 5)\n",
    "\n",
    "ax.set_xlabel(r'number of wrong assignments per event')\n",
    "ax.set_ylabel(\"fraction of total events\")\n",
    "\n",
    "ax.hist(basf2_stats[\"wrongs\"],bins=bins,density=True, alpha=0.5, label=(r'---'),histtype='step')\n",
    "#ax.hist(numFSPs_charged[\"count\"],bins=bins,density=True, alpha=0.5, label=(r'charged'),histtype='step')\n",
    "#ax.hist(numFSPs[\"count\"],bins=bins,density=True, alpha=0.5, label=(r'total'),histtype='step')\n",
    "\n",
    "\n",
    "\n",
    "\n",
    "ax.legend(loc='upper right')\n",
    "\n",
    "#plt.savefig('dataSetAnaPlots/numFSPs_histo_NAHSrun1_neutrals_charged.pdf')"
   ]
  },
  {
   "cell_type": "code",
   "execution_count": 32,
   "id": "1221ecd4",
   "metadata": {},
   "outputs": [
    {
     "name": "stdout",
     "output_type": "stream",
     "text": [
      "accuracy of basf2 for all particles: 64.25 %\n",
      "BASF2 assignment errors per event \n",
      "\n",
      "0 errors: 3.78 %\n",
      "1 errors: 7.74 %\n",
      "2 errors: 10.28 %\n",
      "3 errors: 11.87 %\n",
      "more than 3 errors: 66.33 %\n"
     ]
    }
   ],
   "source": [
    "print(\"accuracy of basf2 for all particles:\",round(df_FSPs[df_FSPs[\"basf2_correct\"] == True].shape[0] / df_FSPs.shape[0] *100,2),'%')\n",
    "\n",
    "print(\"BASF2 assignment errors per event \\n\")\n",
    "\n",
    "numEvts = basf2_stats.shape[0]\n",
    "for i in range(4):\n",
    "    print(i, 'errors:', round(basf2_stats[basf2_stats[\"wrongs\"] == i].shape[0]  /  numEvts * 100, 2),'%')\n",
    "\n",
    "i = 3\n",
    "print('more than',i, 'errors:', round(basf2_stats[basf2_stats[\"wrongs\"] > i].shape[0]  /  numEvts * 100, 2),'%')"
   ]
  },
  {
   "cell_type": "code",
   "execution_count": 52,
   "id": "2e9a2cfe",
   "metadata": {},
   "outputs": [
    {
     "data": {
      "text/plain": [
       "count    51177.000000\n",
       "mean         7.330129\n",
       "std          3.737335\n",
       "min          0.000000\n",
       "25%          5.000000\n",
       "50%          7.000000\n",
       "75%         10.000000\n",
       "max         22.000000\n",
       "Name: wrongs, dtype: float64"
      ]
     },
     "execution_count": 52,
     "metadata": {},
     "output_type": "execute_result"
    }
   ],
   "source": [
    "basf2_stats[\"wrongs\"].describe()"
   ]
  },
  {
   "cell_type": "code",
   "execution_count": null,
   "id": "2e0304c2",
   "metadata": {},
   "outputs": [],
   "source": []
  }
 ],
 "metadata": {
  "kernelspec": {
   "display_name": "Python 3",
   "language": "python",
   "name": "python3"
  },
  "language_info": {
   "codemirror_mode": {
    "name": "ipython",
    "version": 3
   },
   "file_extension": ".py",
   "mimetype": "text/x-python",
   "name": "python",
   "nbconvert_exporter": "python",
   "pygments_lexer": "ipython3",
   "version": "3.6.8"
  }
 },
 "nbformat": 4,
 "nbformat_minor": 5
}
