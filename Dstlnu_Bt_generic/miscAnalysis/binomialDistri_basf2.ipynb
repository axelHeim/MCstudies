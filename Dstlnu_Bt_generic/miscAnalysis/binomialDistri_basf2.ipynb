{
 "cells": [
  {
   "cell_type": "code",
   "execution_count": 1,
   "metadata": {},
   "outputs": [],
   "source": [
    "import numpy as np"
   ]
  },
  {
   "cell_type": "code",
   "execution_count": null,
   "metadata": {},
   "outputs": [],
   "source": []
  },
  {
   "cell_type": "code",
   "execution_count": 3,
   "metadata": {},
   "outputs": [],
   "source": []
  },
  {
   "cell_type": "code",
   "execution_count": 24,
   "metadata": {},
   "outputs": [
    {
     "name": "stdout",
     "output_type": "stream",
     "text": [
      "0 errors: 0.69 % of events\n",
      "1 errors: 4.15 % of events\n",
      "2 errors: 11.16 % of events\n",
      "3 errors: 18.91 % of events\n",
      "> 3 errors: 65.1 % of events\n",
      "\n",
      "0 errors: 4.2 % of events\n",
      "1 errors: 15.35 % of events\n",
      "2 errors: 25.27 % of events\n",
      "3 errors: 25.34 % of events\n",
      "> 3 errors: 29.85 % of events\n",
      "\n"
     ]
    }
   ],
   "source": [
    "n_p_list = [[16,0.734],[13,0.785]]\n",
    "\n",
    "\n",
    "n_samples = 100000\n",
    "for n_p in n_p_list:\n",
    "    n = n_p[0]\n",
    "    p = n_p[1]\n",
    "    sample = np.random.binomial(n, p,(n_samples,1))\n",
    "\n",
    "\n",
    "    tmp = np.full((n_samples,1), n)\n",
    "    errors = tmp - sample\n",
    "\n",
    "    for i in range(4):\n",
    "        num_errors = (errors == i).sum()\n",
    "        print(i,\"errors:\",round(num_errors/n_samples*100,2),\"% of events\")\n",
    "\n",
    "    num_errors = (errors > 3).sum()\n",
    "    print(\">\",i,\"errors:\",round(num_errors/n_samples*100,2),\"% of events\")\n",
    "    print(\"\")"
   ]
  },
  {
   "cell_type": "code",
   "execution_count": 17,
   "metadata": {},
   "outputs": [
    {
     "data": {
      "text/plain": [
       "array([[12],\n",
       "       [11],\n",
       "       [13],\n",
       "       ...,\n",
       "       [10],\n",
       "       [10],\n",
       "       [11]])"
      ]
     },
     "execution_count": 17,
     "metadata": {},
     "output_type": "execute_result"
    }
   ],
   "source": []
  },
  {
   "cell_type": "code",
   "execution_count": 18,
   "metadata": {},
   "outputs": [],
   "source": []
  },
  {
   "cell_type": "code",
   "execution_count": 19,
   "metadata": {},
   "outputs": [],
   "source": []
  },
  {
   "cell_type": "code",
   "execution_count": 15,
   "metadata": {},
   "outputs": [
    {
     "data": {
      "text/plain": [
       "5524"
      ]
     },
     "execution_count": 15,
     "metadata": {},
     "output_type": "execute_result"
    }
   ],
   "source": []
  },
  {
   "cell_type": "code",
   "execution_count": 21,
   "metadata": {},
   "outputs": [
    {
     "name": "stdout",
     "output_type": "stream",
     "text": [
      "0 errors: 0.96 % of events\n",
      "1 errors: 5.14 % of events\n",
      "2 errors: 13.45 % of events\n",
      "3 errors: 20.81 % of events\n",
      "3 < errors: 59.64 % of events\n"
     ]
    }
   ],
   "source": []
  },
  {
   "cell_type": "code",
   "execution_count": null,
   "metadata": {},
   "outputs": [],
   "source": []
  }
 ],
 "metadata": {
  "kernelspec": {
   "display_name": "Python 3",
   "language": "python",
   "name": "python3"
  },
  "language_info": {
   "codemirror_mode": {
    "name": "ipython",
    "version": 3
   },
   "file_extension": ".py",
   "mimetype": "text/x-python",
   "name": "python",
   "nbconvert_exporter": "python",
   "pygments_lexer": "ipython3",
   "version": "3.6.8"
  }
 },
 "nbformat": 4,
 "nbformat_minor": 4
}
