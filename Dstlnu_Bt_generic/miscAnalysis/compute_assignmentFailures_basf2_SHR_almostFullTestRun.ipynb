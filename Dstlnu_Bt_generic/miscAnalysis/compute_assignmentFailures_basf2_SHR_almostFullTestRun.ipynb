{
 "cells": [
  {
   "cell_type": "code",
   "execution_count": 1,
   "metadata": {},
   "outputs": [],
   "source": [
    "import matplotlib.pyplot as plt\n",
    "import uproot\n",
    "import numpy as np\n",
    "import pandas as pd\n",
    "\n",
    "from pathlib import Path\n",
    "from sklearn.model_selection import train_test_split\n",
    "\n",
    "from datetime import datetime\n",
    "import sys\n",
    "sys.path.insert(1, '/afs/desy.de/user/a/axelheim/private/MC_studies/Dstlnu_Bt_generic/util_funcs/')\n",
    "from pandas_colFuncs import isBtoDstlnu, whichBisSig, customMCmatching, B_ID, whichBisSig_NAHS"
   ]
  },
  {
   "cell_type": "code",
   "execution_count": 2,
   "metadata": {},
   "outputs": [],
   "source": [
    "root_path = \"/nfs/dust/belle2/user/axelheim/MC_studies/Dstlnu_Bt_generic/SHR_Hc_correctReco_BsX/SHR_CMvars_run1/\""
   ]
  },
  {
   "cell_type": "markdown",
   "metadata": {},
   "source": [
    "## load root files"
   ]
  },
  {
   "cell_type": "code",
   "execution_count": 3,
   "metadata": {},
   "outputs": [],
   "source": [
    "merged=\"merged_\""
   ]
  },
  {
   "cell_type": "code",
   "execution_count": 4,
   "metadata": {},
   "outputs": [],
   "source": [
    "fileY4S = uproot.open(root_path + merged + \"DXtagDstl.root:variables\")\n",
    "df_Y4S = fileY4S.arrays(library=\"pd\")"
   ]
  },
  {
   "cell_type": "code",
   "execution_count": 5,
   "metadata": {},
   "outputs": [
    {
     "name": "stdout",
     "output_type": "stream",
     "text": [
      "/nfs/dust/belle2/user/axelheim/MC_studies/Dstlnu_Bt_generic/SHR_Hc_correctReco_BsX/SHR_CMvars_run1/merged_gammas.root:variables\n",
      "/nfs/dust/belle2/user/axelheim/MC_studies/Dstlnu_Bt_generic/SHR_Hc_correctReco_BsX/SHR_CMvars_run1/merged_electrons.root:variables\n",
      "/nfs/dust/belle2/user/axelheim/MC_studies/Dstlnu_Bt_generic/SHR_Hc_correctReco_BsX/SHR_CMvars_run1/merged_pions.root:variables\n",
      "/nfs/dust/belle2/user/axelheim/MC_studies/Dstlnu_Bt_generic/SHR_Hc_correctReco_BsX/SHR_CMvars_run1/merged_kaons.root:variables\n",
      "/nfs/dust/belle2/user/axelheim/MC_studies/Dstlnu_Bt_generic/SHR_Hc_correctReco_BsX/SHR_CMvars_run1/merged_muons.root:variables\n"
     ]
    }
   ],
   "source": [
    "names = [\"gammas\",\"electrons\",\"pions\",\"kaons\",\"muons\"]\n",
    "dfs = []\n",
    "for name in names:\n",
    "    filename = root_path + merged + \"{}.root:variables\".format(name)\n",
    "    print(filename)\n",
    "    tmpFileFSPs = uproot.open(filename)\n",
    "    df_tmp = tmpFileFSPs.arrays(library=\"pd\")\n",
    "    dfs.append(df_tmp)\n",
    "df_FSPs = pd.concat(dfs)"
   ]
  },
  {
   "cell_type": "code",
   "execution_count": 6,
   "metadata": {},
   "outputs": [
    {
     "name": "stdout",
     "output_type": "stream",
     "text": [
      "9079729\n",
      "209268\n"
     ]
    }
   ],
   "source": [
    "print(df_FSPs.shape[0])\n",
    "print(df_Y4S.shape[0])"
   ]
  },
  {
   "cell_type": "code",
   "execution_count": 7,
   "metadata": {},
   "outputs": [],
   "source": [
    "df_Y4S = df_Y4S[(df_Y4S['Hc_isSignalAcceptMissingGamma'] == 1.0)]\n",
    "df_FSPs = df_FSPs[df_FSPs['__event__'].isin(df_Y4S[\"__event__\"])]"
   ]
  },
  {
   "cell_type": "code",
   "execution_count": 8,
   "metadata": {},
   "outputs": [
    {
     "name": "stdout",
     "output_type": "stream",
     "text": [
      "9069249\n",
      "209268\n"
     ]
    }
   ],
   "source": [
    "print(df_FSPs.shape[0])\n",
    "print(df_Y4S.shape[0])"
   ]
  },
  {
   "cell_type": "code",
   "execution_count": 8,
   "metadata": {},
   "outputs": [],
   "source": [
    "df_Y4S['Bsig_uniqParID'] = df_Y4S.apply(whichBisSig_NAHS, axis=1)"
   ]
  },
  {
   "cell_type": "markdown",
   "metadata": {},
   "source": [
    "## H c abs(genM otherP DG) = 511"
   ]
  },
  {
   "cell_type": "code",
   "execution_count": 9,
   "metadata": {},
   "outputs": [],
   "source": [
    "df_Y4S = df_Y4S[(df_Y4S['Hc_genMotherPDG'] == 511.0) | (df_Y4S['Hc_genMotherPDG'] == -511.0)]\n",
    "\n",
    "df_FSPs = df_FSPs[df_FSPs['__event__'].isin(df_Y4S[\"__event__\"])]"
   ]
  },
  {
   "cell_type": "markdown",
   "metadata": {},
   "source": [
    "## isDstlnu == 1"
   ]
  },
  {
   "cell_type": "code",
   "execution_count": 10,
   "metadata": {},
   "outputs": [],
   "source": [
    "df_Y4S['isBtoDstlnu'] = df_Y4S.apply(isBtoDstlnu, axis=1)"
   ]
  },
  {
   "cell_type": "code",
   "execution_count": 11,
   "metadata": {},
   "outputs": [
    {
     "data": {
      "text/plain": [
       "51960"
      ]
     },
     "execution_count": 11,
     "metadata": {},
     "output_type": "execute_result"
    }
   ],
   "source": [
    "df_Y4S[(df_Y4S['isBtoDstlnu'] == 1) & (df_Y4S['Hc_isSignalAcceptMissingGamma'] == 1.0)].shape[0]"
   ]
  },
  {
   "cell_type": "code",
   "execution_count": 12,
   "metadata": {},
   "outputs": [],
   "source": [
    "df_Y4S = df_Y4S[(df_Y4S['isBtoDstlnu'] == 1) & (df_Y4S['Hc_isSignalAcceptMissingGamma'] == 1.0)]"
   ]
  },
  {
   "cell_type": "code",
   "execution_count": 13,
   "metadata": {},
   "outputs": [],
   "source": [
    "df_FSPs = df_FSPs[df_FSPs['__event__'].isin(df_Y4S[\"__event__\"])]"
   ]
  },
  {
   "cell_type": "markdown",
   "metadata": {},
   "source": [
    "## take care of duplis in particle lists"
   ]
  },
  {
   "cell_type": "code",
   "execution_count": 14,
   "metadata": {},
   "outputs": [
    {
     "data": {
      "text/plain": [
       "count\n",
       "1    1014490\n",
       "2     467767\n",
       "3      61450\n",
       "4        969\n",
       "5        224\n",
       "6         16\n",
       "dtype: int64"
      ]
     },
     "execution_count": 14,
     "metadata": {},
     "output_type": "execute_result"
    }
   ],
   "source": [
    "groupsFSPs_uniqParID = pd.DataFrame({'count' : df_FSPs.groupby( [\"__event__\",\"uniqueParticleIdentifier\"] ).size()}).reset_index()\n",
    "groupsFSPs_uniqParID.value_counts('count')"
   ]
  },
  {
   "cell_type": "code",
   "execution_count": 15,
   "metadata": {},
   "outputs": [
    {
     "name": "stdout",
     "output_type": "stream",
     "text": [
      "df_FSPs[basf2_used].value_counts(): 0.0    1160337\n",
      "1.0     979129\n",
      "Name: basf2_used, dtype: int64\n",
      "df_FSPs[basf2_used].value_counts(): 1.0    977189\n",
      "0.0    567727\n",
      "Name: basf2_used, dtype: int64\n"
     ]
    }
   ],
   "source": [
    "# delete particles which occur more than ones (keep first) and if possible keep the one with basf2_used==1\n",
    "print(\"df_FSPs[basf2_used].value_counts():\",df_FSPs[\"basf2_used\"].value_counts())\n",
    "df_FSPs = df_FSPs.sort_values(\"basf2_used\",ascending=False).drop_duplicates(subset=(\"__event__\",\"uniqueParticleIdentifier\"), keep='first')\n",
    "print(\"df_FSPs[basf2_used].value_counts():\",df_FSPs[\"basf2_used\"].value_counts())"
   ]
  },
  {
   "cell_type": "code",
   "execution_count": 16,
   "metadata": {},
   "outputs": [
    {
     "data": {
      "text/plain": [
       "count\n",
       "1    1544916\n",
       "dtype: int64"
      ]
     },
     "execution_count": 16,
     "metadata": {},
     "output_type": "execute_result"
    }
   ],
   "source": [
    "groupsFSPs_uniqParID = pd.DataFrame({'count' : df_FSPs.groupby( [\"__event__\",\"uniqueParticleIdentifier\"] ).size()}).reset_index()\n",
    "groupsFSPs_uniqParID.value_counts('count')"
   ]
  },
  {
   "cell_type": "markdown",
   "metadata": {},
   "source": [
    "## delete Hc particles"
   ]
  },
  {
   "cell_type": "code",
   "execution_count": 17,
   "metadata": {},
   "outputs": [],
   "source": [
    "df_FSPs = df_FSPs[~((df_FSPs[\"basf2_used\"]== 1) & (df_FSPs[\"basf2_Bsig\"]== 0) & (df_FSPs[\"basf2_X\"]== 0))]"
   ]
  },
  {
   "cell_type": "code",
   "execution_count": null,
   "metadata": {},
   "outputs": [],
   "source": []
  },
  {
   "cell_type": "code",
   "execution_count": null,
   "metadata": {},
   "outputs": [],
   "source": []
  },
  {
   "cell_type": "code",
   "execution_count": 18,
   "metadata": {},
   "outputs": [],
   "source": [
    "numFSPs = pd.DataFrame({'numFSPs' : df_FSPs.groupby([\"__event__\"]).size()}).reset_index()"
   ]
  },
  {
   "cell_type": "code",
   "execution_count": 19,
   "metadata": {},
   "outputs": [
    {
     "data": {
      "text/plain": [
       "count    51903.000000\n",
       "mean        26.252876\n",
       "std          5.850494\n",
       "min          7.000000\n",
       "25%         22.000000\n",
       "50%         26.000000\n",
       "75%         30.000000\n",
       "max         65.000000\n",
       "Name: numFSPs, dtype: float64"
      ]
     },
     "execution_count": 19,
     "metadata": {},
     "output_type": "execute_result"
    }
   ],
   "source": [
    "numFSPs[\"numFSPs\"].describe()"
   ]
  },
  {
   "cell_type": "markdown",
   "metadata": {},
   "source": [
    "## add the basf2 label"
   ]
  },
  {
   "cell_type": "code",
   "execution_count": 20,
   "metadata": {},
   "outputs": [],
   "source": [
    "def basf2_label(s):\n",
    "    label = 0\n",
    " \n",
    "    if s[\"basf2_X\"] == 1.0:\n",
    "        label = 1 # particle belongs to X \n",
    "    elif s[\"basf2_Bsig\"] == 1.0:\n",
    "        label = 2 # particle belongs to Bsig \n",
    "    elif s[\"basf2_used\"] == 0.0:\n",
    "        label = 0 # background  \n",
    "        \n",
    "    return label"
   ]
  },
  {
   "cell_type": "code",
   "execution_count": 21,
   "metadata": {},
   "outputs": [],
   "source": [
    "df_FSPs['basf2_label'] = df_FSPs.apply(basf2_label, axis=1)"
   ]
  },
  {
   "cell_type": "code",
   "execution_count": 22,
   "metadata": {},
   "outputs": [],
   "source": [
    "def labels(s):\n",
    "    label = -1\n",
    "    if int(s['B_ID']) == 0:\n",
    "        label = 0 # background, cause not related to MC Particles\n",
    "    else: \n",
    "        event_num = (s['__event__'])\n",
    "        B_sigID = df_Y4S[df_Y4S['__event__'] == event_num].iloc[0]['Bsig_uniqParID']\n",
    "        \n",
    "        if int(s['B_ID']) == B_sigID:\n",
    "            label = 2 # Bsig\n",
    "        else:\n",
    "            label = 1 #X\n",
    "    return label"
   ]
  },
  {
   "cell_type": "code",
   "execution_count": 23,
   "metadata": {},
   "outputs": [],
   "source": [
    "df_FSPs['B_ID'] = df_FSPs.apply(B_ID, axis=1)"
   ]
  },
  {
   "cell_type": "code",
   "execution_count": 24,
   "metadata": {},
   "outputs": [],
   "source": [
    "df_FSPs['label'] = df_FSPs.apply(labels, axis=1)"
   ]
  },
  {
   "cell_type": "code",
   "execution_count": 25,
   "metadata": {},
   "outputs": [],
   "source": [
    "df_FSPs['basf2_correct'] = (df_FSPs['basf2_label'] == df_FSPs['label'])"
   ]
  },
  {
   "cell_type": "code",
   "execution_count": 26,
   "metadata": {},
   "outputs": [
    {
     "name": "stdout",
     "output_type": "stream",
     "text": [
      "The history saving thread hit an unexpected error (DatabaseError('database disk image is malformed')).History will not be written to the database.\n"
     ]
    },
    {
     "data": {
      "text/plain": [
       "count     1362603\n",
       "unique          2\n",
       "top          True\n",
       "freq       771541\n",
       "Name: basf2_correct, dtype: object"
      ]
     },
     "execution_count": 26,
     "metadata": {},
     "output_type": "execute_result"
    }
   ],
   "source": [
    "df_FSPs['basf2_correct'].describe()"
   ]
  },
  {
   "cell_type": "markdown",
   "metadata": {},
   "source": [
    "## save df's"
   ]
  },
  {
   "cell_type": "code",
   "execution_count": 27,
   "metadata": {},
   "outputs": [],
   "source": [
    "df_FSPs.to_csv(root_path + \"FSPs_preProcessed_basf2Perf.csv\")\n",
    "df_Y4S.to_csv(root_path + \"Y4S_preProcessed_basf2Perf.csv\")"
   ]
  },
  {
   "cell_type": "markdown",
   "metadata": {},
   "source": [
    "## load df's"
   ]
  },
  {
   "cell_type": "code",
   "execution_count": 3,
   "metadata": {},
   "outputs": [],
   "source": [
    "df_FSPs = pd.read_csv(root_path + \"FSPs_preProcessed_basf2Perf.csv\")\n",
    "df_Y4S = pd.read_csv(root_path + \"Y4S_preProcessed_basf2Perf.csv\")"
   ]
  },
  {
   "cell_type": "markdown",
   "metadata": {},
   "source": [
    "## plot num particles"
   ]
  },
  {
   "cell_type": "code",
   "execution_count": 6,
   "metadata": {},
   "outputs": [
    {
     "data": {
      "image/png": "[encoded data removed]",
      "text/plain": [
       "<Figure size 576x360 with 1 Axes>"
      ]
     },
     "metadata": {
      "needs_background": "light"
     },
     "output_type": "display_data"
    }
   ],
   "source": [
    "bins = np.linspace(0, 30, 30)\n",
    "neutrals = df_FSPs[df_FSPs[\"PDG\"] == 22.]\n",
    "charged = df_FSPs[df_FSPs[\"PDG\"] != 22.]\n",
    "\n",
    "numFSPs_all = pd.DataFrame({'count' : df_FSPs.groupby( [\"__event__\"] ).size()}).reset_index()\n",
    "numFSPs_charged = pd.DataFrame({'count' : charged.groupby( [\"__event__\"] ).size()}).reset_index()\n",
    "numFSPs_neutral = pd.DataFrame({'count' : neutrals.groupby( [\"__event__\"] ).size()}).reset_index()\n",
    "\n",
    "\n",
    "fig, ax = plt.subplots()\n",
    "fig.suptitle(r'Number of FSPs per event')\n",
    "fig.set_size_inches(8, 5)\n",
    "\n",
    "ax.set_xlabel(r'number of FSPs per event')\n",
    "ax.set_ylabel(\"fraction of events\")\n",
    "\n",
    "ax.hist(numFSPs_all[\"count\"],bins=bins,density=True, alpha=0.5, label=(r'total'),histtype='step')\n",
    "ax.hist(numFSPs_neutral[\"count\"],bins=bins,density=True, alpha=0.5, label=(r'neutrals'),histtype='step')\n",
    "ax.hist(numFSPs_charged[\"count\"],bins=bins,density=True, alpha=0.5, label=(r'charged'),histtype='step')\n",
    "\n",
    "ax.legend(loc='upper right')\n",
    "\n",
    "\n",
    "plt.savefig('numFSPs_Gmodes_basf2Performance.pdf')"
   ]
  },
  {
   "cell_type": "code",
   "execution_count": 28,
   "metadata": {},
   "outputs": [
    {
     "data": {
      "text/plain": [
       "count    51903.000000\n",
       "mean        26.252876\n",
       "std          5.850494\n",
       "min          7.000000\n",
       "25%         22.000000\n",
       "50%         26.000000\n",
       "75%         30.000000\n",
       "max         65.000000\n",
       "Name: count, dtype: float64"
      ]
     },
     "execution_count": 28,
     "metadata": {},
     "output_type": "execute_result"
    }
   ],
   "source": [
    "numFSPs_all = pd.DataFrame({'count' : df_FSPs.groupby( [\"__event__\"] ).size()}).reset_index()\n",
    "numFSPs_all[\"count\"].describe()"
   ]
  },
  {
   "cell_type": "code",
   "execution_count": null,
   "metadata": {},
   "outputs": [],
   "source": []
  },
  {
   "cell_type": "markdown",
   "metadata": {},
   "source": [
    "## check the assignment accuracy of basf2"
   ]
  },
  {
   "cell_type": "code",
   "execution_count": 29,
   "metadata": {},
   "outputs": [
    {
     "data": {
      "text/html": [
       "<div>\n",
       "<style scoped>\n",
       "    .dataframe tbody tr th:only-of-type {\n",
       "        vertical-align: middle;\n",
       "    }\n",
       "\n",
       "    .dataframe tbody tr th {\n",
       "        vertical-align: top;\n",
       "    }\n",
       "\n",
       "    .dataframe thead th {\n",
       "        text-align: right;\n",
       "    }\n",
       "</style>\n",
       "<table border=\"1\" class=\"dataframe\">\n",
       "  <thead>\n",
       "    <tr style=\"text-align: right;\">\n",
       "      <th></th>\n",
       "      <th>label</th>\n",
       "      <th>basf2_label</th>\n",
       "      <th>count</th>\n",
       "    </tr>\n",
       "  </thead>\n",
       "  <tbody>\n",
       "    <tr>\n",
       "      <th>0</th>\n",
       "      <td>0</td>\n",
       "      <td>0</td>\n",
       "      <td>420653</td>\n",
       "    </tr>\n",
       "    <tr>\n",
       "      <th>1</th>\n",
       "      <td>0</td>\n",
       "      <td>1</td>\n",
       "      <td>107504</td>\n",
       "    </tr>\n",
       "    <tr>\n",
       "      <th>2</th>\n",
       "      <td>0</td>\n",
       "      <td>2</td>\n",
       "      <td>21493</td>\n",
       "    </tr>\n",
       "    <tr>\n",
       "      <th>3</th>\n",
       "      <td>1</td>\n",
       "      <td>0</td>\n",
       "      <td>147071</td>\n",
       "    </tr>\n",
       "    <tr>\n",
       "      <th>4</th>\n",
       "      <td>1</td>\n",
       "      <td>1</td>\n",
       "      <td>350888</td>\n",
       "    </tr>\n",
       "    <tr>\n",
       "      <th>5</th>\n",
       "      <td>1</td>\n",
       "      <td>2</td>\n",
       "      <td>314994</td>\n",
       "    </tr>\n",
       "  </tbody>\n",
       "</table>\n",
       "</div>"
      ],
      "text/plain": [
       "   label  basf2_label   count\n",
       "0      0            0  420653\n",
       "1      0            1  107504\n",
       "2      0            2   21493\n",
       "3      1            0  147071\n",
       "4      1            1  350888\n",
       "5      1            2  314994"
      ]
     },
     "execution_count": 29,
     "metadata": {},
     "output_type": "execute_result"
    }
   ],
   "source": [
    "groupsAllFSPs = pd.DataFrame({'count' : df_FSPs.groupby([\"label\",\"basf2_label\"]).size()}).reset_index()\n",
    "groupsAllFSPs"
   ]
  },
  {
   "cell_type": "code",
   "execution_count": 30,
   "metadata": {},
   "outputs": [
    {
     "name": "stdout",
     "output_type": "stream",
     "text": [
      "accuracy of basf2 for all particles: 56.62 %\n"
     ]
    }
   ],
   "source": [
    "print(\"accuracy of basf2 for all particles:\",round(df_FSPs[df_FSPs[\"basf2_correct\"] == True].shape[0] / df_FSPs.shape[0] *100,2),'%')"
   ]
  },
  {
   "cell_type": "code",
   "execution_count": 31,
   "metadata": {},
   "outputs": [
    {
     "data": {
      "text/plain": [
       "51903"
      ]
     },
     "execution_count": 31,
     "metadata": {},
     "output_type": "execute_result"
    }
   ],
   "source": [
    "numFSPs.shape[0]"
   ]
  },
  {
   "cell_type": "code",
   "execution_count": 32,
   "metadata": {},
   "outputs": [
    {
     "data": {
      "text/html": [
       "<div>\n",
       "<style scoped>\n",
       "    .dataframe tbody tr th:only-of-type {\n",
       "        vertical-align: middle;\n",
       "    }\n",
       "\n",
       "    .dataframe tbody tr th {\n",
       "        vertical-align: top;\n",
       "    }\n",
       "\n",
       "    .dataframe thead th {\n",
       "        text-align: right;\n",
       "    }\n",
       "</style>\n",
       "<table border=\"1\" class=\"dataframe\">\n",
       "  <thead>\n",
       "    <tr style=\"text-align: right;\">\n",
       "      <th></th>\n",
       "      <th>__event__</th>\n",
       "      <th>corrects</th>\n",
       "      <th>numFSPs</th>\n",
       "    </tr>\n",
       "  </thead>\n",
       "  <tbody>\n",
       "    <tr>\n",
       "      <th>0</th>\n",
       "      <td>557</td>\n",
       "      <td>12</td>\n",
       "      <td>25</td>\n",
       "    </tr>\n",
       "    <tr>\n",
       "      <th>1</th>\n",
       "      <td>903</td>\n",
       "      <td>21</td>\n",
       "      <td>30</td>\n",
       "    </tr>\n",
       "    <tr>\n",
       "      <th>2</th>\n",
       "      <td>2070</td>\n",
       "      <td>20</td>\n",
       "      <td>34</td>\n",
       "    </tr>\n",
       "    <tr>\n",
       "      <th>3</th>\n",
       "      <td>2646</td>\n",
       "      <td>20</td>\n",
       "      <td>27</td>\n",
       "    </tr>\n",
       "    <tr>\n",
       "      <th>4</th>\n",
       "      <td>3403</td>\n",
       "      <td>19</td>\n",
       "      <td>32</td>\n",
       "    </tr>\n",
       "    <tr>\n",
       "      <th>...</th>\n",
       "      <td>...</td>\n",
       "      <td>...</td>\n",
       "      <td>...</td>\n",
       "    </tr>\n",
       "    <tr>\n",
       "      <th>51898</th>\n",
       "      <td>50996982</td>\n",
       "      <td>20</td>\n",
       "      <td>34</td>\n",
       "    </tr>\n",
       "    <tr>\n",
       "      <th>51899</th>\n",
       "      <td>50997399</td>\n",
       "      <td>14</td>\n",
       "      <td>24</td>\n",
       "    </tr>\n",
       "    <tr>\n",
       "      <th>51900</th>\n",
       "      <td>50997576</td>\n",
       "      <td>10</td>\n",
       "      <td>21</td>\n",
       "    </tr>\n",
       "    <tr>\n",
       "      <th>51901</th>\n",
       "      <td>50997788</td>\n",
       "      <td>12</td>\n",
       "      <td>26</td>\n",
       "    </tr>\n",
       "    <tr>\n",
       "      <th>51902</th>\n",
       "      <td>50999237</td>\n",
       "      <td>13</td>\n",
       "      <td>28</td>\n",
       "    </tr>\n",
       "  </tbody>\n",
       "</table>\n",
       "<p>51903 rows × 3 columns</p>\n",
       "</div>"
      ],
      "text/plain": [
       "       __event__  corrects  numFSPs\n",
       "0            557        12       25\n",
       "1            903        21       30\n",
       "2           2070        20       34\n",
       "3           2646        20       27\n",
       "4           3403        19       32\n",
       "...          ...       ...      ...\n",
       "51898   50996982        20       34\n",
       "51899   50997399        14       24\n",
       "51900   50997576        10       21\n",
       "51901   50997788        12       26\n",
       "51902   50999237        13       28\n",
       "\n",
       "[51903 rows x 3 columns]"
      ]
     },
     "execution_count": 32,
     "metadata": {},
     "output_type": "execute_result"
    }
   ],
   "source": [
    "groupsAllFSPs = pd.DataFrame({'corrects' : df_FSPs.groupby( [\"__event__\",\"basf2_correct\"] ).size()}).reset_index()\n",
    "basf2_failureCount = groupsAllFSPs[groupsAllFSPs[\"basf2_correct\"] == True]\n",
    "\n",
    "numFSPs = pd.DataFrame({'numFSPs' : df_FSPs.groupby([\"__event__\"]).size()}).reset_index()\n",
    "\n",
    "basf2_stats = pd.merge(basf2_failureCount[[\"__event__\",\"corrects\"]],numFSPs[[\"__event__\",\"numFSPs\"]], on=\"__event__\")\n",
    "\n",
    "\n",
    "basf2_stats"
   ]
  },
  {
   "cell_type": "code",
   "execution_count": 33,
   "metadata": {},
   "outputs": [
    {
     "data": {
      "text/html": [
       "<div>\n",
       "<style scoped>\n",
       "    .dataframe tbody tr th:only-of-type {\n",
       "        vertical-align: middle;\n",
       "    }\n",
       "\n",
       "    .dataframe tbody tr th {\n",
       "        vertical-align: top;\n",
       "    }\n",
       "\n",
       "    .dataframe thead th {\n",
       "        text-align: right;\n",
       "    }\n",
       "</style>\n",
       "<table border=\"1\" class=\"dataframe\">\n",
       "  <thead>\n",
       "    <tr style=\"text-align: right;\">\n",
       "      <th></th>\n",
       "      <th>__event__</th>\n",
       "      <th>corrects</th>\n",
       "      <th>numFSPs</th>\n",
       "      <th>wrongs</th>\n",
       "    </tr>\n",
       "  </thead>\n",
       "  <tbody>\n",
       "    <tr>\n",
       "      <th>0</th>\n",
       "      <td>557</td>\n",
       "      <td>12</td>\n",
       "      <td>25</td>\n",
       "      <td>13</td>\n",
       "    </tr>\n",
       "    <tr>\n",
       "      <th>1</th>\n",
       "      <td>903</td>\n",
       "      <td>21</td>\n",
       "      <td>30</td>\n",
       "      <td>9</td>\n",
       "    </tr>\n",
       "    <tr>\n",
       "      <th>2</th>\n",
       "      <td>2070</td>\n",
       "      <td>20</td>\n",
       "      <td>34</td>\n",
       "      <td>14</td>\n",
       "    </tr>\n",
       "    <tr>\n",
       "      <th>3</th>\n",
       "      <td>2646</td>\n",
       "      <td>20</td>\n",
       "      <td>27</td>\n",
       "      <td>7</td>\n",
       "    </tr>\n",
       "    <tr>\n",
       "      <th>4</th>\n",
       "      <td>3403</td>\n",
       "      <td>19</td>\n",
       "      <td>32</td>\n",
       "      <td>13</td>\n",
       "    </tr>\n",
       "    <tr>\n",
       "      <th>...</th>\n",
       "      <td>...</td>\n",
       "      <td>...</td>\n",
       "      <td>...</td>\n",
       "      <td>...</td>\n",
       "    </tr>\n",
       "    <tr>\n",
       "      <th>51898</th>\n",
       "      <td>50996982</td>\n",
       "      <td>20</td>\n",
       "      <td>34</td>\n",
       "      <td>14</td>\n",
       "    </tr>\n",
       "    <tr>\n",
       "      <th>51899</th>\n",
       "      <td>50997399</td>\n",
       "      <td>14</td>\n",
       "      <td>24</td>\n",
       "      <td>10</td>\n",
       "    </tr>\n",
       "    <tr>\n",
       "      <th>51900</th>\n",
       "      <td>50997576</td>\n",
       "      <td>10</td>\n",
       "      <td>21</td>\n",
       "      <td>11</td>\n",
       "    </tr>\n",
       "    <tr>\n",
       "      <th>51901</th>\n",
       "      <td>50997788</td>\n",
       "      <td>12</td>\n",
       "      <td>26</td>\n",
       "      <td>14</td>\n",
       "    </tr>\n",
       "    <tr>\n",
       "      <th>51902</th>\n",
       "      <td>50999237</td>\n",
       "      <td>13</td>\n",
       "      <td>28</td>\n",
       "      <td>15</td>\n",
       "    </tr>\n",
       "  </tbody>\n",
       "</table>\n",
       "<p>51903 rows × 4 columns</p>\n",
       "</div>"
      ],
      "text/plain": [
       "       __event__  corrects  numFSPs  wrongs\n",
       "0            557        12       25      13\n",
       "1            903        21       30       9\n",
       "2           2070        20       34      14\n",
       "3           2646        20       27       7\n",
       "4           3403        19       32      13\n",
       "...          ...       ...      ...     ...\n",
       "51898   50996982        20       34      14\n",
       "51899   50997399        14       24      10\n",
       "51900   50997576        10       21      11\n",
       "51901   50997788        12       26      14\n",
       "51902   50999237        13       28      15\n",
       "\n",
       "[51903 rows x 4 columns]"
      ]
     },
     "execution_count": 33,
     "metadata": {},
     "output_type": "execute_result"
    }
   ],
   "source": [
    "basf2_stats[\"wrongs\"] = basf2_stats[\"numFSPs\"] - basf2_stats[\"corrects\"] \n",
    "basf2_stats"
   ]
  },
  {
   "cell_type": "code",
   "execution_count": null,
   "metadata": {},
   "outputs": [],
   "source": [
    "bins = np.linspace(0, 30, 30)\n",
    "fig, ax = plt.subplots()\n",
    "fig.suptitle(r'----')\n",
    "fig.set_size_inches(8, 5)\n",
    "\n",
    "ax.set_xlabel(r'number of wrong assignments per event')\n",
    "ax.set_ylabel(\"fraction of total events\")\n",
    "\n",
    "ax.hist(basf2_stats[\"wrongs\"],bins=bins,density=True, alpha=0.5, label=(r'---'),histtype='step')\n",
    "#ax.hist(numFSPs_charged[\"count\"],bins=bins,density=True, alpha=0.5, label=(r'charged'),histtype='step')\n",
    "#ax.hist(numFSPs[\"count\"],bins=bins,density=True, alpha=0.5, label=(r'total'),histtype='step')\n",
    "\n",
    "\n",
    "\n",
    "\n",
    "ax.legend(loc='upper right')\n",
    "\n",
    "#plt.savefig('dataSetAnaPlots/numFSPs_histo_NAHSrun1_neutrals_charged.pdf')"
   ]
  },
  {
   "cell_type": "code",
   "execution_count": 34,
   "metadata": {},
   "outputs": [
    {
     "name": "stdout",
     "output_type": "stream",
     "text": [
      "accuracy of basf2 for all particles: 56.62 %\n",
      "BASF2 assignment errors per event \n",
      "\n",
      "0 errors: 0.0 %\n",
      "1 errors: 0.0 %\n",
      "2 errors: 0.0 %\n",
      "3 errors: 0.0 %\n",
      "more than 3 errors: 100.0 %\n"
     ]
    }
   ],
   "source": [
    "print(\"accuracy of basf2 for all particles:\",round(df_FSPs[df_FSPs[\"basf2_correct\"] == True].shape[0] / df_FSPs.shape[0] *100,2),'%')\n",
    "\n",
    "print(\"BASF2 assignment errors per event \\n\")\n",
    "\n",
    "numEvts = basf2_stats.shape[0]\n",
    "for i in range(4):\n",
    "    print(i, 'errors:', round(basf2_stats[basf2_stats[\"wrongs\"] == i].shape[0]  /  numEvts * 100, 2),'%')\n",
    "\n",
    "i = 3\n",
    "print('more than',i, 'errors:', round(basf2_stats[basf2_stats[\"wrongs\"] > i].shape[0]  /  numEvts * 100, 2),'%')"
   ]
  },
  {
   "cell_type": "code",
   "execution_count": 35,
   "metadata": {},
   "outputs": [
    {
     "data": {
      "text/plain": [
       "count    51903.000000\n",
       "mean        11.387820\n",
       "std          2.803105\n",
       "min          4.000000\n",
       "25%          9.000000\n",
       "50%         11.000000\n",
       "75%         13.000000\n",
       "max         27.000000\n",
       "Name: wrongs, dtype: float64"
      ]
     },
     "execution_count": 35,
     "metadata": {},
     "output_type": "execute_result"
    }
   ],
   "source": [
    "basf2_stats[\"wrongs\"].describe()"
   ]
  },
  {
   "cell_type": "code",
   "execution_count": null,
   "metadata": {},
   "outputs": [],
   "source": []
  }
 ],
 "metadata": {
  "kernelspec": {
   "display_name": "Python 3",
   "language": "python",
   "name": "python3"
  },
  "language_info": {
   "codemirror_mode": {
    "name": "ipython",
    "version": 3
   },
   "file_extension": ".py",
   "mimetype": "text/x-python",
   "name": "python",
   "nbconvert_exporter": "python",
   "pygments_lexer": "ipython3",
   "version": "3.8.6"
  }
 },
 "nbformat": 4,
 "nbformat_minor": 5
}
