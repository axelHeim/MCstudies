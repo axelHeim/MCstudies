{
 "cells": [
  {
   "cell_type": "code",
   "execution_count": 1,
   "metadata": {},
   "outputs": [],
   "source": [
    "import matplotlib.pyplot as plt\n",
    "import uproot\n",
    "import numpy as np\n",
    "import pandas as pd\n",
    "\n",
    "from pathlib import Path\n",
    "from sklearn.model_selection import train_test_split\n",
    "\n",
    "from datetime import datetime\n",
    "import sys"
   ]
  },
  {
   "cell_type": "code",
   "execution_count": 4,
   "metadata": {},
   "outputs": [],
   "source": [
    "nfs_path = \"/nfs/dust/belle2/user/axelheim/MC_studies/Dstlnu_Bt_generic/\"\n",
    "\n",
    "#data_subdir = \"Dstlnu_Hc_corr_BsigX_separation_dataRun1/\"   \n",
    "#root_subdir = \"axheim_data2_MC14_100kEvts/\"   \n",
    "\n",
    "root_path = \"/nfs/dust/belle2/user/axelheim/MC_studies/Dstlnu_Bt_generic/SHR_Hc_correctReco_BsX/SHR_dataSteering_run1/\""
   ]
  },
  {
   "cell_type": "markdown",
   "metadata": {},
   "source": [
    "## load dataframe"
   ]
  },
  {
   "cell_type": "code",
   "execution_count": 5,
   "metadata": {},
   "outputs": [],
   "source": [
    "df_FSPs = pd.read_csv(root_path + \"final_df_FSPs_preProcessed_SHR_gamma100cut.csv\")\n",
    "df_Y4S = pd.read_csv(root_path + \"final_df_Y4S_preProcessed_SHR.csv\")"
   ]
  },
  {
   "cell_type": "markdown",
   "metadata": {},
   "source": [
    "## analysis"
   ]
  },
  {
   "cell_type": "code",
   "execution_count": 6,
   "metadata": {},
   "outputs": [],
   "source": [
    "groupsAllFSPs = pd.DataFrame({'count' : df_FSPs.groupby([\"__event__\"]).size()}).reset_index()"
   ]
  },
  {
   "cell_type": "code",
   "execution_count": 12,
   "metadata": {},
   "outputs": [
    {
     "data": {
      "text/html": [
       "<div>\n",
       "<style scoped>\n",
       "    .dataframe tbody tr th:only-of-type {\n",
       "        vertical-align: middle;\n",
       "    }\n",
       "\n",
       "    .dataframe tbody tr th {\n",
       "        vertical-align: top;\n",
       "    }\n",
       "\n",
       "    .dataframe thead th {\n",
       "        text-align: right;\n",
       "    }\n",
       "</style>\n",
       "<table border=\"1\" class=\"dataframe\">\n",
       "  <thead>\n",
       "    <tr style=\"text-align: right;\">\n",
       "      <th></th>\n",
       "      <th>__event__</th>\n",
       "      <th>count</th>\n",
       "    </tr>\n",
       "  </thead>\n",
       "  <tbody>\n",
       "    <tr>\n",
       "      <th>0</th>\n",
       "      <td>557</td>\n",
       "      <td>14</td>\n",
       "    </tr>\n",
       "    <tr>\n",
       "      <th>1</th>\n",
       "      <td>903</td>\n",
       "      <td>17</td>\n",
       "    </tr>\n",
       "    <tr>\n",
       "      <th>2</th>\n",
       "      <td>2070</td>\n",
       "      <td>16</td>\n",
       "    </tr>\n",
       "    <tr>\n",
       "      <th>3</th>\n",
       "      <td>2646</td>\n",
       "      <td>17</td>\n",
       "    </tr>\n",
       "    <tr>\n",
       "      <th>4</th>\n",
       "      <td>3403</td>\n",
       "      <td>15</td>\n",
       "    </tr>\n",
       "    <tr>\n",
       "      <th>...</th>\n",
       "      <td>...</td>\n",
       "      <td>...</td>\n",
       "    </tr>\n",
       "    <tr>\n",
       "      <th>53468</th>\n",
       "      <td>50996982</td>\n",
       "      <td>17</td>\n",
       "    </tr>\n",
       "    <tr>\n",
       "      <th>53469</th>\n",
       "      <td>50997399</td>\n",
       "      <td>13</td>\n",
       "    </tr>\n",
       "    <tr>\n",
       "      <th>53470</th>\n",
       "      <td>50997576</td>\n",
       "      <td>10</td>\n",
       "    </tr>\n",
       "    <tr>\n",
       "      <th>53471</th>\n",
       "      <td>50997788</td>\n",
       "      <td>16</td>\n",
       "    </tr>\n",
       "    <tr>\n",
       "      <th>53472</th>\n",
       "      <td>50999237</td>\n",
       "      <td>17</td>\n",
       "    </tr>\n",
       "  </tbody>\n",
       "</table>\n",
       "<p>53473 rows × 2 columns</p>\n",
       "</div>"
      ],
      "text/plain": [
       "       __event__  count\n",
       "0            557     14\n",
       "1            903     17\n",
       "2           2070     16\n",
       "3           2646     17\n",
       "4           3403     15\n",
       "...          ...    ...\n",
       "53468   50996982     17\n",
       "53469   50997399     13\n",
       "53470   50997576     10\n",
       "53471   50997788     16\n",
       "53472   50999237     17\n",
       "\n",
       "[53473 rows x 2 columns]"
      ]
     },
     "execution_count": 12,
     "metadata": {},
     "output_type": "execute_result"
    }
   ],
   "source": [
    "groupsAllFSPs"
   ]
  },
  {
   "cell_type": "code",
   "execution_count": 8,
   "metadata": {},
   "outputs": [
    {
     "data": {
      "text/plain": [
       "count    53473.000000\n",
       "mean        15.198193\n",
       "std          3.695903\n",
       "min          5.000000\n",
       "25%         13.000000\n",
       "50%         15.000000\n",
       "75%         18.000000\n",
       "max         44.000000\n",
       "Name: count, dtype: float64"
      ]
     },
     "execution_count": 8,
     "metadata": {},
     "output_type": "execute_result"
    }
   ],
   "source": [
    "groupsAllFSPs[\"count\"].describe()"
   ]
  },
  {
   "cell_type": "code",
   "execution_count": 19,
   "metadata": {},
   "outputs": [
    {
     "name": "stdout",
     "output_type": "stream",
     "text": [
      "23\n",
      "28\n",
      "25\n",
      "23\n",
      "25\n",
      "26\n",
      "26\n",
      "34\n",
      "30\n",
      "33\n"
     ]
    }
   ],
   "source": [
    "for i in range(10):\n",
    "    sample = groupsAllFSPs.sample(n=128)\n",
    "    print(sample[\"count\"].max())"
   ]
  },
  {
   "cell_type": "code",
   "execution_count": 7,
   "metadata": {},
   "outputs": [
    {
     "data": {
      "text/plain": [
       "<AxesSubplot:>"
      ]
     },
     "execution_count": 7,
     "metadata": {},
     "output_type": "execute_result"
    },
    {
     "data": {
      "image/png": "[encoded data removed]",
      "text/plain": [
       "<Figure size 432x288 with 1 Axes>"
      ]
     },
     "metadata": {
      "needs_background": "light"
     },
     "output_type": "display_data"
    }
   ],
   "source": [
    "groupsAllFSPs[\"count\"].hist()"
   ]
  },
  {
   "cell_type": "code",
   "execution_count": 16,
   "metadata": {},
   "outputs": [],
   "source": [
    "cut_groupsAllFSPs = groupsAllFSPs[groupsAllFSPs[\"count\"] < 30]"
   ]
  },
  {
   "cell_type": "code",
   "execution_count": 24,
   "metadata": {},
   "outputs": [
    {
     "name": "stdout",
     "output_type": "stream",
     "text": [
      "percentile 0.8\n",
      "for uncut data: 18.0\n",
      "for cut data: 18.0\n",
      "percentile 0.85\n",
      "for uncut data: 19.0\n",
      "for cut data: 19.0\n",
      "percentile 0.9\n",
      "for uncut data: 20.0\n",
      "for cut data: 20.0\n",
      "percentile 0.95\n",
      "for uncut data: 21.0\n",
      "for cut data: 21.0\n",
      "percentile 0.975\n",
      "for uncut data: 23.0\n",
      "for cut data: 22.0\n",
      "percentile 0.98\n",
      "for uncut data: 23.0\n",
      "for cut data: 23.0\n",
      "percentile 0.99\n",
      "for uncut data: 25.0\n",
      "for cut data: 24.0\n",
      "percentile 0.995\n",
      "for uncut data: 27.0\n",
      "for cut data: 26.0\n",
      "percentile 0.996\n",
      "for uncut data: 28.0\n",
      "for cut data: 26.0\n",
      "percentile 0.997\n",
      "for uncut data: 29.0\n",
      "for cut data: 27.0\n",
      "percentile 0.998\n",
      "for uncut data: 30.0\n",
      "for cut data: 27.313999999998487\n",
      "percentile 0.999\n",
      "for uncut data: 32.0\n",
      "for cut data: 28.0\n"
     ]
    }
   ],
   "source": [
    "for percentile in [0.8,0.85,0.9,0.95,0.975,0.98,0.99,0.995,0.996,0.997,0.998,0.999]:\n",
    "    valueCut = cut_groupsAllFSPs[\"count\"].quantile(q=percentile)\n",
    "    value = groupsAllFSPs[\"count\"].quantile(q=percentile)\n",
    "    \n",
    "    print(\"percentile\",percentile)\n",
    "    \n",
    "    print(\"for uncut data:\",value)    \n",
    "    print(\"for cut data:\",valueCut)"
   ]
  },
  {
   "cell_type": "code",
   "execution_count": 18,
   "metadata": {},
   "outputs": [
    {
     "data": {
      "text/plain": [
       "<AxesSubplot:>"
      ]
     },
     "execution_count": 18,
     "metadata": {},
     "output_type": "execute_result"
    },
    {
     "data": {
      "image/png": "[encoded data removed]",
      "text/plain": [
       "<Figure size 432x288 with 1 Axes>"
      ]
     },
     "metadata": {
      "needs_background": "light"
     },
     "output_type": "display_data"
    }
   ],
   "source": [
    "cut_groupsAllFSPs[\"count\"].hist()"
   ]
  },
  {
   "cell_type": "code",
   "execution_count": 21,
   "metadata": {},
   "outputs": [],
   "source": [
    "liste1=[]\n",
    "liste2=[]\n",
    "for i in range(100):\n",
    "    sample = groupsAllFSPs.sample(n=128)\n",
    "    sample2 = cut_groupsAllFSPs.sample(n=128)\n",
    "    liste1.append(sample[\"count\"].max())\n",
    "    liste2.append(sample2[\"count\"].max())\n",
    "    \n",
    "    #print(sample[\"count\"].max(),sample2[\"count\"].max())"
   ]
  },
  {
   "cell_type": "code",
   "execution_count": 26,
   "metadata": {},
   "outputs": [
    {
     "data": {
      "image/png": "[encoded data removed]",
      "text/plain": [
       "<Figure size 576x360 with 1 Axes>"
      ]
     },
     "metadata": {
      "needs_background": "light"
     },
     "output_type": "display_data"
    }
   ],
   "source": [
    "bins = np.linspace(15, 50, 35)\n",
    "fig, ax = plt.subplots()\n",
    "fig.suptitle(r'number of highest FSP number per batch (n=128)')\n",
    "fig.set_size_inches(8, 5)\n",
    "\n",
    "ax.set_xlabel(r'max number of particles per event in batch')\n",
    "ax.set_ylabel(\"fraction of total events\")\n",
    "\n",
    "ax.hist(liste1,bins=bins,density=True, alpha=0.5, label=(r'no cut'),histtype='step')\n",
    "ax.hist(liste2,bins=bins,density=True, alpha=0.5, label=(r'cut on top 0.2%'),histtype='step')\n",
    "\n",
    "\n",
    "\n",
    "ax.legend(loc='upper right')\n",
    "\n",
    "plt.savefig('maxNumFSPs_histo_SHR_run1data_perBatch.pdf')"
   ]
  },
  {
   "cell_type": "code",
   "execution_count": null,
   "metadata": {},
   "outputs": [],
   "source": [
    "#df_FSPs = df_FSPs[df_FSPs['__event__'].isin(df_Y4S[\"__event__\"])]"
   ]
  }
 ],
 "metadata": {
  "kernelspec": {
   "display_name": "Python 3",
   "language": "python",
   "name": "python3"
  },
  "language_info": {
   "codemirror_mode": {
    "name": "ipython",
    "version": 3
   },
   "file_extension": ".py",
   "mimetype": "text/x-python",
   "name": "python",
   "nbconvert_exporter": "python",
   "pygments_lexer": "ipython3",
   "version": "3.6.8"
  }
 },
 "nbformat": 4,
 "nbformat_minor": 4
}
