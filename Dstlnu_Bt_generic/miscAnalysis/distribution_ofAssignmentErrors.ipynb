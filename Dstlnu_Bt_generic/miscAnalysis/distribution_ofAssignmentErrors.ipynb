{
 "cells": [
  {
   "cell_type": "code",
   "execution_count": 1,
   "id": "39125647",
   "metadata": {},
   "outputs": [],
   "source": [
    "import numpy as np\n",
    "import pandas as pd\n",
    "from pathlib import Path\n",
    "import matplotlib as mpl\n",
    "import matplotlib.pyplot as plt\n",
    "import math\n",
    "\n",
    "import sys\n",
    "sys.path.insert(1, '/afs/desy.de/user/a/axelheim/private/MC_studies/Dstlnu_Bt_generic/util_funcs/')\n",
    "from pandas_colFuncs_physicsVars import Mbc_Btag, MM2recoilSignalSide, deltaE"
   ]
  },
  {
   "cell_type": "code",
   "execution_count": null,
   "id": "0f2225f6",
   "metadata": {},
   "outputs": [],
   "source": []
  },
  {
   "cell_type": "code",
   "execution_count": null,
   "id": "c9b8477b",
   "metadata": {},
   "outputs": [],
   "source": []
  },
  {
   "cell_type": "code",
   "execution_count": 2,
   "id": "ab7aec5d",
   "metadata": {},
   "outputs": [],
   "source": [
    "path_df = \"/nfs/dust/belle2/user/axelheim/MC_studies/Dstlnu_Bt_generic/MM2plotFromPreds/\""
   ]
  },
  {
   "cell_type": "code",
   "execution_count": 3,
   "id": "cde9d57b",
   "metadata": {},
   "outputs": [],
   "source": [
    "df = pd.read_csv(path_df + \"Gmodes_fixedD0_df_preds_onTestSet.csv\")"
   ]
  },
  {
   "cell_type": "code",
   "execution_count": null,
   "id": "86cb2464",
   "metadata": {},
   "outputs": [],
   "source": []
  },
  {
   "cell_type": "code",
   "execution_count": 5,
   "id": "05b1a413",
   "metadata": {},
   "outputs": [],
   "source": [
    "numFSPs = pd.DataFrame({'numFSPs' : df.groupby( [\"event\"] ).size()}).reset_index()"
   ]
  },
  {
   "cell_type": "code",
   "execution_count": null,
   "id": "c85c3818",
   "metadata": {},
   "outputs": [],
   "source": []
  },
  {
   "cell_type": "code",
   "execution_count": 7,
   "id": "4958846c",
   "metadata": {},
   "outputs": [
    {
     "data": {
      "text/html": [
       "<div>\n",
       "<style scoped>\n",
       "    .dataframe tbody tr th:only-of-type {\n",
       "        vertical-align: middle;\n",
       "    }\n",
       "\n",
       "    .dataframe tbody tr th {\n",
       "        vertical-align: top;\n",
       "    }\n",
       "\n",
       "    .dataframe thead th {\n",
       "        text-align: right;\n",
       "    }\n",
       "</style>\n",
       "<table border=\"1\" class=\"dataframe\">\n",
       "  <thead>\n",
       "    <tr style=\"text-align: right;\">\n",
       "      <th></th>\n",
       "      <th>event</th>\n",
       "      <th>correct</th>\n",
       "      <th>numErrors</th>\n",
       "    </tr>\n",
       "  </thead>\n",
       "  <tbody>\n",
       "    <tr>\n",
       "      <th>0</th>\n",
       "      <td>36588</td>\n",
       "      <td>0</td>\n",
       "      <td>4</td>\n",
       "    </tr>\n",
       "    <tr>\n",
       "      <th>2</th>\n",
       "      <td>37464</td>\n",
       "      <td>0</td>\n",
       "      <td>1</td>\n",
       "    </tr>\n",
       "    <tr>\n",
       "      <th>4</th>\n",
       "      <td>37653</td>\n",
       "      <td>0</td>\n",
       "      <td>6</td>\n",
       "    </tr>\n",
       "    <tr>\n",
       "      <th>6</th>\n",
       "      <td>38101</td>\n",
       "      <td>0</td>\n",
       "      <td>3</td>\n",
       "    </tr>\n",
       "    <tr>\n",
       "      <th>8</th>\n",
       "      <td>38479</td>\n",
       "      <td>0</td>\n",
       "      <td>1</td>\n",
       "    </tr>\n",
       "    <tr>\n",
       "      <th>...</th>\n",
       "      <td>...</td>\n",
       "      <td>...</td>\n",
       "      <td>...</td>\n",
       "    </tr>\n",
       "    <tr>\n",
       "      <th>100772</th>\n",
       "      <td>50998090</td>\n",
       "      <td>0</td>\n",
       "      <td>2</td>\n",
       "    </tr>\n",
       "    <tr>\n",
       "      <th>100774</th>\n",
       "      <td>50998482</td>\n",
       "      <td>0</td>\n",
       "      <td>5</td>\n",
       "    </tr>\n",
       "    <tr>\n",
       "      <th>100777</th>\n",
       "      <td>50999524</td>\n",
       "      <td>0</td>\n",
       "      <td>6</td>\n",
       "    </tr>\n",
       "    <tr>\n",
       "      <th>100779</th>\n",
       "      <td>50999934</td>\n",
       "      <td>0</td>\n",
       "      <td>4</td>\n",
       "    </tr>\n",
       "    <tr>\n",
       "      <th>100781</th>\n",
       "      <td>50999967</td>\n",
       "      <td>0</td>\n",
       "      <td>2</td>\n",
       "    </tr>\n",
       "  </tbody>\n",
       "</table>\n",
       "<p>46923 rows × 3 columns</p>\n",
       "</div>"
      ],
      "text/plain": [
       "           event  correct  numErrors\n",
       "0          36588        0          4\n",
       "2          37464        0          1\n",
       "4          37653        0          6\n",
       "6          38101        0          3\n",
       "8          38479        0          1\n",
       "...          ...      ...        ...\n",
       "100772  50998090        0          2\n",
       "100774  50998482        0          5\n",
       "100777  50999524        0          6\n",
       "100779  50999934        0          4\n",
       "100781  50999967        0          2\n",
       "\n",
       "[46923 rows x 3 columns]"
      ]
     },
     "execution_count": 7,
     "metadata": {},
     "output_type": "execute_result"
    }
   ],
   "source": [
    "percCorrect_df = pd.DataFrame({'numErrors' : df.groupby([\"event\",\"correct\"] ).size()}).reset_index()\n",
    "percCorrect_df = percCorrect_df[percCorrect_df[\"correct\"] == 0]\n",
    "percCorrect_df"
   ]
  },
  {
   "cell_type": "code",
   "execution_count": 8,
   "id": "721977dd",
   "metadata": {},
   "outputs": [],
   "source": [
    "NN_results = pd.merge(percCorrect_df[[\"event\",\"numErrors\"]],numFSPs, on=\"event\",how=\"outer\")\n"
   ]
  },
  {
   "cell_type": "code",
   "execution_count": 9,
   "id": "39b260f2",
   "metadata": {},
   "outputs": [
    {
     "data": {
      "text/plain": [
       "6949"
      ]
     },
     "execution_count": 9,
     "metadata": {},
     "output_type": "execute_result"
    }
   ],
   "source": [
    "NN_results[NN_results[\"numErrors\"].isna()].shape[0]"
   ]
  },
  {
   "cell_type": "code",
   "execution_count": 10,
   "id": "9abf0f13",
   "metadata": {},
   "outputs": [],
   "source": [
    "NN_results['numErrors'] = NN_results['numErrors'].fillna(0)"
   ]
  },
  {
   "cell_type": "code",
   "execution_count": 11,
   "id": "7952f297",
   "metadata": {
    "scrolled": true
   },
   "outputs": [
    {
     "data": {
      "text/plain": [
       "0"
      ]
     },
     "execution_count": 11,
     "metadata": {},
     "output_type": "execute_result"
    }
   ],
   "source": [
    "NN_results[NN_results[\"numErrors\"].isna()].shape[0]"
   ]
  },
  {
   "cell_type": "code",
   "execution_count": 12,
   "id": "a3234cfe",
   "metadata": {
    "scrolled": true
   },
   "outputs": [
    {
     "data": {
      "text/plain": [
       "2.0     0.169866\n",
       "1.0     0.166227\n",
       "3.0     0.152046\n",
       "0.0     0.128991\n",
       "4.0     0.128471\n",
       "5.0     0.097824\n",
       "6.0     0.066510\n",
       "7.0     0.043622\n",
       "8.0     0.023574\n",
       "9.0     0.012474\n",
       "10.0    0.005587\n",
       "11.0    0.002822\n",
       "12.0    0.001188\n",
       "13.0    0.000483\n",
       "14.0    0.000223\n",
       "15.0    0.000093\n",
       "Name: numErrors, dtype: float64"
      ]
     },
     "execution_count": 12,
     "metadata": {},
     "output_type": "execute_result"
    }
   ],
   "source": [
    "NN_results[\"numErrors\"].value_counts(normalize=True)"
   ]
  },
  {
   "cell_type": "code",
   "execution_count": 18,
   "id": "2aa92fb5",
   "metadata": {},
   "outputs": [
    {
     "data": {
      "text/plain": [
       "pandas.core.series.Series"
      ]
     },
     "execution_count": 18,
     "metadata": {},
     "output_type": "execute_result"
    }
   ],
   "source": [
    "type(NN_results[\"numErrors\"].value_counts())"
   ]
  },
  {
   "cell_type": "code",
   "execution_count": 29,
   "id": "e85a5845",
   "metadata": {},
   "outputs": [
    {
     "data": {
      "text/plain": [
       "5      569\n",
       "6     1234\n",
       "7     2060\n",
       "8     2871\n",
       "9     3729\n",
       "10    4411\n",
       "11    5019\n",
       "12    5378\n",
       "13    5401\n",
       "14    5162\n",
       "15    4688\n",
       "16    3929\n",
       "17    3069\n",
       "18    2329\n",
       "19    1626\n",
       "20    1071\n",
       "21     677\n",
       "22     410\n",
       "23     239\n",
       "Name: numFSPs, dtype: int64"
      ]
     },
     "execution_count": 29,
     "metadata": {},
     "output_type": "execute_result"
    }
   ],
   "source": [
    "valueCounts = (NN_results[\"numFSPs\"].value_counts())\n",
    "valueCounts = valueCounts.sort_index()\n",
    "valueCounts"
   ]
  },
  {
   "cell_type": "code",
   "execution_count": 35,
   "id": "a99be2c2",
   "metadata": {},
   "outputs": [],
   "source": [
    "indices = valueCounts.index\n",
    "numFSPs=[]\n",
    "for i in range(len(valueCounts)):\n",
    "    #print(indices[i],valueCounts[indices[i]])\n",
    "    numFSPs.append(valueCounts[indices[i]])"
   ]
  },
  {
   "cell_type": "code",
   "execution_count": 66,
   "id": "bd446751",
   "metadata": {},
   "outputs": [
    {
     "name": "stdout",
     "output_type": "stream",
     "text": [
      "p: 0.768 result: [0.05139052 0.15190786 0.22306449 0.22092441 0.35271273]\n"
     ]
    }
   ],
   "source": [
    "errors_list=[0,0,0,0,0]\n",
    "totalSamples=0\n",
    "\n",
    "for i in range(len(valueCounts)):\n",
    "    n = indices[i]\n",
    "    p = 0.768\n",
    "    n_samples = numFSPs[i]*100\n",
    "    totalSamples+=n_samples\n",
    "    sample = np.random.binomial(n, p,(n_samples,1))\n",
    "\n",
    "\n",
    "    tmp = np.full((n_samples,1), n)\n",
    "    errors = tmp - sample\n",
    "\n",
    "    for i in range(4):\n",
    "        num_errors = (errors == i).sum()\n",
    "        errors_list[i] += num_errors\n",
    "        #print(i,\"errors:\",round(num_errors/n_samples*100,2),\"% of events\")\n",
    "\n",
    "    num_errors = (errors > 3).sum()\n",
    "    errors_list[4] += num_errors\n",
    "    \n",
    "print(\"p:\",p,\"result:\",(errors_list/totalSamples))    \n"
   ]
  },
  {
   "cell_type": "code",
   "execution_count": 62,
   "id": "4f6108d1",
   "metadata": {},
   "outputs": [
    {
     "data": {
      "text/plain": [
       "True"
      ]
     },
     "execution_count": 62,
     "metadata": {},
     "output_type": "execute_result"
    }
   ],
   "source": [
    "sum(errors_list) == totalSamples"
   ]
  },
  {
   "cell_type": "code",
   "execution_count": 63,
   "id": "8b15a94e",
   "metadata": {},
   "outputs": [
    {
     "data": {
      "text/plain": [
       "array([0.0512719 , 0.15167731, 0.22314709, 0.22103987, 0.35286383])"
      ]
     },
     "execution_count": 63,
     "metadata": {},
     "output_type": "execute_result"
    }
   ],
   "source": [
    "errors_list/totalSamples"
   ]
  },
  {
   "cell_type": "code",
   "execution_count": 37,
   "id": "9c1ccfd9",
   "metadata": {},
   "outputs": [
    {
     "data": {
      "text/plain": [
       "0.0     0.128991\n",
       "1.0     0.166227\n",
       "2.0     0.169866\n",
       "3.0     0.152046\n",
       "4.0     0.128471\n",
       "5.0     0.097824\n",
       "6.0     0.066510\n",
       "7.0     0.043622\n",
       "8.0     0.023574\n",
       "9.0     0.012474\n",
       "10.0    0.005587\n",
       "11.0    0.002822\n",
       "12.0    0.001188\n",
       "13.0    0.000483\n",
       "14.0    0.000223\n",
       "15.0    0.000093\n",
       "Name: numErrors, dtype: float64"
      ]
     },
     "execution_count": 37,
     "metadata": {},
     "output_type": "execute_result"
    }
   ],
   "source": [
    "ErrorNNdistri = (NN_results[\"numErrors\"].value_counts(normalize=True)).sort_index()\n",
    "ErrorNNdistri"
   ]
  },
  {
   "cell_type": "code",
   "execution_count": 67,
   "id": "537634a1",
   "metadata": {},
   "outputs": [],
   "source": [
    "root_path = \"/nfs/dust/belle2/user/axelheim/MC_studies/Dstlnu_Bt_generic/BASF2_performance_GiannasScript/GiannasScript_wNNcuts_D0fixed/\""
   ]
  },
  {
   "cell_type": "code",
   "execution_count": 68,
   "id": "75836a93",
   "metadata": {},
   "outputs": [],
   "source": [
    "df_FSPs = pd.read_csv(root_path + \"FSPs_preProcessed_basf2Perf.csv\")"
   ]
  },
  {
   "cell_type": "code",
   "execution_count": 70,
   "id": "541d6e46",
   "metadata": {},
   "outputs": [],
   "source": [
    "df_FSPs[\"event\"] = df_FSPs[\"__event__\"]"
   ]
  },
  {
   "cell_type": "code",
   "execution_count": 71,
   "id": "7cf42ec3",
   "metadata": {},
   "outputs": [],
   "source": [
    "numFSPs = pd.DataFrame({'numFSPs' : df_FSPs.groupby( [\"event\"] ).size()}).reset_index()"
   ]
  },
  {
   "cell_type": "code",
   "execution_count": 72,
   "id": "70c6fa7c",
   "metadata": {},
   "outputs": [
    {
     "data": {
      "text/html": [
       "<div>\n",
       "<style scoped>\n",
       "    .dataframe tbody tr th:only-of-type {\n",
       "        vertical-align: middle;\n",
       "    }\n",
       "\n",
       "    .dataframe tbody tr th {\n",
       "        vertical-align: top;\n",
       "    }\n",
       "\n",
       "    .dataframe thead th {\n",
       "        text-align: right;\n",
       "    }\n",
       "</style>\n",
       "<table border=\"1\" class=\"dataframe\">\n",
       "  <thead>\n",
       "    <tr style=\"text-align: right;\">\n",
       "      <th></th>\n",
       "      <th>event</th>\n",
       "      <th>basf2_correct</th>\n",
       "      <th>numErrors</th>\n",
       "    </tr>\n",
       "  </thead>\n",
       "  <tbody>\n",
       "    <tr>\n",
       "      <th>0</th>\n",
       "      <td>579</td>\n",
       "      <td>False</td>\n",
       "      <td>11</td>\n",
       "    </tr>\n",
       "    <tr>\n",
       "      <th>2</th>\n",
       "      <td>56345</td>\n",
       "      <td>False</td>\n",
       "      <td>7</td>\n",
       "    </tr>\n",
       "    <tr>\n",
       "      <th>4</th>\n",
       "      <td>59093</td>\n",
       "      <td>False</td>\n",
       "      <td>3</td>\n",
       "    </tr>\n",
       "    <tr>\n",
       "      <th>6</th>\n",
       "      <td>61733</td>\n",
       "      <td>False</td>\n",
       "      <td>3</td>\n",
       "    </tr>\n",
       "    <tr>\n",
       "      <th>8</th>\n",
       "      <td>134598</td>\n",
       "      <td>False</td>\n",
       "      <td>3</td>\n",
       "    </tr>\n",
       "    <tr>\n",
       "      <th>...</th>\n",
       "      <td>...</td>\n",
       "      <td>...</td>\n",
       "      <td>...</td>\n",
       "    </tr>\n",
       "    <tr>\n",
       "      <th>3452</th>\n",
       "      <td>50819999</td>\n",
       "      <td>False</td>\n",
       "      <td>2</td>\n",
       "    </tr>\n",
       "    <tr>\n",
       "      <th>3454</th>\n",
       "      <td>50839237</td>\n",
       "      <td>False</td>\n",
       "      <td>2</td>\n",
       "    </tr>\n",
       "    <tr>\n",
       "      <th>3456</th>\n",
       "      <td>50845012</td>\n",
       "      <td>False</td>\n",
       "      <td>2</td>\n",
       "    </tr>\n",
       "    <tr>\n",
       "      <th>3458</th>\n",
       "      <td>50864508</td>\n",
       "      <td>False</td>\n",
       "      <td>2</td>\n",
       "    </tr>\n",
       "    <tr>\n",
       "      <th>3460</th>\n",
       "      <td>50902203</td>\n",
       "      <td>False</td>\n",
       "      <td>1</td>\n",
       "    </tr>\n",
       "  </tbody>\n",
       "</table>\n",
       "<p>1700 rows × 3 columns</p>\n",
       "</div>"
      ],
      "text/plain": [
       "         event  basf2_correct  numErrors\n",
       "0          579          False         11\n",
       "2        56345          False          7\n",
       "4        59093          False          3\n",
       "6        61733          False          3\n",
       "8       134598          False          3\n",
       "...        ...            ...        ...\n",
       "3452  50819999          False          2\n",
       "3454  50839237          False          2\n",
       "3456  50845012          False          2\n",
       "3458  50864508          False          2\n",
       "3460  50902203          False          1\n",
       "\n",
       "[1700 rows x 3 columns]"
      ]
     },
     "execution_count": 72,
     "metadata": {},
     "output_type": "execute_result"
    }
   ],
   "source": [
    "percCorrect_df = pd.DataFrame({'numErrors' : df_FSPs.groupby([\"event\",\"basf2_correct\"] ).size()}).reset_index()\n",
    "percCorrect_df = percCorrect_df[percCorrect_df[\"basf2_correct\"] == 0]\n",
    "percCorrect_df"
   ]
  },
  {
   "cell_type": "code",
   "execution_count": 73,
   "id": "60057b09",
   "metadata": {},
   "outputs": [],
   "source": [
    "NN_results = pd.merge(percCorrect_df[[\"event\",\"numErrors\"]],numFSPs, on=\"event\",how=\"outer\")\n"
   ]
  },
  {
   "cell_type": "code",
   "execution_count": 74,
   "id": "fabde28b",
   "metadata": {},
   "outputs": [
    {
     "data": {
      "text/plain": [
       "62"
      ]
     },
     "execution_count": 74,
     "metadata": {},
     "output_type": "execute_result"
    }
   ],
   "source": [
    "NN_results[NN_results[\"numErrors\"].isna()].shape[0]"
   ]
  },
  {
   "cell_type": "code",
   "execution_count": 75,
   "id": "aa4acfb6",
   "metadata": {},
   "outputs": [],
   "source": [
    "NN_results['numErrors'] = NN_results['numErrors'].fillna(0)"
   ]
  },
  {
   "cell_type": "code",
   "execution_count": 76,
   "id": "e82e96f7",
   "metadata": {
    "scrolled": true
   },
   "outputs": [
    {
     "data": {
      "text/plain": [
       "0"
      ]
     },
     "execution_count": 76,
     "metadata": {},
     "output_type": "execute_result"
    }
   ],
   "source": [
    "NN_results[NN_results[\"numErrors\"].isna()].shape[0]"
   ]
  },
  {
   "cell_type": "code",
   "execution_count": 78,
   "id": "5f931a1b",
   "metadata": {
    "scrolled": true
   },
   "outputs": [
    {
     "data": {
      "text/plain": [
       "0.0     0.035187\n",
       "1.0     0.092509\n",
       "2.0     0.150397\n",
       "3.0     0.148127\n",
       "4.0     0.129966\n",
       "5.0     0.124858\n",
       "6.0     0.094211\n",
       "7.0     0.070942\n",
       "8.0     0.050511\n",
       "9.0     0.036890\n",
       "10.0    0.030647\n",
       "11.0    0.017026\n",
       "12.0    0.010783\n",
       "13.0    0.002838\n",
       "14.0    0.002838\n",
       "15.0    0.001703\n",
       "17.0    0.000568\n",
       "Name: numErrors, dtype: float64"
      ]
     },
     "execution_count": 78,
     "metadata": {},
     "output_type": "execute_result"
    }
   ],
   "source": [
    "NN_results[\"numErrors\"].value_counts(normalize=True).sort_index()"
   ]
  },
  {
   "cell_type": "code",
   "execution_count": 79,
   "id": "2d194e5e",
   "metadata": {},
   "outputs": [
    {
     "data": {
      "text/plain": [
       "5       1\n",
       "6       3\n",
       "7       7\n",
       "8      29\n",
       "9      35\n",
       "10     66\n",
       "11     87\n",
       "12    122\n",
       "13    134\n",
       "14    167\n",
       "15    147\n",
       "16    159\n",
       "17    174\n",
       "18    128\n",
       "19    131\n",
       "20    113\n",
       "21     91\n",
       "22     56\n",
       "23     56\n",
       "24     27\n",
       "25     14\n",
       "26     15\n",
       "Name: numFSPs, dtype: int64"
      ]
     },
     "execution_count": 79,
     "metadata": {},
     "output_type": "execute_result"
    }
   ],
   "source": [
    "valueCounts = (NN_results[\"numFSPs\"].value_counts())\n",
    "valueCounts = valueCounts.sort_index()\n",
    "valueCounts"
   ]
  },
  {
   "cell_type": "code",
   "execution_count": 80,
   "id": "011ca305",
   "metadata": {},
   "outputs": [],
   "source": [
    "indices = valueCounts.index\n",
    "numFSPs=[]\n",
    "for i in range(len(valueCounts)):\n",
    "    #print(indices[i],valueCounts[indices[i]])\n",
    "    numFSPs.append(valueCounts[indices[i]])"
   ]
  },
  {
   "cell_type": "code",
   "execution_count": 82,
   "id": "f2d56b6c",
   "metadata": {},
   "outputs": [
    {
     "name": "stdout",
     "output_type": "stream",
     "text": [
      "p: 0.72 result: [0.01103899 0.05006771 0.1125252  0.16808785 0.65828025]\n"
     ]
    }
   ],
   "source": [
    "errors_list=[0,0,0,0,0]\n",
    "totalSamples=0\n",
    "\n",
    "for i in range(len(valueCounts)):\n",
    "    n = indices[i]\n",
    "    p = 0.72\n",
    "    n_samples = numFSPs[i]*10000\n",
    "    totalSamples+=n_samples\n",
    "    sample = np.random.binomial(n, p,(n_samples,1))\n",
    "\n",
    "\n",
    "    tmp = np.full((n_samples,1), n)\n",
    "    errors = tmp - sample\n",
    "\n",
    "    for i in range(4):\n",
    "        num_errors = (errors == i).sum()\n",
    "        errors_list[i] += num_errors\n",
    "        #print(i,\"errors:\",round(num_errors/n_samples*100,2),\"% of events\")\n",
    "\n",
    "    num_errors = (errors > 3).sum()\n",
    "    errors_list[4] += num_errors\n",
    "    \n",
    "print(\"p:\",p,\"result:\",(errors_list/totalSamples))    \n"
   ]
  },
  {
   "cell_type": "code",
   "execution_count": null,
   "id": "dd48a278",
   "metadata": {},
   "outputs": [],
   "source": []
  }
 ],
 "metadata": {
  "kernelspec": {
   "display_name": "Python 3",
   "language": "python",
   "name": "python3"
  },
  "language_info": {
   "codemirror_mode": {
    "name": "ipython",
    "version": 3
   },
   "file_extension": ".py",
   "mimetype": "text/x-python",
   "name": "python",
   "nbconvert_exporter": "python",
   "pygments_lexer": "ipython3",
   "version": "3.6.8"
  }
 },
 "nbformat": 4,
 "nbformat_minor": 5
}
