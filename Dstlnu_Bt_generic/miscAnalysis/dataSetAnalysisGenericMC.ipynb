{
 "cells": [
  {
   "cell_type": "code",
   "execution_count": 1,
   "metadata": {},
   "outputs": [],
   "source": [
    "import matplotlib.pyplot as plt\n",
    "import uproot\n",
    "import numpy as np\n",
    "import pandas as pd\n",
    "\n",
    "from pathlib import Path\n",
    "from sklearn.model_selection import train_test_split\n",
    "\n",
    "from datetime import datetime\n",
    "import sys"
   ]
  },
  {
   "cell_type": "code",
   "execution_count": 2,
   "metadata": {},
   "outputs": [],
   "source": [
    "nfs_path = \"/nfs/dust/belle2/user/axelheim/MC_studies/Dstlnu_Bt_generic/\"\n",
    "\n",
    "data_subdir = \"Dstlnu_Hc_corr_BsigX_separation_dataRun1/\"   \n",
    "root_subdir = \"axheim_data2_MC14_100kEvts/\"   \n",
    "\n",
    "root_path = nfs_path + \"createBranchSeparatorData/\" + root_subdir"
   ]
  },
  {
   "cell_type": "markdown",
   "metadata": {},
   "source": [
    "## load dataframe "
   ]
  },
  {
   "cell_type": "code",
   "execution_count": 3,
   "metadata": {},
   "outputs": [],
   "source": [
    "df_FSPs = pd.read_csv(root_path + \"df_FSPs_preProcessed.csv\")\n",
    "event_Bs = pd.read_csv(root_path + \"event_Bs.csv\")"
   ]
  },
  {
   "cell_type": "markdown",
   "metadata": {},
   "source": [
    "## add labels to FSPs"
   ]
  },
  {
   "cell_type": "code",
   "execution_count": null,
   "metadata": {},
   "outputs": [],
   "source": [
    "def labels(s):\n",
    "    label = 0\n",
    "    event_iter = s['__event__']\n",
    "    \n",
    "    B_tag_uniqID = event_Bs[event_Bs.__event__ == event_iter].iloc[0]['B_tag_ID']\n",
    "    B_sig_uniqID = event_Bs[event_Bs.__event__ == event_iter].iloc[0]['B_sig_ID']\n",
    "    if s[\"B_ID\"] == B_tag_uniqID:\n",
    "        label = 1 # particle belongs to X (MC truth)\n",
    "    elif s[\"B_ID\"] == B_sig_uniqID:\n",
    "        label = 2 # particle belongs to Bsig (MC truth)\n",
    "    elif s[\"B_ID\"] == 0:\n",
    "        label = 0 # background  \n",
    "        \n",
    "    return label\n",
    "df_FSPs['label'] = df_FSPs.apply(labels, axis=1)"
   ]
  },
  {
   "cell_type": "code",
   "execution_count": null,
   "metadata": {},
   "outputs": [],
   "source": []
  },
  {
   "cell_type": "markdown",
   "metadata": {},
   "source": [
    "## print category combinations"
   ]
  },
  {
   "cell_type": "code",
   "execution_count": null,
   "metadata": {},
   "outputs": [],
   "source": [
    "categories = pd.DataFrame({'count' : df_FSPs.groupby( [\"label\",\"basf2_used\",\"basf2_X\",\"basf2_Bsig\"] ).size()}).reset_index()\n"
   ]
  }
 ],
 "metadata": {
  "kernelspec": {
   "display_name": "Python 3",
   "language": "python",
   "name": "python3"
  },
  "language_info": {
   "codemirror_mode": {
    "name": "ipython",
    "version": 3
   },
   "file_extension": ".py",
   "mimetype": "text/x-python",
   "name": "python",
   "nbconvert_exporter": "python",
   "pygments_lexer": "ipython3",
   "version": "3.8.6"
  }
 },
 "nbformat": 4,
 "nbformat_minor": 4
}
