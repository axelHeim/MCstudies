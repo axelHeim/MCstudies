{
 "cells": [
  {
   "cell_type": "code",
   "execution_count": 1,
   "metadata": {},
   "outputs": [],
   "source": [
    "import matplotlib.pyplot as plt\n",
    "import uproot\n",
    "import numpy as np\n",
    "import pandas as pd\n",
    "\n",
    "from pathlib import Path\n",
    "from sklearn.model_selection import train_test_split\n",
    "\n",
    "from datetime import datetime\n",
    "import sys"
   ]
  },
  {
   "cell_type": "code",
   "execution_count": 2,
   "metadata": {},
   "outputs": [],
   "source": [
    "nfs_path = \"/nfs/dust/belle2/user/axelheim/MC_studies/Dstlnu_Bt_generic/\"\n",
    "\n",
    "data_subdir = \"Dstlnu_Hc_corr_BsigX_separation_dataRun1/\"   \n",
    "root_subdir = \"axheim_data2_MC14_100kEvts/\"   \n",
    "\n",
    "root_path = nfs_path + \"createBranchSeparatorData/\" + root_subdir"
   ]
  },
  {
   "cell_type": "markdown",
   "metadata": {},
   "source": [
    "## load dataframe "
   ]
  },
  {
   "cell_type": "code",
   "execution_count": 3,
   "metadata": {},
   "outputs": [],
   "source": [
    "df_FSPs = pd.read_csv(root_path + \"df_FSPs_preProcessed.csv\")\n",
    "event_Bs = pd.read_csv(root_path + \"event_Bs.csv\")"
   ]
  },
  {
   "cell_type": "markdown",
   "metadata": {},
   "source": [
    "## add labels to FSPs"
   ]
  },
  {
   "cell_type": "code",
   "execution_count": 4,
   "metadata": {},
   "outputs": [],
   "source": [
    "def labels(s):\n",
    "    label = 0\n",
    "    event_iter = s['__event__']\n",
    "    \n",
    "    B_tag_uniqID = event_Bs[event_Bs.__event__ == event_iter].iloc[0]['B_tag_ID']\n",
    "    B_sig_uniqID = event_Bs[event_Bs.__event__ == event_iter].iloc[0]['B_sig_ID']\n",
    "    if s[\"B_ID\"] == B_tag_uniqID:\n",
    "        label = 1 # particle belongs to X (MC truth)\n",
    "    elif s[\"B_ID\"] == B_sig_uniqID:\n",
    "        label = 2 # particle belongs to Bsig (MC truth)\n",
    "    elif s[\"B_ID\"] == 0:\n",
    "        label = 0 # background  \n",
    "        \n",
    "    return label\n",
    "df_FSPs['label'] = df_FSPs.apply(labels, axis=1)"
   ]
  },
  {
   "cell_type": "code",
   "execution_count": 14,
   "metadata": {},
   "outputs": [],
   "source": [
    "mask = df_FSPs.Hc == 1\n",
    "column_name = 'label'\n",
    "df_FSPs.loc[mask, column_name] = 3"
   ]
  },
  {
   "cell_type": "code",
   "execution_count": 15,
   "metadata": {},
   "outputs": [],
   "source": [
    "#save with labels\n",
    "\n",
    "df_FSPs.to_csv(root_path + \"df_FSPs_wLabels_stored.csv\")\n",
    "event_Bs.to_csv(root_path + \"event_Bs_stored.csv\")"
   ]
  },
  {
   "cell_type": "markdown",
   "metadata": {},
   "source": [
    "## load dataframe with labels"
   ]
  },
  {
   "cell_type": "code",
   "execution_count": 2,
   "metadata": {},
   "outputs": [
    {
     "ename": "NameError",
     "evalue": "name 'root_path' is not defined",
     "output_type": "error",
     "traceback": [
      "\u001b[0;31m---------------------------------------------------------------------------\u001b[0m",
      "\u001b[0;31mNameError\u001b[0m                                 Traceback (most recent call last)",
      "\u001b[0;32m<ipython-input-2-a11e14bdea7a>\u001b[0m in \u001b[0;36m<module>\u001b[0;34m\u001b[0m\n\u001b[0;32m----> 1\u001b[0;31m \u001b[0mdf_FSPs\u001b[0m \u001b[0;34m=\u001b[0m \u001b[0mpd\u001b[0m\u001b[0;34m.\u001b[0m\u001b[0mread_csv\u001b[0m\u001b[0;34m(\u001b[0m\u001b[0mroot_path\u001b[0m \u001b[0;34m+\u001b[0m \u001b[0;34m\"df_FSPs_wLabels_stored.csv\"\u001b[0m\u001b[0;34m)\u001b[0m\u001b[0;34m\u001b[0m\u001b[0;34m\u001b[0m\u001b[0m\n\u001b[0m\u001b[1;32m      2\u001b[0m \u001b[0mevent_Bs\u001b[0m \u001b[0;34m=\u001b[0m \u001b[0mpd\u001b[0m\u001b[0;34m.\u001b[0m\u001b[0mread_csv\u001b[0m\u001b[0;34m(\u001b[0m\u001b[0mroot_path\u001b[0m \u001b[0;34m+\u001b[0m \u001b[0;34m\"event_Bs_stored.csv\"\u001b[0m\u001b[0;34m)\u001b[0m\u001b[0;34m\u001b[0m\u001b[0;34m\u001b[0m\u001b[0m\n",
      "\u001b[0;31mNameError\u001b[0m: name 'root_path' is not defined"
     ]
    }
   ],
   "source": [
    "df_FSPs = pd.read_csv(root_path + \"df_FSPs_wLabels_stored.csv\")\n",
    "event_Bs = pd.read_csv(root_path + \"event_Bs_stored.csv\")"
   ]
  },
  {
   "cell_type": "markdown",
   "metadata": {},
   "source": [
    "## print category combinations"
   ]
  },
  {
   "cell_type": "code",
   "execution_count": 4,
   "metadata": {},
   "outputs": [
    {
     "data": {
      "text/html": [
       "<div>\n",
       "<style scoped>\n",
       "    .dataframe tbody tr th:only-of-type {\n",
       "        vertical-align: middle;\n",
       "    }\n",
       "\n",
       "    .dataframe tbody tr th {\n",
       "        vertical-align: top;\n",
       "    }\n",
       "\n",
       "    .dataframe thead th {\n",
       "        text-align: right;\n",
       "    }\n",
       "</style>\n",
       "<table border=\"1\" class=\"dataframe\">\n",
       "  <thead>\n",
       "    <tr style=\"text-align: right;\">\n",
       "      <th></th>\n",
       "      <th>label</th>\n",
       "      <th>count</th>\n",
       "      <th>rel. freq.</th>\n",
       "    </tr>\n",
       "  </thead>\n",
       "  <tbody>\n",
       "    <tr>\n",
       "      <th>0</th>\n",
       "      <td>0</td>\n",
       "      <td>2335248</td>\n",
       "      <td>32.32</td>\n",
       "    </tr>\n",
       "    <tr>\n",
       "      <th>1</th>\n",
       "      <td>1</td>\n",
       "      <td>2145306</td>\n",
       "      <td>29.69</td>\n",
       "    </tr>\n",
       "    <tr>\n",
       "      <th>2</th>\n",
       "      <td>2</td>\n",
       "      <td>1927482</td>\n",
       "      <td>26.68</td>\n",
       "    </tr>\n",
       "    <tr>\n",
       "      <th>3</th>\n",
       "      <td>3</td>\n",
       "      <td>816476</td>\n",
       "      <td>11.30</td>\n",
       "    </tr>\n",
       "  </tbody>\n",
       "</table>\n",
       "</div>"
      ],
      "text/plain": [
       "   label    count  rel. freq.\n",
       "0      0  2335248       32.32\n",
       "1      1  2145306       29.69\n",
       "2      2  1927482       26.68\n",
       "3      3   816476       11.30"
      ]
     },
     "execution_count": 4,
     "metadata": {},
     "output_type": "execute_result"
    }
   ],
   "source": [
    "vars_categories = [\"label\"]\n",
    "\n",
    "categories = pd.DataFrame({'count' : df_FSPs.groupby( vars_categories ).size(),\n",
    "                          'rel. freq.' : round((df_FSPs.groupby(vars_categories).size()/df_FSPs.shape[0]) * 100 , 2)}).reset_index()\n",
    "categories"
   ]
  },
  {
   "cell_type": "code",
   "execution_count": 5,
   "metadata": {},
   "outputs": [
    {
     "data": {
      "text/html": [
       "<div>\n",
       "<style scoped>\n",
       "    .dataframe tbody tr th:only-of-type {\n",
       "        vertical-align: middle;\n",
       "    }\n",
       "\n",
       "    .dataframe tbody tr th {\n",
       "        vertical-align: top;\n",
       "    }\n",
       "\n",
       "    .dataframe thead th {\n",
       "        text-align: right;\n",
       "    }\n",
       "</style>\n",
       "<table border=\"1\" class=\"dataframe\">\n",
       "  <thead>\n",
       "    <tr style=\"text-align: right;\">\n",
       "      <th></th>\n",
       "      <th>label</th>\n",
       "      <th>basf2_X</th>\n",
       "      <th>basf2_Bsig</th>\n",
       "      <th>Hc</th>\n",
       "      <th>count</th>\n",
       "      <th>rel. freq.</th>\n",
       "    </tr>\n",
       "  </thead>\n",
       "  <tbody>\n",
       "    <tr>\n",
       "      <th>0</th>\n",
       "      <td>0</td>\n",
       "      <td>0.0</td>\n",
       "      <td>0.0</td>\n",
       "      <td>0</td>\n",
       "      <td>1789769</td>\n",
       "      <td>24.77</td>\n",
       "    </tr>\n",
       "    <tr>\n",
       "      <th>1</th>\n",
       "      <td>0</td>\n",
       "      <td>0.0</td>\n",
       "      <td>1.0</td>\n",
       "      <td>0</td>\n",
       "      <td>101117</td>\n",
       "      <td>1.40</td>\n",
       "    </tr>\n",
       "    <tr>\n",
       "      <th>2</th>\n",
       "      <td>0</td>\n",
       "      <td>1.0</td>\n",
       "      <td>0.0</td>\n",
       "      <td>0</td>\n",
       "      <td>444362</td>\n",
       "      <td>6.15</td>\n",
       "    </tr>\n",
       "    <tr>\n",
       "      <th>3</th>\n",
       "      <td>1</td>\n",
       "      <td>0.0</td>\n",
       "      <td>0.0</td>\n",
       "      <td>0</td>\n",
       "      <td>496882</td>\n",
       "      <td>6.88</td>\n",
       "    </tr>\n",
       "    <tr>\n",
       "      <th>4</th>\n",
       "      <td>1</td>\n",
       "      <td>0.0</td>\n",
       "      <td>1.0</td>\n",
       "      <td>0</td>\n",
       "      <td>613985</td>\n",
       "      <td>8.50</td>\n",
       "    </tr>\n",
       "    <tr>\n",
       "      <th>5</th>\n",
       "      <td>1</td>\n",
       "      <td>1.0</td>\n",
       "      <td>0.0</td>\n",
       "      <td>0</td>\n",
       "      <td>1034439</td>\n",
       "      <td>14.32</td>\n",
       "    </tr>\n",
       "    <tr>\n",
       "      <th>6</th>\n",
       "      <td>2</td>\n",
       "      <td>0.0</td>\n",
       "      <td>0.0</td>\n",
       "      <td>0</td>\n",
       "      <td>385864</td>\n",
       "      <td>5.34</td>\n",
       "    </tr>\n",
       "    <tr>\n",
       "      <th>7</th>\n",
       "      <td>2</td>\n",
       "      <td>0.0</td>\n",
       "      <td>1.0</td>\n",
       "      <td>0</td>\n",
       "      <td>739201</td>\n",
       "      <td>10.23</td>\n",
       "    </tr>\n",
       "    <tr>\n",
       "      <th>8</th>\n",
       "      <td>2</td>\n",
       "      <td>1.0</td>\n",
       "      <td>0.0</td>\n",
       "      <td>0</td>\n",
       "      <td>802417</td>\n",
       "      <td>11.11</td>\n",
       "    </tr>\n",
       "    <tr>\n",
       "      <th>9</th>\n",
       "      <td>3</td>\n",
       "      <td>0.0</td>\n",
       "      <td>0.0</td>\n",
       "      <td>1</td>\n",
       "      <td>816476</td>\n",
       "      <td>11.30</td>\n",
       "    </tr>\n",
       "  </tbody>\n",
       "</table>\n",
       "</div>"
      ],
      "text/plain": [
       "   label  basf2_X  basf2_Bsig  Hc    count  rel. freq.\n",
       "0      0      0.0         0.0   0  1789769       24.77\n",
       "1      0      0.0         1.0   0   101117        1.40\n",
       "2      0      1.0         0.0   0   444362        6.15\n",
       "3      1      0.0         0.0   0   496882        6.88\n",
       "4      1      0.0         1.0   0   613985        8.50\n",
       "5      1      1.0         0.0   0  1034439       14.32\n",
       "6      2      0.0         0.0   0   385864        5.34\n",
       "7      2      0.0         1.0   0   739201       10.23\n",
       "8      2      1.0         0.0   0   802417       11.11\n",
       "9      3      0.0         0.0   1   816476       11.30"
      ]
     },
     "execution_count": 5,
     "metadata": {},
     "output_type": "execute_result"
    }
   ],
   "source": [
    "vars_categories = [\"label\",\"basf2_X\",\"basf2_Bsig\",\"Hc\"]\n",
    "\n",
    "categories = pd.DataFrame({'count' : df_FSPs.groupby( vars_categories ).size(),\n",
    "                          'rel. freq.' : round((df_FSPs.groupby(vars_categories).size()/df_FSPs.shape[0]) * 100 , 2)}).reset_index()\n",
    "categories"
   ]
  },
  {
   "cell_type": "markdown",
   "metadata": {},
   "source": [
    "## check Hc assignment"
   ]
  },
  {
   "cell_type": "code",
   "execution_count": 6,
   "metadata": {},
   "outputs": [],
   "source": [
    "groupsAllFSPs = pd.DataFrame({'count' : df_FSPs.groupby([\"__event__\",\"B_ID\",\"Hc\"]).size(),\n",
    "                             'sum_p': df_FSPs.groupby([\"__event__\",\"B_ID\",\"Hc\"])[\"p\"].sum()}).reset_index()"
   ]
  },
  {
   "cell_type": "code",
   "execution_count": 7,
   "metadata": {},
   "outputs": [
    {
     "data": {
      "text/plain": [
       "True     290691\n",
       "False     69603\n",
       "dtype: int64"
      ]
     },
     "execution_count": 7,
     "metadata": {},
     "output_type": "execute_result"
    }
   ],
   "source": [
    "hasDuplicates = groupsAllFSPs[groupsAllFSPs[\"Hc\"] == 1].sort_values(\"__event__\").duplicated(subset=\"__event__\", keep=False).value_counts() \n",
    "#/ groupsAllFSPs[groupsAllFSPs[\"Hc\"] == 1].shape[0]\n",
    "hasDuplicates"
   ]
  },
  {
   "cell_type": "code",
   "execution_count": 8,
   "metadata": {},
   "outputs": [
    {
     "data": {
      "text/plain": [
       "210727"
      ]
     },
     "execution_count": 8,
     "metadata": {},
     "output_type": "execute_result"
    }
   ],
   "source": [
    "num_events = groupsAllFSPs[groupsAllFSPs[\"Hc\"] == 1][\"__event__\"].drop_duplicates(keep='first').shape[0]\n",
    "num_events"
   ]
  },
  {
   "cell_type": "code",
   "execution_count": 9,
   "metadata": {},
   "outputs": [
    {
     "name": "stdout",
     "output_type": "stream",
     "text": [
      "% of events with only one occurence of Hc regarding its ancestors: 33.03\n"
     ]
    }
   ],
   "source": [
    "print(\"% of events with only one occurence of Hc regarding its ancestors:\",round(hasDuplicates[0]/num_events * 100,2))"
   ]
  },
  {
   "cell_type": "markdown",
   "metadata": {},
   "source": [
    "## -> 33% of events belong to exactly one Hc ancestor -> many unclear Hc to B-tag's"
   ]
  },
  {
   "cell_type": "markdown",
   "metadata": {},
   "source": [
    "## show sum_p distribution of unclear Hc assignments:"
   ]
  },
  {
   "cell_type": "code",
   "execution_count": 10,
   "metadata": {},
   "outputs": [],
   "source": [
    "duplis = groupsAllFSPs[groupsAllFSPs[\"Hc\"] == 1].duplicated(subset=\"__event__\", keep=False)\n",
    "\n",
    "# only events for which Hc mother assignment is unclear:\n",
    "unclearHc=groupsAllFSPs[(groupsAllFSPs[\"Hc\"] == 1) & (duplis == True)].sort_values(\"sum_p\",ascending=False).sort_values(\"__event__\")\n",
    "\n",
    "\n",
    "unclearHc_winners = unclearHc.drop_duplicates(subset=\"__event__\",keep='first')"
   ]
  },
  {
   "cell_type": "code",
   "execution_count": 21,
   "metadata": {},
   "outputs": [
    {
     "data": {
      "text/html": [
       "<div>\n",
       "<style scoped>\n",
       "    .dataframe tbody tr th:only-of-type {\n",
       "        vertical-align: middle;\n",
       "    }\n",
       "\n",
       "    .dataframe tbody tr th {\n",
       "        vertical-align: top;\n",
       "    }\n",
       "\n",
       "    .dataframe thead th {\n",
       "        text-align: right;\n",
       "    }\n",
       "</style>\n",
       "<table border=\"1\" class=\"dataframe\">\n",
       "  <thead>\n",
       "    <tr style=\"text-align: right;\">\n",
       "      <th></th>\n",
       "      <th>__event__</th>\n",
       "      <th>B_ID</th>\n",
       "      <th>Hc</th>\n",
       "      <th>count</th>\n",
       "      <th>sum_p</th>\n",
       "    </tr>\n",
       "  </thead>\n",
       "  <tbody>\n",
       "    <tr>\n",
       "      <th>3</th>\n",
       "      <td>14</td>\n",
       "      <td>83886082</td>\n",
       "      <td>1</td>\n",
       "      <td>4</td>\n",
       "      <td>1.963866</td>\n",
       "    </tr>\n",
       "    <tr>\n",
       "      <th>6</th>\n",
       "      <td>198</td>\n",
       "      <td>83886081</td>\n",
       "      <td>1</td>\n",
       "      <td>3</td>\n",
       "      <td>2.033263</td>\n",
       "    </tr>\n",
       "    <tr>\n",
       "      <th>8</th>\n",
       "      <td>198</td>\n",
       "      <td>83886082</td>\n",
       "      <td>1</td>\n",
       "      <td>1</td>\n",
       "      <td>0.432216</td>\n",
       "    </tr>\n",
       "    <tr>\n",
       "      <th>11</th>\n",
       "      <td>344</td>\n",
       "      <td>83886081</td>\n",
       "      <td>1</td>\n",
       "      <td>3</td>\n",
       "      <td>0.732831</td>\n",
       "    </tr>\n",
       "    <tr>\n",
       "      <th>13</th>\n",
       "      <td>344</td>\n",
       "      <td>83886082</td>\n",
       "      <td>1</td>\n",
       "      <td>1</td>\n",
       "      <td>0.879664</td>\n",
       "    </tr>\n",
       "    <tr>\n",
       "      <th>16</th>\n",
       "      <td>750</td>\n",
       "      <td>83886081</td>\n",
       "      <td>1</td>\n",
       "      <td>2</td>\n",
       "      <td>0.882200</td>\n",
       "    </tr>\n",
       "    <tr>\n",
       "      <th>18</th>\n",
       "      <td>750</td>\n",
       "      <td>83886082</td>\n",
       "      <td>1</td>\n",
       "      <td>1</td>\n",
       "      <td>1.021143</td>\n",
       "    </tr>\n",
       "    <tr>\n",
       "      <th>21</th>\n",
       "      <td>771</td>\n",
       "      <td>83886081</td>\n",
       "      <td>1</td>\n",
       "      <td>1</td>\n",
       "      <td>0.650442</td>\n",
       "    </tr>\n",
       "    <tr>\n",
       "      <th>23</th>\n",
       "      <td>771</td>\n",
       "      <td>83886082</td>\n",
       "      <td>1</td>\n",
       "      <td>3</td>\n",
       "      <td>1.106109</td>\n",
       "    </tr>\n",
       "    <tr>\n",
       "      <th>28</th>\n",
       "      <td>947</td>\n",
       "      <td>83886082</td>\n",
       "      <td>1</td>\n",
       "      <td>2</td>\n",
       "      <td>1.324788</td>\n",
       "    </tr>\n",
       "    <tr>\n",
       "      <th>26</th>\n",
       "      <td>947</td>\n",
       "      <td>83886081</td>\n",
       "      <td>1</td>\n",
       "      <td>2</td>\n",
       "      <td>1.368286</td>\n",
       "    </tr>\n",
       "    <tr>\n",
       "      <th>31</th>\n",
       "      <td>979</td>\n",
       "      <td>83886081</td>\n",
       "      <td>1</td>\n",
       "      <td>2</td>\n",
       "      <td>1.321413</td>\n",
       "    </tr>\n",
       "    <tr>\n",
       "      <th>35</th>\n",
       "      <td>1120</td>\n",
       "      <td>83886081</td>\n",
       "      <td>1</td>\n",
       "      <td>2</td>\n",
       "      <td>1.064565</td>\n",
       "    </tr>\n",
       "    <tr>\n",
       "      <th>37</th>\n",
       "      <td>1120</td>\n",
       "      <td>83886082</td>\n",
       "      <td>1</td>\n",
       "      <td>1</td>\n",
       "      <td>0.225120</td>\n",
       "    </tr>\n",
       "    <tr>\n",
       "      <th>40</th>\n",
       "      <td>1190</td>\n",
       "      <td>83886081</td>\n",
       "      <td>1</td>\n",
       "      <td>4</td>\n",
       "      <td>2.235803</td>\n",
       "    </tr>\n",
       "  </tbody>\n",
       "</table>\n",
       "</div>"
      ],
      "text/plain": [
       "    __event__      B_ID  Hc  count     sum_p\n",
       "3          14  83886082   1      4  1.963866\n",
       "6         198  83886081   1      3  2.033263\n",
       "8         198  83886082   1      1  0.432216\n",
       "11        344  83886081   1      3  0.732831\n",
       "13        344  83886082   1      1  0.879664\n",
       "16        750  83886081   1      2  0.882200\n",
       "18        750  83886082   1      1  1.021143\n",
       "21        771  83886081   1      1  0.650442\n",
       "23        771  83886082   1      3  1.106109\n",
       "28        947  83886082   1      2  1.324788\n",
       "26        947  83886081   1      2  1.368286\n",
       "31        979  83886081   1      2  1.321413\n",
       "35       1120  83886081   1      2  1.064565\n",
       "37       1120  83886082   1      1  0.225120\n",
       "40       1190  83886081   1      4  2.235803"
      ]
     },
     "execution_count": 21,
     "metadata": {},
     "output_type": "execute_result"
    }
   ],
   "source": [
    "groupsAllFSPs[groupsAllFSPs[\"Hc\"] == 1].sort_values(\"__event__\")[:15]"
   ]
  },
  {
   "cell_type": "code",
   "execution_count": 11,
   "metadata": {},
   "outputs": [
    {
     "data": {
      "text/plain": [
       "2    132681\n",
       "3      8443\n",
       "Name: __event__, dtype: int64"
      ]
     },
     "execution_count": 11,
     "metadata": {},
     "output_type": "execute_result"
    }
   ],
   "source": [
    "unclearHc[\"__event__\"].value_counts().value_counts()"
   ]
  },
  {
   "cell_type": "code",
   "execution_count": 12,
   "metadata": {},
   "outputs": [
    {
     "name": "stderr",
     "output_type": "stream",
     "text": [
      "/usr/local/lib/python3.6/site-packages/ipykernel_launcher.py:1: UserWarning: Boolean Series key will be reindexed to match DataFrame index.\n",
      "  \"\"\"Entry point for launching an IPython kernel.\n"
     ]
    },
    {
     "data": {
      "text/html": [
       "<div>\n",
       "<style scoped>\n",
       "    .dataframe tbody tr th:only-of-type {\n",
       "        vertical-align: middle;\n",
       "    }\n",
       "\n",
       "    .dataframe tbody tr th {\n",
       "        vertical-align: top;\n",
       "    }\n",
       "\n",
       "    .dataframe thead th {\n",
       "        text-align: right;\n",
       "    }\n",
       "</style>\n",
       "<table border=\"1\" class=\"dataframe\">\n",
       "  <thead>\n",
       "    <tr style=\"text-align: right;\">\n",
       "      <th></th>\n",
       "      <th>__event__</th>\n",
       "      <th>B_ID</th>\n",
       "      <th>Hc</th>\n",
       "      <th>count</th>\n",
       "      <th>sum_p</th>\n",
       "    </tr>\n",
       "  </thead>\n",
       "  <tbody>\n",
       "    <tr>\n",
       "      <th>8</th>\n",
       "      <td>198</td>\n",
       "      <td>83886082</td>\n",
       "      <td>1</td>\n",
       "      <td>1</td>\n",
       "      <td>0.432216</td>\n",
       "    </tr>\n",
       "    <tr>\n",
       "      <th>11</th>\n",
       "      <td>344</td>\n",
       "      <td>83886081</td>\n",
       "      <td>1</td>\n",
       "      <td>3</td>\n",
       "      <td>0.732831</td>\n",
       "    </tr>\n",
       "    <tr>\n",
       "      <th>16</th>\n",
       "      <td>750</td>\n",
       "      <td>83886081</td>\n",
       "      <td>1</td>\n",
       "      <td>2</td>\n",
       "      <td>0.882200</td>\n",
       "    </tr>\n",
       "    <tr>\n",
       "      <th>21</th>\n",
       "      <td>771</td>\n",
       "      <td>83886081</td>\n",
       "      <td>1</td>\n",
       "      <td>1</td>\n",
       "      <td>0.650442</td>\n",
       "    </tr>\n",
       "    <tr>\n",
       "      <th>28</th>\n",
       "      <td>947</td>\n",
       "      <td>83886082</td>\n",
       "      <td>1</td>\n",
       "      <td>2</td>\n",
       "      <td>1.324788</td>\n",
       "    </tr>\n",
       "    <tr>\n",
       "      <th>37</th>\n",
       "      <td>1120</td>\n",
       "      <td>83886082</td>\n",
       "      <td>1</td>\n",
       "      <td>1</td>\n",
       "      <td>0.225120</td>\n",
       "    </tr>\n",
       "    <tr>\n",
       "      <th>48</th>\n",
       "      <td>1746</td>\n",
       "      <td>83886081</td>\n",
       "      <td>1</td>\n",
       "      <td>1</td>\n",
       "      <td>0.693065</td>\n",
       "    </tr>\n",
       "    <tr>\n",
       "      <th>59</th>\n",
       "      <td>1895</td>\n",
       "      <td>83886082</td>\n",
       "      <td>1</td>\n",
       "      <td>1</td>\n",
       "      <td>0.611362</td>\n",
       "    </tr>\n",
       "    <tr>\n",
       "      <th>68</th>\n",
       "      <td>2322</td>\n",
       "      <td>83886082</td>\n",
       "      <td>1</td>\n",
       "      <td>2</td>\n",
       "      <td>0.423560</td>\n",
       "    </tr>\n",
       "    <tr>\n",
       "      <th>73</th>\n",
       "      <td>2397</td>\n",
       "      <td>83886082</td>\n",
       "      <td>1</td>\n",
       "      <td>2</td>\n",
       "      <td>0.545825</td>\n",
       "    </tr>\n",
       "  </tbody>\n",
       "</table>\n",
       "</div>"
      ],
      "text/plain": [
       "    __event__      B_ID  Hc  count     sum_p\n",
       "8         198  83886082   1      1  0.432216\n",
       "11        344  83886081   1      3  0.732831\n",
       "16        750  83886081   1      2  0.882200\n",
       "21        771  83886081   1      1  0.650442\n",
       "28        947  83886082   1      2  1.324788\n",
       "37       1120  83886082   1      1  0.225120\n",
       "48       1746  83886081   1      1  0.693065\n",
       "59       1895  83886082   1      1  0.611362\n",
       "68       2322  83886082   1      2  0.423560\n",
       "73       2397  83886082   1      2  0.545825"
      ]
     },
     "execution_count": 12,
     "metadata": {},
     "output_type": "execute_result"
    }
   ],
   "source": [
    "ind = unclearHc[unclearHc.sort_values(\"sum_p\").duplicated(subset=\"__event__\")].index[:] # index of first appearance\n",
    "\n",
    "unclearHc_loosers = unclearHc.drop(ind)\n",
    "unclearHc_loosers[:10]\n"
   ]
  },
  {
   "cell_type": "code",
   "execution_count": null,
   "metadata": {},
   "outputs": [],
   "source": [
    "\n"
   ]
  },
  {
   "cell_type": "code",
   "execution_count": 13,
   "metadata": {},
   "outputs": [
    {
     "data": {
      "text/html": [
       "<div>\n",
       "<style scoped>\n",
       "    .dataframe tbody tr th:only-of-type {\n",
       "        vertical-align: middle;\n",
       "    }\n",
       "\n",
       "    .dataframe tbody tr th {\n",
       "        vertical-align: top;\n",
       "    }\n",
       "\n",
       "    .dataframe thead th {\n",
       "        text-align: right;\n",
       "    }\n",
       "</style>\n",
       "<table border=\"1\" class=\"dataframe\">\n",
       "  <thead>\n",
       "    <tr style=\"text-align: right;\">\n",
       "      <th></th>\n",
       "      <th>__event__</th>\n",
       "      <th>B_ID</th>\n",
       "      <th>Hc</th>\n",
       "      <th>count</th>\n",
       "      <th>sum_p</th>\n",
       "    </tr>\n",
       "  </thead>\n",
       "  <tbody>\n",
       "    <tr>\n",
       "      <th>6</th>\n",
       "      <td>198</td>\n",
       "      <td>83886081</td>\n",
       "      <td>1</td>\n",
       "      <td>3</td>\n",
       "      <td>2.033263</td>\n",
       "    </tr>\n",
       "    <tr>\n",
       "      <th>8</th>\n",
       "      <td>198</td>\n",
       "      <td>83886082</td>\n",
       "      <td>1</td>\n",
       "      <td>1</td>\n",
       "      <td>0.432216</td>\n",
       "    </tr>\n",
       "    <tr>\n",
       "      <th>13</th>\n",
       "      <td>344</td>\n",
       "      <td>83886082</td>\n",
       "      <td>1</td>\n",
       "      <td>1</td>\n",
       "      <td>0.879664</td>\n",
       "    </tr>\n",
       "    <tr>\n",
       "      <th>11</th>\n",
       "      <td>344</td>\n",
       "      <td>83886081</td>\n",
       "      <td>1</td>\n",
       "      <td>3</td>\n",
       "      <td>0.732831</td>\n",
       "    </tr>\n",
       "    <tr>\n",
       "      <th>18</th>\n",
       "      <td>750</td>\n",
       "      <td>83886082</td>\n",
       "      <td>1</td>\n",
       "      <td>1</td>\n",
       "      <td>1.021143</td>\n",
       "    </tr>\n",
       "    <tr>\n",
       "      <th>16</th>\n",
       "      <td>750</td>\n",
       "      <td>83886081</td>\n",
       "      <td>1</td>\n",
       "      <td>2</td>\n",
       "      <td>0.882200</td>\n",
       "    </tr>\n",
       "    <tr>\n",
       "      <th>23</th>\n",
       "      <td>771</td>\n",
       "      <td>83886082</td>\n",
       "      <td>1</td>\n",
       "      <td>3</td>\n",
       "      <td>1.106109</td>\n",
       "    </tr>\n",
       "    <tr>\n",
       "      <th>21</th>\n",
       "      <td>771</td>\n",
       "      <td>83886081</td>\n",
       "      <td>1</td>\n",
       "      <td>1</td>\n",
       "      <td>0.650442</td>\n",
       "    </tr>\n",
       "    <tr>\n",
       "      <th>28</th>\n",
       "      <td>947</td>\n",
       "      <td>83886082</td>\n",
       "      <td>1</td>\n",
       "      <td>2</td>\n",
       "      <td>1.324788</td>\n",
       "    </tr>\n",
       "    <tr>\n",
       "      <th>26</th>\n",
       "      <td>947</td>\n",
       "      <td>83886081</td>\n",
       "      <td>1</td>\n",
       "      <td>2</td>\n",
       "      <td>1.368286</td>\n",
       "    </tr>\n",
       "  </tbody>\n",
       "</table>\n",
       "</div>"
      ],
      "text/plain": [
       "    __event__      B_ID  Hc  count     sum_p\n",
       "6         198  83886081   1      3  2.033263\n",
       "8         198  83886082   1      1  0.432216\n",
       "13        344  83886082   1      1  0.879664\n",
       "11        344  83886081   1      3  0.732831\n",
       "18        750  83886082   1      1  1.021143\n",
       "16        750  83886081   1      2  0.882200\n",
       "23        771  83886082   1      3  1.106109\n",
       "21        771  83886081   1      1  0.650442\n",
       "28        947  83886082   1      2  1.324788\n",
       "26        947  83886081   1      2  1.368286"
      ]
     },
     "execution_count": 13,
     "metadata": {},
     "output_type": "execute_result"
    }
   ],
   "source": [
    "unclearHc[:10]"
   ]
  },
  {
   "cell_type": "code",
   "execution_count": 14,
   "metadata": {},
   "outputs": [
    {
     "data": {
      "text/html": [
       "<div>\n",
       "<style scoped>\n",
       "    .dataframe tbody tr th:only-of-type {\n",
       "        vertical-align: middle;\n",
       "    }\n",
       "\n",
       "    .dataframe tbody tr th {\n",
       "        vertical-align: top;\n",
       "    }\n",
       "\n",
       "    .dataframe thead th {\n",
       "        text-align: right;\n",
       "    }\n",
       "</style>\n",
       "<table border=\"1\" class=\"dataframe\">\n",
       "  <thead>\n",
       "    <tr style=\"text-align: right;\">\n",
       "      <th></th>\n",
       "      <th>__event__</th>\n",
       "      <th>B_ID</th>\n",
       "      <th>Hc</th>\n",
       "      <th>count</th>\n",
       "      <th>sum_p</th>\n",
       "    </tr>\n",
       "  </thead>\n",
       "  <tbody>\n",
       "    <tr>\n",
       "      <th>6</th>\n",
       "      <td>198</td>\n",
       "      <td>83886081</td>\n",
       "      <td>1</td>\n",
       "      <td>3</td>\n",
       "      <td>2.033263</td>\n",
       "    </tr>\n",
       "    <tr>\n",
       "      <th>13</th>\n",
       "      <td>344</td>\n",
       "      <td>83886082</td>\n",
       "      <td>1</td>\n",
       "      <td>1</td>\n",
       "      <td>0.879664</td>\n",
       "    </tr>\n",
       "    <tr>\n",
       "      <th>18</th>\n",
       "      <td>750</td>\n",
       "      <td>83886082</td>\n",
       "      <td>1</td>\n",
       "      <td>1</td>\n",
       "      <td>1.021143</td>\n",
       "    </tr>\n",
       "    <tr>\n",
       "      <th>23</th>\n",
       "      <td>771</td>\n",
       "      <td>83886082</td>\n",
       "      <td>1</td>\n",
       "      <td>3</td>\n",
       "      <td>1.106109</td>\n",
       "    </tr>\n",
       "    <tr>\n",
       "      <th>28</th>\n",
       "      <td>947</td>\n",
       "      <td>83886082</td>\n",
       "      <td>1</td>\n",
       "      <td>2</td>\n",
       "      <td>1.324788</td>\n",
       "    </tr>\n",
       "    <tr>\n",
       "      <th>35</th>\n",
       "      <td>1120</td>\n",
       "      <td>83886081</td>\n",
       "      <td>1</td>\n",
       "      <td>2</td>\n",
       "      <td>1.064565</td>\n",
       "    </tr>\n",
       "    <tr>\n",
       "      <th>48</th>\n",
       "      <td>1746</td>\n",
       "      <td>83886081</td>\n",
       "      <td>1</td>\n",
       "      <td>1</td>\n",
       "      <td>0.693065</td>\n",
       "    </tr>\n",
       "    <tr>\n",
       "      <th>59</th>\n",
       "      <td>1895</td>\n",
       "      <td>83886082</td>\n",
       "      <td>1</td>\n",
       "      <td>1</td>\n",
       "      <td>0.611362</td>\n",
       "    </tr>\n",
       "    <tr>\n",
       "      <th>68</th>\n",
       "      <td>2322</td>\n",
       "      <td>83886082</td>\n",
       "      <td>1</td>\n",
       "      <td>2</td>\n",
       "      <td>0.423560</td>\n",
       "    </tr>\n",
       "    <tr>\n",
       "      <th>73</th>\n",
       "      <td>2397</td>\n",
       "      <td>83886082</td>\n",
       "      <td>1</td>\n",
       "      <td>2</td>\n",
       "      <td>0.545825</td>\n",
       "    </tr>\n",
       "  </tbody>\n",
       "</table>\n",
       "</div>"
      ],
      "text/plain": [
       "    __event__      B_ID  Hc  count     sum_p\n",
       "6         198  83886081   1      3  2.033263\n",
       "13        344  83886082   1      1  0.879664\n",
       "18        750  83886082   1      1  1.021143\n",
       "23        771  83886082   1      3  1.106109\n",
       "28        947  83886082   1      2  1.324788\n",
       "35       1120  83886081   1      2  1.064565\n",
       "48       1746  83886081   1      1  0.693065\n",
       "59       1895  83886082   1      1  0.611362\n",
       "68       2322  83886082   1      2  0.423560\n",
       "73       2397  83886082   1      2  0.545825"
      ]
     },
     "execution_count": 14,
     "metadata": {},
     "output_type": "execute_result"
    }
   ],
   "source": [
    "unclearHc_winners[:10]"
   ]
  },
  {
   "cell_type": "code",
   "execution_count": 19,
   "metadata": {},
   "outputs": [
    {
     "data": {
      "text/plain": [
       "<matplotlib.collections.PathCollection at 0x2ae5c44c7080>"
      ]
     },
     "execution_count": 19,
     "metadata": {},
     "output_type": "execute_result"
    },
    {
     "data": {
      "image/png": "[encoded data removed]",
      "text/plain": [
       "<Figure size 432x288 with 1 Axes>"
      ]
     },
     "metadata": {
      "needs_background": "light"
     },
     "output_type": "display_data"
    }
   ],
   "source": [
    "plt.scatter(unclearHc_loosers.sort_values(\"__event__\")[\"sum_p\"], unclearHc_winners.sort_values(\"__event__\")[\"sum_p\"],\n",
    "           s=0.01)"
   ]
  },
  {
   "cell_type": "code",
   "execution_count": null,
   "metadata": {},
   "outputs": [],
   "source": []
  },
  {
   "cell_type": "code",
   "execution_count": null,
   "metadata": {},
   "outputs": [],
   "source": []
  },
  {
   "cell_type": "code",
   "execution_count": null,
   "metadata": {},
   "outputs": [],
   "source": []
  }
 ],
 "metadata": {
  "kernelspec": {
   "display_name": "Python 3",
   "language": "python",
   "name": "python3"
  },
  "language_info": {
   "codemirror_mode": {
    "name": "ipython",
    "version": 3
   },
   "file_extension": ".py",
   "mimetype": "text/x-python",
   "name": "python",
   "nbconvert_exporter": "python",
   "pygments_lexer": "ipython3",
   "version": "3.6.8"
  }
 },
 "nbformat": 4,
 "nbformat_minor": 4
}
