{
 "cells": [
  {
   "cell_type": "code",
   "execution_count": 2,
   "metadata": {},
   "outputs": [],
   "source": [
    "import matplotlib.pyplot as plt\n",
    "import uproot\n",
    "import numpy as np\n",
    "import pandas as pd\n",
    "\n",
    "import sys\n",
    "sys.path.insert(1, '/afs/desy.de/user/a/axelheim/private/MC_studies/Dstlnu_Bt_generic/util_funcs/')\n",
    "from pandas_colFuncs import B_ID, whichBisSig, D0_decay_type, whichBisSig_NAHS"
   ]
  },
  {
   "cell_type": "markdown",
   "metadata": {},
   "source": [
    "## load the NN"
   ]
  },
  {
   "cell_type": "code",
   "execution_count": 2,
   "metadata": {},
   "outputs": [],
   "source": [
    "nn_vars = [\"px\",\"py\",\"pz\",\"E\",\"M\",\"charge\",\"dr\",\"dz\",\"clusterReg\",\"clusterE9E21\",\"pionID\",\"kaonID\",\"electronID\",\"muonID\",\"protonID\"]"
   ]
  },
  {
   "cell_type": "code",
   "execution_count": 3,
   "metadata": {},
   "outputs": [
    {
     "name": "stdout",
     "output_type": "stream",
     "text": [
      "Using factor graph MLP encoder.\n"
     ]
    },
    {
     "data": {
      "text/plain": [
       "<All keys matched successfully>"
      ]
     },
     "execution_count": 3,
     "metadata": {},
     "output_type": "execute_result"
    }
   ],
   "source": [
    "sys.path.append('/afs/desy.de/user/a/axelheim/private/baumbauen/notebooks/')\n",
    "from BranchSeparatorModel import BranchSeparatorModel\n",
    "# See below why I put this\n",
    "\n",
    "\n",
    "\n",
    "model_dir=\"/nfs/dust/belle2/user/axelheim/MC_studies/Dstlnu_Bt_generic/saved_models/NAHSA_Gmodes_fixedD0modes/NAHS_allEvts_twoSubs_fixedD0run/NAHSA_no_xyz/256_0_64_0.1_4/\"\n",
    "checkpoint_name = \"model_checkpoint_model_perfectSA=0.7674.pt\"\n",
    "specs_output_label = \"256_0_64_0.1_4\"\n",
    "num_classes = 3    \n",
    "\n",
    "\n",
    "specs = specs_output_label.split(\"_\")\n",
    "\n",
    "model = BranchSeparatorModel(infeatures=len(nn_vars),\n",
    "            dim_feedforward=int(specs[0]),\n",
    "            num_classes=num_classes,\n",
    "            dropout=float(specs[3]),\n",
    "            nblocks=int(specs[4]))\n",
    "\n",
    "\n",
    "\n",
    "import torch\n",
    "\n",
    "checkpoint = torch.load(model_dir +  checkpoint_name, map_location=torch.device('cpu'))\n",
    "model.load_state_dict(checkpoint)"
   ]
  },
  {
   "cell_type": "markdown",
   "metadata": {},
   "source": [
    "## load the online data"
   ]
  },
  {
   "cell_type": "code",
   "execution_count": 4,
   "metadata": {},
   "outputs": [],
   "source": [
    "nfs_path = \"/nfs/dust/belle2/user/axelheim/MC_studies/Dstlnu_Bt_generic/appliedNNdata/8thRun/\"\n",
    "#nfs_path=\"/afs/desy.de/user/a/axelheim/private/MC_studies/Dstlnu_Bt_generic/load_NN_to_basf2/productive_method/testOut/\""
   ]
  },
  {
   "cell_type": "code",
   "execution_count": 5,
   "metadata": {},
   "outputs": [],
   "source": [
    "FSPs_file = uproot.open(nfs_path + \"FSPs.root:variables;1\")\n",
    "df_FSPs = FSPs_file.arrays(library=\"pd\")"
   ]
  },
  {
   "cell_type": "markdown",
   "metadata": {},
   "source": [
    "## add labels"
   ]
  },
  {
   "cell_type": "code",
   "execution_count": 6,
   "metadata": {},
   "outputs": [],
   "source": [
    "df_FSPs['B_ID'] = df_FSPs.apply(B_ID, axis=1)"
   ]
  },
  {
   "cell_type": "code",
   "execution_count": 7,
   "metadata": {},
   "outputs": [],
   "source": [
    "Hc_motherB_df = df_FSPs[df_FSPs[\"NN_prediction\"].isna() == True].drop_duplicates(subset=(\"__event__\"), keep='first')\n",
    "Hc_motherB_df[\"B_tag_ID\"] = Hc_motherB_df[\"B_ID\"]\n",
    "df_FSPs = pd.merge(df_FSPs,Hc_motherB_df[[\"__event__\",\"__production__\",\"B_tag_ID\"]], on=[\"__event__\",\"__production__\"])"
   ]
  },
  {
   "cell_type": "code",
   "execution_count": 8,
   "metadata": {},
   "outputs": [],
   "source": [
    "def labels(s):\n",
    "    label = -1\n",
    "    if int(s['B_ID']) == 0:\n",
    "        label = 0 # background, cause not related to MC Particles\n",
    "    else: \n",
    "        B_tagID = s['B_tag_ID']\n",
    "        \n",
    "        if int(s['B_ID']) == B_tagID:\n",
    "            label = 1 # X\n",
    "        else:\n",
    "            label = 2 # Bsig\n",
    "    return label\n",
    "df_FSPs['label'] = df_FSPs.apply(labels, axis=1)"
   ]
  },
  {
   "cell_type": "code",
   "execution_count": 9,
   "metadata": {},
   "outputs": [],
   "source": [
    "df_FSPs[\"correct_pred_onlineNN\"] = (df_FSPs[\"label\"] == df_FSPs[\"NN_prediction\"]).astype(int)"
   ]
  },
  {
   "cell_type": "code",
   "execution_count": 10,
   "metadata": {},
   "outputs": [
    {
     "data": {
      "text/plain": [
       "848135"
      ]
     },
     "execution_count": 10,
     "metadata": {},
     "output_type": "execute_result"
    }
   ],
   "source": [
    "df_FSPs.shape[0]"
   ]
  },
  {
   "cell_type": "markdown",
   "metadata": {},
   "source": [
    "## prepare input for NN"
   ]
  },
  {
   "cell_type": "code",
   "execution_count": 11,
   "metadata": {},
   "outputs": [],
   "source": [
    "nonHc_FSPs = df_FSPs[df_FSPs[\"NN_prediction\"].notna() == True]"
   ]
  },
  {
   "cell_type": "code",
   "execution_count": 12,
   "metadata": {},
   "outputs": [
    {
     "data": {
      "text/plain": [
       "count    702287.000000\n",
       "mean          1.159428\n",
       "std           0.760966\n",
       "min           0.000000\n",
       "25%           1.000000\n",
       "50%           1.000000\n",
       "75%           2.000000\n",
       "max           2.000000\n",
       "Name: NN_prediction, dtype: float64"
      ]
     },
     "execution_count": 12,
     "metadata": {},
     "output_type": "execute_result"
    }
   ],
   "source": [
    "nonHc_FSPs[\"NN_prediction\"].describe()"
   ]
  },
  {
   "cell_type": "code",
   "execution_count": 13,
   "metadata": {},
   "outputs": [
    {
     "data": {
      "text/plain": [
       "702287"
      ]
     },
     "execution_count": 13,
     "metadata": {},
     "output_type": "execute_result"
    }
   ],
   "source": [
    "nonHc_FSPs.shape[0]"
   ]
  },
  {
   "cell_type": "code",
   "execution_count": 14,
   "metadata": {},
   "outputs": [
    {
     "name": "stderr",
     "output_type": "stream",
     "text": [
      "<ipython-input-14-83b3aaa500f8>:1: SettingWithCopyWarning: \n",
      "A value is trying to be set on a copy of a slice from a DataFrame.\n",
      "Try using .loc[row_indexer,col_indexer] = value instead\n",
      "\n",
      "See the caveats in the documentation: https://pandas.pydata.org/pandas-docs/stable/user_guide/indexing.html#returning-a-view-versus-a-copy\n",
      "  nonHc_FSPs[\"offline_NN_pred\"] = -1\n",
      "<ipython-input-14-83b3aaa500f8>:2: SettingWithCopyWarning: \n",
      "A value is trying to be set on a copy of a slice from a DataFrame.\n",
      "Try using .loc[row_indexer,col_indexer] = value instead\n",
      "\n",
      "See the caveats in the documentation: https://pandas.pydata.org/pandas-docs/stable/user_guide/indexing.html#returning-a-view-versus-a-copy\n",
      "  nonHc_FSPs[\"offline_NN_pred_shuffled\"] = -1\n"
     ]
    }
   ],
   "source": [
    "nonHc_FSPs[\"offline_NN_pred\"] = -1\n",
    "nonHc_FSPs[\"offline_NN_pred_shuffled\"] = -1"
   ]
  },
  {
   "cell_type": "code",
   "execution_count": 15,
   "metadata": {},
   "outputs": [],
   "source": [
    "evts = nonHc_FSPs[\"__event__\"].unique()"
   ]
  },
  {
   "cell_type": "code",
   "execution_count": 16,
   "metadata": {},
   "outputs": [
    {
     "name": "stdout",
     "output_type": "stream",
     "text": [
      "44945\n"
     ]
    }
   ],
   "source": [
    "print(len(evts))"
   ]
  },
  {
   "cell_type": "code",
   "execution_count": 17,
   "metadata": {
    "scrolled": true
   },
   "outputs": [
    {
     "data": {
      "text/plain": [
       "2336782"
      ]
     },
     "execution_count": 17,
     "metadata": {},
     "output_type": "execute_result"
    }
   ],
   "source": [
    "evts[2]"
   ]
  },
  {
   "cell_type": "code",
   "execution_count": 18,
   "metadata": {
    "scrolled": true
   },
   "outputs": [
    {
     "name": "stdout",
     "output_type": "stream",
     "text": [
      "processing evt 0 of 44945\n",
      "processing evt 100 of 44945\n",
      "processing evt 200 of 44945\n",
      "processing evt 300 of 44945\n",
      "processing evt 400 of 44945\n",
      "processing evt 500 of 44945\n",
      "processing evt 600 of 44945\n",
      "processing evt 700 of 44945\n",
      "processing evt 800 of 44945\n",
      "processing evt 900 of 44945\n",
      "processing evt 1000 of 44945\n",
      "processing evt 1100 of 44945\n",
      "processing evt 1200 of 44945\n",
      "processing evt 1300 of 44945\n",
      "processing evt 1400 of 44945\n",
      "processing evt 1500 of 44945\n",
      "processing evt 1600 of 44945\n",
      "processing evt 1700 of 44945\n",
      "processing evt 1800 of 44945\n",
      "processing evt 1900 of 44945\n",
      "processing evt 2000 of 44945\n",
      "processing evt 2100 of 44945\n",
      "processing evt 2200 of 44945\n",
      "processing evt 2300 of 44945\n",
      "processing evt 2400 of 44945\n",
      "processing evt 2500 of 44945\n",
      "processing evt 2600 of 44945\n",
      "processing evt 2700 of 44945\n",
      "processing evt 2800 of 44945\n",
      "processing evt 2900 of 44945\n",
      "processing evt 3000 of 44945\n",
      "processing evt 3100 of 44945\n",
      "processing evt 3200 of 44945\n",
      "processing evt 3300 of 44945\n",
      "processing evt 3400 of 44945\n",
      "processing evt 3500 of 44945\n",
      "processing evt 3600 of 44945\n",
      "processing evt 3700 of 44945\n",
      "processing evt 3800 of 44945\n",
      "processing evt 3900 of 44945\n",
      "processing evt 4000 of 44945\n",
      "processing evt 4100 of 44945\n",
      "processing evt 4200 of 44945\n",
      "processing evt 4300 of 44945\n",
      "processing evt 4400 of 44945\n",
      "processing evt 4500 of 44945\n",
      "processing evt 4600 of 44945\n",
      "processing evt 4700 of 44945\n",
      "processing evt 4800 of 44945\n",
      "processing evt 4900 of 44945\n",
      "processing evt 5000 of 44945\n",
      "processing evt 5100 of 44945\n",
      "processing evt 5200 of 44945\n",
      "processing evt 5300 of 44945\n",
      "processing evt 5400 of 44945\n",
      "processing evt 5500 of 44945\n",
      "processing evt 5600 of 44945\n",
      "processing evt 5700 of 44945\n",
      "processing evt 5800 of 44945\n",
      "processing evt 5900 of 44945\n",
      "processing evt 6000 of 44945\n",
      "processing evt 6100 of 44945\n",
      "processing evt 6200 of 44945\n",
      "processing evt 6300 of 44945\n",
      "processing evt 6400 of 44945\n",
      "processing evt 6500 of 44945\n",
      "processing evt 6600 of 44945\n",
      "processing evt 6700 of 44945\n",
      "processing evt 6800 of 44945\n",
      "processing evt 6900 of 44945\n",
      "processing evt 7000 of 44945\n",
      "processing evt 7100 of 44945\n",
      "processing evt 7200 of 44945\n",
      "processing evt 7300 of 44945\n",
      "processing evt 7400 of 44945\n",
      "processing evt 7500 of 44945\n",
      "processing evt 7600 of 44945\n",
      "processing evt 7700 of 44945\n",
      "processing evt 7800 of 44945\n",
      "processing evt 7900 of 44945\n",
      "processing evt 8000 of 44945\n",
      "processing evt 8100 of 44945\n",
      "processing evt 8200 of 44945\n",
      "processing evt 8300 of 44945\n",
      "processing evt 8400 of 44945\n",
      "processing evt 8500 of 44945\n",
      "processing evt 8600 of 44945\n",
      "processing evt 8700 of 44945\n",
      "processing evt 8800 of 44945\n",
      "processing evt 8900 of 44945\n",
      "processing evt 9000 of 44945\n",
      "processing evt 9100 of 44945\n",
      "processing evt 9200 of 44945\n",
      "processing evt 9300 of 44945\n",
      "processing evt 9400 of 44945\n",
      "processing evt 9500 of 44945\n",
      "processing evt 9600 of 44945\n",
      "processing evt 9700 of 44945\n",
      "processing evt 9800 of 44945\n",
      "processing evt 9900 of 44945\n",
      "processing evt 10000 of 44945\n",
      "processing evt 10100 of 44945\n",
      "processing evt 10200 of 44945\n",
      "processing evt 10300 of 44945\n",
      "processing evt 10400 of 44945\n",
      "processing evt 10500 of 44945\n",
      "processing evt 10600 of 44945\n",
      "processing evt 10700 of 44945\n",
      "processing evt 10800 of 44945\n",
      "processing evt 10900 of 44945\n",
      "processing evt 11000 of 44945\n",
      "processing evt 11100 of 44945\n",
      "processing evt 11200 of 44945\n",
      "processing evt 11300 of 44945\n",
      "processing evt 11400 of 44945\n",
      "processing evt 11500 of 44945\n",
      "processing evt 11600 of 44945\n",
      "processing evt 11700 of 44945\n",
      "processing evt 11800 of 44945\n",
      "processing evt 11900 of 44945\n",
      "processing evt 12000 of 44945\n",
      "processing evt 12100 of 44945\n",
      "processing evt 12200 of 44945\n",
      "processing evt 12300 of 44945\n",
      "processing evt 12400 of 44945\n",
      "processing evt 12500 of 44945\n",
      "processing evt 12600 of 44945\n",
      "processing evt 12700 of 44945\n",
      "processing evt 12800 of 44945\n",
      "processing evt 12900 of 44945\n",
      "processing evt 13000 of 44945\n",
      "processing evt 13100 of 44945\n",
      "processing evt 13200 of 44945\n",
      "processing evt 13300 of 44945\n",
      "processing evt 13400 of 44945\n",
      "processing evt 13500 of 44945\n",
      "processing evt 13600 of 44945\n",
      "processing evt 13700 of 44945\n",
      "processing evt 13800 of 44945\n",
      "processing evt 13900 of 44945\n",
      "processing evt 14000 of 44945\n",
      "processing evt 14100 of 44945\n",
      "processing evt 14200 of 44945\n",
      "processing evt 14300 of 44945\n",
      "processing evt 14400 of 44945\n",
      "processing evt 14500 of 44945\n",
      "processing evt 14600 of 44945\n",
      "processing evt 14700 of 44945\n",
      "processing evt 14800 of 44945\n",
      "processing evt 14900 of 44945\n",
      "processing evt 15000 of 44945\n",
      "processing evt 15100 of 44945\n",
      "processing evt 15200 of 44945\n",
      "processing evt 15300 of 44945\n",
      "processing evt 15400 of 44945\n",
      "processing evt 15500 of 44945\n",
      "processing evt 15600 of 44945\n",
      "processing evt 15700 of 44945\n",
      "processing evt 15800 of 44945\n",
      "processing evt 15900 of 44945\n",
      "processing evt 16000 of 44945\n",
      "processing evt 16100 of 44945\n",
      "processing evt 16200 of 44945\n",
      "processing evt 16300 of 44945\n",
      "processing evt 16400 of 44945\n",
      "processing evt 16500 of 44945\n",
      "processing evt 16600 of 44945\n",
      "processing evt 16700 of 44945\n",
      "processing evt 16800 of 44945\n",
      "processing evt 16900 of 44945\n",
      "processing evt 17000 of 44945\n",
      "processing evt 17100 of 44945\n",
      "processing evt 17200 of 44945\n",
      "processing evt 17300 of 44945\n",
      "processing evt 17400 of 44945\n",
      "processing evt 17500 of 44945\n",
      "processing evt 17600 of 44945\n",
      "processing evt 17700 of 44945\n",
      "processing evt 17800 of 44945\n",
      "processing evt 17900 of 44945\n",
      "processing evt 18000 of 44945\n",
      "processing evt 18100 of 44945\n",
      "processing evt 18200 of 44945\n",
      "processing evt 18300 of 44945\n",
      "processing evt 18400 of 44945\n",
      "processing evt 18500 of 44945\n",
      "processing evt 18600 of 44945\n",
      "processing evt 18700 of 44945\n",
      "processing evt 18800 of 44945\n",
      "processing evt 18900 of 44945\n",
      "processing evt 19000 of 44945\n",
      "processing evt 19100 of 44945\n",
      "processing evt 19200 of 44945\n",
      "processing evt 19300 of 44945\n",
      "processing evt 19400 of 44945\n",
      "processing evt 19500 of 44945\n",
      "processing evt 19600 of 44945\n",
      "processing evt 19700 of 44945\n",
      "processing evt 19800 of 44945\n",
      "processing evt 19900 of 44945\n",
      "processing evt 20000 of 44945\n",
      "processing evt 20100 of 44945\n",
      "processing evt 20200 of 44945\n",
      "processing evt 20300 of 44945\n",
      "processing evt 20400 of 44945\n",
      "processing evt 20500 of 44945\n",
      "processing evt 20600 of 44945\n",
      "processing evt 20700 of 44945\n",
      "processing evt 20800 of 44945\n",
      "processing evt 20900 of 44945\n",
      "processing evt 21000 of 44945\n",
      "processing evt 21100 of 44945\n",
      "processing evt 21200 of 44945\n",
      "processing evt 21300 of 44945\n",
      "processing evt 21400 of 44945\n",
      "processing evt 21500 of 44945\n",
      "processing evt 21600 of 44945\n",
      "processing evt 21700 of 44945\n",
      "processing evt 21800 of 44945\n",
      "processing evt 21900 of 44945\n",
      "processing evt 22000 of 44945\n",
      "processing evt 22100 of 44945\n",
      "processing evt 22200 of 44945\n",
      "processing evt 22300 of 44945\n",
      "processing evt 22400 of 44945\n",
      "processing evt 22500 of 44945\n",
      "processing evt 22600 of 44945\n",
      "processing evt 22700 of 44945\n",
      "processing evt 22800 of 44945\n",
      "processing evt 22900 of 44945\n",
      "processing evt 23000 of 44945\n",
      "processing evt 23100 of 44945\n",
      "processing evt 23200 of 44945\n",
      "processing evt 23300 of 44945\n",
      "processing evt 23400 of 44945\n",
      "processing evt 23500 of 44945\n",
      "processing evt 23600 of 44945\n",
      "processing evt 23700 of 44945\n",
      "processing evt 23800 of 44945\n",
      "processing evt 23900 of 44945\n",
      "processing evt 24000 of 44945\n",
      "processing evt 24100 of 44945\n",
      "processing evt 24200 of 44945\n",
      "processing evt 24300 of 44945\n",
      "processing evt 24400 of 44945\n",
      "processing evt 24500 of 44945\n",
      "processing evt 24600 of 44945\n",
      "processing evt 24700 of 44945\n",
      "processing evt 24800 of 44945\n",
      "processing evt 24900 of 44945\n",
      "processing evt 25000 of 44945\n",
      "processing evt 25100 of 44945\n",
      "processing evt 25200 of 44945\n",
      "processing evt 25300 of 44945\n",
      "processing evt 25400 of 44945\n",
      "processing evt 25500 of 44945\n",
      "processing evt 25600 of 44945\n",
      "processing evt 25700 of 44945\n",
      "processing evt 25800 of 44945\n",
      "processing evt 25900 of 44945\n",
      "processing evt 26000 of 44945\n",
      "processing evt 26100 of 44945\n",
      "processing evt 26200 of 44945\n",
      "processing evt 26300 of 44945\n",
      "processing evt 26400 of 44945\n",
      "processing evt 26500 of 44945\n",
      "processing evt 26600 of 44945\n",
      "processing evt 26700 of 44945\n",
      "processing evt 26800 of 44945\n",
      "processing evt 26900 of 44945\n",
      "processing evt 27000 of 44945\n",
      "processing evt 27100 of 44945\n",
      "processing evt 27200 of 44945\n",
      "processing evt 27300 of 44945\n",
      "processing evt 27400 of 44945\n",
      "processing evt 27500 of 44945\n",
      "processing evt 27600 of 44945\n"
     ]
    },
    {
     "name": "stdout",
     "output_type": "stream",
     "text": [
      "processing evt 27700 of 44945\n",
      "processing evt 27800 of 44945\n",
      "processing evt 27900 of 44945\n",
      "processing evt 28000 of 44945\n",
      "processing evt 28100 of 44945\n",
      "processing evt 28200 of 44945\n",
      "processing evt 28300 of 44945\n",
      "processing evt 28400 of 44945\n",
      "processing evt 28500 of 44945\n",
      "processing evt 28600 of 44945\n",
      "processing evt 28700 of 44945\n",
      "processing evt 28800 of 44945\n",
      "processing evt 28900 of 44945\n",
      "processing evt 29000 of 44945\n",
      "processing evt 29100 of 44945\n",
      "processing evt 29200 of 44945\n",
      "processing evt 29300 of 44945\n",
      "processing evt 29400 of 44945\n",
      "processing evt 29500 of 44945\n",
      "processing evt 29600 of 44945\n",
      "processing evt 29700 of 44945\n",
      "processing evt 29800 of 44945\n",
      "processing evt 29900 of 44945\n",
      "processing evt 30000 of 44945\n",
      "processing evt 30100 of 44945\n",
      "processing evt 30200 of 44945\n",
      "processing evt 30300 of 44945\n",
      "processing evt 30400 of 44945\n",
      "processing evt 30500 of 44945\n",
      "processing evt 30600 of 44945\n",
      "processing evt 30700 of 44945\n",
      "processing evt 30800 of 44945\n",
      "processing evt 30900 of 44945\n",
      "processing evt 31000 of 44945\n",
      "processing evt 31100 of 44945\n",
      "processing evt 31200 of 44945\n",
      "processing evt 31300 of 44945\n",
      "processing evt 31400 of 44945\n",
      "processing evt 31500 of 44945\n",
      "processing evt 31600 of 44945\n",
      "processing evt 31700 of 44945\n",
      "processing evt 31800 of 44945\n",
      "processing evt 31900 of 44945\n",
      "processing evt 32000 of 44945\n",
      "processing evt 32100 of 44945\n",
      "processing evt 32200 of 44945\n",
      "processing evt 32300 of 44945\n",
      "processing evt 32400 of 44945\n",
      "processing evt 32500 of 44945\n",
      "processing evt 32600 of 44945\n",
      "processing evt 32700 of 44945\n",
      "processing evt 32800 of 44945\n",
      "processing evt 32900 of 44945\n",
      "processing evt 33000 of 44945\n",
      "processing evt 33100 of 44945\n",
      "processing evt 33200 of 44945\n",
      "processing evt 33300 of 44945\n",
      "processing evt 33400 of 44945\n",
      "processing evt 33500 of 44945\n",
      "processing evt 33600 of 44945\n",
      "processing evt 33700 of 44945\n",
      "processing evt 33800 of 44945\n",
      "processing evt 33900 of 44945\n",
      "processing evt 34000 of 44945\n",
      "processing evt 34100 of 44945\n",
      "processing evt 34200 of 44945\n",
      "processing evt 34300 of 44945\n",
      "processing evt 34400 of 44945\n",
      "processing evt 34500 of 44945\n",
      "processing evt 34600 of 44945\n",
      "processing evt 34700 of 44945\n",
      "processing evt 34800 of 44945\n",
      "processing evt 34900 of 44945\n",
      "processing evt 35000 of 44945\n",
      "processing evt 35100 of 44945\n",
      "processing evt 35200 of 44945\n",
      "processing evt 35300 of 44945\n",
      "processing evt 35400 of 44945\n",
      "processing evt 35500 of 44945\n",
      "processing evt 35600 of 44945\n",
      "processing evt 35700 of 44945\n",
      "processing evt 35800 of 44945\n",
      "processing evt 35900 of 44945\n",
      "processing evt 36000 of 44945\n",
      "processing evt 36100 of 44945\n",
      "processing evt 36200 of 44945\n",
      "processing evt 36300 of 44945\n",
      "processing evt 36400 of 44945\n",
      "processing evt 36500 of 44945\n",
      "processing evt 36600 of 44945\n",
      "processing evt 36700 of 44945\n",
      "processing evt 36800 of 44945\n",
      "processing evt 36900 of 44945\n",
      "processing evt 37000 of 44945\n",
      "processing evt 37100 of 44945\n",
      "processing evt 37200 of 44945\n",
      "processing evt 37300 of 44945\n",
      "processing evt 37400 of 44945\n",
      "processing evt 37500 of 44945\n",
      "processing evt 37600 of 44945\n",
      "processing evt 37700 of 44945\n",
      "processing evt 37800 of 44945\n",
      "processing evt 37900 of 44945\n",
      "processing evt 38000 of 44945\n",
      "processing evt 38100 of 44945\n",
      "processing evt 38200 of 44945\n",
      "processing evt 38300 of 44945\n",
      "processing evt 38400 of 44945\n",
      "processing evt 38500 of 44945\n",
      "processing evt 38600 of 44945\n",
      "processing evt 38700 of 44945\n",
      "processing evt 38800 of 44945\n",
      "processing evt 38900 of 44945\n",
      "processing evt 39000 of 44945\n",
      "processing evt 39100 of 44945\n",
      "processing evt 39200 of 44945\n",
      "processing evt 39300 of 44945\n",
      "processing evt 39400 of 44945\n",
      "processing evt 39500 of 44945\n",
      "processing evt 39600 of 44945\n",
      "processing evt 39700 of 44945\n",
      "processing evt 39800 of 44945\n",
      "processing evt 39900 of 44945\n",
      "processing evt 40000 of 44945\n",
      "processing evt 40100 of 44945\n",
      "processing evt 40200 of 44945\n",
      "processing evt 40300 of 44945\n",
      "processing evt 40400 of 44945\n",
      "processing evt 40500 of 44945\n",
      "processing evt 40600 of 44945\n",
      "processing evt 40700 of 44945\n",
      "processing evt 40800 of 44945\n",
      "processing evt 40900 of 44945\n",
      "processing evt 41000 of 44945\n",
      "processing evt 41100 of 44945\n",
      "processing evt 41200 of 44945\n",
      "processing evt 41300 of 44945\n",
      "processing evt 41400 of 44945\n",
      "processing evt 41500 of 44945\n",
      "processing evt 41600 of 44945\n",
      "processing evt 41700 of 44945\n",
      "processing evt 41800 of 44945\n",
      "processing evt 41900 of 44945\n",
      "processing evt 42000 of 44945\n",
      "processing evt 42100 of 44945\n",
      "processing evt 42200 of 44945\n",
      "processing evt 42300 of 44945\n",
      "processing evt 42400 of 44945\n",
      "processing evt 42500 of 44945\n",
      "processing evt 42600 of 44945\n",
      "processing evt 42700 of 44945\n",
      "processing evt 42800 of 44945\n",
      "processing evt 42900 of 44945\n",
      "processing evt 43000 of 44945\n",
      "processing evt 43100 of 44945\n",
      "processing evt 43200 of 44945\n",
      "processing evt 43300 of 44945\n",
      "processing evt 43400 of 44945\n",
      "processing evt 43500 of 44945\n",
      "processing evt 43600 of 44945\n",
      "processing evt 43700 of 44945\n",
      "processing evt 43800 of 44945\n",
      "processing evt 43900 of 44945\n",
      "processing evt 44000 of 44945\n",
      "processing evt 44100 of 44945\n",
      "processing evt 44200 of 44945\n",
      "processing evt 44300 of 44945\n",
      "processing evt 44400 of 44945\n",
      "processing evt 44500 of 44945\n",
      "processing evt 44600 of 44945\n",
      "processing evt 44700 of 44945\n",
      "processing evt 44800 of 44945\n",
      "processing evt 44900 of 44945\n"
     ]
    }
   ],
   "source": [
    "labels=[]\n",
    "evtnum=[]\n",
    "online_NN_pred=[]\n",
    "offline_NN_pred=[]\n",
    "offline_NN_pred_shuff=[]\n",
    "\n",
    "for i in range(len(evts)):\n",
    "    one_evt = nonHc_FSPs[(nonHc_FSPs[\"__event__\"] == evts[i])]\n",
    "    \n",
    "    if (i % 100) == 0:\n",
    "        print(\"processing evt\",i,\"of\",len(evts))\n",
    "    \n",
    "    \n",
    "    num_particles = one_evt.shape[0]\n",
    "    \n",
    "    tmp_par_vars = []\n",
    "    \n",
    "    for j in range(num_particles):\n",
    "        particle = one_evt.iloc[j]\n",
    "        #print(particle)\n",
    "        readOut_features = [particle[var] for var in nn_vars]\n",
    "        tmp_par_vars.append(readOut_features)\n",
    "\n",
    "    NN_input_features = np.array([np.array(xi) for xi in tmp_par_vars])\n",
    "\n",
    "    # impute the nan values with -1. (check if that's logical for all values if input vars get changed)\n",
    "    NN_input_features= np.nan_to_num(NN_input_features, copy=False, nan=-1.0)\n",
    "\n",
    "    shape = NN_input_features.shape\n",
    "    NN_input_features = NN_input_features.reshape(shape[0], 1, shape[1])\n",
    "\n",
    "    #print(\"NN_input_features.shape:\",NN_input_features.shape)\n",
    "    NN_input_features = torch.Tensor(NN_input_features)\n",
    "    #print(NN_input_features.shape[0])\n",
    "\n",
    "    SA_pred = model(NN_input_features)\n",
    "\n",
    "    probs = torch.softmax(SA_pred, dim=1)  # (N, C, d1)\n",
    "    winners = probs.argmax(dim=1)\n",
    "    \n",
    "    \n",
    "    shape = NN_input_features.shape\n",
    "    r=torch.randperm(shape[0])\n",
    "    shuffled_input=NN_input_features[r, :, :]\n",
    "    \n",
    "    shuffled_SA_pred = model(shuffled_input)\n",
    "\n",
    "    shuffled_probs = torch.softmax(shuffled_SA_pred, dim=1)  # (N, C, d1)\n",
    "    shuffled_winners = shuffled_probs.argmax(dim=1)\n",
    "    #print(\"r:\",r)\n",
    "    for j in range(num_particles):\n",
    "        particle = one_evt.iloc[j]\n",
    "        labels.append(particle[\"label\"].item())\n",
    "        evtnum.append(particle[\"__event__\"].item())\n",
    "        online_NN_pred.append(particle[\"NN_prediction\"].item())\n",
    "        #particle[\"offline_NN_pred\"] = winners[0,j].item()\n",
    "        offline_NN_pred.append(winners[0,j].item())\n",
    "        \n",
    "        \n",
    "        index_Shuffreversed = (r == j).nonzero(as_tuple=True)[0].item()\n",
    "        #print(\"j:\",j,\"index_Shuffreversed:\",index_Shuffreversed)\n",
    "        offline_NN_pred_shuff.append(shuffled_winners[0,index_Shuffreversed].item())\n",
    "        \n",
    "        #particle[\"offline_NN_pred_shuffled\"] = shuffled_winners[0,index_Shuffreversed].item()\n",
    "        #one_evt.iloc[j] = particle\n",
    "        \n",
    "    #nonHc_FSPs[(nonHc_FSPs[\"__event__\"] == evts[i])] = one_evt \n"
   ]
  },
  {
   "cell_type": "code",
   "execution_count": 19,
   "metadata": {},
   "outputs": [],
   "source": [
    "NN_results = pd.DataFrame({'__event__': evtnum,\n",
    "                          'label' : labels,\n",
    "                          'online_NN_pred' : online_NN_pred,\n",
    "                          'offline_NN_pred' : offline_NN_pred,\n",
    "                          'offline_NN_pred_shuff' : offline_NN_pred_shuff})"
   ]
  },
  {
   "cell_type": "code",
   "execution_count": null,
   "metadata": {},
   "outputs": [],
   "source": [
    "NN_results.to_csv(nfs_path + \"NN_results.csv\")"
   ]
  },
  {
   "cell_type": "code",
   "execution_count": 5,
   "metadata": {},
   "outputs": [],
   "source": [
    "NN_results = pd.read_csv(nfs_path + \"NN_results.csv\")"
   ]
  },
  {
   "cell_type": "code",
   "execution_count": 6,
   "metadata": {},
   "outputs": [],
   "source": [
    "NN_results[\"off_eq_on\"] = (NN_results[\"offline_NN_pred\"] == NN_results[\"online_NN_pred\"]).astype(int)\n",
    "NN_results[\"off_eq_on_shuffled\"] = (NN_results[\"offline_NN_pred_shuff\"] == NN_results[\"online_NN_pred\"]).astype(int)\n",
    "NN_results[\"unshuff_eq_shuff\"] = (NN_results[\"offline_NN_pred_shuff\"] == NN_results[\"offline_NN_pred\"]).astype(int)"
   ]
  },
  {
   "cell_type": "code",
   "execution_count": 8,
   "metadata": {},
   "outputs": [],
   "source": [
    "NN_results[\"correct_pred_onlineNN\"] = (NN_results[\"label\"] == NN_results[\"online_NN_pred\"]).astype(int)\n",
    "NN_results[\"correct_pred_offlineNN\"] = (NN_results[\"label\"] == NN_results[\"offline_NN_pred\"]).astype(int)\n",
    "NN_results[\"correct_pred_offlineNN_shuff\"] = (NN_results[\"label\"] == NN_results[\"offline_NN_pred_shuff\"]).astype(int)"
   ]
  },
  {
   "cell_type": "code",
   "execution_count": 9,
   "metadata": {},
   "outputs": [
    {
     "name": "stdout",
     "output_type": "stream",
     "text": [
      "off_eq_on\n",
      "81.98799066478519 % \n",
      "\n",
      "off_eq_on_shuffled\n",
      "81.9911232872031 % \n",
      "\n",
      "unshuff_eq_shuff\n",
      "81.89016741018985 % \n",
      "\n",
      "correct_pred_onlineNN\n",
      "60.269234657625724 % \n",
      "\n",
      "correct_pred_offlineNN\n",
      "60.0980795600659 % \n",
      "\n",
      "correct_pred_offlineNN_shuff\n",
      "60.12200140398441 % \n",
      "\n"
     ]
    }
   ],
   "source": [
    "for var in [\"off_eq_on\",\"off_eq_on_shuffled\",\"unshuff_eq_shuff\",\"correct_pred_onlineNN\",\"correct_pred_offlineNN\",\"correct_pred_offlineNN_shuff\"]:\n",
    "    print(var)\n",
    "    print(NN_results[var].mean()*100, '% \\n')"
   ]
  },
  {
   "cell_type": "code",
   "execution_count": 10,
   "metadata": {},
   "outputs": [
    {
     "data": {
      "text/html": [
       "<div>\n",
       "<style scoped>\n",
       "    .dataframe tbody tr th:only-of-type {\n",
       "        vertical-align: middle;\n",
       "    }\n",
       "\n",
       "    .dataframe tbody tr th {\n",
       "        vertical-align: top;\n",
       "    }\n",
       "\n",
       "    .dataframe thead th {\n",
       "        text-align: right;\n",
       "    }\n",
       "</style>\n",
       "<table border=\"1\" class=\"dataframe\">\n",
       "  <thead>\n",
       "    <tr style=\"text-align: right;\">\n",
       "      <th></th>\n",
       "      <th>off_eq_on</th>\n",
       "      <th>correct_pred_onlineNN</th>\n",
       "      <th>correct_pred_offlineNN</th>\n",
       "      <th>count</th>\n",
       "    </tr>\n",
       "  </thead>\n",
       "  <tbody>\n",
       "    <tr>\n",
       "      <th>0</th>\n",
       "      <td>0</td>\n",
       "      <td>0</td>\n",
       "      <td>0</td>\n",
       "      <td>0.026610</td>\n",
       "    </tr>\n",
       "    <tr>\n",
       "      <th>1</th>\n",
       "      <td>0</td>\n",
       "      <td>0</td>\n",
       "      <td>1</td>\n",
       "      <td>0.075899</td>\n",
       "    </tr>\n",
       "    <tr>\n",
       "      <th>2</th>\n",
       "      <td>0</td>\n",
       "      <td>1</td>\n",
       "      <td>0</td>\n",
       "      <td>0.077611</td>\n",
       "    </tr>\n",
       "    <tr>\n",
       "      <th>3</th>\n",
       "      <td>1</td>\n",
       "      <td>0</td>\n",
       "      <td>0</td>\n",
       "      <td>0.294798</td>\n",
       "    </tr>\n",
       "    <tr>\n",
       "      <th>4</th>\n",
       "      <td>1</td>\n",
       "      <td>1</td>\n",
       "      <td>1</td>\n",
       "      <td>0.525082</td>\n",
       "    </tr>\n",
       "  </tbody>\n",
       "</table>\n",
       "</div>"
      ],
      "text/plain": [
       "   off_eq_on  correct_pred_onlineNN  correct_pred_offlineNN     count\n",
       "0          0                      0                       0  0.026610\n",
       "1          0                      0                       1  0.075899\n",
       "2          0                      1                       0  0.077611\n",
       "3          1                      0                       0  0.294798\n",
       "4          1                      1                       1  0.525082"
      ]
     },
     "execution_count": 10,
     "metadata": {},
     "output_type": "execute_result"
    }
   ],
   "source": [
    "off_on_pred = pd.DataFrame({'count' : NN_results.groupby( [\"off_eq_on\",\n",
    "                    \"correct_pred_onlineNN\",\"correct_pred_offlineNN\"] ).size() / NN_results.shape[0] }).reset_index()\n",
    "off_on_pred"
   ]
  },
  {
   "cell_type": "code",
   "execution_count": null,
   "metadata": {},
   "outputs": [],
   "source": []
  }
 ],
 "metadata": {
  "kernelspec": {
   "display_name": "Python 3",
   "language": "python",
   "name": "python3"
  },
  "language_info": {
   "codemirror_mode": {
    "name": "ipython",
    "version": 3
   },
   "file_extension": ".py",
   "mimetype": "text/x-python",
   "name": "python",
   "nbconvert_exporter": "python",
   "pygments_lexer": "ipython3",
   "version": "3.8.6"
  }
 },
 "nbformat": 4,
 "nbformat_minor": 4
}
