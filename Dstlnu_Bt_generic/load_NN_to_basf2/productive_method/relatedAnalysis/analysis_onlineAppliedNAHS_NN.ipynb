{
 "cells": [
  {
   "cell_type": "code",
   "execution_count": 1,
   "metadata": {},
   "outputs": [],
   "source": [
    "import matplotlib.pyplot as plt\n",
    "import uproot\n",
    "import numpy as np\n",
    "import pandas as pd\n",
    "\n",
    "import sys\n",
    "sys.path.insert(1, '/afs/desy.de/user/a/axelheim/private/MC_studies/Dstlnu_Bt_generic/util_funcs/')\n",
    "from pandas_colFuncs import B_ID, whichBisSig"
   ]
  },
  {
   "cell_type": "code",
   "execution_count": 2,
   "metadata": {},
   "outputs": [],
   "source": [
    "nfs_path = \"/nfs/dust/belle2/user/axelheim/MC_studies/Dstlnu_Bt_generic/appliedNNdata/thirdRun/\""
   ]
  },
  {
   "cell_type": "code",
   "execution_count": 3,
   "metadata": {},
   "outputs": [],
   "source": [
    "Ups4S_file = uproot.open(nfs_path + \"Ups4S_NN_predicted.root:variables;1\")\n",
    "df_Ups4S = Ups4S_file.arrays(library=\"pd\")"
   ]
  },
  {
   "cell_type": "code",
   "execution_count": 6,
   "metadata": {},
   "outputs": [],
   "source": [
    "FSPs_file = uproot.open(nfs_path + \"FSPs.root:variables;1\")\n",
    "df_FSPs = FSPs_file.arrays(library=\"pd\")"
   ]
  },
  {
   "cell_type": "markdown",
   "metadata": {},
   "source": [
    "## save df's"
   ]
  },
  {
   "cell_type": "code",
   "execution_count": 7,
   "metadata": {},
   "outputs": [],
   "source": [
    "df_FSPs.to_csv(nfs_path + \"FSPs_df.csv\")"
   ]
  },
  {
   "cell_type": "code",
   "execution_count": 5,
   "metadata": {},
   "outputs": [],
   "source": [
    "df_Ups4S.to_csv(nfs_path + \"Ups4S_df.csv\")"
   ]
  },
  {
   "cell_type": "markdown",
   "metadata": {},
   "source": [
    "## load df's"
   ]
  },
  {
   "cell_type": "code",
   "execution_count": 3,
   "metadata": {},
   "outputs": [],
   "source": [
    "df_Ups4S = pd.read_csv(nfs_path + \"Ups4S_df.csv\")\n",
    "df_FSPs = pd.read_csv(nfs_path + \"FSPs_df.csv\")"
   ]
  },
  {
   "cell_type": "markdown",
   "metadata": {},
   "source": [
    "# Analysis"
   ]
  },
  {
   "cell_type": "markdown",
   "metadata": {},
   "source": [
    "### add and check cols"
   ]
  },
  {
   "cell_type": "code",
   "execution_count": 4,
   "metadata": {},
   "outputs": [],
   "source": [
    "df_Ups4S[\"abs_m2RecoilSignalSide\"] = df_Ups4S[\"m2RecoilSignalSide\"].abs() \n",
    "BCS_df = df_Ups4S.sort_values(\"abs_m2RecoilSignalSide\",ascending=True).drop_duplicates(subset=(\"__event__\"), keep='first')"
   ]
  },
  {
   "cell_type": "code",
   "execution_count": 5,
   "metadata": {},
   "outputs": [],
   "source": [
    "df_FSPs['B_ID'] = df_FSPs.apply(B_ID, axis=1)"
   ]
  },
  {
   "cell_type": "code",
   "execution_count": 6,
   "metadata": {},
   "outputs": [],
   "source": [
    "BCS_df['Bsig_uniqParID_pdMethod'] = BCS_df.apply(whichBisSig, axis=1)"
   ]
  },
  {
   "cell_type": "code",
   "execution_count": 7,
   "metadata": {},
   "outputs": [],
   "source": [
    "Hc_motherB_df = df_FSPs[df_FSPs[\"NN_prediction\"].isna() == True].drop_duplicates(subset=(\"__event__\"), keep='first')"
   ]
  },
  {
   "cell_type": "code",
   "execution_count": 8,
   "metadata": {},
   "outputs": [],
   "source": [
    "Hc_motherB_df[\"B_tag_ID\"] = Hc_motherB_df[\"B_ID\"]"
   ]
  },
  {
   "cell_type": "code",
   "execution_count": 9,
   "metadata": {},
   "outputs": [
    {
     "data": {
      "text/html": [
       "<div>\n",
       "<style scoped>\n",
       "    .dataframe tbody tr th:only-of-type {\n",
       "        vertical-align: middle;\n",
       "    }\n",
       "\n",
       "    .dataframe tbody tr th {\n",
       "        vertical-align: top;\n",
       "    }\n",
       "\n",
       "    .dataframe thead th {\n",
       "        text-align: right;\n",
       "    }\n",
       "</style>\n",
       "<table border=\"1\" class=\"dataframe\">\n",
       "  <thead>\n",
       "    <tr style=\"text-align: right;\">\n",
       "      <th></th>\n",
       "      <th>__event__</th>\n",
       "      <th>__production__</th>\n",
       "      <th>B_ID</th>\n",
       "      <th>B_tag_ID</th>\n",
       "      <th>NN_prediction</th>\n",
       "    </tr>\n",
       "  </thead>\n",
       "  <tbody>\n",
       "    <tr>\n",
       "      <th>0</th>\n",
       "      <td>2334642</td>\n",
       "      <td>16816</td>\n",
       "      <td>83886082</td>\n",
       "      <td>83886082</td>\n",
       "      <td>NaN</td>\n",
       "    </tr>\n",
       "    <tr>\n",
       "      <th>3</th>\n",
       "      <td>2336150</td>\n",
       "      <td>16816</td>\n",
       "      <td>83886082</td>\n",
       "      <td>83886082</td>\n",
       "      <td>NaN</td>\n",
       "    </tr>\n",
       "    <tr>\n",
       "      <th>9</th>\n",
       "      <td>2339318</td>\n",
       "      <td>16816</td>\n",
       "      <td>83886082</td>\n",
       "      <td>83886082</td>\n",
       "      <td>NaN</td>\n",
       "    </tr>\n",
       "    <tr>\n",
       "      <th>11</th>\n",
       "      <td>3672751</td>\n",
       "      <td>16816</td>\n",
       "      <td>83886082</td>\n",
       "      <td>83886082</td>\n",
       "      <td>NaN</td>\n",
       "    </tr>\n",
       "    <tr>\n",
       "      <th>14</th>\n",
       "      <td>3673522</td>\n",
       "      <td>16816</td>\n",
       "      <td>83886081</td>\n",
       "      <td>83886081</td>\n",
       "      <td>NaN</td>\n",
       "    </tr>\n",
       "    <tr>\n",
       "      <th>...</th>\n",
       "      <td>...</td>\n",
       "      <td>...</td>\n",
       "      <td>...</td>\n",
       "      <td>...</td>\n",
       "      <td>...</td>\n",
       "    </tr>\n",
       "    <tr>\n",
       "      <th>945071</th>\n",
       "      <td>6865940</td>\n",
       "      <td>16816</td>\n",
       "      <td>83886082</td>\n",
       "      <td>83886082</td>\n",
       "      <td>NaN</td>\n",
       "    </tr>\n",
       "    <tr>\n",
       "      <th>945089</th>\n",
       "      <td>4362947</td>\n",
       "      <td>16816</td>\n",
       "      <td>83886082</td>\n",
       "      <td>83886082</td>\n",
       "      <td>NaN</td>\n",
       "    </tr>\n",
       "    <tr>\n",
       "      <th>945107</th>\n",
       "      <td>477883</td>\n",
       "      <td>16816</td>\n",
       "      <td>83886081</td>\n",
       "      <td>83886081</td>\n",
       "      <td>NaN</td>\n",
       "    </tr>\n",
       "    <tr>\n",
       "      <th>945155</th>\n",
       "      <td>4129476</td>\n",
       "      <td>16816</td>\n",
       "      <td>83886082</td>\n",
       "      <td>83886082</td>\n",
       "      <td>NaN</td>\n",
       "    </tr>\n",
       "    <tr>\n",
       "      <th>945244</th>\n",
       "      <td>7061051</td>\n",
       "      <td>16816</td>\n",
       "      <td>83886082</td>\n",
       "      <td>83886082</td>\n",
       "      <td>NaN</td>\n",
       "    </tr>\n",
       "  </tbody>\n",
       "</table>\n",
       "<p>49533 rows × 5 columns</p>\n",
       "</div>"
      ],
      "text/plain": [
       "        __event__  __production__      B_ID  B_tag_ID  NN_prediction\n",
       "0         2334642           16816  83886082  83886082            NaN\n",
       "3         2336150           16816  83886082  83886082            NaN\n",
       "9         2339318           16816  83886082  83886082            NaN\n",
       "11        3672751           16816  83886082  83886082            NaN\n",
       "14        3673522           16816  83886081  83886081            NaN\n",
       "...           ...             ...       ...       ...            ...\n",
       "945071    6865940           16816  83886082  83886082            NaN\n",
       "945089    4362947           16816  83886082  83886082            NaN\n",
       "945107     477883           16816  83886081  83886081            NaN\n",
       "945155    4129476           16816  83886082  83886082            NaN\n",
       "945244    7061051           16816  83886082  83886082            NaN\n",
       "\n",
       "[49533 rows x 5 columns]"
      ]
     },
     "execution_count": 9,
     "metadata": {},
     "output_type": "execute_result"
    }
   ],
   "source": [
    "Hc_motherB_df[[\"__event__\",\"__production__\",\"B_ID\",\"B_tag_ID\",\"NN_prediction\"]]"
   ]
  },
  {
   "cell_type": "code",
   "execution_count": 10,
   "metadata": {
    "scrolled": true
   },
   "outputs": [
    {
     "data": {
      "text/plain": [
       "945274"
      ]
     },
     "execution_count": 10,
     "metadata": {},
     "output_type": "execute_result"
    }
   ],
   "source": [
    "df_FSPs.shape[0]"
   ]
  },
  {
   "cell_type": "code",
   "execution_count": 11,
   "metadata": {},
   "outputs": [],
   "source": [
    "df_FSPs = pd.merge(df_FSPs,Hc_motherB_df[[\"__event__\",\"__production__\",\"B_tag_ID\"]], on=[\"__event__\",\"__production__\"])"
   ]
  },
  {
   "cell_type": "code",
   "execution_count": 12,
   "metadata": {
    "scrolled": true
   },
   "outputs": [
    {
     "data": {
      "text/plain": [
       "938720"
      ]
     },
     "execution_count": 12,
     "metadata": {},
     "output_type": "execute_result"
    }
   ],
   "source": [
    "df_FSPs.shape[0]"
   ]
  },
  {
   "cell_type": "code",
   "execution_count": 13,
   "metadata": {},
   "outputs": [],
   "source": [
    "def labels(s):\n",
    "    label = -1\n",
    "    if int(s['B_ID']) == 0:\n",
    "        label = 0 # background, cause not related to MC Particles\n",
    "    else: \n",
    "        B_tagID = s['B_tag_ID']\n",
    "        \n",
    "        if int(s['B_ID']) == B_tagID:\n",
    "            label = 1 # X\n",
    "        else:\n",
    "            label = 2 # Bsig\n",
    "    return label\n",
    "df_FSPs['label'] = df_FSPs.apply(labels, axis=1)"
   ]
  },
  {
   "cell_type": "code",
   "execution_count": 14,
   "metadata": {},
   "outputs": [],
   "source": [
    "df_FSPs[\"correct_pred\"] = (df_FSPs[\"label\"] == df_FSPs[\"NN_prediction\"]).astype(int)"
   ]
  },
  {
   "cell_type": "code",
   "execution_count": 15,
   "metadata": {
    "scrolled": true
   },
   "outputs": [
    {
     "data": {
      "text/plain": [
       "count    938720.000000\n",
       "mean          0.498073\n",
       "std           0.499997\n",
       "min           0.000000\n",
       "25%           0.000000\n",
       "50%           0.000000\n",
       "75%           1.000000\n",
       "max           1.000000\n",
       "Name: correct_pred, dtype: float64"
      ]
     },
     "execution_count": 15,
     "metadata": {},
     "output_type": "execute_result"
    }
   ],
   "source": [
    "df_FSPs[\"correct_pred\"].describe()"
   ]
  },
  {
   "cell_type": "code",
   "execution_count": 16,
   "metadata": {
    "scrolled": true
   },
   "outputs": [
    {
     "data": {
      "text/plain": [
       "938720"
      ]
     },
     "execution_count": 16,
     "metadata": {},
     "output_type": "execute_result"
    }
   ],
   "source": [
    "df_FSPs.shape[0]"
   ]
  },
  {
   "cell_type": "code",
   "execution_count": 17,
   "metadata": {},
   "outputs": [
    {
     "data": {
      "text/html": [
       "<div>\n",
       "<style scoped>\n",
       "    .dataframe tbody tr th:only-of-type {\n",
       "        vertical-align: middle;\n",
       "    }\n",
       "\n",
       "    .dataframe tbody tr th {\n",
       "        vertical-align: top;\n",
       "    }\n",
       "\n",
       "    .dataframe thead th {\n",
       "        text-align: right;\n",
       "    }\n",
       "</style>\n",
       "<table border=\"1\" class=\"dataframe\">\n",
       "  <thead>\n",
       "    <tr style=\"text-align: right;\">\n",
       "      <th></th>\n",
       "      <th>__event__</th>\n",
       "      <th>B_ID</th>\n",
       "      <th>NN_prediction</th>\n",
       "      <th>B_tag_ID</th>\n",
       "      <th>label</th>\n",
       "    </tr>\n",
       "  </thead>\n",
       "  <tbody>\n",
       "    <tr>\n",
       "      <th>0</th>\n",
       "      <td>2334642</td>\n",
       "      <td>83886082</td>\n",
       "      <td>NaN</td>\n",
       "      <td>83886082</td>\n",
       "      <td>1</td>\n",
       "    </tr>\n",
       "    <tr>\n",
       "      <th>1</th>\n",
       "      <td>2334642</td>\n",
       "      <td>83886082</td>\n",
       "      <td>NaN</td>\n",
       "      <td>83886082</td>\n",
       "      <td>1</td>\n",
       "    </tr>\n",
       "    <tr>\n",
       "      <th>2</th>\n",
       "      <td>2334642</td>\n",
       "      <td>83886081</td>\n",
       "      <td>2.0</td>\n",
       "      <td>83886082</td>\n",
       "      <td>2</td>\n",
       "    </tr>\n",
       "    <tr>\n",
       "      <th>3</th>\n",
       "      <td>2334642</td>\n",
       "      <td>83886082</td>\n",
       "      <td>1.0</td>\n",
       "      <td>83886082</td>\n",
       "      <td>1</td>\n",
       "    </tr>\n",
       "    <tr>\n",
       "      <th>4</th>\n",
       "      <td>2334642</td>\n",
       "      <td>83886081</td>\n",
       "      <td>2.0</td>\n",
       "      <td>83886082</td>\n",
       "      <td>2</td>\n",
       "    </tr>\n",
       "    <tr>\n",
       "      <th>5</th>\n",
       "      <td>2334642</td>\n",
       "      <td>0</td>\n",
       "      <td>0.0</td>\n",
       "      <td>83886082</td>\n",
       "      <td>0</td>\n",
       "    </tr>\n",
       "    <tr>\n",
       "      <th>6</th>\n",
       "      <td>2334642</td>\n",
       "      <td>0</td>\n",
       "      <td>0.0</td>\n",
       "      <td>83886082</td>\n",
       "      <td>0</td>\n",
       "    </tr>\n",
       "    <tr>\n",
       "      <th>7</th>\n",
       "      <td>2334642</td>\n",
       "      <td>83886081</td>\n",
       "      <td>1.0</td>\n",
       "      <td>83886082</td>\n",
       "      <td>2</td>\n",
       "    </tr>\n",
       "    <tr>\n",
       "      <th>8</th>\n",
       "      <td>2334642</td>\n",
       "      <td>83886082</td>\n",
       "      <td>1.0</td>\n",
       "      <td>83886082</td>\n",
       "      <td>1</td>\n",
       "    </tr>\n",
       "    <tr>\n",
       "      <th>9</th>\n",
       "      <td>2334642</td>\n",
       "      <td>0</td>\n",
       "      <td>0.0</td>\n",
       "      <td>83886082</td>\n",
       "      <td>0</td>\n",
       "    </tr>\n",
       "    <tr>\n",
       "      <th>10</th>\n",
       "      <td>2334642</td>\n",
       "      <td>0</td>\n",
       "      <td>1.0</td>\n",
       "      <td>83886082</td>\n",
       "      <td>0</td>\n",
       "    </tr>\n",
       "    <tr>\n",
       "      <th>11</th>\n",
       "      <td>2334642</td>\n",
       "      <td>0</td>\n",
       "      <td>0.0</td>\n",
       "      <td>83886082</td>\n",
       "      <td>0</td>\n",
       "    </tr>\n",
       "    <tr>\n",
       "      <th>12</th>\n",
       "      <td>2334642</td>\n",
       "      <td>83886081</td>\n",
       "      <td>2.0</td>\n",
       "      <td>83886082</td>\n",
       "      <td>2</td>\n",
       "    </tr>\n",
       "    <tr>\n",
       "      <th>13</th>\n",
       "      <td>2334642</td>\n",
       "      <td>83886081</td>\n",
       "      <td>2.0</td>\n",
       "      <td>83886082</td>\n",
       "      <td>2</td>\n",
       "    </tr>\n",
       "    <tr>\n",
       "      <th>14</th>\n",
       "      <td>2336150</td>\n",
       "      <td>83886082</td>\n",
       "      <td>NaN</td>\n",
       "      <td>83886082</td>\n",
       "      <td>1</td>\n",
       "    </tr>\n",
       "    <tr>\n",
       "      <th>15</th>\n",
       "      <td>2336150</td>\n",
       "      <td>83886082</td>\n",
       "      <td>NaN</td>\n",
       "      <td>83886082</td>\n",
       "      <td>1</td>\n",
       "    </tr>\n",
       "    <tr>\n",
       "      <th>16</th>\n",
       "      <td>2336150</td>\n",
       "      <td>83886081</td>\n",
       "      <td>2.0</td>\n",
       "      <td>83886082</td>\n",
       "      <td>2</td>\n",
       "    </tr>\n",
       "    <tr>\n",
       "      <th>17</th>\n",
       "      <td>2336150</td>\n",
       "      <td>83886082</td>\n",
       "      <td>1.0</td>\n",
       "      <td>83886082</td>\n",
       "      <td>1</td>\n",
       "    </tr>\n",
       "    <tr>\n",
       "      <th>18</th>\n",
       "      <td>2336150</td>\n",
       "      <td>0</td>\n",
       "      <td>0.0</td>\n",
       "      <td>83886082</td>\n",
       "      <td>0</td>\n",
       "    </tr>\n",
       "    <tr>\n",
       "      <th>19</th>\n",
       "      <td>2336150</td>\n",
       "      <td>83886082</td>\n",
       "      <td>1.0</td>\n",
       "      <td>83886082</td>\n",
       "      <td>1</td>\n",
       "    </tr>\n",
       "  </tbody>\n",
       "</table>\n",
       "</div>"
      ],
      "text/plain": [
       "    __event__      B_ID  NN_prediction  B_tag_ID  label\n",
       "0     2334642  83886082            NaN  83886082      1\n",
       "1     2334642  83886082            NaN  83886082      1\n",
       "2     2334642  83886081            2.0  83886082      2\n",
       "3     2334642  83886082            1.0  83886082      1\n",
       "4     2334642  83886081            2.0  83886082      2\n",
       "5     2334642         0            0.0  83886082      0\n",
       "6     2334642         0            0.0  83886082      0\n",
       "7     2334642  83886081            1.0  83886082      2\n",
       "8     2334642  83886082            1.0  83886082      1\n",
       "9     2334642         0            0.0  83886082      0\n",
       "10    2334642         0            1.0  83886082      0\n",
       "11    2334642         0            0.0  83886082      0\n",
       "12    2334642  83886081            2.0  83886082      2\n",
       "13    2334642  83886081            2.0  83886082      2\n",
       "14    2336150  83886082            NaN  83886082      1\n",
       "15    2336150  83886082            NaN  83886082      1\n",
       "16    2336150  83886081            2.0  83886082      2\n",
       "17    2336150  83886082            1.0  83886082      1\n",
       "18    2336150         0            0.0  83886082      0\n",
       "19    2336150  83886082            1.0  83886082      1"
      ]
     },
     "execution_count": 17,
     "metadata": {},
     "output_type": "execute_result"
    }
   ],
   "source": [
    "df_FSPs[[\"__event__\",\"B_ID\",\"NN_prediction\",\"B_tag_ID\",\"label\"]][:20]"
   ]
  },
  {
   "cell_type": "markdown",
   "metadata": {},
   "source": [
    "## see correct prediction rate of NN"
   ]
  },
  {
   "cell_type": "code",
   "execution_count": 18,
   "metadata": {},
   "outputs": [
    {
     "data": {
      "text/plain": [
       "count    938720.000000\n",
       "mean          0.498073\n",
       "std           0.499997\n",
       "min           0.000000\n",
       "25%           0.000000\n",
       "50%           0.000000\n",
       "75%           1.000000\n",
       "max           1.000000\n",
       "Name: correct_pred, dtype: float64"
      ]
     },
     "execution_count": 18,
     "metadata": {},
     "output_type": "execute_result"
    }
   ],
   "source": [
    "df_FSPs[\"correct_pred\"].describe()"
   ]
  },
  {
   "cell_type": "code",
   "execution_count": 19,
   "metadata": {},
   "outputs": [
    {
     "data": {
      "text/plain": [
       "count    778881.000000\n",
       "mean          1.194284\n",
       "std           0.741057\n",
       "min           0.000000\n",
       "25%           1.000000\n",
       "50%           1.000000\n",
       "75%           2.000000\n",
       "max           2.000000\n",
       "Name: NN_prediction, dtype: float64"
      ]
     },
     "execution_count": 19,
     "metadata": {},
     "output_type": "execute_result"
    }
   ],
   "source": [
    "df_FSPs[\"NN_prediction\"].describe()"
   ]
  },
  {
   "cell_type": "code",
   "execution_count": 20,
   "metadata": {},
   "outputs": [
    {
     "data": {
      "text/plain": [
       "0.829726649054031"
      ]
     },
     "execution_count": 20,
     "metadata": {},
     "output_type": "execute_result"
    }
   ],
   "source": [
    "df_FSPs[df_FSPs[\"NN_prediction\"].notna() == True].shape[0]/df_FSPs.shape[0]"
   ]
  },
  {
   "cell_type": "code",
   "execution_count": 21,
   "metadata": {},
   "outputs": [],
   "source": [
    "nonHc_FSPs = df_FSPs[df_FSPs[\"NN_prediction\"].notna() == True]"
   ]
  },
  {
   "cell_type": "code",
   "execution_count": 22,
   "metadata": {},
   "outputs": [
    {
     "data": {
      "text/plain": [
       "1.0"
      ]
     },
     "execution_count": 22,
     "metadata": {},
     "output_type": "execute_result"
    }
   ],
   "source": [
    "nonHc_FSPs[nonHc_FSPs[\"NN_prediction\"].notna() == True].shape[0]/nonHc_FSPs.shape[0]"
   ]
  },
  {
   "cell_type": "code",
   "execution_count": 23,
   "metadata": {},
   "outputs": [
    {
     "data": {
      "text/plain": [
       "count    778881.000000\n",
       "mean          0.600286\n",
       "std           0.489840\n",
       "min           0.000000\n",
       "25%           0.000000\n",
       "50%           1.000000\n",
       "75%           1.000000\n",
       "max           1.000000\n",
       "Name: correct_pred, dtype: float64"
      ]
     },
     "execution_count": 23,
     "metadata": {},
     "output_type": "execute_result"
    }
   ],
   "source": [
    "nonHc_FSPs[\"correct_pred\"].describe()"
   ]
  },
  {
   "cell_type": "code",
   "execution_count": 24,
   "metadata": {},
   "outputs": [
    {
     "data": {
      "text/plain": [
       "778881"
      ]
     },
     "execution_count": 24,
     "metadata": {},
     "output_type": "execute_result"
    }
   ],
   "source": [
    "nonHc_FSPs.shape[0]"
   ]
  },
  {
   "cell_type": "code",
   "execution_count": 25,
   "metadata": {},
   "outputs": [
    {
     "data": {
      "text/plain": [
       "<AxesSubplot:>"
      ]
     },
     "execution_count": 25,
     "metadata": {},
     "output_type": "execute_result"
    },
    {
     "data": {
      "image/png": "[encoded data removed]",
      "text/plain": [
       "<Figure size 432x288 with 1 Axes>"
      ]
     },
     "metadata": {
      "needs_background": "light"
     },
     "output_type": "display_data"
    }
   ],
   "source": [
    "numFSPs_all = pd.DataFrame({'count' : nonHc_FSPs.groupby( [\"__event__\",\"__production__\"] ).size()}).reset_index()\n",
    "numFSPs_all[\"count\"].hist()"
   ]
  },
  {
   "cell_type": "code",
   "execution_count": 26,
   "metadata": {},
   "outputs": [],
   "source": [
    "percCorrect_df = pd.DataFrame({'frac. correct FSPs' : nonHc_FSPs.groupby([\"__event__\",\"__production__\",\"correct_pred\"] ).size()/nonHc_FSPs.groupby( [\"__event__\",\"__production__\"] ).size()}).reset_index()"
   ]
  },
  {
   "cell_type": "code",
   "execution_count": 27,
   "metadata": {},
   "outputs": [
    {
     "data": {
      "text/plain": [
       "<AxesSubplot:>"
      ]
     },
     "execution_count": 27,
     "metadata": {},
     "output_type": "execute_result"
    },
    {
     "data": {
      "image/png": "[encoded data removed]",
      "text/plain": [
       "<Figure size 432x288 with 1 Axes>"
      ]
     },
     "metadata": {
      "needs_background": "light"
     },
     "output_type": "display_data"
    }
   ],
   "source": [
    "percCorrect_df['frac. correct FSPs'].hist()"
   ]
  },
  {
   "cell_type": "markdown",
   "metadata": {},
   "source": [
    "## BCS"
   ]
  },
  {
   "cell_type": "code",
   "execution_count": 28,
   "metadata": {},
   "outputs": [
    {
     "name": "stdout",
     "output_type": "stream",
     "text": [
      "258264\n",
      "49904\n",
      "938720\n"
     ]
    }
   ],
   "source": [
    "print(df_Ups4S.shape[0])\n",
    "print(df_Ups4S[\"__event__\"].nunique())\n",
    "print(df_FSPs.shape[0])"
   ]
  },
  {
   "cell_type": "code",
   "execution_count": 29,
   "metadata": {
    "scrolled": false
   },
   "outputs": [
    {
     "data": {
      "text/plain": [
       "Index(['Unnamed: 0', '__experiment__', '__run__', '__event__',\n",
       "       '__production__', '__candidate__', '__ncandidates__', '__weight__',\n",
       "       'genMothPDG_0', 'genMothPDG_1', 'genMothPDG_2', 'genMothPDG_3',\n",
       "       'genMothPDG_4', 'genMothPDG_5', 'genMothPDG_6', 'genMothPDG_7',\n",
       "       'genMothPDG_8', 'genMothPDG_9', 'genMotherID_0', 'genMotherID_1',\n",
       "       'genMotherID_2', 'genMotherID_3', 'genMotherID_4', 'genMotherID_5',\n",
       "       'genMotherID_6', 'genMotherID_7', 'genMotherID_8', 'genMotherID_9',\n",
       "       'mcMother0_uniqParID', 'mcMother1_uniqParID', 'mcMother2_uniqParID',\n",
       "       'mcMother3_uniqParID', 'mcMother4_uniqParID', 'mcMother5_uniqParID',\n",
       "       'mcMother6_uniqParID', 'mcMother7_uniqParID', 'mcMother8_uniqParID',\n",
       "       'mcMother9_uniqParID', 'cmpx', 'cmpy', 'cmpz', 'cmE', 'isSignal',\n",
       "       'uniqueParticleIdentifier', 'mcErrors', 'mcPDG', 'genMotherID',\n",
       "       'genMotherP', 'genMotherPDG', 'charge', 'dr', 'dz', 'clusterReg',\n",
       "       'clusterE9E21', 'M', 'PDG', 'genParticleID', 'px', 'py', 'pz', 'pt',\n",
       "       'p', 'E', 'kaonID', 'pionID', 'protonID', 'muonID', 'electronID',\n",
       "       'deuteronID', 'binaryPID__bo211__cm__sp13__bc',\n",
       "       'binaryPID__bo211__cm__sp321__bc', 'binaryPID__bo211__cm__sp2212__bc',\n",
       "       'binaryPID__bo321__cm__sp2212__bc', 'NN_prediction', 'basf2_used',\n",
       "       'basf2_Bsig', 'B_ID', 'B_tag_ID', 'label', 'correct_pred'],\n",
       "      dtype='object')"
      ]
     },
     "execution_count": 29,
     "metadata": {},
     "output_type": "execute_result"
    }
   ],
   "source": [
    "df_FSPs.keys()"
   ]
  },
  {
   "cell_type": "code",
   "execution_count": 30,
   "metadata": {
    "scrolled": true
   },
   "outputs": [
    {
     "name": "stdout",
     "output_type": "stream",
     "text": [
      "Unnamed: 0\n",
      "__experiment__\n",
      "__run__\n",
      "__event__\n",
      "__production__\n",
      "__candidate__\n",
      "__ncandidates__\n",
      "__weight__\n",
      "m2RecoilSignalSide\n",
      "foxWolframR2_maskedNaN\n",
      "foxWolframR2\n",
      "extraInfo__boFEIProbabilityRank__bc\n",
      "nTracks\n",
      "dau1_sigProb\n",
      "Up4S_isSig\n",
      "BeamE\n",
      "BeamPx\n",
      "BeamPy\n",
      "BeamPz\n",
      "BeamcmsE\n",
      "BeamcmsPx\n",
      "BeamcmsPy\n",
      "BeamcmsPz\n",
      "genUp4S_PDG_0\n",
      "genUp4S_charge_0\n",
      "genUp4S_mdstIndex_0\n",
      "genUp4S_genParticleID_0\n",
      "genUp4S_E_0\n",
      "genUp4S_Px_0\n",
      "genUp4S_Py_0\n",
      "genUp4S_Pz_0\n",
      "genUp4S_P_0\n",
      "genUp4S_cmE_0\n",
      "genUp4S_cmPx_0\n",
      "genUp4S_cmPy_0\n",
      "genUp4S_cmPz_0\n",
      "genUp4S_cmP_0\n",
      "genUp4S_uniqParID_0\n",
      "genUp4S_PDG_0_0\n",
      "genUp4S_mdstIndex_0_0\n",
      "genUp4S_genParticleID_0_0\n",
      "genUp4S_uniqParID_0_0\n",
      "genUp4S_PDG_0_0_0\n",
      "genUp4S_mdstIndex_0_0_0\n",
      "genUp4S_genParticleID_0_0_0\n",
      "genUp4S_uniqParID_0_0_0\n",
      "genUp4S_PDG_0_0_1\n",
      "genUp4S_mdstIndex_0_0_1\n",
      "genUp4S_genParticleID_0_0_1\n",
      "genUp4S_uniqParID_0_0_1\n",
      "genUp4S_PDG_0_1\n",
      "genUp4S_mdstIndex_0_1\n",
      "genUp4S_genParticleID_0_1\n",
      "genUp4S_uniqParID_0_1\n",
      "genUp4S_PDG_0_2\n",
      "genUp4S_mdstIndex_0_2\n",
      "genUp4S_genParticleID_0_2\n",
      "genUp4S_uniqParID_0_2\n",
      "genUp4S_PDG_1\n",
      "genUp4S_charge_1\n",
      "genUp4S_mdstIndex_1\n",
      "genUp4S_genParticleID_1\n",
      "genUp4S_E_1\n",
      "genUp4S_Px_1\n",
      "genUp4S_Py_1\n",
      "genUp4S_Pz_1\n",
      "genUp4S_P_1\n",
      "genUp4S_cmE_1\n",
      "genUp4S_cmPx_1\n",
      "genUp4S_cmPy_1\n",
      "genUp4S_cmPz_1\n",
      "genUp4S_cmP_1\n",
      "genUp4S_uniqParID_1\n",
      "genUp4S_PDG_1_0\n",
      "genUp4S_mdstIndex_1_0\n",
      "genUp4S_genParticleID_1_0\n",
      "genUp4S_uniqParID_1_0\n",
      "genUp4S_PDG_1_0_0\n",
      "genUp4S_mdstIndex_1_0_0\n",
      "genUp4S_genParticleID_1_0_0\n",
      "genUp4S_uniqParID_1_0_0\n",
      "genUp4S_PDG_1_0_1\n",
      "genUp4S_mdstIndex_1_0_1\n",
      "genUp4S_genParticleID_1_0_1\n",
      "genUp4S_uniqParID_1_0_1\n",
      "genUp4S_PDG_1_1\n",
      "genUp4S_mdstIndex_1_1\n",
      "genUp4S_genParticleID_1_1\n",
      "genUp4S_uniqParID_1_1\n",
      "genUp4S_PDG_1_2\n",
      "genUp4S_mdstIndex_1_2\n",
      "genUp4S_genParticleID_1_2\n",
      "genUp4S_uniqParID_1_2\n",
      "Btag_uniqParID\n",
      "dau0_M\n",
      "dau0_chiProb\n",
      "dau0_cmp\n",
      "dau0_cmE\n",
      "dau0_cmpx\n",
      "dau0_cmpy\n",
      "dau0_cmpz\n",
      "dau0_cmpt\n",
      "dau0_p\n",
      "dau0_E\n",
      "dau0_px\n",
      "dau0_py\n",
      "dau0_pz\n",
      "dau0_pt\n",
      "dau0_mcp\n",
      "dau0_mcpt\n",
      "dau0_dau1_charge\n",
      "dau0_dau0_motherP\n",
      "dau0_dau0_motherE\n",
      "dau0_dau0_motherPx\n",
      "dau0_dau0_motherPy\n",
      "dau0_dau0_motherPz\n",
      "dau0_dau0_mothercmsP\n",
      "dau0_dau0_mothercmsE\n",
      "dau0_dau0_mothercmsPx\n",
      "dau0_dau0_mothercmsPy\n",
      "dau0_dau0_mothercmsPz\n",
      "dau0_dau0_motherPDG\n",
      "dau0_dau0_grandmotherP\n",
      "dau0_dau0_grandmotherE\n",
      "dau0_dau0_grandmotherPx\n",
      "dau0_dau0_grandmotherPy\n",
      "dau0_dau0_grandmotherPz\n",
      "dau0_dau0_grandmotherPDG\n",
      "dau0_mccmp\n",
      "dau0_mccmpt\n",
      "dau0_decmode\n",
      "dau0_sigProb\n",
      "dau0_dau0_decmode\n",
      "dau0_dau0_sigProb\n",
      "dau0_dau0_charge\n",
      "dau0_dau0_M\n",
      "dau0_dau0_DeltaM\n",
      "dau0_dau0_E\n",
      "dau0_dau0_px\n",
      "dau0_dau0_py\n",
      "dau0_dau0_pz\n",
      "dau0_dau0_PDG\n",
      "dau0_dau0_isSignal\n",
      "dau0_dau0_isSignalAcceptMissingGamma\n",
      "dau0_dau1_M\n",
      "dau0_dau1_E\n",
      "dau0_dau1_px\n",
      "dau0_dau1_py\n",
      "dau0_dau1_pz\n",
      "dau0_dau1_nDaughters\n",
      "dau0_dau1_dau0_PDG\n",
      "dau0_dau1_dau1_PDG\n",
      "dau0_dau1_dau2_PDG\n",
      "dau0_dau1_dau3_PDG\n",
      "dau0_dau2_p\n",
      "dau0_deltaE\n",
      "dau0_Mbc\n",
      "dau0_FEIRank\n",
      "dau0_isSignal\n",
      "dau0_R2\n",
      "dau0_cosTBTO\n",
      "dau0_cosThetaBetweenParticleAndNominalB\n",
      "dau0_PDG\n",
      "dau0_motherPDG\n",
      "Bsig_uniqParID\n",
      "dau1_M\n",
      "dau1_cmp\n",
      "dau1_cmE\n",
      "dau1_cmpx\n",
      "dau1_cmpy\n",
      "dau1_cmpz\n",
      "dau1_cmpt\n",
      "dau1_theta\n",
      "dau1_p\n",
      "dau1_E\n",
      "dau1_px\n",
      "dau1_py\n",
      "dau1_pz\n",
      "dau1_pt\n",
      "dau1_mcp\n",
      "dau1_mcpt\n",
      "dau1_mccmE\n",
      "dau1_mccmp\n",
      "dau1_mccmpx\n",
      "dau1_mccmpy\n",
      "dau1_mccmpz\n",
      "dau1_mccmpt\n",
      "dau1_cosThetaBetweenParticleAndNominalB\n",
      "dau1_isSignal\n",
      "dau1_mcPDG\n",
      "dau1_dau0_mcPDG\n",
      "dau1_dau1_mcPDG\n",
      "dau1_dau0_mothermdstIndex\n",
      "dau1_dau1_mothermdstIndex\n",
      "dau1_mdstIndex\n",
      "dau1_motherPDG\n",
      "lep_mdstIndex\n",
      "lep_PDG\n",
      "lep_theta\n",
      "lep_clusterEP\n",
      "lep_clusterE\n",
      "lep_eID\n",
      "lep_muID\n",
      "lep_clusterE9E21\n",
      "lep_absdz\n",
      "lep_absd0\n",
      "lep_klmLayers\n",
      "lep_MatchedKLMClusters\n",
      "lep_M\n",
      "lep_chiProb\n",
      "lep_cmE\n",
      "lep_cmp\n",
      "lep_cmpx\n",
      "lep_cmpy\n",
      "lep_cmpz\n",
      "lep_cmpt\n",
      "lep_E\n",
      "lep_p\n",
      "lep_px\n",
      "lep_py\n",
      "lep_pz\n",
      "lep_pt\n",
      "lep_mcp\n",
      "lep_mcpt\n",
      "lep_mccmp\n",
      "lep_mccmpt\n",
      "lep_mcPDG\n",
      "lep_genParticleID\n",
      "lep_motherPDG\n",
      "lep_gmotherPDG\n",
      "lep_genmotherID\n",
      "lep_mothermdstIndex\n",
      "lep_uniqParID\n",
      "lepMother_uniqParID\n",
      "D_dau0_genGmothID\n",
      "D_dau0_motherPDG\n",
      "D_dau0_gmotherPDG\n",
      "D_dau0_mcPDG\n",
      "D_dau1_genGmothID\n",
      "D_dau1_motherPDG\n",
      "D_dau1_gmotherPDG\n",
      "D_dau1_mcPDG\n",
      "D_dau2_genGmothID\n",
      "D_dau2_motherPDG\n",
      "D_dau2_gmotherPDG\n",
      "D_dau2_mcPDG\n",
      "D_dau3_genGmothID\n",
      "D_dau3_motherPDG\n",
      "D_dau3_gmotherPDG\n",
      "D_dau3_mcPDG\n",
      "D_dau4_genGmothID\n",
      "D_dau4_motherPDG\n",
      "D_dau4_gmotherPDG\n",
      "D_dau4_mcPDG\n",
      "slowPi_motherPDG\n",
      "slowPi_mcPDG\n",
      "Dst_genParticleID\n",
      "Hc_isSignalAcceptMissingGamma\n",
      "Hc_genMotherPDG\n",
      "Hc_mcPDG\n",
      "Hc_uniqParID\n",
      "Hc_genMotherID\n",
      "Hc_motherUniqParID\n",
      "D_nDaughters\n",
      "D_M\n",
      "D_p\n",
      "D_pt\n",
      "D_cmp\n",
      "D_cmpt\n",
      "D_isSignal\n",
      "D_uniqParID\n",
      "Dst_uniqParID\n",
      "Dst_M\n",
      "Dst_E\n",
      "Dst_p\n",
      "Dst_px\n",
      "Dst_py\n",
      "Dst_pz\n",
      "Dst_pt\n",
      "Dst_cmE\n",
      "Dst_cmp\n",
      "Dst_cmpx\n",
      "Dst_cmpy\n",
      "Dst_cmpz\n",
      "Dst_cmpt\n",
      "Dst_mccmE\n",
      "Dst_mccmp\n",
      "Dst_mccmpx\n",
      "Dst_mccmpy\n",
      "Dst_mccmpz\n",
      "Dst_DeltaM\n",
      "Dst_isSignal\n",
      "roeE_ofUps4S\n",
      "E_predicted_bg_gammas\n",
      "abs_m2RecoilSignalSide\n"
     ]
    }
   ],
   "source": [
    "for key in df_Ups4S.keys():\n",
    "    print(key)"
   ]
  },
  {
   "cell_type": "code",
   "execution_count": 33,
   "metadata": {},
   "outputs": [
    {
     "data": {
      "text/plain": [
       "258264"
      ]
     },
     "execution_count": 33,
     "metadata": {},
     "output_type": "execute_result"
    }
   ],
   "source": [
    "df_Ups4S.shape[0]"
   ]
  },
  {
   "cell_type": "code",
   "execution_count": 36,
   "metadata": {
    "scrolled": true
   },
   "outputs": [
    {
     "data": {
      "text/plain": [
       "__event__    49904\n",
       "dtype: int64"
      ]
     },
     "execution_count": 36,
     "metadata": {},
     "output_type": "execute_result"
    }
   ],
   "source": [
    "df_Ups4S[[\"__event__\"]].nunique()"
   ]
  },
  {
   "cell_type": "code",
   "execution_count": 37,
   "metadata": {},
   "outputs": [
    {
     "data": {
      "text/plain": [
       "49914"
      ]
     },
     "execution_count": 37,
     "metadata": {},
     "output_type": "execute_result"
    }
   ],
   "source": [
    "df_Ups4S.groupby([\"__event__\",\"__production__\"]).ngroups"
   ]
  },
  {
   "cell_type": "code",
   "execution_count": 32,
   "metadata": {},
   "outputs": [
    {
     "name": "stdout",
     "output_type": "stream",
     "text": [
      "\n",
      " Up4S_isSig\n",
      "count    116102.0\n",
      "mean          0.0\n",
      "std           0.0\n",
      "min           0.0\n",
      "25%           0.0\n",
      "50%           0.0\n",
      "75%           0.0\n",
      "max           0.0\n",
      "Name: Up4S_isSig, dtype: float64\n",
      "\n",
      " Dst_isSignal\n",
      "count    222691.000000\n",
      "mean          0.001078\n",
      "std           0.032811\n",
      "min           0.000000\n",
      "25%           0.000000\n",
      "50%           0.000000\n",
      "75%           0.000000\n",
      "max           1.000000\n",
      "Name: Dst_isSignal, dtype: float64\n",
      "\n",
      " D_isSignal\n",
      "count    224822.000000\n",
      "mean          0.003376\n",
      "std           0.058005\n",
      "min           0.000000\n",
      "25%           0.000000\n",
      "50%           0.000000\n",
      "75%           0.000000\n",
      "max           1.000000\n",
      "Name: D_isSignal, dtype: float64\n",
      "\n",
      " dau0_dau0_isSignal\n",
      "count    258264.000000\n",
      "mean          0.990471\n",
      "std           0.097151\n",
      "min           0.000000\n",
      "25%           1.000000\n",
      "50%           1.000000\n",
      "75%           1.000000\n",
      "max           1.000000\n",
      "Name: dau0_dau0_isSignal, dtype: float64\n",
      "\n",
      " Hc_isSignalAcceptMissingGamma\n",
      "count    258264.0\n",
      "mean          1.0\n",
      "std           0.0\n",
      "min           1.0\n",
      "25%           1.0\n",
      "50%           1.0\n",
      "75%           1.0\n",
      "max           1.0\n",
      "Name: Hc_isSignalAcceptMissingGamma, dtype: float64\n",
      "\n",
      " dau0_isSignal\n",
      "count    134628.0\n",
      "mean          0.0\n",
      "std           0.0\n",
      "min           0.0\n",
      "25%           0.0\n",
      "50%           0.0\n",
      "75%           0.0\n",
      "max           0.0\n",
      "Name: dau0_isSignal, dtype: float64\n",
      "\n",
      " dau1_isSignal\n",
      "count    220712.000000\n",
      "mean          0.000870\n",
      "std           0.029482\n",
      "min           0.000000\n",
      "25%           0.000000\n",
      "50%           0.000000\n",
      "75%           0.000000\n",
      "max           1.000000\n",
      "Name: dau1_isSignal, dtype: float64\n"
     ]
    }
   ],
   "source": [
    "variables=[\"Up4S_isSig\",\"Dst_isSignal\",\"D_isSignal\",\"dau0_dau0_isSignal\",\"Hc_isSignalAcceptMissingGamma\",\"dau0_isSignal\",\"dau1_isSignal\"]\n",
    "for var in variables:\n",
    "    print('\\n',var)\n",
    "    print(df_Ups4S[var].describe())\n",
    "    "
   ]
  },
  {
   "cell_type": "code",
   "execution_count": 10,
   "metadata": {},
   "outputs": [
    {
     "data": {
      "text/plain": [
       "<AxesSubplot:>"
      ]
     },
     "execution_count": 10,
     "metadata": {},
     "output_type": "execute_result"
    },
    {
     "data": {
      "image/png": "[encoded data removed]",
      "text/plain": [
       "<Figure size 432x288 with 1 Axes>"
      ]
     },
     "metadata": {
      "needs_background": "light"
     },
     "output_type": "display_data"
    }
   ],
   "source": [
    "bins = np.linspace(0, 10, 50)\n",
    "df_Ups4S[\"roeE_ofUps4S\"].hist(bins=bins)"
   ]
  },
  {
   "cell_type": "code",
   "execution_count": 12,
   "metadata": {},
   "outputs": [
    {
     "data": {
      "text/plain": [
       "<AxesSubplot:>"
      ]
     },
     "execution_count": 12,
     "metadata": {},
     "output_type": "execute_result"
    },
    {
     "data": {
      "image/png": "[encoded data removed]",
      "text/plain": [
       "<Figure size 432x288 with 1 Axes>"
      ]
     },
     "metadata": {
      "needs_background": "light"
     },
     "output_type": "display_data"
    }
   ],
   "source": [
    "bins = np.linspace(0, 2, 50)\n",
    "df_Ups4S[\"E_predicted_bg_gammas\"].hist(bins=bins)"
   ]
  },
  {
   "cell_type": "code",
   "execution_count": 13,
   "metadata": {
    "scrolled": true
   },
   "outputs": [
    {
     "data": {
      "text/plain": [
       "<AxesSubplot:>"
      ]
     },
     "execution_count": 13,
     "metadata": {},
     "output_type": "execute_result"
    },
    {
     "data": {
      "image/png": "[encoded data removed]",
      "text/plain": [
       "<Figure size 432x288 with 1 Axes>"
      ]
     },
     "metadata": {
      "needs_background": "light"
     },
     "output_type": "display_data"
    }
   ],
   "source": [
    "bins = np.linspace(-4, 4, 50)\n",
    "df_Ups4S[\"m2RecoilSignalSide\"].hist(bins=bins)"
   ]
  },
  {
   "cell_type": "code",
   "execution_count": 16,
   "metadata": {},
   "outputs": [
    {
     "data": {
      "text/plain": [
       "count    116102.0\n",
       "mean          0.0\n",
       "std           0.0\n",
       "min           0.0\n",
       "25%           0.0\n",
       "50%           0.0\n",
       "75%           0.0\n",
       "max           0.0\n",
       "Name: Up4S_isSig, dtype: float64"
      ]
     },
     "execution_count": 16,
     "metadata": {},
     "output_type": "execute_result"
    }
   ],
   "source": [
    "df_Ups4S[\"Up4S_isSig\"].describe()"
   ]
  },
  {
   "cell_type": "code",
   "execution_count": 25,
   "metadata": {},
   "outputs": [
    {
     "name": "stdout",
     "output_type": "stream",
     "text": [
      "49904\n",
      "49904\n"
     ]
    },
    {
     "data": {
      "image/png": "[encoded data removed]",
      "text/plain": [
       "<Figure size 576x360 with 1 Axes>"
      ]
     },
     "metadata": {
      "needs_background": "light"
     },
     "output_type": "display_data"
    }
   ],
   "source": [
    "df_Ups4S[\"abs_m2RecoilSignalSide\"] = df_Ups4S[\"m2RecoilSignalSide\"].abs() \n",
    "fig, ax = plt.subplots()\n",
    "for var in [\"roeE_ofUps4S\",\"abs_m2RecoilSignalSide\"]:\n",
    "    \n",
    "    tmp = df_Ups4S.sort_values(var,ascending=True).drop_duplicates(subset=(\"__event__\"), keep='first')\n",
    "    print(tmp.shape[0])\n",
    "    bins = np.linspace(-4, 4, 50)\n",
    "    \n",
    "    fig.suptitle('--')\n",
    "    fig.set_size_inches(8, 5)\n",
    "\n",
    "    ax.set_xlabel(r'$m_{miss}^2$ in GeV$^2$')\n",
    "    ax.set_ylabel(\"events\")\n",
    "\n",
    "    ax.hist(tmp.m2RecoilSignalSide, bins, alpha=0.5, label=var ,histtype='step')\n",
    "\n",
    "    ax.legend(loc='upper left')\n",
    "\n",
    "\n",
    "    #plt.savefig('mmSquared_isSignal_GiannasScript_beforeOfflineCuts.pdf')"
   ]
  },
  {
   "cell_type": "code",
   "execution_count": 27,
   "metadata": {},
   "outputs": [],
   "source": [
    "BCS_df = df_Ups4S.sort_values(\"abs_m2RecoilSignalSide\",ascending=True).drop_duplicates(subset=(\"__event__\"), keep='first')"
   ]
  },
  {
   "cell_type": "code",
   "execution_count": 28,
   "metadata": {},
   "outputs": [
    {
     "data": {
      "text/html": [
       "<div>\n",
       "<style scoped>\n",
       "    .dataframe tbody tr th:only-of-type {\n",
       "        vertical-align: middle;\n",
       "    }\n",
       "\n",
       "    .dataframe tbody tr th {\n",
       "        vertical-align: top;\n",
       "    }\n",
       "\n",
       "    .dataframe thead th {\n",
       "        text-align: right;\n",
       "    }\n",
       "</style>\n",
       "<table border=\"1\" class=\"dataframe\">\n",
       "  <thead>\n",
       "    <tr style=\"text-align: right;\">\n",
       "      <th></th>\n",
       "      <th>Unnamed: 0</th>\n",
       "      <th>__experiment__</th>\n",
       "      <th>__run__</th>\n",
       "      <th>__event__</th>\n",
       "      <th>__production__</th>\n",
       "      <th>__candidate__</th>\n",
       "      <th>__ncandidates__</th>\n",
       "      <th>__weight__</th>\n",
       "      <th>m2RecoilSignalSide</th>\n",
       "      <th>foxWolframR2_maskedNaN</th>\n",
       "      <th>...</th>\n",
       "      <th>Dst_mccmE</th>\n",
       "      <th>Dst_mccmp</th>\n",
       "      <th>Dst_mccmpx</th>\n",
       "      <th>Dst_mccmpy</th>\n",
       "      <th>Dst_mccmpz</th>\n",
       "      <th>Dst_DeltaM</th>\n",
       "      <th>Dst_isSignal</th>\n",
       "      <th>roeE_ofUps4S</th>\n",
       "      <th>E_predicted_bg_gammas</th>\n",
       "      <th>abs_m2RecoilSignalSide</th>\n",
       "    </tr>\n",
       "  </thead>\n",
       "  <tbody>\n",
       "    <tr>\n",
       "      <th>141910</th>\n",
       "      <td>141910</td>\n",
       "      <td>1003</td>\n",
       "      <td>0</td>\n",
       "      <td>47846429</td>\n",
       "      <td>16817</td>\n",
       "      <td>3</td>\n",
       "      <td>4</td>\n",
       "      <td>1.0</td>\n",
       "      <td>-0.000037</td>\n",
       "      <td>0.135923</td>\n",
       "      <td>...</td>\n",
       "      <td>10.574087</td>\n",
       "      <td>0.000462</td>\n",
       "      <td>-2.697498e-06</td>\n",
       "      <td>0.000000</td>\n",
       "      <td>-0.000462</td>\n",
       "      <td>0.148945</td>\n",
       "      <td>0.0</td>\n",
       "      <td>0.604866</td>\n",
       "      <td>0.346684</td>\n",
       "      <td>0.000037</td>\n",
       "    </tr>\n",
       "    <tr>\n",
       "      <th>235950</th>\n",
       "      <td>235950</td>\n",
       "      <td>1003</td>\n",
       "      <td>0</td>\n",
       "      <td>6089413</td>\n",
       "      <td>16816</td>\n",
       "      <td>1</td>\n",
       "      <td>8</td>\n",
       "      <td>1.0</td>\n",
       "      <td>0.000099</td>\n",
       "      <td>0.061840</td>\n",
       "      <td>...</td>\n",
       "      <td>10.581256</td>\n",
       "      <td>0.003940</td>\n",
       "      <td>2.271547e-05</td>\n",
       "      <td>0.000000</td>\n",
       "      <td>0.003940</td>\n",
       "      <td>0.158790</td>\n",
       "      <td>0.0</td>\n",
       "      <td>0.697127</td>\n",
       "      <td>0.079790</td>\n",
       "      <td>0.000099</td>\n",
       "    </tr>\n",
       "    <tr>\n",
       "      <th>156316</th>\n",
       "      <td>156316</td>\n",
       "      <td>1003</td>\n",
       "      <td>0</td>\n",
       "      <td>49935203</td>\n",
       "      <td>16817</td>\n",
       "      <td>3</td>\n",
       "      <td>4</td>\n",
       "      <td>1.0</td>\n",
       "      <td>0.000107</td>\n",
       "      <td>0.195361</td>\n",
       "      <td>...</td>\n",
       "      <td>10.587143</td>\n",
       "      <td>0.000590</td>\n",
       "      <td>-3.382417e-06</td>\n",
       "      <td>0.000000</td>\n",
       "      <td>-0.000590</td>\n",
       "      <td>0.325629</td>\n",
       "      <td>0.0</td>\n",
       "      <td>1.307764</td>\n",
       "      <td>0.235975</td>\n",
       "      <td>0.000107</td>\n",
       "    </tr>\n",
       "    <tr>\n",
       "      <th>198018</th>\n",
       "      <td>198018</td>\n",
       "      <td>1003</td>\n",
       "      <td>0</td>\n",
       "      <td>13273233</td>\n",
       "      <td>16817</td>\n",
       "      <td>0</td>\n",
       "      <td>2</td>\n",
       "      <td>1.0</td>\n",
       "      <td>-0.000145</td>\n",
       "      <td>0.083021</td>\n",
       "      <td>...</td>\n",
       "      <td>10.582830</td>\n",
       "      <td>0.000108</td>\n",
       "      <td>-6.006459e-07</td>\n",
       "      <td>0.000000</td>\n",
       "      <td>-0.000108</td>\n",
       "      <td>0.285363</td>\n",
       "      <td>0.0</td>\n",
       "      <td>1.818166</td>\n",
       "      <td>0.290686</td>\n",
       "      <td>0.000145</td>\n",
       "    </tr>\n",
       "    <tr>\n",
       "      <th>146588</th>\n",
       "      <td>146588</td>\n",
       "      <td>1003</td>\n",
       "      <td>0</td>\n",
       "      <td>50046312</td>\n",
       "      <td>16817</td>\n",
       "      <td>7</td>\n",
       "      <td>8</td>\n",
       "      <td>1.0</td>\n",
       "      <td>-0.000163</td>\n",
       "      <td>0.089173</td>\n",
       "      <td>...</td>\n",
       "      <td>10.587262</td>\n",
       "      <td>0.000803</td>\n",
       "      <td>4.627266e-06</td>\n",
       "      <td>0.000000</td>\n",
       "      <td>0.000803</td>\n",
       "      <td>0.274863</td>\n",
       "      <td>0.0</td>\n",
       "      <td>2.053069</td>\n",
       "      <td>0.413075</td>\n",
       "      <td>0.000163</td>\n",
       "    </tr>\n",
       "    <tr>\n",
       "      <th>...</th>\n",
       "      <td>...</td>\n",
       "      <td>...</td>\n",
       "      <td>...</td>\n",
       "      <td>...</td>\n",
       "      <td>...</td>\n",
       "      <td>...</td>\n",
       "      <td>...</td>\n",
       "      <td>...</td>\n",
       "      <td>...</td>\n",
       "      <td>...</td>\n",
       "      <td>...</td>\n",
       "      <td>...</td>\n",
       "      <td>...</td>\n",
       "      <td>...</td>\n",
       "      <td>...</td>\n",
       "      <td>...</td>\n",
       "      <td>...</td>\n",
       "      <td>...</td>\n",
       "      <td>...</td>\n",
       "      <td>...</td>\n",
       "      <td>...</td>\n",
       "    </tr>\n",
       "    <tr>\n",
       "      <th>13513</th>\n",
       "      <td>13513</td>\n",
       "      <td>1003</td>\n",
       "      <td>0</td>\n",
       "      <td>1706707</td>\n",
       "      <td>16816</td>\n",
       "      <td>0</td>\n",
       "      <td>2</td>\n",
       "      <td>1.0</td>\n",
       "      <td>-17.344737</td>\n",
       "      <td>0.068277</td>\n",
       "      <td>...</td>\n",
       "      <td>10.575372</td>\n",
       "      <td>0.001366</td>\n",
       "      <td>-7.869317e-06</td>\n",
       "      <td>0.000000</td>\n",
       "      <td>-0.001366</td>\n",
       "      <td>0.634118</td>\n",
       "      <td>0.0</td>\n",
       "      <td>0.920907</td>\n",
       "      <td>0.500107</td>\n",
       "      <td>17.344737</td>\n",
       "    </tr>\n",
       "    <tr>\n",
       "      <th>9660</th>\n",
       "      <td>9660</td>\n",
       "      <td>1003</td>\n",
       "      <td>0</td>\n",
       "      <td>44025196</td>\n",
       "      <td>16816</td>\n",
       "      <td>1</td>\n",
       "      <td>2</td>\n",
       "      <td>1.0</td>\n",
       "      <td>-21.184315</td>\n",
       "      <td>0.152776</td>\n",
       "      <td>...</td>\n",
       "      <td>2.907935</td>\n",
       "      <td>2.101110</td>\n",
       "      <td>-1.555178e+00</td>\n",
       "      <td>1.003136</td>\n",
       "      <td>0.994889</td>\n",
       "      <td>0.153017</td>\n",
       "      <td>0.0</td>\n",
       "      <td>2.399377</td>\n",
       "      <td>0.303804</td>\n",
       "      <td>21.184315</td>\n",
       "    </tr>\n",
       "    <tr>\n",
       "      <th>128660</th>\n",
       "      <td>128660</td>\n",
       "      <td>1003</td>\n",
       "      <td>0</td>\n",
       "      <td>38157178</td>\n",
       "      <td>16817</td>\n",
       "      <td>0</td>\n",
       "      <td>8</td>\n",
       "      <td>1.0</td>\n",
       "      <td>-26.499164</td>\n",
       "      <td>0.068405</td>\n",
       "      <td>...</td>\n",
       "      <td>10.588659</td>\n",
       "      <td>0.000492</td>\n",
       "      <td>2.819186e-06</td>\n",
       "      <td>0.000000</td>\n",
       "      <td>0.000492</td>\n",
       "      <td>0.169219</td>\n",
       "      <td>0.0</td>\n",
       "      <td>3.700169</td>\n",
       "      <td>0.664777</td>\n",
       "      <td>26.499164</td>\n",
       "    </tr>\n",
       "    <tr>\n",
       "      <th>202523</th>\n",
       "      <td>202523</td>\n",
       "      <td>1003</td>\n",
       "      <td>0</td>\n",
       "      <td>33540556</td>\n",
       "      <td>16817</td>\n",
       "      <td>3</td>\n",
       "      <td>4</td>\n",
       "      <td>1.0</td>\n",
       "      <td>-88.968916</td>\n",
       "      <td>0.218392</td>\n",
       "      <td>...</td>\n",
       "      <td>10.574317</td>\n",
       "      <td>0.005166</td>\n",
       "      <td>-2.984147e-05</td>\n",
       "      <td>0.000000</td>\n",
       "      <td>-0.005166</td>\n",
       "      <td>0.267390</td>\n",
       "      <td>0.0</td>\n",
       "      <td>3.364213</td>\n",
       "      <td>0.284748</td>\n",
       "      <td>88.968916</td>\n",
       "    </tr>\n",
       "    <tr>\n",
       "      <th>94952</th>\n",
       "      <td>94952</td>\n",
       "      <td>1003</td>\n",
       "      <td>0</td>\n",
       "      <td>6741382</td>\n",
       "      <td>16817</td>\n",
       "      <td>0</td>\n",
       "      <td>2</td>\n",
       "      <td>1.0</td>\n",
       "      <td>-120.415811</td>\n",
       "      <td>0.077887</td>\n",
       "      <td>...</td>\n",
       "      <td>10.572508</td>\n",
       "      <td>0.004778</td>\n",
       "      <td>-2.754296e-05</td>\n",
       "      <td>0.000000</td>\n",
       "      <td>-0.004778</td>\n",
       "      <td>0.546393</td>\n",
       "      <td>0.0</td>\n",
       "      <td>1.685091</td>\n",
       "      <td>0.583981</td>\n",
       "      <td>120.415811</td>\n",
       "    </tr>\n",
       "  </tbody>\n",
       "</table>\n",
       "<p>49904 rows × 295 columns</p>\n",
       "</div>"
      ],
      "text/plain": [
       "        Unnamed: 0  __experiment__  __run__  __event__  __production__  \\\n",
       "141910      141910            1003        0   47846429           16817   \n",
       "235950      235950            1003        0    6089413           16816   \n",
       "156316      156316            1003        0   49935203           16817   \n",
       "198018      198018            1003        0   13273233           16817   \n",
       "146588      146588            1003        0   50046312           16817   \n",
       "...            ...             ...      ...        ...             ...   \n",
       "13513        13513            1003        0    1706707           16816   \n",
       "9660          9660            1003        0   44025196           16816   \n",
       "128660      128660            1003        0   38157178           16817   \n",
       "202523      202523            1003        0   33540556           16817   \n",
       "94952        94952            1003        0    6741382           16817   \n",
       "\n",
       "        __candidate__  __ncandidates__  __weight__  m2RecoilSignalSide  \\\n",
       "141910              3                4         1.0           -0.000037   \n",
       "235950              1                8         1.0            0.000099   \n",
       "156316              3                4         1.0            0.000107   \n",
       "198018              0                2         1.0           -0.000145   \n",
       "146588              7                8         1.0           -0.000163   \n",
       "...               ...              ...         ...                 ...   \n",
       "13513               0                2         1.0          -17.344737   \n",
       "9660                1                2         1.0          -21.184315   \n",
       "128660              0                8         1.0          -26.499164   \n",
       "202523              3                4         1.0          -88.968916   \n",
       "94952               0                2         1.0         -120.415811   \n",
       "\n",
       "        foxWolframR2_maskedNaN  ...  Dst_mccmE  Dst_mccmp    Dst_mccmpx  \\\n",
       "141910                0.135923  ...  10.574087   0.000462 -2.697498e-06   \n",
       "235950                0.061840  ...  10.581256   0.003940  2.271547e-05   \n",
       "156316                0.195361  ...  10.587143   0.000590 -3.382417e-06   \n",
       "198018                0.083021  ...  10.582830   0.000108 -6.006459e-07   \n",
       "146588                0.089173  ...  10.587262   0.000803  4.627266e-06   \n",
       "...                        ...  ...        ...        ...           ...   \n",
       "13513                 0.068277  ...  10.575372   0.001366 -7.869317e-06   \n",
       "9660                  0.152776  ...   2.907935   2.101110 -1.555178e+00   \n",
       "128660                0.068405  ...  10.588659   0.000492  2.819186e-06   \n",
       "202523                0.218392  ...  10.574317   0.005166 -2.984147e-05   \n",
       "94952                 0.077887  ...  10.572508   0.004778 -2.754296e-05   \n",
       "\n",
       "        Dst_mccmpy  Dst_mccmpz  Dst_DeltaM  Dst_isSignal  roeE_ofUps4S  \\\n",
       "141910    0.000000   -0.000462    0.148945           0.0      0.604866   \n",
       "235950    0.000000    0.003940    0.158790           0.0      0.697127   \n",
       "156316    0.000000   -0.000590    0.325629           0.0      1.307764   \n",
       "198018    0.000000   -0.000108    0.285363           0.0      1.818166   \n",
       "146588    0.000000    0.000803    0.274863           0.0      2.053069   \n",
       "...            ...         ...         ...           ...           ...   \n",
       "13513     0.000000   -0.001366    0.634118           0.0      0.920907   \n",
       "9660      1.003136    0.994889    0.153017           0.0      2.399377   \n",
       "128660    0.000000    0.000492    0.169219           0.0      3.700169   \n",
       "202523    0.000000   -0.005166    0.267390           0.0      3.364213   \n",
       "94952     0.000000   -0.004778    0.546393           0.0      1.685091   \n",
       "\n",
       "        E_predicted_bg_gammas  abs_m2RecoilSignalSide  \n",
       "141910               0.346684                0.000037  \n",
       "235950               0.079790                0.000099  \n",
       "156316               0.235975                0.000107  \n",
       "198018               0.290686                0.000145  \n",
       "146588               0.413075                0.000163  \n",
       "...                       ...                     ...  \n",
       "13513                0.500107               17.344737  \n",
       "9660                 0.303804               21.184315  \n",
       "128660               0.664777               26.499164  \n",
       "202523               0.284748               88.968916  \n",
       "94952                0.583981              120.415811  \n",
       "\n",
       "[49904 rows x 295 columns]"
      ]
     },
     "execution_count": 28,
     "metadata": {},
     "output_type": "execute_result"
    }
   ],
   "source": [
    "BCS_df"
   ]
  },
  {
   "cell_type": "code",
   "execution_count": 32,
   "metadata": {
    "scrolled": true
   },
   "outputs": [
    {
     "data": {
      "text/plain": [
       "<AxesSubplot:>"
      ]
     },
     "execution_count": 32,
     "metadata": {},
     "output_type": "execute_result"
    },
    {
     "data": {
      "image/png": "[encoded data removed]",
      "text/plain": [
       "<Figure size 432x288 with 1 Axes>"
      ]
     },
     "metadata": {
      "needs_background": "light"
     },
     "output_type": "display_data"
    }
   ],
   "source": [
    "bins = np.linspace(4, 6, 50)\n",
    "BCS_df[\"dau0_Mbc\"].hist(bins=bins)"
   ]
  },
  {
   "cell_type": "code",
   "execution_count": 35,
   "metadata": {
    "scrolled": true
   },
   "outputs": [
    {
     "data": {
      "text/plain": [
       "<AxesSubplot:>"
      ]
     },
     "execution_count": 35,
     "metadata": {},
     "output_type": "execute_result"
    },
    {
     "data": {
      "image/png": "[encoded data removed]",
      "text/plain": [
       "<Figure size 432x288 with 1 Axes>"
      ]
     },
     "metadata": {
      "needs_background": "light"
     },
     "output_type": "display_data"
    }
   ],
   "source": [
    "bins = np.linspace(-4, 4, 50)\n",
    "BCS_df[\"dau0_deltaE\"].hist(bins=bins)"
   ]
  },
  {
   "cell_type": "code",
   "execution_count": 55,
   "metadata": {
    "scrolled": true
   },
   "outputs": [
    {
     "data": {
      "text/plain": [
       "<AxesSubplot:>"
      ]
     },
     "execution_count": 55,
     "metadata": {},
     "output_type": "execute_result"
    },
    {
     "data": {
      "image/png": "[encoded data removed]",
      "text/plain": [
       "<Figure size 432x288 with 1 Axes>"
      ]
     },
     "metadata": {
      "needs_background": "light"
     },
     "output_type": "display_data"
    }
   ],
   "source": [
    "bins = np.linspace(0, 2, 50)\n",
    "BCS_df[\"Dst_DeltaM\"].hist(bins=bins)"
   ]
  },
  {
   "cell_type": "code",
   "execution_count": 58,
   "metadata": {
    "scrolled": true
   },
   "outputs": [
    {
     "data": {
      "text/plain": [
       "<AxesSubplot:>"
      ]
     },
     "execution_count": 58,
     "metadata": {},
     "output_type": "execute_result"
    },
    {
     "data": {
      "image/png": "[encoded data removed]",
      "text/plain": [
       "<Figure size 432x288 with 1 Axes>"
      ]
     },
     "metadata": {
      "needs_background": "light"
     },
     "output_type": "display_data"
    }
   ],
   "source": [
    "bins = np.linspace(0, 4, 50)\n",
    "BCS_df[\"D_M\"].hist(bins=bins)"
   ]
  },
  {
   "cell_type": "code",
   "execution_count": 59,
   "metadata": {
    "scrolled": true
   },
   "outputs": [
    {
     "data": {
      "text/plain": [
       "<AxesSubplot:>"
      ]
     },
     "execution_count": 59,
     "metadata": {},
     "output_type": "execute_result"
    },
    {
     "data": {
      "image/png": "[encoded data removed]",
      "text/plain": [
       "<Figure size 432x288 with 1 Axes>"
      ]
     },
     "metadata": {
      "needs_background": "light"
     },
     "output_type": "display_data"
    }
   ],
   "source": [
    "bins = np.linspace(0, 4, 50)\n",
    "BCS_df[\"Dst_M\"].hist(bins=bins)"
   ]
  },
  {
   "cell_type": "code",
   "execution_count": 39,
   "metadata": {
    "scrolled": true
   },
   "outputs": [
    {
     "data": {
      "text/plain": [
       "<AxesSubplot:>"
      ]
     },
     "execution_count": 39,
     "metadata": {},
     "output_type": "execute_result"
    },
    {
     "data": {
      "image/png": "[encoded data removed]",
      "text/plain": [
       "<Figure size 432x288 with 1 Axes>"
      ]
     },
     "metadata": {
      "needs_background": "light"
     },
     "output_type": "display_data"
    }
   ],
   "source": [
    "bins = np.linspace(0, 4, 50)\n",
    "BCS_df[\"Dst_pt\"].hist(bins=bins)"
   ]
  },
  {
   "cell_type": "code",
   "execution_count": 40,
   "metadata": {
    "scrolled": true
   },
   "outputs": [
    {
     "data": {
      "text/plain": [
       "<AxesSubplot:>"
      ]
     },
     "execution_count": 40,
     "metadata": {},
     "output_type": "execute_result"
    },
    {
     "data": {
      "image/png": "[encoded data removed]",
      "text/plain": [
       "<Figure size 432x288 with 1 Axes>"
      ]
     },
     "metadata": {
      "needs_background": "light"
     },
     "output_type": "display_data"
    }
   ],
   "source": [
    "bins = np.linspace(0, 4, 50)\n",
    "BCS_df[\"lep_pt\"].hist(bins=bins)"
   ]
  },
  {
   "cell_type": "code",
   "execution_count": 38,
   "metadata": {},
   "outputs": [
    {
     "data": {
      "text/plain": [
       "<matplotlib.legend.Legend at 0x2b9356fad9e8>"
      ]
     },
     "execution_count": 38,
     "metadata": {},
     "output_type": "execute_result"
    },
    {
     "data": {
      "image/png": "[encoded data removed]",
      "text/plain": [
       "<Figure size 576x360 with 1 Axes>"
      ]
     },
     "metadata": {
      "needs_background": "light"
     },
     "output_type": "display_data"
    }
   ],
   "source": [
    "fig, ax = plt.subplots()\n",
    "    \n",
    "bins = np.linspace(-4, 4, 50)\n",
    "\n",
    "fig.suptitle('--')\n",
    "fig.set_size_inches(8, 5)\n",
    "\n",
    "ax.set_xlabel(r'$m_{miss}^2$ in GeV$^2$')\n",
    "ax.set_ylabel(\"events\")\n",
    "\n",
    "ax.hist(BCS_df.m2RecoilSignalSide, bins, alpha=0.5, label=\"no filter\" ,histtype='step')\n",
    "ax.hist(BCS_df[BCS_df.dau0_Mbc > 5.00].m2RecoilSignalSide, bins, alpha=0.5, label=\"dau0_Mbc > 5.00\" ,histtype='step')\n",
    "ax.hist(BCS_df[(BCS_df.dau0_deltaE > -.2) & BCS_df.dau0_deltaE < .2].m2RecoilSignalSide, bins, alpha=0.5, label=\"abs(dau0_deltaE) < 0.2\" ,histtype='step')\n",
    "#ax.hist(BCS_df[(BCS_df.Dst_pt < 2.4) & (BCS_df.lep_pt > 1.0)].m2RecoilSignalSide, bins, alpha=0.5, label=\"Dst_pt < 2.4 & lep_pt > 1.0\" ,histtype='step')\n",
    "ax.hist(BCS_df[(BCS_df.lep_pt > 1.0)].m2RecoilSignalSide, bins, alpha=0.5, label=\"lep_pt > 1.0\" ,histtype='step')\n",
    "#ax.hist(BCS_df[(BCS_df.Dst_pt < 2.4)].m2RecoilSignalSide, bins, alpha=0.5, label=\"Dst_pt < 2.4\" ,histtype='step')\n",
    "ax.hist(BCS_df[(BCS_df.lep_pt > 1.0) & (BCS_df.dau0_deltaE > -.2) & (BCS_df.dau0_deltaE < .2) & (BCS_df.dau0_Mbc > 5.00)].m2RecoilSignalSide, bins, alpha=0.5, label=\"lep_pt,dau0_deltaE,dau0_Mbc\" ,histtype='step')\n",
    "\n",
    "tmp2 = BCS_df[(BCS_df.lep_pt > 1.0) & (BCS_df.dau0_deltaE > -.2) & (BCS_df.dau0_deltaE < .2) & (BCS_df.dau0_Mbc > 5.00)]\n",
    "ax.hist(tmp2[(tmp2.D_M > 1.8) & (tmp2.D_M < 1.95)].m2RecoilSignalSide, bins, alpha=0.5, label=\"plus D M cut\" ,histtype='step')\n",
    "\n",
    "ax.legend(loc='upper left')"
   ]
  },
  {
   "cell_type": "code",
   "execution_count": 40,
   "metadata": {},
   "outputs": [
    {
     "data": {
      "text/plain": [
       "<matplotlib.legend.Legend at 0x2b935631b860>"
      ]
     },
     "execution_count": 40,
     "metadata": {},
     "output_type": "execute_result"
    },
    {
     "data": {
      "image/png": "[encoded data removed]",
      "text/plain": [
       "<Figure size 576x360 with 1 Axes>"
      ]
     },
     "metadata": {
      "needs_background": "light"
     },
     "output_type": "display_data"
    }
   ],
   "source": [
    "fig, ax = plt.subplots()\n",
    "    \n",
    "bins = np.linspace(-4, 4, 50)\n",
    "\n",
    "fig.suptitle('--')\n",
    "fig.set_size_inches(8, 5)\n",
    "\n",
    "ax.set_xlabel(r'$m_{miss}^2$ in GeV$^2$')\n",
    "ax.set_ylabel(\"events\")\n",
    "\n",
    "#ax.hist(BCS_df.m2RecoilSignalSide, bins, alpha=0.5, label=\"no filter\" ,histtype='step')\n",
    "#ax.hist(BCS_df[BCS_df.dau0_Mbc > 5.00].m2RecoilSignalSide, bins, alpha=0.5, label=\"dau0_Mbc > 5.00\" ,histtype='step')\n",
    "#ax.hist(BCS_df[(BCS_df.dau0_deltaE > -.2) & BCS_df.dau0_deltaE < .2].m2RecoilSignalSide, bins, alpha=0.5, label=\"abs(dau0_deltaE) < 0.2\" ,histtype='step')\n",
    "#ax.hist(BCS_df[(BCS_df.Dst_pt < 2.4) & (BCS_df.lep_pt > 1.0)].m2RecoilSignalSide, bins, alpha=0.5, label=\"Dst_pt < 2.4 & lep_pt > 1.0\" ,histtype='step')\n",
    "#ax.hist(BCS_df[(BCS_df.lep_pt > 1.0)].m2RecoilSignalSide, bins, alpha=0.5, label=\"lep_pt > 1.0\" ,histtype='step')\n",
    "#ax.hist(BCS_df[(BCS_df.Dst_pt < 2.4)].m2RecoilSignalSide, bins, alpha=0.5, label=\"Dst_pt < 2.4\" ,histtype='step')\n",
    "#ax.hist(BCS_df[(BCS_df.lep_pt > 1.0) & (BCS_df.dau0_deltaE > -.2) & (BCS_df.dau0_deltaE < .2) & (BCS_df.dau0_Mbc > 5.00)].m2RecoilSignalSide, bins, alpha=0.5, label=\"lep_pt,dau0_deltaE,dau0_Mbc\" ,histtype='step')\n",
    "\n",
    "tmp2 = BCS_df[(BCS_df.lep_pt > 1.0) & (BCS_df.dau0_deltaE > -.2) & (BCS_df.dau0_deltaE < .2) & (BCS_df.dau0_Mbc > 5.00)]\n",
    "ax.hist(tmp2[(tmp2.D_M > 1.8) & (tmp2.D_M < 1.95)].m2RecoilSignalSide, bins, alpha=0.5, label=\"plus D M cut\" ,histtype='step')\n",
    "\n",
    "ax.legend(loc='upper left')"
   ]
  },
  {
   "cell_type": "code",
   "execution_count": null,
   "metadata": {},
   "outputs": [],
   "source": []
  }
 ],
 "metadata": {
  "kernelspec": {
   "display_name": "Python 3",
   "language": "python",
   "name": "python3"
  },
  "language_info": {
   "codemirror_mode": {
    "name": "ipython",
    "version": 3
   },
   "file_extension": ".py",
   "mimetype": "text/x-python",
   "name": "python",
   "nbconvert_exporter": "python",
   "pygments_lexer": "ipython3",
   "version": "3.6.8"
  }
 },
 "nbformat": 4,
 "nbformat_minor": 4
}
