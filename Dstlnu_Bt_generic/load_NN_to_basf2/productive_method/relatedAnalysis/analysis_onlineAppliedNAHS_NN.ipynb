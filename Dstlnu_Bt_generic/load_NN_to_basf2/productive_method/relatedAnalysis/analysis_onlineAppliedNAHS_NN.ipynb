{
 "cells": [
  {
   "cell_type": "code",
   "execution_count": 2,
   "metadata": {},
   "outputs": [],
   "source": [
    "import matplotlib.pyplot as plt\n",
    "import uproot\n",
    "import numpy as np\n",
    "import pandas as pd\n",
    "import matplotlib as mpl\n",
    "\n",
    "import sys\n",
    "sys.path.insert(1, '/afs/desy.de/user/a/axelheim/private/MC_studies/Dstlnu_Bt_generic/util_funcs/')\n",
    "from pandas_colFuncs import B_ID, whichBisSig, D0_decay_type, whichBisSig_NAHS"
   ]
  },
  {
   "cell_type": "code",
   "execution_count": 3,
   "metadata": {},
   "outputs": [],
   "source": [
    "nfs_path = \"/nfs/dust/belle2/user/axelheim/MC_studies/Dstlnu_Bt_generic/appliedNNdata/17thRun/sub0/\"\n",
    "#nfs_path = \"/nfs/dust/belle2/user/axelheim/MC_studies/Dstlnu_Bt_generic/appliedNNdata/15thRun/sub0/\""
   ]
  },
  {
   "cell_type": "code",
   "execution_count": 6,
   "metadata": {},
   "outputs": [],
   "source": [
    "Ups4S_file = uproot.open(nfs_path + \"Ups4S_NN_predicted.root:variables;1\")\n",
    "df_Ups4S = Ups4S_file.arrays(library=\"pd\")"
   ]
  },
  {
   "cell_type": "code",
   "execution_count": null,
   "metadata": {},
   "outputs": [],
   "source": [
    "FSPs_file = uproot.open(nfs_path + \"FSPs.root:variables;1\")\n",
    "df_FSPs = FSPs_file.arrays(library=\"pd\")"
   ]
  },
  {
   "cell_type": "code",
   "execution_count": null,
   "metadata": {},
   "outputs": [],
   "source": [
    "evt_counter_file = uproot.open(nfs_path + \"evt_counter.root:variables;1\")\n",
    "df_evt_counter = evt_counter_file.arrays(library=\"pd\")"
   ]
  },
  {
   "cell_type": "code",
   "execution_count": null,
   "metadata": {},
   "outputs": [],
   "source": [
    "df_evt_counter.groupby([\"__event__\",\"__production__\"]).ngroups"
   ]
  },
  {
   "cell_type": "code",
   "execution_count": null,
   "metadata": {
    "scrolled": true
   },
   "outputs": [],
   "source": [
    "print(df_evt_counter.shape[0])"
   ]
  },
  {
   "cell_type": "code",
   "execution_count": null,
   "metadata": {
    "scrolled": true
   },
   "outputs": [],
   "source": [
    "print(df_Ups4S.shape[0])\n",
    "print(df_Ups4S[\"__event__\"].nunique())\n",
    "print(df_FSPs.shape[0])"
   ]
  },
  {
   "cell_type": "code",
   "execution_count": null,
   "metadata": {},
   "outputs": [],
   "source": [
    "print(df_Ups4S.groupby([\"__event__\",\"__production__\"]).ngroups)\n",
    "print(df_Ups4S[\"__event__\"].nunique())"
   ]
  },
  {
   "cell_type": "markdown",
   "metadata": {},
   "source": [
    "## save df's"
   ]
  },
  {
   "cell_type": "code",
   "execution_count": null,
   "metadata": {},
   "outputs": [],
   "source": [
    "df_FSPs.to_csv(nfs_path + \"FSPs_df.csv\")\n",
    "df_Ups4S.to_csv(nfs_path + \"Ups4S_df.csv\")"
   ]
  },
  {
   "cell_type": "code",
   "execution_count": null,
   "metadata": {},
   "outputs": [],
   "source": [
    "df_evt_counter.to_csv(nfs_path + \"evt_counter_df.csv\")"
   ]
  },
  {
   "cell_type": "markdown",
   "metadata": {},
   "source": [
    "## load df's"
   ]
  },
  {
   "cell_type": "code",
   "execution_count": 4,
   "metadata": {},
   "outputs": [
    {
     "ename": "FileNotFoundError",
     "evalue": "[Errno 2] No such file or directory: '/nfs/dust/belle2/user/axelheim/MC_studies/Dstlnu_Bt_generic/appliedNNdata/17thRun/sub0/Ups4S_df.csv'",
     "output_type": "error",
     "traceback": [
      "\u001b[0;31m---------------------------------------------------------------------------\u001b[0m",
      "\u001b[0;31mFileNotFoundError\u001b[0m                         Traceback (most recent call last)",
      "\u001b[0;32m<ipython-input-4-9a1e7d4a84bd>\u001b[0m in \u001b[0;36m<module>\u001b[0;34m\u001b[0m\n\u001b[0;32m----> 1\u001b[0;31m \u001b[0mdf_Ups4S\u001b[0m \u001b[0;34m=\u001b[0m \u001b[0mpd\u001b[0m\u001b[0;34m.\u001b[0m\u001b[0mread_csv\u001b[0m\u001b[0;34m(\u001b[0m\u001b[0mnfs_path\u001b[0m \u001b[0;34m+\u001b[0m \u001b[0;34m\"Ups4S_df.csv\"\u001b[0m\u001b[0;34m)\u001b[0m\u001b[0;34m\u001b[0m\u001b[0;34m\u001b[0m\u001b[0m\n\u001b[0m\u001b[1;32m      2\u001b[0m \u001b[0mdf_FSPs\u001b[0m \u001b[0;34m=\u001b[0m \u001b[0mpd\u001b[0m\u001b[0;34m.\u001b[0m\u001b[0mread_csv\u001b[0m\u001b[0;34m(\u001b[0m\u001b[0mnfs_path\u001b[0m \u001b[0;34m+\u001b[0m \u001b[0;34m\"FSPs_df.csv\"\u001b[0m\u001b[0;34m)\u001b[0m\u001b[0;34m\u001b[0m\u001b[0;34m\u001b[0m\u001b[0m\n\u001b[1;32m      3\u001b[0m \u001b[0;31m#df_evt_counter = pd.read_csv(nfs_path + \"evt_counter_df.csv\")\u001b[0m\u001b[0;34m\u001b[0m\u001b[0;34m\u001b[0m\u001b[0;34m\u001b[0m\u001b[0m\n",
      "\u001b[0;32m/usr/local/lib64/python3.6/site-packages/pandas/io/parsers.py\u001b[0m in \u001b[0;36mread_csv\u001b[0;34m(filepath_or_buffer, sep, delimiter, header, names, index_col, usecols, squeeze, prefix, mangle_dupe_cols, dtype, engine, converters, true_values, false_values, skipinitialspace, skiprows, skipfooter, nrows, na_values, keep_default_na, na_filter, verbose, skip_blank_lines, parse_dates, infer_datetime_format, keep_date_col, date_parser, dayfirst, cache_dates, iterator, chunksize, compression, thousands, decimal, lineterminator, quotechar, quoting, doublequote, escapechar, comment, encoding, dialect, error_bad_lines, warn_bad_lines, delim_whitespace, low_memory, memory_map, float_precision)\u001b[0m\n\u001b[1;32m    686\u001b[0m     )\n\u001b[1;32m    687\u001b[0m \u001b[0;34m\u001b[0m\u001b[0m\n\u001b[0;32m--> 688\u001b[0;31m     \u001b[0;32mreturn\u001b[0m \u001b[0m_read\u001b[0m\u001b[0;34m(\u001b[0m\u001b[0mfilepath_or_buffer\u001b[0m\u001b[0;34m,\u001b[0m \u001b[0mkwds\u001b[0m\u001b[0;34m)\u001b[0m\u001b[0;34m\u001b[0m\u001b[0;34m\u001b[0m\u001b[0m\n\u001b[0m\u001b[1;32m    689\u001b[0m \u001b[0;34m\u001b[0m\u001b[0m\n\u001b[1;32m    690\u001b[0m \u001b[0;34m\u001b[0m\u001b[0m\n",
      "\u001b[0;32m/usr/local/lib64/python3.6/site-packages/pandas/io/parsers.py\u001b[0m in \u001b[0;36m_read\u001b[0;34m(filepath_or_buffer, kwds)\u001b[0m\n\u001b[1;32m    452\u001b[0m \u001b[0;34m\u001b[0m\u001b[0m\n\u001b[1;32m    453\u001b[0m     \u001b[0;31m# Create the parser.\u001b[0m\u001b[0;34m\u001b[0m\u001b[0;34m\u001b[0m\u001b[0;34m\u001b[0m\u001b[0m\n\u001b[0;32m--> 454\u001b[0;31m     \u001b[0mparser\u001b[0m \u001b[0;34m=\u001b[0m \u001b[0mTextFileReader\u001b[0m\u001b[0;34m(\u001b[0m\u001b[0mfp_or_buf\u001b[0m\u001b[0;34m,\u001b[0m \u001b[0;34m**\u001b[0m\u001b[0mkwds\u001b[0m\u001b[0;34m)\u001b[0m\u001b[0;34m\u001b[0m\u001b[0;34m\u001b[0m\u001b[0m\n\u001b[0m\u001b[1;32m    455\u001b[0m \u001b[0;34m\u001b[0m\u001b[0m\n\u001b[1;32m    456\u001b[0m     \u001b[0;32mif\u001b[0m \u001b[0mchunksize\u001b[0m \u001b[0;32mor\u001b[0m \u001b[0miterator\u001b[0m\u001b[0;34m:\u001b[0m\u001b[0;34m\u001b[0m\u001b[0;34m\u001b[0m\u001b[0m\n",
      "\u001b[0;32m/usr/local/lib64/python3.6/site-packages/pandas/io/parsers.py\u001b[0m in \u001b[0;36m__init__\u001b[0;34m(self, f, engine, **kwds)\u001b[0m\n\u001b[1;32m    946\u001b[0m             \u001b[0mself\u001b[0m\u001b[0;34m.\u001b[0m\u001b[0moptions\u001b[0m\u001b[0;34m[\u001b[0m\u001b[0;34m\"has_index_names\"\u001b[0m\u001b[0;34m]\u001b[0m \u001b[0;34m=\u001b[0m \u001b[0mkwds\u001b[0m\u001b[0;34m[\u001b[0m\u001b[0;34m\"has_index_names\"\u001b[0m\u001b[0;34m]\u001b[0m\u001b[0;34m\u001b[0m\u001b[0;34m\u001b[0m\u001b[0m\n\u001b[1;32m    947\u001b[0m \u001b[0;34m\u001b[0m\u001b[0m\n\u001b[0;32m--> 948\u001b[0;31m         \u001b[0mself\u001b[0m\u001b[0;34m.\u001b[0m\u001b[0m_make_engine\u001b[0m\u001b[0;34m(\u001b[0m\u001b[0mself\u001b[0m\u001b[0;34m.\u001b[0m\u001b[0mengine\u001b[0m\u001b[0;34m)\u001b[0m\u001b[0;34m\u001b[0m\u001b[0;34m\u001b[0m\u001b[0m\n\u001b[0m\u001b[1;32m    949\u001b[0m \u001b[0;34m\u001b[0m\u001b[0m\n\u001b[1;32m    950\u001b[0m     \u001b[0;32mdef\u001b[0m \u001b[0mclose\u001b[0m\u001b[0;34m(\u001b[0m\u001b[0mself\u001b[0m\u001b[0;34m)\u001b[0m\u001b[0;34m:\u001b[0m\u001b[0;34m\u001b[0m\u001b[0;34m\u001b[0m\u001b[0m\n",
      "\u001b[0;32m/usr/local/lib64/python3.6/site-packages/pandas/io/parsers.py\u001b[0m in \u001b[0;36m_make_engine\u001b[0;34m(self, engine)\u001b[0m\n\u001b[1;32m   1178\u001b[0m     \u001b[0;32mdef\u001b[0m \u001b[0m_make_engine\u001b[0m\u001b[0;34m(\u001b[0m\u001b[0mself\u001b[0m\u001b[0;34m,\u001b[0m \u001b[0mengine\u001b[0m\u001b[0;34m=\u001b[0m\u001b[0;34m\"c\"\u001b[0m\u001b[0;34m)\u001b[0m\u001b[0;34m:\u001b[0m\u001b[0;34m\u001b[0m\u001b[0;34m\u001b[0m\u001b[0m\n\u001b[1;32m   1179\u001b[0m         \u001b[0;32mif\u001b[0m \u001b[0mengine\u001b[0m \u001b[0;34m==\u001b[0m \u001b[0;34m\"c\"\u001b[0m\u001b[0;34m:\u001b[0m\u001b[0;34m\u001b[0m\u001b[0;34m\u001b[0m\u001b[0m\n\u001b[0;32m-> 1180\u001b[0;31m             \u001b[0mself\u001b[0m\u001b[0;34m.\u001b[0m\u001b[0m_engine\u001b[0m \u001b[0;34m=\u001b[0m \u001b[0mCParserWrapper\u001b[0m\u001b[0;34m(\u001b[0m\u001b[0mself\u001b[0m\u001b[0;34m.\u001b[0m\u001b[0mf\u001b[0m\u001b[0;34m,\u001b[0m \u001b[0;34m**\u001b[0m\u001b[0mself\u001b[0m\u001b[0;34m.\u001b[0m\u001b[0moptions\u001b[0m\u001b[0;34m)\u001b[0m\u001b[0;34m\u001b[0m\u001b[0;34m\u001b[0m\u001b[0m\n\u001b[0m\u001b[1;32m   1181\u001b[0m         \u001b[0;32melse\u001b[0m\u001b[0;34m:\u001b[0m\u001b[0;34m\u001b[0m\u001b[0;34m\u001b[0m\u001b[0m\n\u001b[1;32m   1182\u001b[0m             \u001b[0;32mif\u001b[0m \u001b[0mengine\u001b[0m \u001b[0;34m==\u001b[0m \u001b[0;34m\"python\"\u001b[0m\u001b[0;34m:\u001b[0m\u001b[0;34m\u001b[0m\u001b[0;34m\u001b[0m\u001b[0m\n",
      "\u001b[0;32m/usr/local/lib64/python3.6/site-packages/pandas/io/parsers.py\u001b[0m in \u001b[0;36m__init__\u001b[0;34m(self, src, **kwds)\u001b[0m\n\u001b[1;32m   2008\u001b[0m         \u001b[0mkwds\u001b[0m\u001b[0;34m[\u001b[0m\u001b[0;34m\"usecols\"\u001b[0m\u001b[0;34m]\u001b[0m \u001b[0;34m=\u001b[0m \u001b[0mself\u001b[0m\u001b[0;34m.\u001b[0m\u001b[0musecols\u001b[0m\u001b[0;34m\u001b[0m\u001b[0;34m\u001b[0m\u001b[0m\n\u001b[1;32m   2009\u001b[0m \u001b[0;34m\u001b[0m\u001b[0m\n\u001b[0;32m-> 2010\u001b[0;31m         \u001b[0mself\u001b[0m\u001b[0;34m.\u001b[0m\u001b[0m_reader\u001b[0m \u001b[0;34m=\u001b[0m \u001b[0mparsers\u001b[0m\u001b[0;34m.\u001b[0m\u001b[0mTextReader\u001b[0m\u001b[0;34m(\u001b[0m\u001b[0msrc\u001b[0m\u001b[0;34m,\u001b[0m \u001b[0;34m**\u001b[0m\u001b[0mkwds\u001b[0m\u001b[0;34m)\u001b[0m\u001b[0;34m\u001b[0m\u001b[0;34m\u001b[0m\u001b[0m\n\u001b[0m\u001b[1;32m   2011\u001b[0m         \u001b[0mself\u001b[0m\u001b[0;34m.\u001b[0m\u001b[0munnamed_cols\u001b[0m \u001b[0;34m=\u001b[0m \u001b[0mself\u001b[0m\u001b[0;34m.\u001b[0m\u001b[0m_reader\u001b[0m\u001b[0;34m.\u001b[0m\u001b[0munnamed_cols\u001b[0m\u001b[0;34m\u001b[0m\u001b[0;34m\u001b[0m\u001b[0m\n\u001b[1;32m   2012\u001b[0m \u001b[0;34m\u001b[0m\u001b[0m\n",
      "\u001b[0;32mpandas/_libs/parsers.pyx\u001b[0m in \u001b[0;36mpandas._libs.parsers.TextReader.__cinit__\u001b[0;34m()\u001b[0m\n",
      "\u001b[0;32mpandas/_libs/parsers.pyx\u001b[0m in \u001b[0;36mpandas._libs.parsers.TextReader._setup_parser_source\u001b[0;34m()\u001b[0m\n",
      "\u001b[0;31mFileNotFoundError\u001b[0m: [Errno 2] No such file or directory: '/nfs/dust/belle2/user/axelheim/MC_studies/Dstlnu_Bt_generic/appliedNNdata/17thRun/sub0/Ups4S_df.csv'"
     ]
    }
   ],
   "source": [
    "df_Ups4S = pd.read_csv(nfs_path + \"Ups4S_df.csv\")\n",
    "df_FSPs = pd.read_csv(nfs_path + \"FSPs_df.csv\")\n",
    "#df_evt_counter = pd.read_csv(nfs_path + \"evt_counter_df.csv\")"
   ]
  },
  {
   "cell_type": "code",
   "execution_count": null,
   "metadata": {},
   "outputs": [],
   "source": [
    "df_Ups4S"
   ]
  },
  {
   "cell_type": "markdown",
   "metadata": {},
   "source": [
    "# Analysis"
   ]
  },
  {
   "cell_type": "code",
   "execution_count": null,
   "metadata": {},
   "outputs": [],
   "source": [
    "df_Ups4S.groupby([\"__event__\",\"__production__\"]).ngroups"
   ]
  },
  {
   "cell_type": "markdown",
   "metadata": {},
   "source": [
    "## check DO decays"
   ]
  },
  {
   "cell_type": "code",
   "execution_count": null,
   "metadata": {},
   "outputs": [],
   "source": [
    "df_Ups4S['Bsig_uniqParID'] = df_Ups4S.apply(whichBisSig_NAHS, axis=1)"
   ]
  },
  {
   "cell_type": "code",
   "execution_count": null,
   "metadata": {},
   "outputs": [],
   "source": [
    "df_Ups4S['Bsig_uniqParID'].value_counts()"
   ]
  },
  {
   "cell_type": "code",
   "execution_count": null,
   "metadata": {},
   "outputs": [],
   "source": [
    "df_Ups4S['D0_decay'] = df_Ups4S.apply(D0_decay_type, axis=1)"
   ]
  },
  {
   "cell_type": "code",
   "execution_count": null,
   "metadata": {},
   "outputs": [],
   "source": [
    "df_Ups4S[\"abs_m2RecoilSignalSide\"] = df_Ups4S[\"m2RecoilSignalSide\"].abs() \n",
    "#BCS_df = df_Ups4S.sort_values(\"abs_m2RecoilSignalSide\",ascending=True).drop_duplicates(subset=(\"__event__\"), keep='first')"
   ]
  },
  {
   "cell_type": "code",
   "execution_count": null,
   "metadata": {},
   "outputs": [],
   "source": [
    "df_Ups4S['D0_decay'].value_counts()"
   ]
  },
  {
   "cell_type": "code",
   "execution_count": null,
   "metadata": {},
   "outputs": [],
   "source": [
    "df_Ups4S = df_Ups4S[df_Ups4S['D0_decay'] != \"notWanted\"]"
   ]
  },
  {
   "cell_type": "code",
   "execution_count": null,
   "metadata": {},
   "outputs": [],
   "source": [
    "df_Ups4S.groupby([\"__event__\",\"__production__\"]).ngroups"
   ]
  },
  {
   "cell_type": "code",
   "execution_count": null,
   "metadata": {},
   "outputs": [],
   "source": [
    "df_FSPs = df_FSPs[df_FSPs['__event__'].isin(df_Ups4S[\"__event__\"])]"
   ]
  },
  {
   "cell_type": "markdown",
   "metadata": {},
   "source": [
    "## check for D* -> D0 pi"
   ]
  },
  {
   "cell_type": "code",
   "execution_count": null,
   "metadata": {
    "scrolled": true
   },
   "outputs": [],
   "source": [
    "print(df_Ups4S.shape[0])\n",
    "print(df_Ups4S[\"__event__\"].nunique())\n",
    "print(df_FSPs.shape[0])"
   ]
  },
  {
   "cell_type": "code",
   "execution_count": null,
   "metadata": {},
   "outputs": [],
   "source": [
    "tmp = df_Ups4S[((df_Ups4S[\"Bsig_uniqParID\"] == 83886081.0)  &\n",
    "            (df_Ups4S[\"genUp4S_PDG_0_0_0\"].abs() == 421.0)  & # 421=D0\n",
    "            (df_Ups4S[\"genUp4S_PDG_0_0_1\"].abs() == 211.0)  & # 211=pion\n",
    "            (df_Ups4S[\"genUp4S_PDG_0_0_2\"].isna() == True)   # no particle \n",
    "              |\n",
    "        ((df_Ups4S[\"Bsig_uniqParID\"] == 83886082.0)  &\n",
    "            (df_Ups4S[\"genUp4S_PDG_1_0_0\"].abs() == 421.0)  & # 421=D0\n",
    "            (df_Ups4S[\"genUp4S_PDG_1_0_1\"].abs() == 211.0)  & # 211=pion\n",
    "            (df_Ups4S[\"genUp4S_PDG_1_0_2\"].isna() == True)))] # no particle \n",
    "\n",
    "tmp_FSPs = df_FSPs[df_FSPs['__event__'].isin(df_Ups4S[\"__event__\"])]"
   ]
  },
  {
   "cell_type": "code",
   "execution_count": null,
   "metadata": {
    "scrolled": true
   },
   "outputs": [],
   "source": [
    "print(tmp.shape[0])\n",
    "print(tmp[\"__event__\"].nunique())\n",
    "print(tmp_FSPs.shape[0])"
   ]
  },
  {
   "cell_type": "markdown",
   "metadata": {},
   "source": [
    "### add and check cols"
   ]
  },
  {
   "cell_type": "code",
   "execution_count": null,
   "metadata": {},
   "outputs": [],
   "source": [
    "df_FSPs['B_ID'] = df_FSPs.apply(B_ID, axis=1)"
   ]
  },
  {
   "cell_type": "code",
   "execution_count": null,
   "metadata": {},
   "outputs": [],
   "source": [
    "df_Ups4S['Bsig_uniqParID_pdMethod'] = df_Ups4S.apply(whichBisSig, axis=1)"
   ]
  },
  {
   "cell_type": "code",
   "execution_count": null,
   "metadata": {},
   "outputs": [],
   "source": [
    "Hc_motherB_df = df_FSPs[df_FSPs[\"NN_prediction\"].isna() == True].drop_duplicates(subset=(\"__event__\"), keep='first')"
   ]
  },
  {
   "cell_type": "code",
   "execution_count": null,
   "metadata": {},
   "outputs": [],
   "source": [
    "Hc_motherB_df[\"B_tag_ID\"] = Hc_motherB_df[\"B_ID\"]"
   ]
  },
  {
   "cell_type": "code",
   "execution_count": null,
   "metadata": {},
   "outputs": [],
   "source": [
    "Hc_motherB_df[[\"__event__\",\"__production__\",\"B_ID\",\"B_tag_ID\",\"NN_prediction\"]]"
   ]
  },
  {
   "cell_type": "code",
   "execution_count": null,
   "metadata": {
    "scrolled": true
   },
   "outputs": [],
   "source": [
    "df_FSPs.shape[0]"
   ]
  },
  {
   "cell_type": "code",
   "execution_count": null,
   "metadata": {},
   "outputs": [],
   "source": [
    "df_FSPs = pd.merge(df_FSPs,Hc_motherB_df[[\"__event__\",\"__production__\",\"B_tag_ID\"]], on=[\"__event__\",\"__production__\"])"
   ]
  },
  {
   "cell_type": "code",
   "execution_count": null,
   "metadata": {
    "scrolled": true
   },
   "outputs": [],
   "source": [
    "df_FSPs.shape[0]"
   ]
  },
  {
   "cell_type": "code",
   "execution_count": null,
   "metadata": {},
   "outputs": [],
   "source": [
    "def labels(s):\n",
    "    label = -1\n",
    "    if int(s['B_ID']) == 0:\n",
    "        label = 0 # background, cause not related to MC Particles\n",
    "    else: \n",
    "        B_tagID = s['B_tag_ID']\n",
    "        \n",
    "        if int(s['B_ID']) == B_tagID:\n",
    "            label = 1 # X\n",
    "        else:\n",
    "            label = 2 # Bsig\n",
    "    return label\n",
    "df_FSPs['label'] = df_FSPs.apply(labels, axis=1)"
   ]
  },
  {
   "cell_type": "code",
   "execution_count": null,
   "metadata": {},
   "outputs": [],
   "source": [
    "df_FSPs[\"correct_pred\"] = (df_FSPs[\"label\"] == df_FSPs[\"NN_prediction\"]).astype(int)"
   ]
  },
  {
   "cell_type": "code",
   "execution_count": null,
   "metadata": {
    "scrolled": true
   },
   "outputs": [],
   "source": [
    "df_FSPs[\"correct_pred\"].describe()"
   ]
  },
  {
   "cell_type": "markdown",
   "metadata": {},
   "source": [
    "## see correct prediction rate of NN"
   ]
  },
  {
   "cell_type": "code",
   "execution_count": null,
   "metadata": {},
   "outputs": [],
   "source": [
    "df_FSPs[\"correct_pred\"].describe()"
   ]
  },
  {
   "cell_type": "code",
   "execution_count": null,
   "metadata": {},
   "outputs": [],
   "source": [
    "df_FSPs[\"NN_prediction\"].describe()"
   ]
  },
  {
   "cell_type": "code",
   "execution_count": null,
   "metadata": {},
   "outputs": [],
   "source": [
    "df_FSPs[df_FSPs[\"NN_prediction\"].notna() == True].shape[0]/df_FSPs.shape[0]"
   ]
  },
  {
   "cell_type": "code",
   "execution_count": null,
   "metadata": {},
   "outputs": [],
   "source": [
    "nonHc_FSPs = df_FSPs[df_FSPs[\"NN_prediction\"].notna() == True]"
   ]
  },
  {
   "cell_type": "code",
   "execution_count": null,
   "metadata": {},
   "outputs": [],
   "source": [
    "nonHc_FSPs[nonHc_FSPs[\"NN_prediction\"].notna() == True].shape[0]/nonHc_FSPs.shape[0]"
   ]
  },
  {
   "cell_type": "code",
   "execution_count": null,
   "metadata": {},
   "outputs": [],
   "source": [
    "nonHc_FSPs[\"correct_pred\"].describe()"
   ]
  },
  {
   "cell_type": "code",
   "execution_count": null,
   "metadata": {},
   "outputs": [],
   "source": [
    "nonHc_FSPs.shape[0]"
   ]
  },
  {
   "cell_type": "markdown",
   "metadata": {},
   "source": [
    "## lepton based truth matching"
   ]
  },
  {
   "cell_type": "code",
   "execution_count": 10,
   "metadata": {},
   "outputs": [
    {
     "data": {
      "text/plain": [
       "-511.0      519856\n",
       " 511.0      382099\n",
       "-411.0      272749\n",
       "-421.0      215440\n",
       " 113.0      205209\n",
       "             ...  \n",
       " 10213.0         4\n",
       " 215.0           4\n",
       "-30343.0         2\n",
       " 335.0           2\n",
       " 3334.0          2\n",
       "Name: lep_motherPDG, Length: 136, dtype: int64"
      ]
     },
     "execution_count": 10,
     "metadata": {},
     "output_type": "execute_result"
    }
   ],
   "source": [
    "df_Ups4S[\"lep_motherPDG\"].value_counts()"
   ]
  },
  {
   "cell_type": "code",
   "execution_count": 11,
   "metadata": {},
   "outputs": [
    {
     "data": {
      "text/plain": [
       " 13.0    1382006\n",
       "-13.0     891243\n",
       " 11.0     839822\n",
       "-11.0     556622\n",
       "Name: lep_PDG, dtype: int64"
      ]
     },
     "execution_count": 11,
     "metadata": {},
     "output_type": "execute_result"
    }
   ],
   "source": [
    "df_Ups4S[\"lep_PDG\"].value_counts()"
   ]
  },
  {
   "cell_type": "code",
   "execution_count": 12,
   "metadata": {},
   "outputs": [
    {
     "data": {
      "text/plain": [
       "-211.0     1195251\n",
       " 211.0      780060\n",
       " 13.0       442391\n",
       " 11.0       431094\n",
       "-13.0       323260\n",
       "-11.0       298636\n",
       "-321.0       66838\n",
       " 321.0       36582\n",
       "-2212.0       5306\n",
       " 2212.0       3928\n",
       "Name: lep_mcPDG, dtype: int64"
      ]
     },
     "execution_count": 12,
     "metadata": {},
     "output_type": "execute_result"
    }
   ],
   "source": [
    "df_Ups4S[\"lep_mcPDG\"].value_counts()"
   ]
  },
  {
   "cell_type": "code",
   "execution_count": 8,
   "metadata": {},
   "outputs": [],
   "source": [
    "def lep_typeMC(s):\n",
    "    label = \"none\"\n",
    "    if np.isnan(s[\"lep_mcPDG\"]) == True:\n",
    "        return label\n",
    "    \n",
    "    abs_lep_mcPDG = int(abs(s[\"lep_mcPDG\"]))\n",
    "    if abs_lep_mcPDG == 13:\n",
    "        label = \"mu\"\n",
    "    elif abs_lep_mcPDG == 11:\n",
    "        label = \"e\" \n",
    "    return label\n",
    "\n",
    "df_Ups4S['lep_typeMC'] = df_Ups4S.apply(lep_typeMC, axis=1)\n",
    "\n",
    "def lep_type(s):\n",
    "    label = \"none\"\n",
    "    if np.isnan(s[\"lep_PDG\"]) == True:\n",
    "        return label\n",
    "    \n",
    "    abs_lep_PDG = int(abs(s[\"lep_PDG\"]))\n",
    "    if abs_lep_PDG == 13:\n",
    "        label = \"mu\"\n",
    "    elif abs_lep_PDG == 11:\n",
    "        label = \"e\" \n",
    "    return label\n",
    "df_Ups4S['lep_type'] = df_Ups4S.apply(lep_type, axis=1)"
   ]
  },
  {
   "cell_type": "code",
   "execution_count": 9,
   "metadata": {},
   "outputs": [
    {
     "data": {
      "text/plain": [
       "none    2174312\n",
       "mu       765651\n",
       "e        729730\n",
       "Name: lep_typeMC, dtype: int64"
      ]
     },
     "execution_count": 9,
     "metadata": {},
     "output_type": "execute_result"
    }
   ],
   "source": [
    "df_Ups4S['lep_typeMC'].value_counts()"
   ]
  },
  {
   "cell_type": "code",
   "execution_count": 10,
   "metadata": {},
   "outputs": [
    {
     "data": {
      "text/html": [
       "<div>\n",
       "<style scoped>\n",
       "    .dataframe tbody tr th:only-of-type {\n",
       "        vertical-align: middle;\n",
       "    }\n",
       "\n",
       "    .dataframe tbody tr th {\n",
       "        vertical-align: top;\n",
       "    }\n",
       "\n",
       "    .dataframe thead th {\n",
       "        text-align: right;\n",
       "    }\n",
       "</style>\n",
       "<table border=\"1\" class=\"dataframe\">\n",
       "  <thead>\n",
       "    <tr style=\"text-align: right;\">\n",
       "      <th></th>\n",
       "      <th>lep_typeMC</th>\n",
       "      <th>lep_type</th>\n",
       "      <th>count</th>\n",
       "    </tr>\n",
       "  </thead>\n",
       "  <tbody>\n",
       "    <tr>\n",
       "      <th>0</th>\n",
       "      <td>e</td>\n",
       "      <td>e</td>\n",
       "      <td>684056</td>\n",
       "    </tr>\n",
       "    <tr>\n",
       "      <th>1</th>\n",
       "      <td>e</td>\n",
       "      <td>mu</td>\n",
       "      <td>45674</td>\n",
       "    </tr>\n",
       "    <tr>\n",
       "      <th>2</th>\n",
       "      <td>mu</td>\n",
       "      <td>e</td>\n",
       "      <td>55689</td>\n",
       "    </tr>\n",
       "    <tr>\n",
       "      <th>3</th>\n",
       "      <td>mu</td>\n",
       "      <td>mu</td>\n",
       "      <td>709962</td>\n",
       "    </tr>\n",
       "    <tr>\n",
       "      <th>4</th>\n",
       "      <td>none</td>\n",
       "      <td>e</td>\n",
       "      <td>656699</td>\n",
       "    </tr>\n",
       "    <tr>\n",
       "      <th>5</th>\n",
       "      <td>none</td>\n",
       "      <td>mu</td>\n",
       "      <td>1517613</td>\n",
       "    </tr>\n",
       "  </tbody>\n",
       "</table>\n",
       "</div>"
      ],
      "text/plain": [
       "  lep_typeMC lep_type    count\n",
       "0          e        e   684056\n",
       "1          e       mu    45674\n",
       "2         mu        e    55689\n",
       "3         mu       mu   709962\n",
       "4       none        e   656699\n",
       "5       none       mu  1517613"
      ]
     },
     "execution_count": 10,
     "metadata": {},
     "output_type": "execute_result"
    }
   ],
   "source": [
    "groups_lep = pd.DataFrame({'count' : df_Ups4S.groupby( [\"lep_typeMC\",\"lep_type\"] ).size()}).reset_index()\n",
    "groups_lep"
   ]
  },
  {
   "cell_type": "code",
   "execution_count": 11,
   "metadata": {},
   "outputs": [],
   "source": [
    "def lep_MC_truth(s):\n",
    "    label = 0\n",
    "    if np.isnan(s[\"lep_motherPDG\"]) == True:\n",
    "        return label\n",
    "    if s[\"lep_typeMC\"] == \"none\":\n",
    "        return label\n",
    "    \n",
    "    abs_lep_motherPDG = int(abs(s[\"lep_motherPDG\"]))\n",
    "    if abs_lep_motherPDG == 511:\n",
    "        label = 1\n",
    "   \n",
    "    return label\n",
    "\n",
    "df_Ups4S['lep_MC_truth'] = df_Ups4S.apply(lep_MC_truth, axis=1)"
   ]
  },
  {
   "cell_type": "code",
   "execution_count": 12,
   "metadata": {},
   "outputs": [
    {
     "data": {
      "text/html": [
       "<div>\n",
       "<style scoped>\n",
       "    .dataframe tbody tr th:only-of-type {\n",
       "        vertical-align: middle;\n",
       "    }\n",
       "\n",
       "    .dataframe tbody tr th {\n",
       "        vertical-align: top;\n",
       "    }\n",
       "\n",
       "    .dataframe thead th {\n",
       "        text-align: right;\n",
       "    }\n",
       "</style>\n",
       "<table border=\"1\" class=\"dataframe\">\n",
       "  <thead>\n",
       "    <tr style=\"text-align: right;\">\n",
       "      <th></th>\n",
       "      <th>Unnamed: 0</th>\n",
       "      <th>__experiment__</th>\n",
       "      <th>__run__</th>\n",
       "      <th>__event__</th>\n",
       "      <th>__production__</th>\n",
       "      <th>__candidate__</th>\n",
       "      <th>__ncandidates__</th>\n",
       "      <th>__weight__</th>\n",
       "      <th>m2RecoilSignalSide</th>\n",
       "      <th>foxWolframR2_maskedNaN</th>\n",
       "      <th>...</th>\n",
       "      <th>Dst_mccmpy</th>\n",
       "      <th>Dst_mccmpz</th>\n",
       "      <th>Dst_DeltaM</th>\n",
       "      <th>Dst_isSignal</th>\n",
       "      <th>roeE_ofUps4S</th>\n",
       "      <th>E_predicted_bg_gammas</th>\n",
       "      <th>mcPDG</th>\n",
       "      <th>lep_typeMC</th>\n",
       "      <th>lep_type</th>\n",
       "      <th>lep_MC_truth</th>\n",
       "    </tr>\n",
       "  </thead>\n",
       "  <tbody>\n",
       "    <tr>\n",
       "      <th>0</th>\n",
       "      <td>0</td>\n",
       "      <td>1003</td>\n",
       "      <td>0</td>\n",
       "      <td>2331170</td>\n",
       "      <td>16816</td>\n",
       "      <td>0</td>\n",
       "      <td>12</td>\n",
       "      <td>1.0</td>\n",
       "      <td>3.236552</td>\n",
       "      <td>0.217161</td>\n",
       "      <td>...</td>\n",
       "      <td>0.0</td>\n",
       "      <td>-0.000447</td>\n",
       "      <td>0.560764</td>\n",
       "      <td>0.0</td>\n",
       "      <td>4.047381</td>\n",
       "      <td>0.714576</td>\n",
       "      <td>300553.0</td>\n",
       "      <td>none</td>\n",
       "      <td>e</td>\n",
       "      <td>0</td>\n",
       "    </tr>\n",
       "    <tr>\n",
       "      <th>1</th>\n",
       "      <td>1</td>\n",
       "      <td>1003</td>\n",
       "      <td>0</td>\n",
       "      <td>2331170</td>\n",
       "      <td>16816</td>\n",
       "      <td>1</td>\n",
       "      <td>12</td>\n",
       "      <td>1.0</td>\n",
       "      <td>3.236552</td>\n",
       "      <td>0.217161</td>\n",
       "      <td>...</td>\n",
       "      <td>0.0</td>\n",
       "      <td>-0.000447</td>\n",
       "      <td>0.791285</td>\n",
       "      <td>0.0</td>\n",
       "      <td>4.047381</td>\n",
       "      <td>0.714576</td>\n",
       "      <td>300553.0</td>\n",
       "      <td>none</td>\n",
       "      <td>e</td>\n",
       "      <td>0</td>\n",
       "    </tr>\n",
       "    <tr>\n",
       "      <th>2</th>\n",
       "      <td>2</td>\n",
       "      <td>1003</td>\n",
       "      <td>0</td>\n",
       "      <td>2331170</td>\n",
       "      <td>16816</td>\n",
       "      <td>2</td>\n",
       "      <td>12</td>\n",
       "      <td>1.0</td>\n",
       "      <td>3.430173</td>\n",
       "      <td>0.217161</td>\n",
       "      <td>...</td>\n",
       "      <td>0.0</td>\n",
       "      <td>-0.000447</td>\n",
       "      <td>0.560764</td>\n",
       "      <td>0.0</td>\n",
       "      <td>4.047381</td>\n",
       "      <td>0.714576</td>\n",
       "      <td>300553.0</td>\n",
       "      <td>none</td>\n",
       "      <td>e</td>\n",
       "      <td>0</td>\n",
       "    </tr>\n",
       "    <tr>\n",
       "      <th>3</th>\n",
       "      <td>3</td>\n",
       "      <td>1003</td>\n",
       "      <td>0</td>\n",
       "      <td>2331170</td>\n",
       "      <td>16816</td>\n",
       "      <td>3</td>\n",
       "      <td>12</td>\n",
       "      <td>1.0</td>\n",
       "      <td>3.430173</td>\n",
       "      <td>0.217161</td>\n",
       "      <td>...</td>\n",
       "      <td>0.0</td>\n",
       "      <td>-0.000447</td>\n",
       "      <td>0.791285</td>\n",
       "      <td>0.0</td>\n",
       "      <td>4.047381</td>\n",
       "      <td>0.714576</td>\n",
       "      <td>300553.0</td>\n",
       "      <td>none</td>\n",
       "      <td>e</td>\n",
       "      <td>0</td>\n",
       "    </tr>\n",
       "    <tr>\n",
       "      <th>4</th>\n",
       "      <td>4</td>\n",
       "      <td>1003</td>\n",
       "      <td>0</td>\n",
       "      <td>2331170</td>\n",
       "      <td>16816</td>\n",
       "      <td>4</td>\n",
       "      <td>12</td>\n",
       "      <td>1.0</td>\n",
       "      <td>7.120278</td>\n",
       "      <td>0.217161</td>\n",
       "      <td>...</td>\n",
       "      <td>0.0</td>\n",
       "      <td>-0.000447</td>\n",
       "      <td>0.560764</td>\n",
       "      <td>0.0</td>\n",
       "      <td>5.055230</td>\n",
       "      <td>0.714576</td>\n",
       "      <td>300553.0</td>\n",
       "      <td>none</td>\n",
       "      <td>e</td>\n",
       "      <td>0</td>\n",
       "    </tr>\n",
       "    <tr>\n",
       "      <th>...</th>\n",
       "      <td>...</td>\n",
       "      <td>...</td>\n",
       "      <td>...</td>\n",
       "      <td>...</td>\n",
       "      <td>...</td>\n",
       "      <td>...</td>\n",
       "      <td>...</td>\n",
       "      <td>...</td>\n",
       "      <td>...</td>\n",
       "      <td>...</td>\n",
       "      <td>...</td>\n",
       "      <td>...</td>\n",
       "      <td>...</td>\n",
       "      <td>...</td>\n",
       "      <td>...</td>\n",
       "      <td>...</td>\n",
       "      <td>...</td>\n",
       "      <td>...</td>\n",
       "      <td>...</td>\n",
       "      <td>...</td>\n",
       "      <td>...</td>\n",
       "    </tr>\n",
       "    <tr>\n",
       "      <th>3669688</th>\n",
       "      <td>3669688</td>\n",
       "      <td>1003</td>\n",
       "      <td>0</td>\n",
       "      <td>7946459</td>\n",
       "      <td>16816</td>\n",
       "      <td>7</td>\n",
       "      <td>8</td>\n",
       "      <td>1.0</td>\n",
       "      <td>5.835685</td>\n",
       "      <td>0.091065</td>\n",
       "      <td>...</td>\n",
       "      <td>0.0</td>\n",
       "      <td>0.004641</td>\n",
       "      <td>0.458424</td>\n",
       "      <td>0.0</td>\n",
       "      <td>3.867183</td>\n",
       "      <td>0.391425</td>\n",
       "      <td>NaN</td>\n",
       "      <td>none</td>\n",
       "      <td>e</td>\n",
       "      <td>0</td>\n",
       "    </tr>\n",
       "    <tr>\n",
       "      <th>3669689</th>\n",
       "      <td>3669689</td>\n",
       "      <td>1003</td>\n",
       "      <td>0</td>\n",
       "      <td>7946573</td>\n",
       "      <td>16816</td>\n",
       "      <td>0</td>\n",
       "      <td>4</td>\n",
       "      <td>1.0</td>\n",
       "      <td>2.600595</td>\n",
       "      <td>0.136367</td>\n",
       "      <td>...</td>\n",
       "      <td>0.0</td>\n",
       "      <td>-0.005555</td>\n",
       "      <td>0.334528</td>\n",
       "      <td>0.0</td>\n",
       "      <td>1.039262</td>\n",
       "      <td>0.000000</td>\n",
       "      <td>NaN</td>\n",
       "      <td>mu</td>\n",
       "      <td>mu</td>\n",
       "      <td>1</td>\n",
       "    </tr>\n",
       "    <tr>\n",
       "      <th>3669690</th>\n",
       "      <td>3669690</td>\n",
       "      <td>1003</td>\n",
       "      <td>0</td>\n",
       "      <td>7946573</td>\n",
       "      <td>16816</td>\n",
       "      <td>1</td>\n",
       "      <td>4</td>\n",
       "      <td>1.0</td>\n",
       "      <td>0.487114</td>\n",
       "      <td>0.136367</td>\n",
       "      <td>...</td>\n",
       "      <td>NaN</td>\n",
       "      <td>NaN</td>\n",
       "      <td>0.350873</td>\n",
       "      <td>NaN</td>\n",
       "      <td>0.769260</td>\n",
       "      <td>0.000000</td>\n",
       "      <td>NaN</td>\n",
       "      <td>mu</td>\n",
       "      <td>mu</td>\n",
       "      <td>1</td>\n",
       "    </tr>\n",
       "    <tr>\n",
       "      <th>3669691</th>\n",
       "      <td>3669691</td>\n",
       "      <td>1003</td>\n",
       "      <td>0</td>\n",
       "      <td>7946573</td>\n",
       "      <td>16816</td>\n",
       "      <td>2</td>\n",
       "      <td>4</td>\n",
       "      <td>1.0</td>\n",
       "      <td>2.600595</td>\n",
       "      <td>0.136367</td>\n",
       "      <td>...</td>\n",
       "      <td>0.0</td>\n",
       "      <td>-0.005555</td>\n",
       "      <td>0.165961</td>\n",
       "      <td>0.0</td>\n",
       "      <td>1.039262</td>\n",
       "      <td>0.000000</td>\n",
       "      <td>NaN</td>\n",
       "      <td>mu</td>\n",
       "      <td>mu</td>\n",
       "      <td>1</td>\n",
       "    </tr>\n",
       "    <tr>\n",
       "      <th>3669692</th>\n",
       "      <td>3669692</td>\n",
       "      <td>1003</td>\n",
       "      <td>0</td>\n",
       "      <td>7946573</td>\n",
       "      <td>16816</td>\n",
       "      <td>3</td>\n",
       "      <td>4</td>\n",
       "      <td>1.0</td>\n",
       "      <td>0.487114</td>\n",
       "      <td>0.136367</td>\n",
       "      <td>...</td>\n",
       "      <td>NaN</td>\n",
       "      <td>NaN</td>\n",
       "      <td>0.170759</td>\n",
       "      <td>NaN</td>\n",
       "      <td>0.769260</td>\n",
       "      <td>0.000000</td>\n",
       "      <td>NaN</td>\n",
       "      <td>mu</td>\n",
       "      <td>mu</td>\n",
       "      <td>1</td>\n",
       "    </tr>\n",
       "  </tbody>\n",
       "</table>\n",
       "<p>3669693 rows × 411 columns</p>\n",
       "</div>"
      ],
      "text/plain": [
       "         Unnamed: 0  __experiment__  __run__  __event__  __production__  \\\n",
       "0                 0            1003        0    2331170           16816   \n",
       "1                 1            1003        0    2331170           16816   \n",
       "2                 2            1003        0    2331170           16816   \n",
       "3                 3            1003        0    2331170           16816   \n",
       "4                 4            1003        0    2331170           16816   \n",
       "...             ...             ...      ...        ...             ...   \n",
       "3669688     3669688            1003        0    7946459           16816   \n",
       "3669689     3669689            1003        0    7946573           16816   \n",
       "3669690     3669690            1003        0    7946573           16816   \n",
       "3669691     3669691            1003        0    7946573           16816   \n",
       "3669692     3669692            1003        0    7946573           16816   \n",
       "\n",
       "         __candidate__  __ncandidates__  __weight__  m2RecoilSignalSide  \\\n",
       "0                    0               12         1.0            3.236552   \n",
       "1                    1               12         1.0            3.236552   \n",
       "2                    2               12         1.0            3.430173   \n",
       "3                    3               12         1.0            3.430173   \n",
       "4                    4               12         1.0            7.120278   \n",
       "...                ...              ...         ...                 ...   \n",
       "3669688              7                8         1.0            5.835685   \n",
       "3669689              0                4         1.0            2.600595   \n",
       "3669690              1                4         1.0            0.487114   \n",
       "3669691              2                4         1.0            2.600595   \n",
       "3669692              3                4         1.0            0.487114   \n",
       "\n",
       "         foxWolframR2_maskedNaN  ...  Dst_mccmpy  Dst_mccmpz  Dst_DeltaM  \\\n",
       "0                      0.217161  ...         0.0   -0.000447    0.560764   \n",
       "1                      0.217161  ...         0.0   -0.000447    0.791285   \n",
       "2                      0.217161  ...         0.0   -0.000447    0.560764   \n",
       "3                      0.217161  ...         0.0   -0.000447    0.791285   \n",
       "4                      0.217161  ...         0.0   -0.000447    0.560764   \n",
       "...                         ...  ...         ...         ...         ...   \n",
       "3669688                0.091065  ...         0.0    0.004641    0.458424   \n",
       "3669689                0.136367  ...         0.0   -0.005555    0.334528   \n",
       "3669690                0.136367  ...         NaN         NaN    0.350873   \n",
       "3669691                0.136367  ...         0.0   -0.005555    0.165961   \n",
       "3669692                0.136367  ...         NaN         NaN    0.170759   \n",
       "\n",
       "         Dst_isSignal  roeE_ofUps4S  E_predicted_bg_gammas     mcPDG  \\\n",
       "0                 0.0      4.047381               0.714576  300553.0   \n",
       "1                 0.0      4.047381               0.714576  300553.0   \n",
       "2                 0.0      4.047381               0.714576  300553.0   \n",
       "3                 0.0      4.047381               0.714576  300553.0   \n",
       "4                 0.0      5.055230               0.714576  300553.0   \n",
       "...               ...           ...                    ...       ...   \n",
       "3669688           0.0      3.867183               0.391425       NaN   \n",
       "3669689           0.0      1.039262               0.000000       NaN   \n",
       "3669690           NaN      0.769260               0.000000       NaN   \n",
       "3669691           0.0      1.039262               0.000000       NaN   \n",
       "3669692           NaN      0.769260               0.000000       NaN   \n",
       "\n",
       "         lep_typeMC  lep_type  lep_MC_truth  \n",
       "0              none         e             0  \n",
       "1              none         e             0  \n",
       "2              none         e             0  \n",
       "3              none         e             0  \n",
       "4              none         e             0  \n",
       "...             ...       ...           ...  \n",
       "3669688        none         e             0  \n",
       "3669689          mu        mu             1  \n",
       "3669690          mu        mu             1  \n",
       "3669691          mu        mu             1  \n",
       "3669692          mu        mu             1  \n",
       "\n",
       "[3669693 rows x 411 columns]"
      ]
     },
     "execution_count": 12,
     "metadata": {},
     "output_type": "execute_result"
    }
   ],
   "source": [
    "df_Ups4S['lep_MC_truth']\n",
    "df_Ups4S[\"lep_MC_truth\"]\n",
    "df_Ups4S"
   ]
  },
  {
   "cell_type": "code",
   "execution_count": 13,
   "metadata": {},
   "outputs": [
    {
     "data": {
      "text/plain": [
       "count    3.669693e+06\n",
       "mean     1.596856e-01\n",
       "std      3.663142e-01\n",
       "min      0.000000e+00\n",
       "25%      0.000000e+00\n",
       "50%      0.000000e+00\n",
       "75%      0.000000e+00\n",
       "max      1.000000e+00\n",
       "Name: lep_MC_truth, dtype: float64"
      ]
     },
     "execution_count": 13,
     "metadata": {},
     "output_type": "execute_result"
    }
   ],
   "source": [
    "df_Ups4S['lep_MC_truth'].describe()"
   ]
  },
  {
   "cell_type": "markdown",
   "metadata": {},
   "source": [
    "## save dfs now with all labels added"
   ]
  },
  {
   "cell_type": "code",
   "execution_count": null,
   "metadata": {},
   "outputs": [],
   "source": [
    "nonHc_FSPs.to_csv(nfs_path + \"nonHc_FSPs_df_wLabels.csv\")"
   ]
  },
  {
   "cell_type": "code",
   "execution_count": null,
   "metadata": {},
   "outputs": [],
   "source": [
    "df_Ups4S.to_csv(nfs_path + \"Ups4S_df_wLabels.csv\")"
   ]
  },
  {
   "cell_type": "code",
   "execution_count": 17,
   "metadata": {},
   "outputs": [
    {
     "name": "stdout",
     "output_type": "stream",
     "text": [
      "worked\n"
     ]
    }
   ],
   "source": [
    "print(\"worked\")"
   ]
  },
  {
   "cell_type": "markdown",
   "metadata": {},
   "source": [
    "## load dfs with labels"
   ]
  },
  {
   "cell_type": "code",
   "execution_count": 5,
   "metadata": {},
   "outputs": [],
   "source": [
    "df_Ups4S = pd.read_csv(nfs_path + \"Ups4S_df_wLabels.csv\")"
   ]
  },
  {
   "cell_type": "code",
   "execution_count": null,
   "metadata": {},
   "outputs": [],
   "source": [
    "nonHc_FSPs = pd.read_csv(nfs_path + \"nonHc_FSPs_df_wLabels.csv\")"
   ]
  },
  {
   "cell_type": "code",
   "execution_count": 6,
   "metadata": {},
   "outputs": [
    {
     "data": {
      "text/plain": [
       "197986"
      ]
     },
     "execution_count": 6,
     "metadata": {},
     "output_type": "execute_result"
    }
   ],
   "source": [
    "df_Ups4S.groupby([\"__event__\",\"__production__\"]).ngroups"
   ]
  },
  {
   "cell_type": "code",
   "execution_count": 19,
   "metadata": {},
   "outputs": [
    {
     "data": {
      "text/plain": [
       "0          0\n",
       "1          0\n",
       "2          0\n",
       "3          0\n",
       "4          0\n",
       "          ..\n",
       "3669688    0\n",
       "3669689    1\n",
       "3669690    1\n",
       "3669691    1\n",
       "3669692    1\n",
       "Name: lep_MC_truth, Length: 3669693, dtype: int64"
      ]
     },
     "execution_count": 19,
     "metadata": {},
     "output_type": "execute_result"
    }
   ],
   "source": [
    "df_Ups4S[\"lep_MC_truth\"]"
   ]
  },
  {
   "cell_type": "markdown",
   "metadata": {},
   "source": [
    "## more analysis"
   ]
  },
  {
   "cell_type": "code",
   "execution_count": null,
   "metadata": {},
   "outputs": [],
   "source": [
    "numFSPs_all = pd.DataFrame({'count' : nonHc_FSPs.groupby( [\"__event__\",\"__production__\"] ).size()}).reset_index()\n",
    "numFSPs_all[\"count\"].hist()"
   ]
  },
  {
   "cell_type": "code",
   "execution_count": null,
   "metadata": {},
   "outputs": [],
   "source": [
    "percCorrect_df = pd.DataFrame({'frac. correct FSPs' : nonHc_FSPs.groupby([\"__event__\",\"__production__\",\"correct_pred\"] ).size()/nonHc_FSPs.groupby( [\"__event__\",\"__production__\"] ).size()}).reset_index()"
   ]
  },
  {
   "cell_type": "code",
   "execution_count": null,
   "metadata": {},
   "outputs": [],
   "source": [
    "percCorrect_df['frac. correct FSPs'].hist()"
   ]
  },
  {
   "cell_type": "markdown",
   "metadata": {},
   "source": [
    "## BCS"
   ]
  },
  {
   "cell_type": "code",
   "execution_count": null,
   "metadata": {},
   "outputs": [],
   "source": [
    "print(df_Ups4S.shape[0])\n",
    "print(df_Ups4S[\"__event__\"].nunique())\n",
    "print(nonHc_FSPs.shape[0])"
   ]
  },
  {
   "cell_type": "code",
   "execution_count": null,
   "metadata": {
    "scrolled": false
   },
   "outputs": [],
   "source": [
    "nonHc_FSPs.keys()"
   ]
  },
  {
   "cell_type": "code",
   "execution_count": null,
   "metadata": {
    "scrolled": true
   },
   "outputs": [],
   "source": [
    "for key in df_Ups4S.keys():\n",
    "    print(key)"
   ]
  },
  {
   "cell_type": "code",
   "execution_count": 5,
   "metadata": {},
   "outputs": [
    {
     "data": {
      "text/plain": [
       "3669693"
      ]
     },
     "execution_count": 5,
     "metadata": {},
     "output_type": "execute_result"
    }
   ],
   "source": [
    "df_Ups4S.shape[0]"
   ]
  },
  {
   "cell_type": "code",
   "execution_count": null,
   "metadata": {
    "scrolled": true
   },
   "outputs": [],
   "source": [
    "df_Ups4S[[\"__event__\"]].nunique()"
   ]
  },
  {
   "cell_type": "code",
   "execution_count": null,
   "metadata": {},
   "outputs": [],
   "source": [
    "df_Ups4S.groupby([\"__event__\",\"__production__\"]).ngroups"
   ]
  },
  {
   "cell_type": "code",
   "execution_count": null,
   "metadata": {},
   "outputs": [],
   "source": [
    "variables=[\"Up4S_isSig\",\"Dst_isSignal\",\"D_isSignal\",\"dau0_dau0_isSignal\",\"Hc_isSignalAcceptMissingGamma\",\"dau0_isSignal\",\"dau1_isSignal\"]\n",
    "for var in variables:\n",
    "    print('\\n',var)\n",
    "    print(df_Ups4S[var].describe())\n",
    "    "
   ]
  },
  {
   "cell_type": "code",
   "execution_count": null,
   "metadata": {},
   "outputs": [],
   "source": [
    "bins = np.linspace(0, 10, 50)\n",
    "df_Ups4S[\"roeE_ofUps4S\"].hist(bins=bins)"
   ]
  },
  {
   "cell_type": "code",
   "execution_count": null,
   "metadata": {},
   "outputs": [],
   "source": [
    "bins = np.linspace(0, 2, 50)\n",
    "df_Ups4S[\"E_predicted_bg_gammas\"].hist(bins=bins)"
   ]
  },
  {
   "cell_type": "code",
   "execution_count": null,
   "metadata": {
    "scrolled": true
   },
   "outputs": [],
   "source": [
    "bins = np.linspace(-4, 4, 50)\n",
    "df_Ups4S.hist(\"m2RecoilSignalSide\", bins=bins, by='lep_MC_truth')"
   ]
  },
  {
   "cell_type": "code",
   "execution_count": null,
   "metadata": {
    "scrolled": true
   },
   "outputs": [],
   "source": [
    "bins = np.linspace(-4, 4, 50)\n",
    "df_Ups4S.hist(\"m2RecoilSignalSide\", bins=bins, by='dau1_isSignal')"
   ]
  },
  {
   "cell_type": "code",
   "execution_count": null,
   "metadata": {},
   "outputs": [],
   "source": [
    "df_Ups4S[\"lep_MC_truth\"].describe()"
   ]
  },
  {
   "cell_type": "code",
   "execution_count": null,
   "metadata": {},
   "outputs": [],
   "source": [
    "df_Ups4S[\"Up4S_isSig\"].describe()"
   ]
  },
  {
   "cell_type": "code",
   "execution_count": 4,
   "metadata": {},
   "outputs": [
    {
     "name": "stdout",
     "output_type": "stream",
     "text": [
      "197986\n",
      "197986\n",
      "197986\n",
      "197986\n"
     ]
    },
    {
     "ename": "KeyError",
     "evalue": "'lep_MC_truth'",
     "output_type": "error",
     "traceback": [
      "\u001b[0;31m---------------------------------------------------------------------------\u001b[0m",
      "\u001b[0;31mKeyError\u001b[0m                                  Traceback (most recent call last)",
      "\u001b[0;32m/usr/local/lib64/python3.6/site-packages/pandas/core/indexes/base.py\u001b[0m in \u001b[0;36mget_loc\u001b[0;34m(self, key, method, tolerance)\u001b[0m\n\u001b[1;32m   2897\u001b[0m             \u001b[0;32mtry\u001b[0m\u001b[0;34m:\u001b[0m\u001b[0;34m\u001b[0m\u001b[0;34m\u001b[0m\u001b[0m\n\u001b[0;32m-> 2898\u001b[0;31m                 \u001b[0;32mreturn\u001b[0m \u001b[0mself\u001b[0m\u001b[0;34m.\u001b[0m\u001b[0m_engine\u001b[0m\u001b[0;34m.\u001b[0m\u001b[0mget_loc\u001b[0m\u001b[0;34m(\u001b[0m\u001b[0mcasted_key\u001b[0m\u001b[0;34m)\u001b[0m\u001b[0;34m\u001b[0m\u001b[0;34m\u001b[0m\u001b[0m\n\u001b[0m\u001b[1;32m   2899\u001b[0m             \u001b[0;32mexcept\u001b[0m \u001b[0mKeyError\u001b[0m \u001b[0;32mas\u001b[0m \u001b[0merr\u001b[0m\u001b[0;34m:\u001b[0m\u001b[0;34m\u001b[0m\u001b[0;34m\u001b[0m\u001b[0m\n",
      "\u001b[0;32mpandas/_libs/index.pyx\u001b[0m in \u001b[0;36mpandas._libs.index.IndexEngine.get_loc\u001b[0;34m()\u001b[0m\n",
      "\u001b[0;32mpandas/_libs/index.pyx\u001b[0m in \u001b[0;36mpandas._libs.index.IndexEngine.get_loc\u001b[0;34m()\u001b[0m\n",
      "\u001b[0;32mpandas/_libs/hashtable_class_helper.pxi\u001b[0m in \u001b[0;36mpandas._libs.hashtable.PyObjectHashTable.get_item\u001b[0;34m()\u001b[0m\n",
      "\u001b[0;32mpandas/_libs/hashtable_class_helper.pxi\u001b[0m in \u001b[0;36mpandas._libs.hashtable.PyObjectHashTable.get_item\u001b[0;34m()\u001b[0m\n",
      "\u001b[0;31mKeyError\u001b[0m: 'lep_MC_truth'",
      "\nThe above exception was the direct cause of the following exception:\n",
      "\u001b[0;31mKeyError\u001b[0m                                  Traceback (most recent call last)",
      "\u001b[0;32m<ipython-input-4-b96e3517b590>\u001b[0m in \u001b[0;36m<module>\u001b[0;34m\u001b[0m\n\u001b[1;32m     28\u001b[0m             \u001b[0max\u001b[0m\u001b[0;34m.\u001b[0m\u001b[0mhist\u001b[0m\u001b[0;34m(\u001b[0m\u001b[0mtmp\u001b[0m\u001b[0;34m.\u001b[0m\u001b[0mm2RecoilSignalSide\u001b[0m\u001b[0;34m,\u001b[0m \u001b[0mbins\u001b[0m\u001b[0;34m,\u001b[0m \u001b[0malpha\u001b[0m\u001b[0;34m=\u001b[0m\u001b[0;36m0.5\u001b[0m\u001b[0;34m,\u001b[0m \u001b[0mlabel\u001b[0m\u001b[0;34m=\u001b[0m\u001b[0mvar\u001b[0m \u001b[0;34m,\u001b[0m\u001b[0mhisttype\u001b[0m\u001b[0;34m=\u001b[0m\u001b[0;34m'step'\u001b[0m\u001b[0;34m)\u001b[0m\u001b[0;34m\u001b[0m\u001b[0;34m\u001b[0m\u001b[0m\n\u001b[1;32m     29\u001b[0m         \u001b[0;32melif\u001b[0m \u001b[0mlep_truth\u001b[0m \u001b[0;34m==\u001b[0m \u001b[0;34m\"on\"\u001b[0m\u001b[0;34m:\u001b[0m\u001b[0;34m\u001b[0m\u001b[0;34m\u001b[0m\u001b[0m\n\u001b[0;32m---> 30\u001b[0;31m             \u001b[0max\u001b[0m\u001b[0;34m.\u001b[0m\u001b[0mhist\u001b[0m\u001b[0;34m(\u001b[0m\u001b[0mtmp\u001b[0m\u001b[0;34m[\u001b[0m\u001b[0mtmp\u001b[0m\u001b[0;34m[\u001b[0m\u001b[0;34m\"lep_MC_truth\"\u001b[0m\u001b[0;34m]\u001b[0m \u001b[0;34m==\u001b[0m \u001b[0;36m1\u001b[0m\u001b[0;34m]\u001b[0m\u001b[0;34m.\u001b[0m\u001b[0mm2RecoilSignalSide\u001b[0m\u001b[0;34m,\u001b[0m \u001b[0mbins\u001b[0m\u001b[0;34m,\u001b[0m \u001b[0malpha\u001b[0m\u001b[0;34m=\u001b[0m\u001b[0;36m0.5\u001b[0m\u001b[0;34m,\u001b[0m \u001b[0mlabel\u001b[0m\u001b[0;34m=\u001b[0m\u001b[0mvar\u001b[0m \u001b[0;34m+\u001b[0m \u001b[0;34m\" lep truth matching == 1\"\u001b[0m \u001b[0;34m,\u001b[0m\u001b[0mhisttype\u001b[0m\u001b[0;34m=\u001b[0m\u001b[0;34m'step'\u001b[0m\u001b[0;34m)\u001b[0m\u001b[0;34m\u001b[0m\u001b[0;34m\u001b[0m\u001b[0m\n\u001b[0m\u001b[1;32m     31\u001b[0m \u001b[0;34m\u001b[0m\u001b[0m\n\u001b[1;32m     32\u001b[0m         \u001b[0max\u001b[0m\u001b[0;34m.\u001b[0m\u001b[0mlegend\u001b[0m\u001b[0;34m(\u001b[0m\u001b[0mloc\u001b[0m\u001b[0;34m=\u001b[0m\u001b[0;34m'upper left'\u001b[0m\u001b[0;34m)\u001b[0m\u001b[0;34m\u001b[0m\u001b[0;34m\u001b[0m\u001b[0m\n",
      "\u001b[0;32m/usr/local/lib64/python3.6/site-packages/pandas/core/frame.py\u001b[0m in \u001b[0;36m__getitem__\u001b[0;34m(self, key)\u001b[0m\n\u001b[1;32m   2904\u001b[0m             \u001b[0;32mif\u001b[0m \u001b[0mself\u001b[0m\u001b[0;34m.\u001b[0m\u001b[0mcolumns\u001b[0m\u001b[0;34m.\u001b[0m\u001b[0mnlevels\u001b[0m \u001b[0;34m>\u001b[0m \u001b[0;36m1\u001b[0m\u001b[0;34m:\u001b[0m\u001b[0;34m\u001b[0m\u001b[0;34m\u001b[0m\u001b[0m\n\u001b[1;32m   2905\u001b[0m                 \u001b[0;32mreturn\u001b[0m \u001b[0mself\u001b[0m\u001b[0;34m.\u001b[0m\u001b[0m_getitem_multilevel\u001b[0m\u001b[0;34m(\u001b[0m\u001b[0mkey\u001b[0m\u001b[0;34m)\u001b[0m\u001b[0;34m\u001b[0m\u001b[0;34m\u001b[0m\u001b[0m\n\u001b[0;32m-> 2906\u001b[0;31m             \u001b[0mindexer\u001b[0m \u001b[0;34m=\u001b[0m \u001b[0mself\u001b[0m\u001b[0;34m.\u001b[0m\u001b[0mcolumns\u001b[0m\u001b[0;34m.\u001b[0m\u001b[0mget_loc\u001b[0m\u001b[0;34m(\u001b[0m\u001b[0mkey\u001b[0m\u001b[0;34m)\u001b[0m\u001b[0;34m\u001b[0m\u001b[0;34m\u001b[0m\u001b[0m\n\u001b[0m\u001b[1;32m   2907\u001b[0m             \u001b[0;32mif\u001b[0m \u001b[0mis_integer\u001b[0m\u001b[0;34m(\u001b[0m\u001b[0mindexer\u001b[0m\u001b[0;34m)\u001b[0m\u001b[0;34m:\u001b[0m\u001b[0;34m\u001b[0m\u001b[0;34m\u001b[0m\u001b[0m\n\u001b[1;32m   2908\u001b[0m                 \u001b[0mindexer\u001b[0m \u001b[0;34m=\u001b[0m \u001b[0;34m[\u001b[0m\u001b[0mindexer\u001b[0m\u001b[0;34m]\u001b[0m\u001b[0;34m\u001b[0m\u001b[0;34m\u001b[0m\u001b[0m\n",
      "\u001b[0;32m/usr/local/lib64/python3.6/site-packages/pandas/core/indexes/base.py\u001b[0m in \u001b[0;36mget_loc\u001b[0;34m(self, key, method, tolerance)\u001b[0m\n\u001b[1;32m   2898\u001b[0m                 \u001b[0;32mreturn\u001b[0m \u001b[0mself\u001b[0m\u001b[0;34m.\u001b[0m\u001b[0m_engine\u001b[0m\u001b[0;34m.\u001b[0m\u001b[0mget_loc\u001b[0m\u001b[0;34m(\u001b[0m\u001b[0mcasted_key\u001b[0m\u001b[0;34m)\u001b[0m\u001b[0;34m\u001b[0m\u001b[0;34m\u001b[0m\u001b[0m\n\u001b[1;32m   2899\u001b[0m             \u001b[0;32mexcept\u001b[0m \u001b[0mKeyError\u001b[0m \u001b[0;32mas\u001b[0m \u001b[0merr\u001b[0m\u001b[0;34m:\u001b[0m\u001b[0;34m\u001b[0m\u001b[0;34m\u001b[0m\u001b[0m\n\u001b[0;32m-> 2900\u001b[0;31m                 \u001b[0;32mraise\u001b[0m \u001b[0mKeyError\u001b[0m\u001b[0;34m(\u001b[0m\u001b[0mkey\u001b[0m\u001b[0;34m)\u001b[0m \u001b[0;32mfrom\u001b[0m \u001b[0merr\u001b[0m\u001b[0;34m\u001b[0m\u001b[0;34m\u001b[0m\u001b[0m\n\u001b[0m\u001b[1;32m   2901\u001b[0m \u001b[0;34m\u001b[0m\u001b[0m\n\u001b[1;32m   2902\u001b[0m         \u001b[0;32mif\u001b[0m \u001b[0mtolerance\u001b[0m \u001b[0;32mis\u001b[0m \u001b[0;32mnot\u001b[0m \u001b[0;32mNone\u001b[0m\u001b[0;34m:\u001b[0m\u001b[0;34m\u001b[0m\u001b[0;34m\u001b[0m\u001b[0m\n",
      "\u001b[0;31mKeyError\u001b[0m: 'lep_MC_truth'"
     ]
    },
    {
     "data": {
      "image/png": "[encoded data removed]",
      "text/plain": [
       "<Figure size 1152x720 with 1 Axes>"
      ]
     },
     "metadata": {
      "needs_background": "light"
     },
     "output_type": "display_data"
    },
    {
     "data": {
      "image/png": "[encoded data removed]",
      "text/plain": [
       "<Figure size 1152x720 with 1 Axes>"
      ]
     },
     "metadata": {
      "needs_background": "light"
     },
     "output_type": "display_data"
    }
   ],
   "source": [
    "df_Ups4S[\"abs_m2RecoilSignalSide\"] = df_Ups4S[\"m2RecoilSignalSide\"].abs() \n",
    "\n",
    "for lep_truth in [\"off\",\"on\"]:\n",
    "    fig, ax = plt.subplots()\n",
    "    fig.suptitle('BCS')\n",
    "\n",
    "    for var in [\"abs_m2RecoilSignalSide\",\"roeE_ofUps4S\",\"random_BCS\"]:\n",
    "\n",
    "        if var == \"random_BCS\":\n",
    "            # this takes a sample of all events which results in shuffling the evts\n",
    "            tmp = df_Ups4S.sample(frac=1)\n",
    "            # now keeping the first results in random BCS\n",
    "            tmp = tmp.drop_duplicates(subset=(\"__event__\"), keep='first')\n",
    "        else:\n",
    "            tmp = df_Ups4S.sort_values(var,ascending=True).drop_duplicates(subset=(\"__event__\"), keep='first')\n",
    "\n",
    "\n",
    "\n",
    "        print(tmp.shape[0])\n",
    "        bins = np.linspace(-4, 4, 50)\n",
    "\n",
    "        fig.set_size_inches(16, 10)\n",
    "\n",
    "        ax.set_xlabel(r'$m_{miss}^2$ in GeV$^2$')\n",
    "        ax.set_ylabel(\"events\")\n",
    "        \n",
    "        if lep_truth == \"off\":\n",
    "            ax.hist(tmp.m2RecoilSignalSide, bins, alpha=0.5, label=var ,histtype='step')\n",
    "        elif lep_truth == \"on\":    \n",
    "            ax.hist(tmp[tmp[\"lep_MC_truth\"] == 1].m2RecoilSignalSide, bins, alpha=0.5, label=var + \" lep truth matching == 1\" ,histtype='step')\n",
    "\n",
    "        ax.legend(loc='upper left')\n",
    "\n",
    "\n",
    "\n",
    "    plt.savefig(f'plots/ONLINE_APP_FIXED_onlineNN_m2Recoil_BCS_lepTruthCut_{lep_truth}_17th.pdf')"
   ]
  },
  {
   "cell_type": "code",
   "execution_count": 22,
   "metadata": {},
   "outputs": [],
   "source": [
    "df_Ups4S[\"abs_m2RecoilSignalSide\"] = df_Ups4S[\"m2RecoilSignalSide\"].abs() "
   ]
  },
  {
   "cell_type": "code",
   "execution_count": null,
   "metadata": {},
   "outputs": [],
   "source": [
    "\n",
    "\n",
    "fig, ax = plt.subplots()\n",
    "fig.suptitle('BCS')\n",
    "\n",
    "for var in [\"abs_m2RecoilSignalSide\"]:\n",
    "\n",
    "    tmp = df_Ups4S.sort_values(var,ascending=True).drop_duplicates(subset=(\"__event__\"), keep='first')\n",
    "\n",
    "\n",
    "\n",
    "    print(tmp.shape[0])\n",
    "    bins = np.linspace(-4, 4, 50)\n",
    "\n",
    "    fig.set_size_inches(16, 10)\n",
    "\n",
    "    ax.set_xlabel(r'$m_{miss}^2$ in GeV$^2$')\n",
    "    ax.set_ylabel(\"events\")\n",
    "\n",
    "    ax.hist(tmp.m2RecoilSignalSide, bins, alpha=0.5, label=var ,histtype='step')\n",
    "    ax.hist(tmp[tmp[\"lep_MC_truth\"] == 1].m2RecoilSignalSide, bins, alpha=0.5, label=var + \" lep truth matching == 1\" ,histtype='step')\n",
    "\n",
    "    ax.legend(loc='upper left')\n",
    "\n",
    "\n",
    "\n",
    "    plt.savefig(f'plots/ONLINE_APP_FIXED_onlineNN_m2Recoil_BCS_lepTruthCut_ONLY_abs_m2RecoilSignalSide_17th.pdf')"
   ]
  },
  {
   "cell_type": "code",
   "execution_count": 23,
   "metadata": {},
   "outputs": [],
   "source": [
    "BCS_df = df_Ups4S.sort_values(\"abs_m2RecoilSignalSide\",ascending=True).drop_duplicates(subset=(\"__event__\"), keep='first')"
   ]
  },
  {
   "cell_type": "code",
   "execution_count": null,
   "metadata": {},
   "outputs": [],
   "source": [
    "bins = np.linspace(-4, 4, 50)\n",
    "BCS_df[\"m2RecoilSignalSide\"].hist(bins=bins)"
   ]
  },
  {
   "cell_type": "code",
   "execution_count": 20,
   "metadata": {},
   "outputs": [
    {
     "ename": "NameError",
     "evalue": "name 'BCS_df' is not defined",
     "output_type": "error",
     "traceback": [
      "\u001b[0;31m---------------------------------------------------------------------------\u001b[0m",
      "\u001b[0;31mNameError\u001b[0m                                 Traceback (most recent call last)",
      "\u001b[0;32m<ipython-input-20-8efa0b228426>\u001b[0m in \u001b[0;36m<module>\u001b[0;34m\u001b[0m\n\u001b[0;32m----> 1\u001b[0;31m \u001b[0mBCS_df\u001b[0m\u001b[0;34m[\u001b[0m\u001b[0;34m\"m2RecoilSignalSide\"\u001b[0m\u001b[0;34m]\u001b[0m\u001b[0;34m.\u001b[0m\u001b[0mdescribe\u001b[0m\u001b[0;34m(\u001b[0m\u001b[0;34m)\u001b[0m\u001b[0;34m\u001b[0m\u001b[0;34m\u001b[0m\u001b[0m\n\u001b[0m",
      "\u001b[0;31mNameError\u001b[0m: name 'BCS_df' is not defined"
     ]
    }
   ],
   "source": [
    "BCS_df[\"m2RecoilSignalSide\"].describe()"
   ]
  },
  {
   "cell_type": "code",
   "execution_count": 8,
   "metadata": {},
   "outputs": [
    {
     "data": {
      "image/png": "[encoded data removed]",
      "text/plain": [
       "<Figure size 576x360 with 2 Axes>"
      ]
     },
     "metadata": {
      "needs_background": "light"
     },
     "output_type": "display_data"
    }
   ],
   "source": [
    "fig, ax = plt.subplots()\n",
    "fig.suptitle(r'$\\Delta E$ vs. $M_{bc}$ $B_{tag}$')\n",
    "\n",
    "bins = np.linspace(-4, 4, 50)\n",
    "\n",
    "fig.set_size_inches(8, 5)\n",
    "\n",
    "ax.set_xlabel(r'$M_{bc}$ $B_{tag}$')\n",
    "ax.set_ylabel(r'$\\Delta E$ $B_{tag}$')\n",
    "\n",
    "\n",
    "#ax.legend(loc='upper left')\n",
    "h = ax.hist2d(BCS_df.dau0_Mbc,BCS_df.dau0_deltaE, range=[[4, 5.5], [-3, 3]], bins=20,\n",
    "          norm=mpl.colors.LogNorm())\n",
    "\n",
    "plt.grid()\n",
    "fig.colorbar(h[3], ax=ax)\n",
    "\n",
    "\n",
    "plt.savefig('plots/ONLINE_APP_FIXED_onlineNN_2D_deltaE_Mbc_17th.pdf')"
   ]
  },
  {
   "cell_type": "code",
   "execution_count": null,
   "metadata": {
    "scrolled": true
   },
   "outputs": [],
   "source": [
    "bins = np.linspace(4, 6, 50)\n",
    "BCS_df[\"dau0_Mbc\"].hist(bins=bins)"
   ]
  },
  {
   "cell_type": "code",
   "execution_count": null,
   "metadata": {
    "scrolled": true
   },
   "outputs": [],
   "source": [
    "bins = np.linspace(-4, 4, 50)\n",
    "BCS_df[\"dau0_deltaE\"].hist(bins=bins)"
   ]
  },
  {
   "cell_type": "code",
   "execution_count": null,
   "metadata": {
    "scrolled": true
   },
   "outputs": [],
   "source": [
    "bins = np.linspace(0, 2, 50)\n",
    "BCS_df[\"Dst_DeltaM\"].hist(bins=bins)"
   ]
  },
  {
   "cell_type": "code",
   "execution_count": null,
   "metadata": {
    "scrolled": true
   },
   "outputs": [],
   "source": [
    "bins = np.linspace(0, 4, 50)\n",
    "BCS_df[\"D_M\"].hist(bins=bins)"
   ]
  },
  {
   "cell_type": "code",
   "execution_count": null,
   "metadata": {
    "scrolled": true
   },
   "outputs": [],
   "source": [
    "bins = np.linspace(0, 4, 50)\n",
    "BCS_df[\"Dst_M\"].hist(bins=bins)"
   ]
  },
  {
   "cell_type": "code",
   "execution_count": null,
   "metadata": {
    "scrolled": true
   },
   "outputs": [],
   "source": [
    "bins = np.linspace(0, 4, 50)\n",
    "BCS_df[\"Dst_pt\"].hist(bins=bins)"
   ]
  },
  {
   "cell_type": "code",
   "execution_count": null,
   "metadata": {
    "scrolled": true
   },
   "outputs": [],
   "source": [
    "bins = np.linspace(0, 4, 50)\n",
    "BCS_df[\"lep_pt\"].hist(bins=bins)"
   ]
  },
  {
   "cell_type": "code",
   "execution_count": 25,
   "metadata": {},
   "outputs": [],
   "source": [
    "deltaE_cut=0.5"
   ]
  },
  {
   "cell_type": "code",
   "execution_count": null,
   "metadata": {},
   "outputs": [],
   "source": [
    "cut name & variable & lower limit & upper limit    \\\\  \\hline\n",
    "#Btag Mbc     & dau0\\_Mbc    & 5.0  &      \\\\\n",
    "#Btag deltaE  & dau0\\_Mbc    & -2, & -1.0  \\\\\n",
    "foxWolframR2 & foxWolframR2 &      & 0.3  \\\\\n",
    "#Dst\\_pt      & Dst\\_pt      &      & 2.4  \\\\\n",
    "#lep\\_pt      & lep\\_pt      & 0.7  &      \\\\\n",
    "D0 mass      & D\\_M         & 1.8  & 1.95 \\\\\n",
    "Dst mass     & Dst\\_M       & 1.8  & 2.2  \\\\\n",
    "hadr. Btag   & N\\_lep\\_Btag &      & 0   "
   ]
  },
  {
   "cell_type": "code",
   "execution_count": 30,
   "metadata": {},
   "outputs": [
    {
     "data": {
      "text/plain": [
       "<AxesSubplot:>"
      ]
     },
     "execution_count": 30,
     "metadata": {},
     "output_type": "execute_result"
    },
    {
     "data": {
      "image/png": "[encoded data removed]",
      "text/plain": [
       "<Figure size 432x288 with 1 Axes>"
      ]
     },
     "metadata": {
      "needs_background": "light"
     },
     "output_type": "display_data"
    }
   ],
   "source": [
    "BCS_df.dau0_deltaE.hist()"
   ]
  },
  {
   "cell_type": "code",
   "execution_count": 45,
   "metadata": {
    "scrolled": true
   },
   "outputs": [
    {
     "data": {
      "image/png": "[encoded data removed]",
      "text/plain": [
       "<Figure size 576x360 with 1 Axes>"
      ]
     },
     "metadata": {
      "needs_background": "light"
     },
     "output_type": "display_data"
    }
   ],
   "source": [
    "fig, ax = plt.subplots()\n",
    "    \n",
    "bins = np.linspace(-4, 4, 50)\n",
    "\n",
    "fig.suptitle('--')\n",
    "fig.set_size_inches(8, 5)\n",
    "\n",
    "ax.set_xlabel(r'$m_{miss}^2$ in GeV$^2$')\n",
    "ax.set_ylabel(\"events\")\n",
    "\n",
    "ax.hist(BCS_df.m2RecoilSignalSide, bins, alpha=0.5, label=\"no filter\" ,histtype='step')\n",
    "ax.hist(BCS_df[BCS_df.dau0_Mbc > 5.00].m2RecoilSignalSide, bins, alpha=0.5, label=\"dau0_Mbc > 5.00\" ,histtype='step')\n",
    "ax.hist(BCS_df[(BCS_df.dau0_deltaE > (-1.5-deltaE_cut)) & (BCS_df.dau0_deltaE < (-1.5+deltaE_cut))].m2RecoilSignalSide, bins, alpha=0.5, label=\"-2 < dau0_deltaE < -1\",histtype='step')\n",
    "#ax.hist(BCS_df[(BCS_df.Dst_pt < 2.4) & (BCS_df.lep_pt > 1.0)].m2RecoilSignalSide, bins, alpha=0.5, label=\"Dst_pt < 2.4 & lep_pt > 1.0\" ,histtype='step')\n",
    "ax.hist(BCS_df[(BCS_df.lep_pt > 0.7)].m2RecoilSignalSide, bins, alpha=0.5, label=\"lep_pt > 0.7\" ,histtype='step')\n",
    "ax.hist(BCS_df[(BCS_df.Dst_pt < 2.4)].m2RecoilSignalSide, bins, alpha=0.5, label=\"Dst_pt < 2.4\" ,histtype='step')\n",
    "ax.hist(BCS_df[(BCS_df.lep_pt > 0.7) & (BCS_df.dau0_deltaE > (-1.5-deltaE_cut)) & (BCS_df.dau0_deltaE < (-1.5+deltaE_cut)) & (BCS_df.dau0_Mbc > 5.00) & (BCS_df.Dst_pt < 2.4)].m2RecoilSignalSide, bins, alpha=0.5, label=\"all cuts combined\" ,histtype='step')\n",
    "\n",
    "#tmp2 = BCS_df[(BCS_df.lep_pt > 1.0) & (BCS_df.dau0_deltaE > -.2) & (BCS_df.dau0_deltaE < .2) & (BCS_df.dau0_Mbc > 5.00)]\n",
    "#ax.hist(tmp2[(tmp2.D_M > 1.8) & (tmp2.D_M < 1.95)].m2RecoilSignalSide, bins, alpha=0.5, label=\"plus D M cut\" ,histtype='step')\n",
    "\n",
    "ax.legend(loc='upper left')\n",
    "\n",
    "\n",
    "plt.savefig('plots/ONLINE_APP_FIXED_onlineNN_m2RecoilFilters_17th.pdf')"
   ]
  },
  {
   "cell_type": "code",
   "execution_count": null,
   "metadata": {},
   "outputs": [],
   "source": [
    "\n",
    "\n",
    "D_modes=[21001.0, 21003.0, 21002.0, 21004.0]\n",
    "\n",
    "for i, Dmode in enumerate(D_modes):\n",
    "    \n",
    "    var = \"D_M\"\n",
    "    \n",
    "    idx=i % dim_x\n",
    "    idy=math.floor(i/dim_x)\n",
    "    print(idx, idy, var)\n",
    "    \n",
    "    ax = axs[idx, idy]   \n",
    "    \n",
    "    bins = np.linspace(0, 4, 50)\n",
    "    ax.set_title(f'{Dmode_dict[Dmode]}')\n",
    "\n",
    "    #ax.set_xlabel(r'number of wrong predictions per event')\n",
    "    ax.set_ylabel(\"events per bin\",fontsize=font_size)\n",
    "    \n",
    "    mcTruth_df_Dmode = mcTruth_df[mcTruth_df[\"D_decayModeID\"] == Dmode]\n",
    "    mcBG_df_Dmode = mcBG_df[mcBG_df[\"D_decayModeID\"] == Dmode]\n",
    "    \n",
    "    D0_mass = 1.86483\n",
    "    ax.axvline(x=D0_mass, color='r', label='$m_{D^0}$ - PDG value')\n",
    "    \n",
    "    \n",
    "    #plt.xticks(np.arange(0, num_steps, step=1))\n",
    "    ax.hist([mcTruth_df_Dmode[var],mcBG_df_Dmode[var]], bins, stacked=True, density=False, alpha=1,\n",
    "           label=[\"MC truth\",\"background\"])\n",
    "    \n",
    "\n",
    "    \n",
    "    ax.tick_params(axis='both', which='major', labelsize=font_size)\n",
    "    ax.tick_params(axis='both', which='minor', labelsize=font_size)\n",
    "\n",
    "    ax.legend(loc='upper right')\n",
    "\n",
    "    #plt.grid()\n",
    "\n"
   ]
  },
  {
   "cell_type": "code",
   "execution_count": 37,
   "metadata": {},
   "outputs": [
    {
     "name": "stdout",
     "output_type": "stream",
     "text": [
      "0 0\n",
      "1 0\n",
      "2 0\n",
      "0 1\n",
      "1 1\n",
      "2 1\n"
     ]
    }
   ],
   "source": [
    "dim_x=3\n",
    "import math\n",
    "D_modes=[21001.0, 21003.0, 21002.0, 21004.0,3,4]\n",
    "\n",
    "for i, Dmode in enumerate(D_modes):\n",
    "    \n",
    "    idx=i % dim_x\n",
    "    idy=math.floor(i/dim_x)\n",
    "    print(idx, idy)"
   ]
  },
  {
   "cell_type": "code",
   "execution_count": 54,
   "metadata": {},
   "outputs": [
    {
     "data": {
      "image/png": "[encoded data removed]",
      "text/plain": [
       "<Figure size 1728x864 with 8 Axes>"
      ]
     },
     "metadata": {
      "needs_background": "light"
     },
     "output_type": "display_data"
    }
   ],
   "source": [
    "dim_x = 4\n",
    "fig, axs = plt.subplots(dim_x, 2)\n",
    "fig.set_size_inches(24, 12)\n",
    "font_size=8\n",
    "plt.rcParams.update({'font.size': font_size})\n",
    "\n",
    "mcTruth_df = BCS_df[BCS_df[\"lep_MC_truth\"] == 1]\n",
    "mcBG_df = BCS_df[BCS_df[\"lep_MC_truth\"] == 0]\n",
    "\n",
    "\n",
    "bins = np.linspace(-4, 4, 50)\n",
    "\n",
    "\n",
    "\n",
    "ax = axs[0,0]  \n",
    "ax.set_title(\"no filter\")\n",
    "ax.hist([mcTruth_df[\"m2RecoilSignalSide\"],mcBG_df[\"m2RecoilSignalSide\"]], bins, \n",
    "        label=[\"MC truth\",\"background\"] , stacked=True, density=False, alpha=1)\n",
    "\n",
    "ax = axs[1,0]  \n",
    "ax.set_title(\"dau0_Mbc > 5.00\")\n",
    "ax.hist([mcTruth_df[mcTruth_df.dau0_Mbc > 5.00][\"m2RecoilSignalSide\"],\n",
    "         mcBG_df[mcBG_df.dau0_Mbc > 5.00][\"m2RecoilSignalSide\"]], bins, \n",
    "        label=[\"MC truth\",\"background\"] , stacked=True, density=False, alpha=1)\n",
    "\n",
    "ax = axs[2,0]  \n",
    "ax.set_title(\"-2 < dau0_deltaE < -1\")\n",
    "ax.hist([mcTruth_df[(mcTruth_df.dau0_deltaE > (-1.5-deltaE_cut)) & \n",
    "            (mcTruth_df.dau0_deltaE < (-1.5+deltaE_cut))][\"m2RecoilSignalSide\"],\n",
    "         mcBG_df[(mcBG_df.dau0_deltaE > (-1.5-deltaE_cut)) & \n",
    "            (mcBG_df.dau0_deltaE < (-1.5+deltaE_cut))][\"m2RecoilSignalSide\"]], bins, \n",
    "        label=[\"MC truth\",\"background\"] , stacked=True, density=False, alpha=1)\n",
    "\n",
    "ax = axs[0,1]  \n",
    "ax.set_title(\"lep_pt > 0.7\")\n",
    "ax.hist([mcTruth_df[(mcTruth_df.lep_pt > 0.7)][\"m2RecoilSignalSide\"],\n",
    "         mcBG_df[(mcBG_df.lep_pt > 0.7)][\"m2RecoilSignalSide\"]], bins, \n",
    "        label=[\"MC truth\",\"background\"] , stacked=True, density=False, alpha=1)\n",
    "\n",
    "\n",
    "ax = axs[1,1]  \n",
    "ax.set_title(\"Dst_pt < 2.4\")\n",
    "ax.hist([mcTruth_df[(mcTruth_df.Dst_pt < 2.4)][\"m2RecoilSignalSide\"],\n",
    "         mcBG_df[(mcBG_df.Dst_pt < 2.4)][\"m2RecoilSignalSide\"]], bins, \n",
    "        label=[\"MC truth\",\"background\"] , stacked=True, density=False, alpha=1)\n",
    "\n",
    "\n",
    "allCuts_mcTruth_df = mcTruth_df[(mcTruth_df.lep_pt > 0.7) & (mcTruth_df.dau0_deltaE > (-1.5-deltaE_cut)) &\n",
    "                    (mcTruth_df.dau0_deltaE < (-1.5+deltaE_cut)) &\n",
    "                    (mcTruth_df.dau0_Mbc > 5.00) & (mcTruth_df.Dst_pt < 2.4)]\n",
    "\n",
    "allCuts_mcBG_df = mcBG_df[(mcBG_df.lep_pt > 0.7) & (mcBG_df.dau0_deltaE > (-1.5-deltaE_cut)) &\n",
    "                    (mcBG_df.dau0_deltaE < (-1.5+deltaE_cut)) &\n",
    "                    (mcBG_df.dau0_Mbc > 5.00) & (mcBG_df.Dst_pt < 2.4)]\n",
    "\n",
    "ax = axs[2,1]  \n",
    "ax.set_title(\"all cuts\")\n",
    "ax.hist([allCuts_mcTruth_df[\"m2RecoilSignalSide\"],\n",
    "         allCuts_mcBG_df[\"m2RecoilSignalSide\"]], bins, \n",
    "        label=[\"MC truth\",\"background\"] , stacked=True, density=False, alpha=1)\n",
    "\n",
    "\n",
    "ax = axs[3,1]  \n",
    "ax.set_title(\"all cuts + D0 cut\")\n",
    "ax.hist([allCuts_mcTruth_df[(allCuts_mcTruth_df.D_M < 1.95) & (allCuts_mcTruth_df.D_M > 1.8)][\"m2RecoilSignalSide\"],\n",
    "         allCuts_mcBG_df[(allCuts_mcBG_df.D_M < 1.95) & (allCuts_mcBG_df.D_M > 1.8)][\"m2RecoilSignalSide\"]], bins, \n",
    "        label=[\"MC truth\",\"background\"] , stacked=True, density=False, alpha=1)\n",
    "\n",
    "\n",
    "ax = axs[3,0]  \n",
    "ax.set_title(\"all cuts + D* cut\")\n",
    "ax.hist([allCuts_mcTruth_df[(allCuts_mcTruth_df.Dst_M < 2.2) & (allCuts_mcTruth_df.Dst_M > 1.8)][\"m2RecoilSignalSide\"],\n",
    "         allCuts_mcBG_df[(allCuts_mcBG_df.Dst_M < 2.2) & (allCuts_mcBG_df.Dst_M > 1.8)][\"m2RecoilSignalSide\"]], bins, \n",
    "        label=[\"MC truth\",\"background\"] , stacked=True, density=False, alpha=1)\n",
    "\n",
    "\n",
    "\n",
    "\n",
    "#ax.hist([mcTruth_df[\"Ds_massDifference\"],mcBG_df[\"Ds_massDifference\"]], bins, stacked=True, density=False, alpha=1,\n",
    "#       label=[\"MC truth\",\"background\"])\n",
    "\n",
    "\n",
    "for i in range(dim_x*2):\n",
    "    \n",
    "    idx=i % dim_x\n",
    "    idy=math.floor(i/dim_x)\n",
    "    ax = axs[idx,idy]\n",
    "    ax.set_xlabel(r'$m_{miss}^2$ in GeV$^2$',loc='right')\n",
    "    ax.set_ylabel(\"events\")\n",
    "    ax.legend(loc='upper left')\n",
    "\n",
    "\n",
    "plt.savefig('plots/m2recoilFilter_MCtruth_bg_stacked.pdf')"
   ]
  },
  {
   "cell_type": "code",
   "execution_count": 33,
   "metadata": {},
   "outputs": [
    {
     "data": {
      "image/png": "[encoded data removed]",
      "text/plain": [
       "<Figure size 576x360 with 1 Axes>"
      ]
     },
     "metadata": {
      "needs_background": "light"
     },
     "output_type": "display_data"
    }
   ],
   "source": [
    "fig, ax = plt.subplots()\n",
    "    \n",
    "bins = np.linspace(-4, 4, 50)\n",
    "\n",
    "fig.suptitle('--')\n",
    "fig.set_size_inches(8, 5)\n",
    "\n",
    "ax.set_xlabel(r'$m_{miss}^2$ in GeV$^2$')\n",
    "ax.set_ylabel(\"events\")\n",
    "\n",
    "#ax.hist(BCS_df.m2RecoilSignalSide, bins, alpha=0.5, label=\"no filter\" ,histtype='step')\n",
    "#ax.hist(BCS_df[BCS_df.dau0_Mbc > 5.00].m2RecoilSignalSide, bins, alpha=0.5, label=\"dau0_Mbc > 5.00\" ,histtype='step')\n",
    "#ax.hist(BCS_df[(BCS_df.dau0_deltaE > -.2) & BCS_df.dau0_deltaE < .2].m2RecoilSignalSide, bins, alpha=0.5, label=\"abs(dau0_deltaE) < 0.2\" ,histtype='step')\n",
    "#ax.hist(BCS_df[(BCS_df.Dst_pt < 2.4) & (BCS_df.lep_pt > 1.0)].m2RecoilSignalSide, bins, alpha=0.5, label=\"Dst_pt < 2.4 & lep_pt > 1.0\" ,histtype='step')\n",
    "#ax.hist(BCS_df[(BCS_df.lep_pt > 1.0)].m2RecoilSignalSide, bins, alpha=0.5, label=\"lep_pt > 1.0\" ,histtype='step')\n",
    "#ax.hist(BCS_df[(BCS_df.Dst_pt < 2.4)].m2RecoilSignalSide, bins, alpha=0.5, label=\"Dst_pt < 2.4\" ,histtype='step')\n",
    "#ax.hist(BCS_df[(BCS_df.lep_pt > 1.0) & (BCS_df.dau0_deltaE > -.2) & (BCS_df.dau0_deltaE < .2) & (BCS_df.dau0_Mbc > 5.00)].m2RecoilSignalSide, bins, alpha=0.5, label=\"lep_pt,dau0_deltaE,dau0_Mbc\" ,histtype='step')\n",
    "\n",
    "tmp2 = BCS_df[(BCS_df.lep_pt > 0.7) & ((BCS_df.dau0_deltaE > (-1.5-deltaE_cut))) & (BCS_df.dau0_deltaE < (-1.5+deltaE_cut)) & (BCS_df.dau0_Mbc > 5.00) & (BCS_df.Dst_pt < 2.4)]\n",
    "ax.hist(tmp2[(tmp2.D_M > 1.8) & (tmp2.D_M < 1.95)].m2RecoilSignalSide, bins, alpha=0.5, label=\"all + D M cut\" ,histtype='step')\n",
    "ax.hist(tmp2[(tmp2.Dst_M > 1.8) & (tmp2.Dst_M < 2.2)].m2RecoilSignalSide, bins, alpha=0.5, label=\"all + Dst M cut\" ,histtype='step')\n",
    "\n",
    "ax.legend(loc='upper left')\n",
    "\n",
    "plt.savefig('plots/ONLINE_APP_FIXED_onlineNN_m2Recoil_plus_DmassCut_17th.pdf')"
   ]
  },
  {
   "cell_type": "code",
   "execution_count": 56,
   "metadata": {},
   "outputs": [
    {
     "data": {
      "text/plain": [
       "(88,)"
      ]
     },
     "execution_count": 56,
     "metadata": {},
     "output_type": "execute_result"
    }
   ],
   "source": [
    "tmp2[(tmp2.D_M > 1.8) & (tmp2.D_M < 1.95)].m2RecoilSignalSide.shape"
   ]
  },
  {
   "cell_type": "code",
   "execution_count": 57,
   "metadata": {},
   "outputs": [
    {
     "data": {
      "text/plain": [
       "(207,)"
      ]
     },
     "execution_count": 57,
     "metadata": {},
     "output_type": "execute_result"
    }
   ],
   "source": [
    "tmp2[(tmp2.D_M > 1.7) & (tmp2.D_M < 2.05)].m2RecoilSignalSide.shape"
   ]
  },
  {
   "cell_type": "markdown",
   "metadata": {},
   "source": [
    "## analyse how many errors per evt etc"
   ]
  },
  {
   "cell_type": "code",
   "execution_count": 55,
   "metadata": {},
   "outputs": [
    {
     "data": {
      "text/html": [
       "<div>\n",
       "<style scoped>\n",
       "    .dataframe tbody tr th:only-of-type {\n",
       "        vertical-align: middle;\n",
       "    }\n",
       "\n",
       "    .dataframe tbody tr th {\n",
       "        vertical-align: top;\n",
       "    }\n",
       "\n",
       "    .dataframe thead th {\n",
       "        text-align: right;\n",
       "    }\n",
       "</style>\n",
       "<table border=\"1\" class=\"dataframe\">\n",
       "  <thead>\n",
       "    <tr style=\"text-align: right;\">\n",
       "      <th></th>\n",
       "      <th>__event__</th>\n",
       "      <th>frac. correct FSPs</th>\n",
       "      <th>num corr preds</th>\n",
       "      <th>numFSPs</th>\n",
       "    </tr>\n",
       "  </thead>\n",
       "  <tbody>\n",
       "    <tr>\n",
       "      <th>0</th>\n",
       "      <td>2422</td>\n",
       "      <td>0.625000</td>\n",
       "      <td>10</td>\n",
       "      <td>16</td>\n",
       "    </tr>\n",
       "    <tr>\n",
       "      <th>1</th>\n",
       "      <td>2975</td>\n",
       "      <td>0.888889</td>\n",
       "      <td>8</td>\n",
       "      <td>9</td>\n",
       "    </tr>\n",
       "    <tr>\n",
       "      <th>2</th>\n",
       "      <td>3765</td>\n",
       "      <td>0.625000</td>\n",
       "      <td>10</td>\n",
       "      <td>16</td>\n",
       "    </tr>\n",
       "    <tr>\n",
       "      <th>3</th>\n",
       "      <td>5639</td>\n",
       "      <td>0.777778</td>\n",
       "      <td>14</td>\n",
       "      <td>18</td>\n",
       "    </tr>\n",
       "    <tr>\n",
       "      <th>4</th>\n",
       "      <td>5845</td>\n",
       "      <td>0.642857</td>\n",
       "      <td>9</td>\n",
       "      <td>14</td>\n",
       "    </tr>\n",
       "    <tr>\n",
       "      <th>...</th>\n",
       "      <td>...</td>\n",
       "      <td>...</td>\n",
       "      <td>...</td>\n",
       "      <td>...</td>\n",
       "    </tr>\n",
       "    <tr>\n",
       "      <th>16240</th>\n",
       "      <td>50984167</td>\n",
       "      <td>0.933333</td>\n",
       "      <td>14</td>\n",
       "      <td>15</td>\n",
       "    </tr>\n",
       "    <tr>\n",
       "      <th>16241</th>\n",
       "      <td>50988678</td>\n",
       "      <td>0.700000</td>\n",
       "      <td>14</td>\n",
       "      <td>20</td>\n",
       "    </tr>\n",
       "    <tr>\n",
       "      <th>16242</th>\n",
       "      <td>50988743</td>\n",
       "      <td>0.777778</td>\n",
       "      <td>7</td>\n",
       "      <td>9</td>\n",
       "    </tr>\n",
       "    <tr>\n",
       "      <th>16243</th>\n",
       "      <td>50991574</td>\n",
       "      <td>0.812500</td>\n",
       "      <td>13</td>\n",
       "      <td>16</td>\n",
       "    </tr>\n",
       "    <tr>\n",
       "      <th>16244</th>\n",
       "      <td>50998758</td>\n",
       "      <td>0.666667</td>\n",
       "      <td>8</td>\n",
       "      <td>12</td>\n",
       "    </tr>\n",
       "  </tbody>\n",
       "</table>\n",
       "<p>16245 rows × 4 columns</p>\n",
       "</div>"
      ],
      "text/plain": [
       "       __event__  frac. correct FSPs  num corr preds  numFSPs\n",
       "0           2422            0.625000              10       16\n",
       "1           2975            0.888889               8        9\n",
       "2           3765            0.625000              10       16\n",
       "3           5639            0.777778              14       18\n",
       "4           5845            0.642857               9       14\n",
       "...          ...                 ...             ...      ...\n",
       "16240   50984167            0.933333              14       15\n",
       "16241   50988678            0.700000              14       20\n",
       "16242   50988743            0.777778               7        9\n",
       "16243   50991574            0.812500              13       16\n",
       "16244   50998758            0.666667               8       12\n",
       "\n",
       "[16245 rows x 4 columns]"
      ]
     },
     "execution_count": 55,
     "metadata": {},
     "output_type": "execute_result"
    }
   ],
   "source": [
    "percCorrect_df = pd.DataFrame({'frac. correct FSPs' : nonHc_FSPs.groupby([\"__event__\",\"correct_pred\"] ).size()/nonHc_FSPs.groupby( [\"__event__\"] ).size(),\n",
    "                              'num corr preds' : nonHc_FSPs.groupby([\"__event__\",\"correct_pred\"] ).size()}).reset_index()\n",
    "percCorrect_df = percCorrect_df[percCorrect_df[\"correct_pred\"] == 1]\n",
    "numFSPs = pd.DataFrame({'numFSPs' : nonHc_FSPs.groupby( [\"__event__\"] ).size()}).reset_index()\n",
    "\n",
    "online_NN_results = pd.merge(percCorrect_df[[\"__event__\",\"frac. correct FSPs\",\"num corr preds\"]],\n",
    "                             numFSPs[[\"__event__\",\"numFSPs\"]],on=[\"__event__\"],how='outer')\n",
    "online_NN_results"
   ]
  },
  {
   "cell_type": "code",
   "execution_count": 56,
   "metadata": {},
   "outputs": [],
   "source": [
    "online_NN_results['frac. correct FSPs'] = online_NN_results['frac. correct FSPs'].fillna(0)\n",
    "online_NN_results['num corr preds'] = online_NN_results['num corr preds'].fillna(0)"
   ]
  },
  {
   "cell_type": "code",
   "execution_count": 57,
   "metadata": {},
   "outputs": [],
   "source": [
    "online_NN_results[\"num errors\"] = online_NN_results[\"numFSPs\"] - online_NN_results[\"num corr preds\"]"
   ]
  },
  {
   "cell_type": "code",
   "execution_count": null,
   "metadata": {},
   "outputs": [],
   "source": []
  },
  {
   "cell_type": "markdown",
   "metadata": {},
   "source": [
    "## make comparison plots between online/offline application of NN"
   ]
  },
  {
   "cell_type": "code",
   "execution_count": 58,
   "metadata": {},
   "outputs": [],
   "source": [
    "path_df = \"/nfs/dust/belle2/user/axelheim/MC_studies/Dstlnu_Bt_generic/MM2plotFromPreds/\"\n",
    "offline_NN_results = pd.read_csv(path_df + \"offline_NN_results.csv\")"
   ]
  },
  {
   "cell_type": "code",
   "execution_count": 59,
   "metadata": {},
   "outputs": [
    {
     "data": {
      "text/plain": [
       "Index(['Unnamed: 0', 'event', 'frac. correct FSPs', 'num corr preds',\n",
       "       'numFSPs', 'px_summed_bg', 'py_summed_bg', 'pz_summed_bg',\n",
       "       'E_summed_bg', 'CMSpx_summed_bg', 'CMSpy_summed_bg', 'CMSpz_summed_bg',\n",
       "       'CMSE_summed_bg', 'px_summed_X', 'py_summed_X', 'pz_summed_X',\n",
       "       'E_summed_X', 'CMSpx_summed_X', 'CMSpy_summed_X', 'CMSpz_summed_X',\n",
       "       'CMSE_summed_X', 'px_summed_Bs', 'py_summed_Bs', 'pz_summed_Bs',\n",
       "       'E_summed_Bs', 'CMSpx_summed_Bs', 'CMSpy_summed_Bs', 'CMSpz_summed_Bs',\n",
       "       'CMSE_summed_Bs', 'Hc_px', 'Hc_py', 'Hc_pz', 'Hc_E', 'Hc_cmpx',\n",
       "       'Hc_cmpy', 'Hc_cmpz', 'Hc_cmE', 'Hc_cmPx', 'Hc_cmPy', 'Hc_cmPz',\n",
       "       'num errors', 'Mbc_Btag', 'MM2recoilSignalSide', 'deltaE',\n",
       "       'summed_wrongPred_p'],\n",
       "      dtype='object')"
      ]
     },
     "execution_count": 59,
     "metadata": {},
     "output_type": "execute_result"
    }
   ],
   "source": [
    "offline_NN_results.keys()"
   ]
  },
  {
   "cell_type": "code",
   "execution_count": null,
   "metadata": {},
   "outputs": [],
   "source": []
  },
  {
   "cell_type": "code",
   "execution_count": 60,
   "metadata": {},
   "outputs": [
    {
     "data": {
      "image/png": "[encoded data removed]",
      "text/plain": [
       "<Figure size 576x360 with 1 Axes>"
      ]
     },
     "metadata": {
      "needs_background": "light"
     },
     "output_type": "display_data"
    }
   ],
   "source": [
    "fig, ax = plt.subplots()\n",
    "num_steps=20\n",
    "bins = np.linspace(0, num_steps, 21)\n",
    "\n",
    "fig.suptitle('online vs. offline application of NN separator')\n",
    "fig.set_size_inches(8, 5)\n",
    "\n",
    "ax.set_xlabel(r'number of wrong predictions per event')\n",
    "ax.set_ylabel(\"fraction of events\")\n",
    "\n",
    "plt.xticks(np.arange(0, num_steps, step=1))\n",
    "\n",
    "ax.hist(offline_NN_results[\"num errors\"], bins, density=True, alpha=0.5, label=\"offline NN application\" ,histtype='step')\n",
    "ax.hist(online_NN_results[\"num errors\"], bins, density=True, alpha=0.5, label=\"online NN application\" ,histtype='step')\n",
    "\n",
    "ax.legend(loc='upper right')\n",
    "\n",
    "#plt.grid()\n",
    "\n",
    "plt.savefig('plots/ONLINE_APP_FIXED_onlineVSofflineNN_numErrorsPerEvent.pdf')"
   ]
  },
  {
   "cell_type": "code",
   "execution_count": 61,
   "metadata": {},
   "outputs": [
    {
     "data": {
      "image/png": "[encoded data removed]",
      "text/plain": [
       "<Figure size 576x360 with 1 Axes>"
      ]
     },
     "metadata": {
      "needs_background": "light"
     },
     "output_type": "display_data"
    }
   ],
   "source": [
    "fig, ax = plt.subplots()\n",
    "\n",
    "bins = np.linspace(0, 1, 20)\n",
    "\n",
    "fig.suptitle('online vs. offline application of NN separator')\n",
    "fig.set_size_inches(8, 5)\n",
    "\n",
    "ax.set_xlabel(r'fraction of correct predictions per event')\n",
    "ax.set_ylabel(\"fraction of events\")\n",
    "\n",
    "ax.hist(offline_NN_results[\"frac. correct FSPs\"], bins, density=True, alpha=0.5, label=\"offline NN application\" ,histtype='step')\n",
    "ax.hist(online_NN_results[\"frac. correct FSPs\"], bins, density=True, alpha=0.5, label=\"online NN application\" ,histtype='step')\n",
    "\n",
    "ax.legend(loc='upper left')\n",
    "\n",
    "plt.grid()\n",
    "\n",
    "plt.savefig('plots/ONLINE_APP_FIXED_onlineVSofflineNN_fracErrorsPerEvent.pdf')"
   ]
  },
  {
   "cell_type": "code",
   "execution_count": 62,
   "metadata": {},
   "outputs": [
    {
     "data": {
      "image/png": "[encoded data removed]",
      "text/plain": [
       "<Figure size 576x360 with 1 Axes>"
      ]
     },
     "metadata": {
      "needs_background": "light"
     },
     "output_type": "display_data"
    }
   ],
   "source": [
    "fig, ax = plt.subplots()\n",
    "\n",
    "bins = np.linspace(0, 35, 36)\n",
    "\n",
    "fig.suptitle('online vs. offline application of NN separator')\n",
    "fig.set_size_inches(8, 5)\n",
    "\n",
    "ax.set_xlabel(r'number of FSPs per event')\n",
    "ax.set_ylabel(\"fraction of events\")\n",
    "\n",
    "ax.hist(offline_NN_results[\"numFSPs\"], bins, density=True, alpha=0.5, label=\"offline NN application\" ,histtype='step')\n",
    "ax.hist(online_NN_results[\"numFSPs\"], bins, density=True, alpha=0.5, label=\"online NN application\" ,histtype='step')\n",
    "\n",
    "ax.legend(loc='upper left')\n",
    "\n",
    "plt.grid()\n",
    "\n",
    "plt.savefig('plots/ONLINE_APP_FIXED_onlineVSofflineNN_numFSPs.pdf')"
   ]
  },
  {
   "cell_type": "code",
   "execution_count": null,
   "metadata": {},
   "outputs": [],
   "source": []
  },
  {
   "cell_type": "code",
   "execution_count": null,
   "metadata": {},
   "outputs": [],
   "source": []
  },
  {
   "cell_type": "code",
   "execution_count": 146,
   "metadata": {},
   "outputs": [
    {
     "data": {
      "text/plain": [
       "('anti-D*0:genericsigProb',\n",
       " 'anti-D*0:generic',\n",
       " 'extraInfo(SignalProbability)>0.01 and 0.139<massDifference(0)<0.16')"
      ]
     },
     "execution_count": 146,
     "metadata": {},
     "output_type": "execute_result"
    }
   ],
   "source": [
    "sigprob_cut = 0.01\n",
    "'anti-D*0:genericsigProb',\"anti-D*0:generic\",'extraInfo(SignalProbability)>{} and 0.139<massDifference(0)<0.16'.format(sigprob_cut)"
   ]
  },
  {
   "cell_type": "code",
   "execution_count": null,
   "metadata": {},
   "outputs": [],
   "source": []
  }
 ],
 "metadata": {
  "kernelspec": {
   "display_name": "Python 3",
   "language": "python",
   "name": "python3"
  },
  "language_info": {
   "codemirror_mode": {
    "name": "ipython",
    "version": 3
   },
   "file_extension": ".py",
   "mimetype": "text/x-python",
   "name": "python",
   "nbconvert_exporter": "python",
   "pygments_lexer": "ipython3",
   "version": "3.6.8"
  }
 },
 "nbformat": 4,
 "nbformat_minor": 4
}
