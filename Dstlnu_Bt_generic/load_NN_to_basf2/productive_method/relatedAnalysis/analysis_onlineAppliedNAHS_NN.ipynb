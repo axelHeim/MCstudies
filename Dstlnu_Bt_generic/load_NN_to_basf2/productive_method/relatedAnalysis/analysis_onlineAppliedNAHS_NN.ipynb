{
 "cells": [
  {
   "cell_type": "code",
   "execution_count": 1,
   "metadata": {},
   "outputs": [],
   "source": [
    "import matplotlib.pyplot as plt\n",
    "import uproot\n",
    "import numpy as np\n",
    "import pandas as pd\n",
    "import matplotlib as mpl\n",
    "\n",
    "import sys\n",
    "sys.path.insert(1, '/afs/desy.de/user/a/axelheim/private/MC_studies/Dstlnu_Bt_generic/util_funcs/')\n",
    "from pandas_colFuncs import B_ID, whichBisSig, D0_decay_type, whichBisSig_NAHS\n",
    "\n"
   ]
  },
  {
   "cell_type": "code",
   "execution_count": 2,
   "metadata": {},
   "outputs": [],
   "source": [
    "nfs_path = \"/nfs/dust/belle2/user/axelheim/MC_studies/Dstlnu_Bt_generic/appliedNNdata/11thRun/\""
   ]
  },
  {
   "cell_type": "code",
   "execution_count": 4,
   "metadata": {},
   "outputs": [],
   "source": [
    "Ups4S_file = uproot.open(nfs_path + \"Ups4S_NN_predicted.root:variables;1\")\n",
    "df_Ups4S = Ups4S_file.arrays(library=\"pd\")"
   ]
  },
  {
   "cell_type": "code",
   "execution_count": 5,
   "metadata": {},
   "outputs": [],
   "source": [
    "FSPs_file = uproot.open(nfs_path + \"FSPs.root:variables;1\")\n",
    "df_FSPs = FSPs_file.arrays(library=\"pd\")"
   ]
  },
  {
   "cell_type": "code",
   "execution_count": null,
   "metadata": {},
   "outputs": [],
   "source": [
    "evt_counter_file = uproot.open(nfs_path + \"evt_counter_1.root:variables;1\")\n",
    "df_evt_counter = evt_counter_file.arrays(library=\"pd\")"
   ]
  },
  {
   "cell_type": "code",
   "execution_count": null,
   "metadata": {},
   "outputs": [],
   "source": [
    "df_evt_counter.groupby([\"__event__\",\"__production__\"]).ngroups"
   ]
  },
  {
   "cell_type": "code",
   "execution_count": null,
   "metadata": {
    "scrolled": true
   },
   "outputs": [],
   "source": [
    "print(df_Ups4S.shape[0])\n",
    "print(df_Ups4S[\"__event__\"].nunique())\n",
    "print(df_FSPs.shape[0])"
   ]
  },
  {
   "cell_type": "code",
   "execution_count": 6,
   "metadata": {},
   "outputs": [
    {
     "ename": "NameError",
     "evalue": "name 'df_evt_counter' is not defined",
     "output_type": "error",
     "traceback": [
      "\u001b[0;31m---------------------------------------------------------------------------\u001b[0m",
      "\u001b[0;31mNameError\u001b[0m                                 Traceback (most recent call last)",
      "\u001b[0;32m<ipython-input-6-e4aa1fd75b57>\u001b[0m in \u001b[0;36m<module>\u001b[0;34m\u001b[0m\n\u001b[0;32m----> 1\u001b[0;31m \u001b[0mprint\u001b[0m\u001b[0;34m(\u001b[0m\u001b[0mdf_evt_counter\u001b[0m\u001b[0;34m.\u001b[0m\u001b[0mshape\u001b[0m\u001b[0;34m[\u001b[0m\u001b[0;36m0\u001b[0m\u001b[0;34m]\u001b[0m\u001b[0;34m)\u001b[0m\u001b[0;34m\u001b[0m\u001b[0;34m\u001b[0m\u001b[0m\n\u001b[0m",
      "\u001b[0;31mNameError\u001b[0m: name 'df_evt_counter' is not defined"
     ]
    }
   ],
   "source": [
    "print(df_evt_counter.shape[0])"
   ]
  },
  {
   "cell_type": "markdown",
   "metadata": {},
   "source": [
    "## save df's"
   ]
  },
  {
   "cell_type": "code",
   "execution_count": 16,
   "metadata": {},
   "outputs": [],
   "source": [
    "df_FSPs.to_csv(nfs_path + \"FSPs_df.csv\")\n",
    "df_Ups4S.to_csv(nfs_path + \"Ups4S_df.csv\")"
   ]
  },
  {
   "cell_type": "code",
   "execution_count": 8,
   "metadata": {},
   "outputs": [],
   "source": [
    "df_evt_counter.to_csv(nfs_path + \"evt_counter_df.csv\")"
   ]
  },
  {
   "cell_type": "markdown",
   "metadata": {},
   "source": [
    "## load df's"
   ]
  },
  {
   "cell_type": "code",
   "execution_count": 9,
   "metadata": {},
   "outputs": [
    {
     "ename": "FileNotFoundError",
     "evalue": "[Errno 2] No such file or directory: '/nfs/dust/belle2/user/axelheim/MC_studies/Dstlnu_Bt_generic/appliedNNdata/8thRun/FSPs_df.csv'",
     "output_type": "error",
     "traceback": [
      "\u001b[0;31m---------------------------------------------------------------------------\u001b[0m",
      "\u001b[0;31mFileNotFoundError\u001b[0m                         Traceback (most recent call last)",
      "\u001b[0;32m<ipython-input-9-9a1e7d4a84bd>\u001b[0m in \u001b[0;36m<module>\u001b[0;34m\u001b[0m\n\u001b[1;32m      1\u001b[0m \u001b[0mdf_Ups4S\u001b[0m \u001b[0;34m=\u001b[0m \u001b[0mpd\u001b[0m\u001b[0;34m.\u001b[0m\u001b[0mread_csv\u001b[0m\u001b[0;34m(\u001b[0m\u001b[0mnfs_path\u001b[0m \u001b[0;34m+\u001b[0m \u001b[0;34m\"Ups4S_df.csv\"\u001b[0m\u001b[0;34m)\u001b[0m\u001b[0;34m\u001b[0m\u001b[0;34m\u001b[0m\u001b[0m\n\u001b[0;32m----> 2\u001b[0;31m \u001b[0mdf_FSPs\u001b[0m \u001b[0;34m=\u001b[0m \u001b[0mpd\u001b[0m\u001b[0;34m.\u001b[0m\u001b[0mread_csv\u001b[0m\u001b[0;34m(\u001b[0m\u001b[0mnfs_path\u001b[0m \u001b[0;34m+\u001b[0m \u001b[0;34m\"FSPs_df.csv\"\u001b[0m\u001b[0;34m)\u001b[0m\u001b[0;34m\u001b[0m\u001b[0;34m\u001b[0m\u001b[0m\n\u001b[0m\u001b[1;32m      3\u001b[0m \u001b[0;31m#df_evt_counter = pd.read_csv(nfs_path + \"evt_counter_df.csv\")\u001b[0m\u001b[0;34m\u001b[0m\u001b[0;34m\u001b[0m\u001b[0;34m\u001b[0m\u001b[0m\n",
      "\u001b[0;32m~/miniconda3/envs/baum/lib/python3.8/site-packages/pandas/io/parsers.py\u001b[0m in \u001b[0;36mread_csv\u001b[0;34m(filepath_or_buffer, sep, delimiter, header, names, index_col, usecols, squeeze, prefix, mangle_dupe_cols, dtype, engine, converters, true_values, false_values, skipinitialspace, skiprows, skipfooter, nrows, na_values, keep_default_na, na_filter, verbose, skip_blank_lines, parse_dates, infer_datetime_format, keep_date_col, date_parser, dayfirst, cache_dates, iterator, chunksize, compression, thousands, decimal, lineterminator, quotechar, quoting, doublequote, escapechar, comment, encoding, dialect, error_bad_lines, warn_bad_lines, delim_whitespace, low_memory, memory_map, float_precision, storage_options)\u001b[0m\n\u001b[1;32m    608\u001b[0m     \u001b[0mkwds\u001b[0m\u001b[0;34m.\u001b[0m\u001b[0mupdate\u001b[0m\u001b[0;34m(\u001b[0m\u001b[0mkwds_defaults\u001b[0m\u001b[0;34m)\u001b[0m\u001b[0;34m\u001b[0m\u001b[0;34m\u001b[0m\u001b[0m\n\u001b[1;32m    609\u001b[0m \u001b[0;34m\u001b[0m\u001b[0m\n\u001b[0;32m--> 610\u001b[0;31m     \u001b[0;32mreturn\u001b[0m \u001b[0m_read\u001b[0m\u001b[0;34m(\u001b[0m\u001b[0mfilepath_or_buffer\u001b[0m\u001b[0;34m,\u001b[0m \u001b[0mkwds\u001b[0m\u001b[0;34m)\u001b[0m\u001b[0;34m\u001b[0m\u001b[0;34m\u001b[0m\u001b[0m\n\u001b[0m\u001b[1;32m    611\u001b[0m \u001b[0;34m\u001b[0m\u001b[0m\n\u001b[1;32m    612\u001b[0m \u001b[0;34m\u001b[0m\u001b[0m\n",
      "\u001b[0;32m~/miniconda3/envs/baum/lib/python3.8/site-packages/pandas/io/parsers.py\u001b[0m in \u001b[0;36m_read\u001b[0;34m(filepath_or_buffer, kwds)\u001b[0m\n\u001b[1;32m    460\u001b[0m \u001b[0;34m\u001b[0m\u001b[0m\n\u001b[1;32m    461\u001b[0m     \u001b[0;31m# Create the parser.\u001b[0m\u001b[0;34m\u001b[0m\u001b[0;34m\u001b[0m\u001b[0;34m\u001b[0m\u001b[0m\n\u001b[0;32m--> 462\u001b[0;31m     \u001b[0mparser\u001b[0m \u001b[0;34m=\u001b[0m \u001b[0mTextFileReader\u001b[0m\u001b[0;34m(\u001b[0m\u001b[0mfilepath_or_buffer\u001b[0m\u001b[0;34m,\u001b[0m \u001b[0;34m**\u001b[0m\u001b[0mkwds\u001b[0m\u001b[0;34m)\u001b[0m\u001b[0;34m\u001b[0m\u001b[0;34m\u001b[0m\u001b[0m\n\u001b[0m\u001b[1;32m    463\u001b[0m \u001b[0;34m\u001b[0m\u001b[0m\n\u001b[1;32m    464\u001b[0m     \u001b[0;32mif\u001b[0m \u001b[0mchunksize\u001b[0m \u001b[0;32mor\u001b[0m \u001b[0miterator\u001b[0m\u001b[0;34m:\u001b[0m\u001b[0;34m\u001b[0m\u001b[0;34m\u001b[0m\u001b[0m\n",
      "\u001b[0;32m~/miniconda3/envs/baum/lib/python3.8/site-packages/pandas/io/parsers.py\u001b[0m in \u001b[0;36m__init__\u001b[0;34m(self, f, engine, **kwds)\u001b[0m\n\u001b[1;32m    817\u001b[0m             \u001b[0mself\u001b[0m\u001b[0;34m.\u001b[0m\u001b[0moptions\u001b[0m\u001b[0;34m[\u001b[0m\u001b[0;34m\"has_index_names\"\u001b[0m\u001b[0;34m]\u001b[0m \u001b[0;34m=\u001b[0m \u001b[0mkwds\u001b[0m\u001b[0;34m[\u001b[0m\u001b[0;34m\"has_index_names\"\u001b[0m\u001b[0;34m]\u001b[0m\u001b[0;34m\u001b[0m\u001b[0;34m\u001b[0m\u001b[0m\n\u001b[1;32m    818\u001b[0m \u001b[0;34m\u001b[0m\u001b[0m\n\u001b[0;32m--> 819\u001b[0;31m         \u001b[0mself\u001b[0m\u001b[0;34m.\u001b[0m\u001b[0m_engine\u001b[0m \u001b[0;34m=\u001b[0m \u001b[0mself\u001b[0m\u001b[0;34m.\u001b[0m\u001b[0m_make_engine\u001b[0m\u001b[0;34m(\u001b[0m\u001b[0mself\u001b[0m\u001b[0;34m.\u001b[0m\u001b[0mengine\u001b[0m\u001b[0;34m)\u001b[0m\u001b[0;34m\u001b[0m\u001b[0;34m\u001b[0m\u001b[0m\n\u001b[0m\u001b[1;32m    820\u001b[0m \u001b[0;34m\u001b[0m\u001b[0m\n\u001b[1;32m    821\u001b[0m     \u001b[0;32mdef\u001b[0m \u001b[0mclose\u001b[0m\u001b[0;34m(\u001b[0m\u001b[0mself\u001b[0m\u001b[0;34m)\u001b[0m\u001b[0;34m:\u001b[0m\u001b[0;34m\u001b[0m\u001b[0;34m\u001b[0m\u001b[0m\n",
      "\u001b[0;32m~/miniconda3/envs/baum/lib/python3.8/site-packages/pandas/io/parsers.py\u001b[0m in \u001b[0;36m_make_engine\u001b[0;34m(self, engine)\u001b[0m\n\u001b[1;32m   1048\u001b[0m             )\n\u001b[1;32m   1049\u001b[0m         \u001b[0;31m# error: Too many arguments for \"ParserBase\"\u001b[0m\u001b[0;34m\u001b[0m\u001b[0;34m\u001b[0m\u001b[0;34m\u001b[0m\u001b[0m\n\u001b[0;32m-> 1050\u001b[0;31m         \u001b[0;32mreturn\u001b[0m \u001b[0mmapping\u001b[0m\u001b[0;34m[\u001b[0m\u001b[0mengine\u001b[0m\u001b[0;34m]\u001b[0m\u001b[0;34m(\u001b[0m\u001b[0mself\u001b[0m\u001b[0;34m.\u001b[0m\u001b[0mf\u001b[0m\u001b[0;34m,\u001b[0m \u001b[0;34m**\u001b[0m\u001b[0mself\u001b[0m\u001b[0;34m.\u001b[0m\u001b[0moptions\u001b[0m\u001b[0;34m)\u001b[0m  \u001b[0;31m# type: ignore[call-arg]\u001b[0m\u001b[0;34m\u001b[0m\u001b[0;34m\u001b[0m\u001b[0m\n\u001b[0m\u001b[1;32m   1051\u001b[0m \u001b[0;34m\u001b[0m\u001b[0m\n\u001b[1;32m   1052\u001b[0m     \u001b[0;32mdef\u001b[0m \u001b[0m_failover_to_python\u001b[0m\u001b[0;34m(\u001b[0m\u001b[0mself\u001b[0m\u001b[0;34m)\u001b[0m\u001b[0;34m:\u001b[0m\u001b[0;34m\u001b[0m\u001b[0;34m\u001b[0m\u001b[0m\n",
      "\u001b[0;32m~/miniconda3/envs/baum/lib/python3.8/site-packages/pandas/io/parsers.py\u001b[0m in \u001b[0;36m__init__\u001b[0;34m(self, src, **kwds)\u001b[0m\n\u001b[1;32m   1865\u001b[0m \u001b[0;34m\u001b[0m\u001b[0m\n\u001b[1;32m   1866\u001b[0m         \u001b[0;31m# open handles\u001b[0m\u001b[0;34m\u001b[0m\u001b[0;34m\u001b[0m\u001b[0;34m\u001b[0m\u001b[0m\n\u001b[0;32m-> 1867\u001b[0;31m         \u001b[0mself\u001b[0m\u001b[0;34m.\u001b[0m\u001b[0m_open_handles\u001b[0m\u001b[0;34m(\u001b[0m\u001b[0msrc\u001b[0m\u001b[0;34m,\u001b[0m \u001b[0mkwds\u001b[0m\u001b[0;34m)\u001b[0m\u001b[0;34m\u001b[0m\u001b[0;34m\u001b[0m\u001b[0m\n\u001b[0m\u001b[1;32m   1868\u001b[0m         \u001b[0;32massert\u001b[0m \u001b[0mself\u001b[0m\u001b[0;34m.\u001b[0m\u001b[0mhandles\u001b[0m \u001b[0;32mis\u001b[0m \u001b[0;32mnot\u001b[0m \u001b[0;32mNone\u001b[0m\u001b[0;34m\u001b[0m\u001b[0;34m\u001b[0m\u001b[0m\n\u001b[1;32m   1869\u001b[0m         \u001b[0;32mfor\u001b[0m \u001b[0mkey\u001b[0m \u001b[0;32min\u001b[0m \u001b[0;34m(\u001b[0m\u001b[0;34m\"storage_options\"\u001b[0m\u001b[0;34m,\u001b[0m \u001b[0;34m\"encoding\"\u001b[0m\u001b[0;34m,\u001b[0m \u001b[0;34m\"memory_map\"\u001b[0m\u001b[0;34m,\u001b[0m \u001b[0;34m\"compression\"\u001b[0m\u001b[0;34m)\u001b[0m\u001b[0;34m:\u001b[0m\u001b[0;34m\u001b[0m\u001b[0;34m\u001b[0m\u001b[0m\n",
      "\u001b[0;32m~/miniconda3/envs/baum/lib/python3.8/site-packages/pandas/io/parsers.py\u001b[0m in \u001b[0;36m_open_handles\u001b[0;34m(self, src, kwds)\u001b[0m\n\u001b[1;32m   1360\u001b[0m         \u001b[0mLet\u001b[0m \u001b[0mthe\u001b[0m \u001b[0mreaders\u001b[0m \u001b[0mopen\u001b[0m \u001b[0mIOHanldes\u001b[0m \u001b[0mafter\u001b[0m \u001b[0mthey\u001b[0m \u001b[0mare\u001b[0m \u001b[0mdone\u001b[0m \u001b[0;32mwith\u001b[0m \u001b[0mtheir\u001b[0m \u001b[0mpotential\u001b[0m \u001b[0mraises\u001b[0m\u001b[0;34m.\u001b[0m\u001b[0;34m\u001b[0m\u001b[0;34m\u001b[0m\u001b[0m\n\u001b[1;32m   1361\u001b[0m         \"\"\"\n\u001b[0;32m-> 1362\u001b[0;31m         self.handles = get_handle(\n\u001b[0m\u001b[1;32m   1363\u001b[0m             \u001b[0msrc\u001b[0m\u001b[0;34m,\u001b[0m\u001b[0;34m\u001b[0m\u001b[0;34m\u001b[0m\u001b[0m\n\u001b[1;32m   1364\u001b[0m             \u001b[0;34m\"r\"\u001b[0m\u001b[0;34m,\u001b[0m\u001b[0;34m\u001b[0m\u001b[0;34m\u001b[0m\u001b[0m\n",
      "\u001b[0;32m~/miniconda3/envs/baum/lib/python3.8/site-packages/pandas/io/common.py\u001b[0m in \u001b[0;36mget_handle\u001b[0;34m(path_or_buf, mode, encoding, compression, memory_map, is_text, errors, storage_options)\u001b[0m\n\u001b[1;32m    640\u001b[0m                 \u001b[0merrors\u001b[0m \u001b[0;34m=\u001b[0m \u001b[0;34m\"replace\"\u001b[0m\u001b[0;34m\u001b[0m\u001b[0;34m\u001b[0m\u001b[0m\n\u001b[1;32m    641\u001b[0m             \u001b[0;31m# Encoding\u001b[0m\u001b[0;34m\u001b[0m\u001b[0;34m\u001b[0m\u001b[0;34m\u001b[0m\u001b[0m\n\u001b[0;32m--> 642\u001b[0;31m             handle = open(\n\u001b[0m\u001b[1;32m    643\u001b[0m                 \u001b[0mhandle\u001b[0m\u001b[0;34m,\u001b[0m\u001b[0;34m\u001b[0m\u001b[0;34m\u001b[0m\u001b[0m\n\u001b[1;32m    644\u001b[0m                 \u001b[0mioargs\u001b[0m\u001b[0;34m.\u001b[0m\u001b[0mmode\u001b[0m\u001b[0;34m,\u001b[0m\u001b[0;34m\u001b[0m\u001b[0;34m\u001b[0m\u001b[0m\n",
      "\u001b[0;31mFileNotFoundError\u001b[0m: [Errno 2] No such file or directory: '/nfs/dust/belle2/user/axelheim/MC_studies/Dstlnu_Bt_generic/appliedNNdata/8thRun/FSPs_df.csv'"
     ]
    }
   ],
   "source": [
    "df_Ups4S = pd.read_csv(nfs_path + \"Ups4S_df.csv\")\n",
    "df_FSPs = pd.read_csv(nfs_path + \"FSPs_df.csv\")\n",
    "#df_evt_counter = pd.read_csv(nfs_path + \"evt_counter_df.csv\")"
   ]
  },
  {
   "cell_type": "markdown",
   "metadata": {},
   "source": [
    "# Analysis"
   ]
  },
  {
   "cell_type": "code",
   "execution_count": 6,
   "metadata": {},
   "outputs": [
    {
     "data": {
      "text/plain": [
       "53142"
      ]
     },
     "execution_count": 6,
     "metadata": {},
     "output_type": "execute_result"
    }
   ],
   "source": [
    "df_Ups4S.groupby([\"__event__\",\"__production__\"]).ngroups"
   ]
  },
  {
   "cell_type": "markdown",
   "metadata": {},
   "source": [
    "## check DO decays"
   ]
  },
  {
   "cell_type": "code",
   "execution_count": 7,
   "metadata": {},
   "outputs": [],
   "source": [
    "df_Ups4S['Bsig_uniqParID'] = df_Ups4S.apply(whichBisSig_NAHS, axis=1)"
   ]
  },
  {
   "cell_type": "code",
   "execution_count": 8,
   "metadata": {},
   "outputs": [],
   "source": [
    "df_Ups4S['D0_decay'] = df_Ups4S.apply(D0_decay_type, axis=1)"
   ]
  },
  {
   "cell_type": "code",
   "execution_count": 9,
   "metadata": {},
   "outputs": [],
   "source": [
    "df_Ups4S[\"abs_m2RecoilSignalSide\"] = df_Ups4S[\"m2RecoilSignalSide\"].abs() \n",
    "#BCS_df = df_Ups4S.sort_values(\"abs_m2RecoilSignalSide\",ascending=True).drop_duplicates(subset=(\"__event__\"), keep='first')"
   ]
  },
  {
   "cell_type": "code",
   "execution_count": 10,
   "metadata": {},
   "outputs": [
    {
     "data": {
      "text/plain": [
       "notWanted     238952\n",
       "Kpipipipi0     44450\n",
       "Kpipi0         37673\n",
       "Kpipipi        23762\n",
       "Kpi             9240\n",
       "Name: D0_decay, dtype: int64"
      ]
     },
     "execution_count": 10,
     "metadata": {},
     "output_type": "execute_result"
    }
   ],
   "source": [
    "df_Ups4S['D0_decay'].value_counts()"
   ]
  },
  {
   "cell_type": "code",
   "execution_count": 11,
   "metadata": {},
   "outputs": [],
   "source": [
    "df_Ups4S = df_Ups4S[df_Ups4S['D0_decay'] != \"notWanted\"]"
   ]
  },
  {
   "cell_type": "code",
   "execution_count": 12,
   "metadata": {},
   "outputs": [],
   "source": [
    "df_FSPs = df_FSPs[df_FSPs['__event__'].isin(df_Ups4S[\"__event__\"])]"
   ]
  },
  {
   "cell_type": "markdown",
   "metadata": {},
   "source": [
    "## check for D* -> D0 pi"
   ]
  },
  {
   "cell_type": "code",
   "execution_count": 13,
   "metadata": {
    "scrolled": true
   },
   "outputs": [
    {
     "name": "stdout",
     "output_type": "stream",
     "text": [
      "115125\n",
      "16329\n",
      "281106\n"
     ]
    }
   ],
   "source": [
    "print(df_Ups4S.shape[0])\n",
    "print(df_Ups4S[\"__event__\"].nunique())\n",
    "print(df_FSPs.shape[0])"
   ]
  },
  {
   "cell_type": "code",
   "execution_count": 14,
   "metadata": {},
   "outputs": [],
   "source": [
    "tmp = df_Ups4S[((df_Ups4S[\"Bsig_uniqParID\"] == 83886081.0)  &\n",
    "            (df_Ups4S[\"genUp4S_PDG_0_0_0\"].abs() == 421.0)  & # 421=D0\n",
    "            (df_Ups4S[\"genUp4S_PDG_0_0_1\"].abs() == 211.0)  & # 211=pion\n",
    "            (df_Ups4S[\"genUp4S_PDG_0_0_2\"].isna() == True)   # no particle \n",
    "              |\n",
    "        ((df_Ups4S[\"Bsig_uniqParID\"] == 83886082.0)  &\n",
    "            (df_Ups4S[\"genUp4S_PDG_1_0_0\"].abs() == 421.0)  & # 421=D0\n",
    "            (df_Ups4S[\"genUp4S_PDG_1_0_1\"].abs() == 211.0)  & # 211=pion\n",
    "            (df_Ups4S[\"genUp4S_PDG_1_0_2\"].isna() == True)))] # no particle \n",
    "\n",
    "tmp_FSPs = df_FSPs[df_FSPs['__event__'].isin(df_Ups4S[\"__event__\"])]"
   ]
  },
  {
   "cell_type": "code",
   "execution_count": 15,
   "metadata": {
    "scrolled": true
   },
   "outputs": [
    {
     "name": "stdout",
     "output_type": "stream",
     "text": [
      "115035\n",
      "16312\n",
      "281106\n"
     ]
    }
   ],
   "source": [
    "print(tmp.shape[0])\n",
    "print(tmp[\"__event__\"].nunique())\n",
    "print(tmp_FSPs.shape[0])"
   ]
  },
  {
   "cell_type": "markdown",
   "metadata": {},
   "source": [
    "### add and check cols"
   ]
  },
  {
   "cell_type": "code",
   "execution_count": 16,
   "metadata": {},
   "outputs": [],
   "source": [
    "df_FSPs['B_ID'] = df_FSPs.apply(B_ID, axis=1)"
   ]
  },
  {
   "cell_type": "code",
   "execution_count": 17,
   "metadata": {},
   "outputs": [],
   "source": [
    "df_Ups4S['Bsig_uniqParID_pdMethod'] = df_Ups4S.apply(whichBisSig, axis=1)"
   ]
  },
  {
   "cell_type": "code",
   "execution_count": 18,
   "metadata": {},
   "outputs": [],
   "source": [
    "Hc_motherB_df = df_FSPs[df_FSPs[\"NN_prediction\"].isna() == True].drop_duplicates(subset=(\"__event__\"), keep='first')"
   ]
  },
  {
   "cell_type": "code",
   "execution_count": 19,
   "metadata": {},
   "outputs": [],
   "source": [
    "Hc_motherB_df[\"B_tag_ID\"] = Hc_motherB_df[\"B_ID\"]"
   ]
  },
  {
   "cell_type": "code",
   "execution_count": 20,
   "metadata": {},
   "outputs": [
    {
     "data": {
      "text/html": [
       "<div>\n",
       "<style scoped>\n",
       "    .dataframe tbody tr th:only-of-type {\n",
       "        vertical-align: middle;\n",
       "    }\n",
       "\n",
       "    .dataframe tbody tr th {\n",
       "        vertical-align: top;\n",
       "    }\n",
       "\n",
       "    .dataframe thead th {\n",
       "        text-align: right;\n",
       "    }\n",
       "</style>\n",
       "<table border=\"1\" class=\"dataframe\">\n",
       "  <thead>\n",
       "    <tr style=\"text-align: right;\">\n",
       "      <th></th>\n",
       "      <th>__event__</th>\n",
       "      <th>__production__</th>\n",
       "      <th>B_ID</th>\n",
       "      <th>B_tag_ID</th>\n",
       "      <th>NN_prediction</th>\n",
       "    </tr>\n",
       "  </thead>\n",
       "  <tbody>\n",
       "    <tr>\n",
       "      <th>4</th>\n",
       "      <td>2335906</td>\n",
       "      <td>16816</td>\n",
       "      <td>83886082</td>\n",
       "      <td>83886082</td>\n",
       "      <td>NaN</td>\n",
       "    </tr>\n",
       "    <tr>\n",
       "      <th>6</th>\n",
       "      <td>2336150</td>\n",
       "      <td>16816</td>\n",
       "      <td>83886082</td>\n",
       "      <td>83886082</td>\n",
       "      <td>NaN</td>\n",
       "    </tr>\n",
       "    <tr>\n",
       "      <th>16</th>\n",
       "      <td>3673649</td>\n",
       "      <td>16816</td>\n",
       "      <td>83886081</td>\n",
       "      <td>83886081</td>\n",
       "      <td>NaN</td>\n",
       "    </tr>\n",
       "    <tr>\n",
       "      <th>50</th>\n",
       "      <td>2422</td>\n",
       "      <td>16816</td>\n",
       "      <td>83886081</td>\n",
       "      <td>83886081</td>\n",
       "      <td>NaN</td>\n",
       "    </tr>\n",
       "    <tr>\n",
       "      <th>56</th>\n",
       "      <td>8666</td>\n",
       "      <td>16816</td>\n",
       "      <td>83886081</td>\n",
       "      <td>83886081</td>\n",
       "      <td>NaN</td>\n",
       "    </tr>\n",
       "    <tr>\n",
       "      <th>...</th>\n",
       "      <td>...</td>\n",
       "      <td>...</td>\n",
       "      <td>...</td>\n",
       "      <td>...</td>\n",
       "      <td>...</td>\n",
       "    </tr>\n",
       "    <tr>\n",
       "      <th>957950</th>\n",
       "      <td>5712335</td>\n",
       "      <td>16816</td>\n",
       "      <td>83886082</td>\n",
       "      <td>83886082</td>\n",
       "      <td>NaN</td>\n",
       "    </tr>\n",
       "    <tr>\n",
       "      <th>958043</th>\n",
       "      <td>477883</td>\n",
       "      <td>16816</td>\n",
       "      <td>83886081</td>\n",
       "      <td>83886081</td>\n",
       "      <td>NaN</td>\n",
       "    </tr>\n",
       "    <tr>\n",
       "      <th>958047</th>\n",
       "      <td>479935</td>\n",
       "      <td>16816</td>\n",
       "      <td>83886081</td>\n",
       "      <td>83886081</td>\n",
       "      <td>NaN</td>\n",
       "    </tr>\n",
       "    <tr>\n",
       "      <th>958154</th>\n",
       "      <td>6263451</td>\n",
       "      <td>16816</td>\n",
       "      <td>83886081</td>\n",
       "      <td>83886081</td>\n",
       "      <td>NaN</td>\n",
       "    </tr>\n",
       "    <tr>\n",
       "      <th>958231</th>\n",
       "      <td>7944775</td>\n",
       "      <td>16816</td>\n",
       "      <td>83886081</td>\n",
       "      <td>83886081</td>\n",
       "      <td>NaN</td>\n",
       "    </tr>\n",
       "  </tbody>\n",
       "</table>\n",
       "<p>16245 rows × 5 columns</p>\n",
       "</div>"
      ],
      "text/plain": [
       "        __event__  __production__      B_ID  B_tag_ID  NN_prediction\n",
       "4         2335906           16816  83886082  83886082            NaN\n",
       "6         2336150           16816  83886082  83886082            NaN\n",
       "16        3673649           16816  83886081  83886081            NaN\n",
       "50           2422           16816  83886081  83886081            NaN\n",
       "56           8666           16816  83886081  83886081            NaN\n",
       "...           ...             ...       ...       ...            ...\n",
       "957950    5712335           16816  83886082  83886082            NaN\n",
       "958043     477883           16816  83886081  83886081            NaN\n",
       "958047     479935           16816  83886081  83886081            NaN\n",
       "958154    6263451           16816  83886081  83886081            NaN\n",
       "958231    7944775           16816  83886081  83886081            NaN\n",
       "\n",
       "[16245 rows x 5 columns]"
      ]
     },
     "execution_count": 20,
     "metadata": {},
     "output_type": "execute_result"
    }
   ],
   "source": [
    "Hc_motherB_df[[\"__event__\",\"__production__\",\"B_ID\",\"B_tag_ID\",\"NN_prediction\"]]"
   ]
  },
  {
   "cell_type": "code",
   "execution_count": 21,
   "metadata": {
    "scrolled": true
   },
   "outputs": [
    {
     "data": {
      "text/plain": [
       "281106"
      ]
     },
     "execution_count": 21,
     "metadata": {},
     "output_type": "execute_result"
    }
   ],
   "source": [
    "df_FSPs.shape[0]"
   ]
  },
  {
   "cell_type": "code",
   "execution_count": 22,
   "metadata": {},
   "outputs": [],
   "source": [
    "df_FSPs = pd.merge(df_FSPs,Hc_motherB_df[[\"__event__\",\"__production__\",\"B_tag_ID\"]], on=[\"__event__\",\"__production__\"])"
   ]
  },
  {
   "cell_type": "code",
   "execution_count": 23,
   "metadata": {
    "scrolled": true
   },
   "outputs": [
    {
     "data": {
      "text/plain": [
       "279670"
      ]
     },
     "execution_count": 23,
     "metadata": {},
     "output_type": "execute_result"
    }
   ],
   "source": [
    "df_FSPs.shape[0]"
   ]
  },
  {
   "cell_type": "code",
   "execution_count": 24,
   "metadata": {},
   "outputs": [],
   "source": [
    "def labels(s):\n",
    "    label = -1\n",
    "    if int(s['B_ID']) == 0:\n",
    "        label = 0 # background, cause not related to MC Particles\n",
    "    else: \n",
    "        B_tagID = s['B_tag_ID']\n",
    "        \n",
    "        if int(s['B_ID']) == B_tagID:\n",
    "            label = 1 # X\n",
    "        else:\n",
    "            label = 2 # Bsig\n",
    "    return label\n",
    "df_FSPs['label'] = df_FSPs.apply(labels, axis=1)"
   ]
  },
  {
   "cell_type": "code",
   "execution_count": 25,
   "metadata": {},
   "outputs": [],
   "source": [
    "df_FSPs[\"correct_pred\"] = (df_FSPs[\"label\"] == df_FSPs[\"NN_prediction\"]).astype(int)"
   ]
  },
  {
   "cell_type": "code",
   "execution_count": 26,
   "metadata": {
    "scrolled": true
   },
   "outputs": [
    {
     "data": {
      "text/plain": [
       "count    279670.000000\n",
       "mean          0.620560\n",
       "std           0.485249\n",
       "min           0.000000\n",
       "25%           0.000000\n",
       "50%           1.000000\n",
       "75%           1.000000\n",
       "max           1.000000\n",
       "Name: correct_pred, dtype: float64"
      ]
     },
     "execution_count": 26,
     "metadata": {},
     "output_type": "execute_result"
    }
   ],
   "source": [
    "df_FSPs[\"correct_pred\"].describe()"
   ]
  },
  {
   "cell_type": "code",
   "execution_count": 27,
   "metadata": {
    "scrolled": false
   },
   "outputs": [
    {
     "data": {
      "text/html": [
       "<div>\n",
       "<style scoped>\n",
       "    .dataframe tbody tr th:only-of-type {\n",
       "        vertical-align: middle;\n",
       "    }\n",
       "\n",
       "    .dataframe tbody tr th {\n",
       "        vertical-align: top;\n",
       "    }\n",
       "\n",
       "    .dataframe thead th {\n",
       "        text-align: right;\n",
       "    }\n",
       "</style>\n",
       "<table border=\"1\" class=\"dataframe\">\n",
       "  <thead>\n",
       "    <tr style=\"text-align: right;\">\n",
       "      <th></th>\n",
       "      <th>__event__</th>\n",
       "      <th>B_ID</th>\n",
       "      <th>NN_prediction</th>\n",
       "      <th>B_tag_ID</th>\n",
       "      <th>label</th>\n",
       "    </tr>\n",
       "  </thead>\n",
       "  <tbody>\n",
       "    <tr>\n",
       "      <th>0</th>\n",
       "      <td>2335906</td>\n",
       "      <td>83886082</td>\n",
       "      <td>1.0</td>\n",
       "      <td>83886082</td>\n",
       "      <td>1</td>\n",
       "    </tr>\n",
       "    <tr>\n",
       "      <th>1</th>\n",
       "      <td>2335906</td>\n",
       "      <td>83886082</td>\n",
       "      <td>NaN</td>\n",
       "      <td>83886082</td>\n",
       "      <td>1</td>\n",
       "    </tr>\n",
       "    <tr>\n",
       "      <th>2</th>\n",
       "      <td>2335906</td>\n",
       "      <td>83886081</td>\n",
       "      <td>2.0</td>\n",
       "      <td>83886082</td>\n",
       "      <td>2</td>\n",
       "    </tr>\n",
       "    <tr>\n",
       "      <th>3</th>\n",
       "      <td>2335906</td>\n",
       "      <td>83886082</td>\n",
       "      <td>NaN</td>\n",
       "      <td>83886082</td>\n",
       "      <td>1</td>\n",
       "    </tr>\n",
       "    <tr>\n",
       "      <th>4</th>\n",
       "      <td>2335906</td>\n",
       "      <td>0</td>\n",
       "      <td>0.0</td>\n",
       "      <td>83886082</td>\n",
       "      <td>0</td>\n",
       "    </tr>\n",
       "    <tr>\n",
       "      <th>5</th>\n",
       "      <td>2335906</td>\n",
       "      <td>83886082</td>\n",
       "      <td>NaN</td>\n",
       "      <td>83886082</td>\n",
       "      <td>1</td>\n",
       "    </tr>\n",
       "    <tr>\n",
       "      <th>6</th>\n",
       "      <td>2335906</td>\n",
       "      <td>83886082</td>\n",
       "      <td>1.0</td>\n",
       "      <td>83886082</td>\n",
       "      <td>1</td>\n",
       "    </tr>\n",
       "    <tr>\n",
       "      <th>7</th>\n",
       "      <td>2335906</td>\n",
       "      <td>83886081</td>\n",
       "      <td>2.0</td>\n",
       "      <td>83886082</td>\n",
       "      <td>2</td>\n",
       "    </tr>\n",
       "    <tr>\n",
       "      <th>8</th>\n",
       "      <td>2335906</td>\n",
       "      <td>83886082</td>\n",
       "      <td>1.0</td>\n",
       "      <td>83886082</td>\n",
       "      <td>1</td>\n",
       "    </tr>\n",
       "    <tr>\n",
       "      <th>9</th>\n",
       "      <td>2335906</td>\n",
       "      <td>83886082</td>\n",
       "      <td>1.0</td>\n",
       "      <td>83886082</td>\n",
       "      <td>1</td>\n",
       "    </tr>\n",
       "    <tr>\n",
       "      <th>10</th>\n",
       "      <td>2335906</td>\n",
       "      <td>83886081</td>\n",
       "      <td>2.0</td>\n",
       "      <td>83886082</td>\n",
       "      <td>2</td>\n",
       "    </tr>\n",
       "    <tr>\n",
       "      <th>11</th>\n",
       "      <td>2335906</td>\n",
       "      <td>83886081</td>\n",
       "      <td>2.0</td>\n",
       "      <td>83886082</td>\n",
       "      <td>2</td>\n",
       "    </tr>\n",
       "    <tr>\n",
       "      <th>12</th>\n",
       "      <td>2335906</td>\n",
       "      <td>83886082</td>\n",
       "      <td>2.0</td>\n",
       "      <td>83886082</td>\n",
       "      <td>1</td>\n",
       "    </tr>\n",
       "    <tr>\n",
       "      <th>13</th>\n",
       "      <td>2335906</td>\n",
       "      <td>83886082</td>\n",
       "      <td>1.0</td>\n",
       "      <td>83886082</td>\n",
       "      <td>1</td>\n",
       "    </tr>\n",
       "    <tr>\n",
       "      <th>14</th>\n",
       "      <td>2335906</td>\n",
       "      <td>83886081</td>\n",
       "      <td>2.0</td>\n",
       "      <td>83886082</td>\n",
       "      <td>2</td>\n",
       "    </tr>\n",
       "    <tr>\n",
       "      <th>15</th>\n",
       "      <td>2335906</td>\n",
       "      <td>83886081</td>\n",
       "      <td>2.0</td>\n",
       "      <td>83886082</td>\n",
       "      <td>2</td>\n",
       "    </tr>\n",
       "    <tr>\n",
       "      <th>16</th>\n",
       "      <td>2336150</td>\n",
       "      <td>83886082</td>\n",
       "      <td>NaN</td>\n",
       "      <td>83886082</td>\n",
       "      <td>1</td>\n",
       "    </tr>\n",
       "    <tr>\n",
       "      <th>17</th>\n",
       "      <td>2336150</td>\n",
       "      <td>83886082</td>\n",
       "      <td>NaN</td>\n",
       "      <td>83886082</td>\n",
       "      <td>1</td>\n",
       "    </tr>\n",
       "    <tr>\n",
       "      <th>18</th>\n",
       "      <td>2336150</td>\n",
       "      <td>83886081</td>\n",
       "      <td>2.0</td>\n",
       "      <td>83886082</td>\n",
       "      <td>2</td>\n",
       "    </tr>\n",
       "    <tr>\n",
       "      <th>19</th>\n",
       "      <td>2336150</td>\n",
       "      <td>83886082</td>\n",
       "      <td>1.0</td>\n",
       "      <td>83886082</td>\n",
       "      <td>1</td>\n",
       "    </tr>\n",
       "  </tbody>\n",
       "</table>\n",
       "</div>"
      ],
      "text/plain": [
       "    __event__      B_ID  NN_prediction  B_tag_ID  label\n",
       "0     2335906  83886082            1.0  83886082      1\n",
       "1     2335906  83886082            NaN  83886082      1\n",
       "2     2335906  83886081            2.0  83886082      2\n",
       "3     2335906  83886082            NaN  83886082      1\n",
       "4     2335906         0            0.0  83886082      0\n",
       "5     2335906  83886082            NaN  83886082      1\n",
       "6     2335906  83886082            1.0  83886082      1\n",
       "7     2335906  83886081            2.0  83886082      2\n",
       "8     2335906  83886082            1.0  83886082      1\n",
       "9     2335906  83886082            1.0  83886082      1\n",
       "10    2335906  83886081            2.0  83886082      2\n",
       "11    2335906  83886081            2.0  83886082      2\n",
       "12    2335906  83886082            2.0  83886082      1\n",
       "13    2335906  83886082            1.0  83886082      1\n",
       "14    2335906  83886081            2.0  83886082      2\n",
       "15    2335906  83886081            2.0  83886082      2\n",
       "16    2336150  83886082            NaN  83886082      1\n",
       "17    2336150  83886082            NaN  83886082      1\n",
       "18    2336150  83886081            2.0  83886082      2\n",
       "19    2336150  83886082            1.0  83886082      1"
      ]
     },
     "execution_count": 27,
     "metadata": {},
     "output_type": "execute_result"
    }
   ],
   "source": [
    "df_FSPs[[\"__event__\",\"B_ID\",\"NN_prediction\",\"B_tag_ID\",\"label\"]][:20]"
   ]
  },
  {
   "cell_type": "markdown",
   "metadata": {},
   "source": [
    "## see correct prediction rate of NN"
   ]
  },
  {
   "cell_type": "code",
   "execution_count": 28,
   "metadata": {},
   "outputs": [
    {
     "data": {
      "text/plain": [
       "count    279670.000000\n",
       "mean          0.620560\n",
       "std           0.485249\n",
       "min           0.000000\n",
       "25%           0.000000\n",
       "50%           1.000000\n",
       "75%           1.000000\n",
       "max           1.000000\n",
       "Name: correct_pred, dtype: float64"
      ]
     },
     "execution_count": 28,
     "metadata": {},
     "output_type": "execute_result"
    }
   ],
   "source": [
    "df_FSPs[\"correct_pred\"].describe()"
   ]
  },
  {
   "cell_type": "code",
   "execution_count": 29,
   "metadata": {},
   "outputs": [
    {
     "data": {
      "text/plain": [
       "count    226669.000000\n",
       "mean          1.277210\n",
       "std           0.759864\n",
       "min           0.000000\n",
       "25%           1.000000\n",
       "50%           1.000000\n",
       "75%           2.000000\n",
       "max           2.000000\n",
       "Name: NN_prediction, dtype: float64"
      ]
     },
     "execution_count": 29,
     "metadata": {},
     "output_type": "execute_result"
    }
   ],
   "source": [
    "df_FSPs[\"NN_prediction\"].describe()"
   ]
  },
  {
   "cell_type": "code",
   "execution_count": 30,
   "metadata": {},
   "outputs": [
    {
     "data": {
      "text/plain": [
       "0.8104873601029785"
      ]
     },
     "execution_count": 30,
     "metadata": {},
     "output_type": "execute_result"
    }
   ],
   "source": [
    "df_FSPs[df_FSPs[\"NN_prediction\"].notna() == True].shape[0]/df_FSPs.shape[0]"
   ]
  },
  {
   "cell_type": "code",
   "execution_count": 31,
   "metadata": {},
   "outputs": [],
   "source": [
    "nonHc_FSPs = df_FSPs[df_FSPs[\"NN_prediction\"].notna() == True]"
   ]
  },
  {
   "cell_type": "code",
   "execution_count": 32,
   "metadata": {},
   "outputs": [
    {
     "data": {
      "text/plain": [
       "1.0"
      ]
     },
     "execution_count": 32,
     "metadata": {},
     "output_type": "execute_result"
    }
   ],
   "source": [
    "nonHc_FSPs[nonHc_FSPs[\"NN_prediction\"].notna() == True].shape[0]/nonHc_FSPs.shape[0]"
   ]
  },
  {
   "cell_type": "code",
   "execution_count": 33,
   "metadata": {},
   "outputs": [
    {
     "data": {
      "text/plain": [
       "count    226669.000000\n",
       "mean          0.765663\n",
       "std           0.423585\n",
       "min           0.000000\n",
       "25%           1.000000\n",
       "50%           1.000000\n",
       "75%           1.000000\n",
       "max           1.000000\n",
       "Name: correct_pred, dtype: float64"
      ]
     },
     "execution_count": 33,
     "metadata": {},
     "output_type": "execute_result"
    }
   ],
   "source": [
    "nonHc_FSPs[\"correct_pred\"].describe()"
   ]
  },
  {
   "cell_type": "code",
   "execution_count": 34,
   "metadata": {},
   "outputs": [
    {
     "data": {
      "text/plain": [
       "226669"
      ]
     },
     "execution_count": 34,
     "metadata": {},
     "output_type": "execute_result"
    }
   ],
   "source": [
    "nonHc_FSPs.shape[0]"
   ]
  },
  {
   "cell_type": "markdown",
   "metadata": {},
   "source": [
    "## lepton based truth matching"
   ]
  },
  {
   "cell_type": "code",
   "execution_count": 35,
   "metadata": {},
   "outputs": [
    {
     "data": {
      "text/plain": [
       " 511.0       43131\n",
       "-511.0       42934\n",
       " 223.0        4943\n",
       "-421.0        2786\n",
       " 22.0         2467\n",
       "             ...  \n",
       "-4112.0          2\n",
       " 13.0            2\n",
       "-2214.0          2\n",
       " 100443.0        2\n",
       "-3114.0          2\n",
       "Name: lep_motherPDG, Length: 73, dtype: int64"
      ]
     },
     "execution_count": 35,
     "metadata": {},
     "output_type": "execute_result"
    }
   ],
   "source": [
    "df_Ups4S[\"lep_motherPDG\"].value_counts()"
   ]
  },
  {
   "cell_type": "code",
   "execution_count": 36,
   "metadata": {},
   "outputs": [
    {
     "data": {
      "text/plain": [
       "-13.0    32629\n",
       " 13.0    30957\n",
       "-11.0    25991\n",
       " 11.0    25548\n",
       "Name: lep_PDG, dtype: int64"
      ]
     },
     "execution_count": 36,
     "metadata": {},
     "output_type": "execute_result"
    }
   ],
   "source": [
    "df_Ups4S[\"lep_PDG\"].value_counts()"
   ]
  },
  {
   "cell_type": "code",
   "execution_count": 37,
   "metadata": {},
   "outputs": [
    {
     "data": {
      "text/plain": [
       "-13.0      23815\n",
       " 13.0      23123\n",
       "-11.0      23048\n",
       " 11.0      22808\n",
       " 211.0     10405\n",
       "-211.0     10132\n",
       "-321.0       304\n",
       " 321.0       252\n",
       " 2212.0       26\n",
       "-2212.0        4\n",
       "Name: lep_mcPDG, dtype: int64"
      ]
     },
     "execution_count": 37,
     "metadata": {},
     "output_type": "execute_result"
    }
   ],
   "source": [
    "df_Ups4S[\"lep_mcPDG\"].value_counts()"
   ]
  },
  {
   "cell_type": "code",
   "execution_count": 38,
   "metadata": {},
   "outputs": [],
   "source": [
    "def lep_typeMC(s):\n",
    "    label = \"none\"\n",
    "    if np.isnan(s[\"lep_mcPDG\"]) == True:\n",
    "        return label\n",
    "    \n",
    "    abs_lep_mcPDG = int(abs(s[\"lep_mcPDG\"]))\n",
    "    if abs_lep_mcPDG == 13:\n",
    "        label = \"mu\"\n",
    "    elif abs_lep_mcPDG == 11:\n",
    "        label = \"e\" \n",
    "    return label\n",
    "\n",
    "df_Ups4S['lep_typeMC'] = df_Ups4S.apply(lep_typeMC, axis=1)\n",
    "\n",
    "def lep_type(s):\n",
    "    label = \"none\"\n",
    "    if np.isnan(s[\"lep_PDG\"]) == True:\n",
    "        return label\n",
    "    \n",
    "    abs_lep_PDG = int(abs(s[\"lep_PDG\"]))\n",
    "    if abs_lep_PDG == 13:\n",
    "        label = \"mu\"\n",
    "    elif abs_lep_PDG == 11:\n",
    "        label = \"e\" \n",
    "    return label\n",
    "df_Ups4S['lep_type'] = df_Ups4S.apply(lep_type, axis=1)"
   ]
  },
  {
   "cell_type": "code",
   "execution_count": 39,
   "metadata": {},
   "outputs": [
    {
     "data": {
      "text/plain": [
       "mu      46938\n",
       "e       45856\n",
       "none    22331\n",
       "Name: lep_typeMC, dtype: int64"
      ]
     },
     "execution_count": 39,
     "metadata": {},
     "output_type": "execute_result"
    }
   ],
   "source": [
    "df_Ups4S['lep_typeMC'].value_counts()"
   ]
  },
  {
   "cell_type": "code",
   "execution_count": 40,
   "metadata": {},
   "outputs": [
    {
     "data": {
      "text/html": [
       "<div>\n",
       "<style scoped>\n",
       "    .dataframe tbody tr th:only-of-type {\n",
       "        vertical-align: middle;\n",
       "    }\n",
       "\n",
       "    .dataframe tbody tr th {\n",
       "        vertical-align: top;\n",
       "    }\n",
       "\n",
       "    .dataframe thead th {\n",
       "        text-align: right;\n",
       "    }\n",
       "</style>\n",
       "<table border=\"1\" class=\"dataframe\">\n",
       "  <thead>\n",
       "    <tr style=\"text-align: right;\">\n",
       "      <th></th>\n",
       "      <th>lep_typeMC</th>\n",
       "      <th>lep_type</th>\n",
       "      <th>count</th>\n",
       "    </tr>\n",
       "  </thead>\n",
       "  <tbody>\n",
       "    <tr>\n",
       "      <th>0</th>\n",
       "      <td>e</td>\n",
       "      <td>e</td>\n",
       "      <td>44915</td>\n",
       "    </tr>\n",
       "    <tr>\n",
       "      <th>1</th>\n",
       "      <td>e</td>\n",
       "      <td>mu</td>\n",
       "      <td>941</td>\n",
       "    </tr>\n",
       "    <tr>\n",
       "      <th>2</th>\n",
       "      <td>mu</td>\n",
       "      <td>e</td>\n",
       "      <td>1095</td>\n",
       "    </tr>\n",
       "    <tr>\n",
       "      <th>3</th>\n",
       "      <td>mu</td>\n",
       "      <td>mu</td>\n",
       "      <td>45843</td>\n",
       "    </tr>\n",
       "    <tr>\n",
       "      <th>4</th>\n",
       "      <td>none</td>\n",
       "      <td>e</td>\n",
       "      <td>5529</td>\n",
       "    </tr>\n",
       "    <tr>\n",
       "      <th>5</th>\n",
       "      <td>none</td>\n",
       "      <td>mu</td>\n",
       "      <td>16802</td>\n",
       "    </tr>\n",
       "  </tbody>\n",
       "</table>\n",
       "</div>"
      ],
      "text/plain": [
       "  lep_typeMC lep_type  count\n",
       "0          e        e  44915\n",
       "1          e       mu    941\n",
       "2         mu        e   1095\n",
       "3         mu       mu  45843\n",
       "4       none        e   5529\n",
       "5       none       mu  16802"
      ]
     },
     "execution_count": 40,
     "metadata": {},
     "output_type": "execute_result"
    }
   ],
   "source": [
    "groups_lep = pd.DataFrame({'count' : df_Ups4S.groupby( [\"lep_typeMC\",\"lep_type\"] ).size()}).reset_index()\n",
    "groups_lep"
   ]
  },
  {
   "cell_type": "code",
   "execution_count": 41,
   "metadata": {},
   "outputs": [],
   "source": [
    "def lep_MC_truth(s):\n",
    "    label = 0\n",
    "    if np.isnan(s[\"lep_motherPDG\"]) == True:\n",
    "        return label\n",
    "    if s[\"lep_typeMC\"] == \"none\":\n",
    "        return label\n",
    "    \n",
    "    abs_lep_motherPDG = int(abs(s[\"lep_motherPDG\"]))\n",
    "    if abs_lep_motherPDG == 511:\n",
    "        label = 1\n",
    "   \n",
    "    return label\n",
    "\n",
    "df_Ups4S['lep_MC_truth'] = df_Ups4S.apply(lep_MC_truth, axis=1)"
   ]
  },
  {
   "cell_type": "code",
   "execution_count": 42,
   "metadata": {},
   "outputs": [
    {
     "data": {
      "text/html": [
       "<div>\n",
       "<style scoped>\n",
       "    .dataframe tbody tr th:only-of-type {\n",
       "        vertical-align: middle;\n",
       "    }\n",
       "\n",
       "    .dataframe tbody tr th {\n",
       "        vertical-align: top;\n",
       "    }\n",
       "\n",
       "    .dataframe thead th {\n",
       "        text-align: right;\n",
       "    }\n",
       "</style>\n",
       "<table border=\"1\" class=\"dataframe\">\n",
       "  <thead>\n",
       "    <tr style=\"text-align: right;\">\n",
       "      <th></th>\n",
       "      <th>__experiment__</th>\n",
       "      <th>__run__</th>\n",
       "      <th>__event__</th>\n",
       "      <th>__production__</th>\n",
       "      <th>__candidate__</th>\n",
       "      <th>__ncandidates__</th>\n",
       "      <th>__weight__</th>\n",
       "      <th>m2RecoilSignalSide</th>\n",
       "      <th>foxWolframR2_maskedNaN</th>\n",
       "      <th>foxWolframR2</th>\n",
       "      <th>...</th>\n",
       "      <th>Dst_DeltaM</th>\n",
       "      <th>Dst_isSignal</th>\n",
       "      <th>roeE_ofUps4S</th>\n",
       "      <th>E_predicted_bg_gammas</th>\n",
       "      <th>D0_decay</th>\n",
       "      <th>abs_m2RecoilSignalSide</th>\n",
       "      <th>Bsig_uniqParID_pdMethod</th>\n",
       "      <th>lep_typeMC</th>\n",
       "      <th>lep_type</th>\n",
       "      <th>lep_MC_truth</th>\n",
       "    </tr>\n",
       "  </thead>\n",
       "  <tbody>\n",
       "    <tr>\n",
       "      <th>2</th>\n",
       "      <td>1003</td>\n",
       "      <td>0</td>\n",
       "      <td>2335906</td>\n",
       "      <td>16816</td>\n",
       "      <td>0</td>\n",
       "      <td>6</td>\n",
       "      <td>1.0</td>\n",
       "      <td>9.494061</td>\n",
       "      <td>0.160597</td>\n",
       "      <td>0.160597</td>\n",
       "      <td>...</td>\n",
       "      <td>0.235592</td>\n",
       "      <td>0.0</td>\n",
       "      <td>2.006455</td>\n",
       "      <td>0.057284</td>\n",
       "      <td>Kpipipipi0</td>\n",
       "      <td>9.494061</td>\n",
       "      <td>83886081.0</td>\n",
       "      <td>none</td>\n",
       "      <td>mu</td>\n",
       "      <td>0</td>\n",
       "    </tr>\n",
       "    <tr>\n",
       "      <th>3</th>\n",
       "      <td>1003</td>\n",
       "      <td>0</td>\n",
       "      <td>2335906</td>\n",
       "      <td>16816</td>\n",
       "      <td>1</td>\n",
       "      <td>6</td>\n",
       "      <td>1.0</td>\n",
       "      <td>9.494060</td>\n",
       "      <td>0.160597</td>\n",
       "      <td>0.160597</td>\n",
       "      <td>...</td>\n",
       "      <td>0.423781</td>\n",
       "      <td>0.0</td>\n",
       "      <td>2.006455</td>\n",
       "      <td>0.057284</td>\n",
       "      <td>Kpipipipi0</td>\n",
       "      <td>9.494060</td>\n",
       "      <td>83886081.0</td>\n",
       "      <td>none</td>\n",
       "      <td>mu</td>\n",
       "      <td>0</td>\n",
       "    </tr>\n",
       "    <tr>\n",
       "      <th>4</th>\n",
       "      <td>1003</td>\n",
       "      <td>0</td>\n",
       "      <td>2335906</td>\n",
       "      <td>16816</td>\n",
       "      <td>2</td>\n",
       "      <td>6</td>\n",
       "      <td>1.0</td>\n",
       "      <td>7.148964</td>\n",
       "      <td>0.160597</td>\n",
       "      <td>0.160597</td>\n",
       "      <td>...</td>\n",
       "      <td>0.235592</td>\n",
       "      <td>0.0</td>\n",
       "      <td>1.647233</td>\n",
       "      <td>0.057284</td>\n",
       "      <td>Kpipipipi0</td>\n",
       "      <td>7.148964</td>\n",
       "      <td>83886081.0</td>\n",
       "      <td>mu</td>\n",
       "      <td>mu</td>\n",
       "      <td>1</td>\n",
       "    </tr>\n",
       "    <tr>\n",
       "      <th>5</th>\n",
       "      <td>1003</td>\n",
       "      <td>0</td>\n",
       "      <td>2335906</td>\n",
       "      <td>16816</td>\n",
       "      <td>3</td>\n",
       "      <td>6</td>\n",
       "      <td>1.0</td>\n",
       "      <td>7.148963</td>\n",
       "      <td>0.160597</td>\n",
       "      <td>0.160597</td>\n",
       "      <td>...</td>\n",
       "      <td>0.423781</td>\n",
       "      <td>0.0</td>\n",
       "      <td>1.647233</td>\n",
       "      <td>0.057284</td>\n",
       "      <td>Kpipipipi0</td>\n",
       "      <td>7.148963</td>\n",
       "      <td>83886081.0</td>\n",
       "      <td>mu</td>\n",
       "      <td>mu</td>\n",
       "      <td>1</td>\n",
       "    </tr>\n",
       "    <tr>\n",
       "      <th>6</th>\n",
       "      <td>1003</td>\n",
       "      <td>0</td>\n",
       "      <td>2335906</td>\n",
       "      <td>16816</td>\n",
       "      <td>4</td>\n",
       "      <td>6</td>\n",
       "      <td>1.0</td>\n",
       "      <td>13.090592</td>\n",
       "      <td>0.160597</td>\n",
       "      <td>0.160597</td>\n",
       "      <td>...</td>\n",
       "      <td>0.235592</td>\n",
       "      <td>0.0</td>\n",
       "      <td>2.310392</td>\n",
       "      <td>0.057284</td>\n",
       "      <td>Kpipipipi0</td>\n",
       "      <td>13.090592</td>\n",
       "      <td>83886081.0</td>\n",
       "      <td>none</td>\n",
       "      <td>mu</td>\n",
       "      <td>0</td>\n",
       "    </tr>\n",
       "    <tr>\n",
       "      <th>...</th>\n",
       "      <td>...</td>\n",
       "      <td>...</td>\n",
       "      <td>...</td>\n",
       "      <td>...</td>\n",
       "      <td>...</td>\n",
       "      <td>...</td>\n",
       "      <td>...</td>\n",
       "      <td>...</td>\n",
       "      <td>...</td>\n",
       "      <td>...</td>\n",
       "      <td>...</td>\n",
       "      <td>...</td>\n",
       "      <td>...</td>\n",
       "      <td>...</td>\n",
       "      <td>...</td>\n",
       "      <td>...</td>\n",
       "      <td>...</td>\n",
       "      <td>...</td>\n",
       "      <td>...</td>\n",
       "      <td>...</td>\n",
       "      <td>...</td>\n",
       "    </tr>\n",
       "    <tr>\n",
       "      <th>354068</th>\n",
       "      <td>1003</td>\n",
       "      <td>0</td>\n",
       "      <td>7943635</td>\n",
       "      <td>16816</td>\n",
       "      <td>7</td>\n",
       "      <td>8</td>\n",
       "      <td>1.0</td>\n",
       "      <td>-1.452860</td>\n",
       "      <td>0.006465</td>\n",
       "      <td>0.006465</td>\n",
       "      <td>...</td>\n",
       "      <td>0.391093</td>\n",
       "      <td>NaN</td>\n",
       "      <td>1.247657</td>\n",
       "      <td>0.117441</td>\n",
       "      <td>Kpipipipi0</td>\n",
       "      <td>1.452860</td>\n",
       "      <td>83886082.0</td>\n",
       "      <td>mu</td>\n",
       "      <td>mu</td>\n",
       "      <td>1</td>\n",
       "    </tr>\n",
       "    <tr>\n",
       "      <th>354073</th>\n",
       "      <td>1003</td>\n",
       "      <td>0</td>\n",
       "      <td>7944775</td>\n",
       "      <td>16816</td>\n",
       "      <td>0</td>\n",
       "      <td>4</td>\n",
       "      <td>1.0</td>\n",
       "      <td>5.924660</td>\n",
       "      <td>0.141974</td>\n",
       "      <td>0.141974</td>\n",
       "      <td>...</td>\n",
       "      <td>0.554516</td>\n",
       "      <td>0.0</td>\n",
       "      <td>3.933990</td>\n",
       "      <td>0.393678</td>\n",
       "      <td>Kpi</td>\n",
       "      <td>5.924660</td>\n",
       "      <td>83886081.0</td>\n",
       "      <td>none</td>\n",
       "      <td>mu</td>\n",
       "      <td>0</td>\n",
       "    </tr>\n",
       "    <tr>\n",
       "      <th>354074</th>\n",
       "      <td>1003</td>\n",
       "      <td>0</td>\n",
       "      <td>7944775</td>\n",
       "      <td>16816</td>\n",
       "      <td>1</td>\n",
       "      <td>4</td>\n",
       "      <td>1.0</td>\n",
       "      <td>2.043710</td>\n",
       "      <td>0.141974</td>\n",
       "      <td>0.141974</td>\n",
       "      <td>...</td>\n",
       "      <td>0.747978</td>\n",
       "      <td>0.0</td>\n",
       "      <td>3.283109</td>\n",
       "      <td>0.393678</td>\n",
       "      <td>Kpi</td>\n",
       "      <td>2.043710</td>\n",
       "      <td>83886081.0</td>\n",
       "      <td>none</td>\n",
       "      <td>mu</td>\n",
       "      <td>0</td>\n",
       "    </tr>\n",
       "    <tr>\n",
       "      <th>354075</th>\n",
       "      <td>1003</td>\n",
       "      <td>0</td>\n",
       "      <td>7944775</td>\n",
       "      <td>16816</td>\n",
       "      <td>2</td>\n",
       "      <td>4</td>\n",
       "      <td>1.0</td>\n",
       "      <td>5.924659</td>\n",
       "      <td>0.141974</td>\n",
       "      <td>0.141974</td>\n",
       "      <td>...</td>\n",
       "      <td>0.192359</td>\n",
       "      <td>0.0</td>\n",
       "      <td>3.933990</td>\n",
       "      <td>0.393678</td>\n",
       "      <td>Kpi</td>\n",
       "      <td>5.924659</td>\n",
       "      <td>83886081.0</td>\n",
       "      <td>none</td>\n",
       "      <td>mu</td>\n",
       "      <td>0</td>\n",
       "    </tr>\n",
       "    <tr>\n",
       "      <th>354076</th>\n",
       "      <td>1003</td>\n",
       "      <td>0</td>\n",
       "      <td>7944775</td>\n",
       "      <td>16816</td>\n",
       "      <td>3</td>\n",
       "      <td>4</td>\n",
       "      <td>1.0</td>\n",
       "      <td>2.043710</td>\n",
       "      <td>0.141974</td>\n",
       "      <td>0.141974</td>\n",
       "      <td>...</td>\n",
       "      <td>0.245770</td>\n",
       "      <td>0.0</td>\n",
       "      <td>3.283109</td>\n",
       "      <td>0.393678</td>\n",
       "      <td>Kpi</td>\n",
       "      <td>2.043710</td>\n",
       "      <td>83886081.0</td>\n",
       "      <td>none</td>\n",
       "      <td>mu</td>\n",
       "      <td>0</td>\n",
       "    </tr>\n",
       "  </tbody>\n",
       "</table>\n",
       "<p>115125 rows × 412 columns</p>\n",
       "</div>"
      ],
      "text/plain": [
       "        __experiment__  __run__  __event__  __production__  __candidate__  \\\n",
       "2                 1003        0    2335906           16816              0   \n",
       "3                 1003        0    2335906           16816              1   \n",
       "4                 1003        0    2335906           16816              2   \n",
       "5                 1003        0    2335906           16816              3   \n",
       "6                 1003        0    2335906           16816              4   \n",
       "...                ...      ...        ...             ...            ...   \n",
       "354068            1003        0    7943635           16816              7   \n",
       "354073            1003        0    7944775           16816              0   \n",
       "354074            1003        0    7944775           16816              1   \n",
       "354075            1003        0    7944775           16816              2   \n",
       "354076            1003        0    7944775           16816              3   \n",
       "\n",
       "        __ncandidates__  __weight__  m2RecoilSignalSide  \\\n",
       "2                     6         1.0            9.494061   \n",
       "3                     6         1.0            9.494060   \n",
       "4                     6         1.0            7.148964   \n",
       "5                     6         1.0            7.148963   \n",
       "6                     6         1.0           13.090592   \n",
       "...                 ...         ...                 ...   \n",
       "354068                8         1.0           -1.452860   \n",
       "354073                4         1.0            5.924660   \n",
       "354074                4         1.0            2.043710   \n",
       "354075                4         1.0            5.924659   \n",
       "354076                4         1.0            2.043710   \n",
       "\n",
       "        foxWolframR2_maskedNaN  foxWolframR2  ...  Dst_DeltaM  Dst_isSignal  \\\n",
       "2                     0.160597      0.160597  ...    0.235592           0.0   \n",
       "3                     0.160597      0.160597  ...    0.423781           0.0   \n",
       "4                     0.160597      0.160597  ...    0.235592           0.0   \n",
       "5                     0.160597      0.160597  ...    0.423781           0.0   \n",
       "6                     0.160597      0.160597  ...    0.235592           0.0   \n",
       "...                        ...           ...  ...         ...           ...   \n",
       "354068                0.006465      0.006465  ...    0.391093           NaN   \n",
       "354073                0.141974      0.141974  ...    0.554516           0.0   \n",
       "354074                0.141974      0.141974  ...    0.747978           0.0   \n",
       "354075                0.141974      0.141974  ...    0.192359           0.0   \n",
       "354076                0.141974      0.141974  ...    0.245770           0.0   \n",
       "\n",
       "        roeE_ofUps4S  E_predicted_bg_gammas    D0_decay  \\\n",
       "2           2.006455               0.057284  Kpipipipi0   \n",
       "3           2.006455               0.057284  Kpipipipi0   \n",
       "4           1.647233               0.057284  Kpipipipi0   \n",
       "5           1.647233               0.057284  Kpipipipi0   \n",
       "6           2.310392               0.057284  Kpipipipi0   \n",
       "...              ...                    ...         ...   \n",
       "354068      1.247657               0.117441  Kpipipipi0   \n",
       "354073      3.933990               0.393678         Kpi   \n",
       "354074      3.283109               0.393678         Kpi   \n",
       "354075      3.933990               0.393678         Kpi   \n",
       "354076      3.283109               0.393678         Kpi   \n",
       "\n",
       "        abs_m2RecoilSignalSide  Bsig_uniqParID_pdMethod  lep_typeMC  lep_type  \\\n",
       "2                     9.494061               83886081.0        none        mu   \n",
       "3                     9.494060               83886081.0        none        mu   \n",
       "4                     7.148964               83886081.0          mu        mu   \n",
       "5                     7.148963               83886081.0          mu        mu   \n",
       "6                    13.090592               83886081.0        none        mu   \n",
       "...                        ...                      ...         ...       ...   \n",
       "354068                1.452860               83886082.0          mu        mu   \n",
       "354073                5.924660               83886081.0        none        mu   \n",
       "354074                2.043710               83886081.0        none        mu   \n",
       "354075                5.924659               83886081.0        none        mu   \n",
       "354076                2.043710               83886081.0        none        mu   \n",
       "\n",
       "        lep_MC_truth  \n",
       "2                  0  \n",
       "3                  0  \n",
       "4                  1  \n",
       "5                  1  \n",
       "6                  0  \n",
       "...              ...  \n",
       "354068             1  \n",
       "354073             0  \n",
       "354074             0  \n",
       "354075             0  \n",
       "354076             0  \n",
       "\n",
       "[115125 rows x 412 columns]"
      ]
     },
     "execution_count": 42,
     "metadata": {},
     "output_type": "execute_result"
    }
   ],
   "source": [
    "df_Ups4S['lep_MC_truth']\n",
    "df_Ups4S[\"lep_MC_truth\"]\n",
    "df_Ups4S"
   ]
  },
  {
   "cell_type": "code",
   "execution_count": 43,
   "metadata": {},
   "outputs": [
    {
     "data": {
      "text/plain": [
       "count    115125.000000\n",
       "mean          0.728712\n",
       "std           0.444626\n",
       "min           0.000000\n",
       "25%           0.000000\n",
       "50%           1.000000\n",
       "75%           1.000000\n",
       "max           1.000000\n",
       "Name: lep_MC_truth, dtype: float64"
      ]
     },
     "execution_count": 43,
     "metadata": {},
     "output_type": "execute_result"
    }
   ],
   "source": [
    "df_Ups4S['lep_MC_truth'].describe()"
   ]
  },
  {
   "cell_type": "code",
   "execution_count": null,
   "metadata": {},
   "outputs": [],
   "source": []
  },
  {
   "cell_type": "markdown",
   "metadata": {},
   "source": [
    "## save dfs now with all labels added"
   ]
  },
  {
   "cell_type": "code",
   "execution_count": 44,
   "metadata": {},
   "outputs": [],
   "source": [
    "nonHc_FSPs.to_csv(nfs_path + \"nonHc_FSPs_df.csv\")\n",
    "df_Ups4S.to_csv(nfs_path + \"Ups4S_df.csv\")"
   ]
  },
  {
   "cell_type": "markdown",
   "metadata": {},
   "source": [
    "## load dfs with labels"
   ]
  },
  {
   "cell_type": "code",
   "execution_count": 3,
   "metadata": {},
   "outputs": [],
   "source": [
    "df_Ups4S = pd.read_csv(nfs_path + \"Ups4S_df.csv\")\n",
    "nonHc_FSPs = pd.read_csv(nfs_path + \"nonHc_FSPs_df.csv\")"
   ]
  },
  {
   "cell_type": "markdown",
   "metadata": {},
   "source": [
    "## more analysis"
   ]
  },
  {
   "cell_type": "code",
   "execution_count": 4,
   "metadata": {},
   "outputs": [
    {
     "data": {
      "text/plain": [
       "<AxesSubplot:>"
      ]
     },
     "execution_count": 4,
     "metadata": {},
     "output_type": "execute_result"
    },
    {
     "data": {
      "image/png": "[encoded data removed]",
      "text/plain": [
       "<Figure size 432x288 with 1 Axes>"
      ]
     },
     "metadata": {
      "needs_background": "light"
     },
     "output_type": "display_data"
    }
   ],
   "source": [
    "numFSPs_all = pd.DataFrame({'count' : nonHc_FSPs.groupby( [\"__event__\",\"__production__\"] ).size()}).reset_index()\n",
    "numFSPs_all[\"count\"].hist()"
   ]
  },
  {
   "cell_type": "code",
   "execution_count": 5,
   "metadata": {},
   "outputs": [],
   "source": [
    "percCorrect_df = pd.DataFrame({'frac. correct FSPs' : nonHc_FSPs.groupby([\"__event__\",\"__production__\",\"correct_pred\"] ).size()/nonHc_FSPs.groupby( [\"__event__\",\"__production__\"] ).size()}).reset_index()"
   ]
  },
  {
   "cell_type": "code",
   "execution_count": 6,
   "metadata": {},
   "outputs": [
    {
     "data": {
      "text/plain": [
       "<AxesSubplot:>"
      ]
     },
     "execution_count": 6,
     "metadata": {},
     "output_type": "execute_result"
    },
    {
     "data": {
      "image/png": "[encoded data removed]",
      "text/plain": [
       "<Figure size 432x288 with 1 Axes>"
      ]
     },
     "metadata": {
      "needs_background": "light"
     },
     "output_type": "display_data"
    }
   ],
   "source": [
    "percCorrect_df['frac. correct FSPs'].hist()"
   ]
  },
  {
   "cell_type": "markdown",
   "metadata": {},
   "source": [
    "## BCS"
   ]
  },
  {
   "cell_type": "code",
   "execution_count": 7,
   "metadata": {},
   "outputs": [
    {
     "name": "stdout",
     "output_type": "stream",
     "text": [
      "115125\n",
      "16329\n",
      "226669\n"
     ]
    }
   ],
   "source": [
    "print(df_Ups4S.shape[0])\n",
    "print(df_Ups4S[\"__event__\"].nunique())\n",
    "print(nonHc_FSPs.shape[0])"
   ]
  },
  {
   "cell_type": "code",
   "execution_count": 8,
   "metadata": {
    "scrolled": false
   },
   "outputs": [
    {
     "data": {
      "text/plain": [
       "Index(['Unnamed: 0', '__experiment__', '__run__', '__event__',\n",
       "       '__production__', '__candidate__', '__ncandidates__', '__weight__',\n",
       "       'genMothPDG_0', 'genMothPDG_1', 'genMothPDG_2', 'genMothPDG_3',\n",
       "       'genMothPDG_4', 'genMothPDG_5', 'genMothPDG_6', 'genMothPDG_7',\n",
       "       'genMothPDG_8', 'genMothPDG_9', 'genMotherID_0', 'genMotherID_1',\n",
       "       'genMotherID_2', 'genMotherID_3', 'genMotherID_4', 'genMotherID_5',\n",
       "       'genMotherID_6', 'genMotherID_7', 'genMotherID_8', 'genMotherID_9',\n",
       "       'mcMother0_uniqParID', 'mcMother1_uniqParID', 'mcMother2_uniqParID',\n",
       "       'mcMother3_uniqParID', 'mcMother4_uniqParID', 'mcMother5_uniqParID',\n",
       "       'mcMother6_uniqParID', 'mcMother7_uniqParID', 'mcMother8_uniqParID',\n",
       "       'mcMother9_uniqParID', 'cmpx', 'cmpy', 'cmpz', 'cmE', 'isSignal',\n",
       "       'uniqueParticleIdentifier', 'mcErrors', 'mcPDG', 'genMotherID',\n",
       "       'genMotherP', 'genMotherPDG', 'charge', 'dr', 'dz', 'clusterReg',\n",
       "       'clusterE9E21', 'M', 'PDG', 'genParticleID', 'px', 'py', 'pz', 'pt',\n",
       "       'p', 'E', 'kaonID', 'pionID', 'protonID', 'muonID', 'electronID',\n",
       "       'deuteronID', 'binaryPID__bo211__cm__sp13__bc',\n",
       "       'binaryPID__bo211__cm__sp321__bc', 'binaryPID__bo211__cm__sp2212__bc',\n",
       "       'binaryPID__bo321__cm__sp2212__bc', 'NN_prediction', 'basf2_used',\n",
       "       'basf2_Bsig', 'Hc_used', 'B_ID', 'B_tag_ID', 'label', 'correct_pred'],\n",
       "      dtype='object')"
      ]
     },
     "execution_count": 8,
     "metadata": {},
     "output_type": "execute_result"
    }
   ],
   "source": [
    "nonHc_FSPs.keys()"
   ]
  },
  {
   "cell_type": "code",
   "execution_count": 9,
   "metadata": {
    "scrolled": true
   },
   "outputs": [
    {
     "name": "stdout",
     "output_type": "stream",
     "text": [
      "Unnamed: 0\n",
      "__experiment__\n",
      "__run__\n",
      "__event__\n",
      "__production__\n",
      "__candidate__\n",
      "__ncandidates__\n",
      "__weight__\n",
      "m2RecoilSignalSide\n",
      "foxWolframR2_maskedNaN\n",
      "foxWolframR2\n",
      "extraInfo__boFEIProbabilityRank__bc\n",
      "nTracks\n",
      "dau1_sigProb\n",
      "Up4S_isSig\n",
      "BeamE\n",
      "BeamPx\n",
      "BeamPy\n",
      "BeamPz\n",
      "BeamcmsE\n",
      "BeamcmsPx\n",
      "BeamcmsPy\n",
      "BeamcmsPz\n",
      "genUp4S_uniqParID_0\n",
      "genUp4S_PDG_0_0\n",
      "abs_genUp4S_PDG_0_0\n",
      "genUp4S_uniqParID_0_0\n",
      "genUp4S_PDG_0_0_0\n",
      "genUp4S_uniqParID_0_0_0\n",
      "genUp4S_PDG_0_0_0_0\n",
      "genUp4S_uniqParID_0_0_0_0\n",
      "genUp4S_PDG_0_0_0_0_0\n",
      "genUp4S_uniqParID_0_0_0_0_0\n",
      "genUp4S_PDG_0_0_0_0_1\n",
      "genUp4S_uniqParID_0_0_0_0_1\n",
      "genUp4S_PDG_0_0_0_0_2\n",
      "genUp4S_uniqParID_0_0_0_0_2\n",
      "genUp4S_PDG_0_0_0_0_3\n",
      "genUp4S_uniqParID_0_0_0_0_3\n",
      "genUp4S_PDG_0_0_0_0_4\n",
      "genUp4S_uniqParID_0_0_0_0_4\n",
      "genUp4S_PDG_0_0_0_0_5\n",
      "genUp4S_uniqParID_0_0_0_0_5\n",
      "genUp4S_PDG_0_0_0_1\n",
      "genUp4S_uniqParID_0_0_0_1\n",
      "genUp4S_PDG_0_0_0_1_0\n",
      "genUp4S_uniqParID_0_0_0_1_0\n",
      "genUp4S_PDG_0_0_0_1_1\n",
      "genUp4S_uniqParID_0_0_0_1_1\n",
      "genUp4S_PDG_0_0_0_1_2\n",
      "genUp4S_uniqParID_0_0_0_1_2\n",
      "genUp4S_PDG_0_0_0_1_3\n",
      "genUp4S_uniqParID_0_0_0_1_3\n",
      "genUp4S_PDG_0_0_0_1_4\n",
      "genUp4S_uniqParID_0_0_0_1_4\n",
      "genUp4S_PDG_0_0_0_1_5\n",
      "genUp4S_uniqParID_0_0_0_1_5\n",
      "genUp4S_PDG_0_0_0_2\n",
      "genUp4S_uniqParID_0_0_0_2\n",
      "genUp4S_PDG_0_0_0_2_0\n",
      "genUp4S_uniqParID_0_0_0_2_0\n",
      "genUp4S_PDG_0_0_0_2_1\n",
      "genUp4S_uniqParID_0_0_0_2_1\n",
      "genUp4S_PDG_0_0_0_2_2\n",
      "genUp4S_uniqParID_0_0_0_2_2\n",
      "genUp4S_PDG_0_0_0_2_3\n",
      "genUp4S_uniqParID_0_0_0_2_3\n",
      "genUp4S_PDG_0_0_0_2_4\n",
      "genUp4S_uniqParID_0_0_0_2_4\n",
      "genUp4S_PDG_0_0_0_2_5\n",
      "genUp4S_uniqParID_0_0_0_2_5\n",
      "genUp4S_PDG_0_0_0_3\n",
      "genUp4S_uniqParID_0_0_0_3\n",
      "genUp4S_PDG_0_0_0_4\n",
      "genUp4S_uniqParID_0_0_0_4\n",
      "genUp4S_PDG_0_0_0_5\n",
      "genUp4S_uniqParID_0_0_0_5\n",
      "genUp4S_PDG_0_0_1\n",
      "genUp4S_uniqParID_0_0_1\n",
      "genUp4S_PDG_0_0_2\n",
      "genUp4S_uniqParID_0_0_2\n",
      "genUp4S_PDG_0_1\n",
      "abs_genUp4S_PDG_0_1\n",
      "genUp4S_uniqParID_0_1\n",
      "genUp4S_PDG_0_2\n",
      "abs_genUp4S_PDG_0_2\n",
      "genUp4S_uniqParID_0_2\n",
      "genUp4S_PDG_0_3\n",
      "abs_genUp4S_PDG_0_3\n",
      "genUp4S_uniqParID_0_3\n",
      "genUp4S_uniqParID_1\n",
      "genUp4S_PDG_1_0\n",
      "abs_genUp4S_PDG_1_0\n",
      "genUp4S_uniqParID_1_0\n",
      "genUp4S_PDG_1_0_0\n",
      "genUp4S_uniqParID_1_0_0\n",
      "genUp4S_PDG_1_0_0_0\n",
      "genUp4S_uniqParID_1_0_0_0\n",
      "genUp4S_PDG_1_0_0_0_0\n",
      "genUp4S_uniqParID_1_0_0_0_0\n",
      "genUp4S_PDG_1_0_0_0_1\n",
      "genUp4S_uniqParID_1_0_0_0_1\n",
      "genUp4S_PDG_1_0_0_0_2\n",
      "genUp4S_uniqParID_1_0_0_0_2\n",
      "genUp4S_PDG_1_0_0_0_3\n",
      "genUp4S_uniqParID_1_0_0_0_3\n",
      "genUp4S_PDG_1_0_0_0_4\n",
      "genUp4S_uniqParID_1_0_0_0_4\n",
      "genUp4S_PDG_1_0_0_0_5\n",
      "genUp4S_uniqParID_1_0_0_0_5\n",
      "genUp4S_PDG_1_0_0_1\n",
      "genUp4S_uniqParID_1_0_0_1\n",
      "genUp4S_PDG_1_0_0_1_0\n",
      "genUp4S_uniqParID_1_0_0_1_0\n",
      "genUp4S_PDG_1_0_0_1_1\n",
      "genUp4S_uniqParID_1_0_0_1_1\n",
      "genUp4S_PDG_1_0_0_1_2\n",
      "genUp4S_uniqParID_1_0_0_1_2\n",
      "genUp4S_PDG_1_0_0_1_3\n",
      "genUp4S_uniqParID_1_0_0_1_3\n",
      "genUp4S_PDG_1_0_0_1_4\n",
      "genUp4S_uniqParID_1_0_0_1_4\n",
      "genUp4S_PDG_1_0_0_1_5\n",
      "genUp4S_uniqParID_1_0_0_1_5\n",
      "genUp4S_PDG_1_0_0_2\n",
      "genUp4S_uniqParID_1_0_0_2\n",
      "genUp4S_PDG_1_0_0_2_0\n",
      "genUp4S_uniqParID_1_0_0_2_0\n",
      "genUp4S_PDG_1_0_0_2_1\n",
      "genUp4S_uniqParID_1_0_0_2_1\n",
      "genUp4S_PDG_1_0_0_2_2\n",
      "genUp4S_uniqParID_1_0_0_2_2\n",
      "genUp4S_PDG_1_0_0_2_3\n",
      "genUp4S_uniqParID_1_0_0_2_3\n",
      "genUp4S_PDG_1_0_0_2_4\n",
      "genUp4S_uniqParID_1_0_0_2_4\n",
      "genUp4S_PDG_1_0_0_2_5\n",
      "genUp4S_uniqParID_1_0_0_2_5\n",
      "genUp4S_PDG_1_0_0_3\n",
      "genUp4S_uniqParID_1_0_0_3\n",
      "genUp4S_PDG_1_0_0_4\n",
      "genUp4S_uniqParID_1_0_0_4\n",
      "genUp4S_PDG_1_0_0_5\n",
      "genUp4S_uniqParID_1_0_0_5\n",
      "genUp4S_PDG_1_0_1\n",
      "genUp4S_uniqParID_1_0_1\n",
      "genUp4S_PDG_1_0_2\n",
      "genUp4S_uniqParID_1_0_2\n",
      "genUp4S_PDG_1_1\n",
      "abs_genUp4S_PDG_1_1\n",
      "genUp4S_uniqParID_1_1\n",
      "genUp4S_PDG_1_2\n",
      "abs_genUp4S_PDG_1_2\n",
      "genUp4S_uniqParID_1_2\n",
      "genUp4S_PDG_1_3\n",
      "abs_genUp4S_PDG_1_3\n",
      "genUp4S_uniqParID_1_3\n",
      "genUp4S_PDG_0\n",
      "genUp4S_charge_0\n",
      "genUp4S_mdstIndex_0\n",
      "genUp4S_genParticleID_0\n",
      "genUp4S_E_0\n",
      "genUp4S_Px_0\n",
      "genUp4S_Py_0\n",
      "genUp4S_Pz_0\n",
      "genUp4S_P_0\n",
      "genUp4S_cmE_0\n",
      "genUp4S_cmPx_0\n",
      "genUp4S_cmPy_0\n",
      "genUp4S_cmPz_0\n",
      "genUp4S_cmP_0\n",
      "genUp4S_mdstIndex_0_0\n",
      "genUp4S_genParticleID_0_0\n",
      "genUp4S_mdstIndex_0_0_0\n",
      "genUp4S_genParticleID_0_0_0\n",
      "genUp4S_mdstIndex_0_0_1\n",
      "genUp4S_genParticleID_0_0_1\n",
      "genUp4S_mdstIndex_0_1\n",
      "genUp4S_genParticleID_0_1\n",
      "genUp4S_mdstIndex_0_2\n",
      "genUp4S_genParticleID_0_2\n",
      "genUp4S_PDG_1\n",
      "genUp4S_charge_1\n",
      "genUp4S_mdstIndex_1\n",
      "genUp4S_genParticleID_1\n",
      "genUp4S_E_1\n",
      "genUp4S_Px_1\n",
      "genUp4S_Py_1\n",
      "genUp4S_Pz_1\n",
      "genUp4S_P_1\n",
      "genUp4S_cmE_1\n",
      "genUp4S_cmPx_1\n",
      "genUp4S_cmPy_1\n",
      "genUp4S_cmPz_1\n",
      "genUp4S_cmP_1\n",
      "genUp4S_mdstIndex_1_0\n",
      "genUp4S_genParticleID_1_0\n",
      "genUp4S_mdstIndex_1_0_0\n",
      "genUp4S_genParticleID_1_0_0\n",
      "genUp4S_mdstIndex_1_0_1\n",
      "genUp4S_genParticleID_1_0_1\n",
      "genUp4S_mdstIndex_1_1\n",
      "genUp4S_genParticleID_1_1\n",
      "genUp4S_mdstIndex_1_2\n",
      "genUp4S_genParticleID_1_2\n",
      "Btag_uniqParID\n",
      "dau0_M\n",
      "dau0_chiProb\n",
      "dau0_cmp\n",
      "dau0_cmE\n",
      "dau0_cmpx\n",
      "dau0_cmpy\n",
      "dau0_cmpz\n",
      "dau0_cmpt\n",
      "dau0_p\n",
      "dau0_E\n",
      "dau0_px\n",
      "dau0_py\n",
      "dau0_pz\n",
      "dau0_pt\n",
      "dau0_mcp\n",
      "dau0_mcpt\n",
      "dau0_dau1_charge\n",
      "dau0_dau0_motherP\n",
      "dau0_dau0_motherE\n",
      "dau0_dau0_motherPx\n",
      "dau0_dau0_motherPy\n",
      "dau0_dau0_motherPz\n",
      "dau0_dau0_mothercmsP\n",
      "dau0_dau0_mothercmsE\n",
      "dau0_dau0_mothercmsPx\n",
      "dau0_dau0_mothercmsPy\n",
      "dau0_dau0_mothercmsPz\n",
      "dau0_dau0_motherPDG\n",
      "dau0_dau0_grandmotherP\n",
      "dau0_dau0_grandmotherE\n",
      "dau0_dau0_grandmotherPx\n",
      "dau0_dau0_grandmotherPy\n",
      "dau0_dau0_grandmotherPz\n",
      "dau0_dau0_grandmotherPDG\n",
      "dau0_mccmp\n",
      "dau0_mccmpt\n",
      "dau0_decmode\n",
      "dau0_sigProb\n",
      "dau0_dau0_decmode\n",
      "dau0_dau0_sigProb\n",
      "dau0_dau0_charge\n",
      "dau0_dau0_M\n",
      "dau0_dau0_DeltaM\n",
      "dau0_dau0_E\n",
      "dau0_dau0_px\n",
      "dau0_dau0_py\n",
      "dau0_dau0_pz\n",
      "dau0_dau0_PDG\n",
      "dau0_dau0_isSignal\n",
      "dau0_dau0_isSignalAcceptMissingGamma\n",
      "dau0_dau1_M\n",
      "dau0_dau1_E\n",
      "dau0_dau1_px\n",
      "dau0_dau1_py\n",
      "dau0_dau1_pz\n",
      "dau0_dau1_nDaughters\n",
      "dau0_dau1_dau0_PDG\n",
      "dau0_dau1_dau1_PDG\n",
      "dau0_dau1_dau2_PDG\n",
      "dau0_dau1_dau3_PDG\n",
      "dau0_dau2_p\n",
      "dau0_deltaE\n",
      "dau0_Mbc\n",
      "dau0_FEIRank\n",
      "dau0_isSignal\n",
      "dau0_R2\n",
      "dau0_cosTBTO\n",
      "dau0_cosThetaBetweenParticleAndNominalB\n",
      "dau0_PDG\n",
      "dau0_motherPDG\n",
      "Bsig_uniqParID\n",
      "dau1_M\n",
      "dau1_cmp\n",
      "dau1_cmE\n",
      "dau1_cmpx\n",
      "dau1_cmpy\n",
      "dau1_cmpz\n",
      "dau1_cmpt\n",
      "dau1_theta\n",
      "dau1_p\n",
      "dau1_E\n",
      "dau1_px\n",
      "dau1_py\n",
      "dau1_pz\n",
      "dau1_pt\n",
      "dau1_mcp\n",
      "dau1_mcpt\n",
      "dau1_mccmE\n",
      "dau1_mccmp\n",
      "dau1_mccmpx\n",
      "dau1_mccmpy\n",
      "dau1_mccmpz\n",
      "dau1_mccmpt\n",
      "dau1_cosThetaBetweenParticleAndNominalB\n",
      "dau1_isSignal\n",
      "dau1_mcPDG\n",
      "dau1_dau0_mcPDG\n",
      "dau1_dau1_mcPDG\n",
      "dau1_dau0_mothermdstIndex\n",
      "dau1_dau1_mothermdstIndex\n",
      "dau1_mdstIndex\n",
      "dau1_motherPDG\n",
      "lep_mdstIndex\n",
      "lep_PDG\n",
      "lep_theta\n",
      "lep_clusterEP\n",
      "lep_clusterE\n",
      "lep_eID\n",
      "lep_muID\n",
      "lep_clusterE9E21\n",
      "lep_absdz\n",
      "lep_absd0\n",
      "lep_klmLayers\n",
      "lep_MatchedKLMClusters\n",
      "lep_M\n",
      "lep_chiProb\n",
      "lep_cmE\n",
      "lep_cmp\n",
      "lep_cmpx\n",
      "lep_cmpy\n",
      "lep_cmpz\n",
      "lep_cmpt\n",
      "lep_E\n",
      "lep_p\n",
      "lep_px\n",
      "lep_py\n",
      "lep_pz\n",
      "lep_pt\n",
      "lep_mcp\n",
      "lep_mcpt\n",
      "lep_mccmp\n",
      "lep_mccmpt\n",
      "lep_mcPDG\n",
      "lep_genParticleID\n",
      "lep_motherPDG\n",
      "lep_gmotherPDG\n",
      "lep_genmotherID\n",
      "lep_mothermdstIndex\n",
      "lep_uniqParID\n",
      "lepMother_uniqParID\n",
      "D_dau0_genGmothID\n",
      "D_dau0_motherPDG\n",
      "D_dau0_gmotherPDG\n",
      "D_dau0_mcPDG\n",
      "D_dau1_genGmothID\n",
      "D_dau1_motherPDG\n",
      "D_dau1_gmotherPDG\n",
      "D_dau1_mcPDG\n",
      "D_dau2_genGmothID\n",
      "D_dau2_motherPDG\n",
      "D_dau2_gmotherPDG\n",
      "D_dau2_mcPDG\n",
      "D_dau3_genGmothID\n",
      "D_dau3_motherPDG\n",
      "D_dau3_gmotherPDG\n",
      "D_dau3_mcPDG\n",
      "D_dau4_genGmothID\n",
      "D_dau4_motherPDG\n",
      "D_dau4_gmotherPDG\n",
      "D_dau4_mcPDG\n",
      "slowPi_motherPDG\n",
      "slowPi_mcPDG\n",
      "Dst_genParticleID\n",
      "Hc_isSignalAcceptMissingGamma\n",
      "Hc_genMotherPDG\n",
      "Hc_mcPDG\n",
      "Hc_uniqParID\n",
      "Hc_genMotherID\n",
      "Hc_motherUniqParID\n",
      "D_nDaughters\n",
      "D_M\n",
      "D_p\n",
      "D_pt\n",
      "D_cmp\n",
      "D_cmpt\n",
      "D_isSignal\n",
      "D_uniqParID\n",
      "D_decayModeID\n",
      "Dst_uniqParID\n",
      "Dst_M\n",
      "Dst_E\n",
      "Dst_p\n",
      "Dst_px\n",
      "Dst_py\n",
      "Dst_pz\n",
      "Dst_pt\n",
      "Dst_cmE\n",
      "Dst_cmp\n",
      "Dst_cmpx\n",
      "Dst_cmpy\n",
      "Dst_cmpz\n",
      "Dst_cmpt\n",
      "Dst_mccmE\n",
      "Dst_mccmp\n",
      "Dst_mccmpx\n",
      "Dst_mccmpy\n",
      "Dst_mccmpz\n",
      "Dst_DeltaM\n",
      "Dst_isSignal\n",
      "roeE_ofUps4S\n",
      "E_predicted_bg_gammas\n",
      "D0_decay\n",
      "abs_m2RecoilSignalSide\n",
      "Bsig_uniqParID_pdMethod\n",
      "lep_typeMC\n",
      "lep_type\n",
      "lep_MC_truth\n"
     ]
    }
   ],
   "source": [
    "for key in df_Ups4S.keys():\n",
    "    print(key)"
   ]
  },
  {
   "cell_type": "code",
   "execution_count": 10,
   "metadata": {},
   "outputs": [
    {
     "data": {
      "text/plain": [
       "115125"
      ]
     },
     "execution_count": 10,
     "metadata": {},
     "output_type": "execute_result"
    }
   ],
   "source": [
    "df_Ups4S.shape[0]"
   ]
  },
  {
   "cell_type": "code",
   "execution_count": 11,
   "metadata": {
    "scrolled": true
   },
   "outputs": [
    {
     "data": {
      "text/plain": [
       "__event__    16329\n",
       "dtype: int64"
      ]
     },
     "execution_count": 11,
     "metadata": {},
     "output_type": "execute_result"
    }
   ],
   "source": [
    "df_Ups4S[[\"__event__\"]].nunique()"
   ]
  },
  {
   "cell_type": "code",
   "execution_count": 12,
   "metadata": {},
   "outputs": [
    {
     "data": {
      "text/plain": [
       "16330"
      ]
     },
     "execution_count": 12,
     "metadata": {},
     "output_type": "execute_result"
    }
   ],
   "source": [
    "df_Ups4S.groupby([\"__event__\",\"__production__\"]).ngroups"
   ]
  },
  {
   "cell_type": "code",
   "execution_count": 13,
   "metadata": {},
   "outputs": [
    {
     "name": "stdout",
     "output_type": "stream",
     "text": [
      "\n",
      " Up4S_isSig\n",
      "count    72251.0\n",
      "mean         0.0\n",
      "std          0.0\n",
      "min          0.0\n",
      "25%          0.0\n",
      "50%          0.0\n",
      "75%          0.0\n",
      "max          0.0\n",
      "Name: Up4S_isSig, dtype: float64\n",
      "\n",
      " Dst_isSignal\n",
      "count    98989.000000\n",
      "mean         0.007920\n",
      "std          0.088642\n",
      "min          0.000000\n",
      "25%          0.000000\n",
      "50%          0.000000\n",
      "75%          0.000000\n",
      "max          1.000000\n",
      "Name: Dst_isSignal, dtype: float64\n",
      "\n",
      " D_isSignal\n",
      "count    99885.000000\n",
      "mean         0.011413\n",
      "std          0.106221\n",
      "min          0.000000\n",
      "25%          0.000000\n",
      "50%          0.000000\n",
      "75%          0.000000\n",
      "max          1.000000\n",
      "Name: D_isSignal, dtype: float64\n",
      "\n",
      " dau0_dau0_isSignal\n",
      "count    115125.0\n",
      "mean          1.0\n",
      "std           0.0\n",
      "min           1.0\n",
      "25%           1.0\n",
      "50%           1.0\n",
      "75%           1.0\n",
      "max           1.0\n",
      "Name: dau0_dau0_isSignal, dtype: float64\n",
      "\n",
      " Hc_isSignalAcceptMissingGamma\n",
      "count    115125.0\n",
      "mean          1.0\n",
      "std           0.0\n",
      "min           1.0\n",
      "25%           1.0\n",
      "50%           1.0\n",
      "75%           1.0\n",
      "max           1.0\n",
      "Name: Hc_isSignalAcceptMissingGamma, dtype: float64\n",
      "\n",
      " dau0_isSignal\n",
      "count    85298.0\n",
      "mean         0.0\n",
      "std          0.0\n",
      "min          0.0\n",
      "25%          0.0\n",
      "50%          0.0\n",
      "75%          0.0\n",
      "max          0.0\n",
      "Name: dau0_isSignal, dtype: float64\n",
      "\n",
      " dau1_isSignal\n",
      "count    97907.000000\n",
      "mean         0.007201\n",
      "std          0.084551\n",
      "min          0.000000\n",
      "25%          0.000000\n",
      "50%          0.000000\n",
      "75%          0.000000\n",
      "max          1.000000\n",
      "Name: dau1_isSignal, dtype: float64\n"
     ]
    }
   ],
   "source": [
    "variables=[\"Up4S_isSig\",\"Dst_isSignal\",\"D_isSignal\",\"dau0_dau0_isSignal\",\"Hc_isSignalAcceptMissingGamma\",\"dau0_isSignal\",\"dau1_isSignal\"]\n",
    "for var in variables:\n",
    "    print('\\n',var)\n",
    "    print(df_Ups4S[var].describe())\n",
    "    "
   ]
  },
  {
   "cell_type": "code",
   "execution_count": 14,
   "metadata": {},
   "outputs": [
    {
     "data": {
      "text/plain": [
       "<AxesSubplot:>"
      ]
     },
     "execution_count": 14,
     "metadata": {},
     "output_type": "execute_result"
    },
    {
     "data": {
      "image/png": "[encoded data removed]",
      "text/plain": [
       "<Figure size 432x288 with 1 Axes>"
      ]
     },
     "metadata": {
      "needs_background": "light"
     },
     "output_type": "display_data"
    }
   ],
   "source": [
    "bins = np.linspace(0, 10, 50)\n",
    "df_Ups4S[\"roeE_ofUps4S\"].hist(bins=bins)"
   ]
  },
  {
   "cell_type": "code",
   "execution_count": 15,
   "metadata": {},
   "outputs": [
    {
     "data": {
      "text/plain": [
       "<AxesSubplot:>"
      ]
     },
     "execution_count": 15,
     "metadata": {},
     "output_type": "execute_result"
    },
    {
     "data": {
      "image/png": "[encoded data removed]",
      "text/plain": [
       "<Figure size 432x288 with 1 Axes>"
      ]
     },
     "metadata": {
      "needs_background": "light"
     },
     "output_type": "display_data"
    }
   ],
   "source": [
    "bins = np.linspace(0, 2, 50)\n",
    "df_Ups4S[\"E_predicted_bg_gammas\"].hist(bins=bins)"
   ]
  },
  {
   "cell_type": "code",
   "execution_count": 16,
   "metadata": {
    "scrolled": true
   },
   "outputs": [
    {
     "data": {
      "text/plain": [
       "array([<AxesSubplot:title={'center':'0'}>,\n",
       "       <AxesSubplot:title={'center':'1'}>], dtype=object)"
      ]
     },
     "execution_count": 16,
     "metadata": {},
     "output_type": "execute_result"
    },
    {
     "data": {
      "image/png": "[encoded data removed]",
      "text/plain": [
       "<Figure size 432x288 with 2 Axes>"
      ]
     },
     "metadata": {
      "needs_background": "light"
     },
     "output_type": "display_data"
    }
   ],
   "source": [
    "bins = np.linspace(-4, 4, 50)\n",
    "df_Ups4S.hist(\"m2RecoilSignalSide\", bins=bins, by='lep_MC_truth')"
   ]
  },
  {
   "cell_type": "code",
   "execution_count": 17,
   "metadata": {
    "scrolled": true
   },
   "outputs": [
    {
     "data": {
      "text/plain": [
       "array([<AxesSubplot:title={'center':'0.0'}>,\n",
       "       <AxesSubplot:title={'center':'1.0'}>], dtype=object)"
      ]
     },
     "execution_count": 17,
     "metadata": {},
     "output_type": "execute_result"
    },
    {
     "data": {
      "image/png": "[encoded data removed]",
      "text/plain": [
       "<Figure size 432x288 with 2 Axes>"
      ]
     },
     "metadata": {
      "needs_background": "light"
     },
     "output_type": "display_data"
    }
   ],
   "source": [
    "bins = np.linspace(-4, 4, 50)\n",
    "df_Ups4S.hist(\"m2RecoilSignalSide\", bins=bins, by='dau1_isSignal')"
   ]
  },
  {
   "cell_type": "code",
   "execution_count": 18,
   "metadata": {},
   "outputs": [
    {
     "data": {
      "text/plain": [
       "count    115125.000000\n",
       "mean          0.728712\n",
       "std           0.444626\n",
       "min           0.000000\n",
       "25%           0.000000\n",
       "50%           1.000000\n",
       "75%           1.000000\n",
       "max           1.000000\n",
       "Name: lep_MC_truth, dtype: float64"
      ]
     },
     "execution_count": 18,
     "metadata": {},
     "output_type": "execute_result"
    }
   ],
   "source": [
    "df_Ups4S[\"lep_MC_truth\"].describe()"
   ]
  },
  {
   "cell_type": "code",
   "execution_count": 19,
   "metadata": {},
   "outputs": [
    {
     "data": {
      "text/plain": [
       "count    72251.0\n",
       "mean         0.0\n",
       "std          0.0\n",
       "min          0.0\n",
       "25%          0.0\n",
       "50%          0.0\n",
       "75%          0.0\n",
       "max          0.0\n",
       "Name: Up4S_isSig, dtype: float64"
      ]
     },
     "execution_count": 19,
     "metadata": {},
     "output_type": "execute_result"
    }
   ],
   "source": [
    "df_Ups4S[\"Up4S_isSig\"].describe()"
   ]
  },
  {
   "cell_type": "code",
   "execution_count": 42,
   "metadata": {},
   "outputs": [
    {
     "name": "stdout",
     "output_type": "stream",
     "text": [
      "16329\n",
      "16329\n",
      "16329\n",
      "16329\n",
      "16329\n",
      "16329\n"
     ]
    },
    {
     "data": {
      "image/png": "[encoded data removed]",
      "text/plain": [
       "<Figure size 1152x720 with 1 Axes>"
      ]
     },
     "metadata": {
      "needs_background": "light"
     },
     "output_type": "display_data"
    },
    {
     "data": {
      "image/png": "[encoded data removed]",
      "text/plain": [
       "<Figure size 1152x720 with 1 Axes>"
      ]
     },
     "metadata": {
      "needs_background": "light"
     },
     "output_type": "display_data"
    }
   ],
   "source": [
    "df_Ups4S[\"abs_m2RecoilSignalSide\"] = df_Ups4S[\"m2RecoilSignalSide\"].abs() \n",
    "\n",
    "for lep_truth in [\"off\",\"on\"]:\n",
    "    fig, ax = plt.subplots()\n",
    "    fig.suptitle('BCS')\n",
    "\n",
    "    for var in [\"abs_m2RecoilSignalSide\",\"roeE_ofUps4S\",\"random_BCS\"]:\n",
    "\n",
    "        if var == \"random_BCS\":\n",
    "            # this takes a sample of all events which results in shuffling the evts\n",
    "            tmp = df_Ups4S.sample(frac=1)\n",
    "            # now keeping the first results in random BCS\n",
    "            tmp = tmp.drop_duplicates(subset=(\"__event__\"), keep='first')\n",
    "        else:\n",
    "            tmp = df_Ups4S.sort_values(var,ascending=True).drop_duplicates(subset=(\"__event__\"), keep='first')\n",
    "\n",
    "\n",
    "\n",
    "        print(tmp.shape[0])\n",
    "        bins = np.linspace(-4, 4, 50)\n",
    "\n",
    "        fig.set_size_inches(16, 10)\n",
    "\n",
    "        ax.set_xlabel(r'$m_{miss}^2$ in GeV$^2$')\n",
    "        ax.set_ylabel(\"events\")\n",
    "        \n",
    "        if lep_truth == \"off\":\n",
    "            ax.hist(tmp.m2RecoilSignalSide, bins, alpha=0.5, label=var ,histtype='step')\n",
    "        elif lep_truth == \"on\":    \n",
    "            ax.hist(tmp[tmp[\"lep_MC_truth\"] == 1].m2RecoilSignalSide, bins, alpha=0.5, label=var + \" lep truth matching == 1\" ,histtype='step')\n",
    "\n",
    "        ax.legend(loc='upper left')\n",
    "\n",
    "\n",
    "\n",
    "    plt.savefig(f'plots/ONLINE_APP_FIXED_onlineNN_m2Recoil_BCS_lepTruthCut_{lep_truth}.pdf')"
   ]
  },
  {
   "cell_type": "code",
   "execution_count": 43,
   "metadata": {},
   "outputs": [
    {
     "name": "stdout",
     "output_type": "stream",
     "text": [
      "16329\n"
     ]
    },
    {
     "data": {
      "image/png": "[encoded data removed]",
      "text/plain": [
       "<Figure size 1152x720 with 1 Axes>"
      ]
     },
     "metadata": {
      "needs_background": "light"
     },
     "output_type": "display_data"
    }
   ],
   "source": [
    "df_Ups4S[\"abs_m2RecoilSignalSide\"] = df_Ups4S[\"m2RecoilSignalSide\"].abs() \n",
    "\n",
    "\n",
    "fig, ax = plt.subplots()\n",
    "fig.suptitle('BCS')\n",
    "\n",
    "for var in [\"abs_m2RecoilSignalSide\"]:\n",
    "\n",
    "    tmp = df_Ups4S.sort_values(var,ascending=True).drop_duplicates(subset=(\"__event__\"), keep='first')\n",
    "\n",
    "\n",
    "\n",
    "    print(tmp.shape[0])\n",
    "    bins = np.linspace(-4, 4, 50)\n",
    "\n",
    "    fig.set_size_inches(16, 10)\n",
    "\n",
    "    ax.set_xlabel(r'$m_{miss}^2$ in GeV$^2$')\n",
    "    ax.set_ylabel(\"events\")\n",
    "\n",
    "    ax.hist(tmp.m2RecoilSignalSide, bins, alpha=0.5, label=var ,histtype='step')\n",
    "    ax.hist(tmp[tmp[\"lep_MC_truth\"] == 1].m2RecoilSignalSide, bins, alpha=0.5, label=var + \" lep truth matching == 1\" ,histtype='step')\n",
    "\n",
    "    ax.legend(loc='upper left')\n",
    "\n",
    "\n",
    "\n",
    "    plt.savefig(f'plots/ONLINE_APP_FIXED_onlineNN_m2Recoil_BCS_lepTruthCut_ONLY_abs_m2RecoilSignalSide.pdf')"
   ]
  },
  {
   "cell_type": "code",
   "execution_count": 44,
   "metadata": {},
   "outputs": [],
   "source": [
    "BCS_df = df_Ups4S.sort_values(\"abs_m2RecoilSignalSide\",ascending=True).drop_duplicates(subset=(\"__event__\"), keep='first')"
   ]
  },
  {
   "cell_type": "code",
   "execution_count": 45,
   "metadata": {},
   "outputs": [
    {
     "data": {
      "image/png": "[encoded data removed]",
      "text/plain": [
       "<Figure size 576x360 with 2 Axes>"
      ]
     },
     "metadata": {
      "needs_background": "light"
     },
     "output_type": "display_data"
    }
   ],
   "source": [
    "fig, ax = plt.subplots()\n",
    "fig.suptitle(r'$\\Delta E$ vs. $M_{bc}$ $B_{tag}$')\n",
    "\n",
    "bins = np.linspace(-4, 4, 50)\n",
    "\n",
    "fig.set_size_inches(8, 5)\n",
    "\n",
    "ax.set_xlabel(r'$M_{bc}$ $B_{tag}$')\n",
    "ax.set_ylabel(r'$\\Delta E$ $B_{tag}$')\n",
    "\n",
    "\n",
    "#ax.legend(loc='upper left')\n",
    "h = ax.hist2d(BCS_df.dau0_Mbc,BCS_df.dau0_deltaE, range=[[4, 5.5], [-3, 3]], bins=20,\n",
    "          norm=mpl.colors.LogNorm())\n",
    "\n",
    "plt.grid()\n",
    "fig.colorbar(h[3], ax=ax)\n",
    "\n",
    "\n",
    "plt.savefig('plots/ONLINE_APP_FIXED_onlineNN_2D_deltaE_Mbc.pdf')"
   ]
  },
  {
   "cell_type": "code",
   "execution_count": 46,
   "metadata": {
    "scrolled": true
   },
   "outputs": [
    {
     "data": {
      "text/plain": [
       "<AxesSubplot:>"
      ]
     },
     "execution_count": 46,
     "metadata": {},
     "output_type": "execute_result"
    },
    {
     "data": {
      "image/png": "[encoded data removed]",
      "text/plain": [
       "<Figure size 432x288 with 1 Axes>"
      ]
     },
     "metadata": {
      "needs_background": "light"
     },
     "output_type": "display_data"
    }
   ],
   "source": [
    "bins = np.linspace(4, 6, 50)\n",
    "BCS_df[\"dau0_Mbc\"].hist(bins=bins)"
   ]
  },
  {
   "cell_type": "code",
   "execution_count": 47,
   "metadata": {
    "scrolled": true
   },
   "outputs": [
    {
     "data": {
      "text/plain": [
       "<AxesSubplot:>"
      ]
     },
     "execution_count": 47,
     "metadata": {},
     "output_type": "execute_result"
    },
    {
     "data": {
      "image/png": "[encoded data removed]",
      "text/plain": [
       "<Figure size 432x288 with 1 Axes>"
      ]
     },
     "metadata": {
      "needs_background": "light"
     },
     "output_type": "display_data"
    }
   ],
   "source": [
    "bins = np.linspace(-4, 4, 50)\n",
    "BCS_df[\"dau0_deltaE\"].hist(bins=bins)"
   ]
  },
  {
   "cell_type": "code",
   "execution_count": 48,
   "metadata": {
    "scrolled": true
   },
   "outputs": [
    {
     "data": {
      "text/plain": [
       "<AxesSubplot:>"
      ]
     },
     "execution_count": 48,
     "metadata": {},
     "output_type": "execute_result"
    },
    {
     "data": {
      "image/png": "[encoded data removed]",
      "text/plain": [
       "<Figure size 432x288 with 1 Axes>"
      ]
     },
     "metadata": {
      "needs_background": "light"
     },
     "output_type": "display_data"
    }
   ],
   "source": [
    "bins = np.linspace(0, 2, 50)\n",
    "BCS_df[\"Dst_DeltaM\"].hist(bins=bins)"
   ]
  },
  {
   "cell_type": "code",
   "execution_count": 49,
   "metadata": {
    "scrolled": true
   },
   "outputs": [
    {
     "data": {
      "text/plain": [
       "<AxesSubplot:>"
      ]
     },
     "execution_count": 49,
     "metadata": {},
     "output_type": "execute_result"
    },
    {
     "data": {
      "image/png": "[encoded data removed]",
      "text/plain": [
       "<Figure size 432x288 with 1 Axes>"
      ]
     },
     "metadata": {
      "needs_background": "light"
     },
     "output_type": "display_data"
    }
   ],
   "source": [
    "bins = np.linspace(0, 4, 50)\n",
    "BCS_df[\"D_M\"].hist(bins=bins)"
   ]
  },
  {
   "cell_type": "code",
   "execution_count": 50,
   "metadata": {
    "scrolled": true
   },
   "outputs": [
    {
     "data": {
      "text/plain": [
       "<AxesSubplot:>"
      ]
     },
     "execution_count": 50,
     "metadata": {},
     "output_type": "execute_result"
    },
    {
     "data": {
      "image/png": "[encoded data removed]",
      "text/plain": [
       "<Figure size 432x288 with 1 Axes>"
      ]
     },
     "metadata": {
      "needs_background": "light"
     },
     "output_type": "display_data"
    }
   ],
   "source": [
    "bins = np.linspace(0, 4, 50)\n",
    "BCS_df[\"Dst_M\"].hist(bins=bins)"
   ]
  },
  {
   "cell_type": "code",
   "execution_count": 51,
   "metadata": {
    "scrolled": true
   },
   "outputs": [
    {
     "data": {
      "text/plain": [
       "<AxesSubplot:>"
      ]
     },
     "execution_count": 51,
     "metadata": {},
     "output_type": "execute_result"
    },
    {
     "data": {
      "image/png": "[encoded data removed]",
      "text/plain": [
       "<Figure size 432x288 with 1 Axes>"
      ]
     },
     "metadata": {
      "needs_background": "light"
     },
     "output_type": "display_data"
    }
   ],
   "source": [
    "bins = np.linspace(0, 4, 50)\n",
    "BCS_df[\"Dst_pt\"].hist(bins=bins)"
   ]
  },
  {
   "cell_type": "code",
   "execution_count": 52,
   "metadata": {
    "scrolled": true
   },
   "outputs": [
    {
     "data": {
      "text/plain": [
       "<AxesSubplot:>"
      ]
     },
     "execution_count": 52,
     "metadata": {},
     "output_type": "execute_result"
    },
    {
     "data": {
      "image/png": "[encoded data removed]",
      "text/plain": [
       "<Figure size 432x288 with 1 Axes>"
      ]
     },
     "metadata": {
      "needs_background": "light"
     },
     "output_type": "display_data"
    }
   ],
   "source": [
    "bins = np.linspace(0, 4, 50)\n",
    "BCS_df[\"lep_pt\"].hist(bins=bins)"
   ]
  },
  {
   "cell_type": "code",
   "execution_count": 53,
   "metadata": {},
   "outputs": [
    {
     "data": {
      "image/png": "[encoded data removed]",
      "text/plain": [
       "<Figure size 576x360 with 1 Axes>"
      ]
     },
     "metadata": {
      "needs_background": "light"
     },
     "output_type": "display_data"
    }
   ],
   "source": [
    "fig, ax = plt.subplots()\n",
    "    \n",
    "bins = np.linspace(-4, 4, 50)\n",
    "\n",
    "fig.suptitle('--')\n",
    "fig.set_size_inches(8, 5)\n",
    "\n",
    "ax.set_xlabel(r'$m_{miss}^2$ in GeV$^2$')\n",
    "ax.set_ylabel(\"events\")\n",
    "\n",
    "ax.hist(BCS_df.m2RecoilSignalSide, bins, alpha=0.5, label=\"no filter\" ,histtype='step')\n",
    "ax.hist(BCS_df[BCS_df.dau0_Mbc > 5.00].m2RecoilSignalSide, bins, alpha=0.5, label=\"dau0_Mbc > 5.00\" ,histtype='step')\n",
    "ax.hist(BCS_df[(BCS_df.dau0_deltaE > -.2) & BCS_df.dau0_deltaE < .2].m2RecoilSignalSide, bins, alpha=0.5, label=\"abs(dau0_deltaE) < 0.2\" ,histtype='step')\n",
    "#ax.hist(BCS_df[(BCS_df.Dst_pt < 2.4) & (BCS_df.lep_pt > 1.0)].m2RecoilSignalSide, bins, alpha=0.5, label=\"Dst_pt < 2.4 & lep_pt > 1.0\" ,histtype='step')\n",
    "ax.hist(BCS_df[(BCS_df.lep_pt > 1.0)].m2RecoilSignalSide, bins, alpha=0.5, label=\"lep_pt > 1.0\" ,histtype='step')\n",
    "#ax.hist(BCS_df[(BCS_df.Dst_pt < 2.4)].m2RecoilSignalSide, bins, alpha=0.5, label=\"Dst_pt < 2.4\" ,histtype='step')\n",
    "ax.hist(BCS_df[(BCS_df.lep_pt > 1.0) & (BCS_df.dau0_deltaE > -.2) & (BCS_df.dau0_deltaE < .2) & (BCS_df.dau0_Mbc > 5.00)].m2RecoilSignalSide, bins, alpha=0.5, label=\"all cuts combined\" ,histtype='step')\n",
    "\n",
    "#tmp2 = BCS_df[(BCS_df.lep_pt > 1.0) & (BCS_df.dau0_deltaE > -.2) & (BCS_df.dau0_deltaE < .2) & (BCS_df.dau0_Mbc > 5.00)]\n",
    "#ax.hist(tmp2[(tmp2.D_M > 1.8) & (tmp2.D_M < 1.95)].m2RecoilSignalSide, bins, alpha=0.5, label=\"plus D M cut\" ,histtype='step')\n",
    "\n",
    "ax.legend(loc='upper left')\n",
    "\n",
    "\n",
    "plt.savefig('plots/ONLINE_APP_FIXED_onlineNN_m2RecoilFilters.pdf')"
   ]
  },
  {
   "cell_type": "code",
   "execution_count": 54,
   "metadata": {},
   "outputs": [
    {
     "data": {
      "text/plain": [
       "<matplotlib.legend.Legend at 0x2b1c1dfed4a8>"
      ]
     },
     "execution_count": 54,
     "metadata": {},
     "output_type": "execute_result"
    },
    {
     "data": {
      "image/png": "[encoded data removed]",
      "text/plain": [
       "<Figure size 576x360 with 1 Axes>"
      ]
     },
     "metadata": {
      "needs_background": "light"
     },
     "output_type": "display_data"
    }
   ],
   "source": [
    "fig, ax = plt.subplots()\n",
    "    \n",
    "bins = np.linspace(-4, 4, 50)\n",
    "\n",
    "fig.suptitle('--')\n",
    "fig.set_size_inches(8, 5)\n",
    "\n",
    "ax.set_xlabel(r'$m_{miss}^2$ in GeV$^2$')\n",
    "ax.set_ylabel(\"events\")\n",
    "\n",
    "#ax.hist(BCS_df.m2RecoilSignalSide, bins, alpha=0.5, label=\"no filter\" ,histtype='step')\n",
    "#ax.hist(BCS_df[BCS_df.dau0_Mbc > 5.00].m2RecoilSignalSide, bins, alpha=0.5, label=\"dau0_Mbc > 5.00\" ,histtype='step')\n",
    "#ax.hist(BCS_df[(BCS_df.dau0_deltaE > -.2) & BCS_df.dau0_deltaE < .2].m2RecoilSignalSide, bins, alpha=0.5, label=\"abs(dau0_deltaE) < 0.2\" ,histtype='step')\n",
    "#ax.hist(BCS_df[(BCS_df.Dst_pt < 2.4) & (BCS_df.lep_pt > 1.0)].m2RecoilSignalSide, bins, alpha=0.5, label=\"Dst_pt < 2.4 & lep_pt > 1.0\" ,histtype='step')\n",
    "#ax.hist(BCS_df[(BCS_df.lep_pt > 1.0)].m2RecoilSignalSide, bins, alpha=0.5, label=\"lep_pt > 1.0\" ,histtype='step')\n",
    "#ax.hist(BCS_df[(BCS_df.Dst_pt < 2.4)].m2RecoilSignalSide, bins, alpha=0.5, label=\"Dst_pt < 2.4\" ,histtype='step')\n",
    "#ax.hist(BCS_df[(BCS_df.lep_pt > 1.0) & (BCS_df.dau0_deltaE > -.2) & (BCS_df.dau0_deltaE < .2) & (BCS_df.dau0_Mbc > 5.00)].m2RecoilSignalSide, bins, alpha=0.5, label=\"lep_pt,dau0_deltaE,dau0_Mbc\" ,histtype='step')\n",
    "\n",
    "tmp2 = BCS_df[(BCS_df.lep_pt > 1.0) & (BCS_df.dau0_deltaE > -.2) & (BCS_df.dau0_deltaE < .2) & (BCS_df.dau0_Mbc > 5.00)]\n",
    "ax.hist(tmp2[(tmp2.D_M > 1.8) & (tmp2.D_M < 1.95)].m2RecoilSignalSide, bins, alpha=0.5, label=\"plus D M cut\" ,histtype='step')\n",
    "\n",
    "ax.legend(loc='upper left')"
   ]
  },
  {
   "cell_type": "markdown",
   "metadata": {},
   "source": [
    "## analyse how many errors per evt etc"
   ]
  },
  {
   "cell_type": "code",
   "execution_count": 55,
   "metadata": {},
   "outputs": [
    {
     "data": {
      "text/html": [
       "<div>\n",
       "<style scoped>\n",
       "    .dataframe tbody tr th:only-of-type {\n",
       "        vertical-align: middle;\n",
       "    }\n",
       "\n",
       "    .dataframe tbody tr th {\n",
       "        vertical-align: top;\n",
       "    }\n",
       "\n",
       "    .dataframe thead th {\n",
       "        text-align: right;\n",
       "    }\n",
       "</style>\n",
       "<table border=\"1\" class=\"dataframe\">\n",
       "  <thead>\n",
       "    <tr style=\"text-align: right;\">\n",
       "      <th></th>\n",
       "      <th>__event__</th>\n",
       "      <th>frac. correct FSPs</th>\n",
       "      <th>num corr preds</th>\n",
       "      <th>numFSPs</th>\n",
       "    </tr>\n",
       "  </thead>\n",
       "  <tbody>\n",
       "    <tr>\n",
       "      <th>0</th>\n",
       "      <td>2422</td>\n",
       "      <td>0.625000</td>\n",
       "      <td>10</td>\n",
       "      <td>16</td>\n",
       "    </tr>\n",
       "    <tr>\n",
       "      <th>1</th>\n",
       "      <td>2975</td>\n",
       "      <td>0.888889</td>\n",
       "      <td>8</td>\n",
       "      <td>9</td>\n",
       "    </tr>\n",
       "    <tr>\n",
       "      <th>2</th>\n",
       "      <td>3765</td>\n",
       "      <td>0.625000</td>\n",
       "      <td>10</td>\n",
       "      <td>16</td>\n",
       "    </tr>\n",
       "    <tr>\n",
       "      <th>3</th>\n",
       "      <td>5639</td>\n",
       "      <td>0.777778</td>\n",
       "      <td>14</td>\n",
       "      <td>18</td>\n",
       "    </tr>\n",
       "    <tr>\n",
       "      <th>4</th>\n",
       "      <td>5845</td>\n",
       "      <td>0.642857</td>\n",
       "      <td>9</td>\n",
       "      <td>14</td>\n",
       "    </tr>\n",
       "    <tr>\n",
       "      <th>...</th>\n",
       "      <td>...</td>\n",
       "      <td>...</td>\n",
       "      <td>...</td>\n",
       "      <td>...</td>\n",
       "    </tr>\n",
       "    <tr>\n",
       "      <th>16240</th>\n",
       "      <td>50984167</td>\n",
       "      <td>0.933333</td>\n",
       "      <td>14</td>\n",
       "      <td>15</td>\n",
       "    </tr>\n",
       "    <tr>\n",
       "      <th>16241</th>\n",
       "      <td>50988678</td>\n",
       "      <td>0.700000</td>\n",
       "      <td>14</td>\n",
       "      <td>20</td>\n",
       "    </tr>\n",
       "    <tr>\n",
       "      <th>16242</th>\n",
       "      <td>50988743</td>\n",
       "      <td>0.777778</td>\n",
       "      <td>7</td>\n",
       "      <td>9</td>\n",
       "    </tr>\n",
       "    <tr>\n",
       "      <th>16243</th>\n",
       "      <td>50991574</td>\n",
       "      <td>0.812500</td>\n",
       "      <td>13</td>\n",
       "      <td>16</td>\n",
       "    </tr>\n",
       "    <tr>\n",
       "      <th>16244</th>\n",
       "      <td>50998758</td>\n",
       "      <td>0.666667</td>\n",
       "      <td>8</td>\n",
       "      <td>12</td>\n",
       "    </tr>\n",
       "  </tbody>\n",
       "</table>\n",
       "<p>16245 rows × 4 columns</p>\n",
       "</div>"
      ],
      "text/plain": [
       "       __event__  frac. correct FSPs  num corr preds  numFSPs\n",
       "0           2422            0.625000              10       16\n",
       "1           2975            0.888889               8        9\n",
       "2           3765            0.625000              10       16\n",
       "3           5639            0.777778              14       18\n",
       "4           5845            0.642857               9       14\n",
       "...          ...                 ...             ...      ...\n",
       "16240   50984167            0.933333              14       15\n",
       "16241   50988678            0.700000              14       20\n",
       "16242   50988743            0.777778               7        9\n",
       "16243   50991574            0.812500              13       16\n",
       "16244   50998758            0.666667               8       12\n",
       "\n",
       "[16245 rows x 4 columns]"
      ]
     },
     "execution_count": 55,
     "metadata": {},
     "output_type": "execute_result"
    }
   ],
   "source": [
    "percCorrect_df = pd.DataFrame({'frac. correct FSPs' : nonHc_FSPs.groupby([\"__event__\",\"correct_pred\"] ).size()/nonHc_FSPs.groupby( [\"__event__\"] ).size(),\n",
    "                              'num corr preds' : nonHc_FSPs.groupby([\"__event__\",\"correct_pred\"] ).size()}).reset_index()\n",
    "percCorrect_df = percCorrect_df[percCorrect_df[\"correct_pred\"] == 1]\n",
    "numFSPs = pd.DataFrame({'numFSPs' : nonHc_FSPs.groupby( [\"__event__\"] ).size()}).reset_index()\n",
    "\n",
    "online_NN_results = pd.merge(percCorrect_df[[\"__event__\",\"frac. correct FSPs\",\"num corr preds\"]],\n",
    "                             numFSPs[[\"__event__\",\"numFSPs\"]],on=[\"__event__\"],how='outer')\n",
    "online_NN_results"
   ]
  },
  {
   "cell_type": "code",
   "execution_count": 56,
   "metadata": {},
   "outputs": [],
   "source": [
    "online_NN_results['frac. correct FSPs'] = online_NN_results['frac. correct FSPs'].fillna(0)\n",
    "online_NN_results['num corr preds'] = online_NN_results['num corr preds'].fillna(0)"
   ]
  },
  {
   "cell_type": "code",
   "execution_count": 57,
   "metadata": {},
   "outputs": [],
   "source": [
    "online_NN_results[\"num errors\"] = online_NN_results[\"numFSPs\"] - online_NN_results[\"num corr preds\"]"
   ]
  },
  {
   "cell_type": "code",
   "execution_count": null,
   "metadata": {},
   "outputs": [],
   "source": []
  },
  {
   "cell_type": "markdown",
   "metadata": {},
   "source": [
    "## make comparison plots between online/offline application of NN"
   ]
  },
  {
   "cell_type": "code",
   "execution_count": 58,
   "metadata": {},
   "outputs": [],
   "source": [
    "path_df = \"/nfs/dust/belle2/user/axelheim/MC_studies/Dstlnu_Bt_generic/MM2plotFromPreds/\"\n",
    "offline_NN_results = pd.read_csv(path_df + \"offline_NN_results.csv\")"
   ]
  },
  {
   "cell_type": "code",
   "execution_count": 59,
   "metadata": {},
   "outputs": [
    {
     "data": {
      "text/plain": [
       "Index(['Unnamed: 0', 'event', 'frac. correct FSPs', 'num corr preds',\n",
       "       'numFSPs', 'px_summed_bg', 'py_summed_bg', 'pz_summed_bg',\n",
       "       'E_summed_bg', 'CMSpx_summed_bg', 'CMSpy_summed_bg', 'CMSpz_summed_bg',\n",
       "       'CMSE_summed_bg', 'px_summed_X', 'py_summed_X', 'pz_summed_X',\n",
       "       'E_summed_X', 'CMSpx_summed_X', 'CMSpy_summed_X', 'CMSpz_summed_X',\n",
       "       'CMSE_summed_X', 'px_summed_Bs', 'py_summed_Bs', 'pz_summed_Bs',\n",
       "       'E_summed_Bs', 'CMSpx_summed_Bs', 'CMSpy_summed_Bs', 'CMSpz_summed_Bs',\n",
       "       'CMSE_summed_Bs', 'Hc_px', 'Hc_py', 'Hc_pz', 'Hc_E', 'Hc_cmpx',\n",
       "       'Hc_cmpy', 'Hc_cmpz', 'Hc_cmE', 'Hc_cmPx', 'Hc_cmPy', 'Hc_cmPz',\n",
       "       'num errors', 'Mbc_Btag', 'MM2recoilSignalSide', 'deltaE',\n",
       "       'summed_wrongPred_p'],\n",
       "      dtype='object')"
      ]
     },
     "execution_count": 59,
     "metadata": {},
     "output_type": "execute_result"
    }
   ],
   "source": [
    "offline_NN_results.keys()"
   ]
  },
  {
   "cell_type": "code",
   "execution_count": null,
   "metadata": {},
   "outputs": [],
   "source": []
  },
  {
   "cell_type": "code",
   "execution_count": 60,
   "metadata": {},
   "outputs": [
    {
     "data": {
      "image/png": "[encoded data removed]",
      "text/plain": [
       "<Figure size 576x360 with 1 Axes>"
      ]
     },
     "metadata": {
      "needs_background": "light"
     },
     "output_type": "display_data"
    }
   ],
   "source": [
    "fig, ax = plt.subplots()\n",
    "num_steps=20\n",
    "bins = np.linspace(0, num_steps, 21)\n",
    "\n",
    "fig.suptitle('online vs. offline application of NN separator')\n",
    "fig.set_size_inches(8, 5)\n",
    "\n",
    "ax.set_xlabel(r'number of wrong predictions per event')\n",
    "ax.set_ylabel(\"fraction of events\")\n",
    "\n",
    "plt.xticks(np.arange(0, num_steps, step=1))\n",
    "\n",
    "ax.hist(offline_NN_results[\"num errors\"], bins, density=True, alpha=0.5, label=\"offline NN application\" ,histtype='step')\n",
    "ax.hist(online_NN_results[\"num errors\"], bins, density=True, alpha=0.5, label=\"online NN application\" ,histtype='step')\n",
    "\n",
    "ax.legend(loc='upper right')\n",
    "\n",
    "#plt.grid()\n",
    "\n",
    "plt.savefig('plots/ONLINE_APP_FIXED_onlineVSofflineNN_numErrorsPerEvent.pdf')"
   ]
  },
  {
   "cell_type": "code",
   "execution_count": 61,
   "metadata": {},
   "outputs": [
    {
     "data": {
      "image/png": "[encoded data removed]",
      "text/plain": [
       "<Figure size 576x360 with 1 Axes>"
      ]
     },
     "metadata": {
      "needs_background": "light"
     },
     "output_type": "display_data"
    }
   ],
   "source": [
    "fig, ax = plt.subplots()\n",
    "\n",
    "bins = np.linspace(0, 1, 20)\n",
    "\n",
    "fig.suptitle('online vs. offline application of NN separator')\n",
    "fig.set_size_inches(8, 5)\n",
    "\n",
    "ax.set_xlabel(r'fraction of correct predictions per event')\n",
    "ax.set_ylabel(\"fraction of events\")\n",
    "\n",
    "ax.hist(offline_NN_results[\"frac. correct FSPs\"], bins, density=True, alpha=0.5, label=\"offline NN application\" ,histtype='step')\n",
    "ax.hist(online_NN_results[\"frac. correct FSPs\"], bins, density=True, alpha=0.5, label=\"online NN application\" ,histtype='step')\n",
    "\n",
    "ax.legend(loc='upper left')\n",
    "\n",
    "plt.grid()\n",
    "\n",
    "plt.savefig('plots/ONLINE_APP_FIXED_onlineVSofflineNN_fracErrorsPerEvent.pdf')"
   ]
  },
  {
   "cell_type": "code",
   "execution_count": 62,
   "metadata": {},
   "outputs": [
    {
     "data": {
      "image/png": "[encoded data removed]",
      "text/plain": [
       "<Figure size 576x360 with 1 Axes>"
      ]
     },
     "metadata": {
      "needs_background": "light"
     },
     "output_type": "display_data"
    }
   ],
   "source": [
    "fig, ax = plt.subplots()\n",
    "\n",
    "bins = np.linspace(0, 35, 36)\n",
    "\n",
    "fig.suptitle('online vs. offline application of NN separator')\n",
    "fig.set_size_inches(8, 5)\n",
    "\n",
    "ax.set_xlabel(r'number of FSPs per event')\n",
    "ax.set_ylabel(\"fraction of events\")\n",
    "\n",
    "ax.hist(offline_NN_results[\"numFSPs\"], bins, density=True, alpha=0.5, label=\"offline NN application\" ,histtype='step')\n",
    "ax.hist(online_NN_results[\"numFSPs\"], bins, density=True, alpha=0.5, label=\"online NN application\" ,histtype='step')\n",
    "\n",
    "ax.legend(loc='upper left')\n",
    "\n",
    "plt.grid()\n",
    "\n",
    "plt.savefig('plots/ONLINE_APP_FIXED_onlineVSofflineNN_numFSPs.pdf')"
   ]
  },
  {
   "cell_type": "code",
   "execution_count": null,
   "metadata": {},
   "outputs": [],
   "source": []
  },
  {
   "cell_type": "code",
   "execution_count": null,
   "metadata": {},
   "outputs": [],
   "source": []
  },
  {
   "cell_type": "code",
   "execution_count": null,
   "metadata": {},
   "outputs": [],
   "source": []
  }
 ],
 "metadata": {
  "kernelspec": {
   "display_name": "Python 3",
   "language": "python",
   "name": "python3"
  },
  "language_info": {
   "codemirror_mode": {
    "name": "ipython",
    "version": 3
   },
   "file_extension": ".py",
   "mimetype": "text/x-python",
   "name": "python",
   "nbconvert_exporter": "python",
   "pygments_lexer": "ipython3",
   "version": "3.6.8"
  }
 },
 "nbformat": 4,
 "nbformat_minor": 4
}
