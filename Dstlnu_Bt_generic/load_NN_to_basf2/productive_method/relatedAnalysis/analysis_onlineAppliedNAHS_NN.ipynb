{
 "cells": [
  {
   "cell_type": "code",
   "execution_count": 36,
   "metadata": {},
   "outputs": [],
   "source": [
    "import matplotlib.pyplot as plt\n",
    "import uproot\n",
    "import numpy as np\n",
    "import pandas as pd\n",
    "import matplotlib as mpl\n",
    "\n",
    "import sys\n",
    "sys.path.insert(1, '/afs/desy.de/user/a/axelheim/private/MC_studies/Dstlnu_Bt_generic/util_funcs/')\n",
    "from pandas_colFuncs import B_ID, whichBisSig, D0_decay_type, whichBisSig_NAHS"
   ]
  },
  {
   "cell_type": "code",
   "execution_count": 37,
   "metadata": {},
   "outputs": [],
   "source": [
    "nfs_path = \"/nfs/dust/belle2/user/axelheim/MC_studies/Dstlnu_Bt_generic/appliedNNdata/11thRun/\""
   ]
  },
  {
   "cell_type": "code",
   "execution_count": 40,
   "metadata": {},
   "outputs": [],
   "source": [
    "Ups4S_file = uproot.open(nfs_path + \"Ups4S_NN_predicted.root:variables;1\")\n",
    "df_Ups4S = Ups4S_file.arrays(library=\"pd\")"
   ]
  },
  {
   "cell_type": "code",
   "execution_count": 41,
   "metadata": {},
   "outputs": [
    {
     "data": {
      "text/plain": [
       "<AxesSubplot:>"
      ]
     },
     "execution_count": 41,
     "metadata": {},
     "output_type": "execute_result"
    },
    {
     "data": {
      "image/png": "[encoded data removed]",
      "text/plain": [
       "<Figure size 432x288 with 1 Axes>"
      ]
     },
     "metadata": {
      "needs_background": "light"
     },
     "output_type": "display_data"
    }
   ],
   "source": [
    "df_Ups4S[\"abs_m2RecoilSignalSide\"] = df_Ups4S[\"m2RecoilSignalSide\"].abs() \n",
    "BCS_df = df_Ups4S.sort_values(\"abs_m2RecoilSignalSide\",ascending=True).drop_duplicates(subset=(\"__event__\"), keep='first')\n",
    "\n",
    "BCS_df[\"dau0_dau0_sigProb\"].hist()"
   ]
  },
  {
   "cell_type": "code",
   "execution_count": 102,
   "metadata": {},
   "outputs": [],
   "source": [
    "FSPs_file = uproot.open(nfs_path + \"FSPs.root:variables;1\")\n",
    "df_FSPs = FSPs_file.arrays(library=\"pd\")"
   ]
  },
  {
   "cell_type": "code",
   "execution_count": 143,
   "metadata": {},
   "outputs": [],
   "source": [
    "evt_counter_file = uproot.open(nfs_path + \"evt_counter.root:variables;1\")\n",
    "df_evt_counter = evt_counter_file.arrays(library=\"pd\")"
   ]
  },
  {
   "cell_type": "code",
   "execution_count": 144,
   "metadata": {},
   "outputs": [
    {
     "data": {
      "text/plain": [
       "18021387"
      ]
     },
     "execution_count": 144,
     "metadata": {},
     "output_type": "execute_result"
    }
   ],
   "source": [
    "df_evt_counter.groupby([\"__event__\",\"__production__\"]).ngroups"
   ]
  },
  {
   "cell_type": "code",
   "execution_count": 103,
   "metadata": {
    "scrolled": true
   },
   "outputs": [
    {
     "name": "stdout",
     "output_type": "stream",
     "text": [
      "812573\n",
      "98414\n",
      "1818076\n"
     ]
    }
   ],
   "source": [
    "print(df_Ups4S.shape[0])\n",
    "print(df_Ups4S[\"__event__\"].nunique())\n",
    "print(df_FSPs.shape[0])"
   ]
  },
  {
   "cell_type": "code",
   "execution_count": 145,
   "metadata": {},
   "outputs": [
    {
     "name": "stdout",
     "output_type": "stream",
     "text": [
      "18021387\n"
     ]
    }
   ],
   "source": [
    "print(df_evt_counter.shape[0])"
   ]
  },
  {
   "cell_type": "markdown",
   "metadata": {},
   "source": [
    "## save df's"
   ]
  },
  {
   "cell_type": "code",
   "execution_count": null,
   "metadata": {},
   "outputs": [],
   "source": [
    "df_FSPs.to_csv(nfs_path + \"FSPs_df.csv\")\n",
    "df_Ups4S.to_csv(nfs_path + \"Ups4S_df.csv\")"
   ]
  },
  {
   "cell_type": "code",
   "execution_count": null,
   "metadata": {},
   "outputs": [],
   "source": [
    "df_evt_counter.to_csv(nfs_path + \"evt_counter_df.csv\")"
   ]
  },
  {
   "cell_type": "markdown",
   "metadata": {},
   "source": [
    "## load df's"
   ]
  },
  {
   "cell_type": "code",
   "execution_count": 38,
   "metadata": {},
   "outputs": [
    {
     "ename": "FileNotFoundError",
     "evalue": "[Errno 2] No such file or directory: '/nfs/dust/belle2/user/axelheim/MC_studies/Dstlnu_Bt_generic/appliedNNdata/11thRun/FSPs_df.csv'",
     "output_type": "error",
     "traceback": [
      "\u001b[0;31m---------------------------------------------------------------------------\u001b[0m",
      "\u001b[0;31mFileNotFoundError\u001b[0m                         Traceback (most recent call last)",
      "\u001b[0;32m<ipython-input-38-9a1e7d4a84bd>\u001b[0m in \u001b[0;36m<module>\u001b[0;34m\u001b[0m\n\u001b[1;32m      1\u001b[0m \u001b[0mdf_Ups4S\u001b[0m \u001b[0;34m=\u001b[0m \u001b[0mpd\u001b[0m\u001b[0;34m.\u001b[0m\u001b[0mread_csv\u001b[0m\u001b[0;34m(\u001b[0m\u001b[0mnfs_path\u001b[0m \u001b[0;34m+\u001b[0m \u001b[0;34m\"Ups4S_df.csv\"\u001b[0m\u001b[0;34m)\u001b[0m\u001b[0;34m\u001b[0m\u001b[0;34m\u001b[0m\u001b[0m\n\u001b[0;32m----> 2\u001b[0;31m \u001b[0mdf_FSPs\u001b[0m \u001b[0;34m=\u001b[0m \u001b[0mpd\u001b[0m\u001b[0;34m.\u001b[0m\u001b[0mread_csv\u001b[0m\u001b[0;34m(\u001b[0m\u001b[0mnfs_path\u001b[0m \u001b[0;34m+\u001b[0m \u001b[0;34m\"FSPs_df.csv\"\u001b[0m\u001b[0;34m)\u001b[0m\u001b[0;34m\u001b[0m\u001b[0;34m\u001b[0m\u001b[0m\n\u001b[0m\u001b[1;32m      3\u001b[0m \u001b[0;31m#df_evt_counter = pd.read_csv(nfs_path + \"evt_counter_df.csv\")\u001b[0m\u001b[0;34m\u001b[0m\u001b[0;34m\u001b[0m\u001b[0;34m\u001b[0m\u001b[0m\n",
      "\u001b[0;32m/usr/local/lib64/python3.6/site-packages/pandas/io/parsers.py\u001b[0m in \u001b[0;36mread_csv\u001b[0;34m(filepath_or_buffer, sep, delimiter, header, names, index_col, usecols, squeeze, prefix, mangle_dupe_cols, dtype, engine, converters, true_values, false_values, skipinitialspace, skiprows, skipfooter, nrows, na_values, keep_default_na, na_filter, verbose, skip_blank_lines, parse_dates, infer_datetime_format, keep_date_col, date_parser, dayfirst, cache_dates, iterator, chunksize, compression, thousands, decimal, lineterminator, quotechar, quoting, doublequote, escapechar, comment, encoding, dialect, error_bad_lines, warn_bad_lines, delim_whitespace, low_memory, memory_map, float_precision)\u001b[0m\n\u001b[1;32m    686\u001b[0m     )\n\u001b[1;32m    687\u001b[0m \u001b[0;34m\u001b[0m\u001b[0m\n\u001b[0;32m--> 688\u001b[0;31m     \u001b[0;32mreturn\u001b[0m \u001b[0m_read\u001b[0m\u001b[0;34m(\u001b[0m\u001b[0mfilepath_or_buffer\u001b[0m\u001b[0;34m,\u001b[0m \u001b[0mkwds\u001b[0m\u001b[0;34m)\u001b[0m\u001b[0;34m\u001b[0m\u001b[0;34m\u001b[0m\u001b[0m\n\u001b[0m\u001b[1;32m    689\u001b[0m \u001b[0;34m\u001b[0m\u001b[0m\n\u001b[1;32m    690\u001b[0m \u001b[0;34m\u001b[0m\u001b[0m\n",
      "\u001b[0;32m/usr/local/lib64/python3.6/site-packages/pandas/io/parsers.py\u001b[0m in \u001b[0;36m_read\u001b[0;34m(filepath_or_buffer, kwds)\u001b[0m\n\u001b[1;32m    452\u001b[0m \u001b[0;34m\u001b[0m\u001b[0m\n\u001b[1;32m    453\u001b[0m     \u001b[0;31m# Create the parser.\u001b[0m\u001b[0;34m\u001b[0m\u001b[0;34m\u001b[0m\u001b[0;34m\u001b[0m\u001b[0m\n\u001b[0;32m--> 454\u001b[0;31m     \u001b[0mparser\u001b[0m \u001b[0;34m=\u001b[0m \u001b[0mTextFileReader\u001b[0m\u001b[0;34m(\u001b[0m\u001b[0mfp_or_buf\u001b[0m\u001b[0;34m,\u001b[0m \u001b[0;34m**\u001b[0m\u001b[0mkwds\u001b[0m\u001b[0;34m)\u001b[0m\u001b[0;34m\u001b[0m\u001b[0;34m\u001b[0m\u001b[0m\n\u001b[0m\u001b[1;32m    455\u001b[0m \u001b[0;34m\u001b[0m\u001b[0m\n\u001b[1;32m    456\u001b[0m     \u001b[0;32mif\u001b[0m \u001b[0mchunksize\u001b[0m \u001b[0;32mor\u001b[0m \u001b[0miterator\u001b[0m\u001b[0;34m:\u001b[0m\u001b[0;34m\u001b[0m\u001b[0;34m\u001b[0m\u001b[0m\n",
      "\u001b[0;32m/usr/local/lib64/python3.6/site-packages/pandas/io/parsers.py\u001b[0m in \u001b[0;36m__init__\u001b[0;34m(self, f, engine, **kwds)\u001b[0m\n\u001b[1;32m    946\u001b[0m             \u001b[0mself\u001b[0m\u001b[0;34m.\u001b[0m\u001b[0moptions\u001b[0m\u001b[0;34m[\u001b[0m\u001b[0;34m\"has_index_names\"\u001b[0m\u001b[0;34m]\u001b[0m \u001b[0;34m=\u001b[0m \u001b[0mkwds\u001b[0m\u001b[0;34m[\u001b[0m\u001b[0;34m\"has_index_names\"\u001b[0m\u001b[0;34m]\u001b[0m\u001b[0;34m\u001b[0m\u001b[0;34m\u001b[0m\u001b[0m\n\u001b[1;32m    947\u001b[0m \u001b[0;34m\u001b[0m\u001b[0m\n\u001b[0;32m--> 948\u001b[0;31m         \u001b[0mself\u001b[0m\u001b[0;34m.\u001b[0m\u001b[0m_make_engine\u001b[0m\u001b[0;34m(\u001b[0m\u001b[0mself\u001b[0m\u001b[0;34m.\u001b[0m\u001b[0mengine\u001b[0m\u001b[0;34m)\u001b[0m\u001b[0;34m\u001b[0m\u001b[0;34m\u001b[0m\u001b[0m\n\u001b[0m\u001b[1;32m    949\u001b[0m \u001b[0;34m\u001b[0m\u001b[0m\n\u001b[1;32m    950\u001b[0m     \u001b[0;32mdef\u001b[0m \u001b[0mclose\u001b[0m\u001b[0;34m(\u001b[0m\u001b[0mself\u001b[0m\u001b[0;34m)\u001b[0m\u001b[0;34m:\u001b[0m\u001b[0;34m\u001b[0m\u001b[0;34m\u001b[0m\u001b[0m\n",
      "\u001b[0;32m/usr/local/lib64/python3.6/site-packages/pandas/io/parsers.py\u001b[0m in \u001b[0;36m_make_engine\u001b[0;34m(self, engine)\u001b[0m\n\u001b[1;32m   1178\u001b[0m     \u001b[0;32mdef\u001b[0m \u001b[0m_make_engine\u001b[0m\u001b[0;34m(\u001b[0m\u001b[0mself\u001b[0m\u001b[0;34m,\u001b[0m \u001b[0mengine\u001b[0m\u001b[0;34m=\u001b[0m\u001b[0;34m\"c\"\u001b[0m\u001b[0;34m)\u001b[0m\u001b[0;34m:\u001b[0m\u001b[0;34m\u001b[0m\u001b[0;34m\u001b[0m\u001b[0m\n\u001b[1;32m   1179\u001b[0m         \u001b[0;32mif\u001b[0m \u001b[0mengine\u001b[0m \u001b[0;34m==\u001b[0m \u001b[0;34m\"c\"\u001b[0m\u001b[0;34m:\u001b[0m\u001b[0;34m\u001b[0m\u001b[0;34m\u001b[0m\u001b[0m\n\u001b[0;32m-> 1180\u001b[0;31m             \u001b[0mself\u001b[0m\u001b[0;34m.\u001b[0m\u001b[0m_engine\u001b[0m \u001b[0;34m=\u001b[0m \u001b[0mCParserWrapper\u001b[0m\u001b[0;34m(\u001b[0m\u001b[0mself\u001b[0m\u001b[0;34m.\u001b[0m\u001b[0mf\u001b[0m\u001b[0;34m,\u001b[0m \u001b[0;34m**\u001b[0m\u001b[0mself\u001b[0m\u001b[0;34m.\u001b[0m\u001b[0moptions\u001b[0m\u001b[0;34m)\u001b[0m\u001b[0;34m\u001b[0m\u001b[0;34m\u001b[0m\u001b[0m\n\u001b[0m\u001b[1;32m   1181\u001b[0m         \u001b[0;32melse\u001b[0m\u001b[0;34m:\u001b[0m\u001b[0;34m\u001b[0m\u001b[0;34m\u001b[0m\u001b[0m\n\u001b[1;32m   1182\u001b[0m             \u001b[0;32mif\u001b[0m \u001b[0mengine\u001b[0m \u001b[0;34m==\u001b[0m \u001b[0;34m\"python\"\u001b[0m\u001b[0;34m:\u001b[0m\u001b[0;34m\u001b[0m\u001b[0;34m\u001b[0m\u001b[0m\n",
      "\u001b[0;32m/usr/local/lib64/python3.6/site-packages/pandas/io/parsers.py\u001b[0m in \u001b[0;36m__init__\u001b[0;34m(self, src, **kwds)\u001b[0m\n\u001b[1;32m   2008\u001b[0m         \u001b[0mkwds\u001b[0m\u001b[0;34m[\u001b[0m\u001b[0;34m\"usecols\"\u001b[0m\u001b[0;34m]\u001b[0m \u001b[0;34m=\u001b[0m \u001b[0mself\u001b[0m\u001b[0;34m.\u001b[0m\u001b[0musecols\u001b[0m\u001b[0;34m\u001b[0m\u001b[0;34m\u001b[0m\u001b[0m\n\u001b[1;32m   2009\u001b[0m \u001b[0;34m\u001b[0m\u001b[0m\n\u001b[0;32m-> 2010\u001b[0;31m         \u001b[0mself\u001b[0m\u001b[0;34m.\u001b[0m\u001b[0m_reader\u001b[0m \u001b[0;34m=\u001b[0m \u001b[0mparsers\u001b[0m\u001b[0;34m.\u001b[0m\u001b[0mTextReader\u001b[0m\u001b[0;34m(\u001b[0m\u001b[0msrc\u001b[0m\u001b[0;34m,\u001b[0m \u001b[0;34m**\u001b[0m\u001b[0mkwds\u001b[0m\u001b[0;34m)\u001b[0m\u001b[0;34m\u001b[0m\u001b[0;34m\u001b[0m\u001b[0m\n\u001b[0m\u001b[1;32m   2011\u001b[0m         \u001b[0mself\u001b[0m\u001b[0;34m.\u001b[0m\u001b[0munnamed_cols\u001b[0m \u001b[0;34m=\u001b[0m \u001b[0mself\u001b[0m\u001b[0;34m.\u001b[0m\u001b[0m_reader\u001b[0m\u001b[0;34m.\u001b[0m\u001b[0munnamed_cols\u001b[0m\u001b[0;34m\u001b[0m\u001b[0;34m\u001b[0m\u001b[0m\n\u001b[1;32m   2012\u001b[0m \u001b[0;34m\u001b[0m\u001b[0m\n",
      "\u001b[0;32mpandas/_libs/parsers.pyx\u001b[0m in \u001b[0;36mpandas._libs.parsers.TextReader.__cinit__\u001b[0;34m()\u001b[0m\n",
      "\u001b[0;32mpandas/_libs/parsers.pyx\u001b[0m in \u001b[0;36mpandas._libs.parsers.TextReader._setup_parser_source\u001b[0;34m()\u001b[0m\n",
      "\u001b[0;31mFileNotFoundError\u001b[0m: [Errno 2] No such file or directory: '/nfs/dust/belle2/user/axelheim/MC_studies/Dstlnu_Bt_generic/appliedNNdata/11thRun/FSPs_df.csv'"
     ]
    }
   ],
   "source": [
    "df_Ups4S = pd.read_csv(nfs_path + \"Ups4S_df.csv\")\n",
    "df_FSPs = pd.read_csv(nfs_path + \"FSPs_df.csv\")\n",
    "#df_evt_counter = pd.read_csv(nfs_path + \"evt_counter_df.csv\")"
   ]
  },
  {
   "cell_type": "code",
   "execution_count": null,
   "metadata": {},
   "outputs": [],
   "source": [
    "df_Ups4S"
   ]
  },
  {
   "cell_type": "markdown",
   "metadata": {},
   "source": [
    "# Analysis"
   ]
  },
  {
   "cell_type": "code",
   "execution_count": 104,
   "metadata": {},
   "outputs": [
    {
     "data": {
      "text/plain": [
       "98460"
      ]
     },
     "execution_count": 104,
     "metadata": {},
     "output_type": "execute_result"
    }
   ],
   "source": [
    "df_Ups4S.groupby([\"__event__\",\"__production__\"]).ngroups"
   ]
  },
  {
   "cell_type": "markdown",
   "metadata": {},
   "source": [
    "## check DO decays"
   ]
  },
  {
   "cell_type": "code",
   "execution_count": 105,
   "metadata": {},
   "outputs": [],
   "source": [
    "df_Ups4S['Bsig_uniqParID'] = df_Ups4S.apply(whichBisSig_NAHS, axis=1)"
   ]
  },
  {
   "cell_type": "code",
   "execution_count": 106,
   "metadata": {},
   "outputs": [],
   "source": [
    "df_Ups4S['D0_decay'] = df_Ups4S.apply(D0_decay_type, axis=1)"
   ]
  },
  {
   "cell_type": "code",
   "execution_count": 107,
   "metadata": {},
   "outputs": [],
   "source": [
    "df_Ups4S[\"abs_m2RecoilSignalSide\"] = df_Ups4S[\"m2RecoilSignalSide\"].abs() \n",
    "#BCS_df = df_Ups4S.sort_values(\"abs_m2RecoilSignalSide\",ascending=True).drop_duplicates(subset=(\"__event__\"), keep='first')"
   ]
  },
  {
   "cell_type": "code",
   "execution_count": 108,
   "metadata": {},
   "outputs": [
    {
     "data": {
      "text/plain": [
       "notWanted     566514\n",
       "Kpipipipi0     90045\n",
       "Kpipi0         85874\n",
       "Kpipipi        45460\n",
       "Kpi            24680\n",
       "Name: D0_decay, dtype: int64"
      ]
     },
     "execution_count": 108,
     "metadata": {},
     "output_type": "execute_result"
    }
   ],
   "source": [
    "df_Ups4S['D0_decay'].value_counts()"
   ]
  },
  {
   "cell_type": "code",
   "execution_count": 109,
   "metadata": {},
   "outputs": [],
   "source": [
    "df_Ups4S = df_Ups4S[df_Ups4S['D0_decay'] != \"notWanted\"]"
   ]
  },
  {
   "cell_type": "code",
   "execution_count": 110,
   "metadata": {},
   "outputs": [
    {
     "data": {
      "text/plain": [
       "26926"
      ]
     },
     "execution_count": 110,
     "metadata": {},
     "output_type": "execute_result"
    }
   ],
   "source": [
    "df_Ups4S.groupby([\"__event__\",\"__production__\"]).ngroups"
   ]
  },
  {
   "cell_type": "code",
   "execution_count": 111,
   "metadata": {},
   "outputs": [],
   "source": [
    "df_FSPs = df_FSPs[df_FSPs['__event__'].isin(df_Ups4S[\"__event__\"])]"
   ]
  },
  {
   "cell_type": "markdown",
   "metadata": {},
   "source": [
    "## check for D* -> D0 pi"
   ]
  },
  {
   "cell_type": "code",
   "execution_count": 112,
   "metadata": {
    "scrolled": true
   },
   "outputs": [
    {
     "name": "stdout",
     "output_type": "stream",
     "text": [
      "246059\n",
      "26924\n",
      "473277\n"
     ]
    }
   ],
   "source": [
    "print(df_Ups4S.shape[0])\n",
    "print(df_Ups4S[\"__event__\"].nunique())\n",
    "print(df_FSPs.shape[0])"
   ]
  },
  {
   "cell_type": "code",
   "execution_count": 113,
   "metadata": {},
   "outputs": [],
   "source": [
    "tmp = df_Ups4S[((df_Ups4S[\"Bsig_uniqParID\"] == 83886081.0)  &\n",
    "            (df_Ups4S[\"genUp4S_PDG_0_0_0\"].abs() == 421.0)  & # 421=D0\n",
    "            (df_Ups4S[\"genUp4S_PDG_0_0_1\"].abs() == 211.0)  & # 211=pion\n",
    "            (df_Ups4S[\"genUp4S_PDG_0_0_2\"].isna() == True)   # no particle \n",
    "              |\n",
    "        ((df_Ups4S[\"Bsig_uniqParID\"] == 83886082.0)  &\n",
    "            (df_Ups4S[\"genUp4S_PDG_1_0_0\"].abs() == 421.0)  & # 421=D0\n",
    "            (df_Ups4S[\"genUp4S_PDG_1_0_1\"].abs() == 211.0)  & # 211=pion\n",
    "            (df_Ups4S[\"genUp4S_PDG_1_0_2\"].isna() == True)))] # no particle \n",
    "\n",
    "tmp_FSPs = df_FSPs[df_FSPs['__event__'].isin(df_Ups4S[\"__event__\"])]"
   ]
  },
  {
   "cell_type": "code",
   "execution_count": 114,
   "metadata": {
    "scrolled": true
   },
   "outputs": [
    {
     "name": "stdout",
     "output_type": "stream",
     "text": [
      "245767\n",
      "26894\n",
      "473277\n"
     ]
    }
   ],
   "source": [
    "print(tmp.shape[0])\n",
    "print(tmp[\"__event__\"].nunique())\n",
    "print(tmp_FSPs.shape[0])"
   ]
  },
  {
   "cell_type": "markdown",
   "metadata": {},
   "source": [
    "### add and check cols"
   ]
  },
  {
   "cell_type": "code",
   "execution_count": 115,
   "metadata": {},
   "outputs": [],
   "source": [
    "df_FSPs['B_ID'] = df_FSPs.apply(B_ID, axis=1)"
   ]
  },
  {
   "cell_type": "code",
   "execution_count": 116,
   "metadata": {},
   "outputs": [],
   "source": [
    "df_Ups4S['Bsig_uniqParID_pdMethod'] = df_Ups4S.apply(whichBisSig, axis=1)"
   ]
  },
  {
   "cell_type": "code",
   "execution_count": 117,
   "metadata": {},
   "outputs": [],
   "source": [
    "Hc_motherB_df = df_FSPs[df_FSPs[\"NN_prediction\"].isna() == True].drop_duplicates(subset=(\"__event__\"), keep='first')"
   ]
  },
  {
   "cell_type": "code",
   "execution_count": 118,
   "metadata": {},
   "outputs": [],
   "source": [
    "Hc_motherB_df[\"B_tag_ID\"] = Hc_motherB_df[\"B_ID\"]"
   ]
  },
  {
   "cell_type": "code",
   "execution_count": 119,
   "metadata": {},
   "outputs": [
    {
     "data": {
      "text/html": [
       "<div>\n",
       "<style scoped>\n",
       "    .dataframe tbody tr th:only-of-type {\n",
       "        vertical-align: middle;\n",
       "    }\n",
       "\n",
       "    .dataframe tbody tr th {\n",
       "        vertical-align: top;\n",
       "    }\n",
       "\n",
       "    .dataframe thead th {\n",
       "        text-align: right;\n",
       "    }\n",
       "</style>\n",
       "<table border=\"1\" class=\"dataframe\">\n",
       "  <thead>\n",
       "    <tr style=\"text-align: right;\">\n",
       "      <th></th>\n",
       "      <th>__event__</th>\n",
       "      <th>__production__</th>\n",
       "      <th>B_ID</th>\n",
       "      <th>B_tag_ID</th>\n",
       "      <th>NN_prediction</th>\n",
       "    </tr>\n",
       "  </thead>\n",
       "  <tbody>\n",
       "    <tr>\n",
       "      <th>12</th>\n",
       "      <td>2335906</td>\n",
       "      <td>16816</td>\n",
       "      <td>83886082</td>\n",
       "      <td>83886082</td>\n",
       "      <td>NaN</td>\n",
       "    </tr>\n",
       "    <tr>\n",
       "      <th>16</th>\n",
       "      <td>3673382</td>\n",
       "      <td>16816</td>\n",
       "      <td>83886081</td>\n",
       "      <td>83886081</td>\n",
       "      <td>NaN</td>\n",
       "    </tr>\n",
       "    <tr>\n",
       "      <th>19</th>\n",
       "      <td>3674743</td>\n",
       "      <td>16816</td>\n",
       "      <td>83886081</td>\n",
       "      <td>83886081</td>\n",
       "      <td>NaN</td>\n",
       "    </tr>\n",
       "    <tr>\n",
       "      <th>30</th>\n",
       "      <td>3680813</td>\n",
       "      <td>16816</td>\n",
       "      <td>83886082</td>\n",
       "      <td>83886082</td>\n",
       "      <td>NaN</td>\n",
       "    </tr>\n",
       "    <tr>\n",
       "      <th>47</th>\n",
       "      <td>250771</td>\n",
       "      <td>16816</td>\n",
       "      <td>83886082</td>\n",
       "      <td>83886082</td>\n",
       "      <td>NaN</td>\n",
       "    </tr>\n",
       "    <tr>\n",
       "      <th>...</th>\n",
       "      <td>...</td>\n",
       "      <td>...</td>\n",
       "      <td>...</td>\n",
       "      <td>...</td>\n",
       "      <td>...</td>\n",
       "    </tr>\n",
       "    <tr>\n",
       "      <th>1817760</th>\n",
       "      <td>479935</td>\n",
       "      <td>16816</td>\n",
       "      <td>83886081</td>\n",
       "      <td>83886081</td>\n",
       "      <td>NaN</td>\n",
       "    </tr>\n",
       "    <tr>\n",
       "      <th>1817786</th>\n",
       "      <td>3416209</td>\n",
       "      <td>16816</td>\n",
       "      <td>83886081</td>\n",
       "      <td>83886081</td>\n",
       "      <td>NaN</td>\n",
       "    </tr>\n",
       "    <tr>\n",
       "      <th>1817926</th>\n",
       "      <td>6263451</td>\n",
       "      <td>16816</td>\n",
       "      <td>83886081</td>\n",
       "      <td>83886081</td>\n",
       "      <td>NaN</td>\n",
       "    </tr>\n",
       "    <tr>\n",
       "      <th>1818062</th>\n",
       "      <td>7944564</td>\n",
       "      <td>16816</td>\n",
       "      <td>83886082</td>\n",
       "      <td>83886082</td>\n",
       "      <td>NaN</td>\n",
       "    </tr>\n",
       "    <tr>\n",
       "      <th>1818067</th>\n",
       "      <td>7944775</td>\n",
       "      <td>16816</td>\n",
       "      <td>83886081</td>\n",
       "      <td>83886081</td>\n",
       "      <td>NaN</td>\n",
       "    </tr>\n",
       "  </tbody>\n",
       "</table>\n",
       "<p>26637 rows × 5 columns</p>\n",
       "</div>"
      ],
      "text/plain": [
       "         __event__  __production__      B_ID  B_tag_ID  NN_prediction\n",
       "12         2335906           16816  83886082  83886082            NaN\n",
       "16         3673382           16816  83886081  83886081            NaN\n",
       "19         3674743           16816  83886081  83886081            NaN\n",
       "30         3680813           16816  83886082  83886082            NaN\n",
       "47          250771           16816  83886082  83886082            NaN\n",
       "...            ...             ...       ...       ...            ...\n",
       "1817760     479935           16816  83886081  83886081            NaN\n",
       "1817786    3416209           16816  83886081  83886081            NaN\n",
       "1817926    6263451           16816  83886081  83886081            NaN\n",
       "1818062    7944564           16816  83886082  83886082            NaN\n",
       "1818067    7944775           16816  83886081  83886081            NaN\n",
       "\n",
       "[26637 rows x 5 columns]"
      ]
     },
     "execution_count": 119,
     "metadata": {},
     "output_type": "execute_result"
    }
   ],
   "source": [
    "Hc_motherB_df[[\"__event__\",\"__production__\",\"B_ID\",\"B_tag_ID\",\"NN_prediction\"]]"
   ]
  },
  {
   "cell_type": "code",
   "execution_count": 120,
   "metadata": {
    "scrolled": true
   },
   "outputs": [
    {
     "data": {
      "text/plain": [
       "473277"
      ]
     },
     "execution_count": 120,
     "metadata": {},
     "output_type": "execute_result"
    }
   ],
   "source": [
    "df_FSPs.shape[0]"
   ]
  },
  {
   "cell_type": "code",
   "execution_count": 121,
   "metadata": {},
   "outputs": [],
   "source": [
    "df_FSPs = pd.merge(df_FSPs,Hc_motherB_df[[\"__event__\",\"__production__\",\"B_tag_ID\"]], on=[\"__event__\",\"__production__\"])"
   ]
  },
  {
   "cell_type": "code",
   "execution_count": 122,
   "metadata": {
    "scrolled": true
   },
   "outputs": [
    {
     "data": {
      "text/plain": [
       "468080"
      ]
     },
     "execution_count": 122,
     "metadata": {},
     "output_type": "execute_result"
    }
   ],
   "source": [
    "df_FSPs.shape[0]"
   ]
  },
  {
   "cell_type": "code",
   "execution_count": 123,
   "metadata": {},
   "outputs": [],
   "source": [
    "def labels(s):\n",
    "    label = -1\n",
    "    if int(s['B_ID']) == 0:\n",
    "        label = 0 # background, cause not related to MC Particles\n",
    "    else: \n",
    "        B_tagID = s['B_tag_ID']\n",
    "        \n",
    "        if int(s['B_ID']) == B_tagID:\n",
    "            label = 1 # X\n",
    "        else:\n",
    "            label = 2 # Bsig\n",
    "    return label\n",
    "df_FSPs['label'] = df_FSPs.apply(labels, axis=1)"
   ]
  },
  {
   "cell_type": "code",
   "execution_count": 124,
   "metadata": {},
   "outputs": [],
   "source": [
    "df_FSPs[\"correct_pred\"] = (df_FSPs[\"label\"] == df_FSPs[\"NN_prediction\"]).astype(int)"
   ]
  },
  {
   "cell_type": "code",
   "execution_count": 125,
   "metadata": {
    "scrolled": true
   },
   "outputs": [
    {
     "data": {
      "text/plain": [
       "count    468080.000000\n",
       "mean          0.572174\n",
       "std           0.494764\n",
       "min           0.000000\n",
       "25%           0.000000\n",
       "50%           1.000000\n",
       "75%           1.000000\n",
       "max           1.000000\n",
       "Name: correct_pred, dtype: float64"
      ]
     },
     "execution_count": 125,
     "metadata": {},
     "output_type": "execute_result"
    }
   ],
   "source": [
    "df_FSPs[\"correct_pred\"].describe()"
   ]
  },
  {
   "cell_type": "markdown",
   "metadata": {},
   "source": [
    "## see correct prediction rate of NN"
   ]
  },
  {
   "cell_type": "code",
   "execution_count": 126,
   "metadata": {},
   "outputs": [
    {
     "data": {
      "text/plain": [
       "count    468080.000000\n",
       "mean          0.572174\n",
       "std           0.494764\n",
       "min           0.000000\n",
       "25%           0.000000\n",
       "50%           1.000000\n",
       "75%           1.000000\n",
       "max           1.000000\n",
       "Name: correct_pred, dtype: float64"
      ]
     },
     "execution_count": 126,
     "metadata": {},
     "output_type": "execute_result"
    }
   ],
   "source": [
    "df_FSPs[\"correct_pred\"].describe()"
   ]
  },
  {
   "cell_type": "code",
   "execution_count": 127,
   "metadata": {},
   "outputs": [
    {
     "data": {
      "text/plain": [
       "count    383395.000000\n",
       "mean          1.268838\n",
       "std           0.750307\n",
       "min           0.000000\n",
       "25%           1.000000\n",
       "50%           1.000000\n",
       "75%           2.000000\n",
       "max           2.000000\n",
       "Name: NN_prediction, dtype: float64"
      ]
     },
     "execution_count": 127,
     "metadata": {},
     "output_type": "execute_result"
    }
   ],
   "source": [
    "df_FSPs[\"NN_prediction\"].describe()"
   ]
  },
  {
   "cell_type": "code",
   "execution_count": 128,
   "metadata": {},
   "outputs": [
    {
     "data": {
      "text/plain": [
       "0.8190800717826012"
      ]
     },
     "execution_count": 128,
     "metadata": {},
     "output_type": "execute_result"
    }
   ],
   "source": [
    "df_FSPs[df_FSPs[\"NN_prediction\"].notna() == True].shape[0]/df_FSPs.shape[0]"
   ]
  },
  {
   "cell_type": "code",
   "execution_count": 129,
   "metadata": {},
   "outputs": [],
   "source": [
    "nonHc_FSPs = df_FSPs[df_FSPs[\"NN_prediction\"].notna() == True]"
   ]
  },
  {
   "cell_type": "code",
   "execution_count": 130,
   "metadata": {},
   "outputs": [
    {
     "data": {
      "text/plain": [
       "1.0"
      ]
     },
     "execution_count": 130,
     "metadata": {},
     "output_type": "execute_result"
    }
   ],
   "source": [
    "nonHc_FSPs[nonHc_FSPs[\"NN_prediction\"].notna() == True].shape[0]/nonHc_FSPs.shape[0]"
   ]
  },
  {
   "cell_type": "code",
   "execution_count": 131,
   "metadata": {},
   "outputs": [
    {
     "data": {
      "text/plain": [
       "count    383395.000000\n",
       "mean          0.698556\n",
       "std           0.458886\n",
       "min           0.000000\n",
       "25%           0.000000\n",
       "50%           1.000000\n",
       "75%           1.000000\n",
       "max           1.000000\n",
       "Name: correct_pred, dtype: float64"
      ]
     },
     "execution_count": 131,
     "metadata": {},
     "output_type": "execute_result"
    }
   ],
   "source": [
    "nonHc_FSPs[\"correct_pred\"].describe()"
   ]
  },
  {
   "cell_type": "code",
   "execution_count": 132,
   "metadata": {},
   "outputs": [
    {
     "data": {
      "text/plain": [
       "383395"
      ]
     },
     "execution_count": 132,
     "metadata": {},
     "output_type": "execute_result"
    }
   ],
   "source": [
    "nonHc_FSPs.shape[0]"
   ]
  },
  {
   "cell_type": "markdown",
   "metadata": {},
   "source": [
    "## lepton based truth matching"
   ]
  },
  {
   "cell_type": "code",
   "execution_count": 133,
   "metadata": {},
   "outputs": [
    {
     "data": {
      "text/plain": [
       "-511.0      90632\n",
       " 511.0      79266\n",
       " 223.0      10387\n",
       "-421.0       6705\n",
       " 421.0       5823\n",
       "            ...  \n",
       "-3114.0         4\n",
       " 2114.0         4\n",
       "-13.0           4\n",
       " 30443.0        2\n",
       " 4232.0         2\n",
       "Name: lep_motherPDG, Length: 90, dtype: int64"
      ]
     },
     "execution_count": 133,
     "metadata": {},
     "output_type": "execute_result"
    }
   ],
   "source": [
    "df_Ups4S[\"lep_motherPDG\"].value_counts()"
   ]
  },
  {
   "cell_type": "code",
   "execution_count": 134,
   "metadata": {},
   "outputs": [
    {
     "data": {
      "text/plain": [
       " 13.0    73379\n",
       "-13.0    64712\n",
       " 11.0    57084\n",
       "-11.0    50884\n",
       "Name: lep_PDG, dtype: int64"
      ]
     },
     "execution_count": 134,
     "metadata": {},
     "output_type": "execute_result"
    }
   ],
   "source": [
    "df_Ups4S[\"lep_PDG\"].value_counts()"
   ]
  },
  {
   "cell_type": "code",
   "execution_count": 135,
   "metadata": {},
   "outputs": [
    {
     "data": {
      "text/plain": [
       " 13.0      50352\n",
       " 11.0      49317\n",
       "-13.0      44556\n",
       "-11.0      43331\n",
       "-211.0     28263\n",
       " 211.0     25370\n",
       " 321.0       909\n",
       "-321.0       881\n",
       "-2212.0       54\n",
       " 2212.0       30\n",
       "Name: lep_mcPDG, dtype: int64"
      ]
     },
     "execution_count": 135,
     "metadata": {},
     "output_type": "execute_result"
    }
   ],
   "source": [
    "df_Ups4S[\"lep_mcPDG\"].value_counts()"
   ]
  },
  {
   "cell_type": "code",
   "execution_count": 136,
   "metadata": {},
   "outputs": [],
   "source": [
    "def lep_typeMC(s):\n",
    "    label = \"none\"\n",
    "    if np.isnan(s[\"lep_mcPDG\"]) == True:\n",
    "        return label\n",
    "    \n",
    "    abs_lep_mcPDG = int(abs(s[\"lep_mcPDG\"]))\n",
    "    if abs_lep_mcPDG == 13:\n",
    "        label = \"mu\"\n",
    "    elif abs_lep_mcPDG == 11:\n",
    "        label = \"e\" \n",
    "    return label\n",
    "\n",
    "df_Ups4S['lep_typeMC'] = df_Ups4S.apply(lep_typeMC, axis=1)\n",
    "\n",
    "def lep_type(s):\n",
    "    label = \"none\"\n",
    "    if np.isnan(s[\"lep_PDG\"]) == True:\n",
    "        return label\n",
    "    \n",
    "    abs_lep_PDG = int(abs(s[\"lep_PDG\"]))\n",
    "    if abs_lep_PDG == 13:\n",
    "        label = \"mu\"\n",
    "    elif abs_lep_PDG == 11:\n",
    "        label = \"e\" \n",
    "    return label\n",
    "df_Ups4S['lep_type'] = df_Ups4S.apply(lep_type, axis=1)"
   ]
  },
  {
   "cell_type": "code",
   "execution_count": 137,
   "metadata": {},
   "outputs": [
    {
     "data": {
      "text/plain": [
       "mu      94908\n",
       "e       92648\n",
       "none    58503\n",
       "Name: lep_typeMC, dtype: int64"
      ]
     },
     "execution_count": 137,
     "metadata": {},
     "output_type": "execute_result"
    }
   ],
   "source": [
    "df_Ups4S['lep_typeMC'].value_counts()"
   ]
  },
  {
   "cell_type": "code",
   "execution_count": 138,
   "metadata": {},
   "outputs": [
    {
     "data": {
      "text/html": [
       "<div>\n",
       "<style scoped>\n",
       "    .dataframe tbody tr th:only-of-type {\n",
       "        vertical-align: middle;\n",
       "    }\n",
       "\n",
       "    .dataframe tbody tr th {\n",
       "        vertical-align: top;\n",
       "    }\n",
       "\n",
       "    .dataframe thead th {\n",
       "        text-align: right;\n",
       "    }\n",
       "</style>\n",
       "<table border=\"1\" class=\"dataframe\">\n",
       "  <thead>\n",
       "    <tr style=\"text-align: right;\">\n",
       "      <th></th>\n",
       "      <th>lep_typeMC</th>\n",
       "      <th>lep_type</th>\n",
       "      <th>count</th>\n",
       "    </tr>\n",
       "  </thead>\n",
       "  <tbody>\n",
       "    <tr>\n",
       "      <th>0</th>\n",
       "      <td>e</td>\n",
       "      <td>e</td>\n",
       "      <td>90453</td>\n",
       "    </tr>\n",
       "    <tr>\n",
       "      <th>1</th>\n",
       "      <td>e</td>\n",
       "      <td>mu</td>\n",
       "      <td>2195</td>\n",
       "    </tr>\n",
       "    <tr>\n",
       "      <th>2</th>\n",
       "      <td>mu</td>\n",
       "      <td>e</td>\n",
       "      <td>2652</td>\n",
       "    </tr>\n",
       "    <tr>\n",
       "      <th>3</th>\n",
       "      <td>mu</td>\n",
       "      <td>mu</td>\n",
       "      <td>92256</td>\n",
       "    </tr>\n",
       "    <tr>\n",
       "      <th>4</th>\n",
       "      <td>none</td>\n",
       "      <td>e</td>\n",
       "      <td>14863</td>\n",
       "    </tr>\n",
       "    <tr>\n",
       "      <th>5</th>\n",
       "      <td>none</td>\n",
       "      <td>mu</td>\n",
       "      <td>43640</td>\n",
       "    </tr>\n",
       "  </tbody>\n",
       "</table>\n",
       "</div>"
      ],
      "text/plain": [
       "  lep_typeMC lep_type  count\n",
       "0          e        e  90453\n",
       "1          e       mu   2195\n",
       "2         mu        e   2652\n",
       "3         mu       mu  92256\n",
       "4       none        e  14863\n",
       "5       none       mu  43640"
      ]
     },
     "execution_count": 138,
     "metadata": {},
     "output_type": "execute_result"
    }
   ],
   "source": [
    "groups_lep = pd.DataFrame({'count' : df_Ups4S.groupby( [\"lep_typeMC\",\"lep_type\"] ).size()}).reset_index()\n",
    "groups_lep"
   ]
  },
  {
   "cell_type": "code",
   "execution_count": 139,
   "metadata": {},
   "outputs": [],
   "source": [
    "def lep_MC_truth(s):\n",
    "    label = 0\n",
    "    if np.isnan(s[\"lep_motherPDG\"]) == True:\n",
    "        return label\n",
    "    if s[\"lep_typeMC\"] == \"none\":\n",
    "        return label\n",
    "    \n",
    "    abs_lep_motherPDG = int(abs(s[\"lep_motherPDG\"]))\n",
    "    if abs_lep_motherPDG == 511:\n",
    "        label = 1\n",
    "   \n",
    "    return label\n",
    "\n",
    "df_Ups4S['lep_MC_truth'] = df_Ups4S.apply(lep_MC_truth, axis=1)"
   ]
  },
  {
   "cell_type": "code",
   "execution_count": 140,
   "metadata": {},
   "outputs": [
    {
     "data": {
      "text/html": [
       "<div>\n",
       "<style scoped>\n",
       "    .dataframe tbody tr th:only-of-type {\n",
       "        vertical-align: middle;\n",
       "    }\n",
       "\n",
       "    .dataframe tbody tr th {\n",
       "        vertical-align: top;\n",
       "    }\n",
       "\n",
       "    .dataframe thead th {\n",
       "        text-align: right;\n",
       "    }\n",
       "</style>\n",
       "<table border=\"1\" class=\"dataframe\">\n",
       "  <thead>\n",
       "    <tr style=\"text-align: right;\">\n",
       "      <th></th>\n",
       "      <th>__experiment__</th>\n",
       "      <th>__run__</th>\n",
       "      <th>__event__</th>\n",
       "      <th>__production__</th>\n",
       "      <th>__candidate__</th>\n",
       "      <th>__ncandidates__</th>\n",
       "      <th>__weight__</th>\n",
       "      <th>m2RecoilSignalSide</th>\n",
       "      <th>foxWolframR2_maskedNaN</th>\n",
       "      <th>foxWolframR2</th>\n",
       "      <th>...</th>\n",
       "      <th>Dst_DeltaM</th>\n",
       "      <th>Dst_isSignal</th>\n",
       "      <th>roeE_ofUps4S</th>\n",
       "      <th>E_predicted_bg_gammas</th>\n",
       "      <th>D0_decay</th>\n",
       "      <th>abs_m2RecoilSignalSide</th>\n",
       "      <th>Bsig_uniqParID_pdMethod</th>\n",
       "      <th>lep_typeMC</th>\n",
       "      <th>lep_type</th>\n",
       "      <th>lep_MC_truth</th>\n",
       "    </tr>\n",
       "  </thead>\n",
       "  <tbody>\n",
       "    <tr>\n",
       "      <th>4</th>\n",
       "      <td>1003</td>\n",
       "      <td>0</td>\n",
       "      <td>2332025</td>\n",
       "      <td>16816</td>\n",
       "      <td>0</td>\n",
       "      <td>4</td>\n",
       "      <td>1.0</td>\n",
       "      <td>2.624288</td>\n",
       "      <td>0.256241</td>\n",
       "      <td>0.256241</td>\n",
       "      <td>...</td>\n",
       "      <td>0.695679</td>\n",
       "      <td>0.0</td>\n",
       "      <td>1.594394</td>\n",
       "      <td>0.189372</td>\n",
       "      <td>Kpipipipi0</td>\n",
       "      <td>2.624288</td>\n",
       "      <td>83886081.0</td>\n",
       "      <td>mu</td>\n",
       "      <td>mu</td>\n",
       "      <td>1</td>\n",
       "    </tr>\n",
       "    <tr>\n",
       "      <th>5</th>\n",
       "      <td>1003</td>\n",
       "      <td>0</td>\n",
       "      <td>2332025</td>\n",
       "      <td>16816</td>\n",
       "      <td>1</td>\n",
       "      <td>4</td>\n",
       "      <td>1.0</td>\n",
       "      <td>1.454030</td>\n",
       "      <td>0.256241</td>\n",
       "      <td>0.256241</td>\n",
       "      <td>...</td>\n",
       "      <td>0.575341</td>\n",
       "      <td>0.0</td>\n",
       "      <td>0.977607</td>\n",
       "      <td>0.189372</td>\n",
       "      <td>Kpipipipi0</td>\n",
       "      <td>1.454030</td>\n",
       "      <td>83886081.0</td>\n",
       "      <td>mu</td>\n",
       "      <td>mu</td>\n",
       "      <td>1</td>\n",
       "    </tr>\n",
       "    <tr>\n",
       "      <th>6</th>\n",
       "      <td>1003</td>\n",
       "      <td>0</td>\n",
       "      <td>2332025</td>\n",
       "      <td>16816</td>\n",
       "      <td>2</td>\n",
       "      <td>4</td>\n",
       "      <td>1.0</td>\n",
       "      <td>2.624288</td>\n",
       "      <td>0.256241</td>\n",
       "      <td>0.256241</td>\n",
       "      <td>...</td>\n",
       "      <td>0.159164</td>\n",
       "      <td>0.0</td>\n",
       "      <td>1.594394</td>\n",
       "      <td>0.189372</td>\n",
       "      <td>Kpipipipi0</td>\n",
       "      <td>2.624288</td>\n",
       "      <td>83886081.0</td>\n",
       "      <td>mu</td>\n",
       "      <td>mu</td>\n",
       "      <td>1</td>\n",
       "    </tr>\n",
       "    <tr>\n",
       "      <th>7</th>\n",
       "      <td>1003</td>\n",
       "      <td>0</td>\n",
       "      <td>2332025</td>\n",
       "      <td>16816</td>\n",
       "      <td>3</td>\n",
       "      <td>4</td>\n",
       "      <td>1.0</td>\n",
       "      <td>1.454030</td>\n",
       "      <td>0.256241</td>\n",
       "      <td>0.256241</td>\n",
       "      <td>...</td>\n",
       "      <td>0.146939</td>\n",
       "      <td>0.0</td>\n",
       "      <td>0.977607</td>\n",
       "      <td>0.189372</td>\n",
       "      <td>Kpipipipi0</td>\n",
       "      <td>1.454030</td>\n",
       "      <td>83886081.0</td>\n",
       "      <td>mu</td>\n",
       "      <td>mu</td>\n",
       "      <td>1</td>\n",
       "    </tr>\n",
       "    <tr>\n",
       "      <th>26</th>\n",
       "      <td>1003</td>\n",
       "      <td>0</td>\n",
       "      <td>2335906</td>\n",
       "      <td>16816</td>\n",
       "      <td>0</td>\n",
       "      <td>12</td>\n",
       "      <td>1.0</td>\n",
       "      <td>9.494061</td>\n",
       "      <td>0.160597</td>\n",
       "      <td>0.160597</td>\n",
       "      <td>...</td>\n",
       "      <td>0.235592</td>\n",
       "      <td>0.0</td>\n",
       "      <td>2.006455</td>\n",
       "      <td>0.057284</td>\n",
       "      <td>Kpipipipi0</td>\n",
       "      <td>9.494061</td>\n",
       "      <td>83886081.0</td>\n",
       "      <td>none</td>\n",
       "      <td>mu</td>\n",
       "      <td>0</td>\n",
       "    </tr>\n",
       "    <tr>\n",
       "      <th>...</th>\n",
       "      <td>...</td>\n",
       "      <td>...</td>\n",
       "      <td>...</td>\n",
       "      <td>...</td>\n",
       "      <td>...</td>\n",
       "      <td>...</td>\n",
       "      <td>...</td>\n",
       "      <td>...</td>\n",
       "      <td>...</td>\n",
       "      <td>...</td>\n",
       "      <td>...</td>\n",
       "      <td>...</td>\n",
       "      <td>...</td>\n",
       "      <td>...</td>\n",
       "      <td>...</td>\n",
       "      <td>...</td>\n",
       "      <td>...</td>\n",
       "      <td>...</td>\n",
       "      <td>...</td>\n",
       "      <td>...</td>\n",
       "      <td>...</td>\n",
       "    </tr>\n",
       "    <tr>\n",
       "      <th>812566</th>\n",
       "      <td>1003</td>\n",
       "      <td>0</td>\n",
       "      <td>7944775</td>\n",
       "      <td>16816</td>\n",
       "      <td>3</td>\n",
       "      <td>8</td>\n",
       "      <td>1.0</td>\n",
       "      <td>2.043710</td>\n",
       "      <td>0.141974</td>\n",
       "      <td>0.141974</td>\n",
       "      <td>...</td>\n",
       "      <td>0.245770</td>\n",
       "      <td>0.0</td>\n",
       "      <td>3.283109</td>\n",
       "      <td>0.393678</td>\n",
       "      <td>Kpi</td>\n",
       "      <td>2.043710</td>\n",
       "      <td>83886081.0</td>\n",
       "      <td>none</td>\n",
       "      <td>mu</td>\n",
       "      <td>0</td>\n",
       "    </tr>\n",
       "    <tr>\n",
       "      <th>812567</th>\n",
       "      <td>1003</td>\n",
       "      <td>0</td>\n",
       "      <td>7944775</td>\n",
       "      <td>16816</td>\n",
       "      <td>4</td>\n",
       "      <td>8</td>\n",
       "      <td>1.0</td>\n",
       "      <td>5.854012</td>\n",
       "      <td>0.141974</td>\n",
       "      <td>0.141974</td>\n",
       "      <td>...</td>\n",
       "      <td>0.554516</td>\n",
       "      <td>0.0</td>\n",
       "      <td>4.163258</td>\n",
       "      <td>0.393678</td>\n",
       "      <td>Kpi</td>\n",
       "      <td>5.854012</td>\n",
       "      <td>83886081.0</td>\n",
       "      <td>none</td>\n",
       "      <td>mu</td>\n",
       "      <td>0</td>\n",
       "    </tr>\n",
       "    <tr>\n",
       "      <th>812568</th>\n",
       "      <td>1003</td>\n",
       "      <td>0</td>\n",
       "      <td>7944775</td>\n",
       "      <td>16816</td>\n",
       "      <td>5</td>\n",
       "      <td>8</td>\n",
       "      <td>1.0</td>\n",
       "      <td>2.087672</td>\n",
       "      <td>0.141974</td>\n",
       "      <td>0.141974</td>\n",
       "      <td>...</td>\n",
       "      <td>0.747978</td>\n",
       "      <td>0.0</td>\n",
       "      <td>3.512376</td>\n",
       "      <td>0.393678</td>\n",
       "      <td>Kpi</td>\n",
       "      <td>2.087672</td>\n",
       "      <td>83886081.0</td>\n",
       "      <td>none</td>\n",
       "      <td>mu</td>\n",
       "      <td>0</td>\n",
       "    </tr>\n",
       "    <tr>\n",
       "      <th>812569</th>\n",
       "      <td>1003</td>\n",
       "      <td>0</td>\n",
       "      <td>7944775</td>\n",
       "      <td>16816</td>\n",
       "      <td>6</td>\n",
       "      <td>8</td>\n",
       "      <td>1.0</td>\n",
       "      <td>5.854011</td>\n",
       "      <td>0.141974</td>\n",
       "      <td>0.141974</td>\n",
       "      <td>...</td>\n",
       "      <td>0.192359</td>\n",
       "      <td>0.0</td>\n",
       "      <td>4.163258</td>\n",
       "      <td>0.393678</td>\n",
       "      <td>Kpi</td>\n",
       "      <td>5.854011</td>\n",
       "      <td>83886081.0</td>\n",
       "      <td>none</td>\n",
       "      <td>mu</td>\n",
       "      <td>0</td>\n",
       "    </tr>\n",
       "    <tr>\n",
       "      <th>812570</th>\n",
       "      <td>1003</td>\n",
       "      <td>0</td>\n",
       "      <td>7944775</td>\n",
       "      <td>16816</td>\n",
       "      <td>7</td>\n",
       "      <td>8</td>\n",
       "      <td>1.0</td>\n",
       "      <td>2.087672</td>\n",
       "      <td>0.141974</td>\n",
       "      <td>0.141974</td>\n",
       "      <td>...</td>\n",
       "      <td>0.245770</td>\n",
       "      <td>0.0</td>\n",
       "      <td>3.512376</td>\n",
       "      <td>0.393678</td>\n",
       "      <td>Kpi</td>\n",
       "      <td>2.087672</td>\n",
       "      <td>83886081.0</td>\n",
       "      <td>none</td>\n",
       "      <td>mu</td>\n",
       "      <td>0</td>\n",
       "    </tr>\n",
       "  </tbody>\n",
       "</table>\n",
       "<p>246059 rows × 412 columns</p>\n",
       "</div>"
      ],
      "text/plain": [
       "        __experiment__  __run__  __event__  __production__  __candidate__  \\\n",
       "4                 1003        0    2332025           16816              0   \n",
       "5                 1003        0    2332025           16816              1   \n",
       "6                 1003        0    2332025           16816              2   \n",
       "7                 1003        0    2332025           16816              3   \n",
       "26                1003        0    2335906           16816              0   \n",
       "...                ...      ...        ...             ...            ...   \n",
       "812566            1003        0    7944775           16816              3   \n",
       "812567            1003        0    7944775           16816              4   \n",
       "812568            1003        0    7944775           16816              5   \n",
       "812569            1003        0    7944775           16816              6   \n",
       "812570            1003        0    7944775           16816              7   \n",
       "\n",
       "        __ncandidates__  __weight__  m2RecoilSignalSide  \\\n",
       "4                     4         1.0            2.624288   \n",
       "5                     4         1.0            1.454030   \n",
       "6                     4         1.0            2.624288   \n",
       "7                     4         1.0            1.454030   \n",
       "26                   12         1.0            9.494061   \n",
       "...                 ...         ...                 ...   \n",
       "812566                8         1.0            2.043710   \n",
       "812567                8         1.0            5.854012   \n",
       "812568                8         1.0            2.087672   \n",
       "812569                8         1.0            5.854011   \n",
       "812570                8         1.0            2.087672   \n",
       "\n",
       "        foxWolframR2_maskedNaN  foxWolframR2  ...  Dst_DeltaM  Dst_isSignal  \\\n",
       "4                     0.256241      0.256241  ...    0.695679           0.0   \n",
       "5                     0.256241      0.256241  ...    0.575341           0.0   \n",
       "6                     0.256241      0.256241  ...    0.159164           0.0   \n",
       "7                     0.256241      0.256241  ...    0.146939           0.0   \n",
       "26                    0.160597      0.160597  ...    0.235592           0.0   \n",
       "...                        ...           ...  ...         ...           ...   \n",
       "812566                0.141974      0.141974  ...    0.245770           0.0   \n",
       "812567                0.141974      0.141974  ...    0.554516           0.0   \n",
       "812568                0.141974      0.141974  ...    0.747978           0.0   \n",
       "812569                0.141974      0.141974  ...    0.192359           0.0   \n",
       "812570                0.141974      0.141974  ...    0.245770           0.0   \n",
       "\n",
       "        roeE_ofUps4S  E_predicted_bg_gammas    D0_decay  \\\n",
       "4           1.594394               0.189372  Kpipipipi0   \n",
       "5           0.977607               0.189372  Kpipipipi0   \n",
       "6           1.594394               0.189372  Kpipipipi0   \n",
       "7           0.977607               0.189372  Kpipipipi0   \n",
       "26          2.006455               0.057284  Kpipipipi0   \n",
       "...              ...                    ...         ...   \n",
       "812566      3.283109               0.393678         Kpi   \n",
       "812567      4.163258               0.393678         Kpi   \n",
       "812568      3.512376               0.393678         Kpi   \n",
       "812569      4.163258               0.393678         Kpi   \n",
       "812570      3.512376               0.393678         Kpi   \n",
       "\n",
       "        abs_m2RecoilSignalSide  Bsig_uniqParID_pdMethod  lep_typeMC  lep_type  \\\n",
       "4                     2.624288               83886081.0          mu        mu   \n",
       "5                     1.454030               83886081.0          mu        mu   \n",
       "6                     2.624288               83886081.0          mu        mu   \n",
       "7                     1.454030               83886081.0          mu        mu   \n",
       "26                    9.494061               83886081.0        none        mu   \n",
       "...                        ...                      ...         ...       ...   \n",
       "812566                2.043710               83886081.0        none        mu   \n",
       "812567                5.854012               83886081.0        none        mu   \n",
       "812568                2.087672               83886081.0        none        mu   \n",
       "812569                5.854011               83886081.0        none        mu   \n",
       "812570                2.087672               83886081.0        none        mu   \n",
       "\n",
       "        lep_MC_truth  \n",
       "4                  1  \n",
       "5                  1  \n",
       "6                  1  \n",
       "7                  1  \n",
       "26                 0  \n",
       "...              ...  \n",
       "812566             0  \n",
       "812567             0  \n",
       "812568             0  \n",
       "812569             0  \n",
       "812570             0  \n",
       "\n",
       "[246059 rows x 412 columns]"
      ]
     },
     "execution_count": 140,
     "metadata": {},
     "output_type": "execute_result"
    }
   ],
   "source": [
    "df_Ups4S['lep_MC_truth']\n",
    "df_Ups4S[\"lep_MC_truth\"]\n",
    "df_Ups4S"
   ]
  },
  {
   "cell_type": "code",
   "execution_count": 141,
   "metadata": {},
   "outputs": [
    {
     "data": {
      "text/plain": [
       "count    246059.000000\n",
       "mean          0.667145\n",
       "std           0.471236\n",
       "min           0.000000\n",
       "25%           0.000000\n",
       "50%           1.000000\n",
       "75%           1.000000\n",
       "max           1.000000\n",
       "Name: lep_MC_truth, dtype: float64"
      ]
     },
     "execution_count": 141,
     "metadata": {},
     "output_type": "execute_result"
    }
   ],
   "source": [
    "df_Ups4S['lep_MC_truth'].describe()"
   ]
  },
  {
   "cell_type": "markdown",
   "metadata": {},
   "source": [
    "## save dfs now with all labels added"
   ]
  },
  {
   "cell_type": "code",
   "execution_count": 142,
   "metadata": {},
   "outputs": [],
   "source": [
    "nonHc_FSPs.to_csv(nfs_path + \"nonHc_FSPs_df_wLabels.csv\")\n",
    "df_Ups4S.to_csv(nfs_path + \"Ups4S_df_wLabels.csv\")"
   ]
  },
  {
   "cell_type": "markdown",
   "metadata": {},
   "source": [
    "## load dfs with labels"
   ]
  },
  {
   "cell_type": "code",
   "execution_count": 39,
   "metadata": {},
   "outputs": [
    {
     "ename": "FileNotFoundError",
     "evalue": "[Errno 2] No such file or directory: '/nfs/dust/belle2/user/axelheim/MC_studies/Dstlnu_Bt_generic/appliedNNdata/11thRun/Ups4S_df_wLabels.csv'",
     "output_type": "error",
     "traceback": [
      "\u001b[0;31m---------------------------------------------------------------------------\u001b[0m",
      "\u001b[0;31mFileNotFoundError\u001b[0m                         Traceback (most recent call last)",
      "\u001b[0;32m<ipython-input-39-1ab528a64d35>\u001b[0m in \u001b[0;36m<module>\u001b[0;34m\u001b[0m\n\u001b[0;32m----> 1\u001b[0;31m \u001b[0mdf_Ups4S\u001b[0m \u001b[0;34m=\u001b[0m \u001b[0mpd\u001b[0m\u001b[0;34m.\u001b[0m\u001b[0mread_csv\u001b[0m\u001b[0;34m(\u001b[0m\u001b[0mnfs_path\u001b[0m \u001b[0;34m+\u001b[0m \u001b[0;34m\"Ups4S_df_wLabels.csv\"\u001b[0m\u001b[0;34m)\u001b[0m\u001b[0;34m\u001b[0m\u001b[0;34m\u001b[0m\u001b[0m\n\u001b[0m\u001b[1;32m      2\u001b[0m \u001b[0mnonHc_FSPs\u001b[0m \u001b[0;34m=\u001b[0m \u001b[0mpd\u001b[0m\u001b[0;34m.\u001b[0m\u001b[0mread_csv\u001b[0m\u001b[0;34m(\u001b[0m\u001b[0mnfs_path\u001b[0m \u001b[0;34m+\u001b[0m \u001b[0;34m\"nonHc_FSPs_df_wLabels.csv\"\u001b[0m\u001b[0;34m)\u001b[0m\u001b[0;34m\u001b[0m\u001b[0;34m\u001b[0m\u001b[0m\n",
      "\u001b[0;32m/usr/local/lib64/python3.6/site-packages/pandas/io/parsers.py\u001b[0m in \u001b[0;36mread_csv\u001b[0;34m(filepath_or_buffer, sep, delimiter, header, names, index_col, usecols, squeeze, prefix, mangle_dupe_cols, dtype, engine, converters, true_values, false_values, skipinitialspace, skiprows, skipfooter, nrows, na_values, keep_default_na, na_filter, verbose, skip_blank_lines, parse_dates, infer_datetime_format, keep_date_col, date_parser, dayfirst, cache_dates, iterator, chunksize, compression, thousands, decimal, lineterminator, quotechar, quoting, doublequote, escapechar, comment, encoding, dialect, error_bad_lines, warn_bad_lines, delim_whitespace, low_memory, memory_map, float_precision)\u001b[0m\n\u001b[1;32m    686\u001b[0m     )\n\u001b[1;32m    687\u001b[0m \u001b[0;34m\u001b[0m\u001b[0m\n\u001b[0;32m--> 688\u001b[0;31m     \u001b[0;32mreturn\u001b[0m \u001b[0m_read\u001b[0m\u001b[0;34m(\u001b[0m\u001b[0mfilepath_or_buffer\u001b[0m\u001b[0;34m,\u001b[0m \u001b[0mkwds\u001b[0m\u001b[0;34m)\u001b[0m\u001b[0;34m\u001b[0m\u001b[0;34m\u001b[0m\u001b[0m\n\u001b[0m\u001b[1;32m    689\u001b[0m \u001b[0;34m\u001b[0m\u001b[0m\n\u001b[1;32m    690\u001b[0m \u001b[0;34m\u001b[0m\u001b[0m\n",
      "\u001b[0;32m/usr/local/lib64/python3.6/site-packages/pandas/io/parsers.py\u001b[0m in \u001b[0;36m_read\u001b[0;34m(filepath_or_buffer, kwds)\u001b[0m\n\u001b[1;32m    452\u001b[0m \u001b[0;34m\u001b[0m\u001b[0m\n\u001b[1;32m    453\u001b[0m     \u001b[0;31m# Create the parser.\u001b[0m\u001b[0;34m\u001b[0m\u001b[0;34m\u001b[0m\u001b[0;34m\u001b[0m\u001b[0m\n\u001b[0;32m--> 454\u001b[0;31m     \u001b[0mparser\u001b[0m \u001b[0;34m=\u001b[0m \u001b[0mTextFileReader\u001b[0m\u001b[0;34m(\u001b[0m\u001b[0mfp_or_buf\u001b[0m\u001b[0;34m,\u001b[0m \u001b[0;34m**\u001b[0m\u001b[0mkwds\u001b[0m\u001b[0;34m)\u001b[0m\u001b[0;34m\u001b[0m\u001b[0;34m\u001b[0m\u001b[0m\n\u001b[0m\u001b[1;32m    455\u001b[0m \u001b[0;34m\u001b[0m\u001b[0m\n\u001b[1;32m    456\u001b[0m     \u001b[0;32mif\u001b[0m \u001b[0mchunksize\u001b[0m \u001b[0;32mor\u001b[0m \u001b[0miterator\u001b[0m\u001b[0;34m:\u001b[0m\u001b[0;34m\u001b[0m\u001b[0;34m\u001b[0m\u001b[0m\n",
      "\u001b[0;32m/usr/local/lib64/python3.6/site-packages/pandas/io/parsers.py\u001b[0m in \u001b[0;36m__init__\u001b[0;34m(self, f, engine, **kwds)\u001b[0m\n\u001b[1;32m    946\u001b[0m             \u001b[0mself\u001b[0m\u001b[0;34m.\u001b[0m\u001b[0moptions\u001b[0m\u001b[0;34m[\u001b[0m\u001b[0;34m\"has_index_names\"\u001b[0m\u001b[0;34m]\u001b[0m \u001b[0;34m=\u001b[0m \u001b[0mkwds\u001b[0m\u001b[0;34m[\u001b[0m\u001b[0;34m\"has_index_names\"\u001b[0m\u001b[0;34m]\u001b[0m\u001b[0;34m\u001b[0m\u001b[0;34m\u001b[0m\u001b[0m\n\u001b[1;32m    947\u001b[0m \u001b[0;34m\u001b[0m\u001b[0m\n\u001b[0;32m--> 948\u001b[0;31m         \u001b[0mself\u001b[0m\u001b[0;34m.\u001b[0m\u001b[0m_make_engine\u001b[0m\u001b[0;34m(\u001b[0m\u001b[0mself\u001b[0m\u001b[0;34m.\u001b[0m\u001b[0mengine\u001b[0m\u001b[0;34m)\u001b[0m\u001b[0;34m\u001b[0m\u001b[0;34m\u001b[0m\u001b[0m\n\u001b[0m\u001b[1;32m    949\u001b[0m \u001b[0;34m\u001b[0m\u001b[0m\n\u001b[1;32m    950\u001b[0m     \u001b[0;32mdef\u001b[0m \u001b[0mclose\u001b[0m\u001b[0;34m(\u001b[0m\u001b[0mself\u001b[0m\u001b[0;34m)\u001b[0m\u001b[0;34m:\u001b[0m\u001b[0;34m\u001b[0m\u001b[0;34m\u001b[0m\u001b[0m\n",
      "\u001b[0;32m/usr/local/lib64/python3.6/site-packages/pandas/io/parsers.py\u001b[0m in \u001b[0;36m_make_engine\u001b[0;34m(self, engine)\u001b[0m\n\u001b[1;32m   1178\u001b[0m     \u001b[0;32mdef\u001b[0m \u001b[0m_make_engine\u001b[0m\u001b[0;34m(\u001b[0m\u001b[0mself\u001b[0m\u001b[0;34m,\u001b[0m \u001b[0mengine\u001b[0m\u001b[0;34m=\u001b[0m\u001b[0;34m\"c\"\u001b[0m\u001b[0;34m)\u001b[0m\u001b[0;34m:\u001b[0m\u001b[0;34m\u001b[0m\u001b[0;34m\u001b[0m\u001b[0m\n\u001b[1;32m   1179\u001b[0m         \u001b[0;32mif\u001b[0m \u001b[0mengine\u001b[0m \u001b[0;34m==\u001b[0m \u001b[0;34m\"c\"\u001b[0m\u001b[0;34m:\u001b[0m\u001b[0;34m\u001b[0m\u001b[0;34m\u001b[0m\u001b[0m\n\u001b[0;32m-> 1180\u001b[0;31m             \u001b[0mself\u001b[0m\u001b[0;34m.\u001b[0m\u001b[0m_engine\u001b[0m \u001b[0;34m=\u001b[0m \u001b[0mCParserWrapper\u001b[0m\u001b[0;34m(\u001b[0m\u001b[0mself\u001b[0m\u001b[0;34m.\u001b[0m\u001b[0mf\u001b[0m\u001b[0;34m,\u001b[0m \u001b[0;34m**\u001b[0m\u001b[0mself\u001b[0m\u001b[0;34m.\u001b[0m\u001b[0moptions\u001b[0m\u001b[0;34m)\u001b[0m\u001b[0;34m\u001b[0m\u001b[0;34m\u001b[0m\u001b[0m\n\u001b[0m\u001b[1;32m   1181\u001b[0m         \u001b[0;32melse\u001b[0m\u001b[0;34m:\u001b[0m\u001b[0;34m\u001b[0m\u001b[0;34m\u001b[0m\u001b[0m\n\u001b[1;32m   1182\u001b[0m             \u001b[0;32mif\u001b[0m \u001b[0mengine\u001b[0m \u001b[0;34m==\u001b[0m \u001b[0;34m\"python\"\u001b[0m\u001b[0;34m:\u001b[0m\u001b[0;34m\u001b[0m\u001b[0;34m\u001b[0m\u001b[0m\n",
      "\u001b[0;32m/usr/local/lib64/python3.6/site-packages/pandas/io/parsers.py\u001b[0m in \u001b[0;36m__init__\u001b[0;34m(self, src, **kwds)\u001b[0m\n\u001b[1;32m   2008\u001b[0m         \u001b[0mkwds\u001b[0m\u001b[0;34m[\u001b[0m\u001b[0;34m\"usecols\"\u001b[0m\u001b[0;34m]\u001b[0m \u001b[0;34m=\u001b[0m \u001b[0mself\u001b[0m\u001b[0;34m.\u001b[0m\u001b[0musecols\u001b[0m\u001b[0;34m\u001b[0m\u001b[0;34m\u001b[0m\u001b[0m\n\u001b[1;32m   2009\u001b[0m \u001b[0;34m\u001b[0m\u001b[0m\n\u001b[0;32m-> 2010\u001b[0;31m         \u001b[0mself\u001b[0m\u001b[0;34m.\u001b[0m\u001b[0m_reader\u001b[0m \u001b[0;34m=\u001b[0m \u001b[0mparsers\u001b[0m\u001b[0;34m.\u001b[0m\u001b[0mTextReader\u001b[0m\u001b[0;34m(\u001b[0m\u001b[0msrc\u001b[0m\u001b[0;34m,\u001b[0m \u001b[0;34m**\u001b[0m\u001b[0mkwds\u001b[0m\u001b[0;34m)\u001b[0m\u001b[0;34m\u001b[0m\u001b[0;34m\u001b[0m\u001b[0m\n\u001b[0m\u001b[1;32m   2011\u001b[0m         \u001b[0mself\u001b[0m\u001b[0;34m.\u001b[0m\u001b[0munnamed_cols\u001b[0m \u001b[0;34m=\u001b[0m \u001b[0mself\u001b[0m\u001b[0;34m.\u001b[0m\u001b[0m_reader\u001b[0m\u001b[0;34m.\u001b[0m\u001b[0munnamed_cols\u001b[0m\u001b[0;34m\u001b[0m\u001b[0;34m\u001b[0m\u001b[0m\n\u001b[1;32m   2012\u001b[0m \u001b[0;34m\u001b[0m\u001b[0m\n",
      "\u001b[0;32mpandas/_libs/parsers.pyx\u001b[0m in \u001b[0;36mpandas._libs.parsers.TextReader.__cinit__\u001b[0;34m()\u001b[0m\n",
      "\u001b[0;32mpandas/_libs/parsers.pyx\u001b[0m in \u001b[0;36mpandas._libs.parsers.TextReader._setup_parser_source\u001b[0;34m()\u001b[0m\n",
      "\u001b[0;31mFileNotFoundError\u001b[0m: [Errno 2] No such file or directory: '/nfs/dust/belle2/user/axelheim/MC_studies/Dstlnu_Bt_generic/appliedNNdata/11thRun/Ups4S_df_wLabels.csv'"
     ]
    }
   ],
   "source": [
    "df_Ups4S = pd.read_csv(nfs_path + \"Ups4S_df_wLabels.csv\")\n",
    "nonHc_FSPs = pd.read_csv(nfs_path + \"nonHc_FSPs_df_wLabels.csv\")"
   ]
  },
  {
   "cell_type": "code",
   "execution_count": 4,
   "metadata": {},
   "outputs": [
    {
     "data": {
      "text/plain": [
       "20907"
      ]
     },
     "execution_count": 4,
     "metadata": {},
     "output_type": "execute_result"
    }
   ],
   "source": [
    "df_Ups4S.groupby([\"__event__\",\"__production__\"]).ngroups"
   ]
  },
  {
   "cell_type": "markdown",
   "metadata": {},
   "source": [
    "## more analysis"
   ]
  },
  {
   "cell_type": "code",
   "execution_count": 5,
   "metadata": {},
   "outputs": [
    {
     "data": {
      "text/plain": [
       "<AxesSubplot:>"
      ]
     },
     "execution_count": 5,
     "metadata": {},
     "output_type": "execute_result"
    },
    {
     "data": {
      "image/png": "[encoded data removed]",
      "text/plain": [
       "<Figure size 432x288 with 1 Axes>"
      ]
     },
     "metadata": {
      "needs_background": "light"
     },
     "output_type": "display_data"
    }
   ],
   "source": [
    "numFSPs_all = pd.DataFrame({'count' : nonHc_FSPs.groupby( [\"__event__\",\"__production__\"] ).size()}).reset_index()\n",
    "numFSPs_all[\"count\"].hist()"
   ]
  },
  {
   "cell_type": "code",
   "execution_count": 6,
   "metadata": {},
   "outputs": [],
   "source": [
    "percCorrect_df = pd.DataFrame({'frac. correct FSPs' : nonHc_FSPs.groupby([\"__event__\",\"__production__\",\"correct_pred\"] ).size()/nonHc_FSPs.groupby( [\"__event__\",\"__production__\"] ).size()}).reset_index()"
   ]
  },
  {
   "cell_type": "code",
   "execution_count": 7,
   "metadata": {},
   "outputs": [
    {
     "data": {
      "text/plain": [
       "<AxesSubplot:>"
      ]
     },
     "execution_count": 7,
     "metadata": {},
     "output_type": "execute_result"
    },
    {
     "data": {
      "image/png": "[encoded data removed]",
      "text/plain": [
       "<Figure size 432x288 with 1 Axes>"
      ]
     },
     "metadata": {
      "needs_background": "light"
     },
     "output_type": "display_data"
    }
   ],
   "source": [
    "percCorrect_df['frac. correct FSPs'].hist()"
   ]
  },
  {
   "cell_type": "markdown",
   "metadata": {},
   "source": [
    "## BCS"
   ]
  },
  {
   "cell_type": "code",
   "execution_count": 8,
   "metadata": {},
   "outputs": [
    {
     "name": "stdout",
     "output_type": "stream",
     "text": [
      "346284\n",
      "20906\n",
      "267760\n"
     ]
    }
   ],
   "source": [
    "print(df_Ups4S.shape[0])\n",
    "print(df_Ups4S[\"__event__\"].nunique())\n",
    "print(nonHc_FSPs.shape[0])"
   ]
  },
  {
   "cell_type": "code",
   "execution_count": 9,
   "metadata": {
    "scrolled": false
   },
   "outputs": [
    {
     "data": {
      "text/plain": [
       "Index(['Unnamed: 0', 'Unnamed: 0.1', '__experiment__', '__run__', '__event__',\n",
       "       '__production__', '__candidate__', '__ncandidates__', '__weight__',\n",
       "       'genMothPDG_0', 'genMothPDG_1', 'genMothPDG_2', 'genMothPDG_3',\n",
       "       'genMothPDG_4', 'genMothPDG_5', 'genMothPDG_6', 'genMothPDG_7',\n",
       "       'genMothPDG_8', 'genMothPDG_9', 'genMotherID_0', 'genMotherID_1',\n",
       "       'genMotherID_2', 'genMotherID_3', 'genMotherID_4', 'genMotherID_5',\n",
       "       'genMotherID_6', 'genMotherID_7', 'genMotherID_8', 'genMotherID_9',\n",
       "       'mcMother0_uniqParID', 'mcMother1_uniqParID', 'mcMother2_uniqParID',\n",
       "       'mcMother3_uniqParID', 'mcMother4_uniqParID', 'mcMother5_uniqParID',\n",
       "       'mcMother6_uniqParID', 'mcMother7_uniqParID', 'mcMother8_uniqParID',\n",
       "       'mcMother9_uniqParID', 'cmpx', 'cmpy', 'cmpz', 'cmE', 'isSignal',\n",
       "       'uniqueParticleIdentifier', 'mcErrors', 'mcPDG', 'genMotherID',\n",
       "       'genMotherP', 'genMotherPDG', 'charge', 'dr', 'dz', 'clusterReg',\n",
       "       'clusterE9E21', 'M', 'PDG', 'genParticleID', 'px', 'py', 'pz', 'pt',\n",
       "       'p', 'E', 'kaonID', 'pionID', 'protonID', 'muonID', 'electronID',\n",
       "       'deuteronID', 'binaryPID__bo211__cm__sp13__bc',\n",
       "       'binaryPID__bo211__cm__sp321__bc', 'binaryPID__bo211__cm__sp2212__bc',\n",
       "       'binaryPID__bo321__cm__sp2212__bc', 'NN_prediction', 'basf2_used',\n",
       "       'basf2_Bsig', 'Hc_used', 'B_ID', 'B_tag_ID_x', 'label', 'correct_pred',\n",
       "       'B_tag_ID_y', 'B_tag_ID'],\n",
       "      dtype='object')"
      ]
     },
     "execution_count": 9,
     "metadata": {},
     "output_type": "execute_result"
    }
   ],
   "source": [
    "nonHc_FSPs.keys()"
   ]
  },
  {
   "cell_type": "code",
   "execution_count": 10,
   "metadata": {
    "scrolled": true
   },
   "outputs": [
    {
     "name": "stdout",
     "output_type": "stream",
     "text": [
      "Unnamed: 0\n",
      "Unnamed: 0.1\n",
      "__experiment__\n",
      "__run__\n",
      "__event__\n",
      "__production__\n",
      "__candidate__\n",
      "__ncandidates__\n",
      "__weight__\n",
      "m2RecoilSignalSide\n",
      "foxWolframR2_maskedNaN\n",
      "foxWolframR2\n",
      "extraInfo__boFEIProbabilityRank__bc\n",
      "nTracks\n",
      "dau1_sigProb\n",
      "Up4S_isSig\n",
      "BeamE\n",
      "BeamPx\n",
      "BeamPy\n",
      "BeamPz\n",
      "BeamcmsE\n",
      "BeamcmsPx\n",
      "BeamcmsPy\n",
      "BeamcmsPz\n",
      "genUp4S_uniqParID_0\n",
      "genUp4S_PDG_0_0\n",
      "abs_genUp4S_PDG_0_0\n",
      "genUp4S_uniqParID_0_0\n",
      "genUp4S_PDG_0_0_0\n",
      "genUp4S_uniqParID_0_0_0\n",
      "genUp4S_PDG_0_0_0_0\n",
      "genUp4S_uniqParID_0_0_0_0\n",
      "genUp4S_PDG_0_0_0_0_0\n",
      "genUp4S_uniqParID_0_0_0_0_0\n",
      "genUp4S_PDG_0_0_0_0_1\n",
      "genUp4S_uniqParID_0_0_0_0_1\n",
      "genUp4S_PDG_0_0_0_0_2\n",
      "genUp4S_uniqParID_0_0_0_0_2\n",
      "genUp4S_PDG_0_0_0_0_3\n",
      "genUp4S_uniqParID_0_0_0_0_3\n",
      "genUp4S_PDG_0_0_0_0_4\n",
      "genUp4S_uniqParID_0_0_0_0_4\n",
      "genUp4S_PDG_0_0_0_0_5\n",
      "genUp4S_uniqParID_0_0_0_0_5\n",
      "genUp4S_PDG_0_0_0_1\n",
      "genUp4S_uniqParID_0_0_0_1\n",
      "genUp4S_PDG_0_0_0_1_0\n",
      "genUp4S_uniqParID_0_0_0_1_0\n",
      "genUp4S_PDG_0_0_0_1_1\n",
      "genUp4S_uniqParID_0_0_0_1_1\n",
      "genUp4S_PDG_0_0_0_1_2\n",
      "genUp4S_uniqParID_0_0_0_1_2\n",
      "genUp4S_PDG_0_0_0_1_3\n",
      "genUp4S_uniqParID_0_0_0_1_3\n",
      "genUp4S_PDG_0_0_0_1_4\n",
      "genUp4S_uniqParID_0_0_0_1_4\n",
      "genUp4S_PDG_0_0_0_1_5\n",
      "genUp4S_uniqParID_0_0_0_1_5\n",
      "genUp4S_PDG_0_0_0_2\n",
      "genUp4S_uniqParID_0_0_0_2\n",
      "genUp4S_PDG_0_0_0_2_0\n",
      "genUp4S_uniqParID_0_0_0_2_0\n",
      "genUp4S_PDG_0_0_0_2_1\n",
      "genUp4S_uniqParID_0_0_0_2_1\n",
      "genUp4S_PDG_0_0_0_2_2\n",
      "genUp4S_uniqParID_0_0_0_2_2\n",
      "genUp4S_PDG_0_0_0_2_3\n",
      "genUp4S_uniqParID_0_0_0_2_3\n",
      "genUp4S_PDG_0_0_0_2_4\n",
      "genUp4S_uniqParID_0_0_0_2_4\n",
      "genUp4S_PDG_0_0_0_2_5\n",
      "genUp4S_uniqParID_0_0_0_2_5\n",
      "genUp4S_PDG_0_0_0_3\n",
      "genUp4S_uniqParID_0_0_0_3\n",
      "genUp4S_PDG_0_0_0_4\n",
      "genUp4S_uniqParID_0_0_0_4\n",
      "genUp4S_PDG_0_0_0_5\n",
      "genUp4S_uniqParID_0_0_0_5\n",
      "genUp4S_PDG_0_0_1\n",
      "genUp4S_uniqParID_0_0_1\n",
      "genUp4S_PDG_0_0_2\n",
      "genUp4S_uniqParID_0_0_2\n",
      "genUp4S_PDG_0_1\n",
      "abs_genUp4S_PDG_0_1\n",
      "genUp4S_uniqParID_0_1\n",
      "genUp4S_PDG_0_2\n",
      "abs_genUp4S_PDG_0_2\n",
      "genUp4S_uniqParID_0_2\n",
      "genUp4S_PDG_0_3\n",
      "abs_genUp4S_PDG_0_3\n",
      "genUp4S_uniqParID_0_3\n",
      "genUp4S_uniqParID_1\n",
      "genUp4S_PDG_1_0\n",
      "abs_genUp4S_PDG_1_0\n",
      "genUp4S_uniqParID_1_0\n",
      "genUp4S_PDG_1_0_0\n",
      "genUp4S_uniqParID_1_0_0\n",
      "genUp4S_PDG_1_0_0_0\n",
      "genUp4S_uniqParID_1_0_0_0\n",
      "genUp4S_PDG_1_0_0_0_0\n",
      "genUp4S_uniqParID_1_0_0_0_0\n",
      "genUp4S_PDG_1_0_0_0_1\n",
      "genUp4S_uniqParID_1_0_0_0_1\n",
      "genUp4S_PDG_1_0_0_0_2\n",
      "genUp4S_uniqParID_1_0_0_0_2\n",
      "genUp4S_PDG_1_0_0_0_3\n",
      "genUp4S_uniqParID_1_0_0_0_3\n",
      "genUp4S_PDG_1_0_0_0_4\n",
      "genUp4S_uniqParID_1_0_0_0_4\n",
      "genUp4S_PDG_1_0_0_0_5\n",
      "genUp4S_uniqParID_1_0_0_0_5\n",
      "genUp4S_PDG_1_0_0_1\n",
      "genUp4S_uniqParID_1_0_0_1\n",
      "genUp4S_PDG_1_0_0_1_0\n",
      "genUp4S_uniqParID_1_0_0_1_0\n",
      "genUp4S_PDG_1_0_0_1_1\n",
      "genUp4S_uniqParID_1_0_0_1_1\n",
      "genUp4S_PDG_1_0_0_1_2\n",
      "genUp4S_uniqParID_1_0_0_1_2\n",
      "genUp4S_PDG_1_0_0_1_3\n",
      "genUp4S_uniqParID_1_0_0_1_3\n",
      "genUp4S_PDG_1_0_0_1_4\n",
      "genUp4S_uniqParID_1_0_0_1_4\n",
      "genUp4S_PDG_1_0_0_1_5\n",
      "genUp4S_uniqParID_1_0_0_1_5\n",
      "genUp4S_PDG_1_0_0_2\n",
      "genUp4S_uniqParID_1_0_0_2\n",
      "genUp4S_PDG_1_0_0_2_0\n",
      "genUp4S_uniqParID_1_0_0_2_0\n",
      "genUp4S_PDG_1_0_0_2_1\n",
      "genUp4S_uniqParID_1_0_0_2_1\n",
      "genUp4S_PDG_1_0_0_2_2\n",
      "genUp4S_uniqParID_1_0_0_2_2\n",
      "genUp4S_PDG_1_0_0_2_3\n",
      "genUp4S_uniqParID_1_0_0_2_3\n",
      "genUp4S_PDG_1_0_0_2_4\n",
      "genUp4S_uniqParID_1_0_0_2_4\n",
      "genUp4S_PDG_1_0_0_2_5\n",
      "genUp4S_uniqParID_1_0_0_2_5\n",
      "genUp4S_PDG_1_0_0_3\n",
      "genUp4S_uniqParID_1_0_0_3\n",
      "genUp4S_PDG_1_0_0_4\n",
      "genUp4S_uniqParID_1_0_0_4\n",
      "genUp4S_PDG_1_0_0_5\n",
      "genUp4S_uniqParID_1_0_0_5\n",
      "genUp4S_PDG_1_0_1\n",
      "genUp4S_uniqParID_1_0_1\n",
      "genUp4S_PDG_1_0_2\n",
      "genUp4S_uniqParID_1_0_2\n",
      "genUp4S_PDG_1_1\n",
      "abs_genUp4S_PDG_1_1\n",
      "genUp4S_uniqParID_1_1\n",
      "genUp4S_PDG_1_2\n",
      "abs_genUp4S_PDG_1_2\n",
      "genUp4S_uniqParID_1_2\n",
      "genUp4S_PDG_1_3\n",
      "abs_genUp4S_PDG_1_3\n",
      "genUp4S_uniqParID_1_3\n",
      "genUp4S_PDG_0\n",
      "genUp4S_charge_0\n",
      "genUp4S_mdstIndex_0\n",
      "genUp4S_genParticleID_0\n",
      "genUp4S_E_0\n",
      "genUp4S_Px_0\n",
      "genUp4S_Py_0\n",
      "genUp4S_Pz_0\n",
      "genUp4S_P_0\n",
      "genUp4S_cmE_0\n",
      "genUp4S_cmPx_0\n",
      "genUp4S_cmPy_0\n",
      "genUp4S_cmPz_0\n",
      "genUp4S_cmP_0\n",
      "genUp4S_mdstIndex_0_0\n",
      "genUp4S_genParticleID_0_0\n",
      "genUp4S_mdstIndex_0_0_0\n",
      "genUp4S_genParticleID_0_0_0\n",
      "genUp4S_mdstIndex_0_0_1\n",
      "genUp4S_genParticleID_0_0_1\n",
      "genUp4S_mdstIndex_0_1\n",
      "genUp4S_genParticleID_0_1\n",
      "genUp4S_mdstIndex_0_2\n",
      "genUp4S_genParticleID_0_2\n",
      "genUp4S_PDG_1\n",
      "genUp4S_charge_1\n",
      "genUp4S_mdstIndex_1\n",
      "genUp4S_genParticleID_1\n",
      "genUp4S_E_1\n",
      "genUp4S_Px_1\n",
      "genUp4S_Py_1\n",
      "genUp4S_Pz_1\n",
      "genUp4S_P_1\n",
      "genUp4S_cmE_1\n",
      "genUp4S_cmPx_1\n",
      "genUp4S_cmPy_1\n",
      "genUp4S_cmPz_1\n",
      "genUp4S_cmP_1\n",
      "genUp4S_mdstIndex_1_0\n",
      "genUp4S_genParticleID_1_0\n",
      "genUp4S_mdstIndex_1_0_0\n",
      "genUp4S_genParticleID_1_0_0\n",
      "genUp4S_mdstIndex_1_0_1\n",
      "genUp4S_genParticleID_1_0_1\n",
      "genUp4S_mdstIndex_1_1\n",
      "genUp4S_genParticleID_1_1\n",
      "genUp4S_mdstIndex_1_2\n",
      "genUp4S_genParticleID_1_2\n",
      "Btag_uniqParID\n",
      "dau0_M\n",
      "dau0_chiProb\n",
      "dau0_cmp\n",
      "dau0_cmE\n",
      "dau0_cmpx\n",
      "dau0_cmpy\n",
      "dau0_cmpz\n",
      "dau0_cmpt\n",
      "dau0_p\n",
      "dau0_E\n",
      "dau0_px\n",
      "dau0_py\n",
      "dau0_pz\n",
      "dau0_pt\n",
      "dau0_mcp\n",
      "dau0_mcpt\n",
      "dau0_dau1_charge\n",
      "dau0_dau0_motherP\n",
      "dau0_dau0_motherE\n",
      "dau0_dau0_motherPx\n",
      "dau0_dau0_motherPy\n",
      "dau0_dau0_motherPz\n",
      "dau0_dau0_mothercmsP\n",
      "dau0_dau0_mothercmsE\n",
      "dau0_dau0_mothercmsPx\n",
      "dau0_dau0_mothercmsPy\n",
      "dau0_dau0_mothercmsPz\n",
      "dau0_dau0_motherPDG\n",
      "dau0_dau0_grandmotherP\n",
      "dau0_dau0_grandmotherE\n",
      "dau0_dau0_grandmotherPx\n",
      "dau0_dau0_grandmotherPy\n",
      "dau0_dau0_grandmotherPz\n",
      "dau0_dau0_grandmotherPDG\n",
      "dau0_mccmp\n",
      "dau0_mccmpt\n",
      "dau0_decmode\n",
      "dau0_sigProb\n",
      "dau0_dau0_decmode\n",
      "dau0_dau0_sigProb\n",
      "dau0_dau0_charge\n",
      "dau0_dau0_M\n",
      "dau0_dau0_DeltaM\n",
      "dau0_dau0_E\n",
      "dau0_dau0_px\n",
      "dau0_dau0_py\n",
      "dau0_dau0_pz\n",
      "dau0_dau0_PDG\n",
      "dau0_dau0_isSignal\n",
      "dau0_dau0_isSignalAcceptMissingGamma\n",
      "dau0_dau1_M\n",
      "dau0_dau1_E\n",
      "dau0_dau1_px\n",
      "dau0_dau1_py\n",
      "dau0_dau1_pz\n",
      "dau0_dau1_nDaughters\n",
      "dau0_dau1_dau0_PDG\n",
      "dau0_dau1_dau1_PDG\n",
      "dau0_dau1_dau2_PDG\n",
      "dau0_dau1_dau3_PDG\n",
      "dau0_dau2_p\n",
      "dau0_deltaE\n",
      "dau0_Mbc\n",
      "dau0_FEIRank\n",
      "dau0_isSignal\n",
      "dau0_R2\n",
      "dau0_cosTBTO\n",
      "dau0_cosThetaBetweenParticleAndNominalB\n",
      "dau0_PDG\n",
      "dau0_motherPDG\n",
      "Bsig_uniqParID\n",
      "dau1_M\n",
      "dau1_cmp\n",
      "dau1_cmE\n",
      "dau1_cmpx\n",
      "dau1_cmpy\n",
      "dau1_cmpz\n",
      "dau1_cmpt\n",
      "dau1_theta\n",
      "dau1_p\n",
      "dau1_E\n",
      "dau1_px\n",
      "dau1_py\n",
      "dau1_pz\n",
      "dau1_pt\n",
      "dau1_mcp\n",
      "dau1_mcpt\n",
      "dau1_mccmE\n",
      "dau1_mccmp\n",
      "dau1_mccmpx\n",
      "dau1_mccmpy\n",
      "dau1_mccmpz\n",
      "dau1_mccmpt\n",
      "dau1_cosThetaBetweenParticleAndNominalB\n",
      "dau1_isSignal\n",
      "dau1_mcPDG\n",
      "dau1_dau0_mcPDG\n",
      "dau1_dau1_mcPDG\n",
      "dau1_dau0_mothermdstIndex\n",
      "dau1_dau1_mothermdstIndex\n",
      "dau1_mdstIndex\n",
      "dau1_motherPDG\n",
      "lep_mdstIndex\n",
      "lep_PDG\n",
      "lep_theta\n",
      "lep_clusterEP\n",
      "lep_clusterE\n",
      "lep_eID\n",
      "lep_muID\n",
      "lep_clusterE9E21\n",
      "lep_absdz\n",
      "lep_absd0\n",
      "lep_klmLayers\n",
      "lep_MatchedKLMClusters\n",
      "lep_M\n",
      "lep_chiProb\n",
      "lep_cmE\n",
      "lep_cmp\n",
      "lep_cmpx\n",
      "lep_cmpy\n",
      "lep_cmpz\n",
      "lep_cmpt\n",
      "lep_E\n",
      "lep_p\n",
      "lep_px\n",
      "lep_py\n",
      "lep_pz\n",
      "lep_pt\n",
      "lep_mcp\n",
      "lep_mcpt\n",
      "lep_mccmp\n",
      "lep_mccmpt\n",
      "lep_mcPDG\n",
      "lep_genParticleID\n",
      "lep_motherPDG\n",
      "lep_gmotherPDG\n",
      "lep_genmotherID\n",
      "lep_mothermdstIndex\n",
      "lep_uniqParID\n",
      "lepMother_uniqParID\n",
      "D_dau0_genGmothID\n",
      "D_dau0_motherPDG\n",
      "D_dau0_gmotherPDG\n",
      "D_dau0_mcPDG\n",
      "D_dau1_genGmothID\n",
      "D_dau1_motherPDG\n",
      "D_dau1_gmotherPDG\n",
      "D_dau1_mcPDG\n",
      "D_dau2_genGmothID\n",
      "D_dau2_motherPDG\n",
      "D_dau2_gmotherPDG\n",
      "D_dau2_mcPDG\n",
      "D_dau3_genGmothID\n",
      "D_dau3_motherPDG\n",
      "D_dau3_gmotherPDG\n",
      "D_dau3_mcPDG\n",
      "D_dau4_genGmothID\n",
      "D_dau4_motherPDG\n",
      "D_dau4_gmotherPDG\n",
      "D_dau4_mcPDG\n",
      "slowPi_motherPDG\n",
      "slowPi_mcPDG\n",
      "Dst_genParticleID\n",
      "Hc_isSignalAcceptMissingGamma\n",
      "Hc_genMotherPDG\n",
      "Hc_mcPDG\n",
      "Hc_uniqParID\n",
      "Hc_genMotherID\n",
      "Hc_motherUniqParID\n",
      "D_nDaughters\n",
      "D_M\n",
      "D_p\n",
      "D_pt\n",
      "D_cmp\n",
      "D_cmpt\n",
      "D_isSignal\n",
      "D_uniqParID\n",
      "D_decayModeID\n",
      "Dst_uniqParID\n",
      "Dst_M\n",
      "Dst_E\n",
      "Dst_p\n",
      "Dst_px\n",
      "Dst_py\n",
      "Dst_pz\n",
      "Dst_pt\n",
      "Dst_cmE\n",
      "Dst_cmp\n",
      "Dst_cmpx\n",
      "Dst_cmpy\n",
      "Dst_cmpz\n",
      "Dst_cmpt\n",
      "Dst_mccmE\n",
      "Dst_mccmp\n",
      "Dst_mccmpx\n",
      "Dst_mccmpy\n",
      "Dst_mccmpz\n",
      "Dst_DeltaM\n",
      "Dst_isSignal\n",
      "roeE_ofUps4S\n",
      "E_predicted_bg_gammas\n",
      "D0_decay\n",
      "abs_m2RecoilSignalSide\n",
      "Bsig_uniqParID_pdMethod\n",
      "lep_typeMC\n",
      "lep_type\n",
      "lep_MC_truth\n"
     ]
    }
   ],
   "source": [
    "for key in df_Ups4S.keys():\n",
    "    print(key)"
   ]
  },
  {
   "cell_type": "code",
   "execution_count": 11,
   "metadata": {},
   "outputs": [
    {
     "data": {
      "text/plain": [
       "346284"
      ]
     },
     "execution_count": 11,
     "metadata": {},
     "output_type": "execute_result"
    }
   ],
   "source": [
    "df_Ups4S.shape[0]"
   ]
  },
  {
   "cell_type": "code",
   "execution_count": 12,
   "metadata": {
    "scrolled": true
   },
   "outputs": [
    {
     "data": {
      "text/plain": [
       "__event__    20906\n",
       "dtype: int64"
      ]
     },
     "execution_count": 12,
     "metadata": {},
     "output_type": "execute_result"
    }
   ],
   "source": [
    "df_Ups4S[[\"__event__\"]].nunique()"
   ]
  },
  {
   "cell_type": "code",
   "execution_count": 13,
   "metadata": {},
   "outputs": [
    {
     "data": {
      "text/plain": [
       "20907"
      ]
     },
     "execution_count": 13,
     "metadata": {},
     "output_type": "execute_result"
    }
   ],
   "source": [
    "df_Ups4S.groupby([\"__event__\",\"__production__\"]).ngroups"
   ]
  },
  {
   "cell_type": "code",
   "execution_count": 14,
   "metadata": {},
   "outputs": [
    {
     "name": "stdout",
     "output_type": "stream",
     "text": [
      "\n",
      " Up4S_isSig\n",
      "count    171232.0\n",
      "mean          0.0\n",
      "std           0.0\n",
      "min           0.0\n",
      "25%           0.0\n",
      "50%           0.0\n",
      "75%           0.0\n",
      "max           0.0\n",
      "Name: Up4S_isSig, dtype: float64\n",
      "\n",
      " Dst_isSignal\n",
      "count    289782.000000\n",
      "mean          0.002150\n",
      "std           0.046317\n",
      "min           0.000000\n",
      "25%           0.000000\n",
      "50%           0.000000\n",
      "75%           0.000000\n",
      "max           1.000000\n",
      "Name: Dst_isSignal, dtype: float64\n",
      "\n",
      " D_isSignal\n",
      "count    292500.000000\n",
      "mean          0.002550\n",
      "std           0.050437\n",
      "min           0.000000\n",
      "25%           0.000000\n",
      "50%           0.000000\n",
      "75%           0.000000\n",
      "max           1.000000\n",
      "Name: D_isSignal, dtype: float64\n",
      "\n",
      " dau0_dau0_isSignal\n",
      "count    311487.000000\n",
      "mean          0.156578\n",
      "std           0.363403\n",
      "min           0.000000\n",
      "25%           0.000000\n",
      "50%           0.000000\n",
      "75%           0.000000\n",
      "max           1.000000\n",
      "Name: dau0_dau0_isSignal, dtype: float64\n",
      "\n",
      " Hc_isSignalAcceptMissingGamma\n",
      "count    311487.000000\n",
      "mean          0.159044\n",
      "std           0.365717\n",
      "min           0.000000\n",
      "25%           0.000000\n",
      "50%           0.000000\n",
      "75%           0.000000\n",
      "max           1.000000\n",
      "Name: Hc_isSignalAcceptMissingGamma, dtype: float64\n",
      "\n",
      " dau0_isSignal\n",
      "count    207491.0\n",
      "mean          0.0\n",
      "std           0.0\n",
      "min           0.0\n",
      "25%           0.0\n",
      "50%           0.0\n",
      "75%           0.0\n",
      "max           0.0\n",
      "Name: dau0_isSignal, dtype: float64\n",
      "\n",
      " dau1_isSignal\n",
      "count    285908.000000\n",
      "mean          0.001822\n",
      "std           0.042649\n",
      "min           0.000000\n",
      "25%           0.000000\n",
      "50%           0.000000\n",
      "75%           0.000000\n",
      "max           1.000000\n",
      "Name: dau1_isSignal, dtype: float64\n"
     ]
    }
   ],
   "source": [
    "variables=[\"Up4S_isSig\",\"Dst_isSignal\",\"D_isSignal\",\"dau0_dau0_isSignal\",\"Hc_isSignalAcceptMissingGamma\",\"dau0_isSignal\",\"dau1_isSignal\"]\n",
    "for var in variables:\n",
    "    print('\\n',var)\n",
    "    print(df_Ups4S[var].describe())\n",
    "    "
   ]
  },
  {
   "cell_type": "code",
   "execution_count": 15,
   "metadata": {},
   "outputs": [
    {
     "data": {
      "text/plain": [
       "<AxesSubplot:>"
      ]
     },
     "execution_count": 15,
     "metadata": {},
     "output_type": "execute_result"
    },
    {
     "data": {
      "image/png": "[encoded data removed]",
      "text/plain": [
       "<Figure size 432x288 with 1 Axes>"
      ]
     },
     "metadata": {
      "needs_background": "light"
     },
     "output_type": "display_data"
    }
   ],
   "source": [
    "bins = np.linspace(0, 10, 50)\n",
    "df_Ups4S[\"roeE_ofUps4S\"].hist(bins=bins)"
   ]
  },
  {
   "cell_type": "code",
   "execution_count": 16,
   "metadata": {},
   "outputs": [
    {
     "data": {
      "text/plain": [
       "<AxesSubplot:>"
      ]
     },
     "execution_count": 16,
     "metadata": {},
     "output_type": "execute_result"
    },
    {
     "data": {
      "image/png": "[encoded data removed]",
      "text/plain": [
       "<Figure size 432x288 with 1 Axes>"
      ]
     },
     "metadata": {
      "needs_background": "light"
     },
     "output_type": "display_data"
    }
   ],
   "source": [
    "bins = np.linspace(0, 2, 50)\n",
    "df_Ups4S[\"E_predicted_bg_gammas\"].hist(bins=bins)"
   ]
  },
  {
   "cell_type": "code",
   "execution_count": 17,
   "metadata": {
    "scrolled": true
   },
   "outputs": [
    {
     "data": {
      "text/plain": [
       "array([<AxesSubplot:title={'center':'0'}>,\n",
       "       <AxesSubplot:title={'center':'1'}>], dtype=object)"
      ]
     },
     "execution_count": 17,
     "metadata": {},
     "output_type": "execute_result"
    },
    {
     "data": {
      "image/png": "[encoded data removed]",
      "text/plain": [
       "<Figure size 432x288 with 2 Axes>"
      ]
     },
     "metadata": {
      "needs_background": "light"
     },
     "output_type": "display_data"
    }
   ],
   "source": [
    "bins = np.linspace(-4, 4, 50)\n",
    "df_Ups4S.hist(\"m2RecoilSignalSide\", bins=bins, by='lep_MC_truth')"
   ]
  },
  {
   "cell_type": "code",
   "execution_count": 18,
   "metadata": {
    "scrolled": true
   },
   "outputs": [
    {
     "data": {
      "text/plain": [
       "array([<AxesSubplot:title={'center':'0.0'}>,\n",
       "       <AxesSubplot:title={'center':'1.0'}>], dtype=object)"
      ]
     },
     "execution_count": 18,
     "metadata": {},
     "output_type": "execute_result"
    },
    {
     "data": {
      "image/png": "[encoded data removed]",
      "text/plain": [
       "<Figure size 432x288 with 2 Axes>"
      ]
     },
     "metadata": {
      "needs_background": "light"
     },
     "output_type": "display_data"
    }
   ],
   "source": [
    "bins = np.linspace(-4, 4, 50)\n",
    "df_Ups4S.hist(\"m2RecoilSignalSide\", bins=bins, by='dau1_isSignal')"
   ]
  },
  {
   "cell_type": "code",
   "execution_count": 19,
   "metadata": {},
   "outputs": [
    {
     "data": {
      "text/plain": [
       "count    346284.000000\n",
       "mean          0.577754\n",
       "std           0.493918\n",
       "min           0.000000\n",
       "25%           0.000000\n",
       "50%           1.000000\n",
       "75%           1.000000\n",
       "max           1.000000\n",
       "Name: lep_MC_truth, dtype: float64"
      ]
     },
     "execution_count": 19,
     "metadata": {},
     "output_type": "execute_result"
    }
   ],
   "source": [
    "df_Ups4S[\"lep_MC_truth\"].describe()"
   ]
  },
  {
   "cell_type": "code",
   "execution_count": 20,
   "metadata": {},
   "outputs": [
    {
     "data": {
      "text/plain": [
       "count    171232.0\n",
       "mean          0.0\n",
       "std           0.0\n",
       "min           0.0\n",
       "25%           0.0\n",
       "50%           0.0\n",
       "75%           0.0\n",
       "max           0.0\n",
       "Name: Up4S_isSig, dtype: float64"
      ]
     },
     "execution_count": 20,
     "metadata": {},
     "output_type": "execute_result"
    }
   ],
   "source": [
    "df_Ups4S[\"Up4S_isSig\"].describe()"
   ]
  },
  {
   "cell_type": "code",
   "execution_count": 21,
   "metadata": {},
   "outputs": [
    {
     "name": "stdout",
     "output_type": "stream",
     "text": [
      "20906\n",
      "20906\n",
      "20906\n",
      "20906\n",
      "20906\n",
      "20906\n"
     ]
    },
    {
     "data": {
      "image/png": "[encoded data removed]",
      "text/plain": [
       "<Figure size 1152x720 with 1 Axes>"
      ]
     },
     "metadata": {
      "needs_background": "light"
     },
     "output_type": "display_data"
    },
    {
     "data": {
      "image/png": "[encoded data removed]",
      "text/plain": [
       "<Figure size 1152x720 with 1 Axes>"
      ]
     },
     "metadata": {
      "needs_background": "light"
     },
     "output_type": "display_data"
    }
   ],
   "source": [
    "df_Ups4S[\"abs_m2RecoilSignalSide\"] = df_Ups4S[\"m2RecoilSignalSide\"].abs() \n",
    "\n",
    "for lep_truth in [\"off\",\"on\"]:\n",
    "    fig, ax = plt.subplots()\n",
    "    fig.suptitle('BCS')\n",
    "\n",
    "    for var in [\"abs_m2RecoilSignalSide\",\"roeE_ofUps4S\",\"random_BCS\"]:\n",
    "\n",
    "        if var == \"random_BCS\":\n",
    "            # this takes a sample of all events which results in shuffling the evts\n",
    "            tmp = df_Ups4S.sample(frac=1)\n",
    "            # now keeping the first results in random BCS\n",
    "            tmp = tmp.drop_duplicates(subset=(\"__event__\"), keep='first')\n",
    "        else:\n",
    "            tmp = df_Ups4S.sort_values(var,ascending=True).drop_duplicates(subset=(\"__event__\"), keep='first')\n",
    "\n",
    "\n",
    "\n",
    "        print(tmp.shape[0])\n",
    "        bins = np.linspace(-4, 4, 50)\n",
    "\n",
    "        fig.set_size_inches(16, 10)\n",
    "\n",
    "        ax.set_xlabel(r'$m_{miss}^2$ in GeV$^2$')\n",
    "        ax.set_ylabel(\"events\")\n",
    "        \n",
    "        if lep_truth == \"off\":\n",
    "            ax.hist(tmp.m2RecoilSignalSide, bins, alpha=0.5, label=var ,histtype='step')\n",
    "        elif lep_truth == \"on\":    \n",
    "            ax.hist(tmp[tmp[\"lep_MC_truth\"] == 1].m2RecoilSignalSide, bins, alpha=0.5, label=var + \" lep truth matching == 1\" ,histtype='step')\n",
    "\n",
    "        ax.legend(loc='upper left')\n",
    "\n",
    "\n",
    "\n",
    "    plt.savefig(f'plots/ONLINE_APP_FIXED_onlineNN_m2Recoil_BCS_lepTruthCut_{lep_truth}.pdf')"
   ]
  },
  {
   "cell_type": "code",
   "execution_count": 22,
   "metadata": {},
   "outputs": [
    {
     "name": "stdout",
     "output_type": "stream",
     "text": [
      "20906\n"
     ]
    },
    {
     "data": {
      "image/png": "[encoded data removed]",
      "text/plain": [
       "<Figure size 1152x720 with 1 Axes>"
      ]
     },
     "metadata": {
      "needs_background": "light"
     },
     "output_type": "display_data"
    }
   ],
   "source": [
    "df_Ups4S[\"abs_m2RecoilSignalSide\"] = df_Ups4S[\"m2RecoilSignalSide\"].abs() \n",
    "\n",
    "\n",
    "fig, ax = plt.subplots()\n",
    "fig.suptitle('BCS')\n",
    "\n",
    "for var in [\"abs_m2RecoilSignalSide\"]:\n",
    "\n",
    "    tmp = df_Ups4S.sort_values(var,ascending=True).drop_duplicates(subset=(\"__event__\"), keep='first')\n",
    "\n",
    "\n",
    "\n",
    "    print(tmp.shape[0])\n",
    "    bins = np.linspace(-4, 4, 50)\n",
    "\n",
    "    fig.set_size_inches(16, 10)\n",
    "\n",
    "    ax.set_xlabel(r'$m_{miss}^2$ in GeV$^2$')\n",
    "    ax.set_ylabel(\"events\")\n",
    "\n",
    "    ax.hist(tmp.m2RecoilSignalSide, bins, alpha=0.5, label=var ,histtype='step')\n",
    "    ax.hist(tmp[tmp[\"lep_MC_truth\"] == 1].m2RecoilSignalSide, bins, alpha=0.5, label=var + \" lep truth matching == 1\" ,histtype='step')\n",
    "\n",
    "    ax.legend(loc='upper left')\n",
    "\n",
    "\n",
    "\n",
    "    plt.savefig(f'plots/ONLINE_APP_FIXED_onlineNN_m2Recoil_BCS_lepTruthCut_ONLY_abs_m2RecoilSignalSide.pdf')"
   ]
  },
  {
   "cell_type": "code",
   "execution_count": 23,
   "metadata": {},
   "outputs": [],
   "source": [
    "BCS_df = df_Ups4S.sort_values(\"abs_m2RecoilSignalSide\",ascending=True).drop_duplicates(subset=(\"__event__\"), keep='first')"
   ]
  },
  {
   "cell_type": "code",
   "execution_count": 24,
   "metadata": {},
   "outputs": [
    {
     "data": {
      "text/plain": [
       "<AxesSubplot:>"
      ]
     },
     "execution_count": 24,
     "metadata": {},
     "output_type": "execute_result"
    },
    {
     "data": {
      "image/png": "[encoded data removed]",
      "text/plain": [
       "<Figure size 432x288 with 1 Axes>"
      ]
     },
     "metadata": {
      "needs_background": "light"
     },
     "output_type": "display_data"
    }
   ],
   "source": [
    "bins = np.linspace(-4, 4, 50)\n",
    "BCS_df[\"m2RecoilSignalSide\"].hist(bins=bins)"
   ]
  },
  {
   "cell_type": "code",
   "execution_count": 25,
   "metadata": {},
   "outputs": [
    {
     "data": {
      "text/plain": [
       "count    20906.000000\n",
       "mean         2.260332\n",
       "std          3.156298\n",
       "min        -16.227046\n",
       "25%          0.057545\n",
       "50%          1.517209\n",
       "75%          3.936729\n",
       "max         16.748429\n",
       "Name: m2RecoilSignalSide, dtype: float64"
      ]
     },
     "execution_count": 25,
     "metadata": {},
     "output_type": "execute_result"
    }
   ],
   "source": [
    "BCS_df[\"m2RecoilSignalSide\"].describe()"
   ]
  },
  {
   "cell_type": "code",
   "execution_count": 26,
   "metadata": {},
   "outputs": [
    {
     "data": {
      "image/png": "[encoded data removed]",
      "text/plain": [
       "<Figure size 576x360 with 2 Axes>"
      ]
     },
     "metadata": {
      "needs_background": "light"
     },
     "output_type": "display_data"
    }
   ],
   "source": [
    "fig, ax = plt.subplots()\n",
    "fig.suptitle(r'$\\Delta E$ vs. $M_{bc}$ $B_{tag}$')\n",
    "\n",
    "bins = np.linspace(-4, 4, 50)\n",
    "\n",
    "fig.set_size_inches(8, 5)\n",
    "\n",
    "ax.set_xlabel(r'$M_{bc}$ $B_{tag}$')\n",
    "ax.set_ylabel(r'$\\Delta E$ $B_{tag}$')\n",
    "\n",
    "\n",
    "#ax.legend(loc='upper left')\n",
    "h = ax.hist2d(BCS_df.dau0_Mbc,BCS_df.dau0_deltaE, range=[[4, 5.5], [-3, 3]], bins=20,\n",
    "          norm=mpl.colors.LogNorm())\n",
    "\n",
    "plt.grid()\n",
    "fig.colorbar(h[3], ax=ax)\n",
    "\n",
    "\n",
    "plt.savefig('plots/ONLINE_APP_FIXED_onlineNN_2D_deltaE_Mbc.pdf')"
   ]
  },
  {
   "cell_type": "code",
   "execution_count": 27,
   "metadata": {
    "scrolled": true
   },
   "outputs": [
    {
     "data": {
      "text/plain": [
       "<AxesSubplot:>"
      ]
     },
     "execution_count": 27,
     "metadata": {},
     "output_type": "execute_result"
    },
    {
     "data": {
      "image/png": "[encoded data removed]",
      "text/plain": [
       "<Figure size 432x288 with 1 Axes>"
      ]
     },
     "metadata": {
      "needs_background": "light"
     },
     "output_type": "display_data"
    }
   ],
   "source": [
    "bins = np.linspace(4, 6, 50)\n",
    "BCS_df[\"dau0_Mbc\"].hist(bins=bins)"
   ]
  },
  {
   "cell_type": "code",
   "execution_count": 28,
   "metadata": {
    "scrolled": true
   },
   "outputs": [
    {
     "data": {
      "text/plain": [
       "<AxesSubplot:>"
      ]
     },
     "execution_count": 28,
     "metadata": {},
     "output_type": "execute_result"
    },
    {
     "data": {
      "image/png": "[encoded data removed]",
      "text/plain": [
       "<Figure size 432x288 with 1 Axes>"
      ]
     },
     "metadata": {
      "needs_background": "light"
     },
     "output_type": "display_data"
    }
   ],
   "source": [
    "bins = np.linspace(-4, 4, 50)\n",
    "BCS_df[\"dau0_deltaE\"].hist(bins=bins)"
   ]
  },
  {
   "cell_type": "code",
   "execution_count": 29,
   "metadata": {
    "scrolled": true
   },
   "outputs": [
    {
     "data": {
      "text/plain": [
       "<AxesSubplot:>"
      ]
     },
     "execution_count": 29,
     "metadata": {},
     "output_type": "execute_result"
    },
    {
     "data": {
      "image/png": "[encoded data removed]",
      "text/plain": [
       "<Figure size 432x288 with 1 Axes>"
      ]
     },
     "metadata": {
      "needs_background": "light"
     },
     "output_type": "display_data"
    }
   ],
   "source": [
    "bins = np.linspace(0, 2, 50)\n",
    "BCS_df[\"Dst_DeltaM\"].hist(bins=bins)"
   ]
  },
  {
   "cell_type": "code",
   "execution_count": 30,
   "metadata": {
    "scrolled": true
   },
   "outputs": [
    {
     "data": {
      "text/plain": [
       "<AxesSubplot:>"
      ]
     },
     "execution_count": 30,
     "metadata": {},
     "output_type": "execute_result"
    },
    {
     "data": {
      "image/png": "[encoded data removed]",
      "text/plain": [
       "<Figure size 432x288 with 1 Axes>"
      ]
     },
     "metadata": {
      "needs_background": "light"
     },
     "output_type": "display_data"
    }
   ],
   "source": [
    "bins = np.linspace(0, 4, 50)\n",
    "BCS_df[\"D_M\"].hist(bins=bins)"
   ]
  },
  {
   "cell_type": "code",
   "execution_count": 31,
   "metadata": {
    "scrolled": true
   },
   "outputs": [
    {
     "data": {
      "text/plain": [
       "<AxesSubplot:>"
      ]
     },
     "execution_count": 31,
     "metadata": {},
     "output_type": "execute_result"
    },
    {
     "data": {
      "image/png": "[encoded data removed]",
      "text/plain": [
       "<Figure size 432x288 with 1 Axes>"
      ]
     },
     "metadata": {
      "needs_background": "light"
     },
     "output_type": "display_data"
    }
   ],
   "source": [
    "bins = np.linspace(0, 4, 50)\n",
    "BCS_df[\"Dst_M\"].hist(bins=bins)"
   ]
  },
  {
   "cell_type": "code",
   "execution_count": 32,
   "metadata": {
    "scrolled": true
   },
   "outputs": [
    {
     "data": {
      "text/plain": [
       "<AxesSubplot:>"
      ]
     },
     "execution_count": 32,
     "metadata": {},
     "output_type": "execute_result"
    },
    {
     "data": {
      "image/png": "[encoded data removed]",
      "text/plain": [
       "<Figure size 432x288 with 1 Axes>"
      ]
     },
     "metadata": {
      "needs_background": "light"
     },
     "output_type": "display_data"
    }
   ],
   "source": [
    "bins = np.linspace(0, 4, 50)\n",
    "BCS_df[\"Dst_pt\"].hist(bins=bins)"
   ]
  },
  {
   "cell_type": "code",
   "execution_count": 33,
   "metadata": {
    "scrolled": true
   },
   "outputs": [
    {
     "data": {
      "text/plain": [
       "<AxesSubplot:>"
      ]
     },
     "execution_count": 33,
     "metadata": {},
     "output_type": "execute_result"
    },
    {
     "data": {
      "image/png": "[encoded data removed]",
      "text/plain": [
       "<Figure size 432x288 with 1 Axes>"
      ]
     },
     "metadata": {
      "needs_background": "light"
     },
     "output_type": "display_data"
    }
   ],
   "source": [
    "bins = np.linspace(0, 4, 50)\n",
    "BCS_df[\"lep_pt\"].hist(bins=bins)"
   ]
  },
  {
   "cell_type": "code",
   "execution_count": 34,
   "metadata": {},
   "outputs": [
    {
     "data": {
      "image/png": "[encoded data removed]",
      "text/plain": [
       "<Figure size 576x360 with 1 Axes>"
      ]
     },
     "metadata": {
      "needs_background": "light"
     },
     "output_type": "display_data"
    }
   ],
   "source": [
    "fig, ax = plt.subplots()\n",
    "    \n",
    "bins = np.linspace(-4, 4, 50)\n",
    "\n",
    "fig.suptitle('--')\n",
    "fig.set_size_inches(8, 5)\n",
    "\n",
    "ax.set_xlabel(r'$m_{miss}^2$ in GeV$^2$')\n",
    "ax.set_ylabel(\"events\")\n",
    "\n",
    "ax.hist(BCS_df.m2RecoilSignalSide, bins, alpha=0.5, label=\"no filter\" ,histtype='step')\n",
    "ax.hist(BCS_df[BCS_df.dau0_Mbc > 5.00].m2RecoilSignalSide, bins, alpha=0.5, label=\"dau0_Mbc > 5.00\" ,histtype='step')\n",
    "ax.hist(BCS_df[(BCS_df.dau0_deltaE > -.2) & BCS_df.dau0_deltaE < .2].m2RecoilSignalSide, bins, alpha=0.5, label=\"abs(dau0_deltaE) < 0.2\" ,histtype='step')\n",
    "#ax.hist(BCS_df[(BCS_df.Dst_pt < 2.4) & (BCS_df.lep_pt > 1.0)].m2RecoilSignalSide, bins, alpha=0.5, label=\"Dst_pt < 2.4 & lep_pt > 1.0\" ,histtype='step')\n",
    "ax.hist(BCS_df[(BCS_df.lep_pt > 1.0)].m2RecoilSignalSide, bins, alpha=0.5, label=\"lep_pt > 1.0\" ,histtype='step')\n",
    "#ax.hist(BCS_df[(BCS_df.Dst_pt < 2.4)].m2RecoilSignalSide, bins, alpha=0.5, label=\"Dst_pt < 2.4\" ,histtype='step')\n",
    "ax.hist(BCS_df[(BCS_df.lep_pt > 1.0) & (BCS_df.dau0_deltaE > -.2) & (BCS_df.dau0_deltaE < .2) & (BCS_df.dau0_Mbc > 5.00)].m2RecoilSignalSide, bins, alpha=0.5, label=\"all cuts combined\" ,histtype='step')\n",
    "\n",
    "#tmp2 = BCS_df[(BCS_df.lep_pt > 1.0) & (BCS_df.dau0_deltaE > -.2) & (BCS_df.dau0_deltaE < .2) & (BCS_df.dau0_Mbc > 5.00)]\n",
    "#ax.hist(tmp2[(tmp2.D_M > 1.8) & (tmp2.D_M < 1.95)].m2RecoilSignalSide, bins, alpha=0.5, label=\"plus D M cut\" ,histtype='step')\n",
    "\n",
    "ax.legend(loc='upper left')\n",
    "\n",
    "\n",
    "plt.savefig('plots/ONLINE_APP_FIXED_onlineNN_m2RecoilFilters.pdf')"
   ]
  },
  {
   "cell_type": "code",
   "execution_count": 35,
   "metadata": {},
   "outputs": [
    {
     "data": {
      "text/plain": [
       "<matplotlib.legend.Legend at 0x2b8f5f9c2dd8>"
      ]
     },
     "execution_count": 35,
     "metadata": {},
     "output_type": "execute_result"
    },
    {
     "data": {
      "image/png": "[encoded data removed]",
      "text/plain": [
       "<Figure size 576x360 with 1 Axes>"
      ]
     },
     "metadata": {
      "needs_background": "light"
     },
     "output_type": "display_data"
    }
   ],
   "source": [
    "fig, ax = plt.subplots()\n",
    "    \n",
    "bins = np.linspace(-4, 4, 50)\n",
    "\n",
    "fig.suptitle('--')\n",
    "fig.set_size_inches(8, 5)\n",
    "\n",
    "ax.set_xlabel(r'$m_{miss}^2$ in GeV$^2$')\n",
    "ax.set_ylabel(\"events\")\n",
    "\n",
    "#ax.hist(BCS_df.m2RecoilSignalSide, bins, alpha=0.5, label=\"no filter\" ,histtype='step')\n",
    "#ax.hist(BCS_df[BCS_df.dau0_Mbc > 5.00].m2RecoilSignalSide, bins, alpha=0.5, label=\"dau0_Mbc > 5.00\" ,histtype='step')\n",
    "#ax.hist(BCS_df[(BCS_df.dau0_deltaE > -.2) & BCS_df.dau0_deltaE < .2].m2RecoilSignalSide, bins, alpha=0.5, label=\"abs(dau0_deltaE) < 0.2\" ,histtype='step')\n",
    "#ax.hist(BCS_df[(BCS_df.Dst_pt < 2.4) & (BCS_df.lep_pt > 1.0)].m2RecoilSignalSide, bins, alpha=0.5, label=\"Dst_pt < 2.4 & lep_pt > 1.0\" ,histtype='step')\n",
    "#ax.hist(BCS_df[(BCS_df.lep_pt > 1.0)].m2RecoilSignalSide, bins, alpha=0.5, label=\"lep_pt > 1.0\" ,histtype='step')\n",
    "#ax.hist(BCS_df[(BCS_df.Dst_pt < 2.4)].m2RecoilSignalSide, bins, alpha=0.5, label=\"Dst_pt < 2.4\" ,histtype='step')\n",
    "#ax.hist(BCS_df[(BCS_df.lep_pt > 1.0) & (BCS_df.dau0_deltaE > -.2) & (BCS_df.dau0_deltaE < .2) & (BCS_df.dau0_Mbc > 5.00)].m2RecoilSignalSide, bins, alpha=0.5, label=\"lep_pt,dau0_deltaE,dau0_Mbc\" ,histtype='step')\n",
    "\n",
    "tmp2 = BCS_df[(BCS_df.lep_pt > 1.0) & (BCS_df.dau0_deltaE > -.2) & (BCS_df.dau0_deltaE < .2) & (BCS_df.dau0_Mbc > 5.00)]\n",
    "ax.hist(tmp2[(tmp2.D_M > 1.8) & (tmp2.D_M < 1.95)].m2RecoilSignalSide, bins, alpha=0.5, label=\"plus D M cut\" ,histtype='step')\n",
    "\n",
    "ax.legend(loc='upper left')"
   ]
  },
  {
   "cell_type": "code",
   "execution_count": 69,
   "metadata": {},
   "outputs": [
    {
     "data": {
      "text/plain": [
       "(100,)"
      ]
     },
     "execution_count": 69,
     "metadata": {},
     "output_type": "execute_result"
    }
   ],
   "source": [
    "tmp2[(tmp2.D_M > 1.8) & (tmp2.D_M < 1.95)].m2RecoilSignalSide.shape"
   ]
  },
  {
   "cell_type": "markdown",
   "metadata": {},
   "source": [
    "## analyse how many errors per evt etc"
   ]
  },
  {
   "cell_type": "code",
   "execution_count": 55,
   "metadata": {},
   "outputs": [
    {
     "data": {
      "text/html": [
       "<div>\n",
       "<style scoped>\n",
       "    .dataframe tbody tr th:only-of-type {\n",
       "        vertical-align: middle;\n",
       "    }\n",
       "\n",
       "    .dataframe tbody tr th {\n",
       "        vertical-align: top;\n",
       "    }\n",
       "\n",
       "    .dataframe thead th {\n",
       "        text-align: right;\n",
       "    }\n",
       "</style>\n",
       "<table border=\"1\" class=\"dataframe\">\n",
       "  <thead>\n",
       "    <tr style=\"text-align: right;\">\n",
       "      <th></th>\n",
       "      <th>__event__</th>\n",
       "      <th>frac. correct FSPs</th>\n",
       "      <th>num corr preds</th>\n",
       "      <th>numFSPs</th>\n",
       "    </tr>\n",
       "  </thead>\n",
       "  <tbody>\n",
       "    <tr>\n",
       "      <th>0</th>\n",
       "      <td>2422</td>\n",
       "      <td>0.625000</td>\n",
       "      <td>10</td>\n",
       "      <td>16</td>\n",
       "    </tr>\n",
       "    <tr>\n",
       "      <th>1</th>\n",
       "      <td>2975</td>\n",
       "      <td>0.888889</td>\n",
       "      <td>8</td>\n",
       "      <td>9</td>\n",
       "    </tr>\n",
       "    <tr>\n",
       "      <th>2</th>\n",
       "      <td>3765</td>\n",
       "      <td>0.625000</td>\n",
       "      <td>10</td>\n",
       "      <td>16</td>\n",
       "    </tr>\n",
       "    <tr>\n",
       "      <th>3</th>\n",
       "      <td>5639</td>\n",
       "      <td>0.777778</td>\n",
       "      <td>14</td>\n",
       "      <td>18</td>\n",
       "    </tr>\n",
       "    <tr>\n",
       "      <th>4</th>\n",
       "      <td>5845</td>\n",
       "      <td>0.642857</td>\n",
       "      <td>9</td>\n",
       "      <td>14</td>\n",
       "    </tr>\n",
       "    <tr>\n",
       "      <th>...</th>\n",
       "      <td>...</td>\n",
       "      <td>...</td>\n",
       "      <td>...</td>\n",
       "      <td>...</td>\n",
       "    </tr>\n",
       "    <tr>\n",
       "      <th>16240</th>\n",
       "      <td>50984167</td>\n",
       "      <td>0.933333</td>\n",
       "      <td>14</td>\n",
       "      <td>15</td>\n",
       "    </tr>\n",
       "    <tr>\n",
       "      <th>16241</th>\n",
       "      <td>50988678</td>\n",
       "      <td>0.700000</td>\n",
       "      <td>14</td>\n",
       "      <td>20</td>\n",
       "    </tr>\n",
       "    <tr>\n",
       "      <th>16242</th>\n",
       "      <td>50988743</td>\n",
       "      <td>0.777778</td>\n",
       "      <td>7</td>\n",
       "      <td>9</td>\n",
       "    </tr>\n",
       "    <tr>\n",
       "      <th>16243</th>\n",
       "      <td>50991574</td>\n",
       "      <td>0.812500</td>\n",
       "      <td>13</td>\n",
       "      <td>16</td>\n",
       "    </tr>\n",
       "    <tr>\n",
       "      <th>16244</th>\n",
       "      <td>50998758</td>\n",
       "      <td>0.666667</td>\n",
       "      <td>8</td>\n",
       "      <td>12</td>\n",
       "    </tr>\n",
       "  </tbody>\n",
       "</table>\n",
       "<p>16245 rows × 4 columns</p>\n",
       "</div>"
      ],
      "text/plain": [
       "       __event__  frac. correct FSPs  num corr preds  numFSPs\n",
       "0           2422            0.625000              10       16\n",
       "1           2975            0.888889               8        9\n",
       "2           3765            0.625000              10       16\n",
       "3           5639            0.777778              14       18\n",
       "4           5845            0.642857               9       14\n",
       "...          ...                 ...             ...      ...\n",
       "16240   50984167            0.933333              14       15\n",
       "16241   50988678            0.700000              14       20\n",
       "16242   50988743            0.777778               7        9\n",
       "16243   50991574            0.812500              13       16\n",
       "16244   50998758            0.666667               8       12\n",
       "\n",
       "[16245 rows x 4 columns]"
      ]
     },
     "execution_count": 55,
     "metadata": {},
     "output_type": "execute_result"
    }
   ],
   "source": [
    "percCorrect_df = pd.DataFrame({'frac. correct FSPs' : nonHc_FSPs.groupby([\"__event__\",\"correct_pred\"] ).size()/nonHc_FSPs.groupby( [\"__event__\"] ).size(),\n",
    "                              'num corr preds' : nonHc_FSPs.groupby([\"__event__\",\"correct_pred\"] ).size()}).reset_index()\n",
    "percCorrect_df = percCorrect_df[percCorrect_df[\"correct_pred\"] == 1]\n",
    "numFSPs = pd.DataFrame({'numFSPs' : nonHc_FSPs.groupby( [\"__event__\"] ).size()}).reset_index()\n",
    "\n",
    "online_NN_results = pd.merge(percCorrect_df[[\"__event__\",\"frac. correct FSPs\",\"num corr preds\"]],\n",
    "                             numFSPs[[\"__event__\",\"numFSPs\"]],on=[\"__event__\"],how='outer')\n",
    "online_NN_results"
   ]
  },
  {
   "cell_type": "code",
   "execution_count": 56,
   "metadata": {},
   "outputs": [],
   "source": [
    "online_NN_results['frac. correct FSPs'] = online_NN_results['frac. correct FSPs'].fillna(0)\n",
    "online_NN_results['num corr preds'] = online_NN_results['num corr preds'].fillna(0)"
   ]
  },
  {
   "cell_type": "code",
   "execution_count": 57,
   "metadata": {},
   "outputs": [],
   "source": [
    "online_NN_results[\"num errors\"] = online_NN_results[\"numFSPs\"] - online_NN_results[\"num corr preds\"]"
   ]
  },
  {
   "cell_type": "code",
   "execution_count": null,
   "metadata": {},
   "outputs": [],
   "source": []
  },
  {
   "cell_type": "markdown",
   "metadata": {},
   "source": [
    "## make comparison plots between online/offline application of NN"
   ]
  },
  {
   "cell_type": "code",
   "execution_count": 58,
   "metadata": {},
   "outputs": [],
   "source": [
    "path_df = \"/nfs/dust/belle2/user/axelheim/MC_studies/Dstlnu_Bt_generic/MM2plotFromPreds/\"\n",
    "offline_NN_results = pd.read_csv(path_df + \"offline_NN_results.csv\")"
   ]
  },
  {
   "cell_type": "code",
   "execution_count": 59,
   "metadata": {},
   "outputs": [
    {
     "data": {
      "text/plain": [
       "Index(['Unnamed: 0', 'event', 'frac. correct FSPs', 'num corr preds',\n",
       "       'numFSPs', 'px_summed_bg', 'py_summed_bg', 'pz_summed_bg',\n",
       "       'E_summed_bg', 'CMSpx_summed_bg', 'CMSpy_summed_bg', 'CMSpz_summed_bg',\n",
       "       'CMSE_summed_bg', 'px_summed_X', 'py_summed_X', 'pz_summed_X',\n",
       "       'E_summed_X', 'CMSpx_summed_X', 'CMSpy_summed_X', 'CMSpz_summed_X',\n",
       "       'CMSE_summed_X', 'px_summed_Bs', 'py_summed_Bs', 'pz_summed_Bs',\n",
       "       'E_summed_Bs', 'CMSpx_summed_Bs', 'CMSpy_summed_Bs', 'CMSpz_summed_Bs',\n",
       "       'CMSE_summed_Bs', 'Hc_px', 'Hc_py', 'Hc_pz', 'Hc_E', 'Hc_cmpx',\n",
       "       'Hc_cmpy', 'Hc_cmpz', 'Hc_cmE', 'Hc_cmPx', 'Hc_cmPy', 'Hc_cmPz',\n",
       "       'num errors', 'Mbc_Btag', 'MM2recoilSignalSide', 'deltaE',\n",
       "       'summed_wrongPred_p'],\n",
       "      dtype='object')"
      ]
     },
     "execution_count": 59,
     "metadata": {},
     "output_type": "execute_result"
    }
   ],
   "source": [
    "offline_NN_results.keys()"
   ]
  },
  {
   "cell_type": "code",
   "execution_count": null,
   "metadata": {},
   "outputs": [],
   "source": []
  },
  {
   "cell_type": "code",
   "execution_count": 60,
   "metadata": {},
   "outputs": [
    {
     "data": {
      "image/png": "[encoded data removed]",
      "text/plain": [
       "<Figure size 576x360 with 1 Axes>"
      ]
     },
     "metadata": {
      "needs_background": "light"
     },
     "output_type": "display_data"
    }
   ],
   "source": [
    "fig, ax = plt.subplots()\n",
    "num_steps=20\n",
    "bins = np.linspace(0, num_steps, 21)\n",
    "\n",
    "fig.suptitle('online vs. offline application of NN separator')\n",
    "fig.set_size_inches(8, 5)\n",
    "\n",
    "ax.set_xlabel(r'number of wrong predictions per event')\n",
    "ax.set_ylabel(\"fraction of events\")\n",
    "\n",
    "plt.xticks(np.arange(0, num_steps, step=1))\n",
    "\n",
    "ax.hist(offline_NN_results[\"num errors\"], bins, density=True, alpha=0.5, label=\"offline NN application\" ,histtype='step')\n",
    "ax.hist(online_NN_results[\"num errors\"], bins, density=True, alpha=0.5, label=\"online NN application\" ,histtype='step')\n",
    "\n",
    "ax.legend(loc='upper right')\n",
    "\n",
    "#plt.grid()\n",
    "\n",
    "plt.savefig('plots/ONLINE_APP_FIXED_onlineVSofflineNN_numErrorsPerEvent.pdf')"
   ]
  },
  {
   "cell_type": "code",
   "execution_count": 61,
   "metadata": {},
   "outputs": [
    {
     "data": {
      "image/png": "[encoded data removed]",
      "text/plain": [
       "<Figure size 576x360 with 1 Axes>"
      ]
     },
     "metadata": {
      "needs_background": "light"
     },
     "output_type": "display_data"
    }
   ],
   "source": [
    "fig, ax = plt.subplots()\n",
    "\n",
    "bins = np.linspace(0, 1, 20)\n",
    "\n",
    "fig.suptitle('online vs. offline application of NN separator')\n",
    "fig.set_size_inches(8, 5)\n",
    "\n",
    "ax.set_xlabel(r'fraction of correct predictions per event')\n",
    "ax.set_ylabel(\"fraction of events\")\n",
    "\n",
    "ax.hist(offline_NN_results[\"frac. correct FSPs\"], bins, density=True, alpha=0.5, label=\"offline NN application\" ,histtype='step')\n",
    "ax.hist(online_NN_results[\"frac. correct FSPs\"], bins, density=True, alpha=0.5, label=\"online NN application\" ,histtype='step')\n",
    "\n",
    "ax.legend(loc='upper left')\n",
    "\n",
    "plt.grid()\n",
    "\n",
    "plt.savefig('plots/ONLINE_APP_FIXED_onlineVSofflineNN_fracErrorsPerEvent.pdf')"
   ]
  },
  {
   "cell_type": "code",
   "execution_count": 62,
   "metadata": {},
   "outputs": [
    {
     "data": {
      "image/png": "[encoded data removed]",
      "text/plain": [
       "<Figure size 576x360 with 1 Axes>"
      ]
     },
     "metadata": {
      "needs_background": "light"
     },
     "output_type": "display_data"
    }
   ],
   "source": [
    "fig, ax = plt.subplots()\n",
    "\n",
    "bins = np.linspace(0, 35, 36)\n",
    "\n",
    "fig.suptitle('online vs. offline application of NN separator')\n",
    "fig.set_size_inches(8, 5)\n",
    "\n",
    "ax.set_xlabel(r'number of FSPs per event')\n",
    "ax.set_ylabel(\"fraction of events\")\n",
    "\n",
    "ax.hist(offline_NN_results[\"numFSPs\"], bins, density=True, alpha=0.5, label=\"offline NN application\" ,histtype='step')\n",
    "ax.hist(online_NN_results[\"numFSPs\"], bins, density=True, alpha=0.5, label=\"online NN application\" ,histtype='step')\n",
    "\n",
    "ax.legend(loc='upper left')\n",
    "\n",
    "plt.grid()\n",
    "\n",
    "plt.savefig('plots/ONLINE_APP_FIXED_onlineVSofflineNN_numFSPs.pdf')"
   ]
  },
  {
   "cell_type": "code",
   "execution_count": null,
   "metadata": {},
   "outputs": [],
   "source": []
  },
  {
   "cell_type": "code",
   "execution_count": null,
   "metadata": {},
   "outputs": [],
   "source": []
  },
  {
   "cell_type": "code",
   "execution_count": 146,
   "metadata": {},
   "outputs": [
    {
     "data": {
      "text/plain": [
       "('anti-D*0:genericsigProb',\n",
       " 'anti-D*0:generic',\n",
       " 'extraInfo(SignalProbability)>0.01 and 0.139<massDifference(0)<0.16')"
      ]
     },
     "execution_count": 146,
     "metadata": {},
     "output_type": "execute_result"
    }
   ],
   "source": [
    "sigprob_cut = 0.01\n",
    "'anti-D*0:genericsigProb',\"anti-D*0:generic\",'extraInfo(SignalProbability)>{} and 0.139<massDifference(0)<0.16'.format(sigprob_cut)"
   ]
  },
  {
   "cell_type": "code",
   "execution_count": null,
   "metadata": {},
   "outputs": [],
   "source": []
  }
 ],
 "metadata": {
  "kernelspec": {
   "display_name": "Python 3",
   "language": "python",
   "name": "python3"
  },
  "language_info": {
   "codemirror_mode": {
    "name": "ipython",
    "version": 3
   },
   "file_extension": ".py",
   "mimetype": "text/x-python",
   "name": "python",
   "nbconvert_exporter": "python",
   "pygments_lexer": "ipython3",
   "version": "3.8.6"
  }
 },
 "nbformat": 4,
 "nbformat_minor": 4
}
