{
 "cells": [
  {
   "cell_type": "code",
   "execution_count": 180,
   "id": "7cdf0932",
   "metadata": {},
   "outputs": [],
   "source": [
    "import matplotlib.pyplot as plt\n",
    "import uproot\n",
    "import numpy as np\n",
    "import pandas as pd\n",
    "import matplotlib as mpl\n",
    "import math\n",
    "\n",
    "import sys\n",
    "sys.path.insert(1, '/afs/desy.de/user/a/axelheim/private/MC_studies/Dstlnu_Bt_generic/util_funcs/')\n",
    "from pandas_colFuncs import B_ID, whichBisSig, D0_decay_type, whichBisSig_NAHS"
   ]
  },
  {
   "cell_type": "code",
   "execution_count": 2,
   "id": "d0ca809a",
   "metadata": {},
   "outputs": [],
   "source": [
    "nfs_path = \"/nfs/dust/belle2/user/axelheim/MC_studies/Dstlnu_Bt_generic/appliedNNdata/16thRun/\""
   ]
  },
  {
   "cell_type": "code",
   "execution_count": 3,
   "id": "099ab5da",
   "metadata": {},
   "outputs": [],
   "source": [
    "Ups4S_file = uproot.open(nfs_path + \"Ups4S_NN_predicted.root:variables;1\")\n",
    "df_Ups4S = Ups4S_file.arrays(library=\"pd\")"
   ]
  },
  {
   "cell_type": "code",
   "execution_count": 57,
   "id": "6ba0618c",
   "metadata": {},
   "outputs": [],
   "source": [
    "FSPs_file = uproot.open(nfs_path + \"FSPs.root:variables;1\")\n",
    "df_FSPs = FSPs_file.arrays(library=\"pd\")"
   ]
  },
  {
   "cell_type": "code",
   "execution_count": 15,
   "id": "b4549be7",
   "metadata": {},
   "outputs": [
    {
     "ename": "KeyboardInterrupt",
     "evalue": "",
     "output_type": "error",
     "traceback": [
      "\u001b[0;31m---------------------------------------------------------------------------\u001b[0m",
      "\u001b[0;31mKeyboardInterrupt\u001b[0m                         Traceback (most recent call last)",
      "\u001b[0;32m<ipython-input-15-78010427d47f>\u001b[0m in \u001b[0;36m<module>\u001b[0;34m\u001b[0m\n\u001b[1;32m      1\u001b[0m \u001b[0mevt_counter_file\u001b[0m \u001b[0;34m=\u001b[0m \u001b[0muproot\u001b[0m\u001b[0;34m.\u001b[0m\u001b[0mopen\u001b[0m\u001b[0;34m(\u001b[0m\u001b[0mnfs_path\u001b[0m \u001b[0;34m+\u001b[0m \u001b[0;34m\"evt_counter.root:variables;1\"\u001b[0m\u001b[0;34m)\u001b[0m\u001b[0;34m\u001b[0m\u001b[0;34m\u001b[0m\u001b[0m\n\u001b[0;32m----> 2\u001b[0;31m \u001b[0mdf_evt_counter\u001b[0m \u001b[0;34m=\u001b[0m \u001b[0mevt_counter_file\u001b[0m\u001b[0;34m.\u001b[0m\u001b[0marrays\u001b[0m\u001b[0;34m(\u001b[0m\u001b[0mlibrary\u001b[0m\u001b[0;34m=\u001b[0m\u001b[0;34m\"pd\"\u001b[0m\u001b[0;34m)\u001b[0m\u001b[0;34m\u001b[0m\u001b[0;34m\u001b[0m\u001b[0m\n\u001b[0m",
      "\u001b[0;32m/usr/local/lib/python3.6/site-packages/uproot/behaviors/TBranch.py\u001b[0m in \u001b[0;36marrays\u001b[0;34m(self, expressions, cut, filter_name, filter_typename, filter_branch, aliases, language, entry_start, entry_stop, decompression_executor, interpretation_executor, array_cache, library, how)\u001b[0m\n\u001b[1;32m   1144\u001b[0m             \u001b[0mlibrary\u001b[0m\u001b[0;34m,\u001b[0m\u001b[0;34m\u001b[0m\u001b[0;34m\u001b[0m\u001b[0m\n\u001b[1;32m   1145\u001b[0m             \u001b[0marrays\u001b[0m\u001b[0;34m,\u001b[0m\u001b[0;34m\u001b[0m\u001b[0;34m\u001b[0m\u001b[0m\n\u001b[0;32m-> 1146\u001b[0;31m             \u001b[0;32mFalse\u001b[0m\u001b[0;34m,\u001b[0m\u001b[0;34m\u001b[0m\u001b[0;34m\u001b[0m\u001b[0m\n\u001b[0m\u001b[1;32m   1147\u001b[0m         )\n\u001b[1;32m   1148\u001b[0m \u001b[0;34m\u001b[0m\u001b[0m\n",
      "\u001b[0;32m/usr/local/lib/python3.6/site-packages/uproot/behaviors/TBranch.py\u001b[0m in \u001b[0;36m_ranges_or_baskets_to_arrays\u001b[0;34m(hasbranches, ranges_or_baskets, branchid_interpretation, entry_start, entry_stop, decompression_executor, interpretation_executor, library, arrays, update_ranges_or_baskets)\u001b[0m\n\u001b[1;32m   3499\u001b[0m         \u001b[0;32mif\u001b[0m \u001b[0misinstance\u001b[0m\u001b[0;34m(\u001b[0m\u001b[0mobj\u001b[0m\u001b[0;34m,\u001b[0m \u001b[0muproot\u001b[0m\u001b[0;34m.\u001b[0m\u001b[0msource\u001b[0m\u001b[0;34m.\u001b[0m\u001b[0mchunk\u001b[0m\u001b[0;34m.\u001b[0m\u001b[0mChunk\u001b[0m\u001b[0;34m)\u001b[0m\u001b[0;34m:\u001b[0m\u001b[0;34m\u001b[0m\u001b[0;34m\u001b[0m\u001b[0m\n\u001b[1;32m   3500\u001b[0m             \u001b[0margs\u001b[0m \u001b[0;34m=\u001b[0m \u001b[0mrange_args\u001b[0m\u001b[0;34m[\u001b[0m\u001b[0;34m(\u001b[0m\u001b[0mobj\u001b[0m\u001b[0;34m.\u001b[0m\u001b[0mstart\u001b[0m\u001b[0;34m,\u001b[0m \u001b[0mobj\u001b[0m\u001b[0;34m.\u001b[0m\u001b[0mstop\u001b[0m\u001b[0;34m)\u001b[0m\u001b[0;34m]\u001b[0m\u001b[0;34m\u001b[0m\u001b[0;34m\u001b[0m\u001b[0m\n\u001b[0;32m-> 3501\u001b[0;31m             \u001b[0mdecompression_executor\u001b[0m\u001b[0;34m.\u001b[0m\u001b[0msubmit\u001b[0m\u001b[0;34m(\u001b[0m\u001b[0mchunk_to_basket\u001b[0m\u001b[0;34m,\u001b[0m \u001b[0mobj\u001b[0m\u001b[0;34m,\u001b[0m \u001b[0;34m*\u001b[0m\u001b[0margs\u001b[0m\u001b[0;34m)\u001b[0m\u001b[0;34m\u001b[0m\u001b[0;34m\u001b[0m\u001b[0m\n\u001b[0m\u001b[1;32m   3502\u001b[0m \u001b[0;34m\u001b[0m\u001b[0m\n\u001b[1;32m   3503\u001b[0m         \u001b[0;32melif\u001b[0m \u001b[0misinstance\u001b[0m\u001b[0;34m(\u001b[0m\u001b[0mobj\u001b[0m\u001b[0;34m,\u001b[0m \u001b[0muproot\u001b[0m\u001b[0;34m.\u001b[0m\u001b[0mmodels\u001b[0m\u001b[0;34m.\u001b[0m\u001b[0mTBasket\u001b[0m\u001b[0;34m.\u001b[0m\u001b[0mModel_TBasket\u001b[0m\u001b[0;34m)\u001b[0m\u001b[0;34m:\u001b[0m\u001b[0;34m\u001b[0m\u001b[0;34m\u001b[0m\u001b[0m\n",
      "\u001b[0;32m/usr/local/lib/python3.6/site-packages/uproot/source/futures.py\u001b[0m in \u001b[0;36msubmit\u001b[0;34m(self, task, *args)\u001b[0m\n\u001b[1;32m     81\u001b[0m         \u001b[0mImmediately\u001b[0m \u001b[0mruns\u001b[0m\u001b[0;31m \u001b[0m\u001b[0;31m`\u001b[0m\u001b[0;31m`\u001b[0m\u001b[0mtask\u001b[0m\u001b[0;34m(\u001b[0m\u001b[0;34m*\u001b[0m\u001b[0margs\u001b[0m\u001b[0;34m)\u001b[0m\u001b[0;31m`\u001b[0m\u001b[0;31m`\u001b[0m\u001b[0;34m.\u001b[0m\u001b[0;34m\u001b[0m\u001b[0;34m\u001b[0m\u001b[0m\n\u001b[1;32m     82\u001b[0m         \"\"\"\n\u001b[0;32m---> 83\u001b[0;31m         \u001b[0;32mreturn\u001b[0m \u001b[0mTrivialFuture\u001b[0m\u001b[0;34m(\u001b[0m\u001b[0mtask\u001b[0m\u001b[0;34m(\u001b[0m\u001b[0;34m*\u001b[0m\u001b[0margs\u001b[0m\u001b[0;34m)\u001b[0m\u001b[0;34m)\u001b[0m\u001b[0;34m\u001b[0m\u001b[0;34m\u001b[0m\u001b[0m\n\u001b[0m\u001b[1;32m     84\u001b[0m \u001b[0;34m\u001b[0m\u001b[0m\n\u001b[1;32m     85\u001b[0m     \u001b[0;32mdef\u001b[0m \u001b[0mshutdown\u001b[0m\u001b[0;34m(\u001b[0m\u001b[0mself\u001b[0m\u001b[0;34m,\u001b[0m \u001b[0mwait\u001b[0m\u001b[0;34m=\u001b[0m\u001b[0;32mTrue\u001b[0m\u001b[0;34m)\u001b[0m\u001b[0;34m:\u001b[0m\u001b[0;34m\u001b[0m\u001b[0;34m\u001b[0m\u001b[0m\n",
      "\u001b[0;32m/usr/local/lib/python3.6/site-packages/uproot/behaviors/TBranch.py\u001b[0m in \u001b[0;36mchunk_to_basket\u001b[0;34m(chunk, branch, basket_num)\u001b[0m\n\u001b[1;32m   3435\u001b[0m                 \u001b[0mhasbranches\u001b[0m\u001b[0;34m.\u001b[0m\u001b[0m_file\u001b[0m\u001b[0;34m,\u001b[0m\u001b[0;34m\u001b[0m\u001b[0;34m\u001b[0m\u001b[0m\n\u001b[1;32m   3436\u001b[0m                 \u001b[0mhasbranches\u001b[0m\u001b[0;34m.\u001b[0m\u001b[0m_file\u001b[0m\u001b[0;34m,\u001b[0m\u001b[0;34m\u001b[0m\u001b[0;34m\u001b[0m\u001b[0m\n\u001b[0;32m-> 3437\u001b[0;31m                 \u001b[0mbranch\u001b[0m\u001b[0;34m,\u001b[0m\u001b[0;34m\u001b[0m\u001b[0;34m\u001b[0m\u001b[0m\n\u001b[0m\u001b[1;32m   3438\u001b[0m             )\n\u001b[1;32m   3439\u001b[0m             \u001b[0moriginal_index\u001b[0m \u001b[0;34m=\u001b[0m \u001b[0mrange_original_index\u001b[0m\u001b[0;34m[\u001b[0m\u001b[0;34m(\u001b[0m\u001b[0mchunk\u001b[0m\u001b[0;34m.\u001b[0m\u001b[0mstart\u001b[0m\u001b[0;34m,\u001b[0m \u001b[0mchunk\u001b[0m\u001b[0;34m.\u001b[0m\u001b[0mstop\u001b[0m\u001b[0;34m)\u001b[0m\u001b[0;34m]\u001b[0m\u001b[0;34m\u001b[0m\u001b[0;34m\u001b[0m\u001b[0m\n",
      "\u001b[0;32m/usr/local/lib/python3.6/site-packages/uproot/model.py\u001b[0m in \u001b[0;36mread\u001b[0;34m(cls, chunk, cursor, context, file, selffile, parent, concrete)\u001b[0m\n\u001b[1;32m    820\u001b[0m             )\n\u001b[1;32m    821\u001b[0m \u001b[0;34m\u001b[0m\u001b[0m\n\u001b[0;32m--> 822\u001b[0;31m             \u001b[0mself\u001b[0m\u001b[0;34m.\u001b[0m\u001b[0mread_members\u001b[0m\u001b[0;34m(\u001b[0m\u001b[0mchunk\u001b[0m\u001b[0;34m,\u001b[0m \u001b[0mcursor\u001b[0m\u001b[0;34m,\u001b[0m \u001b[0mcontext\u001b[0m\u001b[0;34m,\u001b[0m \u001b[0mfile\u001b[0m\u001b[0;34m)\u001b[0m\u001b[0;34m\u001b[0m\u001b[0;34m\u001b[0m\u001b[0m\n\u001b[0m\u001b[1;32m    823\u001b[0m \u001b[0;34m\u001b[0m\u001b[0m\n\u001b[1;32m    824\u001b[0m             self.hook_after_read_members(\n",
      "\u001b[0;32m/usr/local/lib/python3.6/site-packages/uproot/models/TBasket.py\u001b[0m in \u001b[0;36mread_members\u001b[0;34m(self, chunk, cursor, context, file)\u001b[0m\n\u001b[1;32m    292\u001b[0m                     \u001b[0muncompressed_bytes\u001b[0m\u001b[0;34m,\u001b[0m\u001b[0;34m\u001b[0m\u001b[0;34m\u001b[0m\u001b[0m\n\u001b[1;32m    293\u001b[0m                     \u001b[0muproot\u001b[0m\u001b[0;34m.\u001b[0m\u001b[0msource\u001b[0m\u001b[0;34m.\u001b[0m\u001b[0mcursor\u001b[0m\u001b[0;34m.\u001b[0m\u001b[0mCursor\u001b[0m\u001b[0;34m(\u001b[0m\u001b[0;36m0\u001b[0m\u001b[0;34m)\u001b[0m\u001b[0;34m,\u001b[0m\u001b[0;34m\u001b[0m\u001b[0;34m\u001b[0m\u001b[0m\n\u001b[0;32m--> 294\u001b[0;31m                     \u001b[0mcontext\u001b[0m\u001b[0;34m,\u001b[0m\u001b[0;34m\u001b[0m\u001b[0;34m\u001b[0m\u001b[0m\n\u001b[0m\u001b[1;32m    295\u001b[0m                 )\n\u001b[1;32m    296\u001b[0m             \u001b[0;32melse\u001b[0m\u001b[0;34m:\u001b[0m\u001b[0;34m\u001b[0m\u001b[0;34m\u001b[0m\u001b[0m\n",
      "\u001b[0;32m/usr/local/lib/python3.6/site-packages/uproot/source/chunk.py\u001b[0m in \u001b[0;36mget\u001b[0;34m(self, start, stop, cursor, context)\u001b[0m\n\u001b[1;32m    389\u001b[0m             \u001b[0mlocal_start\u001b[0m \u001b[0;34m=\u001b[0m \u001b[0mstart\u001b[0m \u001b[0;34m-\u001b[0m \u001b[0mself\u001b[0m\u001b[0;34m.\u001b[0m\u001b[0m_start\u001b[0m\u001b[0;34m\u001b[0m\u001b[0;34m\u001b[0m\u001b[0m\n\u001b[1;32m    390\u001b[0m             \u001b[0mlocal_stop\u001b[0m \u001b[0;34m=\u001b[0m \u001b[0mstop\u001b[0m \u001b[0;34m-\u001b[0m \u001b[0mself\u001b[0m\u001b[0;34m.\u001b[0m\u001b[0m_start\u001b[0m\u001b[0;34m\u001b[0m\u001b[0;34m\u001b[0m\u001b[0m\n\u001b[0;32m--> 391\u001b[0;31m             \u001b[0;32mreturn\u001b[0m \u001b[0mself\u001b[0m\u001b[0;34m.\u001b[0m\u001b[0m_raw_data\u001b[0m\u001b[0;34m[\u001b[0m\u001b[0mlocal_start\u001b[0m\u001b[0;34m:\u001b[0m\u001b[0mlocal_stop\u001b[0m\u001b[0;34m]\u001b[0m\u001b[0;34m\u001b[0m\u001b[0;34m\u001b[0m\u001b[0m\n\u001b[0m\u001b[1;32m    392\u001b[0m \u001b[0;34m\u001b[0m\u001b[0m\n\u001b[1;32m    393\u001b[0m         \u001b[0;32melse\u001b[0m\u001b[0;34m:\u001b[0m\u001b[0;34m\u001b[0m\u001b[0;34m\u001b[0m\u001b[0m\n",
      "\u001b[0;31mKeyboardInterrupt\u001b[0m: "
     ]
    }
   ],
   "source": [
    "#evt_counter_file = uproot.open(nfs_path + \"evt_counter.root:variables;1\")\n",
    "#df_evt_counter = evt_counter_file.arrays(library=\"pd\")"
   ]
  },
  {
   "cell_type": "code",
   "execution_count": 5,
   "id": "2b495069",
   "metadata": {},
   "outputs": [
    {
     "name": "stdout",
     "output_type": "stream",
     "text": [
      "3499182\n",
      "189018\n",
      "189017\n"
     ]
    }
   ],
   "source": [
    "print(df_Ups4S.shape[0])\n",
    "print(df_Ups4S.groupby([\"__event__\",\"__production__\"]).ngroups)\n",
    "print(df_Ups4S[\"__event__\"].nunique())"
   ]
  },
  {
   "cell_type": "markdown",
   "id": "7f9ec2cf",
   "metadata": {},
   "source": [
    "## choose BCS and add labels"
   ]
  },
  {
   "cell_type": "code",
   "execution_count": 7,
   "id": "408c696e",
   "metadata": {},
   "outputs": [
    {
     "name": "stdout",
     "output_type": "stream",
     "text": [
      "189017\n"
     ]
    }
   ],
   "source": [
    "df_Ups4S[\"abs_m2RecoilSignalSide\"] = df_Ups4S[\"m2RecoilSignalSide\"].abs() \n",
    "BCS_df = df_Ups4S.sort_values(\"abs_m2RecoilSignalSide\",ascending=True).drop_duplicates(subset=(\"__event__\"), keep='first')\n",
    "print(BCS_df.shape[0])"
   ]
  },
  {
   "cell_type": "code",
   "execution_count": 8,
   "id": "275a088a",
   "metadata": {},
   "outputs": [
    {
     "name": "stdout",
     "output_type": "stream",
     "text": [
      "0\n",
      "0\n",
      "0\n",
      "0\n",
      "29449\n",
      "0\n",
      "0\n",
      "0\n",
      "0\n",
      "0\n",
      "29190\n",
      "0\n"
     ]
    }
   ],
   "source": [
    "imputelist = [[\"abs_genUp4S_PDG_0_0\",0],[\"abs_genUp4S_PDG_0_1\",0],[\"abs_genUp4S_PDG_0_2\",0],\n",
    "              [\"abs_genUp4S_PDG_1_0\",0],[\"abs_genUp4S_PDG_1_1\",0],[\"abs_genUp4S_PDG_1_2\",0]\n",
    "              ]\n",
    "for impute in imputelist:\n",
    "    column_name = impute[0]\n",
    "    impute_val = impute[1]\n",
    "\n",
    "    print(BCS_df[BCS_df[column_name].isna() == True].shape[0])\n",
    "    mask = BCS_df[column_name].isna() == 1\n",
    "    BCS_df.loc[mask, column_name] = impute_val\n",
    "    print(BCS_df[BCS_df[column_name].isna() == True].shape[0])"
   ]
  },
  {
   "cell_type": "code",
   "execution_count": 9,
   "id": "fe39977a",
   "metadata": {},
   "outputs": [],
   "source": [
    "def isDstlnu(s):\n",
    "    isDstlnu = 0\n",
    "\n",
    "    abs_genUp4S_PDG_0_0 = int(s[\"abs_genUp4S_PDG_0_0\"])\n",
    "    abs_genUp4S_PDG_0_1 = int(s[\"abs_genUp4S_PDG_0_1\"])\n",
    "    abs_genUp4S_PDG_0_2 = int(s[\"abs_genUp4S_PDG_0_2\"])\n",
    "                              \n",
    "    abs_genUp4S_PDG_1_0 = int(s[\"abs_genUp4S_PDG_1_0\"])\n",
    "    abs_genUp4S_PDG_1_1 = int(s[\"abs_genUp4S_PDG_1_1\"])\n",
    "    abs_genUp4S_PDG_1_2 = int(s[\"abs_genUp4S_PDG_1_2\"])\n",
    "    \n",
    "    if abs_genUp4S_PDG_0_0 == 413:\n",
    "        if abs_genUp4S_PDG_0_1 == 11 or abs_genUp4S_PDG_0_1 == 13:\n",
    "            if abs_genUp4S_PDG_0_2 == 12 or abs_genUp4S_PDG_0_2 == 14:              \n",
    "                isDstlnu = 1\n",
    "                                  \n",
    "    if abs_genUp4S_PDG_1_0 == 413:\n",
    "        if abs_genUp4S_PDG_1_1 == 11 or abs_genUp4S_PDG_1_1 == 13:\n",
    "            if abs_genUp4S_PDG_1_2 == 12 or abs_genUp4S_PDG_1_2 == 14:              \n",
    "                isDstlnu = 1        \n",
    "        \n",
    "    return isDstlnu\n",
    "\n",
    "BCS_df['isDstlnu'] = BCS_df.apply(isDstlnu, axis=1)"
   ]
  },
  {
   "cell_type": "code",
   "execution_count": 10,
   "id": "8ea19b4b",
   "metadata": {},
   "outputs": [],
   "source": [
    "def lep_typeMC(s):\n",
    "    label = \"none\"\n",
    "    if np.isnan(s[\"lep_mcPDG\"]) == True:\n",
    "        return label\n",
    "    \n",
    "    abs_lep_mcPDG = int(abs(s[\"lep_mcPDG\"]))\n",
    "    if abs_lep_mcPDG == 13:\n",
    "        label = \"mu\"\n",
    "    elif abs_lep_mcPDG == 11:\n",
    "        label = \"e\" \n",
    "    return label\n",
    "\n",
    "BCS_df['lep_typeMC'] = BCS_df.apply(lep_typeMC, axis=1)\n",
    "\n",
    "def lep_type(s):\n",
    "    label = \"none\"\n",
    "    if np.isnan(s[\"lep_PDG\"]) == True:\n",
    "        return label\n",
    "    \n",
    "    abs_lep_PDG = int(abs(s[\"lep_PDG\"]))\n",
    "    if abs_lep_PDG == 13:\n",
    "        label = \"mu\"\n",
    "    elif abs_lep_PDG == 11:\n",
    "        label = \"e\" \n",
    "    return label\n",
    "BCS_df['lep_type'] = BCS_df.apply(lep_type, axis=1)"
   ]
  },
  {
   "cell_type": "code",
   "execution_count": 11,
   "id": "d974ae00",
   "metadata": {},
   "outputs": [],
   "source": [
    "def lep_MC_truth(s):\n",
    "    label = 0\n",
    "    if np.isnan(s[\"lep_motherPDG\"]) == True:\n",
    "        return label\n",
    "    if s[\"lep_typeMC\"] == \"none\":\n",
    "        return label\n",
    "    \n",
    "    abs_lep_motherPDG = int(abs(s[\"lep_motherPDG\"]))\n",
    "    if abs_lep_motherPDG == 511:\n",
    "        label = 1\n",
    "   \n",
    "    return label\n",
    "\n",
    "BCS_df['lep_MC_truth'] = BCS_df.apply(lep_MC_truth, axis=1)"
   ]
  },
  {
   "cell_type": "code",
   "execution_count": 17,
   "id": "e42f1e52",
   "metadata": {},
   "outputs": [
    {
     "data": {
      "text/plain": [
       "0.19702989678177096"
      ]
     },
     "execution_count": 17,
     "metadata": {},
     "output_type": "execute_result"
    }
   ],
   "source": [
    "BCS_df['isDstlnu'].mean()"
   ]
  },
  {
   "cell_type": "code",
   "execution_count": 18,
   "id": "b3259dbd",
   "metadata": {},
   "outputs": [
    {
     "data": {
      "text/plain": [
       "0.23783045969410158"
      ]
     },
     "execution_count": 18,
     "metadata": {},
     "output_type": "execute_result"
    }
   ],
   "source": [
    "BCS_df['lep_MC_truth'].mean()"
   ]
  },
  {
   "cell_type": "code",
   "execution_count": 19,
   "id": "1ef99669",
   "metadata": {},
   "outputs": [],
   "source": [
    "BCS_df['custom_signal'] = (BCS_df['lep_MC_truth'] & BCS_df['isDstlnu'])"
   ]
  },
  {
   "cell_type": "code",
   "execution_count": 6,
   "id": "f053cbf8",
   "metadata": {},
   "outputs": [
    {
     "data": {
      "text/plain": [
       "0.1423734373098716"
      ]
     },
     "execution_count": 6,
     "metadata": {},
     "output_type": "execute_result"
    }
   ],
   "source": [
    "BCS_df['custom_signal'].mean()"
   ]
  },
  {
   "cell_type": "code",
   "execution_count": 61,
   "id": "3ef7d705",
   "metadata": {},
   "outputs": [
    {
     "data": {
      "text/plain": [
       "<AxesSubplot:>"
      ]
     },
     "execution_count": 61,
     "metadata": {},
     "output_type": "execute_result"
    },
    {
     "data": {
      "image/png": "[encoded data removed]",
      "text/plain": [
       "<Figure size 1512x504 with 1 Axes>"
      ]
     },
     "metadata": {
      "needs_background": "light"
     },
     "output_type": "display_data"
    }
   ],
   "source": [
    "bins = np.linspace(-10, 10, 50)\n",
    "BCS_df[\"dau1_cosThetaBetweenParticleAndNominalB\"].hist(bins=bins)"
   ]
  },
  {
   "cell_type": "markdown",
   "id": "4d8c1500",
   "metadata": {},
   "source": [
    "## add info about leps in Btag to data frame"
   ]
  },
  {
   "cell_type": "code",
   "execution_count": 107,
   "id": "680eb29b",
   "metadata": {},
   "outputs": [],
   "source": [
    "df_FSPs[\"lep\"] = ((df_FSPs[\"PDG\"] == 11.) | (df_FSPs[\"PDG\"] == 13.))"
   ]
  },
  {
   "cell_type": "code",
   "execution_count": 108,
   "id": "1a3bceef",
   "metadata": {},
   "outputs": [],
   "source": [
    "df_FSPs[\"Btag\"] = ((df_FSPs[\"basf2_used\"] == 1.) & (df_FSPs[\"basf2_Bsig\"] == 0.))"
   ]
  },
  {
   "cell_type": "code",
   "execution_count": 109,
   "id": "d48b763e",
   "metadata": {},
   "outputs": [],
   "source": [
    "df_FSPs[\"Btag_lep\"] = ((df_FSPs[\"Btag\"] == 1.) & (df_FSPs[\"lep\"] == 1.))"
   ]
  },
  {
   "cell_type": "code",
   "execution_count": 110,
   "id": "88003eb9",
   "metadata": {},
   "outputs": [
    {
     "data": {
      "text/plain": [
       "0.021691284098784135"
      ]
     },
     "execution_count": 110,
     "metadata": {},
     "output_type": "execute_result"
    }
   ],
   "source": [
    "df_FSPs[\"Btag_lep\"].mean()"
   ]
  },
  {
   "cell_type": "code",
   "execution_count": 111,
   "id": "e76132d5",
   "metadata": {},
   "outputs": [
    {
     "data": {
      "text/plain": [
       "91804"
      ]
     },
     "execution_count": 111,
     "metadata": {},
     "output_type": "execute_result"
    }
   ],
   "source": [
    "N_Btag_lep = pd.DataFrame({'N_lep_Btag' : df_FSPs.groupby( [\"__event__\",\"Btag_lep\"] ).size()}).reset_index()\n",
    "\n",
    "N_Btag_lep[N_Btag_lep[\"Btag_lep\"] == True][\"N_lep_Btag\"].sum()"
   ]
  },
  {
   "cell_type": "code",
   "execution_count": 112,
   "id": "8138c23b",
   "metadata": {},
   "outputs": [
    {
     "data": {
      "text/plain": [
       "91804"
      ]
     },
     "execution_count": 112,
     "metadata": {},
     "output_type": "execute_result"
    }
   ],
   "source": [
    "column_name = \"N_lep_Btag\"\n",
    "impute_val = 0\n",
    "\n",
    "mask = N_Btag_lep[\"Btag_lep\"] == False\n",
    "N_Btag_lep.loc[mask, column_name] = impute_val\n",
    "\n",
    "N_Btag_lep[\"N_lep_Btag\"].sum()"
   ]
  },
  {
   "cell_type": "code",
   "execution_count": 113,
   "id": "ab7d87c4",
   "metadata": {},
   "outputs": [
    {
     "data": {
      "text/plain": [
       "91804"
      ]
     },
     "execution_count": 113,
     "metadata": {},
     "output_type": "execute_result"
    }
   ],
   "source": [
    "N_Btag_lep = N_Btag_lep.sort_values(\"N_lep_Btag\",ascending=False).drop_duplicates(subset=(\"__event__\"), keep='first')\n",
    "N_Btag_lep[\"N_lep_Btag\"].sum()"
   ]
  },
  {
   "cell_type": "code",
   "execution_count": 114,
   "id": "316869f6",
   "metadata": {},
   "outputs": [],
   "source": [
    "BCS_df = BCS_df.merge(N_Btag_lep[[\"__event__\",\"N_lep_Btag\"]], how='inner', on=\"__event__\")"
   ]
  },
  {
   "cell_type": "code",
   "execution_count": 115,
   "id": "fae7a9ce",
   "metadata": {},
   "outputs": [
    {
     "data": {
      "text/plain": [
       "91804"
      ]
     },
     "execution_count": 115,
     "metadata": {},
     "output_type": "execute_result"
    }
   ],
   "source": [
    "BCS_df[\"N_lep_Btag\"].sum()"
   ]
  },
  {
   "cell_type": "markdown",
   "id": "3b53a770",
   "metadata": {},
   "source": [
    "## save df with labels"
   ]
  },
  {
   "cell_type": "code",
   "execution_count": 116,
   "id": "a617de6f",
   "metadata": {},
   "outputs": [],
   "source": [
    "BCS_df.to_csv(nfs_path + \"BCS_df_wLabels.csv\")"
   ]
  },
  {
   "cell_type": "markdown",
   "id": "7a415cd3",
   "metadata": {},
   "source": [
    "## load df with labels"
   ]
  },
  {
   "cell_type": "code",
   "execution_count": 106,
   "id": "42828fa1",
   "metadata": {},
   "outputs": [],
   "source": [
    "BCS_df = pd.read_csv(nfs_path + \"BCS_df_wLabels.csv\")"
   ]
  },
  {
   "cell_type": "code",
   "execution_count": null,
   "id": "a0ba1736",
   "metadata": {},
   "outputs": [],
   "source": []
  },
  {
   "cell_type": "code",
   "execution_count": 207,
   "id": "8fdb35a2",
   "metadata": {},
   "outputs": [
    {
     "data": {
      "text/plain": [
       "<AxesSubplot:>"
      ]
     },
     "execution_count": 207,
     "metadata": {},
     "output_type": "execute_result"
    },
    {
     "data": {
      "image/png": "[encoded data removed]",
      "text/plain": [
       "<Figure size 1512x504 with 1 Axes>"
      ]
     },
     "metadata": {
      "needs_background": "light"
     },
     "output_type": "display_data"
    }
   ],
   "source": [
    "bins=np.linspace(0, 0.01, 40)\n",
    "BCS_df[\"dau0_dau0_sigProb\"].hist(bins=bins)"
   ]
  },
  {
   "cell_type": "markdown",
   "id": "dc2a67df",
   "metadata": {},
   "source": [
    "## calculate eff. and purity for all cuts separately"
   ]
  },
  {
   "cell_type": "code",
   "execution_count": 4,
   "id": "574cea62",
   "metadata": {},
   "outputs": [
    {
     "data": {
      "text/plain": [
       "1528065.0"
      ]
     },
     "execution_count": 4,
     "metadata": {},
     "output_type": "execute_result"
    }
   ],
   "source": [
    "#N_evts_processed = df_evt_counter.shape[0]\n",
    "N_evts_processed = 189000 * 539 # 189000 evts for each of the 539 files processed\n",
    "N_evts_expected = N_evts_processed * 0.3 * 0.05  # expected D*lnu (BR:5%) with specific D0 modes (BR:30%) events\n",
    "\n",
    "N_evts_expected"
   ]
  },
  {
   "cell_type": "code",
   "execution_count": 123,
   "id": "ea70d27a",
   "metadata": {},
   "outputs": [],
   "source": [
    "def append_lists(df, effs, purities_Dstlnu, purities_DstAndLep, N_pure, N_selec):\n",
    "    num_evts = df.shape[0]\n",
    "    efficiency = num_evts / N_evts_expected\n",
    "    N_selec.append(num_evts)\n",
    "    effs.append(efficiency)\n",
    "\n",
    "    purity_Dstlnu = df[df[\"isDstlnu\"] == 1].shape[0] / num_evts\n",
    "    purities_Dstlnu.append(purity_Dstlnu)\n",
    "    N_pure.append(df[df[\"isDstlnu\"] == 1].shape[0])\n",
    "    purity_DstAndLep = df[df[\"custom_signal\"] == 1].shape[0] / num_evts\n",
    "    purities_DstAndLep.append(purity_DstAndLep)\n",
    "    \n",
    "    return effs, purities_Dstlnu, purities_DstAndLep, N_pure, N_selec"
   ]
  },
  {
   "cell_type": "code",
   "execution_count": 234,
   "id": "8c29209c",
   "metadata": {},
   "outputs": [],
   "source": [
    "cut_names = []\n",
    "effs=[]\n",
    "N_pure=[]\n",
    "N_selec=[]\n",
    "purities_Dstlnu=[]\n",
    "purities_DstAndLep=[]\n",
    "#######################################\n",
    "cut_names.append(\"no cuts\")\n",
    "\n",
    "effs, purities_Dstlnu, purities_DstAndLep, N_pure, N_selec = append_lists(BCS_df, effs, \n",
    "                        purities_Dstlnu, purities_DstAndLep, N_pure, N_selec)\n",
    "#######################################\n",
    "#######################################\n",
    "cut_names.append(\"Btag Mbc\")\n",
    "dau0_Mbc_lower = 5.00\n",
    "\n",
    "cut_df = BCS_df[BCS_df.dau0_Mbc > dau0_Mbc_lower]\n",
    "effs, purities_Dstlnu, purities_DstAndLep, N_pure, N_selec = append_lists(cut_df, effs, \n",
    "                        purities_Dstlnu, purities_DstAndLep, N_pure, N_selec)\n",
    "#######################################\n",
    "#######################################\n",
    "cut_names.append(\"Btag deltaE\")\n",
    "dau0_deltaE_lim = 0.5\n",
    "\n",
    "cut_df = BCS_df[(BCS_df.dau0_deltaE < dau0_deltaE_lim) & (BCS_df.dau0_deltaE > -dau0_deltaE_lim)]\n",
    "effs, purities_Dstlnu, purities_DstAndLep, N_pure, N_selec = append_lists(cut_df, effs, \n",
    "                        purities_Dstlnu, purities_DstAndLep, N_pure, N_selec)\n",
    "#######################################\n",
    "#######################################\n",
    "cut_names.append(\"foxWolframR2\")\n",
    "foxWolframR2_lim = 0.3\n",
    "\n",
    "cut_df = BCS_df[(BCS_df.foxWolframR2 < foxWolframR2_lim)]\n",
    "effs, purities_Dstlnu, purities_DstAndLep, N_pure, N_selec = append_lists(cut_df, effs, \n",
    "                        purities_Dstlnu, purities_DstAndLep, N_pure, N_selec)\n",
    "#######################################\n",
    "#######################################\n",
    "cut_names.append(\"Dst_pt\")\n",
    "Dst_pt_upper = 2.4\n",
    "\n",
    "cut_df = BCS_df[(BCS_df.Dst_pt < Dst_pt_upper)]\n",
    "effs, purities_Dstlnu, purities_DstAndLep, N_pure, N_selec = append_lists(cut_df, effs, \n",
    "                        purities_Dstlnu, purities_DstAndLep, N_pure, N_selec)\n",
    "#######################################\n",
    "#######################################\n",
    "cut_names.append(\"lep_pt\")\n",
    "lep_pt_lower = 0.7\n",
    "\n",
    "cut_df = BCS_df[(BCS_df.lep_pt > lep_pt_lower)]\n",
    "effs, purities_Dstlnu, purities_DstAndLep, N_pure, N_selec = append_lists(cut_df, effs, \n",
    "                        purities_Dstlnu, purities_DstAndLep, N_pure, N_selec)\n",
    "#######################################\n",
    "#######################################\n",
    "cut_names.append(\"D0 mass\")\n",
    "D_M_upper = 1.95\n",
    "D_M_lower = 1.8\n",
    "\n",
    "cut_df = BCS_df[(BCS_df.D_M > D_M_lower) & (BCS_df.D_M < D_M_upper)]\n",
    "effs, purities_Dstlnu, purities_DstAndLep, N_pure, N_selec = append_lists(cut_df, effs, \n",
    "                        purities_Dstlnu, purities_DstAndLep, N_pure, N_selec)\n",
    "#######################################\n",
    "#######################################\n",
    "cut_names.append(\"Dst mass\")\n",
    "Dst_M_lower = 1.8\n",
    "Dst_M_upper = 2.2\n",
    "\n",
    "cut_df = BCS_df[(BCS_df.Dst_M > Dst_M_lower) & (BCS_df.Dst_M < Dst_M_upper)]\n",
    "effs, purities_Dstlnu, purities_DstAndLep, N_pure, N_selec = append_lists(cut_df, effs, \n",
    "                        purities_Dstlnu, purities_DstAndLep, N_pure, N_selec)\n",
    "#######################################\n",
    "#######################################\n",
    "cut_names.append(\"hadr. Btag\")\n",
    "cut_df = BCS_df[(BCS_df.N_lep_Btag == 0)]\n",
    "effs, purities_Dstlnu, purities_DstAndLep, N_pure, N_selec = append_lists(cut_df, effs, \n",
    "                        purities_Dstlnu, purities_DstAndLep, N_pure, N_selec)\n",
    "#######################################\n",
    "#######################################\n",
    "cut_names.append(\"HcSigProb>0.01\")\n",
    "dau0_dau0_sigProb_lower = 0.01\n",
    "\n",
    "cut_df = BCS_df[BCS_df.dau0_dau0_sigProb > dau0_dau0_sigProb_lower]\n",
    "effs, purities_Dstlnu, purities_DstAndLep, N_pure, N_selec = append_lists(cut_df, effs, \n",
    "                        purities_Dstlnu, purities_DstAndLep, N_pure, N_selec)\n",
    "#######################################\n",
    "#######################################\n",
    "cut_names.append(\"SigProb>0.1\")\n",
    "dau0_dau0_sigProb_lower = 0.1\n",
    "\n",
    "cut_df = BCS_df[BCS_df.dau0_dau0_sigProb > dau0_dau0_sigProb_lower]\n",
    "effs, purities_Dstlnu, purities_DstAndLep, N_pure, N_selec = append_lists(cut_df, effs, \n",
    "                        purities_Dstlnu, purities_DstAndLep, N_pure, N_selec)\n",
    "#######################################"
   ]
  },
  {
   "cell_type": "code",
   "execution_count": 235,
   "id": "9cfcafba",
   "metadata": {},
   "outputs": [],
   "source": [
    "eff_and_pur = pd.DataFrame({'cut_name' : cut_names,\n",
    "                            'N tagged evts' : N_selec,\n",
    "                            'N tagged signal evts' : N_pure,\n",
    "                           'efficiency' : effs,\n",
    "                           'purity_Dst' : purities_Dstlnu,\n",
    "                           'purity_DstAndLep' : purities_DstAndLep})"
   ]
  },
  {
   "cell_type": "code",
   "execution_count": 236,
   "id": "2a0ab127",
   "metadata": {},
   "outputs": [
    {
     "data": {
      "text/html": [
       "<div>\n",
       "<style scoped>\n",
       "    .dataframe tbody tr th:only-of-type {\n",
       "        vertical-align: middle;\n",
       "    }\n",
       "\n",
       "    .dataframe tbody tr th {\n",
       "        vertical-align: top;\n",
       "    }\n",
       "\n",
       "    .dataframe thead th {\n",
       "        text-align: right;\n",
       "    }\n",
       "</style>\n",
       "<table border=\"1\" class=\"dataframe\">\n",
       "  <thead>\n",
       "    <tr style=\"text-align: right;\">\n",
       "      <th></th>\n",
       "      <th>cut_name</th>\n",
       "      <th>N tagged evts</th>\n",
       "      <th>N tagged signal evts</th>\n",
       "      <th>efficiency</th>\n",
       "      <th>purity_Dst</th>\n",
       "      <th>purity_DstAndLep</th>\n",
       "    </tr>\n",
       "  </thead>\n",
       "  <tbody>\n",
       "    <tr>\n",
       "      <th>0</th>\n",
       "      <td>no cuts</td>\n",
       "      <td>189017</td>\n",
       "      <td>37242</td>\n",
       "      <td>0.123697</td>\n",
       "      <td>0.197030</td>\n",
       "      <td>0.142373</td>\n",
       "    </tr>\n",
       "    <tr>\n",
       "      <th>1</th>\n",
       "      <td>Btag Mbc</td>\n",
       "      <td>146170</td>\n",
       "      <td>30137</td>\n",
       "      <td>0.095657</td>\n",
       "      <td>0.206178</td>\n",
       "      <td>0.160183</td>\n",
       "    </tr>\n",
       "    <tr>\n",
       "      <th>2</th>\n",
       "      <td>Btag deltaE</td>\n",
       "      <td>54944</td>\n",
       "      <td>5405</td>\n",
       "      <td>0.035957</td>\n",
       "      <td>0.098373</td>\n",
       "      <td>0.067560</td>\n",
       "    </tr>\n",
       "    <tr>\n",
       "      <th>3</th>\n",
       "      <td>foxWolframR2</td>\n",
       "      <td>182264</td>\n",
       "      <td>34741</td>\n",
       "      <td>0.119278</td>\n",
       "      <td>0.190608</td>\n",
       "      <td>0.137932</td>\n",
       "    </tr>\n",
       "    <tr>\n",
       "      <th>4</th>\n",
       "      <td>Dst_pt</td>\n",
       "      <td>188659</td>\n",
       "      <td>37204</td>\n",
       "      <td>0.123463</td>\n",
       "      <td>0.197202</td>\n",
       "      <td>0.142548</td>\n",
       "    </tr>\n",
       "    <tr>\n",
       "      <th>5</th>\n",
       "      <td>lep_pt</td>\n",
       "      <td>65957</td>\n",
       "      <td>25934</td>\n",
       "      <td>0.043164</td>\n",
       "      <td>0.393196</td>\n",
       "      <td>0.367179</td>\n",
       "    </tr>\n",
       "    <tr>\n",
       "      <th>6</th>\n",
       "      <td>D0 mass</td>\n",
       "      <td>3634</td>\n",
       "      <td>562</td>\n",
       "      <td>0.002378</td>\n",
       "      <td>0.154651</td>\n",
       "      <td>0.096037</td>\n",
       "    </tr>\n",
       "    <tr>\n",
       "      <th>7</th>\n",
       "      <td>Dst mass</td>\n",
       "      <td>18678</td>\n",
       "      <td>3153</td>\n",
       "      <td>0.012223</td>\n",
       "      <td>0.168808</td>\n",
       "      <td>0.110183</td>\n",
       "    </tr>\n",
       "    <tr>\n",
       "      <th>8</th>\n",
       "      <td>hadr. Btag</td>\n",
       "      <td>115581</td>\n",
       "      <td>24560</td>\n",
       "      <td>0.075639</td>\n",
       "      <td>0.212492</td>\n",
       "      <td>0.155017</td>\n",
       "    </tr>\n",
       "    <tr>\n",
       "      <th>9</th>\n",
       "      <td>HcSigProb&gt;0.01</td>\n",
       "      <td>68870</td>\n",
       "      <td>13826</td>\n",
       "      <td>0.045070</td>\n",
       "      <td>0.200755</td>\n",
       "      <td>0.150414</td>\n",
       "    </tr>\n",
       "    <tr>\n",
       "      <th>10</th>\n",
       "      <td>SigProb&gt;0.1</td>\n",
       "      <td>15345</td>\n",
       "      <td>4431</td>\n",
       "      <td>0.010042</td>\n",
       "      <td>0.288759</td>\n",
       "      <td>0.223460</td>\n",
       "    </tr>\n",
       "  </tbody>\n",
       "</table>\n",
       "</div>"
      ],
      "text/plain": [
       "          cut_name  N tagged evts  N tagged signal evts  efficiency  \\\n",
       "0          no cuts         189017                 37242    0.123697   \n",
       "1         Btag Mbc         146170                 30137    0.095657   \n",
       "2      Btag deltaE          54944                  5405    0.035957   \n",
       "3     foxWolframR2         182264                 34741    0.119278   \n",
       "4           Dst_pt         188659                 37204    0.123463   \n",
       "5           lep_pt          65957                 25934    0.043164   \n",
       "6          D0 mass           3634                   562    0.002378   \n",
       "7         Dst mass          18678                  3153    0.012223   \n",
       "8       hadr. Btag         115581                 24560    0.075639   \n",
       "9   HcSigProb>0.01          68870                 13826    0.045070   \n",
       "10     SigProb>0.1          15345                  4431    0.010042   \n",
       "\n",
       "    purity_Dst  purity_DstAndLep  \n",
       "0     0.197030          0.142373  \n",
       "1     0.206178          0.160183  \n",
       "2     0.098373          0.067560  \n",
       "3     0.190608          0.137932  \n",
       "4     0.197202          0.142548  \n",
       "5     0.393196          0.367179  \n",
       "6     0.154651          0.096037  \n",
       "7     0.168808          0.110183  \n",
       "8     0.212492          0.155017  \n",
       "9     0.200755          0.150414  \n",
       "10    0.288759          0.223460  "
      ]
     },
     "execution_count": 236,
     "metadata": {},
     "output_type": "execute_result"
    }
   ],
   "source": [
    "eff_and_pur"
   ]
  },
  {
   "cell_type": "code",
   "execution_count": 237,
   "id": "25a07394",
   "metadata": {},
   "outputs": [
    {
     "data": {
      "text/plain": [
       "11"
      ]
     },
     "execution_count": 237,
     "metadata": {},
     "output_type": "execute_result"
    }
   ],
   "source": [
    "eff_and_pur.shape[0]"
   ]
  },
  {
   "cell_type": "code",
   "execution_count": 238,
   "id": "aee26978",
   "metadata": {},
   "outputs": [
    {
     "data": {
      "text/plain": [
       "0            no cuts\n",
       "1           Btag Mbc\n",
       "2        Btag deltaE\n",
       "3       foxWolframR2\n",
       "4             Dst_pt\n",
       "5             lep_pt\n",
       "6            D0 mass\n",
       "7           Dst mass\n",
       "8         hadr. Btag\n",
       "9     HcSigProb>0.01\n",
       "10       SigProb>0.1\n",
       "Name: cut_name, dtype: object"
      ]
     },
     "execution_count": 238,
     "metadata": {},
     "output_type": "execute_result"
    }
   ],
   "source": [
    "eff_and_pur.cut_name"
   ]
  },
  {
   "cell_type": "code",
   "execution_count": 239,
   "id": "14052480",
   "metadata": {
    "scrolled": false
   },
   "outputs": [
    {
     "data": {
      "image/png": "[encoded data removed]",
      "text/plain": [
       "<Figure size 1512x648 with 1 Axes>"
      ]
     },
     "metadata": {
      "needs_background": "light"
     },
     "output_type": "display_data"
    },
    {
     "data": {
      "text/plain": [
       "<Figure size 1512x648 with 0 Axes>"
      ]
     },
     "metadata": {},
     "output_type": "display_data"
    }
   ],
   "source": [
    "plt.rcParams[\"figure.figsize\"] = (21,9)\n",
    "plt.rcParams.update({'font.size': 14})\n",
    "\n",
    "ind = np.arange(eff_and_pur.shape[0])\n",
    "width = 0.2 \n",
    "shift = 0.25\n",
    "\n",
    "plt.bar(ind -shift, eff_and_pur['efficiency'], width, label='efficiency')\n",
    "plt.bar(ind +0.0, eff_and_pur['purity_Dst'], width, label='purity Dstlnu')\n",
    "plt.bar(ind +shift, eff_and_pur['purity_DstAndLep'], width, label='purity Dstlnu + lep MC matching')\n",
    "plt.xticks((ind + width / 2)-width, eff_and_pur.cut_name) \n",
    "plt.yscale('log')\n",
    "plt.ylim(ymax = 1, ymin = 0.001)\n",
    "plt.legend()\n",
    "plt.grid(axis='y')\n",
    "plt.show()\n",
    "\n",
    "plt.savefig('plots/efficiency_and_purity_singleCuts.pdf')"
   ]
  },
  {
   "cell_type": "markdown",
   "id": "4f5888a8",
   "metadata": {},
   "source": [
    "## all cuts adding up"
   ]
  },
  {
   "cell_type": "code",
   "execution_count": 160,
   "id": "fd856f2b",
   "metadata": {},
   "outputs": [],
   "source": [
    "cut_names = []\n",
    "effs=[]\n",
    "N_pure=[]\n",
    "N_selec=[]\n",
    "purities_Dstlnu=[]\n",
    "purities_DstAndLep=[]\n",
    "#######################################\n",
    "cut_names.append(\"no cuts\")\n",
    "cut_df = BCS_df\n",
    "\n",
    "effs, purities_Dstlnu, purities_DstAndLep, N_pure, N_selec = append_lists(cut_df, effs, \n",
    "                        purities_Dstlnu, purities_DstAndLep, N_pure, N_selec)\n",
    "#######################################\n",
    "#######################################\n",
    "cut_names.append(\"Btag Mbc\")\n",
    "\n",
    "cut_df = cut_df[cut_df.dau0_Mbc > dau0_Mbc_lower]\n",
    "effs, purities_Dstlnu, purities_DstAndLep, N_pure, N_selec = append_lists(cut_df, effs, \n",
    "                        purities_Dstlnu, purities_DstAndLep, N_pure, N_selec)\n",
    "#######################################\n",
    "#######################################\n",
    "cut_names.append(\"Btag deltaE\")\n",
    "\n",
    "cut_df = cut_df[(cut_df.dau0_deltaE < dau0_deltaE_lim) & (cut_df.dau0_deltaE > -dau0_deltaE_lim)]\n",
    "effs, purities_Dstlnu, purities_DstAndLep, N_pure, N_selec = append_lists(cut_df, effs, \n",
    "                        purities_Dstlnu, purities_DstAndLep, N_pure, N_selec)\n",
    "#######################################\n",
    "#######################################\n",
    "cut_names.append(\"foxWolframR2\")\n",
    "\n",
    "cut_df = cut_df[(cut_df.foxWolframR2 < foxWolframR2_lim)]\n",
    "effs, purities_Dstlnu, purities_DstAndLep, N_pure, N_selec = append_lists(cut_df, effs, \n",
    "                        purities_Dstlnu, purities_DstAndLep, N_pure, N_selec)\n",
    "#######################################\n",
    "#######################################\n",
    "cut_names.append(\"Dst_pt\")\n",
    "\n",
    "cut_df = cut_df[(cut_df.Dst_pt < Dst_pt_upper)]\n",
    "effs, purities_Dstlnu, purities_DstAndLep, N_pure, N_selec = append_lists(cut_df, effs, \n",
    "                        purities_Dstlnu, purities_DstAndLep, N_pure, N_selec)\n",
    "#######################################\n",
    "#######################################\n",
    "cut_names.append(\"lep_pt\")\n",
    "\n",
    "cut_df = cut_df[(cut_df.lep_pt > lep_pt_lower)]\n",
    "effs, purities_Dstlnu, purities_DstAndLep, N_pure, N_selec = append_lists(cut_df, effs, \n",
    "                        purities_Dstlnu, purities_DstAndLep, N_pure, N_selec)\n",
    "#######################################\n",
    "#######################################\n",
    "cut_names.append(\"D0 mass\")\n",
    "\n",
    "cut_df = cut_df[(cut_df.D_M > D_M_lower) & (cut_df.D_M < D_M_upper)]\n",
    "effs, purities_Dstlnu, purities_DstAndLep, N_pure, N_selec = append_lists(cut_df, effs, \n",
    "                        purities_Dstlnu, purities_DstAndLep, N_pure, N_selec)\n",
    "#######################################\n",
    "#######################################\n",
    "cut_names.append(\"Dst mass\")\n",
    "\n",
    "cut_df = cut_df[(cut_df.Dst_M > Dst_M_lower) & (cut_df.Dst_M < Dst_M_upper)]\n",
    "effs, purities_Dstlnu, purities_DstAndLep, N_pure, N_selec = append_lists(cut_df, effs, \n",
    "                        purities_Dstlnu, purities_DstAndLep, N_pure, N_selec)\n",
    "#######################################\n",
    "#######################################\n",
    "cut_names.append(\"fully hadr. Btag\")\n",
    "cut_df = cut_df[(cut_df.N_lep_Btag == 0)]\n",
    "effs, purities_Dstlnu, purities_DstAndLep, N_pure, N_selec = append_lists(cut_df, effs, \n",
    "                        purities_Dstlnu, purities_DstAndLep, N_pure, N_selec)\n",
    "#######################################"
   ]
  },
  {
   "cell_type": "code",
   "execution_count": 161,
   "id": "9acc4469",
   "metadata": {},
   "outputs": [
    {
     "data": {
      "text/html": [
       "<div>\n",
       "<style scoped>\n",
       "    .dataframe tbody tr th:only-of-type {\n",
       "        vertical-align: middle;\n",
       "    }\n",
       "\n",
       "    .dataframe tbody tr th {\n",
       "        vertical-align: top;\n",
       "    }\n",
       "\n",
       "    .dataframe thead th {\n",
       "        text-align: right;\n",
       "    }\n",
       "</style>\n",
       "<table border=\"1\" class=\"dataframe\">\n",
       "  <thead>\n",
       "    <tr style=\"text-align: right;\">\n",
       "      <th></th>\n",
       "      <th>cut_name</th>\n",
       "      <th>N tagged evts</th>\n",
       "      <th>N tagged signal evts</th>\n",
       "      <th>efficiency</th>\n",
       "      <th>purity_Dst</th>\n",
       "      <th>purity_DstAndLep</th>\n",
       "    </tr>\n",
       "  </thead>\n",
       "  <tbody>\n",
       "    <tr>\n",
       "      <th>0</th>\n",
       "      <td>no cuts</td>\n",
       "      <td>189017</td>\n",
       "      <td>37242</td>\n",
       "      <td>0.123697</td>\n",
       "      <td>0.197030</td>\n",
       "      <td>0.142373</td>\n",
       "    </tr>\n",
       "    <tr>\n",
       "      <th>1</th>\n",
       "      <td>Btag Mbc</td>\n",
       "      <td>146170</td>\n",
       "      <td>30137</td>\n",
       "      <td>0.095657</td>\n",
       "      <td>0.206178</td>\n",
       "      <td>0.160183</td>\n",
       "    </tr>\n",
       "    <tr>\n",
       "      <th>2</th>\n",
       "      <td>Btag deltaE</td>\n",
       "      <td>40882</td>\n",
       "      <td>4168</td>\n",
       "      <td>0.026754</td>\n",
       "      <td>0.101952</td>\n",
       "      <td>0.078421</td>\n",
       "    </tr>\n",
       "    <tr>\n",
       "      <th>3</th>\n",
       "      <td>foxWolframR2</td>\n",
       "      <td>39776</td>\n",
       "      <td>3851</td>\n",
       "      <td>0.026030</td>\n",
       "      <td>0.096817</td>\n",
       "      <td>0.074593</td>\n",
       "    </tr>\n",
       "    <tr>\n",
       "      <th>4</th>\n",
       "      <td>Dst_pt</td>\n",
       "      <td>39728</td>\n",
       "      <td>3846</td>\n",
       "      <td>0.025999</td>\n",
       "      <td>0.096808</td>\n",
       "      <td>0.074607</td>\n",
       "    </tr>\n",
       "    <tr>\n",
       "      <th>5</th>\n",
       "      <td>lep_pt</td>\n",
       "      <td>11185</td>\n",
       "      <td>2838</td>\n",
       "      <td>0.007320</td>\n",
       "      <td>0.253733</td>\n",
       "      <td>0.241574</td>\n",
       "    </tr>\n",
       "    <tr>\n",
       "      <th>6</th>\n",
       "      <td>D0 mass</td>\n",
       "      <td>200</td>\n",
       "      <td>37</td>\n",
       "      <td>0.000131</td>\n",
       "      <td>0.185000</td>\n",
       "      <td>0.185000</td>\n",
       "    </tr>\n",
       "    <tr>\n",
       "      <th>7</th>\n",
       "      <td>Dst mass</td>\n",
       "      <td>114</td>\n",
       "      <td>29</td>\n",
       "      <td>0.000075</td>\n",
       "      <td>0.254386</td>\n",
       "      <td>0.254386</td>\n",
       "    </tr>\n",
       "    <tr>\n",
       "      <th>8</th>\n",
       "      <td>fully hadr. Btag</td>\n",
       "      <td>60</td>\n",
       "      <td>17</td>\n",
       "      <td>0.000039</td>\n",
       "      <td>0.283333</td>\n",
       "      <td>0.283333</td>\n",
       "    </tr>\n",
       "  </tbody>\n",
       "</table>\n",
       "</div>"
      ],
      "text/plain": [
       "           cut_name  N tagged evts  N tagged signal evts  efficiency  \\\n",
       "0           no cuts         189017                 37242    0.123697   \n",
       "1          Btag Mbc         146170                 30137    0.095657   \n",
       "2       Btag deltaE          40882                  4168    0.026754   \n",
       "3      foxWolframR2          39776                  3851    0.026030   \n",
       "4            Dst_pt          39728                  3846    0.025999   \n",
       "5            lep_pt          11185                  2838    0.007320   \n",
       "6           D0 mass            200                    37    0.000131   \n",
       "7          Dst mass            114                    29    0.000075   \n",
       "8  fully hadr. Btag             60                    17    0.000039   \n",
       "\n",
       "   purity_Dst  purity_DstAndLep  \n",
       "0    0.197030          0.142373  \n",
       "1    0.206178          0.160183  \n",
       "2    0.101952          0.078421  \n",
       "3    0.096817          0.074593  \n",
       "4    0.096808          0.074607  \n",
       "5    0.253733          0.241574  \n",
       "6    0.185000          0.185000  \n",
       "7    0.254386          0.254386  \n",
       "8    0.283333          0.283333  "
      ]
     },
     "execution_count": 161,
     "metadata": {},
     "output_type": "execute_result"
    }
   ],
   "source": [
    "eff_and_pur_addingUp = pd.DataFrame({'cut_name' : cut_names,\n",
    "                            'N tagged evts' : N_selec,\n",
    "                            'N tagged signal evts' : N_pure,\n",
    "                           'efficiency' : effs,\n",
    "                           'purity_Dst' : purities_Dstlnu,\n",
    "                           'purity_DstAndLep' : purities_DstAndLep})\n",
    "eff_and_pur_addingUp"
   ]
  },
  {
   "cell_type": "code",
   "execution_count": 176,
   "id": "26e47e3f",
   "metadata": {},
   "outputs": [
    {
     "data": {
      "image/png": "[encoded data removed]",
      "text/plain": [
       "<Figure size 1512x648 with 1 Axes>"
      ]
     },
     "metadata": {
      "needs_background": "light"
     },
     "output_type": "display_data"
    },
    {
     "data": {
      "text/plain": [
       "<Figure size 1512x648 with 0 Axes>"
      ]
     },
     "metadata": {},
     "output_type": "display_data"
    }
   ],
   "source": [
    "plt.rcParams[\"figure.figsize\"] = (21,9)\n",
    "plt.rcParams.update({'font.size': 14})\n",
    "\n",
    "ind = np.arange(eff_and_pur.shape[0])\n",
    "width = 0.2 \n",
    "shift = 0.25\n",
    "\n",
    "plt.bar(ind -shift, eff_and_pur_addingUp['efficiency'], width, label='efficiency')\n",
    "plt.bar(ind +0.0, eff_and_pur_addingUp['purity_Dst'], width, label='purity Dstlnu')\n",
    "plt.bar(ind +shift, eff_and_pur_addingUp['purity_DstAndLep'], width, label='purity Dstlnu + lep MC matching')\n",
    "plt.xticks((ind + width / 2)-width, eff_and_pur.cut_name) \n",
    "plt.yscale('log')\n",
    "plt.ylim(ymax = 1, ymin = 0.00001)\n",
    "plt.grid(axis='y')\n",
    "\n",
    "plt.legend()\n",
    "\n",
    "plt.show()\n",
    "\n",
    "\n",
    "plt.savefig('plots/efficiency_and_purity_stackedCuts.pdf')"
   ]
  },
  {
   "cell_type": "code",
   "execution_count": 178,
   "id": "7c3ecae6",
   "metadata": {},
   "outputs": [],
   "source": [
    "plot_vars=[\"dau0_Mbc\",\"dau0_deltaE\",\"foxWolframR2\",\"Dst_pt\",\"lep_pt\",\"D_M\",\"Dst_M\",\"N_lep_Btag\"]"
   ]
  },
  {
   "cell_type": "code",
   "execution_count": 196,
   "id": "916ac680",
   "metadata": {},
   "outputs": [],
   "source": [
    "bins_dict = {\n",
    "    \"dau0_Mbc\":  np.linspace(4, 5.5, 40),\n",
    "    \"dau0_deltaE\":   np.linspace(-5, 5, 40),\n",
    "    \"foxWolframR2\":   np.linspace(0, 0.5, 40),\n",
    "    \"Dst_pt\":   np.linspace(0, 3, 40),\n",
    "    \"lep_pt\":   np.linspace(0, 3, 40),\n",
    "    \"D_M\":   np.linspace(0, 4, 40),\n",
    "    \"Dst_M\":   np.linspace(0, 4, 40),\n",
    "    \"N_lep_Btag\":   np.linspace(0, 5, 6)\n",
    "    }"
   ]
  },
  {
   "cell_type": "code",
   "execution_count": 197,
   "id": "c115a729",
   "metadata": {},
   "outputs": [
    {
     "name": "stderr",
     "output_type": "stream",
     "text": [
      "No handles with labels found to put in legend.\n",
      "No handles with labels found to put in legend.\n",
      "No handles with labels found to put in legend.\n",
      "No handles with labels found to put in legend.\n",
      "No handles with labels found to put in legend.\n",
      "No handles with labels found to put in legend.\n",
      "No handles with labels found to put in legend.\n",
      "No handles with labels found to put in legend.\n"
     ]
    },
    {
     "name": "stdout",
     "output_type": "stream",
     "text": [
      "0 0 dau0_Mbc\n",
      "1 0 dau0_deltaE\n",
      "2 0 foxWolframR2\n",
      "3 0 Dst_pt\n",
      "0 1 lep_pt\n",
      "1 1 D_M\n",
      "2 1 Dst_M\n",
      "3 1 N_lep_Btag\n"
     ]
    },
    {
     "data": {
      "image/png": "[encoded data removed]",
      "text/plain": [
       "<Figure size 1152x576 with 8 Axes>"
      ]
     },
     "metadata": {
      "needs_background": "light"
     },
     "output_type": "display_data"
    }
   ],
   "source": [
    "dim_x = 4\n",
    "fig, axs = plt.subplots(dim_x, 2)\n",
    "fig.set_size_inches(16, 8)\n",
    "font_size=8\n",
    "plt.rcParams.update({'font.size': font_size})\n",
    "\n",
    "\n",
    "for i, var in enumerate(plot_vars):\n",
    "    \n",
    "    idx=i % dim_x\n",
    "    idy=math.floor(i/dim_x)\n",
    "    print(idx, idy, var)\n",
    "    \n",
    "    ax = axs[idx, idy]   \n",
    "    \n",
    "    bins = bins_dict[var]\n",
    "    ax.set_title(f'{var}')\n",
    "\n",
    "    #ax.set_xlabel(r'number of wrong predictions per event')\n",
    "    ax.set_ylabel(\"fraction of events\",fontsize=font_size)\n",
    "\n",
    "    #plt.xticks(np.arange(0, num_steps, step=1))\n",
    "    ax.hist(BCS_df[var], \n",
    "            bins, \n",
    "            density=True, alpha=0.5, label=\"\" ,histtype='step')\n",
    "    \n",
    "    ax.tick_params(axis='both', which='major', labelsize=font_size)\n",
    "    ax.tick_params(axis='both', which='minor', labelsize=font_size)\n",
    "\n",
    "    ax.legend(loc='upper right')\n",
    "\n",
    "    #plt.grid()\n",
    "\n",
    "plt.savefig('plots/efficiency_and_purity_variablesDistris.pdf')"
   ]
  },
  {
   "cell_type": "code",
   "execution_count": null,
   "id": "ea5f5c66",
   "metadata": {},
   "outputs": [],
   "source": []
  },
  {
   "cell_type": "code",
   "execution_count": null,
   "id": "29be0b03",
   "metadata": {},
   "outputs": [],
   "source": []
  }
 ],
 "metadata": {
  "kernelspec": {
   "display_name": "Python 3",
   "language": "python",
   "name": "python3"
  },
  "language_info": {
   "codemirror_mode": {
    "name": "ipython",
    "version": 3
   },
   "file_extension": ".py",
   "mimetype": "text/x-python",
   "name": "python",
   "nbconvert_exporter": "python",
   "pygments_lexer": "ipython3",
   "version": "3.6.8"
  }
 },
 "nbformat": 4,
 "nbformat_minor": 5
}
