{
 "cells": [
  {
   "cell_type": "code",
   "execution_count": 1,
   "id": "5fd10bbb",
   "metadata": {},
   "outputs": [],
   "source": [
    "import matplotlib.pyplot as plt\n",
    "import uproot\n",
    "import numpy as np\n",
    "import pandas as pd\n",
    "import matplotlib as mpl\n",
    "import math\n",
    "\n",
    "import sys\n",
    "sys.path.insert(1, '/afs/desy.de/user/a/axelheim/private/MC_studies/Dstlnu_Bt_generic/util_funcs/')\n",
    "from pandas_colFuncs import B_ID, whichBisSig, D0_decay_type, whichBisSig_NAHS"
   ]
  },
  {
   "cell_type": "code",
   "execution_count": 2,
   "id": "69e2dd58",
   "metadata": {},
   "outputs": [],
   "source": [
    "nfs_path = \"/nfs/dust/belle2/user/axelheim/MC_studies/Dstlnu_Bt_generic/appliedNNdata/17thRun/sub0/\""
   ]
  },
  {
   "cell_type": "code",
   "execution_count": 6,
   "id": "4c01a236",
   "metadata": {},
   "outputs": [],
   "source": [
    "Ups4S_file = uproot.open(nfs_path + \"Ups4S_NN_predicted.root:variables;1\")\n",
    "df_Ups4S = Ups4S_file.arrays(library=\"pd\")"
   ]
  },
  {
   "cell_type": "code",
   "execution_count": 7,
   "id": "61739c81",
   "metadata": {},
   "outputs": [],
   "source": [
    "FSPs_file = uproot.open(nfs_path + \"FSPs.root:variables;1\")\n",
    "df_FSPs = FSPs_file.arrays(library=\"pd\")"
   ]
  },
  {
   "cell_type": "code",
   "execution_count": 8,
   "id": "0c3aaa33",
   "metadata": {},
   "outputs": [],
   "source": [
    "evt_counter_file = uproot.open(nfs_path + \"evt_counter.root:variables;1\")\n",
    "df_evt_counter = evt_counter_file.arrays(library=\"pd\")"
   ]
  },
  {
   "cell_type": "code",
   "execution_count": 9,
   "id": "184b2181",
   "metadata": {},
   "outputs": [
    {
     "name": "stdout",
     "output_type": "stream",
     "text": [
      "3669693\n",
      "197986\n",
      "197986\n"
     ]
    }
   ],
   "source": [
    "print(df_Ups4S.shape[0])\n",
    "print(df_Ups4S.groupby([\"__event__\",\"__production__\"]).ngroups)\n",
    "print(df_Ups4S[\"__event__\"].nunique())"
   ]
  },
  {
   "cell_type": "markdown",
   "id": "8b23905a",
   "metadata": {},
   "source": [
    "## choose BCS and add labels"
   ]
  },
  {
   "cell_type": "code",
   "execution_count": 10,
   "id": "9d16a21b",
   "metadata": {},
   "outputs": [
    {
     "name": "stdout",
     "output_type": "stream",
     "text": [
      "197986\n"
     ]
    }
   ],
   "source": [
    "df_Ups4S[\"abs_m2RecoilSignalSide\"] = df_Ups4S[\"m2RecoilSignalSide\"].abs() \n",
    "BCS_df = df_Ups4S.sort_values(\"abs_m2RecoilSignalSide\",ascending=True).drop_duplicates(subset=(\"__event__\"), keep='first')\n",
    "print(BCS_df.shape[0])"
   ]
  },
  {
   "cell_type": "code",
   "execution_count": 11,
   "id": "30ced227",
   "metadata": {},
   "outputs": [
    {
     "name": "stdout",
     "output_type": "stream",
     "text": [
      "0\n",
      "0\n",
      "0\n",
      "0\n",
      "30836\n",
      "0\n",
      "0\n",
      "0\n",
      "0\n",
      "0\n",
      "30601\n",
      "0\n"
     ]
    }
   ],
   "source": [
    "imputelist = [[\"abs_genUp4S_PDG_0_0\",0],[\"abs_genUp4S_PDG_0_1\",0],[\"abs_genUp4S_PDG_0_2\",0],\n",
    "              [\"abs_genUp4S_PDG_1_0\",0],[\"abs_genUp4S_PDG_1_1\",0],[\"abs_genUp4S_PDG_1_2\",0]\n",
    "              ]\n",
    "for impute in imputelist:\n",
    "    column_name = impute[0]\n",
    "    impute_val = impute[1]\n",
    "\n",
    "    print(BCS_df[BCS_df[column_name].isna() == True].shape[0])\n",
    "    mask = BCS_df[column_name].isna() == 1\n",
    "    BCS_df.loc[mask, column_name] = impute_val\n",
    "    print(BCS_df[BCS_df[column_name].isna() == True].shape[0])"
   ]
  },
  {
   "cell_type": "code",
   "execution_count": 12,
   "id": "ef0e2c5c",
   "metadata": {},
   "outputs": [],
   "source": [
    "def isDstlnu(s):\n",
    "    isDstlnu = 0\n",
    "\n",
    "    abs_genUp4S_PDG_0_0 = int(s[\"abs_genUp4S_PDG_0_0\"])\n",
    "    abs_genUp4S_PDG_0_1 = int(s[\"abs_genUp4S_PDG_0_1\"])\n",
    "    abs_genUp4S_PDG_0_2 = int(s[\"abs_genUp4S_PDG_0_2\"])\n",
    "                              \n",
    "    abs_genUp4S_PDG_1_0 = int(s[\"abs_genUp4S_PDG_1_0\"])\n",
    "    abs_genUp4S_PDG_1_1 = int(s[\"abs_genUp4S_PDG_1_1\"])\n",
    "    abs_genUp4S_PDG_1_2 = int(s[\"abs_genUp4S_PDG_1_2\"])\n",
    "    \n",
    "    if abs_genUp4S_PDG_0_0 == 413:\n",
    "        if abs_genUp4S_PDG_0_1 == 11 or abs_genUp4S_PDG_0_1 == 13:\n",
    "            if abs_genUp4S_PDG_0_2 == 12 or abs_genUp4S_PDG_0_2 == 14:              \n",
    "                isDstlnu = 1\n",
    "                                  \n",
    "    if abs_genUp4S_PDG_1_0 == 413:\n",
    "        if abs_genUp4S_PDG_1_1 == 11 or abs_genUp4S_PDG_1_1 == 13:\n",
    "            if abs_genUp4S_PDG_1_2 == 12 or abs_genUp4S_PDG_1_2 == 14:              \n",
    "                isDstlnu = 1        \n",
    "        \n",
    "    return isDstlnu\n",
    "\n",
    "BCS_df['isDstlnu'] = BCS_df.apply(isDstlnu, axis=1)"
   ]
  },
  {
   "cell_type": "code",
   "execution_count": 13,
   "id": "30ecb17c",
   "metadata": {},
   "outputs": [],
   "source": [
    "def lep_typeMC(s):\n",
    "    label = \"none\"\n",
    "    if np.isnan(s[\"lep_mcPDG\"]) == True:\n",
    "        return label\n",
    "    \n",
    "    abs_lep_mcPDG = int(abs(s[\"lep_mcPDG\"]))\n",
    "    if abs_lep_mcPDG == 13:\n",
    "        label = \"mu\"\n",
    "    elif abs_lep_mcPDG == 11:\n",
    "        label = \"e\" \n",
    "    return label\n",
    "\n",
    "BCS_df['lep_typeMC'] = BCS_df.apply(lep_typeMC, axis=1)\n",
    "\n",
    "def lep_type(s):\n",
    "    label = \"none\"\n",
    "    if np.isnan(s[\"lep_PDG\"]) == True:\n",
    "        return label\n",
    "    \n",
    "    abs_lep_PDG = int(abs(s[\"lep_PDG\"]))\n",
    "    if abs_lep_PDG == 13:\n",
    "        label = \"mu\"\n",
    "    elif abs_lep_PDG == 11:\n",
    "        label = \"e\" \n",
    "    return label\n",
    "BCS_df['lep_type'] = BCS_df.apply(lep_type, axis=1)"
   ]
  },
  {
   "cell_type": "code",
   "execution_count": 14,
   "id": "4a8e9837",
   "metadata": {},
   "outputs": [],
   "source": [
    "def lep_MC_truth(s):\n",
    "    label = 0\n",
    "    if np.isnan(s[\"lep_motherPDG\"]) == True:\n",
    "        return label\n",
    "    if s[\"lep_typeMC\"] == \"none\":\n",
    "        return label\n",
    "    \n",
    "    abs_lep_motherPDG = int(abs(s[\"lep_motherPDG\"]))\n",
    "    if abs_lep_motherPDG == 511:\n",
    "        label = 1\n",
    "   \n",
    "    return label\n",
    "\n",
    "BCS_df['lep_MC_truth'] = BCS_df.apply(lep_MC_truth, axis=1)"
   ]
  },
  {
   "cell_type": "code",
   "execution_count": 15,
   "id": "7b8e4ed4",
   "metadata": {},
   "outputs": [
    {
     "data": {
      "text/plain": [
       "0.19692806562080148"
      ]
     },
     "execution_count": 15,
     "metadata": {},
     "output_type": "execute_result"
    }
   ],
   "source": [
    "BCS_df['isDstlnu'].mean()"
   ]
  },
  {
   "cell_type": "code",
   "execution_count": 16,
   "id": "99ac6252",
   "metadata": {},
   "outputs": [
    {
     "data": {
      "text/plain": [
       "0.23753699756548444"
      ]
     },
     "execution_count": 16,
     "metadata": {},
     "output_type": "execute_result"
    }
   ],
   "source": [
    "BCS_df['lep_MC_truth'].mean()"
   ]
  },
  {
   "cell_type": "code",
   "execution_count": 17,
   "id": "aca6c652",
   "metadata": {},
   "outputs": [],
   "source": [
    "BCS_df['custom_signal'] = (BCS_df['lep_MC_truth'] & BCS_df['isDstlnu'])"
   ]
  },
  {
   "cell_type": "code",
   "execution_count": 18,
   "id": "df7bbb4f",
   "metadata": {},
   "outputs": [
    {
     "data": {
      "text/plain": [
       "0.1423181437071308"
      ]
     },
     "execution_count": 18,
     "metadata": {},
     "output_type": "execute_result"
    }
   ],
   "source": [
    "BCS_df['custom_signal'].mean()"
   ]
  },
  {
   "cell_type": "code",
   "execution_count": 19,
   "id": "07f944cb",
   "metadata": {},
   "outputs": [
    {
     "data": {
      "text/plain": [
       "<AxesSubplot:>"
      ]
     },
     "execution_count": 19,
     "metadata": {},
     "output_type": "execute_result"
    }
   ],
   "source": [
    "bins = np.linspace(-10, 10, 50)\n",
    "BCS_df[\"dau1_cosThetaBetweenParticleAndNominalB\"].hist(bins=bins)"
   ]
  },
  {
   "cell_type": "markdown",
   "id": "f5937f96",
   "metadata": {},
   "source": [
    "## add info about leps in Btag to data frame"
   ]
  },
  {
   "cell_type": "code",
   "execution_count": 20,
   "id": "9f3b2edf",
   "metadata": {},
   "outputs": [],
   "source": [
    "df_FSPs[\"lep\"] = ((df_FSPs[\"PDG\"] == 11.) | (df_FSPs[\"PDG\"] == 13.))"
   ]
  },
  {
   "cell_type": "code",
   "execution_count": 21,
   "id": "5af3e231",
   "metadata": {},
   "outputs": [],
   "source": [
    "df_FSPs[\"Btag\"] = ((df_FSPs[\"basf2_used\"] == 1.) & (df_FSPs[\"basf2_Bsig\"] == 0.))"
   ]
  },
  {
   "cell_type": "code",
   "execution_count": 22,
   "id": "5c2589af",
   "metadata": {},
   "outputs": [],
   "source": [
    "df_FSPs[\"Btag_lep\"] = ((df_FSPs[\"Btag\"] == 1.) & (df_FSPs[\"lep\"] == 1.))"
   ]
  },
  {
   "cell_type": "code",
   "execution_count": 23,
   "id": "cd69c147",
   "metadata": {},
   "outputs": [
    {
     "data": {
      "text/plain": [
       "0.021669724443650392"
      ]
     },
     "execution_count": 23,
     "metadata": {},
     "output_type": "execute_result"
    }
   ],
   "source": [
    "df_FSPs[\"Btag_lep\"].mean()"
   ]
  },
  {
   "cell_type": "code",
   "execution_count": 24,
   "id": "d21064e1",
   "metadata": {},
   "outputs": [
    {
     "data": {
      "text/plain": [
       "96061"
      ]
     },
     "execution_count": 24,
     "metadata": {},
     "output_type": "execute_result"
    }
   ],
   "source": [
    "N_Btag_lep = pd.DataFrame({'N_lep_Btag' : df_FSPs.groupby( [\"__event__\",\"Btag_lep\"] ).size()}).reset_index()\n",
    "\n",
    "N_Btag_lep[N_Btag_lep[\"Btag_lep\"] == True][\"N_lep_Btag\"].sum()"
   ]
  },
  {
   "cell_type": "code",
   "execution_count": 25,
   "id": "2f2fe56a",
   "metadata": {},
   "outputs": [
    {
     "data": {
      "text/plain": [
       "96061"
      ]
     },
     "execution_count": 25,
     "metadata": {},
     "output_type": "execute_result"
    }
   ],
   "source": [
    "column_name = \"N_lep_Btag\"\n",
    "impute_val = 0\n",
    "\n",
    "mask = N_Btag_lep[\"Btag_lep\"] == False\n",
    "N_Btag_lep.loc[mask, column_name] = impute_val\n",
    "\n",
    "N_Btag_lep[\"N_lep_Btag\"].sum()"
   ]
  },
  {
   "cell_type": "code",
   "execution_count": 26,
   "id": "e90adb63",
   "metadata": {},
   "outputs": [
    {
     "data": {
      "text/plain": [
       "96061"
      ]
     },
     "execution_count": 26,
     "metadata": {},
     "output_type": "execute_result"
    }
   ],
   "source": [
    "N_Btag_lep = N_Btag_lep.sort_values(\"N_lep_Btag\",ascending=False).drop_duplicates(subset=(\"__event__\"), keep='first')\n",
    "N_Btag_lep[\"N_lep_Btag\"].sum()"
   ]
  },
  {
   "cell_type": "code",
   "execution_count": 27,
   "id": "b00e0705",
   "metadata": {},
   "outputs": [],
   "source": [
    "BCS_df = BCS_df.merge(N_Btag_lep[[\"__event__\",\"N_lep_Btag\"]], how='inner', on=\"__event__\")"
   ]
  },
  {
   "cell_type": "code",
   "execution_count": 28,
   "id": "11b42ee1",
   "metadata": {},
   "outputs": [
    {
     "data": {
      "text/plain": [
       "96061"
      ]
     },
     "execution_count": 28,
     "metadata": {},
     "output_type": "execute_result"
    }
   ],
   "source": [
    "BCS_df[\"N_lep_Btag\"].sum()"
   ]
  },
  {
   "cell_type": "markdown",
   "id": "f50ad7e4",
   "metadata": {},
   "source": [
    "## save df with labels"
   ]
  },
  {
   "cell_type": "code",
   "execution_count": 29,
   "id": "21cf605e",
   "metadata": {},
   "outputs": [],
   "source": [
    "BCS_df.to_csv(nfs_path + \"BCS_df_puriEff.csv\")\n",
    "#df_FSPs.to_csv(nfs_path + \"df_FSPs_puriEff.csv\")\n",
    "df_evt_counter.to_csv(nfs_path + \"df_evt_counter_puriEff.csv\")"
   ]
  },
  {
   "cell_type": "code",
   "execution_count": 30,
   "id": "5d78ecb4",
   "metadata": {},
   "outputs": [
    {
     "name": "stdout",
     "output_type": "stream",
     "text": [
      "worked\n"
     ]
    }
   ],
   "source": [
    "print(\"worked\")"
   ]
  },
  {
   "cell_type": "markdown",
   "id": "398278d1",
   "metadata": {},
   "source": [
    "## load df with labels"
   ]
  },
  {
   "cell_type": "code",
   "execution_count": 3,
   "id": "fdee9b23",
   "metadata": {},
   "outputs": [],
   "source": [
    "BCS_df = pd.read_csv(nfs_path + \"BCS_df_puriEff.csv\")\n",
    "#df_FSPs = pd.read_csv(nfs_path + \"df_FSPs_puriEff.csv\")\n",
    "df_evt_counter = pd.read_csv(nfs_path + \"df_evt_counter_puriEff.csv\")"
   ]
  },
  {
   "cell_type": "code",
   "execution_count": null,
   "id": "388bdf9e",
   "metadata": {},
   "outputs": [],
   "source": []
  },
  {
   "cell_type": "code",
   "execution_count": 4,
   "id": "da3a91fa",
   "metadata": {},
   "outputs": [
    {
     "data": {
      "text/plain": [
       "<AxesSubplot:>"
      ]
     },
     "execution_count": 4,
     "metadata": {},
     "output_type": "execute_result"
    },
    {
     "data": {
      "image/png": "[encoded data removed]",
      "text/plain": [
       "<Figure size 432x288 with 1 Axes>"
      ]
     },
     "metadata": {
      "needs_background": "light"
     },
     "output_type": "display_data"
    }
   ],
   "source": [
    "bins=np.linspace(0, 0.01, 40)\n",
    "BCS_df[\"dau0_dau0_sigProb\"].hist(bins=bins)"
   ]
  },
  {
   "cell_type": "markdown",
   "id": "40a6d1eb",
   "metadata": {},
   "source": [
    "## calculate eff. and purity for all cuts separately"
   ]
  },
  {
   "cell_type": "code",
   "execution_count": 5,
   "id": "fa1d98eb",
   "metadata": {},
   "outputs": [
    {
     "name": "stdout",
     "output_type": "stream",
     "text": [
      "N_evts_expected: 1243587.4528869002\n",
      "correction_factor: 0.8548338831829028\n"
     ]
    }
   ],
   "source": [
    "#N_evts_processed = df_evt_counter.shape[0]\n",
    "N_evts_processed = 189000 * 255 # 189000 evts for each of the 255 files processed (one sub)\n",
    "\n",
    "correction_factor = df_evt_counter.shape[0] / N_evts_processed \n",
    "N_evts_expected = correction_factor * N_evts_processed * 0.3049 * 0.099  # expected D*lnu (BR:4.95% for each e and mu) \n",
    "                                                  # with specific D0 modes (BR:30.49%) events\n",
    "\n",
    "print(\"N_evts_expected:\", N_evts_expected)\n",
    "print(\"correction_factor:\", correction_factor)"
   ]
  },
  {
   "cell_type": "code",
   "execution_count": 6,
   "id": "2c6f90fb",
   "metadata": {},
   "outputs": [],
   "source": [
    "def append_lists(df, effs, purities_Dstlnu, purities_DstAndLep, N_pure, N_selec):\n",
    "    num_evts = df.shape[0]\n",
    "    efficiency = num_evts / N_evts_expected\n",
    "    N_selec.append(num_evts)\n",
    "    effs.append(efficiency)\n",
    "\n",
    "    purity_Dstlnu = df[df[\"isDstlnu\"] == 1].shape[0] / num_evts\n",
    "    purities_Dstlnu.append(purity_Dstlnu)\n",
    "    N_pure.append(df[df[\"isDstlnu\"] == 1].shape[0])\n",
    "    purity_DstAndLep = df[df[\"custom_signal\"] == 1].shape[0] / num_evts\n",
    "    purities_DstAndLep.append(purity_DstAndLep)\n",
    "    \n",
    "    return effs, purities_Dstlnu, purities_DstAndLep, N_pure, N_selec"
   ]
  },
  {
   "cell_type": "code",
   "execution_count": 68,
   "id": "b035570d",
   "metadata": {},
   "outputs": [],
   "source": [
    "cut_names = []\n",
    "effs=[]\n",
    "N_pure=[]\n",
    "N_selec=[]\n",
    "purities_Dstlnu=[]\n",
    "purities_DstAndLep=[]\n",
    "#######################################\n",
    "cut_names.append(\"no cuts\")\n",
    "\n",
    "effs, purities_Dstlnu, purities_DstAndLep, N_pure, N_selec = append_lists(BCS_df, effs, \n",
    "                        purities_Dstlnu, purities_DstAndLep, N_pure, N_selec)\n",
    "#######################################\n",
    "#######################################\n",
    "cut_names.append(\"Btag Mbc\")\n",
    "dau0_Mbc_lower = 5.00\n",
    "\n",
    "cut_df = BCS_df[BCS_df.dau0_Mbc > dau0_Mbc_lower]\n",
    "effs, purities_Dstlnu, purities_DstAndLep, N_pure, N_selec = append_lists(cut_df, effs, \n",
    "                        purities_Dstlnu, purities_DstAndLep, N_pure, N_selec)\n",
    "#######################################\n",
    "#######################################\n",
    "cut_names.append(\"Btag deltaE\")\n",
    "dau0_deltaE_lim = 0.5\n",
    "dau0_deltaE_center = -1.5\n",
    "\n",
    "cut_df = BCS_df[(BCS_df.dau0_deltaE < dau0_deltaE_center + dau0_deltaE_lim) & \n",
    "                (BCS_df.dau0_deltaE >  dau0_deltaE_center - dau0_deltaE_lim)]\n",
    "effs, purities_Dstlnu, purities_DstAndLep, N_pure, N_selec = append_lists(cut_df, effs, \n",
    "                        purities_Dstlnu, purities_DstAndLep, N_pure, N_selec)\n",
    "#######################################\n",
    "#######################################\n",
    "cut_names.append(\"foxWolframR2\")\n",
    "foxWolframR2_lim = 0.3\n",
    "\n",
    "cut_df = BCS_df[(BCS_df.foxWolframR2 < foxWolframR2_lim)]\n",
    "effs, purities_Dstlnu, purities_DstAndLep, N_pure, N_selec = append_lists(cut_df, effs, \n",
    "                        purities_Dstlnu, purities_DstAndLep, N_pure, N_selec)\n",
    "#######################################\n",
    "#######################################\n",
    "cut_names.append(\"Dst_pt\")\n",
    "Dst_pt_upper = 2.4\n",
    "\n",
    "cut_df = BCS_df[(BCS_df.Dst_pt < Dst_pt_upper)]\n",
    "effs, purities_Dstlnu, purities_DstAndLep, N_pure, N_selec = append_lists(cut_df, effs, \n",
    "                        purities_Dstlnu, purities_DstAndLep, N_pure, N_selec)\n",
    "#######################################\n",
    "#######################################\n",
    "cut_names.append(\"lep_pt\")\n",
    "lep_pt_lower = 0.7\n",
    "\n",
    "cut_df = BCS_df[(BCS_df.lep_pt > lep_pt_lower)]\n",
    "effs, purities_Dstlnu, purities_DstAndLep, N_pure, N_selec = append_lists(cut_df, effs, \n",
    "                        purities_Dstlnu, purities_DstAndLep, N_pure, N_selec)\n",
    "#######################################\n",
    "#######################################\n",
    "cut_names.append(\"D0 mass\")\n",
    "D_M_upper = 1.95\n",
    "D_M_lower = 1.8\n",
    "\n",
    "cut_df = BCS_df[(BCS_df.D_M > D_M_lower) & (BCS_df.D_M < D_M_upper)]\n",
    "effs, purities_Dstlnu, purities_DstAndLep, N_pure, N_selec = append_lists(cut_df, effs, \n",
    "                        purities_Dstlnu, purities_DstAndLep, N_pure, N_selec)\n",
    "#######################################\n",
    "#######################################\n",
    "cut_names.append(\"Dst mass\")\n",
    "Dst_M_lower = 1.8\n",
    "Dst_M_upper = 2.2\n",
    "\n",
    "cut_df = BCS_df[(BCS_df.Dst_M > Dst_M_lower) & (BCS_df.Dst_M < Dst_M_upper)]\n",
    "effs, purities_Dstlnu, purities_DstAndLep, N_pure, N_selec = append_lists(cut_df, effs, \n",
    "                        purities_Dstlnu, purities_DstAndLep, N_pure, N_selec)\n",
    "#######################################\n",
    "#######################################\n",
    "cut_names.append(\"hadr. Btag\")\n",
    "cut_df = BCS_df[(BCS_df.N_lep_Btag == 0)]\n",
    "effs, purities_Dstlnu, purities_DstAndLep, N_pure, N_selec = append_lists(cut_df, effs, \n",
    "                        purities_Dstlnu, purities_DstAndLep, N_pure, N_selec)\n",
    "#######################################\n",
    "#######################################\n",
    "cut_names.append(\"HcSigProb>0.01\")\n",
    "dau0_dau0_sigProb_lower = 0.01\n",
    "\n",
    "cut_df = BCS_df[BCS_df.dau0_dau0_sigProb > dau0_dau0_sigProb_lower]\n",
    "effs, purities_Dstlnu, purities_DstAndLep, N_pure, N_selec = append_lists(cut_df, effs, \n",
    "                        purities_Dstlnu, purities_DstAndLep, N_pure, N_selec)\n",
    "#######################################\n",
    "#######################################\n",
    "cut_names.append(\"SigProb>0.1\")\n",
    "dau0_dau0_sigProb_lower = 0.1\n",
    "\n",
    "cut_df = BCS_df[BCS_df.dau0_dau0_sigProb > dau0_dau0_sigProb_lower]\n",
    "effs, purities_Dstlnu, purities_DstAndLep, N_pure, N_selec = append_lists(cut_df, effs, \n",
    "                        purities_Dstlnu, purities_DstAndLep, N_pure, N_selec)\n",
    "#######################################"
   ]
  },
  {
   "cell_type": "code",
   "execution_count": 69,
   "id": "cf8c6633",
   "metadata": {},
   "outputs": [],
   "source": [
    "eff_and_pur = pd.DataFrame({'cut_name' : cut_names,\n",
    "                            'N tagged evts' : N_selec,\n",
    "                            'N tagged signal evts' : N_pure,\n",
    "                           'efficiency' : effs,\n",
    "                           'purity_Dst' : purities_Dstlnu,\n",
    "                           'purity_DstAndLep' : purities_DstAndLep})"
   ]
  },
  {
   "cell_type": "code",
   "execution_count": 70,
   "id": "98c0f8ff",
   "metadata": {},
   "outputs": [
    {
     "data": {
      "text/html": [
       "<div>\n",
       "<style scoped>\n",
       "    .dataframe tbody tr th:only-of-type {\n",
       "        vertical-align: middle;\n",
       "    }\n",
       "\n",
       "    .dataframe tbody tr th {\n",
       "        vertical-align: top;\n",
       "    }\n",
       "\n",
       "    .dataframe thead th {\n",
       "        text-align: right;\n",
       "    }\n",
       "</style>\n",
       "<table border=\"1\" class=\"dataframe\">\n",
       "  <thead>\n",
       "    <tr style=\"text-align: right;\">\n",
       "      <th></th>\n",
       "      <th>cut_name</th>\n",
       "      <th>N tagged evts</th>\n",
       "      <th>N tagged signal evts</th>\n",
       "      <th>efficiency</th>\n",
       "      <th>purity_Dst</th>\n",
       "      <th>purity_DstAndLep</th>\n",
       "    </tr>\n",
       "  </thead>\n",
       "  <tbody>\n",
       "    <tr>\n",
       "      <th>0</th>\n",
       "      <td>no cuts</td>\n",
       "      <td>197986</td>\n",
       "      <td>38989</td>\n",
       "      <td>0.159206</td>\n",
       "      <td>0.196928</td>\n",
       "      <td>0.142318</td>\n",
       "    </tr>\n",
       "    <tr>\n",
       "      <th>1</th>\n",
       "      <td>Btag Mbc</td>\n",
       "      <td>153266</td>\n",
       "      <td>31561</td>\n",
       "      <td>0.123245</td>\n",
       "      <td>0.205923</td>\n",
       "      <td>0.160035</td>\n",
       "    </tr>\n",
       "    <tr>\n",
       "      <th>2</th>\n",
       "      <td>Btag deltaE</td>\n",
       "      <td>59644</td>\n",
       "      <td>16193</td>\n",
       "      <td>0.047961</td>\n",
       "      <td>0.271494</td>\n",
       "      <td>0.196985</td>\n",
       "    </tr>\n",
       "    <tr>\n",
       "      <th>3</th>\n",
       "      <td>foxWolframR2</td>\n",
       "      <td>190977</td>\n",
       "      <td>36410</td>\n",
       "      <td>0.153569</td>\n",
       "      <td>0.190651</td>\n",
       "      <td>0.137959</td>\n",
       "    </tr>\n",
       "    <tr>\n",
       "      <th>4</th>\n",
       "      <td>Dst_pt</td>\n",
       "      <td>197604</td>\n",
       "      <td>38952</td>\n",
       "      <td>0.158898</td>\n",
       "      <td>0.197122</td>\n",
       "      <td>0.142507</td>\n",
       "    </tr>\n",
       "    <tr>\n",
       "      <th>5</th>\n",
       "      <td>lep_pt</td>\n",
       "      <td>69156</td>\n",
       "      <td>27150</td>\n",
       "      <td>0.055610</td>\n",
       "      <td>0.392591</td>\n",
       "      <td>0.366722</td>\n",
       "    </tr>\n",
       "    <tr>\n",
       "      <th>6</th>\n",
       "      <td>D0 mass</td>\n",
       "      <td>3816</td>\n",
       "      <td>578</td>\n",
       "      <td>0.003069</td>\n",
       "      <td>0.151468</td>\n",
       "      <td>0.096698</td>\n",
       "    </tr>\n",
       "    <tr>\n",
       "      <th>7</th>\n",
       "      <td>Dst mass</td>\n",
       "      <td>19650</td>\n",
       "      <td>3316</td>\n",
       "      <td>0.015801</td>\n",
       "      <td>0.168753</td>\n",
       "      <td>0.108855</td>\n",
       "    </tr>\n",
       "    <tr>\n",
       "      <th>8</th>\n",
       "      <td>hadr. Btag</td>\n",
       "      <td>121124</td>\n",
       "      <td>25762</td>\n",
       "      <td>0.097399</td>\n",
       "      <td>0.212691</td>\n",
       "      <td>0.155205</td>\n",
       "    </tr>\n",
       "    <tr>\n",
       "      <th>9</th>\n",
       "      <td>HcSigProb&gt;0.01</td>\n",
       "      <td>72130</td>\n",
       "      <td>14511</td>\n",
       "      <td>0.058002</td>\n",
       "      <td>0.201178</td>\n",
       "      <td>0.150589</td>\n",
       "    </tr>\n",
       "    <tr>\n",
       "      <th>10</th>\n",
       "      <td>SigProb&gt;0.1</td>\n",
       "      <td>16074</td>\n",
       "      <td>4667</td>\n",
       "      <td>0.012926</td>\n",
       "      <td>0.290345</td>\n",
       "      <td>0.224835</td>\n",
       "    </tr>\n",
       "  </tbody>\n",
       "</table>\n",
       "</div>"
      ],
      "text/plain": [
       "          cut_name  N tagged evts  N tagged signal evts  efficiency  \\\n",
       "0          no cuts         197986                 38989    0.159206   \n",
       "1         Btag Mbc         153266                 31561    0.123245   \n",
       "2      Btag deltaE          59644                 16193    0.047961   \n",
       "3     foxWolframR2         190977                 36410    0.153569   \n",
       "4           Dst_pt         197604                 38952    0.158898   \n",
       "5           lep_pt          69156                 27150    0.055610   \n",
       "6          D0 mass           3816                   578    0.003069   \n",
       "7         Dst mass          19650                  3316    0.015801   \n",
       "8       hadr. Btag         121124                 25762    0.097399   \n",
       "9   HcSigProb>0.01          72130                 14511    0.058002   \n",
       "10     SigProb>0.1          16074                  4667    0.012926   \n",
       "\n",
       "    purity_Dst  purity_DstAndLep  \n",
       "0     0.196928          0.142318  \n",
       "1     0.205923          0.160035  \n",
       "2     0.271494          0.196985  \n",
       "3     0.190651          0.137959  \n",
       "4     0.197122          0.142507  \n",
       "5     0.392591          0.366722  \n",
       "6     0.151468          0.096698  \n",
       "7     0.168753          0.108855  \n",
       "8     0.212691          0.155205  \n",
       "9     0.201178          0.150589  \n",
       "10    0.290345          0.224835  "
      ]
     },
     "execution_count": 70,
     "metadata": {},
     "output_type": "execute_result"
    }
   ],
   "source": [
    "eff_and_pur"
   ]
  },
  {
   "cell_type": "code",
   "execution_count": 71,
   "id": "8883526f",
   "metadata": {},
   "outputs": [
    {
     "data": {
      "text/plain": [
       "11"
      ]
     },
     "execution_count": 71,
     "metadata": {},
     "output_type": "execute_result"
    }
   ],
   "source": [
    "eff_and_pur.shape[0]"
   ]
  },
  {
   "cell_type": "code",
   "execution_count": 72,
   "id": "f5504805",
   "metadata": {},
   "outputs": [
    {
     "data": {
      "text/plain": [
       "0            no cuts\n",
       "1           Btag Mbc\n",
       "2        Btag deltaE\n",
       "3       foxWolframR2\n",
       "4             Dst_pt\n",
       "5             lep_pt\n",
       "6            D0 mass\n",
       "7           Dst mass\n",
       "8         hadr. Btag\n",
       "9     HcSigProb>0.01\n",
       "10       SigProb>0.1\n",
       "Name: cut_name, dtype: object"
      ]
     },
     "execution_count": 72,
     "metadata": {},
     "output_type": "execute_result"
    }
   ],
   "source": [
    "eff_and_pur.cut_name"
   ]
  },
  {
   "cell_type": "code",
   "execution_count": 73,
   "id": "a8d54712",
   "metadata": {
    "scrolled": false
   },
   "outputs": [
    {
     "data": {
      "image/png": "[encoded data removed]",
      "text/plain": [
       "<Figure size 1512x648 with 1 Axes>"
      ]
     },
     "metadata": {
      "needs_background": "light"
     },
     "output_type": "display_data"
    }
   ],
   "source": [
    "plt.rcParams[\"figure.figsize\"] = (21,9)\n",
    "plt.rcParams.update({'font.size': 14})\n",
    "\n",
    "ind = np.arange(eff_and_pur.shape[0])\n",
    "width = 0.2 \n",
    "shift = 0.25\n",
    "\n",
    "plt.title(\"All cuts applied independently\",fontsize=24)\n",
    "plt.bar(ind -shift, eff_and_pur['efficiency'], width, label='efficiency')\n",
    "plt.bar(ind +0.0, eff_and_pur['purity_Dst'], width, label='purity Dstlnu')\n",
    "plt.bar(ind +shift, eff_and_pur['purity_DstAndLep'], width, label='purity Dstlnu + lep MC matching')\n",
    "plt.xticks((ind + width / 2)-width, eff_and_pur.cut_name) \n",
    "plt.yscale('log')\n",
    "plt.ylim(ymax = 1, ymin = 0.001)\n",
    "plt.legend()\n",
    "plt.grid(axis='y')\n",
    "\n",
    "plt.savefig('plots/efficiency_and_purity_singleCuts.pdf')\n",
    "#plt.show()"
   ]
  },
  {
   "cell_type": "markdown",
   "id": "9f28b778",
   "metadata": {},
   "source": [
    "## all cuts adding up"
   ]
  },
  {
   "cell_type": "code",
   "execution_count": 74,
   "id": "e415ce77",
   "metadata": {},
   "outputs": [],
   "source": [
    "cut_names = []\n",
    "effs=[]\n",
    "N_pure=[]\n",
    "N_selec=[]\n",
    "purities_Dstlnu=[]\n",
    "purities_DstAndLep=[]\n",
    "#######################################\n",
    "cut_names.append(\"no cuts\")\n",
    "cut_df = BCS_df\n",
    "\n",
    "effs, purities_Dstlnu, purities_DstAndLep, N_pure, N_selec = append_lists(cut_df, effs, \n",
    "                        purities_Dstlnu, purities_DstAndLep, N_pure, N_selec)\n",
    "#######################################\n",
    "#######################################\n",
    "cut_names.append(\"Btag Mbc\")\n",
    "\n",
    "cut_df = cut_df[cut_df.dau0_Mbc > dau0_Mbc_lower]\n",
    "effs, purities_Dstlnu, purities_DstAndLep, N_pure, N_selec = append_lists(cut_df, effs, \n",
    "                        purities_Dstlnu, purities_DstAndLep, N_pure, N_selec)\n",
    "#######################################\n",
    "#######################################\n",
    "cut_names.append(\"Btag deltaE\")\n",
    "\n",
    "cut_df = cut_df[(cut_df.dau0_deltaE < dau0_deltaE_center + dau0_deltaE_lim) & \n",
    "                (cut_df.dau0_deltaE >  dau0_deltaE_center - dau0_deltaE_lim)]\n",
    "effs, purities_Dstlnu, purities_DstAndLep, N_pure, N_selec = append_lists(cut_df, effs, \n",
    "                        purities_Dstlnu, purities_DstAndLep, N_pure, N_selec)\n",
    "#######################################\n",
    "#######################################\n",
    "cut_names.append(\"foxWolframR2\")\n",
    "\n",
    "cut_df = cut_df[(cut_df.foxWolframR2 < foxWolframR2_lim)]\n",
    "effs, purities_Dstlnu, purities_DstAndLep, N_pure, N_selec = append_lists(cut_df, effs, \n",
    "                        purities_Dstlnu, purities_DstAndLep, N_pure, N_selec)\n",
    "#######################################\n",
    "#######################################\n",
    "cut_names.append(\"Dst_pt\")\n",
    "\n",
    "cut_df = cut_df[(cut_df.Dst_pt < Dst_pt_upper)]\n",
    "effs, purities_Dstlnu, purities_DstAndLep, N_pure, N_selec = append_lists(cut_df, effs, \n",
    "                        purities_Dstlnu, purities_DstAndLep, N_pure, N_selec)\n",
    "#######################################\n",
    "#######################################\n",
    "cut_names.append(\"lep_pt\")\n",
    "\n",
    "cut_df = cut_df[(cut_df.lep_pt > lep_pt_lower)]\n",
    "effs, purities_Dstlnu, purities_DstAndLep, N_pure, N_selec = append_lists(cut_df, effs, \n",
    "                        purities_Dstlnu, purities_DstAndLep, N_pure, N_selec)\n",
    "#######################################\n",
    "#######################################\n",
    "cut_names.append(\"D0 mass\")\n",
    "\n",
    "cut_df = cut_df[(cut_df.D_M > D_M_lower) & (cut_df.D_M < D_M_upper)]\n",
    "effs, purities_Dstlnu, purities_DstAndLep, N_pure, N_selec = append_lists(cut_df, effs, \n",
    "                        purities_Dstlnu, purities_DstAndLep, N_pure, N_selec)\n",
    "#######################################\n",
    "#######################################\n",
    "cut_names.append(\"Dst mass\")\n",
    "\n",
    "cut_df = cut_df[(cut_df.Dst_M > Dst_M_lower) & (cut_df.Dst_M < Dst_M_upper)]\n",
    "effs, purities_Dstlnu, purities_DstAndLep, N_pure, N_selec = append_lists(cut_df, effs, \n",
    "                        purities_Dstlnu, purities_DstAndLep, N_pure, N_selec)\n",
    "#######################################\n",
    "#######################################\n",
    "cut_names.append(\"fully hadr. Btag\")\n",
    "cut_df = cut_df[(cut_df.N_lep_Btag == 0)]\n",
    "effs, purities_Dstlnu, purities_DstAndLep, N_pure, N_selec = append_lists(cut_df, effs, \n",
    "                        purities_Dstlnu, purities_DstAndLep, N_pure, N_selec)\n",
    "#######################################"
   ]
  },
  {
   "cell_type": "code",
   "execution_count": 75,
   "id": "10a70981",
   "metadata": {},
   "outputs": [
    {
     "data": {
      "text/html": [
       "<div>\n",
       "<style scoped>\n",
       "    .dataframe tbody tr th:only-of-type {\n",
       "        vertical-align: middle;\n",
       "    }\n",
       "\n",
       "    .dataframe tbody tr th {\n",
       "        vertical-align: top;\n",
       "    }\n",
       "\n",
       "    .dataframe thead th {\n",
       "        text-align: right;\n",
       "    }\n",
       "</style>\n",
       "<table border=\"1\" class=\"dataframe\">\n",
       "  <thead>\n",
       "    <tr style=\"text-align: right;\">\n",
       "      <th></th>\n",
       "      <th>cut_name</th>\n",
       "      <th>N tagged evts</th>\n",
       "      <th>N tagged signal evts</th>\n",
       "      <th>efficiency</th>\n",
       "      <th>purity_Dst</th>\n",
       "      <th>purity_DstAndLep</th>\n",
       "    </tr>\n",
       "  </thead>\n",
       "  <tbody>\n",
       "    <tr>\n",
       "      <th>0</th>\n",
       "      <td>no cuts</td>\n",
       "      <td>197986</td>\n",
       "      <td>38989</td>\n",
       "      <td>0.159206</td>\n",
       "      <td>0.196928</td>\n",
       "      <td>0.142318</td>\n",
       "    </tr>\n",
       "    <tr>\n",
       "      <th>1</th>\n",
       "      <td>Btag Mbc</td>\n",
       "      <td>153266</td>\n",
       "      <td>31561</td>\n",
       "      <td>0.123245</td>\n",
       "      <td>0.205923</td>\n",
       "      <td>0.160035</td>\n",
       "    </tr>\n",
       "    <tr>\n",
       "      <th>2</th>\n",
       "      <td>Btag deltaE</td>\n",
       "      <td>46442</td>\n",
       "      <td>12805</td>\n",
       "      <td>0.037345</td>\n",
       "      <td>0.275720</td>\n",
       "      <td>0.216184</td>\n",
       "    </tr>\n",
       "    <tr>\n",
       "      <th>3</th>\n",
       "      <td>foxWolframR2</td>\n",
       "      <td>44684</td>\n",
       "      <td>11988</td>\n",
       "      <td>0.035932</td>\n",
       "      <td>0.268284</td>\n",
       "      <td>0.210791</td>\n",
       "    </tr>\n",
       "    <tr>\n",
       "      <th>4</th>\n",
       "      <td>Dst_pt</td>\n",
       "      <td>44620</td>\n",
       "      <td>11980</td>\n",
       "      <td>0.035880</td>\n",
       "      <td>0.268489</td>\n",
       "      <td>0.210959</td>\n",
       "    </tr>\n",
       "    <tr>\n",
       "      <th>5</th>\n",
       "      <td>lep_pt</td>\n",
       "      <td>19047</td>\n",
       "      <td>8980</td>\n",
       "      <td>0.015316</td>\n",
       "      <td>0.471465</td>\n",
       "      <td>0.446370</td>\n",
       "    </tr>\n",
       "    <tr>\n",
       "      <th>6</th>\n",
       "      <td>D0 mass</td>\n",
       "      <td>267</td>\n",
       "      <td>112</td>\n",
       "      <td>0.000215</td>\n",
       "      <td>0.419476</td>\n",
       "      <td>0.382022</td>\n",
       "    </tr>\n",
       "    <tr>\n",
       "      <th>7</th>\n",
       "      <td>Dst mass</td>\n",
       "      <td>172</td>\n",
       "      <td>83</td>\n",
       "      <td>0.000138</td>\n",
       "      <td>0.482558</td>\n",
       "      <td>0.447674</td>\n",
       "    </tr>\n",
       "    <tr>\n",
       "      <th>8</th>\n",
       "      <td>fully hadr. Btag</td>\n",
       "      <td>99</td>\n",
       "      <td>52</td>\n",
       "      <td>0.000080</td>\n",
       "      <td>0.525253</td>\n",
       "      <td>0.474747</td>\n",
       "    </tr>\n",
       "  </tbody>\n",
       "</table>\n",
       "</div>"
      ],
      "text/plain": [
       "           cut_name  N tagged evts  N tagged signal evts  efficiency  \\\n",
       "0           no cuts         197986                 38989    0.159206   \n",
       "1          Btag Mbc         153266                 31561    0.123245   \n",
       "2       Btag deltaE          46442                 12805    0.037345   \n",
       "3      foxWolframR2          44684                 11988    0.035932   \n",
       "4            Dst_pt          44620                 11980    0.035880   \n",
       "5            lep_pt          19047                  8980    0.015316   \n",
       "6           D0 mass            267                   112    0.000215   \n",
       "7          Dst mass            172                    83    0.000138   \n",
       "8  fully hadr. Btag             99                    52    0.000080   \n",
       "\n",
       "   purity_Dst  purity_DstAndLep  \n",
       "0    0.196928          0.142318  \n",
       "1    0.205923          0.160035  \n",
       "2    0.275720          0.216184  \n",
       "3    0.268284          0.210791  \n",
       "4    0.268489          0.210959  \n",
       "5    0.471465          0.446370  \n",
       "6    0.419476          0.382022  \n",
       "7    0.482558          0.447674  \n",
       "8    0.525253          0.474747  "
      ]
     },
     "execution_count": 75,
     "metadata": {},
     "output_type": "execute_result"
    }
   ],
   "source": [
    "eff_and_pur_addingUp = pd.DataFrame({'cut_name' : cut_names,\n",
    "                            'N tagged evts' : N_selec,\n",
    "                            'N tagged signal evts' : N_pure,\n",
    "                           'efficiency' : effs,\n",
    "                           'purity_Dst' : purities_Dstlnu,\n",
    "                           'purity_DstAndLep' : purities_DstAndLep})\n",
    "eff_and_pur_addingUp"
   ]
  },
  {
   "cell_type": "code",
   "execution_count": 76,
   "id": "b8507478",
   "metadata": {},
   "outputs": [
    {
     "data": {
      "text/plain": [
       "0             no cuts\n",
       "1            Btag Mbc\n",
       "2         Btag deltaE\n",
       "3        foxWolframR2\n",
       "4              Dst_pt\n",
       "5              lep_pt\n",
       "6             D0 mass\n",
       "7            Dst mass\n",
       "8    fully hadr. Btag\n",
       "Name: cut_name, dtype: object"
      ]
     },
     "execution_count": 76,
     "metadata": {},
     "output_type": "execute_result"
    }
   ],
   "source": [
    "eff_and_pur_addingUp[\"cut_name\"]"
   ]
  },
  {
   "cell_type": "code",
   "execution_count": 77,
   "id": "d6fe42fd",
   "metadata": {},
   "outputs": [
    {
     "data": {
      "image/png": "[encoded data removed]",
      "text/plain": [
       "<Figure size 1512x648 with 1 Axes>"
      ]
     },
     "metadata": {
      "needs_background": "light"
     },
     "output_type": "display_data"
    }
   ],
   "source": [
    "plt.rcParams[\"figure.figsize\"] = (21,9)\n",
    "plt.rcParams.update({'font.size': 14})\n",
    "\n",
    "ind = np.arange(eff_and_pur_addingUp.shape[0])\n",
    "width = 0.2\n",
    "shift = 0.25\n",
    "\n",
    "plt.title(\"All cuts applied subsequently\",fontsize=24)\n",
    "\n",
    "plt.bar(ind -shift, eff_and_pur_addingUp['efficiency'], width, label='efficiency')\n",
    "plt.bar(ind +0.0, eff_and_pur_addingUp['purity_Dst'], width, label='purity Dstlnu')\n",
    "plt.bar(ind +shift, eff_and_pur_addingUp['purity_DstAndLep'], width, label='purity Dstlnu + lep MC matching')\n",
    "plt.xticks((ind + width / 2)-width, eff_and_pur_addingUp.cut_name) \n",
    "plt.yscale('log')\n",
    "plt.ylim(ymax = 1, ymin = 0.00001)\n",
    "plt.grid(axis='y')\n",
    "\n",
    "plt.legend()\n",
    "plt.savefig('plots/efficiency_and_purity_stackedCuts.pdf')\n",
    "#plt.show()"
   ]
  },
  {
   "cell_type": "code",
   "execution_count": 79,
   "id": "843314a8",
   "metadata": {},
   "outputs": [],
   "source": [
    "plot_vars=[\"dau0_Mbc\",\"dau0_deltaE\",\"foxWolframR2\",\"Dst_pt\",\"lep_pt\",\"D_M\",\"Dst_M\",\"N_lep_Btag\"]"
   ]
  },
  {
   "cell_type": "code",
   "execution_count": 80,
   "id": "1be32842",
   "metadata": {},
   "outputs": [],
   "source": [
    "bins_dict = {\n",
    "    \"dau0_Mbc\":  np.linspace(4, 5.5, 40),\n",
    "    \"dau0_deltaE\":   np.linspace(-5, 5, 40),\n",
    "    \"foxWolframR2\":   np.linspace(0, 0.5, 40),\n",
    "    \"Dst_pt\":   np.linspace(0, 3, 40),\n",
    "    \"lep_pt\":   np.linspace(0, 3, 40),\n",
    "    \"D_M\":   np.linspace(0, 4, 40),\n",
    "    \"Dst_M\":   np.linspace(0, 4, 40),\n",
    "    \"N_lep_Btag\":   np.linspace(0, 5, 6)\n",
    "    }"
   ]
  },
  {
   "cell_type": "code",
   "execution_count": 81,
   "id": "ae4f7f4b",
   "metadata": {
    "scrolled": true
   },
   "outputs": [
    {
     "name": "stdout",
     "output_type": "stream",
     "text": [
      "0 0 dau0_Mbc\n",
      "1 0 dau0_deltaE\n",
      "2 0 foxWolframR2\n",
      "3 0 Dst_pt\n",
      "0 1 lep_pt\n",
      "1 1 D_M\n",
      "2 1 Dst_M\n",
      "3 1 N_lep_Btag\n"
     ]
    },
    {
     "data": {
      "image/png": "[encoded data removed]",
      "text/plain": [
       "<Figure size 1728x864 with 8 Axes>"
      ]
     },
     "metadata": {
      "needs_background": "light"
     },
     "output_type": "display_data"
    }
   ],
   "source": [
    "dim_x = 4\n",
    "fig, axs = plt.subplots(dim_x, 2)\n",
    "fig.set_size_inches(24, 12)\n",
    "font_size=8\n",
    "plt.rcParams.update({'font.size': font_size})\n",
    "\n",
    "mcTruth_df = BCS_df[BCS_df[\"lep_MC_truth\"] == 1]\n",
    "mcBG_df = BCS_df[BCS_df[\"lep_MC_truth\"] == 0]\n",
    "\n",
    "for i, var in enumerate(plot_vars):\n",
    "    \n",
    "    idx=i % dim_x\n",
    "    idy=math.floor(i/dim_x)\n",
    "    print(idx, idy, var)\n",
    "    \n",
    "    ax = axs[idx, idy]   \n",
    "    \n",
    "    bins = bins_dict[var]\n",
    "    ax.set_title(f'{var}')\n",
    "\n",
    "    #ax.set_xlabel(r'number of wrong predictions per event')\n",
    "    ax.set_ylabel(\"events per bin\",fontsize=font_size)\n",
    "    \n",
    "\n",
    "    \n",
    "    #plt.xticks(np.arange(0, num_steps, step=1))\n",
    "    ax.hist([mcTruth_df[var],mcBG_df[var]], bins, stacked=True, density=False, alpha=1,\n",
    "           label=[\"MC truth\",\"background\"])\n",
    "    \n",
    "\n",
    "    \n",
    "    ax.tick_params(axis='both', which='major', labelsize=font_size)\n",
    "    ax.tick_params(axis='both', which='minor', labelsize=font_size)\n",
    "\n",
    "    ax.legend(loc='upper right')\n",
    "\n",
    "    #plt.grid()\n",
    "\n",
    "plt.savefig('plots/efficiency_and_purity_variablesDistris.pdf')"
   ]
  },
  {
   "cell_type": "code",
   "execution_count": 82,
   "id": "9da1768c",
   "metadata": {},
   "outputs": [],
   "source": [
    "BCS_df[\"Ds_massDifference\"] = BCS_df[\"Dst_M\"] - BCS_df[\"D_M\"]\n",
    "\n",
    "mcTruth_df = BCS_df[BCS_df[\"lep_MC_truth\"] == 1]\n",
    "mcBG_df = BCS_df[BCS_df[\"lep_MC_truth\"] == 0]"
   ]
  },
  {
   "cell_type": "markdown",
   "id": "ed0953ca",
   "metadata": {},
   "source": [
    "## look at D mass for different decay modes of D0"
   ]
  },
  {
   "cell_type": "code",
   "execution_count": 85,
   "id": "899395cc",
   "metadata": {},
   "outputs": [
    {
     "data": {
      "text/plain": [
       "21001.0    125577\n",
       "21003.0     67593\n",
       "21002.0      3047\n",
       "21004.0      1769\n",
       "Name: D_decayModeID, dtype: int64"
      ]
     },
     "execution_count": 85,
     "metadata": {},
     "output_type": "execute_result"
    }
   ],
   "source": [
    "BCS_df[\"D_decayModeID\"].value_counts()"
   ]
  },
  {
   "cell_type": "code",
   "execution_count": 88,
   "id": "868e4761",
   "metadata": {
    "scrolled": true
   },
   "outputs": [
    {
     "data": {
      "text/plain": [
       "array([[<AxesSubplot:title={'center':'21001.0'}>,\n",
       "        <AxesSubplot:title={'center':'21002.0'}>],\n",
       "       [<AxesSubplot:title={'center':'21003.0'}>,\n",
       "        <AxesSubplot:title={'center':'21004.0'}>]], dtype=object)"
      ]
     },
     "execution_count": 88,
     "metadata": {},
     "output_type": "execute_result"
    },
    {
     "data": {
      "image/png": "[encoded data removed]",
      "text/plain": [
       "<Figure size 1512x648 with 4 Axes>"
      ]
     },
     "metadata": {
      "needs_background": "light"
     },
     "output_type": "display_data"
    }
   ],
   "source": [
    "bins = np.linspace(0, 5, 50)\n",
    "BCS_df.hist(\"D_M\", by = \"D_decayModeID\", bins=bins)"
   ]
  },
  {
   "cell_type": "code",
   "execution_count": 87,
   "id": "c9f72289",
   "metadata": {},
   "outputs": [],
   "source": [
    "#D0:kpi  -> dmID=21001\n",
    "#D0:kpipipi -> dmID=21002\n",
    "#D0:kpipi0 -> dmID=21003\n",
    "#D0:kpipipipi0 -> dmID=21004"
   ]
  },
  {
   "cell_type": "code",
   "execution_count": 100,
   "id": "2f7bddc4",
   "metadata": {},
   "outputs": [],
   "source": [
    "Dmode_dict = {\n",
    "    21001.0: \"K $\\pi$\",\n",
    "    21003.0: \"K 3$\\pi$\",\n",
    "    21002.0: \"K $\\pi$ $\\pi^0$\",\n",
    "    21004.0: \"K 3$\\pi$ $\\pi^0$\"\n",
    "}"
   ]
  },
  {
   "cell_type": "code",
   "execution_count": 101,
   "id": "c77a33a9",
   "metadata": {},
   "outputs": [
    {
     "name": "stdout",
     "output_type": "stream",
     "text": [
      "0 0 D_M\n",
      "1 0 D_M\n",
      "0 1 D_M\n",
      "1 1 D_M\n"
     ]
    },
    {
     "data": {
      "image/png": "[encoded data removed]",
      "text/plain": [
       "<Figure size 1728x864 with 4 Axes>"
      ]
     },
     "metadata": {
      "needs_background": "light"
     },
     "output_type": "display_data"
    }
   ],
   "source": [
    "dim_x = 2\n",
    "fig, axs = plt.subplots(dim_x, 2)\n",
    "fig.set_size_inches(24, 12)\n",
    "font_size=8\n",
    "plt.rcParams.update({'font.size': font_size})\n",
    "\n",
    "mcTruth_df = BCS_df[BCS_df[\"lep_MC_truth\"] == 1]\n",
    "mcBG_df = BCS_df[BCS_df[\"lep_MC_truth\"] == 0]\n",
    "\n",
    "D_modes=[21001.0, 21003.0, 21002.0, 21004.0]\n",
    "\n",
    "for i, Dmode in enumerate(D_modes):\n",
    "    \n",
    "    var = \"D_M\"\n",
    "    \n",
    "    idx=i % dim_x\n",
    "    idy=math.floor(i/dim_x)\n",
    "    print(idx, idy, var)\n",
    "    \n",
    "    ax = axs[idx, idy]   \n",
    "    \n",
    "    bins = np.linspace(0, 4, 50)\n",
    "    ax.set_title(f'{Dmode_dict[Dmode]}')\n",
    "\n",
    "    #ax.set_xlabel(r'number of wrong predictions per event')\n",
    "    ax.set_ylabel(\"events per bin\",fontsize=font_size)\n",
    "    \n",
    "    mcTruth_df_Dmode = mcTruth_df[mcTruth_df[\"D_decayModeID\"] == Dmode]\n",
    "    mcBG_df_Dmode = mcBG_df[mcBG_df[\"D_decayModeID\"] == Dmode]\n",
    "    \n",
    "    D0_mass = 1.86483\n",
    "    ax.axvline(x=D0_mass, color='r', label='$m_{D^0}$ - PDG value')\n",
    "    \n",
    "    \n",
    "    #plt.xticks(np.arange(0, num_steps, step=1))\n",
    "    ax.hist([mcTruth_df_Dmode[var],mcBG_df_Dmode[var]], bins, stacked=True, density=False, alpha=1,\n",
    "           label=[\"MC truth\",\"background\"])\n",
    "    \n",
    "\n",
    "    \n",
    "    ax.tick_params(axis='both', which='major', labelsize=font_size)\n",
    "    ax.tick_params(axis='both', which='minor', labelsize=font_size)\n",
    "\n",
    "    ax.legend(loc='upper right')\n",
    "\n",
    "    #plt.grid()\n",
    "\n",
    "plt.savefig('plots/Dmass_per_decayMode.pdf')"
   ]
  },
  {
   "cell_type": "markdown",
   "id": "64ad0747",
   "metadata": {},
   "source": [
    "## plot mass difference D* - D0"
   ]
  },
  {
   "cell_type": "code",
   "execution_count": 67,
   "id": "ee93e2cb",
   "metadata": {},
   "outputs": [
    {
     "data": {
      "image/png": "[encoded data removed]",
      "text/plain": [
       "<Figure size 576x360 with 1 Axes>"
      ]
     },
     "metadata": {
      "needs_background": "light"
     },
     "output_type": "display_data"
    }
   ],
   "source": [
    "fig, ax = plt.subplots()\n",
    "#fig.suptitle(r'$D^*$ - $D^0$ mass')\n",
    "\n",
    "bins = np.linspace(0, 2, 50)\n",
    "\n",
    "fig.set_size_inches(8, 5)\n",
    "\n",
    "ax.set_xlabel(r'$m_{D^*}$ - $m_{D^0}$ in GeV')\n",
    "ax.set_ylabel(r'number of events')\n",
    "\n",
    "\n",
    "massDiff = 2.01026 - 1.86483 # D*+ - D0 mass\n",
    "plt.axvline(x=massDiff, color='r', label='$m_{D^*}$ - $m_{D^0}$ - PDG values')\n",
    "\n",
    "ax.hist([mcTruth_df[\"Ds_massDifference\"],mcBG_df[\"Ds_massDifference\"]], bins, stacked=True, density=False, alpha=1,\n",
    "       label=[\"MC truth\",\"background\"])\n",
    "\n",
    "\n",
    "\n",
    "ax.legend(loc='upper right')\n",
    "\n",
    "#plt.grid()\n",
    "\n",
    "\n",
    "plt.savefig('plots/Dst_D_massDifference.pdf')"
   ]
  },
  {
   "cell_type": "code",
   "execution_count": 39,
   "id": "c5b9c33e",
   "metadata": {},
   "outputs": [
    {
     "name": "stdout",
     "output_type": "stream",
     "text": [
      "end reached\n"
     ]
    }
   ],
   "source": [
    "print(\"end reached\")"
   ]
  },
  {
   "cell_type": "code",
   "execution_count": null,
   "id": "151911ac",
   "metadata": {},
   "outputs": [],
   "source": []
  }
 ],
 "metadata": {
  "kernelspec": {
   "display_name": "Python 3",
   "language": "python",
   "name": "python3"
  },
  "language_info": {
   "codemirror_mode": {
    "name": "ipython",
    "version": 3
   },
   "file_extension": ".py",
   "mimetype": "text/x-python",
   "name": "python",
   "nbconvert_exporter": "python",
   "pygments_lexer": "ipython3",
   "version": "3.6.8"
  }
 },
 "nbformat": 4,
 "nbformat_minor": 5
}
