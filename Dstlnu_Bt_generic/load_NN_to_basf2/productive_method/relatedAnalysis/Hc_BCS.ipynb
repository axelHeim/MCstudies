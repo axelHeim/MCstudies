{
 "cells": [
  {
   "cell_type": "code",
   "execution_count": 1,
   "metadata": {},
   "outputs": [],
   "source": [
    "import matplotlib.pyplot as plt\n",
    "import uproot\n",
    "import numpy as np\n",
    "import pandas as pd\n",
    "import matplotlib as mpl"
   ]
  },
  {
   "cell_type": "code",
   "execution_count": 2,
   "metadata": {},
   "outputs": [],
   "source": [
    "nfs_path = \"/nfs/dust/belle2/user/axelheim/MC_studies/Dstlnu_Bt_generic/check_Hc_BCS/1stRun/\""
   ]
  },
  {
   "cell_type": "code",
   "execution_count": 3,
   "metadata": {},
   "outputs": [],
   "source": [
    "Hc_file = uproot.open(nfs_path + \"allHc.root:variables;1\")\n",
    "df_Hc = Hc_file.arrays(library=\"pd\")"
   ]
  },
  {
   "cell_type": "code",
   "execution_count": 19,
   "metadata": {},
   "outputs": [
    {
     "data": {
      "text/plain": [
       "129347"
      ]
     },
     "execution_count": 19,
     "metadata": {},
     "output_type": "execute_result"
    }
   ],
   "source": [
    "df_Hc.shape[0]"
   ]
  },
  {
   "cell_type": "code",
   "execution_count": 21,
   "metadata": {},
   "outputs": [
    {
     "data": {
      "text/plain": [
       "11917"
      ]
     },
     "execution_count": 21,
     "metadata": {},
     "output_type": "execute_result"
    }
   ],
   "source": [
    "df_Hc[\"__event__\"].nunique()"
   ]
  },
  {
   "cell_type": "code",
   "execution_count": 22,
   "metadata": {},
   "outputs": [
    {
     "name": "stdout",
     "output_type": "stream",
     "text": [
      "Hc candidates per event: 10.85\n"
     ]
    }
   ],
   "source": [
    "print(\"Hc candidates per event:\", round(df_Hc.shape[0]/df_Hc[\"__event__\"].nunique(),2))"
   ]
  },
  {
   "cell_type": "markdown",
   "metadata": {},
   "source": [
    "## save df"
   ]
  },
  {
   "cell_type": "code",
   "execution_count": 40,
   "metadata": {},
   "outputs": [],
   "source": [
    "df_Hc.to_csv(nfs_path + \"df_Hc.csv\")"
   ]
  },
  {
   "cell_type": "markdown",
   "metadata": {},
   "source": [
    "## load df"
   ]
  },
  {
   "cell_type": "code",
   "execution_count": 6,
   "metadata": {},
   "outputs": [],
   "source": [
    "df_Hc = pd.read_csv(nfs_path + \"df_Hc.csv\")"
   ]
  },
  {
   "cell_type": "markdown",
   "metadata": {},
   "source": [
    "## add labels"
   ]
  },
  {
   "cell_type": "code",
   "execution_count": 5,
   "metadata": {},
   "outputs": [],
   "source": [
    "def hasBmother(s):\n",
    "    hasBmother = 0\n",
    "\n",
    "    abs_motherPDG = int(abs(s[\"genMotherPDG\"]))\n",
    "    \n",
    "    if abs_motherPDG == 511:\n",
    "        hasBmother = 1\n",
    "    return hasBmother\n",
    "\n",
    "df_Hc['hasBmother'] = df_Hc.apply(hasBmother, axis=1)"
   ]
  },
  {
   "cell_type": "code",
   "execution_count": 14,
   "metadata": {},
   "outputs": [],
   "source": [
    "def hasBmother_and_isSig(s):\n",
    "    hasBmother_and_isSig = 0\n",
    "\n",
    "    if s[\"hasBmother\"] == 1 and s[\"isSignalAcceptMissingNeutrino\"] == 1:\n",
    "        hasBmother_and_isSig = 1\n",
    "    \n",
    "    return hasBmother_and_isSig\n",
    "\n",
    "df_Hc['hasBmother_and_isSig'] = df_Hc.apply(hasBmother_and_isSig, axis=1)"
   ]
  },
  {
   "cell_type": "markdown",
   "metadata": {},
   "source": [
    "# Analysis"
   ]
  },
  {
   "cell_type": "code",
   "execution_count": 15,
   "metadata": {
    "scrolled": false
   },
   "outputs": [
    {
     "data": {
      "text/plain": [
       "array([<AxesSubplot:title={'center':'0'}>,\n",
       "       <AxesSubplot:title={'center':'1'}>], dtype=object)"
      ]
     },
     "execution_count": 15,
     "metadata": {},
     "output_type": "execute_result"
    },
    {
     "data": {
      "image/png": "[encoded data removed]",
      "text/plain": [
       "<Figure size 864x288 with 2 Axes>"
      ]
     },
     "metadata": {
      "needs_background": "light"
     },
     "output_type": "display_data"
    }
   ],
   "source": [
    "df_Hc.hist(\"sigProb\", bins=100, figsize=(12,4), by=\"hasBmother_and_isSig\")"
   ]
  },
  {
   "cell_type": "code",
   "execution_count": 7,
   "metadata": {
    "scrolled": false
   },
   "outputs": [
    {
     "data": {
      "text/plain": [
       "array([<AxesSubplot:title={'center':'0'}>,\n",
       "       <AxesSubplot:title={'center':'1'}>], dtype=object)"
      ]
     },
     "execution_count": 7,
     "metadata": {},
     "output_type": "execute_result"
    },
    {
     "data": {
      "image/png": "[encoded data removed]",
      "text/plain": [
       "<Figure size 864x288 with 2 Axes>"
      ]
     },
     "metadata": {
      "needs_background": "light"
     },
     "output_type": "display_data"
    }
   ],
   "source": [
    "df_Hc.hist(\"sigProb\", bins=100, figsize=(12,4), by=\"hasBmother\")"
   ]
  },
  {
   "cell_type": "code",
   "execution_count": 8,
   "metadata": {},
   "outputs": [
    {
     "data": {
      "text/plain": [
       "array([<AxesSubplot:title={'center':'0'}>,\n",
       "       <AxesSubplot:title={'center':'1'}>], dtype=object)"
      ]
     },
     "execution_count": 8,
     "metadata": {},
     "output_type": "execute_result"
    },
    {
     "data": {
      "image/png": "[encoded data removed]",
      "text/plain": [
       "<Figure size 864x288 with 2 Axes>"
      ]
     },
     "metadata": {
      "needs_background": "light"
     },
     "output_type": "display_data"
    }
   ],
   "source": [
    "df_Hc.hist(\"isSignalAcceptMissingNeutrino\", bins=100, figsize=(12,4), by=\"hasBmother\")"
   ]
  },
  {
   "cell_type": "code",
   "execution_count": 9,
   "metadata": {
    "scrolled": true
   },
   "outputs": [
    {
     "data": {
      "text/plain": [
       " 0.0         101607\n",
       " 300553.0     20222\n",
       "-413.0         1802\n",
       " 413.0         1783\n",
       "-511.0         1698\n",
       " 511.0         1645\n",
       "-423.0          149\n",
       " 423.0          140\n",
       "-433.0           40\n",
       " 415.0           32\n",
       " 433.0           28\n",
       " 10413.0         23\n",
       "-10431.0         23\n",
       "-415.0           19\n",
       " 10431.0         19\n",
       " 20413.0         14\n",
       "-10413.0         13\n",
       "-20413.0          9\n",
       " 4112.0           9\n",
       " 100443.0         8\n",
       " 10411.0          8\n",
       " 4212.0           7\n",
       "-4212.0           6\n",
       "-10411.0          6\n",
       " 30443.0          6\n",
       " 20443.0          5\n",
       " 20433.0          4\n",
       "-4214.0           3\n",
       "-4114.0           3\n",
       " 4222.0           2\n",
       "-20433.0          2\n",
       " 10433.0          2\n",
       "-4314.0           1\n",
       " 4314.0           1\n",
       " 4114.0           1\n",
       " 4224.0           1\n",
       " 441.0            1\n",
       " 4214.0           1\n",
       "-421.0            1\n",
       " 421.0            1\n",
       "-4112.0           1\n",
       "-4222.0           1\n",
       "Name: genMotherPDG, dtype: int64"
      ]
     },
     "execution_count": 9,
     "metadata": {},
     "output_type": "execute_result"
    }
   ],
   "source": [
    "df_Hc[\"genMotherPDG\"].value_counts()"
   ]
  },
  {
   "cell_type": "code",
   "execution_count": 10,
   "metadata": {},
   "outputs": [
    {
     "data": {
      "text/plain": [
       "0.0    111089\n",
       "1.0      5468\n",
       "Name: isSignalAcceptMissingNeutrino, dtype: int64"
      ]
     },
     "execution_count": 10,
     "metadata": {},
     "output_type": "execute_result"
    }
   ],
   "source": [
    "df_Hc[\"isSignalAcceptMissingNeutrino\"].value_counts()"
   ]
  },
  {
   "cell_type": "code",
   "execution_count": 11,
   "metadata": {
    "scrolled": true
   },
   "outputs": [
    {
     "data": {
      "text/plain": [
       "0    126004\n",
       "1      3343\n",
       "Name: hasBmother, dtype: int64"
      ]
     },
     "execution_count": 11,
     "metadata": {},
     "output_type": "execute_result"
    }
   ],
   "source": [
    "df_Hc[\"hasBmother\"].value_counts()"
   ]
  },
  {
   "cell_type": "code",
   "execution_count": 16,
   "metadata": {
    "scrolled": true
   },
   "outputs": [
    {
     "data": {
      "text/plain": [
       "0    127142\n",
       "1      2205\n",
       "Name: hasBmother_and_isSig, dtype: int64"
      ]
     },
     "execution_count": 16,
     "metadata": {},
     "output_type": "execute_result"
    }
   ],
   "source": [
    "df_Hc[\"hasBmother_and_isSig\"].value_counts()"
   ]
  },
  {
   "cell_type": "code",
   "execution_count": 12,
   "metadata": {
    "scrolled": true
   },
   "outputs": [
    {
     "data": {
      "text/plain": [
       " 300553.0    88817\n",
       " 511.0       10135\n",
       "-511.0       10087\n",
       " 421.0        1644\n",
       "-421.0        1625\n",
       " 413.0        1030\n",
       "-413.0         998\n",
       "-411.0         812\n",
       " 411.0         774\n",
       "-431.0          97\n",
       " 431.0          93\n",
       " 443.0          65\n",
       "-423.0          37\n",
       " 4122.0         30\n",
       " 423.0          30\n",
       " 10413.0        28\n",
       "-10413.0        25\n",
       " 415.0          24\n",
       "-20413.0        21\n",
       "-415.0          20\n",
       "-4122.0         18\n",
       " 441.0          18\n",
       " 100441.0       15\n",
       " 30443.0        13\n",
       " 20413.0        11\n",
       "-10411.0         9\n",
       " 20443.0         9\n",
       " 433.0           7\n",
       " 10441.0         6\n",
       " 10431.0         6\n",
       "-10431.0         5\n",
       " 100443.0        5\n",
       " 20213.0         5\n",
       "-20433.0         4\n",
       "-433.0           3\n",
       "-20213.0         3\n",
       "-44.0            3\n",
       " 10433.0         3\n",
       " 4132.0          2\n",
       " 20433.0         2\n",
       "-10433.0         2\n",
       " 10411.0         2\n",
       " 20113.0         2\n",
       " 10313.0         1\n",
       " 445.0           1\n",
       " 113.0           1\n",
       " 100323.0        1\n",
       "-4132.0          1\n",
       "-4332.0          1\n",
       " 335.0           1\n",
       "-2212.0          1\n",
       " 44.0            1\n",
       "-213.0           1\n",
       "-4112.0          1\n",
       " 4112.0          1\n",
       "Name: mcPDG, dtype: int64"
      ]
     },
     "execution_count": 12,
     "metadata": {},
     "output_type": "execute_result"
    }
   ],
   "source": [
    "df_Hc[\"mcPDG\"].value_counts()"
   ]
  },
  {
   "cell_type": "code",
   "execution_count": null,
   "metadata": {},
   "outputs": [],
   "source": []
  },
  {
   "cell_type": "code",
   "execution_count": 18,
   "metadata": {},
   "outputs": [
    {
     "name": "stdout",
     "output_type": "stream",
     "text": [
      "sigProb_cut: 0.1 BCS: mean of hasBmother_and_isSig: 0.29\n",
      "BCS: N = 4560 frac. of evts: 0.38\n",
      "selected basend hasBmother_and_isSig: mean of hasBmother_and_isSig: 0.34\n",
      "\n",
      "sigProb_cut: 0.01 BCS: mean of hasBmother_and_isSig: 0.15\n",
      "BCS: N = 9543 frac. of evts: 0.8\n",
      "selected basend hasBmother_and_isSig: mean of hasBmother_and_isSig: 0.2\n",
      "\n",
      "sigProb_cut: 0.001 BCS: mean of hasBmother_and_isSig: 0.12\n",
      "BCS: N = 11917 frac. of evts: 1.0\n",
      "selected basend hasBmother_and_isSig: mean of hasBmother_and_isSig: 0.17\n",
      "\n"
     ]
    }
   ],
   "source": [
    "N_events_total = df_Hc[\"__event__\"].nunique()\n",
    "for sigProb_cut in [0.1,0.01,0.001]:\n",
    "    \n",
    "    cut_df = df_Hc[df_Hc[\"sigProb\"] > sigProb_cut]\n",
    "    \n",
    "    \n",
    "    BCS = cut_df.sort_values(\"sigProb\",ascending=False).drop_duplicates(subset=(\"__event__\"), keep='first')\n",
    "\n",
    "    isSig = cut_df.sort_values(\"hasBmother_and_isSig\",ascending=False).drop_duplicates(subset=(\"__event__\"), keep='first')\n",
    "\n",
    "    \n",
    "    \n",
    "    print(\"sigProb_cut:\",sigProb_cut, \"BCS: mean of hasBmother_and_isSig:\",round(BCS[\"hasBmother_and_isSig\"].mean(),2))\n",
    "    print(\"BCS: N =\", BCS.shape[0], \"frac. of evts:\", round(BCS.shape[0]/N_events_total,2))\n",
    "    \n",
    "    print(\"selected basend hasBmother_and_isSig: mean of hasBmother_and_isSig:\",round(isSig[\"hasBmother_and_isSig\"].mean(),2))\n",
    "    \n",
    "    print(\"\")"
   ]
  },
  {
   "cell_type": "code",
   "execution_count": null,
   "metadata": {},
   "outputs": [],
   "source": []
  },
  {
   "cell_type": "code",
   "execution_count": null,
   "metadata": {},
   "outputs": [],
   "source": []
  }
 ],
 "metadata": {
  "kernelspec": {
   "display_name": "Python 3",
   "language": "python",
   "name": "python3"
  },
  "language_info": {
   "codemirror_mode": {
    "name": "ipython",
    "version": 3
   },
   "file_extension": ".py",
   "mimetype": "text/x-python",
   "name": "python",
   "nbconvert_exporter": "python",
   "pygments_lexer": "ipython3",
   "version": "3.6.8"
  }
 },
 "nbformat": 4,
 "nbformat_minor": 4
}
