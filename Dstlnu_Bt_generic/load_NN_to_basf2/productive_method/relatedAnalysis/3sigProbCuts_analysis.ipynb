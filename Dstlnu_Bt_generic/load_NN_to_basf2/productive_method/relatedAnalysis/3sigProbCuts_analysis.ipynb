{
 "cells": [
  {
   "cell_type": "code",
   "execution_count": 1,
   "id": "74f6c625",
   "metadata": {},
   "outputs": [],
   "source": [
    "import matplotlib.pyplot as plt\n",
    "import uproot\n",
    "import numpy as np\n",
    "import pandas as pd\n",
    "import matplotlib as mpl"
   ]
  },
  {
   "cell_type": "code",
   "execution_count": 3,
   "id": "958b6f33",
   "metadata": {},
   "outputs": [],
   "source": [
    "nfs_path = \"/nfs/dust/belle2/user/axelheim/MC_studies/Dstlnu_Bt_generic/appliedNNdata/3sigprobCuts/\""
   ]
  },
  {
   "cell_type": "code",
   "execution_count": 4,
   "id": "cb2b7dd0",
   "metadata": {},
   "outputs": [],
   "source": [
    "Ups4S_file_01 = uproot.open(nfs_path + \"Ups4S_NN_predicted_0.root:variables;1\")\n",
    "df_Ups4S_01 = Ups4S_file_01.arrays(library=\"pd\")\n",
    "evt_counter_file_01 = uproot.open(nfs_path + \"evt_counter_0.root:variables;1\")\n",
    "df_evt_counter_01 = evt_counter_file_01.arrays(library=\"pd\")"
   ]
  },
  {
   "cell_type": "code",
   "execution_count": 5,
   "id": "2e9e17c7",
   "metadata": {},
   "outputs": [],
   "source": [
    "Ups4S_file_001 = uproot.open(nfs_path + \"Ups4S_NN_predicted_1.root:variables;1\")\n",
    "df_Ups4S_001 = Ups4S_file_001.arrays(library=\"pd\")\n",
    "evt_counter_file_001 = uproot.open(nfs_path + \"evt_counter_1.root:variables;1\")\n",
    "df_evt_counter_001 = evt_counter_file_001.arrays(library=\"pd\")"
   ]
  },
  {
   "cell_type": "code",
   "execution_count": 6,
   "id": "e5db2c86",
   "metadata": {},
   "outputs": [],
   "source": [
    "Ups4S_file_0001 = uproot.open(nfs_path + \"Ups4S_NN_predicted_2.root:variables;1\")\n",
    "df_Ups4S_0001 = Ups4S_file_0001.arrays(library=\"pd\")\n",
    "evt_counter_file_0001 = uproot.open(nfs_path + \"evt_counter_2.root:variables;1\")\n",
    "df_evt_counter_0001 = evt_counter_file_0001.arrays(library=\"pd\")"
   ]
  },
  {
   "cell_type": "code",
   "execution_count": 10,
   "id": "d9529948",
   "metadata": {},
   "outputs": [
    {
     "name": "stdout",
     "output_type": "stream",
     "text": [
      "cut: 0.1\n",
      "Ups_df.shape[0]: 11907\n",
      "Ups_df[__event__].nunique(): 1169\n",
      "evt_counter.shape[0]: 180618\n",
      "\n",
      "cut: 0.01\n",
      "Ups_df.shape[0]: 14876\n",
      "Ups_df[__event__].nunique(): 1358\n",
      "evt_counter.shape[0]: 180618\n",
      "\n",
      "cut: 0.001\n",
      "Ups_df.shape[0]: 15139\n",
      "Ups_df[__event__].nunique(): 867\n",
      "evt_counter.shape[0]: 180618\n",
      "\n"
     ]
    }
   ],
   "source": [
    "Ups_dfs=[df_Ups4S_01,df_Ups4S_001,df_Ups4S_0001]\n",
    "evt_counter_dfs=[df_evt_counter_01,df_evt_counter_001,df_evt_counter_0001]\n",
    "\n",
    "cuts = [0.1,0.01,0.001]\n",
    "\n",
    "for i in range(3):\n",
    "    \n",
    "    print(\"cut:\",cuts[i])\n",
    "    \n",
    "    Ups_df = Ups_dfs[i]\n",
    "    evt_counter = evt_counter_dfs[i]    \n",
    "    \n",
    "    print(\"Ups_df.shape[0]:\",Ups_df.shape[0])\n",
    "    print(\"Ups_df[__event__].nunique():\",Ups_df[\"__event__\"].nunique())\n",
    "    print(\"evt_counter.shape[0]:\",evt_counter.shape[0])\n",
    "    print(\"\")"
   ]
  },
  {
   "cell_type": "code",
   "execution_count": null,
   "id": "96459b02",
   "metadata": {},
   "outputs": [],
   "source": []
  }
 ],
 "metadata": {
  "kernelspec": {
   "display_name": "Python 3",
   "language": "python",
   "name": "python3"
  },
  "language_info": {
   "codemirror_mode": {
    "name": "ipython",
    "version": 3
   },
   "file_extension": ".py",
   "mimetype": "text/x-python",
   "name": "python",
   "nbconvert_exporter": "python",
   "pygments_lexer": "ipython3",
   "version": "3.6.8"
  }
 },
 "nbformat": 4,
 "nbformat_minor": 5
}
