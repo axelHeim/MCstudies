{
 "cells": [
  {
   "cell_type": "code",
   "execution_count": 1,
   "metadata": {},
   "outputs": [],
   "source": [
    "import matplotlib.pyplot as plt\n",
    "import uproot\n",
    "import numpy as np\n",
    "import pandas as pd\n",
    "\n",
    "from pathlib import Path\n",
    "from sklearn.model_selection import train_test_split\n",
    "\n",
    "from datetime import datetime\n",
    "import sys\n",
    "sys.path.insert(1, '/afs/desy.de/user/a/axelheim/private/MC_studies/Dstlnu_Bt_generic/util_funcs/')\n",
    "from pandas_colFuncs import whichBisSig_NAHS, B_ID, ancestor_below_B"
   ]
  },
  {
   "cell_type": "code",
   "execution_count": 2,
   "metadata": {},
   "outputs": [
    {
     "name": "stdout",
     "output_type": "stream",
     "text": [
      "time at start = 2021-10-26 09:48:11.966634\n"
     ]
    }
   ],
   "source": [
    "now = datetime.now()\n",
    "print(\"time at start =\", now)"
   ]
  },
  {
   "cell_type": "code",
   "execution_count": 130,
   "metadata": {},
   "outputs": [],
   "source": [
    "save_data = True\n",
    "save_preprocessedDataframe = True\n",
    "tmp_data = False\n",
    "take_subset = False\n",
    "subset_size = 100000\n",
    "\n",
    "delete_top_numFSP_evts=True"
   ]
  },
  {
   "cell_type": "code",
   "execution_count": 15,
   "metadata": {},
   "outputs": [],
   "source": [
    "nfs_path = \"/nfs/dust/belle2/user/axelheim/MC_studies/Dstlnu_Bt_generic/\"\n",
    "\n",
    "data_subdir = \"NAHSA_Gmodes_1/\"\n",
    "root_subdir = \"NAHS_allEvts_oneSub/\"  \n",
    "\n",
    "root_path = nfs_path + \"NAHS/onlineDataProd/\" + root_subdir \n",
    "#root_path = \"/afs/desy.de/user/a/axelheim/private/MC_studies/Dstlnu_Bt_generic/NAHS/onlineDataProd/\""
   ]
  },
  {
   "cell_type": "code",
   "execution_count": 5,
   "metadata": {},
   "outputs": [],
   "source": [
    "merged = \"merged_\"\n",
    "if tmp_data:\n",
    "    merged += \"tmp_\"\n",
    "merged = \"\""
   ]
  },
  {
   "cell_type": "code",
   "execution_count": 6,
   "metadata": {},
   "outputs": [],
   "source": [
    "fileHc = uproot.open(root_path + merged + \"allHc.root:variables\")"
   ]
  },
  {
   "cell_type": "code",
   "execution_count": 7,
   "metadata": {},
   "outputs": [],
   "source": [
    "df_Hc = fileHc.arrays(library=\"pd\")"
   ]
  },
  {
   "cell_type": "code",
   "execution_count": 8,
   "metadata": {},
   "outputs": [
    {
     "name": "stdout",
     "output_type": "stream",
     "text": [
      "/nfs/dust/belle2/user/axelheim/MC_studies/Dstlnu_Bt_generic/NAHS/onlineDataProd/NAHS_allEvts_oneSub/gammas.root:variables\n",
      "/nfs/dust/belle2/user/axelheim/MC_studies/Dstlnu_Bt_generic/NAHS/onlineDataProd/NAHS_allEvts_oneSub/electrons.root:variables\n",
      "/nfs/dust/belle2/user/axelheim/MC_studies/Dstlnu_Bt_generic/NAHS/onlineDataProd/NAHS_allEvts_oneSub/pions.root:variables\n",
      "/nfs/dust/belle2/user/axelheim/MC_studies/Dstlnu_Bt_generic/NAHS/onlineDataProd/NAHS_allEvts_oneSub/kaons.root:variables\n",
      "/nfs/dust/belle2/user/axelheim/MC_studies/Dstlnu_Bt_generic/NAHS/onlineDataProd/NAHS_allEvts_oneSub/muons.root:variables\n"
     ]
    }
   ],
   "source": [
    "names = [\"gammas\",\"electrons\",\"pions\",\"kaons\",\"muons\"]\n",
    "dfs = []\n",
    "for name in names:\n",
    "    filename=root_path + merged + \"{}.root:variables\".format(name)\n",
    "    print(filename)\n",
    "    tmpFileFSPs = uproot.open(filename)\n",
    "    df_tmp = tmpFileFSPs.arrays(library=\"pd\")\n",
    "    dfs.append(df_tmp)"
   ]
  },
  {
   "cell_type": "code",
   "execution_count": 9,
   "metadata": {},
   "outputs": [],
   "source": [
    "df_FSPs = pd.concat(dfs)"
   ]
  },
  {
   "cell_type": "code",
   "execution_count": 10,
   "metadata": {},
   "outputs": [],
   "source": [
    "# delete FSPs for which no Y4S file entry was found\n",
    "df_FSPs = df_FSPs[df_FSPs['__event__'].isin(df_Hc[\"__event__\"])]"
   ]
  },
  {
   "cell_type": "code",
   "execution_count": 11,
   "metadata": {},
   "outputs": [
    {
     "data": {
      "text/plain": [
       "Index(['__experiment__', '__run__', '__event__', '__candidate__',\n",
       "       '__ncandidates__', '__weight__', 'genMothPDG_0', 'genMothPDG_1',\n",
       "       'genMothPDG_2', 'genMothPDG_3', 'genMothPDG_4', 'genMothPDG_5',\n",
       "       'genMothPDG_6', 'genMothPDG_7', 'genMothPDG_8', 'genMothPDG_9',\n",
       "       'genMotherID_0', 'genMotherID_1', 'genMotherID_2', 'genMotherID_3',\n",
       "       'genMotherID_4', 'genMotherID_5', 'genMotherID_6', 'genMotherID_7',\n",
       "       'genMotherID_8', 'genMotherID_9', 'mcMother0_uniqParID',\n",
       "       'mcMother1_uniqParID', 'mcMother2_uniqParID', 'mcMother3_uniqParID',\n",
       "       'mcMother4_uniqParID', 'mcMother5_uniqParID', 'mcMother6_uniqParID',\n",
       "       'mcMother7_uniqParID', 'mcMother8_uniqParID', 'mcMother9_uniqParID',\n",
       "       'cmpx', 'cmpy', 'cmpz', 'cmE', 'isSignal', 'uniqueParticleIdentifier',\n",
       "       'mcErrors', 'mcPDG', 'genMotherID', 'genMotherP', 'genMotherPDG',\n",
       "       'charge', 'dr', 'dz', 'clusterReg', 'clusterE9E21', 'M', 'PDG',\n",
       "       'genParticleID', 'px', 'py', 'pz', 'pt', 'p', 'E', 'kaonID', 'pionID',\n",
       "       'protonID', 'muonID', 'electronID', 'deuteronID'],\n",
       "      dtype='object')"
      ]
     },
     "execution_count": 11,
     "metadata": {},
     "output_type": "execute_result"
    }
   ],
   "source": [
    "df_FSPs.keys()"
   ]
  },
  {
   "cell_type": "code",
   "execution_count": 12,
   "metadata": {},
   "outputs": [
    {
     "name": "stdout",
     "output_type": "stream",
     "text": [
      "27043483\n",
      "1622099\n",
      "1532609\n"
     ]
    }
   ],
   "source": [
    "print(df_FSPs.shape[0])\n",
    "print(df_Hc.shape[0])\n",
    "print(df_Hc[\"__event__\"].nunique())"
   ]
  },
  {
   "cell_type": "markdown",
   "metadata": {},
   "source": [
    "## check that each particles occurs only ones; count must be < 1"
   ]
  },
  {
   "cell_type": "code",
   "execution_count": 14,
   "metadata": {},
   "outputs": [
    {
     "data": {
      "text/plain": [
       "count\n",
       "1    27043483\n",
       "dtype: int64"
      ]
     },
     "execution_count": 14,
     "metadata": {},
     "output_type": "execute_result"
    }
   ],
   "source": [
    "groupsFSPs_uniqParID = pd.DataFrame({'count' : df_FSPs.groupby( [\"__event__\",\"uniqueParticleIdentifier\"] ).size()}).reset_index()\n",
    "groupsFSPs_uniqParID.value_counts('count')"
   ]
  },
  {
   "cell_type": "markdown",
   "metadata": {},
   "source": [
    "## add cols"
   ]
  },
  {
   "cell_type": "code",
   "execution_count": 16,
   "metadata": {},
   "outputs": [],
   "source": [
    "df_Hc['Bsig_uniqParID'] = df_Hc.apply(whichBisSig_NAHS, axis=1)"
   ]
  },
  {
   "cell_type": "code",
   "execution_count": 17,
   "metadata": {},
   "outputs": [
    {
     "data": {
      "text/plain": [
       "83886081.0    852568\n",
       "83886082.0    769531\n",
       "Name: Bsig_uniqParID, dtype: int64"
      ]
     },
     "execution_count": 17,
     "metadata": {},
     "output_type": "execute_result"
    }
   ],
   "source": [
    "df_Hc['Bsig_uniqParID'].value_counts()"
   ]
  },
  {
   "cell_type": "code",
   "execution_count": 18,
   "metadata": {},
   "outputs": [],
   "source": [
    "# function to create col with the particles mother B's uniqueParticleIdentifier\n",
    "df_FSPs['B_ID'] = df_FSPs.apply(B_ID, axis=1)"
   ]
  },
  {
   "cell_type": "code",
   "execution_count": 19,
   "metadata": {},
   "outputs": [
    {
     "data": {
      "text/plain": [
       "83886081    11717640\n",
       "83886082    11716799\n",
       "0            3609044\n",
       "Name: B_ID, dtype: int64"
      ]
     },
     "execution_count": 19,
     "metadata": {},
     "output_type": "execute_result"
    }
   ],
   "source": [
    "df_FSPs['B_ID'].value_counts()"
   ]
  },
  {
   "cell_type": "code",
   "execution_count": 20,
   "metadata": {},
   "outputs": [
    {
     "data": {
      "text/plain": [
       " 22.0     14235671\n",
       " 211.0     3350074\n",
       "-211.0     3172959\n",
       " 13.0      1381029\n",
       "-13.0      1351792\n",
       " 321.0      962201\n",
       "-321.0      952602\n",
       "-11.0       826266\n",
       " 11.0       810889\n",
       "Name: PDG, dtype: int64"
      ]
     },
     "execution_count": 20,
     "metadata": {},
     "output_type": "execute_result"
    }
   ],
   "source": [
    "df_FSPs['PDG'].value_counts()"
   ]
  },
  {
   "cell_type": "code",
   "execution_count": 21,
   "metadata": {},
   "outputs": [
    {
     "data": {
      "text/plain": [
       " 413.0     525558\n",
       "-413.0     512128\n",
       " 411.0     197265\n",
       "-411.0     197056\n",
       " 421.0      75177\n",
       "-421.0      49194\n",
       "-431.0      17604\n",
       " 431.0      17475\n",
       " 423.0      10059\n",
       " 443.0       7897\n",
       "-423.0       6648\n",
       "-4122.0      3074\n",
       " 4122.0      2964\n",
       "Name: PDG, dtype: int64"
      ]
     },
     "execution_count": 21,
     "metadata": {},
     "output_type": "execute_result"
    }
   ],
   "source": [
    "df_Hc['PDG'].value_counts()"
   ]
  },
  {
   "cell_type": "markdown",
   "metadata": {},
   "source": [
    "## check D*lnu"
   ]
  },
  {
   "cell_type": "code",
   "execution_count": 22,
   "metadata": {},
   "outputs": [
    {
     "data": {
      "text/html": [
       "<div>\n",
       "<style scoped>\n",
       "    .dataframe tbody tr th:only-of-type {\n",
       "        vertical-align: middle;\n",
       "    }\n",
       "\n",
       "    .dataframe tbody tr th {\n",
       "        vertical-align: top;\n",
       "    }\n",
       "\n",
       "    .dataframe thead th {\n",
       "        text-align: right;\n",
       "    }\n",
       "</style>\n",
       "<table border=\"1\" class=\"dataframe\">\n",
       "  <thead>\n",
       "    <tr style=\"text-align: right;\">\n",
       "      <th></th>\n",
       "      <th>genUp4S_PDG_1_0</th>\n",
       "      <th>genUp4S_PDG_1_1</th>\n",
       "      <th>genUp4S_PDG_1_2</th>\n",
       "      <th>count</th>\n",
       "    </tr>\n",
       "  </thead>\n",
       "  <tbody>\n",
       "    <tr>\n",
       "      <th>0</th>\n",
       "      <td>-413.0</td>\n",
       "      <td>-13.0</td>\n",
       "      <td>14.0</td>\n",
       "      <td>190642</td>\n",
       "    </tr>\n",
       "    <tr>\n",
       "      <th>1</th>\n",
       "      <td>-413.0</td>\n",
       "      <td>-11.0</td>\n",
       "      <td>12.0</td>\n",
       "      <td>191440</td>\n",
       "    </tr>\n",
       "    <tr>\n",
       "      <th>2</th>\n",
       "      <td>413.0</td>\n",
       "      <td>11.0</td>\n",
       "      <td>-12.0</td>\n",
       "      <td>192579</td>\n",
       "    </tr>\n",
       "    <tr>\n",
       "      <th>3</th>\n",
       "      <td>413.0</td>\n",
       "      <td>13.0</td>\n",
       "      <td>-14.0</td>\n",
       "      <td>194870</td>\n",
       "    </tr>\n",
       "  </tbody>\n",
       "</table>\n",
       "</div>"
      ],
      "text/plain": [
       "   genUp4S_PDG_1_0  genUp4S_PDG_1_1  genUp4S_PDG_1_2   count\n",
       "0           -413.0            -13.0             14.0  190642\n",
       "1           -413.0            -11.0             12.0  191440\n",
       "2            413.0             11.0            -12.0  192579\n",
       "3            413.0             13.0            -14.0  194870"
      ]
     },
     "execution_count": 22,
     "metadata": {},
     "output_type": "execute_result"
    }
   ],
   "source": [
    "groupsHc = pd.DataFrame({'count' : df_Hc[df_Hc[\"Bsig_uniqParID\"] == 83886082.0].groupby( \n",
    "    [\"genUp4S_PDG_1_0\",\"genUp4S_PDG_1_1\",\"genUp4S_PDG_1_2\"] ).size()}).reset_index()\n",
    "\n",
    "groupsHc"
   ]
  },
  {
   "cell_type": "code",
   "execution_count": 23,
   "metadata": {},
   "outputs": [
    {
     "data": {
      "text/html": [
       "<div>\n",
       "<style scoped>\n",
       "    .dataframe tbody tr th:only-of-type {\n",
       "        vertical-align: middle;\n",
       "    }\n",
       "\n",
       "    .dataframe tbody tr th {\n",
       "        vertical-align: top;\n",
       "    }\n",
       "\n",
       "    .dataframe thead th {\n",
       "        text-align: right;\n",
       "    }\n",
       "</style>\n",
       "<table border=\"1\" class=\"dataframe\">\n",
       "  <thead>\n",
       "    <tr style=\"text-align: right;\">\n",
       "      <th></th>\n",
       "      <th>genUp4S_PDG_0_0</th>\n",
       "      <th>genUp4S_PDG_0_1</th>\n",
       "      <th>genUp4S_PDG_0_2</th>\n",
       "      <th>count</th>\n",
       "    </tr>\n",
       "  </thead>\n",
       "  <tbody>\n",
       "    <tr>\n",
       "      <th>0</th>\n",
       "      <td>-413.0</td>\n",
       "      <td>-13.0</td>\n",
       "      <td>14.0</td>\n",
       "      <td>210918</td>\n",
       "    </tr>\n",
       "    <tr>\n",
       "      <th>1</th>\n",
       "      <td>-413.0</td>\n",
       "      <td>-11.0</td>\n",
       "      <td>12.0</td>\n",
       "      <td>212804</td>\n",
       "    </tr>\n",
       "    <tr>\n",
       "      <th>2</th>\n",
       "      <td>413.0</td>\n",
       "      <td>11.0</td>\n",
       "      <td>-12.0</td>\n",
       "      <td>215045</td>\n",
       "    </tr>\n",
       "    <tr>\n",
       "      <th>3</th>\n",
       "      <td>413.0</td>\n",
       "      <td>13.0</td>\n",
       "      <td>-14.0</td>\n",
       "      <td>213801</td>\n",
       "    </tr>\n",
       "  </tbody>\n",
       "</table>\n",
       "</div>"
      ],
      "text/plain": [
       "   genUp4S_PDG_0_0  genUp4S_PDG_0_1  genUp4S_PDG_0_2   count\n",
       "0           -413.0            -13.0             14.0  210918\n",
       "1           -413.0            -11.0             12.0  212804\n",
       "2            413.0             11.0            -12.0  215045\n",
       "3            413.0             13.0            -14.0  213801"
      ]
     },
     "execution_count": 23,
     "metadata": {},
     "output_type": "execute_result"
    }
   ],
   "source": [
    "groupsHc = pd.DataFrame({'count' : df_Hc[df_Hc[\"Bsig_uniqParID\"] == 83886081.0].groupby( \n",
    "    [\"genUp4S_PDG_0_0\",\"genUp4S_PDG_0_1\",\"genUp4S_PDG_0_2\"] ).size()}).reset_index()\n",
    "\n",
    "groupsHc"
   ]
  },
  {
   "cell_type": "markdown",
   "metadata": {},
   "source": [
    "## delete evts where Hc mother and Bsig overlap"
   ]
  },
  {
   "cell_type": "code",
   "execution_count": 25,
   "metadata": {
    "scrolled": true
   },
   "outputs": [
    {
     "name": "stdout",
     "output_type": "stream",
     "text": [
      "1622099\n"
     ]
    }
   ],
   "source": [
    "print(df_Hc.shape[0])"
   ]
  },
  {
   "cell_type": "code",
   "execution_count": 27,
   "metadata": {},
   "outputs": [
    {
     "data": {
      "text/plain": [
       "763136"
      ]
     },
     "execution_count": 27,
     "metadata": {},
     "output_type": "execute_result"
    }
   ],
   "source": [
    "# these events have Hc as a Bsig daughter, which is of course wrong\n",
    "df_Hc[df_Hc['Bsig_uniqParID'] == df_Hc['mcMother0_uniqParID']].shape[0]"
   ]
  },
  {
   "cell_type": "code",
   "execution_count": 28,
   "metadata": {},
   "outputs": [],
   "source": [
    "df_Hc = df_Hc[df_Hc['Bsig_uniqParID'] != df_Hc['mcMother0_uniqParID']]"
   ]
  },
  {
   "cell_type": "code",
   "execution_count": 29,
   "metadata": {
    "scrolled": true
   },
   "outputs": [
    {
     "name": "stdout",
     "output_type": "stream",
     "text": [
      "858963\n"
     ]
    }
   ],
   "source": [
    "print(df_Hc.shape[0])"
   ]
  },
  {
   "cell_type": "code",
   "execution_count": 30,
   "metadata": {},
   "outputs": [
    {
     "name": "stdout",
     "output_type": "stream",
     "text": [
      "27043483\n",
      "14943973\n"
     ]
    }
   ],
   "source": [
    "print(df_FSPs.shape[0])\n",
    "df_FSPs = df_FSPs[df_FSPs['__event__'].isin(df_Hc[\"__event__\"])]\n",
    "print(df_FSPs.shape[0])"
   ]
  },
  {
   "cell_type": "markdown",
   "metadata": {},
   "source": [
    "## take care of duplis in df_Hc, delete them, because with the prior, duplis here mean there must have been an error"
   ]
  },
  {
   "cell_type": "code",
   "execution_count": 32,
   "metadata": {},
   "outputs": [
    {
     "data": {
      "text/plain": [
       "count\n",
       "1    828867\n",
       "2     14569\n",
       "3       285\n",
       "4        23\n",
       "5         1\n",
       "6         1\n",
       "dtype: int64"
      ]
     },
     "execution_count": 32,
     "metadata": {},
     "output_type": "execute_result"
    }
   ],
   "source": [
    "groupsHc_uniqParID = pd.DataFrame({'count' : df_Hc.groupby( [\"__event__\"] ).size()}).reset_index()\n",
    "groupsHc_uniqParID.value_counts('count')"
   ]
  },
  {
   "cell_type": "code",
   "execution_count": 33,
   "metadata": {},
   "outputs": [
    {
     "data": {
      "text/html": [
       "<div>\n",
       "<style scoped>\n",
       "    .dataframe tbody tr th:only-of-type {\n",
       "        vertical-align: middle;\n",
       "    }\n",
       "\n",
       "    .dataframe tbody tr th {\n",
       "        vertical-align: top;\n",
       "    }\n",
       "\n",
       "    .dataframe thead th {\n",
       "        text-align: right;\n",
       "    }\n",
       "</style>\n",
       "<table border=\"1\" class=\"dataframe\">\n",
       "  <thead>\n",
       "    <tr style=\"text-align: right;\">\n",
       "      <th></th>\n",
       "      <th>__event__</th>\n",
       "      <th>uniqueParticleIdentifier</th>\n",
       "      <th>PDG</th>\n",
       "      <th>genMothPDG_0</th>\n",
       "      <th>Bsig_uniqParID</th>\n",
       "      <th>mcMother0_uniqParID</th>\n",
       "      <th>px</th>\n",
       "      <th>E</th>\n",
       "      <th>x</th>\n",
       "      <th>genUp4S_PDG_1_0</th>\n",
       "    </tr>\n",
       "  </thead>\n",
       "  <tbody>\n",
       "    <tr>\n",
       "      <th>50</th>\n",
       "      <td>3679955</td>\n",
       "      <td>100663296.0</td>\n",
       "      <td>-421.0</td>\n",
       "      <td>511.0</td>\n",
       "      <td>83886081.0</td>\n",
       "      <td>83886082.0</td>\n",
       "      <td>-0.079056</td>\n",
       "      <td>1.939253</td>\n",
       "      <td>-0.042812</td>\n",
       "      <td>411.0</td>\n",
       "    </tr>\n",
       "    <tr>\n",
       "      <th>56</th>\n",
       "      <td>243575</td>\n",
       "      <td>100663296.0</td>\n",
       "      <td>-421.0</td>\n",
       "      <td>-511.0</td>\n",
       "      <td>83886081.0</td>\n",
       "      <td>83886082.0</td>\n",
       "      <td>0.325505</td>\n",
       "      <td>2.003441</td>\n",
       "      <td>-0.044740</td>\n",
       "      <td>-421.0</td>\n",
       "    </tr>\n",
       "    <tr>\n",
       "      <th>77</th>\n",
       "      <td>9744</td>\n",
       "      <td>100663296.0</td>\n",
       "      <td>-421.0</td>\n",
       "      <td>-511.0</td>\n",
       "      <td>83886081.0</td>\n",
       "      <td>83886082.0</td>\n",
       "      <td>0.841873</td>\n",
       "      <td>2.300964</td>\n",
       "      <td>-0.052184</td>\n",
       "      <td>411.0</td>\n",
       "    </tr>\n",
       "    <tr>\n",
       "      <th>94</th>\n",
       "      <td>14108</td>\n",
       "      <td>100663296.0</td>\n",
       "      <td>421.0</td>\n",
       "      <td>-511.0</td>\n",
       "      <td>83886081.0</td>\n",
       "      <td>83886082.0</td>\n",
       "      <td>-0.058585</td>\n",
       "      <td>1.946033</td>\n",
       "      <td>-0.046022</td>\n",
       "      <td>-321.0</td>\n",
       "    </tr>\n",
       "    <tr>\n",
       "      <th>95</th>\n",
       "      <td>14108</td>\n",
       "      <td>100663296.0</td>\n",
       "      <td>421.0</td>\n",
       "      <td>-511.0</td>\n",
       "      <td>83886081.0</td>\n",
       "      <td>83886082.0</td>\n",
       "      <td>0.619852</td>\n",
       "      <td>2.303867</td>\n",
       "      <td>-0.056158</td>\n",
       "      <td>-321.0</td>\n",
       "    </tr>\n",
       "    <tr>\n",
       "      <th>117</th>\n",
       "      <td>4558</td>\n",
       "      <td>100663296.0</td>\n",
       "      <td>421.0</td>\n",
       "      <td>-511.0</td>\n",
       "      <td>83886082.0</td>\n",
       "      <td>83886081.0</td>\n",
       "      <td>-0.296814</td>\n",
       "      <td>1.911936</td>\n",
       "      <td>-0.561030</td>\n",
       "      <td>-413.0</td>\n",
       "    </tr>\n",
       "    <tr>\n",
       "      <th>118</th>\n",
       "      <td>4558</td>\n",
       "      <td>100663296.0</td>\n",
       "      <td>421.0</td>\n",
       "      <td>-511.0</td>\n",
       "      <td>83886082.0</td>\n",
       "      <td>83886081.0</td>\n",
       "      <td>-0.300684</td>\n",
       "      <td>1.894096</td>\n",
       "      <td>-0.043345</td>\n",
       "      <td>-413.0</td>\n",
       "    </tr>\n",
       "    <tr>\n",
       "      <th>121</th>\n",
       "      <td>5600</td>\n",
       "      <td>100663296.0</td>\n",
       "      <td>-421.0</td>\n",
       "      <td>511.0</td>\n",
       "      <td>83886082.0</td>\n",
       "      <td>83886081.0</td>\n",
       "      <td>0.179031</td>\n",
       "      <td>2.151420</td>\n",
       "      <td>-0.047189</td>\n",
       "      <td>413.0</td>\n",
       "    </tr>\n",
       "    <tr>\n",
       "      <th>122</th>\n",
       "      <td>5600</td>\n",
       "      <td>100663296.0</td>\n",
       "      <td>421.0</td>\n",
       "      <td>511.0</td>\n",
       "      <td>83886082.0</td>\n",
       "      <td>83886081.0</td>\n",
       "      <td>-0.384867</td>\n",
       "      <td>2.601196</td>\n",
       "      <td>0.000000</td>\n",
       "      <td>413.0</td>\n",
       "    </tr>\n",
       "    <tr>\n",
       "      <th>124</th>\n",
       "      <td>5661</td>\n",
       "      <td>100663296.0</td>\n",
       "      <td>-421.0</td>\n",
       "      <td>-511.0</td>\n",
       "      <td>83886082.0</td>\n",
       "      <td>83886081.0</td>\n",
       "      <td>0.078100</td>\n",
       "      <td>1.885611</td>\n",
       "      <td>-0.044987</td>\n",
       "      <td>-413.0</td>\n",
       "    </tr>\n",
       "  </tbody>\n",
       "</table>\n",
       "</div>"
      ],
      "text/plain": [
       "     __event__  uniqueParticleIdentifier    PDG  genMothPDG_0  Bsig_uniqParID  \\\n",
       "50     3679955               100663296.0 -421.0         511.0      83886081.0   \n",
       "56      243575               100663296.0 -421.0        -511.0      83886081.0   \n",
       "77        9744               100663296.0 -421.0        -511.0      83886081.0   \n",
       "94       14108               100663296.0  421.0        -511.0      83886081.0   \n",
       "95       14108               100663296.0  421.0        -511.0      83886081.0   \n",
       "117       4558               100663296.0  421.0        -511.0      83886082.0   \n",
       "118       4558               100663296.0  421.0        -511.0      83886082.0   \n",
       "121       5600               100663296.0 -421.0         511.0      83886082.0   \n",
       "122       5600               100663296.0  421.0         511.0      83886082.0   \n",
       "124       5661               100663296.0 -421.0        -511.0      83886082.0   \n",
       "\n",
       "     mcMother0_uniqParID        px         E         x  genUp4S_PDG_1_0  \n",
       "50            83886082.0 -0.079056  1.939253 -0.042812            411.0  \n",
       "56            83886082.0  0.325505  2.003441 -0.044740           -421.0  \n",
       "77            83886082.0  0.841873  2.300964 -0.052184            411.0  \n",
       "94            83886082.0 -0.058585  1.946033 -0.046022           -321.0  \n",
       "95            83886082.0  0.619852  2.303867 -0.056158           -321.0  \n",
       "117           83886081.0 -0.296814  1.911936 -0.561030           -413.0  \n",
       "118           83886081.0 -0.300684  1.894096 -0.043345           -413.0  \n",
       "121           83886081.0  0.179031  2.151420 -0.047189            413.0  \n",
       "122           83886081.0 -0.384867  2.601196  0.000000            413.0  \n",
       "124           83886081.0  0.078100  1.885611 -0.044987           -413.0  "
      ]
     },
     "execution_count": 33,
     "metadata": {},
     "output_type": "execute_result"
    }
   ],
   "source": [
    "df_Hc[df_Hc['__event__'].isin(groupsHc_uniqParID[groupsHc_uniqParID[\"count\"]>1][\"__event__\"])][[\"__event__\",\n",
    "    \"uniqueParticleIdentifier\",\"PDG\",\n",
    "    \"genMothPDG_0\",'Bsig_uniqParID',\"mcMother0_uniqParID\",\"px\",\"E\",\"x\",\"genUp4S_PDG_1_0\"]][:10]"
   ]
  },
  {
   "cell_type": "code",
   "execution_count": 34,
   "metadata": {},
   "outputs": [],
   "source": [
    "df_Hc = df_Hc[df_Hc['__event__'].isin(groupsHc_uniqParID[groupsHc_uniqParID[\"count\"]==1][\"__event__\"])]"
   ]
  },
  {
   "cell_type": "code",
   "execution_count": 35,
   "metadata": {
    "scrolled": true
   },
   "outputs": [],
   "source": [
    "df_FSPs = df_FSPs[df_FSPs['__event__'].isin(df_Hc[\"__event__\"])]"
   ]
  },
  {
   "cell_type": "code",
   "execution_count": 36,
   "metadata": {},
   "outputs": [
    {
     "data": {
      "text/plain": [
       "count\n",
       "1    828867\n",
       "dtype: int64"
      ]
     },
     "execution_count": 36,
     "metadata": {},
     "output_type": "execute_result"
    }
   ],
   "source": [
    "groupsHc_uniqParID = pd.DataFrame({'count' : df_Hc.groupby( [\"__event__\"] ).size()}).reset_index()\n",
    "groupsHc_uniqParID.value_counts('count')"
   ]
  },
  {
   "cell_type": "markdown",
   "metadata": {},
   "source": [
    "## delete the H_c FSPs "
   ]
  },
  {
   "cell_type": "code",
   "execution_count": 37,
   "metadata": {
    "scrolled": true
   },
   "outputs": [],
   "source": [
    "df_FSPs['ancestor_below_B_arrayID'] = df_FSPs.apply(ancestor_below_B, axis=1)"
   ]
  },
  {
   "cell_type": "code",
   "execution_count": 38,
   "metadata": {},
   "outputs": [],
   "source": [
    "df_Hc[\"HcMother_uniqParID\"] = df_Hc[\"mcMother0_uniqParID\"]\n",
    "df_Hc[\"Hc_genParticleID\"] = df_Hc[\"genParticleID\"]\n",
    "df_Hc[\"Hc_MotherPDG\"] = df_Hc[\"genMothPDG_0\"]"
   ]
  },
  {
   "cell_type": "code",
   "execution_count": 39,
   "metadata": {},
   "outputs": [],
   "source": [
    "df_FSPs = pd.merge(df_FSPs,df_Hc[[\"__event__\",\"Bsig_uniqParID\",\"HcMother_uniqParID\",\"Hc_genParticleID\",\"Hc_MotherPDG\"]], on=\"__event__\")"
   ]
  },
  {
   "cell_type": "code",
   "execution_count": 40,
   "metadata": {},
   "outputs": [
    {
     "data": {
      "text/html": [
       "<div>\n",
       "<style scoped>\n",
       "    .dataframe tbody tr th:only-of-type {\n",
       "        vertical-align: middle;\n",
       "    }\n",
       "\n",
       "    .dataframe tbody tr th {\n",
       "        vertical-align: top;\n",
       "    }\n",
       "\n",
       "    .dataframe thead th {\n",
       "        text-align: right;\n",
       "    }\n",
       "</style>\n",
       "<table border=\"1\" class=\"dataframe\">\n",
       "  <thead>\n",
       "    <tr style=\"text-align: right;\">\n",
       "      <th></th>\n",
       "      <th>__event__</th>\n",
       "      <th>Bsig_uniqParID</th>\n",
       "      <th>HcMother_uniqParID</th>\n",
       "      <th>Hc_genParticleID</th>\n",
       "      <th>ancestor_below_B_arrayID</th>\n",
       "      <th>Hc_MotherPDG</th>\n",
       "    </tr>\n",
       "  </thead>\n",
       "  <tbody>\n",
       "    <tr>\n",
       "      <th>0</th>\n",
       "      <td>2331192</td>\n",
       "      <td>83886082.0</td>\n",
       "      <td>83886081.0</td>\n",
       "      <td>3.0</td>\n",
       "      <td>0.0</td>\n",
       "      <td>511.0</td>\n",
       "    </tr>\n",
       "    <tr>\n",
       "      <th>1</th>\n",
       "      <td>2331192</td>\n",
       "      <td>83886082.0</td>\n",
       "      <td>83886081.0</td>\n",
       "      <td>3.0</td>\n",
       "      <td>0.0</td>\n",
       "      <td>511.0</td>\n",
       "    </tr>\n",
       "    <tr>\n",
       "      <th>2</th>\n",
       "      <td>2331192</td>\n",
       "      <td>83886082.0</td>\n",
       "      <td>83886081.0</td>\n",
       "      <td>3.0</td>\n",
       "      <td>6.0</td>\n",
       "      <td>511.0</td>\n",
       "    </tr>\n",
       "    <tr>\n",
       "      <th>3</th>\n",
       "      <td>2331192</td>\n",
       "      <td>83886082.0</td>\n",
       "      <td>83886081.0</td>\n",
       "      <td>3.0</td>\n",
       "      <td>4.0</td>\n",
       "      <td>511.0</td>\n",
       "    </tr>\n",
       "    <tr>\n",
       "      <th>4</th>\n",
       "      <td>2331192</td>\n",
       "      <td>83886082.0</td>\n",
       "      <td>83886081.0</td>\n",
       "      <td>3.0</td>\n",
       "      <td>6.0</td>\n",
       "      <td>511.0</td>\n",
       "    </tr>\n",
       "    <tr>\n",
       "      <th>5</th>\n",
       "      <td>2331192</td>\n",
       "      <td>83886082.0</td>\n",
       "      <td>83886081.0</td>\n",
       "      <td>3.0</td>\n",
       "      <td>6.0</td>\n",
       "      <td>511.0</td>\n",
       "    </tr>\n",
       "    <tr>\n",
       "      <th>6</th>\n",
       "      <td>2331192</td>\n",
       "      <td>83886082.0</td>\n",
       "      <td>83886081.0</td>\n",
       "      <td>3.0</td>\n",
       "      <td>0.0</td>\n",
       "      <td>511.0</td>\n",
       "    </tr>\n",
       "    <tr>\n",
       "      <th>7</th>\n",
       "      <td>2331192</td>\n",
       "      <td>83886082.0</td>\n",
       "      <td>83886081.0</td>\n",
       "      <td>3.0</td>\n",
       "      <td>4.0</td>\n",
       "      <td>511.0</td>\n",
       "    </tr>\n",
       "    <tr>\n",
       "      <th>8</th>\n",
       "      <td>2331192</td>\n",
       "      <td>83886082.0</td>\n",
       "      <td>83886081.0</td>\n",
       "      <td>3.0</td>\n",
       "      <td>6.0</td>\n",
       "      <td>511.0</td>\n",
       "    </tr>\n",
       "    <tr>\n",
       "      <th>9</th>\n",
       "      <td>2331192</td>\n",
       "      <td>83886082.0</td>\n",
       "      <td>83886081.0</td>\n",
       "      <td>3.0</td>\n",
       "      <td>3.0</td>\n",
       "      <td>511.0</td>\n",
       "    </tr>\n",
       "  </tbody>\n",
       "</table>\n",
       "</div>"
      ],
      "text/plain": [
       "   __event__  Bsig_uniqParID  HcMother_uniqParID  Hc_genParticleID  \\\n",
       "0    2331192      83886082.0          83886081.0               3.0   \n",
       "1    2331192      83886082.0          83886081.0               3.0   \n",
       "2    2331192      83886082.0          83886081.0               3.0   \n",
       "3    2331192      83886082.0          83886081.0               3.0   \n",
       "4    2331192      83886082.0          83886081.0               3.0   \n",
       "5    2331192      83886082.0          83886081.0               3.0   \n",
       "6    2331192      83886082.0          83886081.0               3.0   \n",
       "7    2331192      83886082.0          83886081.0               3.0   \n",
       "8    2331192      83886082.0          83886081.0               3.0   \n",
       "9    2331192      83886082.0          83886081.0               3.0   \n",
       "\n",
       "   ancestor_below_B_arrayID  Hc_MotherPDG  \n",
       "0                       0.0         511.0  \n",
       "1                       0.0         511.0  \n",
       "2                       6.0         511.0  \n",
       "3                       4.0         511.0  \n",
       "4                       6.0         511.0  \n",
       "5                       6.0         511.0  \n",
       "6                       0.0         511.0  \n",
       "7                       4.0         511.0  \n",
       "8                       6.0         511.0  \n",
       "9                       3.0         511.0  "
      ]
     },
     "execution_count": 40,
     "metadata": {},
     "output_type": "execute_result"
    }
   ],
   "source": [
    "df_FSPs[[\"__event__\",\"Bsig_uniqParID\",\"HcMother_uniqParID\",\"Hc_genParticleID\",\n",
    "         \"ancestor_below_B_arrayID\",\"Hc_MotherPDG\"]][:10]"
   ]
  },
  {
   "cell_type": "code",
   "execution_count": 44,
   "metadata": {},
   "outputs": [
    {
     "data": {
      "text/plain": [
       "11163573"
      ]
     },
     "execution_count": 44,
     "metadata": {},
     "output_type": "execute_result"
    }
   ],
   "source": [
    "df_FSPs.shape[0]"
   ]
  },
  {
   "cell_type": "code",
   "execution_count": 45,
   "metadata": {},
   "outputs": [],
   "source": [
    "# deletion of Hc FSPs, those who \n",
    "df_FSPs = df_FSPs[~((df_FSPs[\"Hc_genParticleID\"] == df_FSPs[\"ancestor_below_B_arrayID\"]) &  # originate from Hc arrayID(genParticleID)\n",
    "                  (df_FSPs[\"HcMother_uniqParID\"] == df_FSPs[\"B_ID\"]))] # and are B-tag ancestors"
   ]
  },
  {
   "cell_type": "code",
   "execution_count": 46,
   "metadata": {},
   "outputs": [
    {
     "data": {
      "text/plain": [
       "11163573"
      ]
     },
     "execution_count": 46,
     "metadata": {},
     "output_type": "execute_result"
    }
   ],
   "source": [
    "df_FSPs.shape[0]"
   ]
  },
  {
   "cell_type": "markdown",
   "metadata": {},
   "source": [
    "## delete delete_top_numFSP_evts"
   ]
  },
  {
   "cell_type": "code",
   "execution_count": 47,
   "metadata": {},
   "outputs": [],
   "source": [
    "numberFSPsEvts = pd.DataFrame({'count' : df_FSPs.groupby([\"__event__\"]).size()}).reset_index()\n",
    "numEvtsBeforeCut = df_Hc.shape[0]"
   ]
  },
  {
   "cell_type": "code",
   "execution_count": 48,
   "metadata": {
    "scrolled": true
   },
   "outputs": [
    {
     "name": "stdout",
     "output_type": "stream",
     "text": [
      "original max FSPs: 35\n",
      "0.995\n",
      "would delete 0.8 % of evts\n",
      "new max FSPs: 23\n",
      "0.996\n",
      "would delete 0.42 % of evts\n",
      "new max FSPs: 24\n",
      "0.997\n",
      "would delete 0.42 % of evts\n",
      "new max FSPs: 24\n",
      "0.998\n",
      "would delete 0.22 % of evts\n",
      "new max FSPs: 25\n",
      "0.999\n",
      "would delete 0.11 % of evts\n",
      "new max FSPs: 26\n"
     ]
    }
   ],
   "source": [
    "# print first to adjust percentile used\n",
    "print(\"original max FSPs:\",numberFSPsEvts[\"count\"].max())\n",
    "for percentile_lvl in [0.995,0.996,0.997,0.998,0.999]:\n",
    "    print(percentile_lvl)\n",
    "    percentile = numberFSPsEvts[\"count\"].quantile(q=percentile_lvl)\n",
    "    cut_numberFSPsEvts = numberFSPsEvts[numberFSPsEvts[\"count\"] < percentile]\n",
    "    \n",
    "    #TMP_df_FSPs = df_FSPs[df_FSPs['__event__'].isin(cut_numberFSPsEvts[\"__event__\"])]\n",
    "    TMP_df_Hc = df_Hc[df_Hc['__event__'].isin(cut_numberFSPsEvts[\"__event__\"])]\n",
    "    \n",
    "    print(\"would delete\", round(100 - (TMP_df_Hc.shape[0]/df_Hc.shape[0])*100,2),\"% of evts\")\n",
    "    print(\"new max FSPs:\",cut_numberFSPsEvts[\"count\"].max())"
   ]
  },
  {
   "cell_type": "code",
   "execution_count": 49,
   "metadata": {},
   "outputs": [
    {
     "name": "stdout",
     "output_type": "stream",
     "text": [
      "11163573\n",
      "828867\n",
      "used delete_percentileLvl: 0.995\n",
      "count    828867.000000\n",
      "mean         13.468473\n",
      "std           3.960402\n",
      "min           1.000000\n",
      "25%          11.000000\n",
      "50%          13.000000\n",
      "75%          16.000000\n",
      "max          35.000000\n",
      "Name: count, dtype: float64\n",
      "10996905\n",
      "822214\n",
      "deleted 9901.0 % of events\n",
      "count    822214.000000\n",
      "mean         13.374748\n",
      "std           3.834275\n",
      "min           1.000000\n",
      "25%          11.000000\n",
      "50%          13.000000\n",
      "75%          16.000000\n",
      "max          23.000000\n",
      "Name: count, dtype: float64\n"
     ]
    }
   ],
   "source": [
    "print(df_FSPs.shape[0])\n",
    "print(df_Hc.shape[0])\n",
    "\n",
    "\n",
    "if delete_top_numFSP_evts:\n",
    "    delete_percentileLvl = 0.995\n",
    "    print(\"used delete_percentileLvl:\",delete_percentileLvl)\n",
    "    \n",
    "    \n",
    "    print(numberFSPsEvts[\"count\"].describe())\n",
    "    \n",
    "    percentile = numberFSPsEvts[\"count\"].quantile(q=delete_percentileLvl)\n",
    "    cut_numberFSPsEvts = numberFSPsEvts[numberFSPsEvts[\"count\"] < percentile]\n",
    "    \n",
    "    df_FSPs = df_FSPs[df_FSPs['__event__'].isin(cut_numberFSPsEvts[\"__event__\"])]\n",
    "    df_Hc = df_Hc[df_Hc['__event__'].isin(cut_numberFSPsEvts[\"__event__\"])]\n",
    "    \n",
    "print(df_FSPs.shape[0])\n",
    "print(df_Hc.shape[0])\n",
    "print(\"deleted\", round(100 - (df_Hc.shape[0]/numEvtsBeforeCut)*100,4),\"% of events\")\n",
    "numberFSPsEvts = pd.DataFrame({'count' : df_FSPs.groupby([\"__event__\"]).size()}).reset_index()\n",
    "print(numberFSPsEvts[\"count\"].describe())"
   ]
  },
  {
   "cell_type": "markdown",
   "metadata": {},
   "source": [
    "## impute the nan values of variables"
   ]
  },
  {
   "cell_type": "code",
   "execution_count": 50,
   "metadata": {},
   "outputs": [
    {
     "name": "stdout",
     "output_type": "stream",
     "text": [
      "0\n",
      "0\n",
      "0\n",
      "0\n",
      "0\n",
      "0\n",
      "0\n"
     ]
    }
   ],
   "source": [
    "## data preprocessing, dealing with NaN\n",
    "imputelist = [[\"pionID\",-1.],[\"kaonID\",-1.],[\"electronID\",-1.],[\"muonID\",-1.],[\"protonID\",-1.]\n",
    "              ,[\"clusterReg\",-1.],[\"clusterE9E21\",-1.]\n",
    "              ]\n",
    "for impute in imputelist:\n",
    "    column_name = impute[0]\n",
    "    impute_val = impute[1]\n",
    "    mask = df_FSPs[column_name].isna() == 1\n",
    "    df_FSPs.loc[mask, column_name] = impute_val\n",
    "    print(df_FSPs[df_FSPs[column_name].isna() == True].shape[0])"
   ]
  },
  {
   "cell_type": "markdown",
   "metadata": {},
   "source": [
    "## last check if events match between dfs"
   ]
  },
  {
   "cell_type": "code",
   "execution_count": 51,
   "metadata": {},
   "outputs": [],
   "source": [
    "df_Hc = df_Hc[df_Hc['__event__'].isin(df_FSPs[\"__event__\"])]\n",
    "df_FSPs = df_FSPs[df_FSPs['__event__'].isin(df_Hc[\"__event__\"])]"
   ]
  },
  {
   "cell_type": "code",
   "execution_count": 52,
   "metadata": {},
   "outputs": [
    {
     "name": "stdout",
     "output_type": "stream",
     "text": [
      "10996905\n",
      "822214\n"
     ]
    }
   ],
   "source": [
    "print(df_FSPs.shape[0])\n",
    "print(df_Hc.shape[0])"
   ]
  },
  {
   "cell_type": "markdown",
   "metadata": {},
   "source": [
    "## check the subset of (B-sig side) D*-> D0 (-> kpi, kpipi,...) pi  "
   ]
  },
  {
   "cell_type": "code",
   "execution_count": 53,
   "metadata": {},
   "outputs": [
    {
     "data": {
      "text/plain": [
       "Index(['__experiment__', '__run__', '__event__', '__candidate__',\n",
       "       '__ncandidates__', '__weight__', 'extraInfo__boSignalProbability__bc',\n",
       "       'isSignalAcceptMissingGamma', 'PDG', 'genUp4S_uniqParID_0',\n",
       "       ...\n",
       "       'z', 'x_uncertainty', 'y_uncertainty', 'z_uncertainty',\n",
       "       'uniqueParticleIdentifier', 'genParticleID', 'Bsig_uniqParID',\n",
       "       'HcMother_uniqParID', 'Hc_genParticleID', 'Hc_MotherPDG'],\n",
       "      dtype='object', length=103)"
      ]
     },
     "execution_count": 53,
     "metadata": {},
     "output_type": "execute_result"
    }
   ],
   "source": [
    "df_Hc.keys()"
   ]
  },
  {
   "cell_type": "code",
   "execution_count": 109,
   "metadata": {},
   "outputs": [],
   "source": [
    "# select only these D0 modes and D*+ -> D0 pi\n",
    "#D0:kpi \n",
    "#D0:kpipi pi \n",
    "#D0:kpipi0     \n",
    "#D0:kpipi pi pi0 "
   ]
  },
  {
   "cell_type": "code",
   "execution_count": 119,
   "metadata": {},
   "outputs": [],
   "source": [
    "pd.options.display.float_format = '{:20.2f}'.format\n",
    "df_Hc = df_Hc[((df_Hc[\"Bsig_uniqParID\"] == 83886081.0)  &\n",
    "            (df_Hc[\"genUp4S_PDG_0_0_0\"].abs() == 421.0)  & # 421=D0\n",
    "            (df_Hc[\"genUp4S_PDG_0_0_1\"].abs() == 211.0)  & # 211=pion\n",
    "            (df_Hc[\"genUp4S_PDG_0_0_2\"].isna() == True)  & # no particle \n",
    "            (df_Hc[\"genUp4S_PDG_0_0_0_0\"].abs() == 321.0)  & # 321=kaon \n",
    "            (df_Hc[\"genUp4S_PDG_0_0_0_1\"].abs() == 211.0)  & # 211=pion\n",
    "            ((df_Hc[\"genUp4S_PDG_0_0_0_2\"].abs() == 211.0)  | # 211=pion\n",
    "            (df_Hc[\"genUp4S_PDG_0_0_0_2\"].isna() == True) | # OR no particle\n",
    "            (df_Hc[\"genUp4S_PDG_0_0_0_2\"].abs() == 111.0)) & # OR 111=pi0\n",
    "            ((df_Hc[\"genUp4S_PDG_0_0_0_3\"].abs() == 211.0)  | # 211=pion\n",
    "            (df_Hc[\"genUp4S_PDG_0_0_0_3\"].isna() == True)) & # OR no particle\n",
    "            ((df_Hc[\"genUp4S_PDG_0_0_0_4\"].abs() == 111.0)  | # 111=pi0\n",
    "            (df_Hc[\"genUp4S_PDG_0_0_0_4\"].isna() == True)) & # OR no particle\n",
    "            (df_Hc[\"genUp4S_PDG_0_0_0_5\"].isna() == True)) # no particle\n",
    "              |\n",
    "        ((df_Hc[\"Bsig_uniqParID\"] == 83886082.0)  &\n",
    "            (df_Hc[\"genUp4S_PDG_1_0_0\"].abs() == 421.0)  & # 421=D0\n",
    "            (df_Hc[\"genUp4S_PDG_1_0_1\"].abs() == 211.0)  & # 211=pion\n",
    "            (df_Hc[\"genUp4S_PDG_1_0_2\"].isna() == True)  & # no particle \n",
    "            (df_Hc[\"genUp4S_PDG_1_0_0_0\"].abs() == 321.0)  & # 321=kaon \n",
    "            (df_Hc[\"genUp4S_PDG_1_0_0_1\"].abs() == 211.0)  & # 211=pion\n",
    "            ((df_Hc[\"genUp4S_PDG_1_0_0_2\"].abs() == 211.0)  | # 211=pion\n",
    "            (df_Hc[\"genUp4S_PDG_1_0_0_2\"].isna() == True) | # OR no particle\n",
    "            (df_Hc[\"genUp4S_PDG_1_0_0_2\"].abs() == 111.0)) & # OR 111=pi0\n",
    "            ((df_Hc[\"genUp4S_PDG_1_0_0_3\"].abs() == 211.0)  | # 211=pion\n",
    "            (df_Hc[\"genUp4S_PDG_1_0_0_3\"].isna() == True)) & # OR no particle\n",
    "            ((df_Hc[\"genUp4S_PDG_1_0_0_4\"].abs() == 111.0)  | # 111=pi0\n",
    "            (df_Hc[\"genUp4S_PDG_1_0_0_4\"].isna() == True)) & # OR no particle\n",
    "            (df_Hc[\"genUp4S_PDG_1_0_0_5\"].isna() == True)) # no particle\n",
    "     ]"
   ]
  },
  {
   "cell_type": "code",
   "execution_count": 120,
   "metadata": {},
   "outputs": [],
   "source": [
    "df_FSPs = df_FSPs[df_FSPs['__event__'].isin(df_Hc[\"__event__\"])]"
   ]
  },
  {
   "cell_type": "code",
   "execution_count": 121,
   "metadata": {},
   "outputs": [
    {
     "name": "stdout",
     "output_type": "stream",
     "text": [
      "1205717\n",
      "96244\n"
     ]
    }
   ],
   "source": [
    "print(df_FSPs.shape[0])\n",
    "print(df_Hc.shape[0])"
   ]
  },
  {
   "cell_type": "markdown",
   "metadata": {},
   "source": [
    "## merge x,y,z  vertex info of Hc to FSPs"
   ]
  },
  {
   "cell_type": "code",
   "execution_count": 140,
   "metadata": {},
   "outputs": [
    {
     "name": "stdout",
     "output_type": "stream",
     "text": [
      "count               96244.00\n",
      "mean                   -0.04\n",
      "std                     0.39\n",
      "min                   -16.84\n",
      "25%                    -0.06\n",
      "50%                    -0.05\n",
      "75%                    -0.02\n",
      "max                    20.43\n",
      "Name: x, dtype: float64\n",
      "count               96244.00\n",
      "mean                    0.05\n",
      "std                     0.20\n",
      "min                     0.00\n",
      "25%                     0.00\n",
      "50%                     0.00\n",
      "75%                     0.02\n",
      "max                    24.46\n",
      "Name: x_uncertainty, dtype: float64\n",
      "\n",
      "\n",
      "count               96244.00\n",
      "mean                    0.02\n",
      "std                     0.39\n",
      "min                   -18.44\n",
      "25%                     0.00\n",
      "50%                     0.02\n",
      "75%                     0.03\n",
      "max                    17.68\n",
      "Name: y, dtype: float64\n",
      "count               96244.00\n",
      "mean                    0.05\n",
      "std                     0.24\n",
      "min                     0.00\n",
      "25%                     0.00\n",
      "50%                     0.00\n",
      "75%                     0.02\n",
      "max                    27.95\n",
      "Name: y_uncertainty, dtype: float64\n",
      "\n",
      "\n",
      "count               96244.00\n",
      "mean                    0.00\n",
      "std                     0.55\n",
      "min                   -42.50\n",
      "25%                    -0.02\n",
      "50%                     0.00\n",
      "75%                     0.04\n",
      "max                    20.08\n",
      "Name: z, dtype: float64\n",
      "count               96244.00\n",
      "mean                    0.08\n",
      "std                     0.43\n",
      "min                     0.00\n",
      "25%                     0.00\n",
      "50%                     0.00\n",
      "75%                     0.02\n",
      "max                    42.78\n",
      "Name: z_uncertainty, dtype: float64\n",
      "\n",
      "\n"
     ]
    }
   ],
   "source": [
    "for coordinate in [\"x\",\"y\",\"z\"]:\n",
    "    print(df_Hc[coordinate].describe())    \n",
    "    print(df_Hc[f'{coordinate}_uncertainty'].describe())\n",
    "    print(\"\\n\")\n",
    "    "
   ]
  },
  {
   "cell_type": "code",
   "execution_count": 145,
   "metadata": {},
   "outputs": [],
   "source": [
    "df_FSPs = pd.merge(df_FSPs,df_Hc[[\"__event__\",\"x\",\"x_uncertainty\",\"y\",\"y_uncertainty\",\"z\",\"z_uncertainty\"]], on=\"__event__\")"
   ]
  },
  {
   "cell_type": "markdown",
   "metadata": {},
   "source": [
    "## save the dfs as they will be used for data prod"
   ]
  },
  {
   "cell_type": "code",
   "execution_count": 146,
   "metadata": {},
   "outputs": [],
   "source": [
    "df_FSPs_final = df_FSPs\n",
    "df_Y4S_final = df_Hc"
   ]
  },
  {
   "cell_type": "code",
   "execution_count": 147,
   "metadata": {},
   "outputs": [
    {
     "data": {
      "text/plain": [
       "'/nfs/dust/belle2/user/axelheim/MC_studies/Dstlnu_Bt_generic/NAHS/onlineDataProd/NAHS_allEvts_oneSub/'"
      ]
     },
     "execution_count": 147,
     "metadata": {},
     "output_type": "execute_result"
    }
   ],
   "source": [
    "root_path"
   ]
  },
  {
   "cell_type": "code",
   "execution_count": 148,
   "metadata": {},
   "outputs": [],
   "source": [
    "df_FSPs_final.to_csv(root_path + \"final_df_FSPs_preProcessed_NAHS.csv\")\n",
    "df_Y4S_final.to_csv(root_path + \"final_df_Y4S_preProcessed_NAHS.csv\")"
   ]
  },
  {
   "cell_type": "markdown",
   "metadata": {},
   "source": [
    "## load the df's"
   ]
  },
  {
   "cell_type": "code",
   "execution_count": 6,
   "metadata": {},
   "outputs": [],
   "source": [
    "df_FSPs = pd.read_csv(root_path + \"final_df_FSPs_preProcessed_NAHS.csv\".format(subset_size))\n",
    "df_Y4S_final = pd.read_csv(root_path + \"final_df_Y4S_preProcessed_NAHS.csv\")"
   ]
  },
  {
   "cell_type": "markdown",
   "metadata": {},
   "source": [
    "## beginning of data prod"
   ]
  },
  {
   "cell_type": "code",
   "execution_count": 126,
   "metadata": {},
   "outputs": [
    {
     "name": "stdout",
     "output_type": "stream",
     "text": [
      "minFSPs: 1\n",
      "maxFSPs: 23 \n",
      "\n",
      "num Events: 96244 \n",
      "\n"
     ]
    }
   ],
   "source": [
    "numFSPs = pd.DataFrame({'count' : df_FSPs_final.groupby( [\"__event__\"] ).size()}).reset_index()\n",
    "\n",
    "minFSPs = numFSPs[\"count\"].min()\n",
    "maxFSPs = numFSPs[\"count\"].max()\n",
    "print(\"minFSPs:\",minFSPs)\n",
    "print(\"maxFSPs:\",maxFSPs,'\\n')\n",
    "print(\"num Events:\",numFSPs.shape[0],'\\n')\n",
    "\n",
    "df_FSPs_final['numFSPs'] = df_FSPs_final.groupby('__event__')['__event__'].transform('count')"
   ]
  },
  {
   "cell_type": "code",
   "execution_count": 149,
   "metadata": {},
   "outputs": [],
   "source": [
    "variable_combinations = [\n",
    "    [[    \"charge\",\"dr\",\"dz\",\"clusterReg\",\"clusterE9E21\",\"pionID\",\"kaonID\",\"electronID\",\"muonID\",\"protonID\"],\"NAHSA_no_M\"],\n",
    "    [[\"M\",         \"dr\",\"dz\",\"clusterReg\",\"clusterE9E21\",\"pionID\",\"kaonID\",\"electronID\",\"muonID\",\"protonID\"],\"NAHSA_no_charge\"],\n",
    "    [[\"M\",\"charge\",     \"dz\",\"clusterReg\",\"clusterE9E21\",\"pionID\",\"kaonID\",\"electronID\",\"muonID\",\"protonID\"],\"NAHSA_no_dr\"],\n",
    "    [[\"M\",\"charge\",\"dr\",     \"clusterReg\",\"clusterE9E21\",\"pionID\",\"kaonID\",\"electronID\",\"muonID\",\"protonID\"],\"NAHSA_no_dz\"],\n",
    "    [[\"M\",\"charge\",\"dr\",\"dz\",             \"clusterE9E21\",\"pionID\",\"kaonID\",\"electronID\",\"muonID\",\"protonID\"],\"NAHSA_no_clReg\"],\n",
    "    [[\"M\",\"charge\",\"dr\",\"dz\",\"clusterReg\",               \"pionID\",\"kaonID\",\"electronID\",\"muonID\",\"protonID\"],\"NAHSA_no_E9E21\"],\n",
    "    [[\"M\",\"charge\",\"dr\",\"dz\",\"clusterReg\",\"clusterE9E21\",         \"kaonID\",\"electronID\",\"muonID\",\"protonID\"],\"NAHSA_no_pID\"],\n",
    "    [[\"M\",\"charge\",\"dr\",\"dz\",\"clusterReg\",\"clusterE9E21\",\"pionID\",         \"electronID\",\"muonID\",\"protonID\"],\"NAHSA_no_kID\"],\n",
    "    [[\"M\",\"charge\",\"dr\",\"dz\",\"clusterReg\",\"clusterE9E21\",\"pionID\",\"kaonID\",             \"muonID\",\"protonID\"],\"NAHSA_no_eID\"],\n",
    "    [[\"M\",\"charge\",\"dr\",\"dz\",\"clusterReg\",\"clusterE9E21\",\"pionID\",\"kaonID\",\"electronID\"         ,\"protonID\"],\"NAHSA_no_muID\"],\n",
    "    [[\"M\",\"charge\",\"dr\",\"dz\",\"clusterReg\",\"clusterE9E21\",\"pionID\",\"kaonID\",\"electronID\",\"muonID\"           ],\"NAHSA_no_proID\"],\n",
    "    [[\"M\",\"charge\",\"dr\",\"dz\",\"clusterReg\",\"clusterE9E21\",\"pionID\",\"kaonID\",\"electronID\",\"muonID\",\"protonID\"],\"NAHSA_allExtras\"],\n",
    "    [[\"M\",\"charge\",\"dr\",\"dz\",\"clusterReg\",\"clusterE9E21\",\"pionID\",\"kaonID\",\"electronID\",\"muonID\",\"protonID\",\n",
    "     \"x\",\"y\",\"z\"],\"NAHSA_allExtras_xyz\"],    \n",
    "    [[\"M\",\"charge\",\"dr\",\"dz\",\"clusterReg\",\"clusterE9E21\",\"pionID\",\"kaonID\",\"electronID\",\"muonID\",\"protonID\",\n",
    "     \"x\",\"x_uncertainty\",\"y\",\"y_uncertainty\",\"z\",\"z_uncertainty\"],\"NAHSA_allExtras_xyz_uncer\"],\n",
    "    [[\"M\",\"charge\",\"pionID\",\"kaonID\",\"electronID\",\"muonID\"],\"NAHSA_IDchargeM\"],\n",
    "    [[\"M\",\"charge\"],\"NAHSA_chargeM\"],\n",
    "    [[\"charge\",\"pionID\",\"kaonID\",\"electronID\",\"muonID\"],\"NAHSA_chargeIDs\"],\n",
    "    [[\"charge\",\"pionID\"],\"NAHSA_chargePionID\"],\n",
    "    #[[],\"NAHSA_only4mom\"],\n",
    "    [[\"charge\"],\"NAHSA_charge\"],\n",
    "    [[\"x\",\"x_uncertainty\",\"y\",\"y_uncertainty\",\"z\",\"z_uncertainty\"],\"NAHSA_Hc_xyz_uncertain\"],\n",
    "    [[\"x\",\"y\",\"z\"],\"NAHSA_Hc_xyz\"]\n",
    "    \n",
    "]"
   ]
  },
  {
   "cell_type": "code",
   "execution_count": 127,
   "metadata": {},
   "outputs": [],
   "source": [
    "variable_combinations = [\n",
    "    [[],\"NAHSA_only4mom\"]\n",
    "]"
   ]
  },
  {
   "cell_type": "code",
   "execution_count": 150,
   "metadata": {},
   "outputs": [],
   "source": [
    "minFSPs = 5 # minimum: Bsig: K pi pi lepton, X: 1 "
   ]
  },
  {
   "cell_type": "code",
   "execution_count": null,
   "metadata": {},
   "outputs": [
    {
     "name": "stdout",
     "output_type": "stream",
     "text": [
      "Will save data to: /nfs/dust/belle2/user/axelheim/MC_studies/Dstlnu_Bt_generic/data/NAHSA_Gmodes_1/NAHS_allEvts_oneSub/NAHSA_no_M is True \n",
      "\n",
      "numEvents: 1232\n",
      "num_FSPs_toData: 5\n",
      "leaves.shape: (1232, 5, 14)\n",
      "SA_target.shape: (1232, 5)\n",
      "global_tag.shape: (1232, 6)\n",
      "leaves[0]: [[ 0.14259353 -0.23874733 -0.42714393  0.50969122  0.          0.\n",
      "   0.          3.          0.91699219 -1.         -1.         -1.\n",
      "  -1.         -1.        ]\n",
      " [-0.79012734  0.27009329  0.09869234  0.97504294 -1.          0.00682038\n",
      "   0.00862561  2.          0.98535156  0.00096549  0.15175247  0.84725974\n",
      "   0.00000072  0.00002158]\n",
      " [-0.30713138 -0.09685621 -0.17984667  0.39437993  1.          0.00119517\n",
      "   0.00537646  2.          0.92382812  0.91642372  0.          0.05465339\n",
      "   0.02892289  0.        ]\n",
      " [-0.32595828  0.89728135  0.53782165  1.09572579 -1.          0.00434325\n",
      "   0.01232462  2.          0.98046875  0.0000001   0.          0.9999999\n",
      "   0.          0.        ]\n",
      " [ 0.08999581 -0.10610624 -0.10206289  0.17255322  0.          0.\n",
      "   0.          2.          0.93554688 -1.         -1.         -1.\n",
      "  -1.         -1.        ]]\n",
      "SA_target[0]: [2. 2. 2. 2. 2.]\n",
      "global_tag[0]: [b'22.0' b'-321.0' b'211.0' b'11.0' b'22.0' b'evt3679068']\n",
      "\n",
      "numEvents: 2597\n",
      "num_FSPs_toData: 6\n",
      "leaves.shape: (2597, 6, 14)\n",
      "SA_target.shape: (2597, 6)\n",
      "global_tag.shape: (2597, 7)\n",
      "leaves[0]: [[-0.09560395  0.1652905   0.10120289  0.25726054  1.          0.0287708\n",
      "   0.0034082  -1.         -1.          0.3552611   0.          0.60980216\n",
      "   0.03493674  0.        ]\n",
      " [ 0.57999521 -1.7457211   0.26883861  1.86208875 -1.          0.00039123\n",
      "  -0.00253316  2.          0.99414062  0.          0.          0.\n",
      "   1.          0.        ]\n",
      " [-0.42851827  0.00763365  0.41101813  0.59381991  0.          0.\n",
      "   0.          2.          0.97949219 -1.         -1.         -1.\n",
      "  -1.         -1.        ]\n",
      " [-0.63131112  0.62620139 -0.32216361  0.95600795  1.          0.00265012\n",
      "   0.0077189   2.          0.98046875  0.99999709  0.          0.\n",
      "   0.00000291  0.        ]\n",
      " [-0.80670559 -0.10175595  0.95644319  1.25535324  0.          0.\n",
      "   0.          2.          0.99609375 -1.         -1.         -1.\n",
      "  -1.         -1.        ]\n",
      " [ 0.53218204  0.71180815 -0.13503732  0.89895712  1.          0.00569078\n",
      "   0.00649021  2.          0.89746094  0.00067289  0.          0.99931934\n",
      "   0.00000777  0.        ]]\n",
      "SA_target[0]: [2. 2. 1. 2. 1. 1.]\n",
      "global_tag[0]: [b'211.0' b'13.0' b'22.0' b'211.0' b'22.0' b'211.0' b'evt2336453']\n",
      "\n",
      "numEvents: 4262\n",
      "num_FSPs_toData: 7\n",
      "leaves.shape: (4262, 7, 14)\n",
      "SA_target.shape: (4262, 7)\n",
      "global_tag.shape: (4262, 8)\n",
      "leaves[0]: [[ 0.53094238 -0.30268249  0.76225835  0.9869317  -1.          0.00172274\n",
      "   0.03133304  2.          0.9921875   0.91399012  0.          0.\n",
      "   0.08600988  0.        ]\n",
      " [ 0.04297565  0.13391559  0.13309357  0.19363416  0.          0.\n",
      "   0.          2.          0.94628906 -1.         -1.         -1.\n",
      "  -1.         -1.        ]\n",
      " [ 0.03132645  0.2037954  -0.03263651  0.20875597  0.          0.\n",
      "   0.          2.          1.         -1.         -1.         -1.\n",
      "  -1.         -1.        ]\n",
      " [-0.00988687  1.62125766  1.26897132  2.11721028  1.          0.00110412\n",
      "   0.02248507  2.          1.          0.47930184  0.52069816  0.\n",
      "   0.          0.        ]\n",
      " [ 0.03942928  0.09362516 -0.11710681  0.15503014  0.          0.\n",
      "   0.          3.          0.95410156 -1.         -1.         -1.\n",
      "  -1.         -1.        ]\n",
      " [-0.65043139  0.98185277  0.09565489  1.18162853 -1.          0.00480947\n",
      "   0.03127036  2.          0.984375    0.          0.          1.\n",
      "   0.          0.        ]\n",
      " [-0.06862498 -1.64852989 -0.36431479  1.69300004  1.          0.00196914\n",
      "   0.01725487  2.          0.98242188  0.          0.          0.\n",
      "   1.          0.        ]]\n",
      "SA_target[0]: [2. 0. 1. 2. 1. 1. 2.]\n",
      "global_tag[0]: [b'-211.0' b'nan' b'22.0' b'321.0' b'22.0' b'11.0' b'-13.0' b'evt4085451']\n",
      "\n",
      "numEvents: 5612\n",
      "num_FSPs_toData: 8\n",
      "leaves.shape: (5612, 8, 14)\n",
      "SA_target.shape: (5612, 8)\n",
      "global_tag.shape: (5612, 9)\n",
      "leaves[0]: [[  0.21344112   0.28360131   0.22173429   0.41851305  -1.\n",
      "    4.14516623  40.36038022  -1.          -1.           0.387556\n",
      "    0.           0.47890417   0.13353983   0.        ]\n",
      " [  0.29651606  -0.2206562    0.25957638   0.66910971   1.\n",
      "    0.00092312   0.07143347  -1.          -1.           0.\n",
      "    1.           0.           0.           0.        ]\n",
      " [ -0.31347156   0.03632166  -0.07033286   0.34013833  -1.\n",
      "   42.6588725  139.94234403  -1.          -1.           0.38116441\n",
      "    0.00418278   0.22360827   0.39098575   0.00005189]\n",
      " [  0.02688251  -0.05365198   0.06814121   0.09079883   0.\n",
      "    0.           0.           2.           1.          -1.\n",
      "   -1.          -1.          -1.          -1.        ]\n",
      " [  0.52185678   1.05861926  -0.27858737   1.22069655  -1.\n",
      "    0.00211156   0.08341913   2.           0.92675781   0.9999984\n",
      "    0.           0.0000016    0.           0.        ]\n",
      " [  0.12484116  -0.1701241   -0.15967251   0.29917007  -1.\n",
      "    0.00154327   0.06619863   3.           1.           0.53061406\n",
      "    0.           0.30606986   0.16331608   0.        ]\n",
      " [ -0.16805366  -0.02530389  -0.0354421    0.17360432   0.\n",
      "    0.           0.           2.           0.96972656  -1.\n",
      "   -1.          -1.          -1.          -1.        ]\n",
      " [  0.24107184   0.10846614   0.53531855   0.77470217   1.\n",
      "    0.01241551   0.07750778   1.           1.           0.00030494\n",
      "    0.99908073   0.00047298   0.00014135   0.        ]]\n",
      "SA_target[0]: [0. 2. 2. 0. 1. 2. 1. 1.]\n",
      "global_tag[0]: [b'nan' b'321.0' b'-13.0' b'nan' b'-211.0' b'-211.0' b'22.0' b'321.0'\n",
      " b'evt3678938']\n",
      "\n",
      "numEvents: 7120\n",
      "num_FSPs_toData: 9\n",
      "leaves.shape: (7120, 9, 14)\n",
      "SA_target.shape: (7120, 9)\n",
      "global_tag.shape: (7120, 10)\n",
      "leaves[0]: [[-0.49208492  0.05918187 -0.39715755  0.63512553  1.          0.00005419\n",
      "   0.06777864  3.          0.90039062  0.00055583  0.31971978  0.67971684\n",
      "   0.00000754  0.        ]\n",
      " [-0.01931417 -0.09640671  0.21657334  0.23784723  0.          0.\n",
      "   0.          1.          0.82617188 -1.         -1.         -1.\n",
      "  -1.         -1.        ]\n",
      " [-0.04824244  0.00541155  0.04846893  0.06859924  0.          0.\n",
      "   0.          2.          0.79980469 -1.         -1.         -1.\n",
      "  -1.         -1.        ]\n",
      " [-0.26503164 -1.11164224  0.39909393  1.21850158 -1.          0.00195234\n",
      "   0.07992086  2.          1.          0.65685216  0.3417743   0.00000002\n",
      "   0.00000001  0.0013735 ]\n",
      " [ 0.14805062 -0.14994198  0.27933481  0.3498993   0.          0.\n",
      "   0.          2.          0.99707031 -1.         -1.         -1.\n",
      "  -1.         -1.        ]\n",
      " [ 0.08736838 -0.10790467  0.02688573  0.14141957  0.          0.\n",
      "   0.          2.          0.99023438 -1.         -1.         -1.\n",
      "  -1.         -1.        ]\n",
      " [ 0.04801363 -0.58977842 -0.11557317  0.61209864 -1.          0.03531696\n",
      "  43.74590286 -1.         -1.          0.02357798  0.          0.00228638\n",
      "   0.97413564  0.        ]\n",
      " [-0.03000233 -0.11691035  0.2160497   0.26908983 -1.          0.10386508\n",
      "   0.1907423  -1.         -1.          0.40380521  0.          0.00004419\n",
      "   0.59615059  0.        ]\n",
      " [ 1.05508196 -1.0109669   1.3851217   2.01340859  0.          0.\n",
      "   0.          2.          0.98046875 -1.         -1.         -1.\n",
      "  -1.         -1.        ]]\n",
      "SA_target[0]: [2. 2. 0. 2. 1. 0. 1. 2. 1.]\n",
      "global_tag[0]: [b'-11.0' b'13.0' b'nan' b'-211.0' b'22.0' b'nan' b'-211.0' b'-211.0'\n",
      " b'22.0' b'evt2333285']\n",
      "\n",
      "numEvents: 8217\n",
      "num_FSPs_toData: 10\n",
      "leaves.shape: (8217, 10, 14)\n",
      "SA_target.shape: (8217, 10)\n",
      "global_tag.shape: (8217, 11)\n",
      "leaves[0]: [[ 1.25549746  1.0210619   1.53956914  2.23363261  1.          0.00067841\n",
      "   0.04235     2.          0.98632812  0.00020345  0.00000001  0.99979654\n",
      "   0.          0.        ]\n",
      " [ 0.10372876  0.04851699 -0.00754877  0.11476296  0.          0.\n",
      "   0.          2.          0.94921875 -1.         -1.         -1.\n",
      "  -1.         -1.        ]\n",
      " [-0.52188402 -1.22716725 -0.01614349  1.33362776  0.          0.\n",
      "   0.          2.          0.96582031 -1.         -1.         -1.\n",
      "  -1.         -1.        ]\n",
      " [-0.10184098  0.14517388  0.12296886  0.21579708  0.          0.\n",
      "   0.          2.          0.83496094 -1.         -1.         -1.\n",
      "  -1.         -1.        ]\n",
      " [-0.13125631 -0.1521731   0.01865819  0.24538316 -1.          0.00694551\n",
      "   0.0537661  -1.         -1.          0.3841865   0.          0.33433024\n",
      "   0.28148327  0.        ]\n",
      " [ 0.04648499  0.33631971 -0.02603796  0.59972223  1.          0.00533086\n",
      "   0.02170463  2.          0.97460938  0.          1.          0.\n",
      "   0.          0.        ]\n",
      " [-0.15278235  0.22440846  0.10445837  0.29088341  0.          0.\n",
      "   0.          2.          1.         -1.         -1.         -1.\n",
      "  -1.         -1.        ]\n",
      " [ 0.05299301 -0.18417542  0.03437809  0.19470669  0.          0.\n",
      "   0.          2.          0.86914062 -1.         -1.         -1.\n",
      "  -1.         -1.        ]\n",
      " [-0.00502073 -0.1000008  -0.00978082  0.10060334  0.          0.\n",
      "   0.          2.          1.         -1.         -1.         -1.\n",
      "  -1.         -1.        ]\n",
      " [-0.27010143  0.25502524  0.00186123  0.37147829  0.          0.\n",
      "   0.          2.          0.97167969 -1.         -1.         -1.\n",
      "  -1.         -1.        ]]\n",
      "SA_target[0]: [2. 0. 2. 2. 2. 1. 1. 1. 2. 1.]\n",
      "global_tag[0]: [b'-11.0' b'nan' b'22.0' b'-13.0' b'-211.0' b'321.0' b'22.0' b'22.0'\n",
      " b'22.0' b'22.0' b'evt3675880']\n"
     ]
    },
    {
     "name": "stdout",
     "output_type": "stream",
     "text": [
      "\n",
      "numEvents: 9179\n",
      "num_FSPs_toData: 11\n",
      "leaves.shape: (9179, 11, 14)\n",
      "SA_target.shape: (9179, 11)\n",
      "global_tag.shape: (9179, 12)\n",
      "leaves[0]: [[  0.11262705   0.38826191  -0.04237363   0.4297762    1.\n",
      "    0.00503318   0.01779051   2.           0.828125     0.99999338\n",
      "    0.           0.           0.00000662   0.        ]\n",
      " [  0.11877039  -0.04846106   0.0537724    0.13909116   0.\n",
      "    0.           0.           2.           0.96484375  -1.\n",
      "   -1.          -1.          -1.          -1.        ]\n",
      " [  0.45995867   0.34882525   0.55719155   0.8143607    1.\n",
      "    0.02532729   0.0096378    2.           0.94824219   0.65201295\n",
      "    0.           0.           0.34798705   0.        ]\n",
      " [  0.05562339  -0.21132517   0.04163673   0.2626134   -1.\n",
      "    0.91074547 -19.89052408  -1.          -1.           0.95649555\n",
      "    0.00000001   0.00000045   0.04350399   0.        ]\n",
      " [ -0.0667891    0.00932067  -0.04959819   0.08371164   0.\n",
      "    0.           0.           2.           0.97460938  -1.\n",
      "   -1.          -1.          -1.          -1.        ]\n",
      " [  0.40740094   0.7593044   -0.09833465   0.99795059  -1.\n",
      "    0.01421985   0.01555526   2.           0.90429688   0.\n",
      "    1.           0.           0.           0.        ]\n",
      " [  0.35281834  -0.42056698   0.73642963   0.9245808   -1.\n",
      "    0.00079353  -0.00262897   2.           0.95703125   0.05849861\n",
      "    0.           0.           0.94150139   0.        ]\n",
      " [  0.11571129   0.04478119  -0.00755794   0.12430439   0.\n",
      "    0.           0.           2.           0.96386719  -1.\n",
      "   -1.          -1.          -1.          -1.        ]\n",
      " [ -0.72932023   0.17954229  -0.1904548    0.77486544   0.\n",
      "    0.           0.           2.           0.99316406  -1.\n",
      "   -1.          -1.          -1.          -1.        ]\n",
      " [ -0.11117789  -1.00052023  -0.06656614   1.0143944   -1.\n",
      "    0.00504498   0.0203325    2.           1.           0.00009044\n",
      "    0.           0.           0.99990956   0.        ]\n",
      " [  0.66943651  -0.86293072   0.68905425   1.29887271  -1.\n",
      "    0.00403649  -0.00880818   2.           0.97363281   0.99806341\n",
      "    0.00000017   0.00002055   0.00191572   0.00000015]]\n",
      "SA_target[0]: [2. 0. 1. 2. 2. 2. 1. 2. 2. 2. 1.]\n",
      "global_tag[0]: [b'211.0' b'nan' b'211.0' b'211.0' b'22.0' b'-321.0' b'-211.0' b'22.0'\n",
      " b'22.0' b'13.0' b'-211.0' b'evt2333378']\n",
      "\n",
      "numEvents: 9815\n",
      "num_FSPs_toData: 12\n",
      "leaves.shape: (9815, 12, 14)\n",
      "SA_target.shape: (9815, 12)\n",
      "global_tag.shape: (9815, 13)\n",
      "leaves[0]: [[ 0.06718603  0.02908537  0.06884412  0.10049594  0.          0.\n",
      "   0.          2.          1.         -1.         -1.         -1.\n",
      "  -1.         -1.        ]\n",
      " [ 0.00174319  0.02726431  0.04281724  0.05079073  0.          0.\n",
      "   0.          2.          1.         -1.         -1.         -1.\n",
      "  -1.         -1.        ]\n",
      " [ 0.02114619 -0.23038544  0.33802107  0.43273866 -1.          0.14226691\n",
      "  -0.09648941  1.          0.99121094  0.96125595  0.          0.000572\n",
      "   0.03817205  0.        ]\n",
      " [ 0.08060137 -0.18803124  0.18719828  0.27730042  0.          0.\n",
      "   0.          2.          0.98242188 -1.         -1.         -1.\n",
      "  -1.         -1.        ]\n",
      " [ 0.2751275   0.0013417   0.28599757  0.42067974  1.          0.00145212\n",
      "  -0.00094841  1.          0.94726562  1.          0.          0.\n",
      "   0.          0.        ]\n",
      " [-0.00613758  0.04027321  0.11583778  0.12279248  0.          0.\n",
      "   0.          1.          1.         -1.         -1.         -1.\n",
      "  -1.         -1.        ]\n",
      " [ 0.39123207  0.53082997 -0.23623216  0.71423282 -1.          0.00230889\n",
      "  -0.00845396  2.          0.91503906  0.99966647  0.          0.\n",
      "   0.00033353  0.        ]\n",
      " [ 0.00695504 -0.06645986  0.04822351  0.08240627  0.          0.\n",
      "   0.          2.          1.         -1.         -1.         -1.\n",
      "  -1.         -1.        ]\n",
      " [ 0.07497406  0.47631216  0.75718564  1.0244713  -1.          0.00035482\n",
      "   0.00179191  1.          0.97851562  0.00004941  0.99995057  0.00000002\n",
      "   0.          0.00000001]\n",
      " [-0.24205787 -0.20309898  0.63679928  0.71088292  0.          0.\n",
      "   0.          1.          0.98144531 -1.         -1.         -1.\n",
      "  -1.         -1.        ]\n",
      " [ 0.00621524 -0.11438723  0.19816744  0.22889605  0.          0.\n",
      "   0.          1.          0.97460938 -1.         -1.         -1.\n",
      "  -1.         -1.        ]\n",
      " [ 0.63692141 -0.94640005  1.18604457  1.64561354  1.          0.00596186\n",
      "  -0.00245086  2.          0.96679688  0.00002758  0.          0.99997242\n",
      "   0.          0.        ]]\n",
      "SA_target[0]: [1. 0. 1. 0. 1. 0. 1. 2. 2. 1. 0. 2.]\n",
      "global_tag[0]: [b'22.0' b'nan' b'-211.0' b'nan' b'211.0' b'nan' b'-211.0' b'22.0'\n",
      " b'-321.0' b'22.0' b'nan' b'211.0' b'evt2339874']\n",
      "\n",
      "numEvents: 9734\n",
      "num_FSPs_toData: 13\n"
     ]
    }
   ],
   "source": [
    "for var_comb in variable_combinations:\n",
    "    ablationSub = var_comb[1]\n",
    "    data_dir = Path(nfs_path + \"data/\" + data_subdir + root_subdir + ablationSub + \"/\")    \n",
    "    if save_data:\n",
    "        data_dir.mkdir(parents=True, exist_ok=True)\n",
    "    print(\"Will save data to:\", data_dir,'is', save_data ,'\\n')\n",
    "\n",
    "\n",
    "    \n",
    "    for num_FSPs_toData in range(minFSPs, maxFSPs+1):\n",
    "        df_num_subset = df_FSPs_final.copy()\n",
    "        df_num_subset = df_num_subset[df_num_subset['numFSPs'] == num_FSPs_toData]\n",
    "\n",
    "\n",
    "        numEvents = df_num_subset.__event__.nunique()\n",
    "        print(\"numEvents:\",numEvents)\n",
    "        print(\"num_FSPs_toData:\",num_FSPs_toData)  \n",
    "        if numEvents == 0:\n",
    "            print(\"skipped because empty \\n\")\n",
    "            continue\n",
    "\n",
    "        if numEvents < 10:\n",
    "            print(\"skipped because <10 events \\n\")\n",
    "            continue\n",
    "\n",
    "        num_features = 4 + len(var_comb[0])\n",
    "        leaves = np.zeros((numEvents, num_FSPs_toData,  num_features))  \n",
    "        SA_target =  np.zeros((numEvents, num_FSPs_toData))\n",
    "        global_tag = np.chararray((numEvents, num_FSPs_toData + 1), itemsize=30)\n",
    "\n",
    "        event_list = df_num_subset[df_num_subset[\"numFSPs\"] == num_FSPs_toData][\"__event__\"].unique()\n",
    "        #print(\"len(event_list):\",len(event_list))\n",
    "        for i in range(numEvents):\n",
    "\n",
    "            event_iter = event_list[i]\n",
    "\n",
    "            global_tag_masterInfo = \"evt\" + str(event_iter)\n",
    "            global_tag[i,-1] = global_tag_masterInfo\n",
    "            #print(\"global_tag[i,-1]:\",global_tag[i,-1])\n",
    "            #print(\"i:\",i,\"event_iter:\",event_iter)\n",
    "\n",
    "            event_df = df_num_subset[df_num_subset.__event__ == event_iter]\n",
    "\n",
    "            for j in range(num_FSPs_toData):\n",
    "                #print(\"numParticle:\",j)\n",
    "                particle = event_df.iloc[j]\n",
    "\n",
    "                #print(particle[\"mcPDG\"],particle[\"px\"],particle[\"py\"],particle[\"pz\"],particle[\"E\"])\n",
    "                leaves[i,j,0] = particle[\"px\"]\n",
    "                leaves[i,j,1] = particle[\"py\"]\n",
    "                leaves[i,j,2] = particle[\"pz\"]\n",
    "                leaves[i,j,3] = particle[\"E\"]\n",
    "                \n",
    "                for k in range(len(var_comb[0])):\n",
    "                    leav_idx = k + 4\n",
    "                    leaves[i,j,leav_idx] = particle[var_comb[0][k]]\n",
    "                    \n",
    "\n",
    "\n",
    "\n",
    "                global_tag_Info = str((particle[\"mcPDG\"])) \n",
    "                global_tag[i,j] = global_tag_Info\n",
    "\n",
    "                label = -10 # error code if assignment fails\n",
    "                B_tag_uniqID = -10 # error code if assignment fails     \n",
    "\n",
    "                B_sig_uniqID = df_Y4S_final[df_Y4S_final[\"__event__\"] == event_iter].iloc[0]['Bsig_uniqParID']\n",
    "                if B_sig_uniqID == 83886082.0:\n",
    "                    B_tag_uniqID = 83886081.0\n",
    "                elif B_sig_uniqID == 83886081.0:\n",
    "                    B_tag_uniqID = 83886082.0\n",
    "\n",
    "                if particle[\"B_ID\"] == B_tag_uniqID:\n",
    "                    label = 1 # particle belongs to X (MC truth)\n",
    "                elif particle[\"B_ID\"] == B_sig_uniqID:\n",
    "                    label = 2 # particle belongs to Bsig (MC truth)\n",
    "                elif particle[\"B_ID\"] == 0:\n",
    "                    label = 0 # background (MC truth)\n",
    "\n",
    "\n",
    "                SA_target[i,j] = label\n",
    "\n",
    "            del event_df\n",
    "\n",
    "\n",
    "        # shuffle the data    \n",
    "        for idx in np.arange(leaves.shape[0]):   # arange is like range but gives ndarray instead of list\n",
    "            perms = np.random.permutation(leaves.shape[1])\n",
    "\n",
    "            leaves[idx,:] = leaves[idx,perms]\n",
    "            SA_target[idx,:] = SA_target[idx,perms]\n",
    "            global_tag[idx,0:-1] = global_tag[idx,perms]\n",
    "\n",
    "\n",
    "\n",
    "\n",
    "\n",
    "        #print(global_tag)\n",
    "        train_ratio = 0.8\n",
    "        validation_ratio = 0.2\n",
    "        #test_ratio = 0.1\n",
    "\n",
    "        print(\"leaves.shape:\",leaves.shape)\n",
    "        print(\"SA_target.shape:\",SA_target.shape)\n",
    "        print(\"global_tag.shape:\",global_tag.shape)\n",
    "\n",
    "\n",
    "        print(\"leaves[0]:\",leaves[0])\n",
    "        print(\"SA_target[0]:\",SA_target[0])\n",
    "        print(\"global_tag[0]:\",global_tag[0])\n",
    "\n",
    "        x=leaves\n",
    "        y=SA_target\n",
    "        z=global_tag\n",
    "\n",
    "        x_train, x_val, y_train, y_val, z_train, z_val = train_test_split(x, y, z, test_size=1 - train_ratio, shuffle=False)\n",
    "        #x_train, x_test, y_train, y_test, z_train, z_test = train_test_split(x, y, z, test_size=1 - train_ratio, shuffle=False)\n",
    "        #x_val, x_test, y_val, y_test, z_val, z_test = train_test_split(x_test, y_test, z_test, test_size=test_ratio/(test_ratio + validation_ratio), shuffle=False) \n",
    "\n",
    "        if save_data==True:\n",
    "            np.save(data_dir / \"leaves_train_FSP{}.npy\".format(num_FSPs_toData), x_train)\n",
    "            np.save(data_dir / \"is_left_arr_train_FSP{}.npy\".format(num_FSPs_toData), y_train)\n",
    "            np.save(data_dir / \"global_tag_train_FSP{}.npy\".format(num_FSPs_toData), z_train)\n",
    "\n",
    "            np.save(data_dir / \"leaves_val_FSP{}.npy\".format(num_FSPs_toData), x_val)\n",
    "            np.save(data_dir / \"is_left_arr_val_FSP{}.npy\".format(num_FSPs_toData), y_val)\n",
    "            np.save(data_dir / \"global_tag_val_FSP{}.npy\".format(num_FSPs_toData), z_val)\n",
    "\n",
    "            #np.save(data_dir / \"leaves_test_FSP{}.npy\".format(num_FSPs_toData), x_test)\n",
    "            #np.save(data_dir / \"is_left_arr_test_FSP{}.npy\".format(num_FSPs_toData), y_test)\n",
    "            #np.save(data_dir / \"global_tag_test_FSP{}.npy\".format(num_FSPs_toData), z_test)\n",
    "\n",
    "\n",
    "        print(\"\")\n",
    "\n",
    "\n",
    "        del df_num_subset\n"
   ]
  },
  {
   "cell_type": "code",
   "execution_count": null,
   "metadata": {},
   "outputs": [],
   "source": [
    "print(\"saving is done\")\n",
    "now = datetime.now()\n",
    "print(\"time at end =\", now)"
   ]
  },
  {
   "cell_type": "code",
   "execution_count": null,
   "metadata": {},
   "outputs": [],
   "source": []
  }
 ],
 "metadata": {
  "kernelspec": {
   "display_name": "Python 3",
   "language": "python",
   "name": "python3"
  },
  "language_info": {
   "codemirror_mode": {
    "name": "ipython",
    "version": 3
   },
   "file_extension": ".py",
   "mimetype": "text/x-python",
   "name": "python",
   "nbconvert_exporter": "python",
   "pygments_lexer": "ipython3",
   "version": "3.8.6"
  }
 },
 "nbformat": 4,
 "nbformat_minor": 4
}
