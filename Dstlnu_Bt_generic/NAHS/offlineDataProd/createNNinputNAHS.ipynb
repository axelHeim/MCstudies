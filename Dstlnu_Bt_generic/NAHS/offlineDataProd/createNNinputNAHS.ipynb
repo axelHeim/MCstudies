{
 "cells": [
  {
   "cell_type": "code",
   "execution_count": 1,
   "metadata": {},
   "outputs": [],
   "source": [
    "import matplotlib.pyplot as plt\n",
    "import uproot\n",
    "import numpy as np\n",
    "import pandas as pd\n",
    "\n",
    "from pathlib import Path\n",
    "from sklearn.model_selection import train_test_split\n",
    "\n",
    "from datetime import datetime\n",
    "import sys\n",
    "sys.path.insert(1, '/afs/desy.de/user/a/axelheim/private/MC_studies/Dstlnu_Bt_generic/util_funcs/')\n",
    "from pandas_colFuncs import whichBisSig_NAHS, B_ID"
   ]
  },
  {
   "cell_type": "code",
   "execution_count": 2,
   "metadata": {},
   "outputs": [],
   "source": [
    "save_data = True\n",
    "save_preprocessedDataframe = True\n",
    "tmp_data = False\n",
    "take_subset = False\n",
    "subset_size = 100000\n",
    "\n",
    "delete_top_numFSP_evts=True"
   ]
  },
  {
   "cell_type": "code",
   "execution_count": 3,
   "metadata": {},
   "outputs": [],
   "source": [
    "nfs_path = \"/nfs/dust/belle2/user/axelheim/MC_studies/Dstlnu_Bt_generic/\"\n",
    "\n",
    "data_subdir = \"FULLCMrun_Dstlnu_SHR_BsX_Ablations/\"\n",
    "root_subdir = \"SHR_CMvars_run1/\"   # \"SHR_LeasVars_run2/\"\n",
    "\n",
    "root_path = nfs_path + \"SHR_Hc_correctReco_BsX/\" + root_subdir # + sub + \"/\"\n",
    "root_path = \"/afs/desy.de/user/a/axelheim/private/MC_studies/Dstlnu_Bt_generic/NAHS/onlineDataProd/\""
   ]
  },
  {
   "cell_type": "code",
   "execution_count": 4,
   "metadata": {},
   "outputs": [],
   "source": [
    "merged = \"merged_\"\n",
    "if tmp_data:\n",
    "    merged += \"tmp_\"\n",
    "merged = \"\""
   ]
  },
  {
   "cell_type": "code",
   "execution_count": 5,
   "metadata": {},
   "outputs": [],
   "source": [
    "fileHc = uproot.open(root_path + merged + \"allHc.root:variables\")"
   ]
  },
  {
   "cell_type": "code",
   "execution_count": 26,
   "metadata": {},
   "outputs": [],
   "source": [
    "df_Hc = fileHc.arrays(library=\"pd\")"
   ]
  },
  {
   "cell_type": "code",
   "execution_count": 7,
   "metadata": {},
   "outputs": [
    {
     "name": "stdout",
     "output_type": "stream",
     "text": [
      "/afs/desy.de/user/a/axelheim/private/MC_studies/Dstlnu_Bt_generic/NAHS/onlineDataProd/gammas.root:variables\n",
      "/afs/desy.de/user/a/axelheim/private/MC_studies/Dstlnu_Bt_generic/NAHS/onlineDataProd/electrons.root:variables\n",
      "/afs/desy.de/user/a/axelheim/private/MC_studies/Dstlnu_Bt_generic/NAHS/onlineDataProd/pions.root:variables\n",
      "/afs/desy.de/user/a/axelheim/private/MC_studies/Dstlnu_Bt_generic/NAHS/onlineDataProd/kaons.root:variables\n",
      "/afs/desy.de/user/a/axelheim/private/MC_studies/Dstlnu_Bt_generic/NAHS/onlineDataProd/muons.root:variables\n"
     ]
    }
   ],
   "source": [
    "names = [\"gammas\",\"electrons\",\"pions\",\"kaons\",\"muons\"]\n",
    "dfs = []\n",
    "for name in names:\n",
    "    filename=root_path + merged + \"{}.root:variables\".format(name)\n",
    "    print(filename)\n",
    "    tmpFileFSPs = uproot.open(filename)\n",
    "    df_tmp = tmpFileFSPs.arrays(library=\"pd\")\n",
    "    dfs.append(df_tmp)"
   ]
  },
  {
   "cell_type": "code",
   "execution_count": 8,
   "metadata": {},
   "outputs": [],
   "source": [
    "df_FSPs = pd.concat(dfs)"
   ]
  },
  {
   "cell_type": "code",
   "execution_count": 9,
   "metadata": {},
   "outputs": [],
   "source": [
    "# delete FSPs for which no Y4S file entry was found\n",
    "df_FSPs = df_FSPs[df_FSPs['__event__'].isin(df_Hc[\"__event__\"])]"
   ]
  },
  {
   "cell_type": "markdown",
   "metadata": {},
   "source": [
    "## check that each particles occurs only ones"
   ]
  },
  {
   "cell_type": "code",
   "execution_count": 10,
   "metadata": {},
   "outputs": [
    {
     "data": {
      "text/plain": [
       "count\n",
       "1    2991\n",
       "dtype: int64"
      ]
     },
     "execution_count": 10,
     "metadata": {},
     "output_type": "execute_result"
    }
   ],
   "source": [
    "groupsFSPs_uniqParID = pd.DataFrame({'count' : df_FSPs.groupby( [\"__event__\",\"uniqueParticleIdentifier\"] ).size()}).reset_index()\n",
    "groupsFSPs_uniqParID.value_counts('count')"
   ]
  },
  {
   "cell_type": "markdown",
   "metadata": {},
   "source": [
    "## add cols"
   ]
  },
  {
   "cell_type": "code",
   "execution_count": 27,
   "metadata": {},
   "outputs": [],
   "source": [
    "df_Hc['Bsig_uniqParID'] = df_Hc.apply(whichBisSig_NAHS, axis=1)"
   ]
  },
  {
   "cell_type": "code",
   "execution_count": 12,
   "metadata": {},
   "outputs": [
    {
     "data": {
      "text/plain": [
       "83886082.0    95\n",
       "83886081.0    83\n",
       "Name: Bsig_uniqParID, dtype: int64"
      ]
     },
     "execution_count": 12,
     "metadata": {},
     "output_type": "execute_result"
    }
   ],
   "source": [
    "df_Hc['Bsig_uniqParID'].value_counts()"
   ]
  },
  {
   "cell_type": "code",
   "execution_count": 13,
   "metadata": {},
   "outputs": [],
   "source": [
    "# function to create col with the particles mother B's uniqueParticleIdentifier\n",
    "df_FSPs['B_ID'] = df_FSPs.apply(B_ID, axis=1)"
   ]
  },
  {
   "cell_type": "code",
   "execution_count": 14,
   "metadata": {},
   "outputs": [
    {
     "data": {
      "text/plain": [
       "83886081    1349\n",
       "83886082    1255\n",
       "0            387\n",
       "Name: B_ID, dtype: int64"
      ]
     },
     "execution_count": 14,
     "metadata": {},
     "output_type": "execute_result"
    }
   ],
   "source": [
    "df_FSPs['B_ID'].value_counts()"
   ]
  },
  {
   "cell_type": "markdown",
   "metadata": {},
   "source": [
    "## check D*lnu"
   ]
  },
  {
   "cell_type": "code",
   "execution_count": 30,
   "metadata": {},
   "outputs": [
    {
     "data": {
      "text/html": [
       "<div>\n",
       "<style scoped>\n",
       "    .dataframe tbody tr th:only-of-type {\n",
       "        vertical-align: middle;\n",
       "    }\n",
       "\n",
       "    .dataframe tbody tr th {\n",
       "        vertical-align: top;\n",
       "    }\n",
       "\n",
       "    .dataframe thead th {\n",
       "        text-align: right;\n",
       "    }\n",
       "</style>\n",
       "<table border=\"1\" class=\"dataframe\">\n",
       "  <thead>\n",
       "    <tr style=\"text-align: right;\">\n",
       "      <th></th>\n",
       "      <th>genUp4S_PDG_1_0</th>\n",
       "      <th>genUp4S_PDG_1_1</th>\n",
       "      <th>genUp4S_PDG_1_2</th>\n",
       "      <th>count</th>\n",
       "    </tr>\n",
       "  </thead>\n",
       "  <tbody>\n",
       "    <tr>\n",
       "      <th>0</th>\n",
       "      <td>-413.0</td>\n",
       "      <td>-13.0</td>\n",
       "      <td>14.0</td>\n",
       "      <td>22</td>\n",
       "    </tr>\n",
       "    <tr>\n",
       "      <th>1</th>\n",
       "      <td>-413.0</td>\n",
       "      <td>-11.0</td>\n",
       "      <td>12.0</td>\n",
       "      <td>27</td>\n",
       "    </tr>\n",
       "    <tr>\n",
       "      <th>2</th>\n",
       "      <td>413.0</td>\n",
       "      <td>11.0</td>\n",
       "      <td>-12.0</td>\n",
       "      <td>22</td>\n",
       "    </tr>\n",
       "    <tr>\n",
       "      <th>3</th>\n",
       "      <td>413.0</td>\n",
       "      <td>13.0</td>\n",
       "      <td>-14.0</td>\n",
       "      <td>24</td>\n",
       "    </tr>\n",
       "  </tbody>\n",
       "</table>\n",
       "</div>"
      ],
      "text/plain": [
       "   genUp4S_PDG_1_0  genUp4S_PDG_1_1  genUp4S_PDG_1_2  count\n",
       "0           -413.0            -13.0             14.0     22\n",
       "1           -413.0            -11.0             12.0     27\n",
       "2            413.0             11.0            -12.0     22\n",
       "3            413.0             13.0            -14.0     24"
      ]
     },
     "execution_count": 30,
     "metadata": {},
     "output_type": "execute_result"
    }
   ],
   "source": [
    "groupsHc = pd.DataFrame({'count' : df_Hc[df_Hc[\"Bsig_uniqParID\"] == 83886082.0].groupby( \n",
    "    [\"genUp4S_PDG_1_0\",\"genUp4S_PDG_1_1\",\"genUp4S_PDG_1_2\"] ).size()}).reset_index()\n",
    "\n",
    "groupsHc"
   ]
  },
  {
   "cell_type": "code",
   "execution_count": 33,
   "metadata": {},
   "outputs": [
    {
     "data": {
      "text/html": [
       "<div>\n",
       "<style scoped>\n",
       "    .dataframe tbody tr th:only-of-type {\n",
       "        vertical-align: middle;\n",
       "    }\n",
       "\n",
       "    .dataframe tbody tr th {\n",
       "        vertical-align: top;\n",
       "    }\n",
       "\n",
       "    .dataframe thead th {\n",
       "        text-align: right;\n",
       "    }\n",
       "</style>\n",
       "<table border=\"1\" class=\"dataframe\">\n",
       "  <thead>\n",
       "    <tr style=\"text-align: right;\">\n",
       "      <th></th>\n",
       "      <th>genUp4S_PDG_0_0</th>\n",
       "      <th>genUp4S_PDG_0_1</th>\n",
       "      <th>genUp4S_PDG_0_2</th>\n",
       "      <th>count</th>\n",
       "    </tr>\n",
       "  </thead>\n",
       "  <tbody>\n",
       "    <tr>\n",
       "      <th>0</th>\n",
       "      <td>-413.0</td>\n",
       "      <td>-13.0</td>\n",
       "      <td>14.0</td>\n",
       "      <td>21</td>\n",
       "    </tr>\n",
       "    <tr>\n",
       "      <th>1</th>\n",
       "      <td>-413.0</td>\n",
       "      <td>-11.0</td>\n",
       "      <td>12.0</td>\n",
       "      <td>18</td>\n",
       "    </tr>\n",
       "    <tr>\n",
       "      <th>2</th>\n",
       "      <td>413.0</td>\n",
       "      <td>11.0</td>\n",
       "      <td>-12.0</td>\n",
       "      <td>24</td>\n",
       "    </tr>\n",
       "    <tr>\n",
       "      <th>3</th>\n",
       "      <td>413.0</td>\n",
       "      <td>13.0</td>\n",
       "      <td>-14.0</td>\n",
       "      <td>20</td>\n",
       "    </tr>\n",
       "  </tbody>\n",
       "</table>\n",
       "</div>"
      ],
      "text/plain": [
       "   genUp4S_PDG_0_0  genUp4S_PDG_0_1  genUp4S_PDG_0_2  count\n",
       "0           -413.0            -13.0             14.0     21\n",
       "1           -413.0            -11.0             12.0     18\n",
       "2            413.0             11.0            -12.0     24\n",
       "3            413.0             13.0            -14.0     20"
      ]
     },
     "execution_count": 33,
     "metadata": {},
     "output_type": "execute_result"
    }
   ],
   "source": [
    "groupsHc = pd.DataFrame({'count' : df_Hc[df_Hc[\"Bsig_uniqParID\"] == 83886081.0].groupby( \n",
    "    [\"genUp4S_PDG_0_0\",\"genUp4S_PDG_0_1\",\"genUp4S_PDG_0_2\"] ).size()}).reset_index()\n",
    "\n",
    "groupsHc"
   ]
  },
  {
   "cell_type": "markdown",
   "metadata": {},
   "source": [
    "## delete evts where Hc mother and Bsig overlap"
   ]
  },
  {
   "cell_type": "code",
   "execution_count": 23,
   "metadata": {
    "scrolled": true
   },
   "outputs": [
    {
     "name": "stdout",
     "output_type": "stream",
     "text": [
      "178\n"
     ]
    }
   ],
   "source": [
    "print(df_Hc.shape[0])"
   ]
  },
  {
   "cell_type": "code",
   "execution_count": 34,
   "metadata": {},
   "outputs": [
    {
     "data": {
      "text/html": [
       "<div>\n",
       "<style scoped>\n",
       "    .dataframe tbody tr th:only-of-type {\n",
       "        vertical-align: middle;\n",
       "    }\n",
       "\n",
       "    .dataframe tbody tr th {\n",
       "        vertical-align: top;\n",
       "    }\n",
       "\n",
       "    .dataframe thead th {\n",
       "        text-align: right;\n",
       "    }\n",
       "</style>\n",
       "<table border=\"1\" class=\"dataframe\">\n",
       "  <thead>\n",
       "    <tr style=\"text-align: right;\">\n",
       "      <th></th>\n",
       "      <th>__event__</th>\n",
       "      <th>uniqueParticleIdentifier</th>\n",
       "      <th>PDG</th>\n",
       "      <th>genMothPDG_0</th>\n",
       "      <th>Bsig_uniqParID</th>\n",
       "      <th>mcMother0_uniqParID</th>\n",
       "    </tr>\n",
       "  </thead>\n",
       "  <tbody>\n",
       "    <tr>\n",
       "      <th>51</th>\n",
       "      <td>2331013</td>\n",
       "      <td>100663296.0</td>\n",
       "      <td>-413.0</td>\n",
       "      <td>511.0</td>\n",
       "      <td>83886081.0</td>\n",
       "      <td>83886081.0</td>\n",
       "    </tr>\n",
       "    <tr>\n",
       "      <th>52</th>\n",
       "      <td>2331096</td>\n",
       "      <td>100663296.0</td>\n",
       "      <td>-413.0</td>\n",
       "      <td>511.0</td>\n",
       "      <td>83886082.0</td>\n",
       "      <td>83886082.0</td>\n",
       "    </tr>\n",
       "    <tr>\n",
       "      <th>53</th>\n",
       "      <td>2331142</td>\n",
       "      <td>100663296.0</td>\n",
       "      <td>413.0</td>\n",
       "      <td>-511.0</td>\n",
       "      <td>83886081.0</td>\n",
       "      <td>83886081.0</td>\n",
       "    </tr>\n",
       "    <tr>\n",
       "      <th>54</th>\n",
       "      <td>2331249</td>\n",
       "      <td>100663296.0</td>\n",
       "      <td>-413.0</td>\n",
       "      <td>511.0</td>\n",
       "      <td>83886082.0</td>\n",
       "      <td>83886082.0</td>\n",
       "    </tr>\n",
       "    <tr>\n",
       "      <th>55</th>\n",
       "      <td>2331349</td>\n",
       "      <td>100663296.0</td>\n",
       "      <td>413.0</td>\n",
       "      <td>-511.0</td>\n",
       "      <td>83886082.0</td>\n",
       "      <td>83886082.0</td>\n",
       "    </tr>\n",
       "    <tr>\n",
       "      <th>56</th>\n",
       "      <td>2331398</td>\n",
       "      <td>100663296.0</td>\n",
       "      <td>413.0</td>\n",
       "      <td>-511.0</td>\n",
       "      <td>83886081.0</td>\n",
       "      <td>83886081.0</td>\n",
       "    </tr>\n",
       "    <tr>\n",
       "      <th>57</th>\n",
       "      <td>2331398</td>\n",
       "      <td>100663296.0</td>\n",
       "      <td>413.0</td>\n",
       "      <td>-511.0</td>\n",
       "      <td>83886081.0</td>\n",
       "      <td>83886081.0</td>\n",
       "    </tr>\n",
       "    <tr>\n",
       "      <th>61</th>\n",
       "      <td>2331499</td>\n",
       "      <td>100663296.0</td>\n",
       "      <td>-413.0</td>\n",
       "      <td>511.0</td>\n",
       "      <td>83886082.0</td>\n",
       "      <td>83886082.0</td>\n",
       "    </tr>\n",
       "    <tr>\n",
       "      <th>62</th>\n",
       "      <td>2331581</td>\n",
       "      <td>100663296.0</td>\n",
       "      <td>413.0</td>\n",
       "      <td>-511.0</td>\n",
       "      <td>83886082.0</td>\n",
       "      <td>83886082.0</td>\n",
       "    </tr>\n",
       "    <tr>\n",
       "      <th>63</th>\n",
       "      <td>2331619</td>\n",
       "      <td>100663296.0</td>\n",
       "      <td>413.0</td>\n",
       "      <td>-511.0</td>\n",
       "      <td>83886081.0</td>\n",
       "      <td>83886081.0</td>\n",
       "    </tr>\n",
       "  </tbody>\n",
       "</table>\n",
       "</div>"
      ],
      "text/plain": [
       "    __event__  uniqueParticleIdentifier    PDG  genMothPDG_0  Bsig_uniqParID  \\\n",
       "51    2331013               100663296.0 -413.0         511.0      83886081.0   \n",
       "52    2331096               100663296.0 -413.0         511.0      83886082.0   \n",
       "53    2331142               100663296.0  413.0        -511.0      83886081.0   \n",
       "54    2331249               100663296.0 -413.0         511.0      83886082.0   \n",
       "55    2331349               100663296.0  413.0        -511.0      83886082.0   \n",
       "56    2331398               100663296.0  413.0        -511.0      83886081.0   \n",
       "57    2331398               100663296.0  413.0        -511.0      83886081.0   \n",
       "61    2331499               100663296.0 -413.0         511.0      83886082.0   \n",
       "62    2331581               100663296.0  413.0        -511.0      83886082.0   \n",
       "63    2331619               100663296.0  413.0        -511.0      83886081.0   \n",
       "\n",
       "    mcMother0_uniqParID  \n",
       "51           83886081.0  \n",
       "52           83886082.0  \n",
       "53           83886081.0  \n",
       "54           83886082.0  \n",
       "55           83886082.0  \n",
       "56           83886081.0  \n",
       "57           83886081.0  \n",
       "61           83886082.0  \n",
       "62           83886082.0  \n",
       "63           83886081.0  "
      ]
     },
     "execution_count": 34,
     "metadata": {},
     "output_type": "execute_result"
    }
   ],
   "source": [
    "df_Hc[df_Hc['Bsig_uniqParID'] == df_Hc['mcMother0_uniqParID']][[\"__event__\",\"uniqueParticleIdentifier\",\"PDG\",\n",
    "    \"genMothPDG_0\",'Bsig_uniqParID',\"mcMother0_uniqParID\"]][:10]"
   ]
  },
  {
   "cell_type": "code",
   "execution_count": 35,
   "metadata": {},
   "outputs": [],
   "source": [
    "df_Hc = df_Hc[df_Hc['Bsig_uniqParID'] != df_Hc['mcMother0_uniqParID']]"
   ]
  },
  {
   "cell_type": "code",
   "execution_count": 36,
   "metadata": {
    "scrolled": true
   },
   "outputs": [
    {
     "name": "stdout",
     "output_type": "stream",
     "text": [
      "97\n"
     ]
    }
   ],
   "source": [
    "print(df_Hc.shape[0])"
   ]
  },
  {
   "cell_type": "code",
   "execution_count": 37,
   "metadata": {},
   "outputs": [],
   "source": [
    "#[[\"__event__\",\"uniqueParticleIdentifier\",\"PDG\",\"genMothPDG_0\",'Bsig_uniqParID',\"mcMother0_uniqParID\"]]"
   ]
  },
  {
   "cell_type": "markdown",
   "metadata": {},
   "source": [
    "## take care of duplis in df_Hc, delete them, because with the prior, duplis here mean there must have been an error"
   ]
  },
  {
   "cell_type": "code",
   "execution_count": 63,
   "metadata": {},
   "outputs": [
    {
     "data": {
      "text/plain": [
       "count\n",
       "1    95\n",
       "2     1\n",
       "dtype: int64"
      ]
     },
     "execution_count": 63,
     "metadata": {},
     "output_type": "execute_result"
    }
   ],
   "source": [
    "groupsHc_uniqParID = pd.DataFrame({'count' : df_Hc.groupby( [\"__event__\"] ).size()}).reset_index()\n",
    "groupsHc_uniqParID.value_counts('count')"
   ]
  },
  {
   "cell_type": "code",
   "execution_count": 46,
   "metadata": {},
   "outputs": [
    {
     "data": {
      "text/html": [
       "<div>\n",
       "<style scoped>\n",
       "    .dataframe tbody tr th:only-of-type {\n",
       "        vertical-align: middle;\n",
       "    }\n",
       "\n",
       "    .dataframe tbody tr th {\n",
       "        vertical-align: top;\n",
       "    }\n",
       "\n",
       "    .dataframe thead th {\n",
       "        text-align: right;\n",
       "    }\n",
       "</style>\n",
       "<table border=\"1\" class=\"dataframe\">\n",
       "  <thead>\n",
       "    <tr style=\"text-align: right;\">\n",
       "      <th></th>\n",
       "      <th>__event__</th>\n",
       "      <th>uniqueParticleIdentifier</th>\n",
       "      <th>PDG</th>\n",
       "      <th>genMothPDG_0</th>\n",
       "      <th>Bsig_uniqParID</th>\n",
       "      <th>mcMother0_uniqParID</th>\n",
       "      <th>px</th>\n",
       "      <th>E</th>\n",
       "      <th>x</th>\n",
       "      <th>genUp4S_PDG_1_0</th>\n",
       "    </tr>\n",
       "  </thead>\n",
       "  <tbody>\n",
       "    <tr>\n",
       "      <th>20</th>\n",
       "      <td>2332070</td>\n",
       "      <td>100663296.0</td>\n",
       "      <td>-411.0</td>\n",
       "      <td>-511.0</td>\n",
       "      <td>83886081.0</td>\n",
       "      <td>83886082.0</td>\n",
       "      <td>-0.257812</td>\n",
       "      <td>2.284948</td>\n",
       "      <td>-0.051214</td>\n",
       "      <td>411.0</td>\n",
       "    </tr>\n",
       "    <tr>\n",
       "      <th>21</th>\n",
       "      <td>2332070</td>\n",
       "      <td>100663296.0</td>\n",
       "      <td>411.0</td>\n",
       "      <td>-511.0</td>\n",
       "      <td>83886081.0</td>\n",
       "      <td>83886082.0</td>\n",
       "      <td>0.036926</td>\n",
       "      <td>2.162483</td>\n",
       "      <td>-0.044568</td>\n",
       "      <td>411.0</td>\n",
       "    </tr>\n",
       "  </tbody>\n",
       "</table>\n",
       "</div>"
      ],
      "text/plain": [
       "    __event__  uniqueParticleIdentifier    PDG  genMothPDG_0  Bsig_uniqParID  \\\n",
       "20    2332070               100663296.0 -411.0        -511.0      83886081.0   \n",
       "21    2332070               100663296.0  411.0        -511.0      83886081.0   \n",
       "\n",
       "    mcMother0_uniqParID        px         E         x  genUp4S_PDG_1_0  \n",
       "20           83886082.0 -0.257812  2.284948 -0.051214            411.0  \n",
       "21           83886082.0  0.036926  2.162483 -0.044568            411.0  "
      ]
     },
     "execution_count": 46,
     "metadata": {},
     "output_type": "execute_result"
    }
   ],
   "source": [
    "df_Hc[df_Hc['__event__'].isin(groupsHc_uniqParID[groupsHc_uniqParID[\"count\"]>1][\"__event__\"])][[\"__event__\",\n",
    "    \"uniqueParticleIdentifier\",\"PDG\",\n",
    "    \"genMothPDG_0\",'Bsig_uniqParID',\"mcMother0_uniqParID\",\"px\",\"E\",\"x\",\"genUp4S_PDG_1_0\"]][:10]"
   ]
  },
  {
   "cell_type": "code",
   "execution_count": 73,
   "metadata": {},
   "outputs": [],
   "source": [
    "df_Hc = df_Hc[df_Hc['__event__'].isin(groupsHc_uniqParID[groupsHc_uniqParID[\"count\"]==1][\"__event__\"])]"
   ]
  },
  {
   "cell_type": "code",
   "execution_count": 74,
   "metadata": {
    "scrolled": true
   },
   "outputs": [],
   "source": [
    "df_FSPs = df_FSPs[df_FSPs['__event__'].isin(df_Hc[\"__event__\"])]"
   ]
  },
  {
   "cell_type": "code",
   "execution_count": 75,
   "metadata": {},
   "outputs": [
    {
     "data": {
      "text/plain": [
       "count\n",
       "1    95\n",
       "dtype: int64"
      ]
     },
     "execution_count": 75,
     "metadata": {},
     "output_type": "execute_result"
    }
   ],
   "source": [
    "groupsHc_uniqParID = pd.DataFrame({'count' : df_Hc.groupby( [\"__event__\"] ).size()}).reset_index()\n",
    "groupsHc_uniqParID.value_counts('count')"
   ]
  },
  {
   "cell_type": "markdown",
   "metadata": {},
   "source": [
    "##  "
   ]
  },
  {
   "cell_type": "code",
   "execution_count": null,
   "metadata": {},
   "outputs": [],
   "source": []
  },
  {
   "cell_type": "markdown",
   "metadata": {},
   "source": [
    "##  "
   ]
  },
  {
   "cell_type": "code",
   "execution_count": null,
   "metadata": {},
   "outputs": [],
   "source": []
  },
  {
   "cell_type": "markdown",
   "metadata": {},
   "source": [
    "##  "
   ]
  },
  {
   "cell_type": "code",
   "execution_count": null,
   "metadata": {},
   "outputs": [],
   "source": []
  },
  {
   "cell_type": "markdown",
   "metadata": {},
   "source": [
    "##  "
   ]
  },
  {
   "cell_type": "code",
   "execution_count": null,
   "metadata": {},
   "outputs": [],
   "source": []
  }
 ],
 "metadata": {
  "kernelspec": {
   "display_name": "Python 3",
   "language": "python",
   "name": "python3"
  },
  "language_info": {
   "codemirror_mode": {
    "name": "ipython",
    "version": 3
   },
   "file_extension": ".py",
   "mimetype": "text/x-python",
   "name": "python",
   "nbconvert_exporter": "python",
   "pygments_lexer": "ipython3",
   "version": "3.8.6"
  }
 },
 "nbformat": 4,
 "nbformat_minor": 4
}
