{
 "cells": [
  {
   "cell_type": "code",
   "execution_count": 53,
   "metadata": {},
   "outputs": [],
   "source": [
    "import matplotlib.pyplot as plt\n",
    "import uproot\n",
    "import numpy as np\n",
    "import pandas as pd\n",
    "\n",
    "from pathlib import Path\n",
    "from sklearn.model_selection import train_test_split\n",
    "\n",
    "from datetime import datetime\n",
    "import sys\n",
    "sys.path.insert(1, '/afs/desy.de/user/a/axelheim/private/MC_studies/Dstlnu_Bt_generic/util_funcs/')\n",
    "from pandas_colFuncs import whichBisSig_NAHS, B_ID, ancestor_below_B"
   ]
  },
  {
   "cell_type": "code",
   "execution_count": 54,
   "metadata": {},
   "outputs": [
    {
     "name": "stdout",
     "output_type": "stream",
     "text": [
      "time at start = 2021-10-21 14:48:50.255413\n"
     ]
    }
   ],
   "source": [
    "now = datetime.now()\n",
    "print(\"time at start =\", now)"
   ]
  },
  {
   "cell_type": "code",
   "execution_count": 55,
   "metadata": {},
   "outputs": [],
   "source": [
    "save_data = False\n",
    "save_preprocessedDataframe = True\n",
    "tmp_data = False\n",
    "take_subset = False\n",
    "subset_size = 100000\n",
    "\n",
    "delete_top_numFSP_evts=False"
   ]
  },
  {
   "cell_type": "code",
   "execution_count": 56,
   "metadata": {},
   "outputs": [],
   "source": [
    "nfs_path = \"/nfs/dust/belle2/user/axelheim/MC_studies/Dstlnu_Bt_generic/\"\n",
    "\n",
    "data_subdir = \"FULLCMrun_Dstlnu_SHR_BsX_Ablations/\"\n",
    "root_subdir = \"SHR_CMvars_run1/\"   # \"SHR_LeasVars_run2/\"\n",
    "\n",
    "root_path = nfs_path + \"SHR_Hc_correctReco_BsX/\" + root_subdir # + sub + \"/\"\n",
    "root_path = \"/afs/desy.de/user/a/axelheim/private/MC_studies/Dstlnu_Bt_generic/NAHS/onlineDataProd/\""
   ]
  },
  {
   "cell_type": "code",
   "execution_count": 57,
   "metadata": {},
   "outputs": [],
   "source": [
    "merged = \"merged_\"\n",
    "if tmp_data:\n",
    "    merged += \"tmp_\"\n",
    "merged = \"\""
   ]
  },
  {
   "cell_type": "code",
   "execution_count": 58,
   "metadata": {},
   "outputs": [],
   "source": [
    "fileHc = uproot.open(root_path + merged + \"allHc.root:variables\")"
   ]
  },
  {
   "cell_type": "code",
   "execution_count": 59,
   "metadata": {},
   "outputs": [],
   "source": [
    "df_Hc = fileHc.arrays(library=\"pd\")"
   ]
  },
  {
   "cell_type": "code",
   "execution_count": 60,
   "metadata": {},
   "outputs": [
    {
     "name": "stdout",
     "output_type": "stream",
     "text": [
      "/afs/desy.de/user/a/axelheim/private/MC_studies/Dstlnu_Bt_generic/NAHS/onlineDataProd/gammas.root:variables\n",
      "/afs/desy.de/user/a/axelheim/private/MC_studies/Dstlnu_Bt_generic/NAHS/onlineDataProd/electrons.root:variables\n",
      "/afs/desy.de/user/a/axelheim/private/MC_studies/Dstlnu_Bt_generic/NAHS/onlineDataProd/pions.root:variables\n",
      "/afs/desy.de/user/a/axelheim/private/MC_studies/Dstlnu_Bt_generic/NAHS/onlineDataProd/kaons.root:variables\n",
      "/afs/desy.de/user/a/axelheim/private/MC_studies/Dstlnu_Bt_generic/NAHS/onlineDataProd/muons.root:variables\n"
     ]
    }
   ],
   "source": [
    "names = [\"gammas\",\"electrons\",\"pions\",\"kaons\",\"muons\"]\n",
    "dfs = []\n",
    "for name in names:\n",
    "    filename=root_path + merged + \"{}.root:variables\".format(name)\n",
    "    print(filename)\n",
    "    tmpFileFSPs = uproot.open(filename)\n",
    "    df_tmp = tmpFileFSPs.arrays(library=\"pd\")\n",
    "    dfs.append(df_tmp)"
   ]
  },
  {
   "cell_type": "code",
   "execution_count": 61,
   "metadata": {},
   "outputs": [],
   "source": [
    "df_FSPs = pd.concat(dfs)"
   ]
  },
  {
   "cell_type": "code",
   "execution_count": 62,
   "metadata": {},
   "outputs": [],
   "source": [
    "# delete FSPs for which no Y4S file entry was found\n",
    "df_FSPs = df_FSPs[df_FSPs['__event__'].isin(df_Hc[\"__event__\"])]"
   ]
  },
  {
   "cell_type": "code",
   "execution_count": 63,
   "metadata": {},
   "outputs": [
    {
     "data": {
      "text/plain": [
       "Index(['__experiment__', '__run__', '__event__', '__candidate__',\n",
       "       '__ncandidates__', '__weight__', 'genMothPDG_0', 'genMothPDG_1',\n",
       "       'genMothPDG_2', 'genMothPDG_3', 'genMothPDG_4', 'genMothPDG_5',\n",
       "       'genMothPDG_6', 'genMothPDG_7', 'genMothPDG_8', 'genMothPDG_9',\n",
       "       'genMotherID_0', 'genMotherID_1', 'genMotherID_2', 'genMotherID_3',\n",
       "       'genMotherID_4', 'genMotherID_5', 'genMotherID_6', 'genMotherID_7',\n",
       "       'genMotherID_8', 'genMotherID_9', 'mcMother0_uniqParID',\n",
       "       'mcMother1_uniqParID', 'mcMother2_uniqParID', 'mcMother3_uniqParID',\n",
       "       'mcMother4_uniqParID', 'mcMother5_uniqParID', 'mcMother6_uniqParID',\n",
       "       'mcMother7_uniqParID', 'mcMother8_uniqParID', 'mcMother9_uniqParID',\n",
       "       'cmpx', 'cmpy', 'cmpz', 'cmE', 'isSignal', 'uniqueParticleIdentifier',\n",
       "       'mcErrors', 'mcPDG', 'genMotherID', 'genMotherP', 'genMotherPDG',\n",
       "       'charge', 'dr', 'dz', 'clusterReg', 'clusterE9E21', 'M', 'PDG',\n",
       "       'genParticleID', 'px', 'py', 'pz', 'pt', 'p', 'E', 'kaonID', 'pionID',\n",
       "       'protonID', 'muonID', 'electronID', 'deuteronID'],\n",
       "      dtype='object')"
      ]
     },
     "execution_count": 63,
     "metadata": {},
     "output_type": "execute_result"
    }
   ],
   "source": [
    "df_FSPs.keys()"
   ]
  },
  {
   "cell_type": "markdown",
   "metadata": {},
   "source": [
    "## check that each particles occurs only ones"
   ]
  },
  {
   "cell_type": "code",
   "execution_count": 64,
   "metadata": {},
   "outputs": [
    {
     "data": {
      "text/plain": [
       "count\n",
       "1    2991\n",
       "dtype: int64"
      ]
     },
     "execution_count": 64,
     "metadata": {},
     "output_type": "execute_result"
    }
   ],
   "source": [
    "groupsFSPs_uniqParID = pd.DataFrame({'count' : df_FSPs.groupby( [\"__event__\",\"uniqueParticleIdentifier\"] ).size()}).reset_index()\n",
    "groupsFSPs_uniqParID.value_counts('count')"
   ]
  },
  {
   "cell_type": "markdown",
   "metadata": {},
   "source": [
    "## add cols"
   ]
  },
  {
   "cell_type": "code",
   "execution_count": 65,
   "metadata": {},
   "outputs": [],
   "source": [
    "df_Hc['Bsig_uniqParID'] = df_Hc.apply(whichBisSig_NAHS, axis=1)"
   ]
  },
  {
   "cell_type": "code",
   "execution_count": 66,
   "metadata": {},
   "outputs": [
    {
     "data": {
      "text/plain": [
       "83886082.0    95\n",
       "83886081.0    83\n",
       "Name: Bsig_uniqParID, dtype: int64"
      ]
     },
     "execution_count": 66,
     "metadata": {},
     "output_type": "execute_result"
    }
   ],
   "source": [
    "df_Hc['Bsig_uniqParID'].value_counts()"
   ]
  },
  {
   "cell_type": "code",
   "execution_count": 67,
   "metadata": {},
   "outputs": [],
   "source": [
    "# function to create col with the particles mother B's uniqueParticleIdentifier\n",
    "df_FSPs['B_ID'] = df_FSPs.apply(B_ID, axis=1)"
   ]
  },
  {
   "cell_type": "code",
   "execution_count": 68,
   "metadata": {},
   "outputs": [
    {
     "data": {
      "text/plain": [
       "83886081    1349\n",
       "83886082    1255\n",
       "0            387\n",
       "Name: B_ID, dtype: int64"
      ]
     },
     "execution_count": 68,
     "metadata": {},
     "output_type": "execute_result"
    }
   ],
   "source": [
    "df_FSPs['B_ID'].value_counts()"
   ]
  },
  {
   "cell_type": "markdown",
   "metadata": {},
   "source": [
    "## double between gamma and charged?"
   ]
  },
  {
   "cell_type": "code",
   "execution_count": 69,
   "metadata": {},
   "outputs": [
    {
     "data": {
      "text/plain": [
       "1"
      ]
     },
     "execution_count": 69,
     "metadata": {},
     "output_type": "execute_result"
    }
   ],
   "source": [
    "groupsFSPs_uniqParID = pd.DataFrame({'count' : df_FSPs.groupby( [\"__event__\",\"uniqueParticleIdentifier\"] ).size()}).reset_index()\n",
    "groupsFSPs_uniqParID[\"count\"].max()"
   ]
  },
  {
   "cell_type": "markdown",
   "metadata": {},
   "source": [
    "## check D*lnu"
   ]
  },
  {
   "cell_type": "code",
   "execution_count": 70,
   "metadata": {},
   "outputs": [
    {
     "data": {
      "text/html": [
       "<div>\n",
       "<style scoped>\n",
       "    .dataframe tbody tr th:only-of-type {\n",
       "        vertical-align: middle;\n",
       "    }\n",
       "\n",
       "    .dataframe tbody tr th {\n",
       "        vertical-align: top;\n",
       "    }\n",
       "\n",
       "    .dataframe thead th {\n",
       "        text-align: right;\n",
       "    }\n",
       "</style>\n",
       "<table border=\"1\" class=\"dataframe\">\n",
       "  <thead>\n",
       "    <tr style=\"text-align: right;\">\n",
       "      <th></th>\n",
       "      <th>genUp4S_PDG_1_0</th>\n",
       "      <th>genUp4S_PDG_1_1</th>\n",
       "      <th>genUp4S_PDG_1_2</th>\n",
       "      <th>count</th>\n",
       "    </tr>\n",
       "  </thead>\n",
       "  <tbody>\n",
       "    <tr>\n",
       "      <th>0</th>\n",
       "      <td>-413.0</td>\n",
       "      <td>-13.0</td>\n",
       "      <td>14.0</td>\n",
       "      <td>22</td>\n",
       "    </tr>\n",
       "    <tr>\n",
       "      <th>1</th>\n",
       "      <td>-413.0</td>\n",
       "      <td>-11.0</td>\n",
       "      <td>12.0</td>\n",
       "      <td>27</td>\n",
       "    </tr>\n",
       "    <tr>\n",
       "      <th>2</th>\n",
       "      <td>413.0</td>\n",
       "      <td>11.0</td>\n",
       "      <td>-12.0</td>\n",
       "      <td>22</td>\n",
       "    </tr>\n",
       "    <tr>\n",
       "      <th>3</th>\n",
       "      <td>413.0</td>\n",
       "      <td>13.0</td>\n",
       "      <td>-14.0</td>\n",
       "      <td>24</td>\n",
       "    </tr>\n",
       "  </tbody>\n",
       "</table>\n",
       "</div>"
      ],
      "text/plain": [
       "   genUp4S_PDG_1_0  genUp4S_PDG_1_1  genUp4S_PDG_1_2  count\n",
       "0           -413.0            -13.0             14.0     22\n",
       "1           -413.0            -11.0             12.0     27\n",
       "2            413.0             11.0            -12.0     22\n",
       "3            413.0             13.0            -14.0     24"
      ]
     },
     "execution_count": 70,
     "metadata": {},
     "output_type": "execute_result"
    }
   ],
   "source": [
    "groupsHc = pd.DataFrame({'count' : df_Hc[df_Hc[\"Bsig_uniqParID\"] == 83886082.0].groupby( \n",
    "    [\"genUp4S_PDG_1_0\",\"genUp4S_PDG_1_1\",\"genUp4S_PDG_1_2\"] ).size()}).reset_index()\n",
    "\n",
    "groupsHc"
   ]
  },
  {
   "cell_type": "code",
   "execution_count": 71,
   "metadata": {},
   "outputs": [
    {
     "data": {
      "text/html": [
       "<div>\n",
       "<style scoped>\n",
       "    .dataframe tbody tr th:only-of-type {\n",
       "        vertical-align: middle;\n",
       "    }\n",
       "\n",
       "    .dataframe tbody tr th {\n",
       "        vertical-align: top;\n",
       "    }\n",
       "\n",
       "    .dataframe thead th {\n",
       "        text-align: right;\n",
       "    }\n",
       "</style>\n",
       "<table border=\"1\" class=\"dataframe\">\n",
       "  <thead>\n",
       "    <tr style=\"text-align: right;\">\n",
       "      <th></th>\n",
       "      <th>genUp4S_PDG_0_0</th>\n",
       "      <th>genUp4S_PDG_0_1</th>\n",
       "      <th>genUp4S_PDG_0_2</th>\n",
       "      <th>count</th>\n",
       "    </tr>\n",
       "  </thead>\n",
       "  <tbody>\n",
       "    <tr>\n",
       "      <th>0</th>\n",
       "      <td>-413.0</td>\n",
       "      <td>-13.0</td>\n",
       "      <td>14.0</td>\n",
       "      <td>21</td>\n",
       "    </tr>\n",
       "    <tr>\n",
       "      <th>1</th>\n",
       "      <td>-413.0</td>\n",
       "      <td>-11.0</td>\n",
       "      <td>12.0</td>\n",
       "      <td>18</td>\n",
       "    </tr>\n",
       "    <tr>\n",
       "      <th>2</th>\n",
       "      <td>413.0</td>\n",
       "      <td>11.0</td>\n",
       "      <td>-12.0</td>\n",
       "      <td>24</td>\n",
       "    </tr>\n",
       "    <tr>\n",
       "      <th>3</th>\n",
       "      <td>413.0</td>\n",
       "      <td>13.0</td>\n",
       "      <td>-14.0</td>\n",
       "      <td>20</td>\n",
       "    </tr>\n",
       "  </tbody>\n",
       "</table>\n",
       "</div>"
      ],
      "text/plain": [
       "   genUp4S_PDG_0_0  genUp4S_PDG_0_1  genUp4S_PDG_0_2  count\n",
       "0           -413.0            -13.0             14.0     21\n",
       "1           -413.0            -11.0             12.0     18\n",
       "2            413.0             11.0            -12.0     24\n",
       "3            413.0             13.0            -14.0     20"
      ]
     },
     "execution_count": 71,
     "metadata": {},
     "output_type": "execute_result"
    }
   ],
   "source": [
    "groupsHc = pd.DataFrame({'count' : df_Hc[df_Hc[\"Bsig_uniqParID\"] == 83886081.0].groupby( \n",
    "    [\"genUp4S_PDG_0_0\",\"genUp4S_PDG_0_1\",\"genUp4S_PDG_0_2\"] ).size()}).reset_index()\n",
    "\n",
    "groupsHc"
   ]
  },
  {
   "cell_type": "markdown",
   "metadata": {},
   "source": [
    "## delete evts where Hc mother and Bsig overlap"
   ]
  },
  {
   "cell_type": "code",
   "execution_count": 72,
   "metadata": {
    "scrolled": true
   },
   "outputs": [
    {
     "name": "stdout",
     "output_type": "stream",
     "text": [
      "178\n"
     ]
    }
   ],
   "source": [
    "print(df_Hc.shape[0])"
   ]
  },
  {
   "cell_type": "code",
   "execution_count": 73,
   "metadata": {},
   "outputs": [
    {
     "data": {
      "text/html": [
       "<div>\n",
       "<style scoped>\n",
       "    .dataframe tbody tr th:only-of-type {\n",
       "        vertical-align: middle;\n",
       "    }\n",
       "\n",
       "    .dataframe tbody tr th {\n",
       "        vertical-align: top;\n",
       "    }\n",
       "\n",
       "    .dataframe thead th {\n",
       "        text-align: right;\n",
       "    }\n",
       "</style>\n",
       "<table border=\"1\" class=\"dataframe\">\n",
       "  <thead>\n",
       "    <tr style=\"text-align: right;\">\n",
       "      <th></th>\n",
       "      <th>__event__</th>\n",
       "      <th>uniqueParticleIdentifier</th>\n",
       "      <th>PDG</th>\n",
       "      <th>genMothPDG_0</th>\n",
       "      <th>Bsig_uniqParID</th>\n",
       "      <th>mcMother0_uniqParID</th>\n",
       "    </tr>\n",
       "  </thead>\n",
       "  <tbody>\n",
       "    <tr>\n",
       "      <th>51</th>\n",
       "      <td>2331013</td>\n",
       "      <td>100663296.0</td>\n",
       "      <td>-413.0</td>\n",
       "      <td>511.0</td>\n",
       "      <td>83886081.0</td>\n",
       "      <td>83886081.0</td>\n",
       "    </tr>\n",
       "    <tr>\n",
       "      <th>52</th>\n",
       "      <td>2331096</td>\n",
       "      <td>100663296.0</td>\n",
       "      <td>-413.0</td>\n",
       "      <td>511.0</td>\n",
       "      <td>83886082.0</td>\n",
       "      <td>83886082.0</td>\n",
       "    </tr>\n",
       "    <tr>\n",
       "      <th>53</th>\n",
       "      <td>2331142</td>\n",
       "      <td>100663296.0</td>\n",
       "      <td>413.0</td>\n",
       "      <td>-511.0</td>\n",
       "      <td>83886081.0</td>\n",
       "      <td>83886081.0</td>\n",
       "    </tr>\n",
       "    <tr>\n",
       "      <th>54</th>\n",
       "      <td>2331249</td>\n",
       "      <td>100663296.0</td>\n",
       "      <td>-413.0</td>\n",
       "      <td>511.0</td>\n",
       "      <td>83886082.0</td>\n",
       "      <td>83886082.0</td>\n",
       "    </tr>\n",
       "    <tr>\n",
       "      <th>55</th>\n",
       "      <td>2331349</td>\n",
       "      <td>100663296.0</td>\n",
       "      <td>413.0</td>\n",
       "      <td>-511.0</td>\n",
       "      <td>83886082.0</td>\n",
       "      <td>83886082.0</td>\n",
       "    </tr>\n",
       "    <tr>\n",
       "      <th>56</th>\n",
       "      <td>2331398</td>\n",
       "      <td>100663296.0</td>\n",
       "      <td>413.0</td>\n",
       "      <td>-511.0</td>\n",
       "      <td>83886081.0</td>\n",
       "      <td>83886081.0</td>\n",
       "    </tr>\n",
       "    <tr>\n",
       "      <th>57</th>\n",
       "      <td>2331398</td>\n",
       "      <td>100663296.0</td>\n",
       "      <td>413.0</td>\n",
       "      <td>-511.0</td>\n",
       "      <td>83886081.0</td>\n",
       "      <td>83886081.0</td>\n",
       "    </tr>\n",
       "    <tr>\n",
       "      <th>61</th>\n",
       "      <td>2331499</td>\n",
       "      <td>100663296.0</td>\n",
       "      <td>-413.0</td>\n",
       "      <td>511.0</td>\n",
       "      <td>83886082.0</td>\n",
       "      <td>83886082.0</td>\n",
       "    </tr>\n",
       "    <tr>\n",
       "      <th>62</th>\n",
       "      <td>2331581</td>\n",
       "      <td>100663296.0</td>\n",
       "      <td>413.0</td>\n",
       "      <td>-511.0</td>\n",
       "      <td>83886082.0</td>\n",
       "      <td>83886082.0</td>\n",
       "    </tr>\n",
       "    <tr>\n",
       "      <th>63</th>\n",
       "      <td>2331619</td>\n",
       "      <td>100663296.0</td>\n",
       "      <td>413.0</td>\n",
       "      <td>-511.0</td>\n",
       "      <td>83886081.0</td>\n",
       "      <td>83886081.0</td>\n",
       "    </tr>\n",
       "  </tbody>\n",
       "</table>\n",
       "</div>"
      ],
      "text/plain": [
       "    __event__  uniqueParticleIdentifier    PDG  genMothPDG_0  Bsig_uniqParID  \\\n",
       "51    2331013               100663296.0 -413.0         511.0      83886081.0   \n",
       "52    2331096               100663296.0 -413.0         511.0      83886082.0   \n",
       "53    2331142               100663296.0  413.0        -511.0      83886081.0   \n",
       "54    2331249               100663296.0 -413.0         511.0      83886082.0   \n",
       "55    2331349               100663296.0  413.0        -511.0      83886082.0   \n",
       "56    2331398               100663296.0  413.0        -511.0      83886081.0   \n",
       "57    2331398               100663296.0  413.0        -511.0      83886081.0   \n",
       "61    2331499               100663296.0 -413.0         511.0      83886082.0   \n",
       "62    2331581               100663296.0  413.0        -511.0      83886082.0   \n",
       "63    2331619               100663296.0  413.0        -511.0      83886081.0   \n",
       "\n",
       "    mcMother0_uniqParID  \n",
       "51           83886081.0  \n",
       "52           83886082.0  \n",
       "53           83886081.0  \n",
       "54           83886082.0  \n",
       "55           83886082.0  \n",
       "56           83886081.0  \n",
       "57           83886081.0  \n",
       "61           83886082.0  \n",
       "62           83886082.0  \n",
       "63           83886081.0  "
      ]
     },
     "execution_count": 73,
     "metadata": {},
     "output_type": "execute_result"
    }
   ],
   "source": [
    "df_Hc[df_Hc['Bsig_uniqParID'] == df_Hc['mcMother0_uniqParID']][[\"__event__\",\"uniqueParticleIdentifier\",\"PDG\",\n",
    "    \"genMothPDG_0\",'Bsig_uniqParID',\"mcMother0_uniqParID\"]][:10]"
   ]
  },
  {
   "cell_type": "code",
   "execution_count": 74,
   "metadata": {},
   "outputs": [],
   "source": [
    "df_Hc = df_Hc[df_Hc['Bsig_uniqParID'] != df_Hc['mcMother0_uniqParID']]"
   ]
  },
  {
   "cell_type": "code",
   "execution_count": 75,
   "metadata": {
    "scrolled": true
   },
   "outputs": [
    {
     "name": "stdout",
     "output_type": "stream",
     "text": [
      "97\n"
     ]
    }
   ],
   "source": [
    "print(df_Hc.shape[0])"
   ]
  },
  {
   "cell_type": "code",
   "execution_count": 76,
   "metadata": {},
   "outputs": [],
   "source": [
    "#[[\"__event__\",\"uniqueParticleIdentifier\",\"PDG\",\"genMothPDG_0\",'Bsig_uniqParID',\"mcMother0_uniqParID\"]]"
   ]
  },
  {
   "cell_type": "markdown",
   "metadata": {},
   "source": [
    "## take care of duplis in df_Hc, delete them, because with the prior, duplis here mean there must have been an error"
   ]
  },
  {
   "cell_type": "code",
   "execution_count": 77,
   "metadata": {},
   "outputs": [
    {
     "data": {
      "text/plain": [
       "count\n",
       "1    95\n",
       "2     1\n",
       "dtype: int64"
      ]
     },
     "execution_count": 77,
     "metadata": {},
     "output_type": "execute_result"
    }
   ],
   "source": [
    "groupsHc_uniqParID = pd.DataFrame({'count' : df_Hc.groupby( [\"__event__\"] ).size()}).reset_index()\n",
    "groupsHc_uniqParID.value_counts('count')"
   ]
  },
  {
   "cell_type": "code",
   "execution_count": 78,
   "metadata": {},
   "outputs": [
    {
     "data": {
      "text/html": [
       "<div>\n",
       "<style scoped>\n",
       "    .dataframe tbody tr th:only-of-type {\n",
       "        vertical-align: middle;\n",
       "    }\n",
       "\n",
       "    .dataframe tbody tr th {\n",
       "        vertical-align: top;\n",
       "    }\n",
       "\n",
       "    .dataframe thead th {\n",
       "        text-align: right;\n",
       "    }\n",
       "</style>\n",
       "<table border=\"1\" class=\"dataframe\">\n",
       "  <thead>\n",
       "    <tr style=\"text-align: right;\">\n",
       "      <th></th>\n",
       "      <th>__event__</th>\n",
       "      <th>uniqueParticleIdentifier</th>\n",
       "      <th>PDG</th>\n",
       "      <th>genMothPDG_0</th>\n",
       "      <th>Bsig_uniqParID</th>\n",
       "      <th>mcMother0_uniqParID</th>\n",
       "      <th>px</th>\n",
       "      <th>E</th>\n",
       "      <th>x</th>\n",
       "      <th>genUp4S_PDG_1_0</th>\n",
       "    </tr>\n",
       "  </thead>\n",
       "  <tbody>\n",
       "    <tr>\n",
       "      <th>20</th>\n",
       "      <td>2332070</td>\n",
       "      <td>100663296.0</td>\n",
       "      <td>-411.0</td>\n",
       "      <td>-511.0</td>\n",
       "      <td>83886081.0</td>\n",
       "      <td>83886082.0</td>\n",
       "      <td>-0.257812</td>\n",
       "      <td>2.284948</td>\n",
       "      <td>-0.051214</td>\n",
       "      <td>411.0</td>\n",
       "    </tr>\n",
       "    <tr>\n",
       "      <th>21</th>\n",
       "      <td>2332070</td>\n",
       "      <td>100663296.0</td>\n",
       "      <td>411.0</td>\n",
       "      <td>-511.0</td>\n",
       "      <td>83886081.0</td>\n",
       "      <td>83886082.0</td>\n",
       "      <td>0.036926</td>\n",
       "      <td>2.162483</td>\n",
       "      <td>-0.044568</td>\n",
       "      <td>411.0</td>\n",
       "    </tr>\n",
       "  </tbody>\n",
       "</table>\n",
       "</div>"
      ],
      "text/plain": [
       "    __event__  uniqueParticleIdentifier    PDG  genMothPDG_0  Bsig_uniqParID  \\\n",
       "20    2332070               100663296.0 -411.0        -511.0      83886081.0   \n",
       "21    2332070               100663296.0  411.0        -511.0      83886081.0   \n",
       "\n",
       "    mcMother0_uniqParID        px         E         x  genUp4S_PDG_1_0  \n",
       "20           83886082.0 -0.257812  2.284948 -0.051214            411.0  \n",
       "21           83886082.0  0.036926  2.162483 -0.044568            411.0  "
      ]
     },
     "execution_count": 78,
     "metadata": {},
     "output_type": "execute_result"
    }
   ],
   "source": [
    "df_Hc[df_Hc['__event__'].isin(groupsHc_uniqParID[groupsHc_uniqParID[\"count\"]>1][\"__event__\"])][[\"__event__\",\n",
    "    \"uniqueParticleIdentifier\",\"PDG\",\n",
    "    \"genMothPDG_0\",'Bsig_uniqParID',\"mcMother0_uniqParID\",\"px\",\"E\",\"x\",\"genUp4S_PDG_1_0\"]][:10]"
   ]
  },
  {
   "cell_type": "code",
   "execution_count": 79,
   "metadata": {},
   "outputs": [],
   "source": [
    "df_Hc = df_Hc[df_Hc['__event__'].isin(groupsHc_uniqParID[groupsHc_uniqParID[\"count\"]==1][\"__event__\"])]"
   ]
  },
  {
   "cell_type": "code",
   "execution_count": 80,
   "metadata": {
    "scrolled": true
   },
   "outputs": [],
   "source": [
    "df_FSPs = df_FSPs[df_FSPs['__event__'].isin(df_Hc[\"__event__\"])]"
   ]
  },
  {
   "cell_type": "code",
   "execution_count": 81,
   "metadata": {},
   "outputs": [
    {
     "data": {
      "text/plain": [
       "count\n",
       "1    95\n",
       "dtype: int64"
      ]
     },
     "execution_count": 81,
     "metadata": {},
     "output_type": "execute_result"
    }
   ],
   "source": [
    "groupsHc_uniqParID = pd.DataFrame({'count' : df_Hc.groupby( [\"__event__\"] ).size()}).reset_index()\n",
    "groupsHc_uniqParID.value_counts('count')"
   ]
  },
  {
   "cell_type": "markdown",
   "metadata": {},
   "source": [
    "## delete the H_c FSPs "
   ]
  },
  {
   "cell_type": "code",
   "execution_count": 82,
   "metadata": {
    "scrolled": true
   },
   "outputs": [],
   "source": [
    "df_FSPs['ancestor_below_B_arrayID'] = df_FSPs.apply(ancestor_below_B, axis=1)"
   ]
  },
  {
   "cell_type": "code",
   "execution_count": 83,
   "metadata": {},
   "outputs": [],
   "source": [
    "df_Hc[\"HcMother_uniqParID\"] = df_Hc[\"mcMother0_uniqParID\"]\n",
    "df_Hc[\"Hc_genParticleID\"] = df_Hc[\"genParticleID\"]\n",
    "df_Hc[\"Hc_MotherPDG\"] = df_Hc[\"genMothPDG_0\"]"
   ]
  },
  {
   "cell_type": "code",
   "execution_count": 84,
   "metadata": {},
   "outputs": [],
   "source": [
    "df_FSPs = pd.merge(df_FSPs,df_Hc[[\"__event__\",\"Bsig_uniqParID\",\"HcMother_uniqParID\",\"Hc_genParticleID\",\"Hc_MotherPDG\"]], on=\"__event__\")"
   ]
  },
  {
   "cell_type": "code",
   "execution_count": 85,
   "metadata": {},
   "outputs": [
    {
     "data": {
      "text/html": [
       "<div>\n",
       "<style scoped>\n",
       "    .dataframe tbody tr th:only-of-type {\n",
       "        vertical-align: middle;\n",
       "    }\n",
       "\n",
       "    .dataframe tbody tr th {\n",
       "        vertical-align: top;\n",
       "    }\n",
       "\n",
       "    .dataframe thead th {\n",
       "        text-align: right;\n",
       "    }\n",
       "</style>\n",
       "<table border=\"1\" class=\"dataframe\">\n",
       "  <thead>\n",
       "    <tr style=\"text-align: right;\">\n",
       "      <th></th>\n",
       "      <th>__event__</th>\n",
       "      <th>Bsig_uniqParID</th>\n",
       "      <th>HcMother_uniqParID</th>\n",
       "      <th>Hc_genParticleID</th>\n",
       "      <th>ancestor_below_B_arrayID</th>\n",
       "      <th>Hc_MotherPDG</th>\n",
       "    </tr>\n",
       "  </thead>\n",
       "  <tbody>\n",
       "    <tr>\n",
       "      <th>0</th>\n",
       "      <td>2331192</td>\n",
       "      <td>83886082.0</td>\n",
       "      <td>83886081.0</td>\n",
       "      <td>3.0</td>\n",
       "      <td>0.0</td>\n",
       "      <td>511.0</td>\n",
       "    </tr>\n",
       "    <tr>\n",
       "      <th>1</th>\n",
       "      <td>2331192</td>\n",
       "      <td>83886082.0</td>\n",
       "      <td>83886081.0</td>\n",
       "      <td>3.0</td>\n",
       "      <td>0.0</td>\n",
       "      <td>511.0</td>\n",
       "    </tr>\n",
       "    <tr>\n",
       "      <th>2</th>\n",
       "      <td>2331192</td>\n",
       "      <td>83886082.0</td>\n",
       "      <td>83886081.0</td>\n",
       "      <td>3.0</td>\n",
       "      <td>6.0</td>\n",
       "      <td>511.0</td>\n",
       "    </tr>\n",
       "    <tr>\n",
       "      <th>3</th>\n",
       "      <td>2331192</td>\n",
       "      <td>83886082.0</td>\n",
       "      <td>83886081.0</td>\n",
       "      <td>3.0</td>\n",
       "      <td>4.0</td>\n",
       "      <td>511.0</td>\n",
       "    </tr>\n",
       "    <tr>\n",
       "      <th>4</th>\n",
       "      <td>2331192</td>\n",
       "      <td>83886082.0</td>\n",
       "      <td>83886081.0</td>\n",
       "      <td>3.0</td>\n",
       "      <td>6.0</td>\n",
       "      <td>511.0</td>\n",
       "    </tr>\n",
       "    <tr>\n",
       "      <th>...</th>\n",
       "      <td>...</td>\n",
       "      <td>...</td>\n",
       "      <td>...</td>\n",
       "      <td>...</td>\n",
       "      <td>...</td>\n",
       "      <td>...</td>\n",
       "    </tr>\n",
       "    <tr>\n",
       "      <th>1677</th>\n",
       "      <td>2335954</td>\n",
       "      <td>83886081.0</td>\n",
       "      <td>83886082.0</td>\n",
       "      <td>7.0</td>\n",
       "      <td>6.0</td>\n",
       "      <td>511.0</td>\n",
       "    </tr>\n",
       "    <tr>\n",
       "      <th>1678</th>\n",
       "      <td>2335954</td>\n",
       "      <td>83886081.0</td>\n",
       "      <td>83886082.0</td>\n",
       "      <td>7.0</td>\n",
       "      <td>7.0</td>\n",
       "      <td>511.0</td>\n",
       "    </tr>\n",
       "    <tr>\n",
       "      <th>1679</th>\n",
       "      <td>2335954</td>\n",
       "      <td>83886081.0</td>\n",
       "      <td>83886082.0</td>\n",
       "      <td>7.0</td>\n",
       "      <td>-1.0</td>\n",
       "      <td>511.0</td>\n",
       "    </tr>\n",
       "    <tr>\n",
       "      <th>1680</th>\n",
       "      <td>2335954</td>\n",
       "      <td>83886081.0</td>\n",
       "      <td>83886082.0</td>\n",
       "      <td>7.0</td>\n",
       "      <td>7.0</td>\n",
       "      <td>511.0</td>\n",
       "    </tr>\n",
       "    <tr>\n",
       "      <th>1681</th>\n",
       "      <td>2335954</td>\n",
       "      <td>83886081.0</td>\n",
       "      <td>83886082.0</td>\n",
       "      <td>7.0</td>\n",
       "      <td>3.0</td>\n",
       "      <td>511.0</td>\n",
       "    </tr>\n",
       "  </tbody>\n",
       "</table>\n",
       "<p>1682 rows × 6 columns</p>\n",
       "</div>"
      ],
      "text/plain": [
       "      __event__  Bsig_uniqParID  HcMother_uniqParID  Hc_genParticleID  \\\n",
       "0       2331192      83886082.0          83886081.0               3.0   \n",
       "1       2331192      83886082.0          83886081.0               3.0   \n",
       "2       2331192      83886082.0          83886081.0               3.0   \n",
       "3       2331192      83886082.0          83886081.0               3.0   \n",
       "4       2331192      83886082.0          83886081.0               3.0   \n",
       "...         ...             ...                 ...               ...   \n",
       "1677    2335954      83886081.0          83886082.0               7.0   \n",
       "1678    2335954      83886081.0          83886082.0               7.0   \n",
       "1679    2335954      83886081.0          83886082.0               7.0   \n",
       "1680    2335954      83886081.0          83886082.0               7.0   \n",
       "1681    2335954      83886081.0          83886082.0               7.0   \n",
       "\n",
       "      ancestor_below_B_arrayID  Hc_MotherPDG  \n",
       "0                          0.0         511.0  \n",
       "1                          0.0         511.0  \n",
       "2                          6.0         511.0  \n",
       "3                          4.0         511.0  \n",
       "4                          6.0         511.0  \n",
       "...                        ...           ...  \n",
       "1677                       6.0         511.0  \n",
       "1678                       7.0         511.0  \n",
       "1679                      -1.0         511.0  \n",
       "1680                       7.0         511.0  \n",
       "1681                       3.0         511.0  \n",
       "\n",
       "[1682 rows x 6 columns]"
      ]
     },
     "execution_count": 85,
     "metadata": {},
     "output_type": "execute_result"
    }
   ],
   "source": [
    "df_FSPs[[\"__event__\",\"Bsig_uniqParID\",\"HcMother_uniqParID\",\"Hc_genParticleID\",\"ancestor_below_B_arrayID\",\"Hc_MotherPDG\"]]"
   ]
  },
  {
   "cell_type": "code",
   "execution_count": 86,
   "metadata": {},
   "outputs": [
    {
     "data": {
      "text/plain": [
       "1682"
      ]
     },
     "execution_count": 86,
     "metadata": {},
     "output_type": "execute_result"
    }
   ],
   "source": [
    "df_FSPs.shape[0]"
   ]
  },
  {
   "cell_type": "code",
   "execution_count": 87,
   "metadata": {},
   "outputs": [],
   "source": [
    "# deletion of Hc FSPs, those who \n",
    "df_FSPs = df_FSPs[~((df_FSPs[\"Hc_genParticleID\"] == df_FSPs[\"ancestor_below_B_arrayID\"]) &  # originate from Hc PDG\n",
    "                  (df_FSPs[\"HcMother_uniqParID\"] == df_FSPs[\"B_ID\"]))] # and are B-tag ancestors"
   ]
  },
  {
   "cell_type": "code",
   "execution_count": 88,
   "metadata": {},
   "outputs": [
    {
     "data": {
      "text/plain": [
       "1276"
      ]
     },
     "execution_count": 88,
     "metadata": {},
     "output_type": "execute_result"
    }
   ],
   "source": [
    "df_FSPs.shape[0]"
   ]
  },
  {
   "cell_type": "code",
   "execution_count": 89,
   "metadata": {},
   "outputs": [],
   "source": [
    "#keep[keep[\"HcMother_uniqParID\"]==keep[\"B_ID\"]][[\"__event__\",\"Bsig_uniqParID\",\"HcMother_uniqParID\",\"Hc_PDG\",\"ancestor_below_B\",\"B_ID\",\"Hc_MotherPDG\"]]"
   ]
  },
  {
   "cell_type": "code",
   "execution_count": 90,
   "metadata": {},
   "outputs": [],
   "source": [
    "#df_Hc[df_Hc[\"__event__\"] == 2331192][[\"genUp4S_PDG_0_0\",\"genUp4S_PDG_0_1\",\"genUp4S_PDG_0_2\"]]"
   ]
  },
  {
   "cell_type": "markdown",
   "metadata": {},
   "source": [
    "## delete delete_top_numFSP_evts"
   ]
  },
  {
   "cell_type": "code",
   "execution_count": 91,
   "metadata": {},
   "outputs": [],
   "source": [
    "numberFSPsEvts = pd.DataFrame({'count' : df_FSPs.groupby([\"__event__\"]).size()}).reset_index()\n",
    "numEvtsBeforeCut = df_Hc.shape[0]"
   ]
  },
  {
   "cell_type": "code",
   "execution_count": 92,
   "metadata": {},
   "outputs": [
    {
     "name": "stdout",
     "output_type": "stream",
     "text": [
      "original max FSPs: 22\n",
      "0.995\n",
      "would delete 1.05 % of evts\n",
      "new max FSPs: 21\n",
      "0.996\n",
      "would delete 1.05 % of evts\n",
      "new max FSPs: 21\n",
      "0.997\n",
      "would delete 1.05 % of evts\n",
      "new max FSPs: 21\n",
      "0.998\n",
      "would delete 1.05 % of evts\n",
      "new max FSPs: 21\n",
      "0.999\n",
      "would delete 1.05 % of evts\n",
      "new max FSPs: 21\n"
     ]
    }
   ],
   "source": [
    "# print first to adjust percentile used\n",
    "print(\"original max FSPs:\",numberFSPsEvts[\"count\"].max())\n",
    "for percentile_lvl in [0.995,0.996,0.997,0.998,0.999]:\n",
    "    print(percentile_lvl)\n",
    "    percentile = numberFSPsEvts[\"count\"].quantile(q=percentile_lvl)\n",
    "    cut_numberFSPsEvts = numberFSPsEvts[numberFSPsEvts[\"count\"] < percentile]\n",
    "    \n",
    "    #TMP_df_FSPs = df_FSPs[df_FSPs['__event__'].isin(cut_numberFSPsEvts[\"__event__\"])]\n",
    "    TMP_df_Hc = df_Hc[df_Hc['__event__'].isin(cut_numberFSPsEvts[\"__event__\"])]\n",
    "    \n",
    "    print(\"would delete\", round(100 - (TMP_df_Hc.shape[0]/df_Hc.shape[0])*100,2),\"% of evts\")\n",
    "    print(\"new max FSPs:\",cut_numberFSPsEvts[\"count\"].max())"
   ]
  },
  {
   "cell_type": "code",
   "execution_count": 93,
   "metadata": {},
   "outputs": [
    {
     "name": "stdout",
     "output_type": "stream",
     "text": [
      "1276\n",
      "95\n",
      "1276\n",
      "95\n",
      "deleted 0 % of events\n",
      "count    95.000000\n",
      "mean     13.431579\n",
      "std       3.822255\n",
      "min       5.000000\n",
      "25%      11.000000\n",
      "50%      13.000000\n",
      "75%      16.000000\n",
      "max      22.000000\n",
      "Name: count, dtype: float64\n"
     ]
    }
   ],
   "source": [
    "print(df_FSPs.shape[0])\n",
    "print(df_Hc.shape[0])\n",
    "\n",
    "\n",
    "if delete_top_numFSP_evts:\n",
    "    delete_percentileLvl = 0.998\n",
    "    print(\"used delete_percentileLvl:\",delete_percentileLvl)\n",
    "    \n",
    "    \n",
    "    print(numberFSPsEvts[\"count\"].describe())\n",
    "    \n",
    "    percentile = numberFSPsEvts[\"count\"].quantile(q=delete_percentileLvl)\n",
    "    cut_numberFSPsEvts = numberFSPsEvts[numberFSPsEvts[\"count\"] < percentile]\n",
    "    \n",
    "    df_FSPs = df_FSPs[df_FSPs['__event__'].isin(cut_numberFSPsEvts[\"__event__\"])]\n",
    "    df_Hc = df_Hc[df_Hc['__event__'].isin(cut_numberFSPsEvts[\"__event__\"])]\n",
    "    \n",
    "print(df_FSPs.shape[0])\n",
    "print(df_Hc.shape[0])\n",
    "print(\"deleted\", round(100 - (df_Hc.shape[0]//numEvtsBeforeCut)*100,2),\"% of events\")\n",
    "numberFSPsEvts = pd.DataFrame({'count' : df_FSPs.groupby([\"__event__\"]).size()}).reset_index()\n",
    "print(numberFSPsEvts[\"count\"].describe())"
   ]
  },
  {
   "cell_type": "markdown",
   "metadata": {},
   "source": [
    "## impute the nan values of variables"
   ]
  },
  {
   "cell_type": "code",
   "execution_count": 94,
   "metadata": {},
   "outputs": [
    {
     "name": "stdout",
     "output_type": "stream",
     "text": [
      "0\n",
      "0\n",
      "0\n",
      "0\n",
      "0\n",
      "0\n"
     ]
    }
   ],
   "source": [
    "## data preprocessing, dealing with NaN\n",
    "imputelist = [[\"pionID\",-1.],[\"kaonID\",-1.],[\"electronID\",-1.],[\"muonID\",-1.]\n",
    "              ,[\"clusterReg\",-1.],[\"clusterE9E21\",-1.]\n",
    "              ]\n",
    "for impute in imputelist:\n",
    "    column_name = impute[0]\n",
    "    impute_val = impute[1]\n",
    "    mask = df_FSPs[column_name].isna() == 1\n",
    "    df_FSPs.loc[mask, column_name] = impute_val\n",
    "    print(df_FSPs[df_FSPs[column_name].isna() == True].shape[0])"
   ]
  },
  {
   "cell_type": "markdown",
   "metadata": {},
   "source": [
    "## last check if events match between dfs"
   ]
  },
  {
   "cell_type": "code",
   "execution_count": 95,
   "metadata": {},
   "outputs": [],
   "source": [
    "df_Hc = df_Hc[df_Hc['__event__'].isin(df_FSPs[\"__event__\"])]\n",
    "df_FSPs = df_FSPs[df_FSPs['__event__'].isin(df_Hc[\"__event__\"])]"
   ]
  },
  {
   "cell_type": "code",
   "execution_count": 96,
   "metadata": {},
   "outputs": [
    {
     "name": "stdout",
     "output_type": "stream",
     "text": [
      "1276\n",
      "95\n"
     ]
    }
   ],
   "source": [
    "print(df_FSPs.shape[0])\n",
    "print(df_Hc.shape[0])"
   ]
  },
  {
   "cell_type": "markdown",
   "metadata": {},
   "source": [
    "## save the dfs as they will be used for data prod"
   ]
  },
  {
   "cell_type": "code",
   "execution_count": 35,
   "metadata": {},
   "outputs": [],
   "source": [
    "df_FSPs_final = df_FSPs\n",
    "df_Y4S_final = df_Hc"
   ]
  },
  {
   "cell_type": "code",
   "execution_count": 36,
   "metadata": {},
   "outputs": [
    {
     "data": {
      "text/plain": [
       "'/afs/desy.de/user/a/axelheim/private/MC_studies/Dstlnu_Bt_generic/NAHS/onlineDataProd/'"
      ]
     },
     "execution_count": 36,
     "metadata": {},
     "output_type": "execute_result"
    }
   ],
   "source": [
    "root_path"
   ]
  },
  {
   "cell_type": "code",
   "execution_count": 37,
   "metadata": {},
   "outputs": [],
   "source": [
    "df_FSPs_final.to_csv(root_path + \"final_df_FSPs_preProcessed_NAHS.csv\")\n",
    "df_Y4S_final.to_csv(root_path + \"final_df_Y4S_preProcessed_NAHS.csv\")"
   ]
  },
  {
   "cell_type": "markdown",
   "metadata": {},
   "source": [
    "## beginning of data prod"
   ]
  },
  {
   "cell_type": "code",
   "execution_count": 38,
   "metadata": {},
   "outputs": [
    {
     "name": "stdout",
     "output_type": "stream",
     "text": [
      "minFSPs: 9\n",
      "maxFSPs: 25 \n",
      "\n",
      "num Events: 95 \n",
      "\n"
     ]
    }
   ],
   "source": [
    "numFSPs = pd.DataFrame({'count' : df_FSPs_final.groupby( [\"__event__\"] ).size()}).reset_index()\n",
    "\n",
    "minFSPs = numFSPs[\"count\"].min()\n",
    "maxFSPs = numFSPs[\"count\"].max()\n",
    "print(\"minFSPs:\",minFSPs)\n",
    "print(\"maxFSPs:\",maxFSPs,'\\n')\n",
    "print(\"num Events:\",numFSPs.shape[0],'\\n')\n",
    "\n",
    "df_FSPs_final['numFSPs'] = df_FSPs_final.groupby('__event__')['__event__'].transform('count')"
   ]
  },
  {
   "cell_type": "code",
   "execution_count": 39,
   "metadata": {},
   "outputs": [],
   "source": [
    "variable_combinations = [\n",
    "    [[    \"charge\",\"dr\",\"dz\",\"clusterReg\",\"clusterE9E21\",\"pionID\",\"kaonID\",\"electronID\",\"muonID\",\"protonID\"],\"NAHSA_no_M\"],\n",
    "    [[\"M\",         \"dr\",\"dz\",\"clusterReg\",\"clusterE9E21\",\"pionID\",\"kaonID\",\"electronID\",\"muonID\",\"protonID\"],\"NAHSA_no_charge\"],\n",
    "    [[\"M\",\"charge\",     \"dz\",\"clusterReg\",\"clusterE9E21\",\"pionID\",\"kaonID\",\"electronID\",\"muonID\",\"protonID\"],\"NAHSA_no_dr\"],\n",
    "    [[\"M\",\"charge\",\"dr\",     \"clusterReg\",\"clusterE9E21\",\"pionID\",\"kaonID\",\"electronID\",\"muonID\",\"protonID\"],\"NAHSA_no_dz\"],\n",
    "    [[\"M\",\"charge\",\"dr\",\"dz\",             \"clusterE9E21\",\"pionID\",\"kaonID\",\"electronID\",\"muonID\",\"protonID\"],\"NAHSA_no_clReg\"],\n",
    "    [[\"M\",\"charge\",\"dr\",\"dz\",\"clusterReg\",               \"pionID\",\"kaonID\",\"electronID\",\"muonID\",\"protonID\"],\"NAHSA_no_E9E21\"],\n",
    "    [[\"M\",\"charge\",\"dr\",\"dz\",\"clusterReg\",\"clusterE9E21\",         \"kaonID\",\"electronID\",\"muonID\",\"protonID\"],\"NAHSA_no_pID\"],\n",
    "    [[\"M\",\"charge\",\"dr\",\"dz\",\"clusterReg\",\"clusterE9E21\",\"pionID\",         \"electronID\",\"muonID\",\"protonID\"],\"NAHSA_no_kID\"],\n",
    "    [[\"M\",\"charge\",\"dr\",\"dz\",\"clusterReg\",\"clusterE9E21\",\"pionID\",\"kaonID\",             \"muonID\",\"protonID\"],\"NAHSA_no_eID\"],\n",
    "    [[\"M\",\"charge\",\"dr\",\"dz\",\"clusterReg\",\"clusterE9E21\",\"pionID\",\"kaonID\",\"electronID\"         ,\"protonID\"],\"NAHSA_no_muID\"],\n",
    "    [[\"M\",\"charge\",\"dr\",\"dz\",\"clusterReg\",\"clusterE9E21\",\"pionID\",\"kaonID\",\"electronID\",\"muonID\"           ],\"NAHSA_no_proID\"],\n",
    "    [[\"M\",\"charge\",\"dr\",\"dz\",\"clusterReg\",\"clusterE9E21\",\"pionID\",\"kaonID\",\"electronID\",\"muonID\",\"protonID\"],\"NAHSA_allExtras\"],\n",
    "    [[\"M\",\"charge\",\"pionID\",\"kaonID\",\"electronID\",\"muonID\"],\"NAHSA_IDchargeM\"],\n",
    "    [[\"M\",\"charge\"],\"NAHSA_chargeM\"],\n",
    "    [[\"charge\",\"pionID\",\"kaonID\",\"electronID\",\"muonID\"],\"NAHSA_chargeIDs\"],\n",
    "    [[\"charge\",\"pionID\"],\"NAHSA_chargePionID\"],\n",
    "    [[],\"NAHSA_only4mom\"],\n",
    "    [[\"charge\"],\"NAHSA_charge\"]\n",
    "]"
   ]
  },
  {
   "cell_type": "code",
   "execution_count": 40,
   "metadata": {},
   "outputs": [],
   "source": [
    "variable_combinations = [\n",
    "    [[],\"NAHSA_only4mom\"]\n",
    "]"
   ]
  },
  {
   "cell_type": "code",
   "execution_count": 41,
   "metadata": {},
   "outputs": [
    {
     "name": "stdout",
     "output_type": "stream",
     "text": [
      "Will save data to: /nfs/dust/belle2/user/axelheim/MC_studies/Dstlnu_Bt_generic/data/FULLCMrun_Dstlnu_SHR_BsX_Ablations/SHR_CMvars_run1/NAHSA_only4mom is False \n",
      "\n",
      "numEvents: 2\n",
      "num_FSPs_toData: 9\n",
      "skipped because <10 events \n",
      "\n",
      "numEvents: 2\n",
      "num_FSPs_toData: 10\n",
      "skipped because <10 events \n",
      "\n",
      "numEvents: 4\n",
      "num_FSPs_toData: 11\n",
      "skipped because <10 events \n",
      "\n",
      "numEvents: 2\n",
      "num_FSPs_toData: 12\n",
      "skipped because <10 events \n",
      "\n",
      "numEvents: 4\n",
      "num_FSPs_toData: 13\n",
      "skipped because <10 events \n",
      "\n",
      "numEvents: 9\n",
      "num_FSPs_toData: 14\n",
      "skipped because <10 events \n",
      "\n",
      "numEvents: 3\n",
      "num_FSPs_toData: 15\n",
      "skipped because <10 events \n",
      "\n",
      "numEvents: 8\n",
      "num_FSPs_toData: 16\n",
      "skipped because <10 events \n",
      "\n",
      "numEvents: 9\n",
      "num_FSPs_toData: 17\n",
      "skipped because <10 events \n",
      "\n",
      "numEvents: 11\n",
      "num_FSPs_toData: 18\n",
      "leaves.shape: (11, 18, 4)\n",
      "SA_target.shape: (11, 18)\n",
      "global_tag.shape: (11, 19)\n",
      "leaves[0]: [[ 0.44409418  0.29826891  0.2467518   0.58912684]\n",
      " [-0.13767813 -0.67586303  0.2329686   0.87962346]\n",
      " [ 0.33268592  0.14421238  0.27081567  0.45256851]\n",
      " [ 0.3540979  -0.12458204  0.08467195  0.40933512]\n",
      " [ 0.035247   -0.10364603  0.02608368  0.11253981]\n",
      " [-0.13975093  0.18826421  0.14060763  0.30695949]\n",
      " [-0.2495524  -0.13357283 -0.21814622  0.37265207]\n",
      " [-0.0414787   0.00170247 -0.03205555  0.05244939]\n",
      " [-0.0552355  -0.22077519 -0.14962488  0.27236051]\n",
      " [ 0.0121757  -0.07333362  0.13347578  0.1527804 ]\n",
      " [ 0.26895219 -0.04844205 -0.25639248  0.39987362]\n",
      " [ 0.2848258  -0.55520535  1.00850737  1.28459441]\n",
      " [-0.05946426  0.02644306  0.07146276  0.09665485]\n",
      " [-0.28495505 -0.6235494   0.48048016  0.8487369 ]\n",
      " [ 0.0361199  -0.06088877  0.04406178  0.08338783]\n",
      " [-0.09845462  0.03202268  0.12580317  0.16292698]\n",
      " [ 0.08213908  0.26611501  0.16388384  0.59003297]\n",
      " [-0.50917178  0.31251496 -0.36969146  0.71629126]]\n",
      "SA_target[0]: [1. 1. 1. 2. 0. 1. 2. 2. 2. 1. 1. 1. 0. 2. 0. 1. 1. 1.]\n",
      "global_tag[0]: [b'22.0' b'211.0' b'22.0' b'211.0' b'nan' b'211.0' b'13.0' b'22.0' b'22.0'\n",
      " b'-13.0' b'211.0' b'321.0' b'nan' b'211.0' b'nan' b'13.0' b'-321.0'\n",
      " b'-211.0' b'evt2331276']\n",
      "\n",
      "numEvents: 8\n",
      "num_FSPs_toData: 19\n",
      "skipped because <10 events \n",
      "\n",
      "numEvents: 9\n",
      "num_FSPs_toData: 20\n",
      "skipped because <10 events \n",
      "\n",
      "numEvents: 6\n",
      "num_FSPs_toData: 21\n",
      "skipped because <10 events \n",
      "\n",
      "numEvents: 7\n",
      "num_FSPs_toData: 22\n",
      "skipped because <10 events \n",
      "\n",
      "numEvents: 4\n",
      "num_FSPs_toData: 23\n",
      "skipped because <10 events \n",
      "\n",
      "numEvents: 5\n",
      "num_FSPs_toData: 24\n",
      "skipped because <10 events \n",
      "\n",
      "numEvents: 2\n",
      "num_FSPs_toData: 25\n",
      "skipped because <10 events \n",
      "\n"
     ]
    }
   ],
   "source": [
    "for var_comb in variable_combinations:\n",
    "    ablationSub = var_comb[1]\n",
    "    data_dir = Path(nfs_path + \"data/\" + data_subdir + root_subdir + ablationSub + \"/\")    \n",
    "    if save_data:\n",
    "        data_dir.mkdir(parents=True, exist_ok=True)\n",
    "    print(\"Will save data to:\", data_dir,'is', save_data ,'\\n')\n",
    "\n",
    "\n",
    "    #minFSPs = 5\n",
    "    for num_FSPs_toData in range(minFSPs, maxFSPs+1):\n",
    "        df_num_subset = df_FSPs_final.copy()\n",
    "        df_num_subset = df_num_subset[df_num_subset['numFSPs'] == num_FSPs_toData]\n",
    "\n",
    "\n",
    "        numEvents = df_num_subset.__event__.nunique()\n",
    "        print(\"numEvents:\",numEvents)\n",
    "        print(\"num_FSPs_toData:\",num_FSPs_toData)  \n",
    "        if numEvents == 0:\n",
    "            print(\"skipped because empty \\n\")\n",
    "            continue\n",
    "\n",
    "        if numEvents < 10:\n",
    "            print(\"skipped because <10 events \\n\")\n",
    "            continue\n",
    "\n",
    "        num_features = 4 + len(var_comb[0])\n",
    "        leaves = np.zeros((numEvents, num_FSPs_toData,  num_features))  \n",
    "        SA_target =  np.zeros((numEvents, num_FSPs_toData))\n",
    "        global_tag = np.chararray((numEvents, num_FSPs_toData + 1), itemsize=30)\n",
    "\n",
    "        event_list = df_num_subset[df_num_subset[\"numFSPs\"] == num_FSPs_toData][\"__event__\"].unique()\n",
    "        #print(\"len(event_list):\",len(event_list))\n",
    "        for i in range(numEvents):\n",
    "\n",
    "            event_iter = event_list[i]\n",
    "\n",
    "            global_tag_masterInfo = \"evt\" + str(event_iter)\n",
    "            global_tag[i,-1] = global_tag_masterInfo\n",
    "            #print(\"global_tag[i,-1]:\",global_tag[i,-1])\n",
    "            #print(\"i:\",i,\"event_iter:\",event_iter)\n",
    "\n",
    "            event_df = df_num_subset[df_num_subset.__event__ == event_iter]\n",
    "\n",
    "            for j in range(num_FSPs_toData):\n",
    "                #print(\"numParticle:\",j)\n",
    "                particle = event_df.iloc[j]\n",
    "\n",
    "                #print(particle[\"mcPDG\"],particle[\"px\"],particle[\"py\"],particle[\"pz\"],particle[\"E\"])\n",
    "                leaves[i,j,0] = particle[\"px\"]\n",
    "                leaves[i,j,1] = particle[\"py\"]\n",
    "                leaves[i,j,2] = particle[\"pz\"]\n",
    "                leaves[i,j,3] = particle[\"E\"]\n",
    "                \n",
    "                for k in range(len(var_comb[0])):\n",
    "                    leav_idx = k + 4\n",
    "                    leaves[i,j,leav_idx] = particle[var_comb[0][k]]\n",
    "                    \n",
    "\n",
    "\n",
    "\n",
    "                global_tag_Info = str((particle[\"mcPDG\"])) \n",
    "                global_tag[i,j] = global_tag_Info\n",
    "\n",
    "                label = -10 # error code if assignment fails\n",
    "                B_tag_uniqID = -10 # error code if assignment fails     \n",
    "\n",
    "                B_sig_uniqID = df_Y4S_final[df_Y4S_final[\"__event__\"] == event_iter].iloc[0]['Bsig_uniqParID']\n",
    "                if B_sig_uniqID == 83886082.0:\n",
    "                    B_tag_uniqID = 83886081.0\n",
    "                elif B_sig_uniqID == 83886081.0:\n",
    "                    B_tag_uniqID = 83886082.0\n",
    "\n",
    "                if particle[\"B_ID\"] == B_tag_uniqID:\n",
    "                    label = 1 # particle belongs to X (MC truth)\n",
    "                elif particle[\"B_ID\"] == B_sig_uniqID:\n",
    "                    label = 2 # particle belongs to Bsig (MC truth)\n",
    "                elif particle[\"B_ID\"] == 0:\n",
    "                    label = 0 # background (MC truth)\n",
    "\n",
    "\n",
    "                SA_target[i,j] = label\n",
    "\n",
    "            del event_df\n",
    "\n",
    "\n",
    "        # shuffle the data    \n",
    "        for idx in np.arange(leaves.shape[0]):   # arange is like range but gives ndarray instead of list\n",
    "            perms = np.random.permutation(leaves.shape[1])\n",
    "\n",
    "            leaves[idx,:] = leaves[idx,perms]\n",
    "            SA_target[idx,:] = SA_target[idx,perms]\n",
    "            global_tag[idx,0:-1] = global_tag[idx,perms]\n",
    "\n",
    "\n",
    "\n",
    "\n",
    "\n",
    "        #print(global_tag)\n",
    "        train_ratio = 0.8\n",
    "        validation_ratio = 0.2\n",
    "        #test_ratio = 0.06\n",
    "\n",
    "        print(\"leaves.shape:\",leaves.shape)\n",
    "        print(\"SA_target.shape:\",SA_target.shape)\n",
    "        print(\"global_tag.shape:\",global_tag.shape)\n",
    "\n",
    "\n",
    "        print(\"leaves[0]:\",leaves[0])\n",
    "        print(\"SA_target[0]:\",SA_target[0])\n",
    "        print(\"global_tag[0]:\",global_tag[0])\n",
    "\n",
    "        x=leaves\n",
    "        y=SA_target\n",
    "        z=global_tag\n",
    "\n",
    "        x_train, x_val, y_train, y_val, z_train, z_val = train_test_split(x, y, z, test_size=1 - train_ratio, shuffle=False)\n",
    "        #x_train, x_test, y_train, y_test, z_train, z_test = train_test_split(x, y, z, test_size=1 - train_ratio, shuffle=False)\n",
    "        #x_val, x_test, y_val, y_test, z_val, z_test = train_test_split(x_test, y_test, z_test, test_size=test_ratio/(test_ratio + validation_ratio), shuffle=False) \n",
    "\n",
    "        if save_data==True:\n",
    "            np.save(data_dir / \"leaves_train_FSP{}.npy\".format(num_FSPs_toData), x_train)\n",
    "            np.save(data_dir / \"is_left_arr_train_FSP{}.npy\".format(num_FSPs_toData), y_train)\n",
    "            np.save(data_dir / \"global_tag_train_FSP{}.npy\".format(num_FSPs_toData), z_train)\n",
    "\n",
    "            np.save(data_dir / \"leaves_val_FSP{}.npy\".format(num_FSPs_toData), x_val)\n",
    "            np.save(data_dir / \"is_left_arr_val_FSP{}.npy\".format(num_FSPs_toData), y_val)\n",
    "            np.save(data_dir / \"global_tag_val_FSP{}.npy\".format(num_FSPs_toData), z_val)\n",
    "\n",
    "            #np.save(data_dir / \"leaves_test_FSP{}.npy\".format(num_FSPs_toData), x_test)\n",
    "            #np.save(data_dir / \"is_left_arr_test_FSP{}.npy\".format(num_FSPs_toData), y_test)\n",
    "            #np.save(data_dir / \"global_tag_test_FSP{}.npy\".format(num_FSPs_toData), z_test)\n",
    "\n",
    "\n",
    "        print(\"\")\n",
    "        #del df_num_subset\n",
    "\n",
    "\n",
    "        del df_num_subset\n"
   ]
  },
  {
   "cell_type": "code",
   "execution_count": 42,
   "metadata": {},
   "outputs": [
    {
     "name": "stdout",
     "output_type": "stream",
     "text": [
      "saving is done\n",
      "time at end = 2021-10-21 13:37:14.389956\n"
     ]
    }
   ],
   "source": [
    "print(\"saving is done\")\n",
    "now = datetime.now()\n",
    "print(\"time at end =\", now)"
   ]
  },
  {
   "cell_type": "code",
   "execution_count": null,
   "metadata": {},
   "outputs": [],
   "source": []
  }
 ],
 "metadata": {
  "kernelspec": {
   "display_name": "Python 3",
   "language": "python",
   "name": "python3"
  },
  "language_info": {
   "codemirror_mode": {
    "name": "ipython",
    "version": 3
   },
   "file_extension": ".py",
   "mimetype": "text/x-python",
   "name": "python",
   "nbconvert_exporter": "python",
   "pygments_lexer": "ipython3",
   "version": "3.8.6"
  }
 },
 "nbformat": 4,
 "nbformat_minor": 4
}
