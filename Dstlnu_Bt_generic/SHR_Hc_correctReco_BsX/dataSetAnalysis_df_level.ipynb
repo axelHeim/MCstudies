{
 "cells": [
  {
   "cell_type": "code",
   "execution_count": 79,
   "id": "f8b7be68",
   "metadata": {},
   "outputs": [],
   "source": [
    "import matplotlib.pyplot as plt\n",
    "import uproot\n",
    "import numpy as np\n",
    "import pandas as pd\n",
    "\n",
    "from pathlib import Path\n",
    "from sklearn.model_selection import train_test_split\n",
    "\n",
    "from datetime import datetime\n",
    "import sys\n",
    "sys.path.insert(1, '/afs/desy.de/user/a/axelheim/private/MC_studies/Dstlnu_Bt_generic/util_funcs/')\n",
    "from pandas_colFuncs import isBtoDstlnu, whichBisSig, customMCmatching, B_ID"
   ]
  },
  {
   "cell_type": "code",
   "execution_count": 80,
   "id": "dea544c1",
   "metadata": {},
   "outputs": [],
   "source": [
    "root_path_finalDF = \"/nfs/dust/belle2/user/axelheim/MC_studies/Dstlnu_Bt_generic/SHR_Hc_correctReco_BsX/SHR_dataSteering_run1/\""
   ]
  },
  {
   "cell_type": "markdown",
   "id": "a8ce4526",
   "metadata": {},
   "source": [
    "## load my6modes dataframe"
   ]
  },
  {
   "cell_type": "code",
   "execution_count": 81,
   "id": "52d941ab",
   "metadata": {},
   "outputs": [],
   "source": [
    "my6modes_df = pd.read_csv(root_path_finalDF + \"df_my6modes.csv\")"
   ]
  },
  {
   "cell_type": "code",
   "execution_count": 49,
   "id": "95c781a1",
   "metadata": {},
   "outputs": [
    {
     "data": {
      "text/plain": [
       "array([1, 2, 3, 0])"
      ]
     },
     "execution_count": 49,
     "metadata": {},
     "output_type": "execute_result"
    }
   ],
   "source": [
    "my6modes_df['label'].unique()"
   ]
  },
  {
   "cell_type": "code",
   "execution_count": 50,
   "id": "0f70fbc3",
   "metadata": {},
   "outputs": [],
   "source": [
    "#cut out Hc particles"
   ]
  },
  {
   "cell_type": "code",
   "execution_count": 82,
   "id": "9c5f5748",
   "metadata": {},
   "outputs": [],
   "source": [
    "my6modes_df = my6modes_df[my6modes_df['label'] != 3]"
   ]
  },
  {
   "cell_type": "markdown",
   "id": "dfb17583",
   "metadata": {},
   "source": [
    "## load the D*lnu dataframe"
   ]
  },
  {
   "cell_type": "code",
   "execution_count": 83,
   "id": "cf21a495",
   "metadata": {},
   "outputs": [],
   "source": [
    "df_FSPs = pd.read_csv(root_path_finalDF + \"final_df_FSPs_preProcessed_SHR.csv\")\n",
    "df_Y4S = pd.read_csv(root_path_finalDF + \"final_df_Y4S_preProcessed_SHR.csv\")"
   ]
  },
  {
   "cell_type": "code",
   "execution_count": 44,
   "id": "68a59147",
   "metadata": {},
   "outputs": [],
   "source": [
    "def labels(s):\n",
    "    label = -1\n",
    "    if int(s['B_ID']) == 0:\n",
    "        label = 0 # background, cause not related to MC Particles\n",
    "    else: \n",
    "        event_num = (s['__event__'])\n",
    "        B_sigID = df_Y4S[df_Y4S['__event__'] == event_num].iloc[0]['Bsig_uniqParID']\n",
    "        \n",
    "        if int(s['B_ID']) == B_sigID:\n",
    "            label = 2 # Bsig\n",
    "        else:\n",
    "            label = 1 #X\n",
    "    return label"
   ]
  },
  {
   "cell_type": "code",
   "execution_count": 46,
   "id": "5b35bac8",
   "metadata": {},
   "outputs": [],
   "source": [
    "df_FSPs['label'] = df_FSPs.apply(labels, axis=1)"
   ]
  },
  {
   "cell_type": "code",
   "execution_count": 47,
   "id": "65c66d45",
   "metadata": {},
   "outputs": [
    {
     "data": {
      "text/plain": [
       "array([1, 2, 0])"
      ]
     },
     "execution_count": 47,
     "metadata": {},
     "output_type": "execute_result"
    }
   ],
   "source": [
    "df_FSPs['label'].unique()"
   ]
  },
  {
   "cell_type": "markdown",
   "id": "6d07fa6e",
   "metadata": {},
   "source": [
    "## save FSPs with labels, take too much time "
   ]
  },
  {
   "cell_type": "code",
   "execution_count": 48,
   "id": "0a956be6",
   "metadata": {},
   "outputs": [],
   "source": [
    "df_FSPs.to_csv(root_path_finalDF + \"final_df_FSPs_preProcessed_SHR_wLabels.csv\")"
   ]
  },
  {
   "cell_type": "code",
   "execution_count": 84,
   "id": "dbad992e",
   "metadata": {},
   "outputs": [],
   "source": [
    "df_FSPs = pd.read_csv(root_path_finalDF + \"final_df_FSPs_preProcessed_SHR_wLabels.csv\")"
   ]
  },
  {
   "cell_type": "markdown",
   "id": "363e066f",
   "metadata": {},
   "source": [
    "## start analysis"
   ]
  },
  {
   "cell_type": "code",
   "execution_count": 85,
   "id": "1e9ba8ec",
   "metadata": {},
   "outputs": [
    {
     "data": {
      "text/plain": [
       "array([211.,  11.,  22., 321.,  13.])"
      ]
     },
     "execution_count": 85,
     "metadata": {},
     "output_type": "execute_result"
    }
   ],
   "source": [
    "df_FSPs[\"absPDG\"] = df_FSPs[\"PDG\"].abs()\n",
    "df_FSPs[\"absPDG\"].unique()"
   ]
  },
  {
   "cell_type": "code",
   "execution_count": 86,
   "id": "5bf445b5",
   "metadata": {},
   "outputs": [],
   "source": [
    "df_FSPs_neutrals = df_FSPs[df_FSPs[\"absPDG\"] == 22.]\n",
    "df_FSPs_charged = df_FSPs[df_FSPs[\"absPDG\"] != 22.]"
   ]
  },
  {
   "cell_type": "code",
   "execution_count": 87,
   "id": "5a8e64e9",
   "metadata": {},
   "outputs": [],
   "source": [
    "numFSPs = pd.DataFrame({'count' : df_FSPs.groupby( [\"__event__\"] ).size()}).reset_index()\n",
    "numFSPsmy6modes = pd.DataFrame({'count' : my6modes_df.groupby( [\"event\",\"mode\"] ).size()}).reset_index()"
   ]
  },
  {
   "cell_type": "code",
   "execution_count": 88,
   "id": "3eba05c8",
   "metadata": {},
   "outputs": [],
   "source": [
    "numFSPs_neutrals = pd.DataFrame({'count' : df_FSPs_neutrals.groupby( [\"__event__\"] ).size()}).reset_index()\n",
    "numFSPs_charged = pd.DataFrame({'count' : df_FSPs_charged.groupby( [\"__event__\"] ).size()}).reset_index()"
   ]
  },
  {
   "cell_type": "code",
   "execution_count": 89,
   "id": "1d877b3e",
   "metadata": {},
   "outputs": [
    {
     "name": "stdout",
     "output_type": "stream",
     "text": [
      "numEvents D*lnu: 53473\n",
      "numEvents my6modes: 89991\n"
     ]
    }
   ],
   "source": [
    "numEvents_my6modes = numFSPsmy6modes.shape[0]\n",
    "numEvents_Dstlnu = numFSPs.shape[0]\n",
    "\n",
    "\n",
    "print(\"numEvents D*lnu:\", numEvents_Dstlnu)\n",
    "print(\"numEvents my6modes:\", numEvents_my6modes)"
   ]
  },
  {
   "cell_type": "code",
   "execution_count": 90,
   "id": "19c2006b",
   "metadata": {},
   "outputs": [],
   "source": [
    "numFSPs_neutrals2 = pd.DataFrame({'count' : df_FSPs_neutrals.groupby( [\"__event__\",\"label\"] ).size()}).reset_index()\n",
    "numFSPs_charged2 = pd.DataFrame({'count' : df_FSPs_charged.groupby( [\"__event__\",\"label\"] ).size()}).reset_index()"
   ]
  },
  {
   "cell_type": "code",
   "execution_count": 91,
   "id": "9f69147e",
   "metadata": {},
   "outputs": [
    {
     "data": {
      "image/png": "[encoded data removed]",
      "text/plain": [
       "<Figure size 576x360 with 1 Axes>"
      ]
     },
     "metadata": {
      "needs_background": "light"
     },
     "output_type": "display_data"
    },
    {
     "data": {
      "image/png": "[encoded data removed]",
      "text/plain": [
       "<Figure size 576x360 with 1 Axes>"
      ]
     },
     "metadata": {
      "needs_background": "light"
     },
     "output_type": "display_data"
    },
    {
     "data": {
      "image/png": "[encoded data removed]",
      "text/plain": [
       "<Figure size 576x360 with 1 Axes>"
      ]
     },
     "metadata": {
      "needs_background": "light"
     },
     "output_type": "display_data"
    }
   ],
   "source": [
    "label_cat = {0: \"background\",1: \"X\",2: \"B-sig\"}\n",
    "\n",
    "for label in [0,1,2]:\n",
    "\n",
    "    bins = np.linspace(0, 30, 30)\n",
    "    fig, ax = plt.subplots()\n",
    "    fig.suptitle(f'FSPs from {label_cat[label]} per event')\n",
    "    fig.set_size_inches(8, 5)\n",
    "\n",
    "    ax.set_xlabel(r'number of particles per event')\n",
    "    ax.set_ylabel(\"fraction of total events\")\n",
    "    \n",
    "    ax.hist(numFSPs_charged2[numFSPs_charged2[\"label\"] == label][\"count\"],bins=bins,density=True, alpha=0.5, label=(r'charged'),histtype='step')\n",
    "    ax.hist(numFSPs_neutrals2[numFSPs_neutrals2[\"label\"] == label][\"count\"],bins=bins,density=True, alpha=0.5, label=(r'neutrals'),histtype='step')\n",
    "    cuts=[0.050,0.100]\n",
    "    for cut in cuts:\n",
    "        neutrals_cut = df_FSPs_neutrals[df_FSPs_neutrals[\"p\"] > cut]\n",
    "        charged_cut = df_FSPs_charged[df_FSPs_charged[\"p\"] > cut]\n",
    "        numFSPs_CUTneutrals = pd.DataFrame({'count' : neutrals_cut.groupby( [\"__event__\",\"label\"] ).size()}).reset_index()\n",
    "        ax.hist(numFSPs_CUTneutrals[numFSPs_CUTneutrals[\"label\"] == label][\"count\"],bins=bins,density=True, alpha=0.5, label=((r'neutrals $p$>{}').format(cut)),histtype='step')\n",
    "\n",
    "\n",
    "    ax.legend(loc='upper right')\n",
    "    plt.savefig(f'dataSetAnaPlots/numFSPs_histo_SHR_run1data_cuts_{label_cat[label]}.pdf')"
   ]
  },
  {
   "cell_type": "code",
   "execution_count": 92,
   "id": "6358836d",
   "metadata": {},
   "outputs": [
    {
     "data": {
      "image/png": "[encoded data removed]",
      "text/plain": [
       "<Figure size 576x360 with 1 Axes>"
      ]
     },
     "metadata": {
      "needs_background": "light"
     },
     "output_type": "display_data"
    }
   ],
   "source": [
    "bins = np.linspace(0, 60, 30)\n",
    "fig, ax = plt.subplots()\n",
    "fig.suptitle(r'neutrals FSPs from $B_{sig}$, ${X}$ and bg per event')\n",
    "fig.set_size_inches(8, 5)\n",
    "\n",
    "ax.set_xlabel(r'number of particles per event')\n",
    "ax.set_ylabel(\"fraction of total events\")\n",
    "\n",
    "ax.hist(numFSPs_neutrals[\"count\"],bins=bins,density=True, alpha=0.5, label=(r'neutrals no cut'),histtype='step')\n",
    "\n",
    "\n",
    "\n",
    "cuts=[0.050,0.100]\n",
    "for cut in cuts:\n",
    "    neutrals_cut = df_FSPs_neutrals[df_FSPs_neutrals[\"p\"] > cut]\n",
    "    numFSPs_CUTneutrals = pd.DataFrame({'count' : neutrals_cut.groupby( [\"__event__\"] ).size()}).reset_index()\n",
    "    ax.hist(numFSPs_CUTneutrals[\"count\"],bins=bins,density=True, alpha=0.5, label=((r'neutrals $p$>{}').format(cut)),histtype='step')\n",
    "\n",
    "\n",
    "\n",
    "ax.legend(loc='upper right')\n",
    "\n",
    "plt.savefig('dataSetAnaPlots/numFSPs_histo_SHR_run1data_neutralsCuts.pdf')"
   ]
  },
  {
   "cell_type": "code",
   "execution_count": 93,
   "id": "a622aac8",
   "metadata": {},
   "outputs": [
    {
     "data": {
      "image/png": "[encoded data removed]",
      "text/plain": [
       "<Figure size 576x360 with 1 Axes>"
      ]
     },
     "metadata": {
      "needs_background": "light"
     },
     "output_type": "display_data"
    }
   ],
   "source": [
    "bins = np.linspace(0, 20, 20)\n",
    "fig, ax = plt.subplots()\n",
    "fig.suptitle(r'charged FSPs from $B_{sig}$, ${X}$ and bg per event')\n",
    "fig.set_size_inches(8, 5)\n",
    "\n",
    "ax.set_xlabel(r'number of particles per event')\n",
    "ax.set_ylabel(\"fraction of total events\")\n",
    "\n",
    "ax.hist(numFSPs_charged[\"count\"],bins=bins,density=True, alpha=0.5, label=(r'charged'),histtype='step')\n",
    "\n",
    "\n",
    "\n",
    "cuts=[0.050,0.100]\n",
    "for cut in cuts:\n",
    "    charged_cut = df_FSPs_charged[df_FSPs_charged[\"p\"] > cut]\n",
    "    numFSPs_CUTcharged = pd.DataFrame({'count' : charged_cut.groupby( [\"__event__\"] ).size()}).reset_index()\n",
    "    ax.hist(numFSPs_CUTcharged[\"count\"],bins=bins,density=True, alpha=0.5, label=((r'charged $p$>{}').format(cut)),histtype='step')\n",
    "\n",
    "\n",
    "\n",
    "ax.legend(loc='upper right')\n",
    "\n",
    "plt.savefig('dataSetAnaPlots/numFSPs_histo_SHR_run1data_chargedCuts.pdf')"
   ]
  },
  {
   "cell_type": "code",
   "execution_count": null,
   "id": "6008fbc5",
   "metadata": {},
   "outputs": [],
   "source": [
    "bins = np.linspace(0, 50, 25)\n",
    "fig, ax = plt.subplots()\n",
    "fig.suptitle(r'all FSPs per event for $B_{sig}$-$X$ and background')\n",
    "fig.set_size_inches(8, 5)\n",
    "\n",
    "ax.set_xlabel(r'number of particles per event')\n",
    "ax.set_ylabel(\"fraction of total events\")\n",
    "\n",
    "ax.hist(numFSPs[\"count\"],bins=bins,density=True, alpha=0.5, label=(r'$D* l \\nu$ data no cuts'),histtype='step')\n",
    "\n",
    "\n",
    "df_FSPs_100cut = df_FSPs[df_FSPs[\"p\"] > 0.100]\n",
    "numFSPsCUT = pd.DataFrame({'count' : df_FSPs_100cut.groupby( [\"__event__\"] ).size()}).reset_index()\n",
    "ax.hist(numFSPsCUT[\"count\"],bins=bins,density=True, alpha=0.5, label=(r'$D* l \\nu$ data only neutrals p>100MeV'),histtype='step')\n",
    "df_FSPs_50cut = df_FSPs[df_FSPs[\"p\"] > 0.050]\n",
    "numFSPsCUT = pd.DataFrame({'count' : df_FSPs_50cut.groupby( [\"__event__\"] ).size()}).reset_index()\n",
    "ax.hist(numFSPsCUT[\"count\"],bins=bins,density=True, alpha=0.5, label=(r'$D* l \\nu$ data only neutrals p>50MeV'),histtype='step')\n",
    "ax.hist(numFSPsmy6modes[\"count\"],bins=bins,density=True, alpha=0.5, label=(r'my 6 modes data'),histtype='step')\n",
    "\n",
    "ax.legend(loc='upper right')\n",
    "\n",
    "plt.savefig('dataSetAnaPlots/numFSPs_histo_SHR_run1data.pdf')"
   ]
  },
  {
   "cell_type": "code",
   "execution_count": 39,
   "id": "8b9a95db",
   "metadata": {},
   "outputs": [
    {
     "data": {
      "text/plain": [
       "Index(['Unnamed: 0', 'Unnamed: 0.1', '__experiment__', '__run__', '__event__',\n",
       "       '__candidate__', '__ncandidates__', '__weight__', 'basf2_X',\n",
       "       'basf2_used', 'basf2_Bsig', 'isSignal', 'uniqueParticleIdentifier',\n",
       "       'mcErrors', 'mcPDG', 'genMotherID', 'genMotherP', 'genMotherPDG', 'px',\n",
       "       'py', 'pz', 'pt', 'p', 'E', 'kaonID', 'pionID', 'genMothPDG_0',\n",
       "       'genMothPDG_1', 'genMothPDG_2', 'genMothPDG_3', 'genMothPDG_4',\n",
       "       'genMothPDG_5', 'genMothPDG_6', 'genMothPDG_7', 'genMothPDG_8',\n",
       "       'genMothPDG_9', 'genMotherID_0', 'genMotherID_1', 'genMotherID_2',\n",
       "       'genMotherID_3', 'genMotherID_4', 'genMotherID_5', 'genMotherID_6',\n",
       "       'genMotherID_7', 'genMotherID_8', 'genMotherID_9',\n",
       "       'mcMother0_uniqParID', 'mcMother1_uniqParID', 'mcMother2_uniqParID',\n",
       "       'mcMother3_uniqParID', 'mcMother4_uniqParID', 'mcMother5_uniqParID',\n",
       "       'mcMother6_uniqParID', 'mcMother7_uniqParID', 'mcMother8_uniqParID',\n",
       "       'mcMother9_uniqParID', 'PDG', 'B_ID', 'numFSPs'],\n",
       "      dtype='object')"
      ]
     },
     "execution_count": 39,
     "metadata": {},
     "output_type": "execute_result"
    }
   ],
   "source": [
    "df_FSPs.keys()"
   ]
  },
  {
   "cell_type": "code",
   "execution_count": 14,
   "id": "950e525f",
   "metadata": {},
   "outputs": [
    {
     "data": {
      "text/plain": [
       "array([211.,  11.,  22., 321.,  13.])"
      ]
     },
     "execution_count": 14,
     "metadata": {},
     "output_type": "execute_result"
    }
   ],
   "source": []
  },
  {
   "cell_type": "code",
   "execution_count": null,
   "id": "56473f7c",
   "metadata": {},
   "outputs": [],
   "source": []
  }
 ],
 "metadata": {
  "kernelspec": {
   "display_name": "Python 3",
   "language": "python",
   "name": "python3"
  },
  "language_info": {
   "codemirror_mode": {
    "name": "ipython",
    "version": 3
   },
   "file_extension": ".py",
   "mimetype": "text/x-python",
   "name": "python",
   "nbconvert_exporter": "python",
   "pygments_lexer": "ipython3",
   "version": "3.6.8"
  }
 },
 "nbformat": 4,
 "nbformat_minor": 5
}
