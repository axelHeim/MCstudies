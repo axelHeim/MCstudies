{
 "cells": [
  {
   "cell_type": "code",
   "execution_count": 2,
   "metadata": {},
   "outputs": [],
   "source": [
    "import matplotlib.pyplot as plt\n",
    "import uproot\n",
    "import numpy as np\n",
    "import pandas as pd\n",
    "\n",
    "from pathlib import Path\n",
    "from sklearn.model_selection import train_test_split\n",
    "\n",
    "from datetime import datetime\n",
    "import sys\n",
    "sys.path.insert(1, '/afs/desy.de/user/a/axelheim/private/MC_studies/Dstlnu_Bt_generic/util_funcs/')\n",
    "from pandas_colFuncs import isBtoDstlnu, whichBisSig, customMCmatching, B_ID"
   ]
  },
  {
   "cell_type": "code",
   "execution_count": 3,
   "metadata": {},
   "outputs": [
    {
     "name": "stdout",
     "output_type": "stream",
     "text": [
      "time at start = 2021-10-05 19:06:33.286270\n"
     ]
    }
   ],
   "source": [
    "now = datetime.now()\n",
    "print(\"time at start =\", now)"
   ]
  },
  {
   "cell_type": "code",
   "execution_count": 4,
   "metadata": {},
   "outputs": [
    {
     "name": "stdout",
     "output_type": "stream",
     "text": [
      "HTCondorRun: -f\n"
     ]
    }
   ],
   "source": [
    "HTCondorRun = str(sys.argv[1])\n",
    "print(\"HTCondorRun:\",HTCondorRun)"
   ]
  },
  {
   "cell_type": "code",
   "execution_count": 5,
   "metadata": {},
   "outputs": [
    {
     "name": "stdout",
     "output_type": "stream",
     "text": [
      "used sub: sub02\n"
     ]
    }
   ],
   "source": [
    "sub = str(sys.argv[2])\n",
    "if sub.find(\"sub\") == -1:\n",
    "    sub = \"sub02\"\n",
    "print(\"used sub:\", sub)"
   ]
  },
  {
   "cell_type": "code",
   "execution_count": 6,
   "metadata": {},
   "outputs": [],
   "source": [
    "save_data = True\n",
    "save_preprocessedDataframe = True\n",
    "tmp_data = True\n",
    "take_subset = False\n",
    "subset_size = 100000"
   ]
  },
  {
   "cell_type": "code",
   "execution_count": 7,
   "metadata": {},
   "outputs": [],
   "source": [
    "nfs_path = \"/nfs/dust/belle2/user/axelheim/MC_studies/Dstlnu_Bt_generic/\"\n",
    "\n",
    "data_subdir = \"Dstlnu_SHR_BsX_p100cut/\"\n",
    "root_subdir = \"SHR_dataSteering_run1/\"   \n",
    "\n",
    "root_path = nfs_path + \"SHR_Hc_correctReco_BsX/\" + root_subdir + sub + \"/\""
   ]
  },
  {
   "cell_type": "code",
   "execution_count": 8,
   "metadata": {},
   "outputs": [],
   "source": [
    "merged = \"merged_\"\n",
    "if tmp_data:\n",
    "    merged += \"tmp_\""
   ]
  },
  {
   "cell_type": "code",
   "execution_count": 8,
   "metadata": {},
   "outputs": [],
   "source": [
    "fileY4S = uproot.open(root_path + merged + \"DXtagDstl.root:variables\")\n",
    "#afsPath = \"/afs/desy.de/user/a/axelheim/private/MC_studies/Dstlnu_Bt_generic/SHR_Hc_correctReco_BsX/SHR_dataSteering_run1/\"\n",
    "#fileY4S = uproot.open(afsPath + \"DXtagDstl.root:variables\")"
   ]
  },
  {
   "cell_type": "code",
   "execution_count": 9,
   "metadata": {},
   "outputs": [
    {
     "name": "stdout",
     "output_type": "stream",
     "text": [
      "/nfs/dust/belle2/user/axelheim/MC_studies/Dstlnu_Bt_generic/SHR_Hc_correctReco_BsX/SHR_dataSteering_run1/sub02/merged_tmp_gammas.root:variables\n",
      "/nfs/dust/belle2/user/axelheim/MC_studies/Dstlnu_Bt_generic/SHR_Hc_correctReco_BsX/SHR_dataSteering_run1/sub02/merged_tmp_electrons.root:variables\n",
      "/nfs/dust/belle2/user/axelheim/MC_studies/Dstlnu_Bt_generic/SHR_Hc_correctReco_BsX/SHR_dataSteering_run1/sub02/merged_tmp_pions.root:variables\n",
      "/nfs/dust/belle2/user/axelheim/MC_studies/Dstlnu_Bt_generic/SHR_Hc_correctReco_BsX/SHR_dataSteering_run1/sub02/merged_tmp_kaons.root:variables\n",
      "/nfs/dust/belle2/user/axelheim/MC_studies/Dstlnu_Bt_generic/SHR_Hc_correctReco_BsX/SHR_dataSteering_run1/sub02/merged_tmp_muons.root:variables\n"
     ]
    }
   ],
   "source": [
    "names = [\"gammas\",\"electrons\",\"pions\",\"kaons\",\"muons\"]\n",
    "dfs = []\n",
    "for name in names:\n",
    "    filename = root_path + merged + \"{}.root:variables\".format(name)\n",
    "    #filename = afsPath + \"{}.root:variables\".format(name)\n",
    "    print(filename)\n",
    "    tmpFileFSPs = uproot.open(filename)\n",
    "    df_tmp = tmpFileFSPs.arrays(library=\"pd\")\n",
    "    dfs.append(df_tmp)"
   ]
  },
  {
   "cell_type": "code",
   "execution_count": 10,
   "metadata": {},
   "outputs": [],
   "source": [
    "df_FSPs = pd.concat(dfs)"
   ]
  },
  {
   "cell_type": "code",
   "execution_count": 11,
   "metadata": {},
   "outputs": [],
   "source": [
    "df_Y4S = fileY4S.arrays(library=\"pd\")"
   ]
  },
  {
   "cell_type": "code",
   "execution_count": 12,
   "metadata": {},
   "outputs": [
    {
     "name": "stdout",
     "output_type": "stream",
     "text": [
      "46791043\n",
      "1011345\n"
     ]
    }
   ],
   "source": [
    "print(df_FSPs.shape[0])\n",
    "print(df_Y4S.shape[0])"
   ]
  },
  {
   "cell_type": "code",
   "execution_count": 13,
   "metadata": {},
   "outputs": [],
   "source": [
    "# delete FSPs for which no Y4S file entry was found\n",
    "df_FSPs = df_FSPs[df_FSPs['__event__'].isin(df_Y4S[\"__event__\"])]"
   ]
  },
  {
   "cell_type": "code",
   "execution_count": 14,
   "metadata": {},
   "outputs": [],
   "source": [
    "df_Y4S = df_Y4S[(df_Y4S['Hc_isSignalAcceptMissingGamma'] == 1.0)]\n",
    "\n",
    "df_FSPs = df_FSPs[df_FSPs['__event__'].isin(df_Y4S[\"__event__\"])]"
   ]
  },
  {
   "cell_type": "code",
   "execution_count": 15,
   "metadata": {},
   "outputs": [
    {
     "name": "stdout",
     "output_type": "stream",
     "text": [
      "2669913\n"
     ]
    }
   ],
   "source": [
    "print(df_FSPs.shape[0])"
   ]
  },
  {
   "cell_type": "markdown",
   "metadata": {},
   "source": [
    "### delete particles which occur more than ones based on uniqueParticleIdentifier"
   ]
  },
  {
   "cell_type": "code",
   "execution_count": 46,
   "metadata": {},
   "outputs": [],
   "source": [
    "groupsFSPs_uniqParID = pd.DataFrame({'count' : df_FSPs.groupby( [\"__event__\",\"uniqueParticleIdentifier\"] ).size()}).reset_index()\n",
    "#with pd.option_context('display.max_rows', None, 'display.max_columns', None):  # more options can be specified also\n",
    "#    print(groupsFSPs_uniqParID.sort_values(\"count\"))"
   ]
  },
  {
   "cell_type": "code",
   "execution_count": null,
   "metadata": {
    "scrolled": true
   },
   "outputs": [],
   "source": [
    "print(\"df_FSPs.shape[0]:\",df_FSPs.shape[0])\n",
    "print(\"groupsFSPs_uniqParID.shape[0]:\",groupsFSPs_uniqParID.shape[0])\n",
    "print(\"df_Y4S.shape[0]:\",df_Y4S.shape[0])"
   ]
  },
  {
   "cell_type": "code",
   "execution_count": 16,
   "metadata": {},
   "outputs": [
    {
     "name": "stdout",
     "output_type": "stream",
     "text": [
      "df_FSPs[basf2_used].value_counts(): 0.0    1453461\n",
      "1.0    1216452\n",
      "Name: basf2_used, dtype: int64\n",
      "df_FSPs[basf2_used].value_counts(): 1.0    1209487\n",
      "0.0     727706\n",
      "Name: basf2_used, dtype: int64\n"
     ]
    }
   ],
   "source": [
    "# delete particles which occur more than ones (keep first) and if possible keep the one with basf2_used==1\n",
    "print(\"df_FSPs[basf2_used].value_counts():\",df_FSPs[\"basf2_used\"].value_counts())\n",
    "df_FSPs = df_FSPs.sort_values(\"basf2_used\",ascending=False).drop_duplicates(subset=(\"__event__\",\"uniqueParticleIdentifier\"), keep='first')\n",
    "print(\"df_FSPs[basf2_used].value_counts():\",df_FSPs[\"basf2_used\"].value_counts())"
   ]
  },
  {
   "cell_type": "code",
   "execution_count": 17,
   "metadata": {
    "scrolled": true
   },
   "outputs": [
    {
     "name": "stdout",
     "output_type": "stream",
     "text": [
      "df_FSPs.shape[0]: 1937193\n"
     ]
    }
   ],
   "source": [
    "print(\"df_FSPs.shape[0]:\",df_FSPs.shape[0])"
   ]
  },
  {
   "cell_type": "markdown",
   "metadata": {},
   "source": [
    "## take a sample if used in notebook for faster processing"
   ]
  },
  {
   "cell_type": "code",
   "execution_count": 14,
   "metadata": {},
   "outputs": [
    {
     "data": {
      "text/plain": [
       "90"
      ]
     },
     "execution_count": 14,
     "metadata": {},
     "output_type": "execute_result"
    }
   ],
   "source": [
    "all_evt_nums = df_FSPs['__event__'].unique()\n",
    "all_evt_nums.shape[0]"
   ]
  },
  {
   "cell_type": "code",
   "execution_count": 15,
   "metadata": {},
   "outputs": [
    {
     "data": {
      "text/plain": [
       "100000"
      ]
     },
     "execution_count": 15,
     "metadata": {},
     "output_type": "execute_result"
    }
   ],
   "source": [
    "sample_evt_nums = np.random.choice(all_evt_nums, size=subset_size)\n",
    "sample_evt_nums.shape[0]"
   ]
  },
  {
   "cell_type": "code",
   "execution_count": 16,
   "metadata": {},
   "outputs": [],
   "source": [
    "if take_subset:\n",
    "    df_FSPssample = df_FSPs[df_FSPs['__event__'].isin(sample_evt_nums)]\n",
    "    #df_Y4S=df_Y4Ssample\n",
    "    df_FSPs=df_FSPssample"
   ]
  },
  {
   "cell_type": "code",
   "execution_count": 17,
   "metadata": {
    "scrolled": true
   },
   "outputs": [
    {
     "name": "stdout",
     "output_type": "stream",
     "text": [
      "df_FSPs.shape[0]: 4215\n",
      "numEvents: 90\n"
     ]
    }
   ],
   "source": [
    "print(\"df_FSPs.shape[0]:\",df_FSPs.shape[0])\n",
    "print(\"numEvents:\",df_FSPs['__event__'].unique().shape[0])"
   ]
  },
  {
   "cell_type": "markdown",
   "metadata": {},
   "source": [
    "## save sample "
   ]
  },
  {
   "cell_type": "code",
   "execution_count": 22,
   "metadata": {},
   "outputs": [],
   "source": [
    "if take_subset:\n",
    "    df_FSPs.to_csv(root_path + \"df_FSPs_sample_{}_evts.csv\".format(subset_size))\n",
    "    #df_Y4S.to_csv(root_path + \"df_Y4S_sample__evts.csv\")"
   ]
  },
  {
   "cell_type": "code",
   "execution_count": 23,
   "metadata": {},
   "outputs": [],
   "source": [
    "load = False\n",
    "if load:\n",
    "    df_FSPs = pd.read_csv(root_path + \"df_FSPs_sample_{}_evts.csv\".format(subset_size))\n",
    "    #df_Y4S = pd.read_csv(root_path + \"df_Y4S_sample10evts.csv\")"
   ]
  },
  {
   "cell_type": "markdown",
   "metadata": {},
   "source": [
    "## filter the wanted D*lnu and Hc isSignal==1 events"
   ]
  },
  {
   "cell_type": "code",
   "execution_count": 18,
   "metadata": {},
   "outputs": [],
   "source": [
    "df_Y4S['isBtoDstlnu'] = df_Y4S.apply(isBtoDstlnu, axis=1)"
   ]
  },
  {
   "cell_type": "code",
   "execution_count": 19,
   "metadata": {},
   "outputs": [
    {
     "data": {
      "text/plain": [
       "37354"
      ]
     },
     "execution_count": 19,
     "metadata": {},
     "output_type": "execute_result"
    }
   ],
   "source": [
    "df_Y4S[(df_Y4S['isBtoDstlnu'] == 1) & (df_Y4S['Hc_isSignalAcceptMissingGamma'] == 1.0)].shape[0]"
   ]
  },
  {
   "cell_type": "code",
   "execution_count": 20,
   "metadata": {},
   "outputs": [],
   "source": [
    "df_Y4S = df_Y4S[(df_Y4S['isBtoDstlnu'] == 1) & (df_Y4S['Hc_isSignalAcceptMissingGamma'] == 1.0)]"
   ]
  },
  {
   "cell_type": "code",
   "execution_count": 21,
   "metadata": {},
   "outputs": [
    {
     "data": {
      "text/plain": [
       "1131187"
      ]
     },
     "execution_count": 21,
     "metadata": {},
     "output_type": "execute_result"
    }
   ],
   "source": [
    "# delete FSPs for which no Y4S file entry is left after filer\n",
    "df_FSPs = df_FSPs[df_FSPs['__event__'].isin(df_Y4S[\"__event__\"])]\n",
    "df_FSPs.shape[0]"
   ]
  },
  {
   "cell_type": "markdown",
   "metadata": {},
   "source": [
    "### add cols with extra info for data prod"
   ]
  },
  {
   "cell_type": "code",
   "execution_count": 22,
   "metadata": {},
   "outputs": [],
   "source": [
    "df_Y4S['Bsig_uniqParID'] = df_Y4S.apply(whichBisSig, axis=1)"
   ]
  },
  {
   "cell_type": "code",
   "execution_count": 23,
   "metadata": {},
   "outputs": [],
   "source": [
    "# function to create col with the particles mother B's uniqueParticleIdentifier\n",
    "df_FSPs['B_ID'] = df_FSPs.apply(B_ID, axis=1)"
   ]
  },
  {
   "cell_type": "markdown",
   "metadata": {},
   "source": [
    "### print one event"
   ]
  },
  {
   "cell_type": "code",
   "execution_count": 47,
   "metadata": {
    "scrolled": true
   },
   "outputs": [
    {
     "data": {
      "text/html": [
       "<div>\n",
       "<style scoped>\n",
       "    .dataframe tbody tr th:only-of-type {\n",
       "        vertical-align: middle;\n",
       "    }\n",
       "\n",
       "    .dataframe tbody tr th {\n",
       "        vertical-align: top;\n",
       "    }\n",
       "\n",
       "    .dataframe thead th {\n",
       "        text-align: right;\n",
       "    }\n",
       "</style>\n",
       "<table border=\"1\" class=\"dataframe\">\n",
       "  <thead>\n",
       "    <tr style=\"text-align: right;\">\n",
       "      <th></th>\n",
       "      <th>__event__</th>\n",
       "      <th>Bsig_uniqParID</th>\n",
       "      <th>isBtoDstlnu</th>\n",
       "      <th>Hc_isSignalAcceptMissingGamma</th>\n",
       "      <th>Hc_mcPDG</th>\n",
       "      <th>Hc_genMotherPDG</th>\n",
       "      <th>Hc_uniqParID</th>\n",
       "      <th>Hc_genMotherID</th>\n",
       "    </tr>\n",
       "  </thead>\n",
       "  <tbody>\n",
       "    <tr>\n",
       "      <th>0</th>\n",
       "      <td>22239789</td>\n",
       "      <td>83886081.0</td>\n",
       "      <td>1</td>\n",
       "      <td>1.0</td>\n",
       "      <td>421.0</td>\n",
       "      <td>413.0</td>\n",
       "      <td>100663296.0</td>\n",
       "      <td>3.0</td>\n",
       "    </tr>\n",
       "    <tr>\n",
       "      <th>1</th>\n",
       "      <td>22242808</td>\n",
       "      <td>83886082.0</td>\n",
       "      <td>1</td>\n",
       "      <td>1.0</td>\n",
       "      <td>421.0</td>\n",
       "      <td>413.0</td>\n",
       "      <td>100663296.0</td>\n",
       "      <td>3.0</td>\n",
       "    </tr>\n",
       "    <tr>\n",
       "      <th>2</th>\n",
       "      <td>22243407</td>\n",
       "      <td>83886081.0</td>\n",
       "      <td>1</td>\n",
       "      <td>1.0</td>\n",
       "      <td>-411.0</td>\n",
       "      <td>-413.0</td>\n",
       "      <td>100663296.0</td>\n",
       "      <td>6.0</td>\n",
       "    </tr>\n",
       "    <tr>\n",
       "      <th>3</th>\n",
       "      <td>22246415</td>\n",
       "      <td>83886081.0</td>\n",
       "      <td>1</td>\n",
       "      <td>1.0</td>\n",
       "      <td>-421.0</td>\n",
       "      <td>-423.0</td>\n",
       "      <td>100663296.0</td>\n",
       "      <td>13.0</td>\n",
       "    </tr>\n",
       "    <tr>\n",
       "      <th>4</th>\n",
       "      <td>14790197</td>\n",
       "      <td>83886082.0</td>\n",
       "      <td>1</td>\n",
       "      <td>1.0</td>\n",
       "      <td>-411.0</td>\n",
       "      <td>511.0</td>\n",
       "      <td>100663296.0</td>\n",
       "      <td>1.0</td>\n",
       "    </tr>\n",
       "    <tr>\n",
       "      <th>5</th>\n",
       "      <td>14794866</td>\n",
       "      <td>83886082.0</td>\n",
       "      <td>1</td>\n",
       "      <td>1.0</td>\n",
       "      <td>-421.0</td>\n",
       "      <td>-413.0</td>\n",
       "      <td>100663296.0</td>\n",
       "      <td>3.0</td>\n",
       "    </tr>\n",
       "    <tr>\n",
       "      <th>6</th>\n",
       "      <td>26364865</td>\n",
       "      <td>83886082.0</td>\n",
       "      <td>1</td>\n",
       "      <td>1.0</td>\n",
       "      <td>-431.0</td>\n",
       "      <td>-511.0</td>\n",
       "      <td>100663296.0</td>\n",
       "      <td>1.0</td>\n",
       "    </tr>\n",
       "    <tr>\n",
       "      <th>7</th>\n",
       "      <td>26367433</td>\n",
       "      <td>83886082.0</td>\n",
       "      <td>1</td>\n",
       "      <td>1.0</td>\n",
       "      <td>-411.0</td>\n",
       "      <td>-413.0</td>\n",
       "      <td>100663296.0</td>\n",
       "      <td>3.0</td>\n",
       "    </tr>\n",
       "    <tr>\n",
       "      <th>8</th>\n",
       "      <td>26369939</td>\n",
       "      <td>83886081.0</td>\n",
       "      <td>1</td>\n",
       "      <td>1.0</td>\n",
       "      <td>411.0</td>\n",
       "      <td>-511.0</td>\n",
       "      <td>100663296.0</td>\n",
       "      <td>2.0</td>\n",
       "    </tr>\n",
       "    <tr>\n",
       "      <th>9</th>\n",
       "      <td>19881295</td>\n",
       "      <td>83886082.0</td>\n",
       "      <td>1</td>\n",
       "      <td>1.0</td>\n",
       "      <td>-4122.0</td>\n",
       "      <td>-4222.0</td>\n",
       "      <td>100663296.0</td>\n",
       "      <td>4.0</td>\n",
       "    </tr>\n",
       "  </tbody>\n",
       "</table>\n",
       "</div>"
      ],
      "text/plain": [
       "   __event__  Bsig_uniqParID  isBtoDstlnu  Hc_isSignalAcceptMissingGamma  \\\n",
       "0   22239789      83886081.0            1                            1.0   \n",
       "1   22242808      83886082.0            1                            1.0   \n",
       "2   22243407      83886081.0            1                            1.0   \n",
       "3   22246415      83886081.0            1                            1.0   \n",
       "4   14790197      83886082.0            1                            1.0   \n",
       "5   14794866      83886082.0            1                            1.0   \n",
       "6   26364865      83886082.0            1                            1.0   \n",
       "7   26367433      83886082.0            1                            1.0   \n",
       "8   26369939      83886081.0            1                            1.0   \n",
       "9   19881295      83886082.0            1                            1.0   \n",
       "\n",
       "   Hc_mcPDG  Hc_genMotherPDG  Hc_uniqParID  Hc_genMotherID  \n",
       "0     421.0            413.0   100663296.0             3.0  \n",
       "1     421.0            413.0   100663296.0             3.0  \n",
       "2    -411.0           -413.0   100663296.0             6.0  \n",
       "3    -421.0           -423.0   100663296.0            13.0  \n",
       "4    -411.0            511.0   100663296.0             1.0  \n",
       "5    -421.0           -413.0   100663296.0             3.0  \n",
       "6    -431.0           -511.0   100663296.0             1.0  \n",
       "7    -411.0           -413.0   100663296.0             3.0  \n",
       "8     411.0           -511.0   100663296.0             2.0  \n",
       "9   -4122.0          -4222.0   100663296.0             4.0  "
      ]
     },
     "execution_count": 47,
     "metadata": {},
     "output_type": "execute_result"
    }
   ],
   "source": [
    "df_Y4S[(df_Y4S['isBtoDstlnu'] == 1) & (df_Y4S['Hc_isSignalAcceptMissingGamma'] == 1.0)][[\"__event__\",'Bsig_uniqParID','isBtoDstlnu','Hc_isSignalAcceptMissingGamma','Hc_mcPDG','Hc_genMotherPDG','Hc_uniqParID','Hc_genMotherID']][:10]"
   ]
  },
  {
   "cell_type": "code",
   "execution_count": 26,
   "metadata": {
    "scrolled": true
   },
   "outputs": [
    {
     "data": {
      "text/plain": [
       "-413.0       11839\n",
       " 413.0       11706\n",
       "-511.0       10713\n",
       " 511.0       10670\n",
       "-423.0        1813\n",
       " 423.0        1794\n",
       " 433.0         859\n",
       "-433.0         843\n",
       " 10431.0       338\n",
       "-10431.0       330\n",
       "-415.0         210\n",
       " 415.0         196\n",
       "-10413.0       107\n",
       " 10413.0        84\n",
       " 30443.0        65\n",
       " 10411.0        61\n",
       "-4212.0         61\n",
       " 4222.0         60\n",
       " 4212.0         59\n",
       " 100443.0       56\n",
       "-10411.0        56\n",
       " 4112.0         49\n",
       "-4114.0         48\n",
       "-4222.0         48\n",
       " 20433.0        42\n",
       " 4114.0         42\n",
       "-20433.0        41\n",
       "-4112.0         37\n",
       " 4214.0         32\n",
       "-4214.0         30\n",
       " 20443.0        28\n",
       " 4224.0         25\n",
       "-4224.0         24\n",
       " 20413.0        14\n",
       "-20413.0        13\n",
       " 445.0           5\n",
       "Name: Hc_genMotherPDG, dtype: int64"
      ]
     },
     "execution_count": 26,
     "metadata": {},
     "output_type": "execute_result"
    }
   ],
   "source": [
    "df_Y4S[(df_Y4S['isBtoDstlnu'] == 1) & (df_Y4S['Hc_isSignalAcceptMissingGamma'] == 1.0)]['Hc_genMotherPDG'].value_counts()"
   ]
  },
  {
   "cell_type": "code",
   "execution_count": 50,
   "metadata": {},
   "outputs": [
    {
     "data": {
      "text/html": [
       "<div>\n",
       "<style scoped>\n",
       "    .dataframe tbody tr th:only-of-type {\n",
       "        vertical-align: middle;\n",
       "    }\n",
       "\n",
       "    .dataframe tbody tr th {\n",
       "        vertical-align: top;\n",
       "    }\n",
       "\n",
       "    .dataframe thead th {\n",
       "        text-align: right;\n",
       "    }\n",
       "</style>\n",
       "<table border=\"1\" class=\"dataframe\">\n",
       "  <thead>\n",
       "    <tr style=\"text-align: right;\">\n",
       "      <th></th>\n",
       "      <th>mcPDG</th>\n",
       "      <th>B_ID</th>\n",
       "      <th>basf2_used</th>\n",
       "      <th>basf2_Bsig</th>\n",
       "      <th>basf2_X</th>\n",
       "      <th>genMothPDG_0</th>\n",
       "      <th>mcMother0_uniqParID</th>\n",
       "      <th>genMotherID_0</th>\n",
       "      <th>genMothPDG_1</th>\n",
       "      <th>mcMother1_uniqParID</th>\n",
       "      <th>...</th>\n",
       "      <th>genMotherID_6</th>\n",
       "      <th>genMothPDG_7</th>\n",
       "      <th>mcMother7_uniqParID</th>\n",
       "      <th>genMotherID_7</th>\n",
       "      <th>genMothPDG_8</th>\n",
       "      <th>mcMother8_uniqParID</th>\n",
       "      <th>genMotherID_8</th>\n",
       "      <th>genMothPDG_9</th>\n",
       "      <th>mcMother9_uniqParID</th>\n",
       "      <th>genMotherID_9</th>\n",
       "    </tr>\n",
       "  </thead>\n",
       "  <tbody>\n",
       "    <tr>\n",
       "      <th>245465</th>\n",
       "      <td>22.0</td>\n",
       "      <td>83886082</td>\n",
       "      <td>1.0</td>\n",
       "      <td>0.0</td>\n",
       "      <td>1.0</td>\n",
       "      <td>111.0</td>\n",
       "      <td>83886096.0</td>\n",
       "      <td>16.0</td>\n",
       "      <td>213.0</td>\n",
       "      <td>83886087.0</td>\n",
       "      <td>...</td>\n",
       "      <td>0.0</td>\n",
       "      <td>0.0</td>\n",
       "      <td>NaN</td>\n",
       "      <td>0.0</td>\n",
       "      <td>0.0</td>\n",
       "      <td>NaN</td>\n",
       "      <td>0.0</td>\n",
       "      <td>0.0</td>\n",
       "      <td>NaN</td>\n",
       "      <td>0.0</td>\n",
       "    </tr>\n",
       "    <tr>\n",
       "      <th>90510</th>\n",
       "      <td>321.0</td>\n",
       "      <td>83886082</td>\n",
       "      <td>1.0</td>\n",
       "      <td>0.0</td>\n",
       "      <td>0.0</td>\n",
       "      <td>-421.0</td>\n",
       "      <td>83886102.0</td>\n",
       "      <td>22.0</td>\n",
       "      <td>-423.0</td>\n",
       "      <td>83886093.0</td>\n",
       "      <td>...</td>\n",
       "      <td>0.0</td>\n",
       "      <td>0.0</td>\n",
       "      <td>NaN</td>\n",
       "      <td>0.0</td>\n",
       "      <td>0.0</td>\n",
       "      <td>NaN</td>\n",
       "      <td>0.0</td>\n",
       "      <td>0.0</td>\n",
       "      <td>NaN</td>\n",
       "      <td>0.0</td>\n",
       "    </tr>\n",
       "    <tr>\n",
       "      <th>286686</th>\n",
       "      <td>22.0</td>\n",
       "      <td>83886082</td>\n",
       "      <td>0.0</td>\n",
       "      <td>0.0</td>\n",
       "      <td>0.0</td>\n",
       "      <td>211.0</td>\n",
       "      <td>83886095.0</td>\n",
       "      <td>15.0</td>\n",
       "      <td>213.0</td>\n",
       "      <td>83886087.0</td>\n",
       "      <td>...</td>\n",
       "      <td>0.0</td>\n",
       "      <td>0.0</td>\n",
       "      <td>NaN</td>\n",
       "      <td>0.0</td>\n",
       "      <td>0.0</td>\n",
       "      <td>NaN</td>\n",
       "      <td>0.0</td>\n",
       "      <td>0.0</td>\n",
       "      <td>NaN</td>\n",
       "      <td>0.0</td>\n",
       "    </tr>\n",
       "    <tr>\n",
       "      <th>245464</th>\n",
       "      <td>22.0</td>\n",
       "      <td>83886082</td>\n",
       "      <td>1.0</td>\n",
       "      <td>0.0</td>\n",
       "      <td>1.0</td>\n",
       "      <td>111.0</td>\n",
       "      <td>83886096.0</td>\n",
       "      <td>16.0</td>\n",
       "      <td>213.0</td>\n",
       "      <td>83886087.0</td>\n",
       "      <td>...</td>\n",
       "      <td>0.0</td>\n",
       "      <td>0.0</td>\n",
       "      <td>NaN</td>\n",
       "      <td>0.0</td>\n",
       "      <td>0.0</td>\n",
       "      <td>NaN</td>\n",
       "      <td>0.0</td>\n",
       "      <td>0.0</td>\n",
       "      <td>NaN</td>\n",
       "      <td>0.0</td>\n",
       "    </tr>\n",
       "    <tr>\n",
       "      <th>286687</th>\n",
       "      <td>22.0</td>\n",
       "      <td>83886082</td>\n",
       "      <td>0.0</td>\n",
       "      <td>0.0</td>\n",
       "      <td>0.0</td>\n",
       "      <td>111.0</td>\n",
       "      <td>83886103.0</td>\n",
       "      <td>23.0</td>\n",
       "      <td>-423.0</td>\n",
       "      <td>83886093.0</td>\n",
       "      <td>...</td>\n",
       "      <td>0.0</td>\n",
       "      <td>0.0</td>\n",
       "      <td>NaN</td>\n",
       "      <td>0.0</td>\n",
       "      <td>0.0</td>\n",
       "      <td>NaN</td>\n",
       "      <td>0.0</td>\n",
       "      <td>0.0</td>\n",
       "      <td>NaN</td>\n",
       "      <td>0.0</td>\n",
       "    </tr>\n",
       "    <tr>\n",
       "      <th>90509</th>\n",
       "      <td>211.0</td>\n",
       "      <td>83886082</td>\n",
       "      <td>1.0</td>\n",
       "      <td>0.0</td>\n",
       "      <td>1.0</td>\n",
       "      <td>213.0</td>\n",
       "      <td>83886087.0</td>\n",
       "      <td>7.0</td>\n",
       "      <td>511.0</td>\n",
       "      <td>83886082.0</td>\n",
       "      <td>...</td>\n",
       "      <td>0.0</td>\n",
       "      <td>0.0</td>\n",
       "      <td>NaN</td>\n",
       "      <td>0.0</td>\n",
       "      <td>0.0</td>\n",
       "      <td>NaN</td>\n",
       "      <td>0.0</td>\n",
       "      <td>0.0</td>\n",
       "      <td>NaN</td>\n",
       "      <td>0.0</td>\n",
       "    </tr>\n",
       "    <tr>\n",
       "      <th>1140</th>\n",
       "      <td>-211.0</td>\n",
       "      <td>83886082</td>\n",
       "      <td>1.0</td>\n",
       "      <td>0.0</td>\n",
       "      <td>0.0</td>\n",
       "      <td>-421.0</td>\n",
       "      <td>83886102.0</td>\n",
       "      <td>22.0</td>\n",
       "      <td>-423.0</td>\n",
       "      <td>83886093.0</td>\n",
       "      <td>...</td>\n",
       "      <td>0.0</td>\n",
       "      <td>0.0</td>\n",
       "      <td>NaN</td>\n",
       "      <td>0.0</td>\n",
       "      <td>0.0</td>\n",
       "      <td>NaN</td>\n",
       "      <td>0.0</td>\n",
       "      <td>0.0</td>\n",
       "      <td>NaN</td>\n",
       "      <td>0.0</td>\n",
       "    </tr>\n",
       "    <tr>\n",
       "      <th>1139</th>\n",
       "      <td>-211.0</td>\n",
       "      <td>83886082</td>\n",
       "      <td>1.0</td>\n",
       "      <td>0.0</td>\n",
       "      <td>1.0</td>\n",
       "      <td>-415.0</td>\n",
       "      <td>83886086.0</td>\n",
       "      <td>6.0</td>\n",
       "      <td>511.0</td>\n",
       "      <td>83886082.0</td>\n",
       "      <td>...</td>\n",
       "      <td>0.0</td>\n",
       "      <td>0.0</td>\n",
       "      <td>NaN</td>\n",
       "      <td>0.0</td>\n",
       "      <td>0.0</td>\n",
       "      <td>NaN</td>\n",
       "      <td>0.0</td>\n",
       "      <td>0.0</td>\n",
       "      <td>NaN</td>\n",
       "      <td>0.0</td>\n",
       "    </tr>\n",
       "    <tr>\n",
       "      <th>90511</th>\n",
       "      <td>-321.0</td>\n",
       "      <td>83886081</td>\n",
       "      <td>1.0</td>\n",
       "      <td>1.0</td>\n",
       "      <td>0.0</td>\n",
       "      <td>421.0</td>\n",
       "      <td>83886088.0</td>\n",
       "      <td>8.0</td>\n",
       "      <td>413.0</td>\n",
       "      <td>83886083.0</td>\n",
       "      <td>...</td>\n",
       "      <td>0.0</td>\n",
       "      <td>0.0</td>\n",
       "      <td>NaN</td>\n",
       "      <td>0.0</td>\n",
       "      <td>0.0</td>\n",
       "      <td>NaN</td>\n",
       "      <td>0.0</td>\n",
       "      <td>0.0</td>\n",
       "      <td>NaN</td>\n",
       "      <td>0.0</td>\n",
       "    </tr>\n",
       "    <tr>\n",
       "      <th>112314</th>\n",
       "      <td>13.0</td>\n",
       "      <td>83886081</td>\n",
       "      <td>1.0</td>\n",
       "      <td>1.0</td>\n",
       "      <td>0.0</td>\n",
       "      <td>-511.0</td>\n",
       "      <td>83886081.0</td>\n",
       "      <td>1.0</td>\n",
       "      <td>300553.0</td>\n",
       "      <td>83886080.0</td>\n",
       "      <td>...</td>\n",
       "      <td>0.0</td>\n",
       "      <td>0.0</td>\n",
       "      <td>NaN</td>\n",
       "      <td>0.0</td>\n",
       "      <td>0.0</td>\n",
       "      <td>NaN</td>\n",
       "      <td>0.0</td>\n",
       "      <td>0.0</td>\n",
       "      <td>NaN</td>\n",
       "      <td>0.0</td>\n",
       "    </tr>\n",
       "    <tr>\n",
       "      <th>1138</th>\n",
       "      <td>211.0</td>\n",
       "      <td>83886081</td>\n",
       "      <td>1.0</td>\n",
       "      <td>1.0</td>\n",
       "      <td>0.0</td>\n",
       "      <td>421.0</td>\n",
       "      <td>83886088.0</td>\n",
       "      <td>8.0</td>\n",
       "      <td>413.0</td>\n",
       "      <td>83886083.0</td>\n",
       "      <td>...</td>\n",
       "      <td>0.0</td>\n",
       "      <td>0.0</td>\n",
       "      <td>NaN</td>\n",
       "      <td>0.0</td>\n",
       "      <td>0.0</td>\n",
       "      <td>NaN</td>\n",
       "      <td>0.0</td>\n",
       "      <td>0.0</td>\n",
       "      <td>NaN</td>\n",
       "      <td>0.0</td>\n",
       "    </tr>\n",
       "    <tr>\n",
       "      <th>1137</th>\n",
       "      <td>211.0</td>\n",
       "      <td>83886081</td>\n",
       "      <td>1.0</td>\n",
       "      <td>1.0</td>\n",
       "      <td>0.0</td>\n",
       "      <td>413.0</td>\n",
       "      <td>83886083.0</td>\n",
       "      <td>3.0</td>\n",
       "      <td>-511.0</td>\n",
       "      <td>83886081.0</td>\n",
       "      <td>...</td>\n",
       "      <td>0.0</td>\n",
       "      <td>0.0</td>\n",
       "      <td>NaN</td>\n",
       "      <td>0.0</td>\n",
       "      <td>0.0</td>\n",
       "      <td>NaN</td>\n",
       "      <td>0.0</td>\n",
       "      <td>0.0</td>\n",
       "      <td>NaN</td>\n",
       "      <td>0.0</td>\n",
       "    </tr>\n",
       "    <tr>\n",
       "      <th>245463</th>\n",
       "      <td>NaN</td>\n",
       "      <td>0</td>\n",
       "      <td>1.0</td>\n",
       "      <td>0.0</td>\n",
       "      <td>1.0</td>\n",
       "      <td>0.0</td>\n",
       "      <td>NaN</td>\n",
       "      <td>0.0</td>\n",
       "      <td>0.0</td>\n",
       "      <td>NaN</td>\n",
       "      <td>...</td>\n",
       "      <td>0.0</td>\n",
       "      <td>0.0</td>\n",
       "      <td>NaN</td>\n",
       "      <td>0.0</td>\n",
       "      <td>0.0</td>\n",
       "      <td>NaN</td>\n",
       "      <td>0.0</td>\n",
       "      <td>0.0</td>\n",
       "      <td>NaN</td>\n",
       "      <td>0.0</td>\n",
       "    </tr>\n",
       "    <tr>\n",
       "      <th>286679</th>\n",
       "      <td>NaN</td>\n",
       "      <td>0</td>\n",
       "      <td>0.0</td>\n",
       "      <td>0.0</td>\n",
       "      <td>0.0</td>\n",
       "      <td>0.0</td>\n",
       "      <td>NaN</td>\n",
       "      <td>0.0</td>\n",
       "      <td>0.0</td>\n",
       "      <td>NaN</td>\n",
       "      <td>...</td>\n",
       "      <td>0.0</td>\n",
       "      <td>0.0</td>\n",
       "      <td>NaN</td>\n",
       "      <td>0.0</td>\n",
       "      <td>0.0</td>\n",
       "      <td>NaN</td>\n",
       "      <td>0.0</td>\n",
       "      <td>0.0</td>\n",
       "      <td>NaN</td>\n",
       "      <td>0.0</td>\n",
       "    </tr>\n",
       "    <tr>\n",
       "      <th>286680</th>\n",
       "      <td>NaN</td>\n",
       "      <td>0</td>\n",
       "      <td>0.0</td>\n",
       "      <td>0.0</td>\n",
       "      <td>0.0</td>\n",
       "      <td>0.0</td>\n",
       "      <td>NaN</td>\n",
       "      <td>0.0</td>\n",
       "      <td>0.0</td>\n",
       "      <td>NaN</td>\n",
       "      <td>...</td>\n",
       "      <td>0.0</td>\n",
       "      <td>0.0</td>\n",
       "      <td>NaN</td>\n",
       "      <td>0.0</td>\n",
       "      <td>0.0</td>\n",
       "      <td>NaN</td>\n",
       "      <td>0.0</td>\n",
       "      <td>0.0</td>\n",
       "      <td>NaN</td>\n",
       "      <td>0.0</td>\n",
       "    </tr>\n",
       "    <tr>\n",
       "      <th>286681</th>\n",
       "      <td>NaN</td>\n",
       "      <td>0</td>\n",
       "      <td>0.0</td>\n",
       "      <td>0.0</td>\n",
       "      <td>0.0</td>\n",
       "      <td>0.0</td>\n",
       "      <td>NaN</td>\n",
       "      <td>0.0</td>\n",
       "      <td>0.0</td>\n",
       "      <td>NaN</td>\n",
       "      <td>...</td>\n",
       "      <td>0.0</td>\n",
       "      <td>0.0</td>\n",
       "      <td>NaN</td>\n",
       "      <td>0.0</td>\n",
       "      <td>0.0</td>\n",
       "      <td>NaN</td>\n",
       "      <td>0.0</td>\n",
       "      <td>0.0</td>\n",
       "      <td>NaN</td>\n",
       "      <td>0.0</td>\n",
       "    </tr>\n",
       "    <tr>\n",
       "      <th>286682</th>\n",
       "      <td>NaN</td>\n",
       "      <td>0</td>\n",
       "      <td>0.0</td>\n",
       "      <td>0.0</td>\n",
       "      <td>0.0</td>\n",
       "      <td>0.0</td>\n",
       "      <td>NaN</td>\n",
       "      <td>0.0</td>\n",
       "      <td>0.0</td>\n",
       "      <td>NaN</td>\n",
       "      <td>...</td>\n",
       "      <td>0.0</td>\n",
       "      <td>0.0</td>\n",
       "      <td>NaN</td>\n",
       "      <td>0.0</td>\n",
       "      <td>0.0</td>\n",
       "      <td>NaN</td>\n",
       "      <td>0.0</td>\n",
       "      <td>0.0</td>\n",
       "      <td>NaN</td>\n",
       "      <td>0.0</td>\n",
       "    </tr>\n",
       "    <tr>\n",
       "      <th>286683</th>\n",
       "      <td>NaN</td>\n",
       "      <td>0</td>\n",
       "      <td>0.0</td>\n",
       "      <td>0.0</td>\n",
       "      <td>0.0</td>\n",
       "      <td>0.0</td>\n",
       "      <td>NaN</td>\n",
       "      <td>0.0</td>\n",
       "      <td>0.0</td>\n",
       "      <td>NaN</td>\n",
       "      <td>...</td>\n",
       "      <td>0.0</td>\n",
       "      <td>0.0</td>\n",
       "      <td>NaN</td>\n",
       "      <td>0.0</td>\n",
       "      <td>0.0</td>\n",
       "      <td>NaN</td>\n",
       "      <td>0.0</td>\n",
       "      <td>0.0</td>\n",
       "      <td>NaN</td>\n",
       "      <td>0.0</td>\n",
       "    </tr>\n",
       "    <tr>\n",
       "      <th>286684</th>\n",
       "      <td>NaN</td>\n",
       "      <td>0</td>\n",
       "      <td>0.0</td>\n",
       "      <td>0.0</td>\n",
       "      <td>0.0</td>\n",
       "      <td>0.0</td>\n",
       "      <td>NaN</td>\n",
       "      <td>0.0</td>\n",
       "      <td>0.0</td>\n",
       "      <td>NaN</td>\n",
       "      <td>...</td>\n",
       "      <td>0.0</td>\n",
       "      <td>0.0</td>\n",
       "      <td>NaN</td>\n",
       "      <td>0.0</td>\n",
       "      <td>0.0</td>\n",
       "      <td>NaN</td>\n",
       "      <td>0.0</td>\n",
       "      <td>0.0</td>\n",
       "      <td>NaN</td>\n",
       "      <td>0.0</td>\n",
       "    </tr>\n",
       "    <tr>\n",
       "      <th>286685</th>\n",
       "      <td>NaN</td>\n",
       "      <td>0</td>\n",
       "      <td>0.0</td>\n",
       "      <td>0.0</td>\n",
       "      <td>0.0</td>\n",
       "      <td>0.0</td>\n",
       "      <td>NaN</td>\n",
       "      <td>0.0</td>\n",
       "      <td>0.0</td>\n",
       "      <td>NaN</td>\n",
       "      <td>...</td>\n",
       "      <td>0.0</td>\n",
       "      <td>0.0</td>\n",
       "      <td>NaN</td>\n",
       "      <td>0.0</td>\n",
       "      <td>0.0</td>\n",
       "      <td>NaN</td>\n",
       "      <td>0.0</td>\n",
       "      <td>0.0</td>\n",
       "      <td>NaN</td>\n",
       "      <td>0.0</td>\n",
       "    </tr>\n",
       "  </tbody>\n",
       "</table>\n",
       "<p>20 rows × 35 columns</p>\n",
       "</div>"
      ],
      "text/plain": [
       "        mcPDG      B_ID  basf2_used  basf2_Bsig  basf2_X  genMothPDG_0  \\\n",
       "245465   22.0  83886082         1.0         0.0      1.0         111.0   \n",
       "90510   321.0  83886082         1.0         0.0      0.0        -421.0   \n",
       "286686   22.0  83886082         0.0         0.0      0.0         211.0   \n",
       "245464   22.0  83886082         1.0         0.0      1.0         111.0   \n",
       "286687   22.0  83886082         0.0         0.0      0.0         111.0   \n",
       "90509   211.0  83886082         1.0         0.0      1.0         213.0   \n",
       "1140   -211.0  83886082         1.0         0.0      0.0        -421.0   \n",
       "1139   -211.0  83886082         1.0         0.0      1.0        -415.0   \n",
       "90511  -321.0  83886081         1.0         1.0      0.0         421.0   \n",
       "112314   13.0  83886081         1.0         1.0      0.0        -511.0   \n",
       "1138    211.0  83886081         1.0         1.0      0.0         421.0   \n",
       "1137    211.0  83886081         1.0         1.0      0.0         413.0   \n",
       "245463    NaN         0         1.0         0.0      1.0           0.0   \n",
       "286679    NaN         0         0.0         0.0      0.0           0.0   \n",
       "286680    NaN         0         0.0         0.0      0.0           0.0   \n",
       "286681    NaN         0         0.0         0.0      0.0           0.0   \n",
       "286682    NaN         0         0.0         0.0      0.0           0.0   \n",
       "286683    NaN         0         0.0         0.0      0.0           0.0   \n",
       "286684    NaN         0         0.0         0.0      0.0           0.0   \n",
       "286685    NaN         0         0.0         0.0      0.0           0.0   \n",
       "\n",
       "        mcMother0_uniqParID  genMotherID_0  genMothPDG_1  mcMother1_uniqParID  \\\n",
       "245465           83886096.0           16.0         213.0           83886087.0   \n",
       "90510            83886102.0           22.0        -423.0           83886093.0   \n",
       "286686           83886095.0           15.0         213.0           83886087.0   \n",
       "245464           83886096.0           16.0         213.0           83886087.0   \n",
       "286687           83886103.0           23.0        -423.0           83886093.0   \n",
       "90509            83886087.0            7.0         511.0           83886082.0   \n",
       "1140             83886102.0           22.0        -423.0           83886093.0   \n",
       "1139             83886086.0            6.0         511.0           83886082.0   \n",
       "90511            83886088.0            8.0         413.0           83886083.0   \n",
       "112314           83886081.0            1.0      300553.0           83886080.0   \n",
       "1138             83886088.0            8.0         413.0           83886083.0   \n",
       "1137             83886083.0            3.0        -511.0           83886081.0   \n",
       "245463                  NaN            0.0           0.0                  NaN   \n",
       "286679                  NaN            0.0           0.0                  NaN   \n",
       "286680                  NaN            0.0           0.0                  NaN   \n",
       "286681                  NaN            0.0           0.0                  NaN   \n",
       "286682                  NaN            0.0           0.0                  NaN   \n",
       "286683                  NaN            0.0           0.0                  NaN   \n",
       "286684                  NaN            0.0           0.0                  NaN   \n",
       "286685                  NaN            0.0           0.0                  NaN   \n",
       "\n",
       "        ...  genMotherID_6  genMothPDG_7  mcMother7_uniqParID  genMotherID_7  \\\n",
       "245465  ...            0.0           0.0                  NaN            0.0   \n",
       "90510   ...            0.0           0.0                  NaN            0.0   \n",
       "286686  ...            0.0           0.0                  NaN            0.0   \n",
       "245464  ...            0.0           0.0                  NaN            0.0   \n",
       "286687  ...            0.0           0.0                  NaN            0.0   \n",
       "90509   ...            0.0           0.0                  NaN            0.0   \n",
       "1140    ...            0.0           0.0                  NaN            0.0   \n",
       "1139    ...            0.0           0.0                  NaN            0.0   \n",
       "90511   ...            0.0           0.0                  NaN            0.0   \n",
       "112314  ...            0.0           0.0                  NaN            0.0   \n",
       "1138    ...            0.0           0.0                  NaN            0.0   \n",
       "1137    ...            0.0           0.0                  NaN            0.0   \n",
       "245463  ...            0.0           0.0                  NaN            0.0   \n",
       "286679  ...            0.0           0.0                  NaN            0.0   \n",
       "286680  ...            0.0           0.0                  NaN            0.0   \n",
       "286681  ...            0.0           0.0                  NaN            0.0   \n",
       "286682  ...            0.0           0.0                  NaN            0.0   \n",
       "286683  ...            0.0           0.0                  NaN            0.0   \n",
       "286684  ...            0.0           0.0                  NaN            0.0   \n",
       "286685  ...            0.0           0.0                  NaN            0.0   \n",
       "\n",
       "        genMothPDG_8  mcMother8_uniqParID  genMotherID_8  genMothPDG_9  \\\n",
       "245465           0.0                  NaN            0.0           0.0   \n",
       "90510            0.0                  NaN            0.0           0.0   \n",
       "286686           0.0                  NaN            0.0           0.0   \n",
       "245464           0.0                  NaN            0.0           0.0   \n",
       "286687           0.0                  NaN            0.0           0.0   \n",
       "90509            0.0                  NaN            0.0           0.0   \n",
       "1140             0.0                  NaN            0.0           0.0   \n",
       "1139             0.0                  NaN            0.0           0.0   \n",
       "90511            0.0                  NaN            0.0           0.0   \n",
       "112314           0.0                  NaN            0.0           0.0   \n",
       "1138             0.0                  NaN            0.0           0.0   \n",
       "1137             0.0                  NaN            0.0           0.0   \n",
       "245463           0.0                  NaN            0.0           0.0   \n",
       "286679           0.0                  NaN            0.0           0.0   \n",
       "286680           0.0                  NaN            0.0           0.0   \n",
       "286681           0.0                  NaN            0.0           0.0   \n",
       "286682           0.0                  NaN            0.0           0.0   \n",
       "286683           0.0                  NaN            0.0           0.0   \n",
       "286684           0.0                  NaN            0.0           0.0   \n",
       "286685           0.0                  NaN            0.0           0.0   \n",
       "\n",
       "        mcMother9_uniqParID  genMotherID_9  \n",
       "245465                  NaN            0.0  \n",
       "90510                   NaN            0.0  \n",
       "286686                  NaN            0.0  \n",
       "245464                  NaN            0.0  \n",
       "286687                  NaN            0.0  \n",
       "90509                   NaN            0.0  \n",
       "1140                    NaN            0.0  \n",
       "1139                    NaN            0.0  \n",
       "90511                   NaN            0.0  \n",
       "112314                  NaN            0.0  \n",
       "1138                    NaN            0.0  \n",
       "1137                    NaN            0.0  \n",
       "245463                  NaN            0.0  \n",
       "286679                  NaN            0.0  \n",
       "286680                  NaN            0.0  \n",
       "286681                  NaN            0.0  \n",
       "286682                  NaN            0.0  \n",
       "286683                  NaN            0.0  \n",
       "286684                  NaN            0.0  \n",
       "286685                  NaN            0.0  \n",
       "\n",
       "[20 rows x 35 columns]"
      ]
     },
     "execution_count": 50,
     "metadata": {},
     "output_type": "execute_result"
    }
   ],
   "source": [
    "df_FSPs[df_FSPs[\"__event__\"] == 22246415].sort_values('B_ID',ascending=False)[['mcPDG',\n",
    "'B_ID',\"basf2_used\",\"basf2_Bsig\",\"basf2_X\",'genMothPDG_0', 'mcMother0_uniqParID', 'genMotherID_0',\n",
    "'genMothPDG_1', 'mcMother1_uniqParID', 'genMotherID_1',\n",
    "'genMothPDG_2', 'mcMother2_uniqParID', 'genMotherID_2',\n",
    "'genMothPDG_3', 'mcMother3_uniqParID', 'genMotherID_3',\n",
    "'genMothPDG_4', 'mcMother4_uniqParID', 'genMotherID_4',\n",
    "'genMothPDG_5', 'mcMother5_uniqParID', 'genMotherID_5',\n",
    "'genMothPDG_6', 'mcMother6_uniqParID', 'genMotherID_6',\n",
    "'genMothPDG_7', 'mcMother7_uniqParID', 'genMotherID_7',\n",
    "'genMothPDG_8', 'mcMother8_uniqParID', 'genMotherID_8',\n",
    "'genMothPDG_9', 'mcMother9_uniqParID', 'genMotherID_9']]"
   ]
  },
  {
   "cell_type": "markdown",
   "metadata": {},
   "source": [
    "## check if category combinations make sense"
   ]
  },
  {
   "cell_type": "code",
   "execution_count": 42,
   "metadata": {},
   "outputs": [
    {
     "data": {
      "text/html": [
       "<div>\n",
       "<style scoped>\n",
       "    .dataframe tbody tr th:only-of-type {\n",
       "        vertical-align: middle;\n",
       "    }\n",
       "\n",
       "    .dataframe tbody tr th {\n",
       "        vertical-align: top;\n",
       "    }\n",
       "\n",
       "    .dataframe thead th {\n",
       "        text-align: right;\n",
       "    }\n",
       "</style>\n",
       "<table border=\"1\" class=\"dataframe\">\n",
       "  <thead>\n",
       "    <tr style=\"text-align: right;\">\n",
       "      <th></th>\n",
       "      <th>basf2_used</th>\n",
       "      <th>basf2_Bsig</th>\n",
       "      <th>basf2_X</th>\n",
       "      <th>count</th>\n",
       "    </tr>\n",
       "  </thead>\n",
       "  <tbody>\n",
       "    <tr>\n",
       "      <th>0</th>\n",
       "      <td>0.0</td>\n",
       "      <td>0.0</td>\n",
       "      <td>0.0</td>\n",
       "      <td>154089</td>\n",
       "    </tr>\n",
       "    <tr>\n",
       "      <th>1</th>\n",
       "      <td>0.0</td>\n",
       "      <td>1.0</td>\n",
       "      <td>0.0</td>\n",
       "      <td>54</td>\n",
       "    </tr>\n",
       "    <tr>\n",
       "      <th>2</th>\n",
       "      <td>1.0</td>\n",
       "      <td>0.0</td>\n",
       "      <td>0.0</td>\n",
       "      <td>48518</td>\n",
       "    </tr>\n",
       "    <tr>\n",
       "      <th>3</th>\n",
       "      <td>1.0</td>\n",
       "      <td>0.0</td>\n",
       "      <td>1.0</td>\n",
       "      <td>123958</td>\n",
       "    </tr>\n",
       "    <tr>\n",
       "      <th>4</th>\n",
       "      <td>1.0</td>\n",
       "      <td>1.0</td>\n",
       "      <td>0.0</td>\n",
       "      <td>90302</td>\n",
       "    </tr>\n",
       "  </tbody>\n",
       "</table>\n",
       "</div>"
      ],
      "text/plain": [
       "   basf2_used  basf2_Bsig  basf2_X   count\n",
       "0         0.0         0.0      0.0  154089\n",
       "1         0.0         1.0      0.0      54\n",
       "2         1.0         0.0      0.0   48518\n",
       "3         1.0         0.0      1.0  123958\n",
       "4         1.0         1.0      0.0   90302"
      ]
     },
     "execution_count": 42,
     "metadata": {},
     "output_type": "execute_result"
    }
   ],
   "source": [
    "groupsAllFSPs = pd.DataFrame({'count' : df_FSPs.groupby( [\"basf2_used\",\"basf2_Bsig\",\"basf2_X\"] ).size()}).reset_index()\n",
    "groupsAllFSPs"
   ]
  },
  {
   "cell_type": "markdown",
   "metadata": {},
   "source": [
    "## delete the H_c FSPs (basf2_used==1 & basf2_Bsig==0 & basf2_X==0)"
   ]
  },
  {
   "cell_type": "code",
   "execution_count": 24,
   "metadata": {},
   "outputs": [],
   "source": [
    "df_FSPs = df_FSPs[~((df_FSPs[\"basf2_used\"]== 1) & (df_FSPs[\"basf2_Bsig\"]== 0) & (df_FSPs[\"basf2_X\"]== 0))]"
   ]
  },
  {
   "cell_type": "code",
   "execution_count": null,
   "metadata": {},
   "outputs": [],
   "source": [
    "groupsAllFSPs = pd.DataFrame({'count' : df_FSPs.groupby( [\"basf2_used\",\"basf2_Bsig\",\"basf2_X\"] ).size()}).reset_index()\n",
    "groupsAllFSPs"
   ]
  },
  {
   "cell_type": "markdown",
   "metadata": {},
   "source": [
    "## data Saving"
   ]
  },
  {
   "cell_type": "markdown",
   "metadata": {},
   "source": [
    "### save dataframes on NFS"
   ]
  },
  {
   "cell_type": "code",
   "execution_count": 25,
   "metadata": {},
   "outputs": [],
   "source": [
    "if HTCondorRun == \"isHTCondorRun\" or save_preprocessedDataframe == True:\n",
    "    df_FSPs.to_csv(root_path + \"df_FSPs_preProcessed_SHR.csv\")\n",
    "    df_Y4S.to_csv(root_path + \"df_Y4S_preProcessed_SHR.csv\")"
   ]
  },
  {
   "cell_type": "markdown",
   "metadata": {},
   "source": [
    "### load dataframes from different subs and concat them"
   ]
  },
  {
   "cell_type": "code",
   "execution_count": 54,
   "metadata": {},
   "outputs": [],
   "source": [
    "df_FSPs_final = df_FSPs\n",
    "df_Y4S_final = df_Y4S"
   ]
  },
  {
   "cell_type": "code",
   "execution_count": 55,
   "metadata": {},
   "outputs": [
    {
     "name": "stdout",
     "output_type": "stream",
     "text": [
      "368403\n",
      "14945\n"
     ]
    }
   ],
   "source": [
    "print(df_FSPs_final.shape[0])\n",
    "print(df_Y4S_final.shape[0])"
   ]
  },
  {
   "cell_type": "code",
   "execution_count": 9,
   "metadata": {},
   "outputs": [],
   "source": [
    "df_FSPs_list=[]\n",
    "df_Y4S_list=[]\n",
    "for sub in [\"sub00\",\"sub01\",\"sub02\"]:\n",
    "    root_path = nfs_path + \"SHR_Hc_correctReco_BsX/\" + root_subdir + sub + \"/\"    \n",
    "    df_FSPs = pd.read_csv(root_path + \"df_FSPs_preProcessed_SHR.csv\")\n",
    "    df_FSPs_list.append(df_FSPs)\n",
    "    df_Y4S = pd.read_csv(root_path + \"df_Y4S_preProcessed_SHR.csv\")\n",
    "    df_Y4S_list.append(df_Y4S)\n",
    "    \n",
    "df_FSPs_final = pd.concat(df_FSPs_list)\n",
    "df_Y4S_final = pd.concat(df_Y4S_list)"
   ]
  },
  {
   "cell_type": "code",
   "execution_count": 10,
   "metadata": {},
   "outputs": [
    {
     "data": {
      "text/plain": [
       "132200"
      ]
     },
     "execution_count": 10,
     "metadata": {},
     "output_type": "execute_result"
    }
   ],
   "source": [
    "df_Y4S_final.shape[0]"
   ]
  },
  {
   "cell_type": "markdown",
   "metadata": {},
   "source": [
    "## keep only the ones where Hc genMotherPDG is 511"
   ]
  },
  {
   "cell_type": "code",
   "execution_count": 11,
   "metadata": {},
   "outputs": [
    {
     "data": {
      "text/plain": [
       "-413.0       29874\n",
       " 413.0       29659\n",
       "-511.0       26839\n",
       " 511.0       26655\n",
       "-423.0        4565\n",
       " 423.0        4563\n",
       "-433.0        2197\n",
       " 433.0        2168\n",
       "-10431.0       894\n",
       " 10431.0       859\n",
       "-415.0         562\n",
       " 415.0         538\n",
       "-10413.0       275\n",
       " 10413.0       242\n",
       " 30443.0       172\n",
       " 100443.0      166\n",
       "-10411.0       159\n",
       " 4212.0        157\n",
       " 10411.0       149\n",
       " 4222.0        141\n",
       "-4212.0        139\n",
       " 4112.0        125\n",
       "-4114.0        120\n",
       "-4222.0        119\n",
       " 4114.0        114\n",
       "-4112.0        108\n",
       " 20433.0       100\n",
       "-20433.0        98\n",
       " 4214.0         91\n",
       "-4214.0         81\n",
       " 20443.0        78\n",
       "-4224.0         57\n",
       " 4224.0         55\n",
       "-20413.0        37\n",
       " 20413.0        33\n",
       " 445.0           8\n",
       "-10433.0         2\n",
       " 10441.0         1\n",
       "Name: Hc_genMotherPDG, dtype: int64"
      ]
     },
     "execution_count": 11,
     "metadata": {},
     "output_type": "execute_result"
    }
   ],
   "source": [
    "df_Y4S_final[(df_Y4S_final['isBtoDstlnu'] == 1) & (df_Y4S_final['Hc_isSignalAcceptMissingGamma'] == 1.0)]['Hc_genMotherPDG'].value_counts()"
   ]
  },
  {
   "cell_type": "code",
   "execution_count": 12,
   "metadata": {},
   "outputs": [],
   "source": [
    "df_Y4S_final = df_Y4S_final[(df_Y4S_final['Hc_genMotherPDG'] == 511.0) | (df_Y4S_final['Hc_genMotherPDG'] == -511.0)]\n",
    "\n",
    "df_FSPs_final = df_FSPs_final[df_FSPs_final['__event__'].isin(df_Y4S_final[\"__event__\"])]"
   ]
  },
  {
   "cell_type": "code",
   "execution_count": 13,
   "metadata": {},
   "outputs": [
    {
     "name": "stdout",
     "output_type": "stream",
     "text": [
      "1419934\n",
      "53494\n"
     ]
    }
   ],
   "source": [
    "print(df_FSPs_final.shape[0])\n",
    "print(df_Y4S_final.shape[0])"
   ]
  },
  {
   "cell_type": "markdown",
   "metadata": {},
   "source": [
    "## cut on momenta for neutrals, p>100MeV"
   ]
  },
  {
   "cell_type": "code",
   "execution_count": 26,
   "metadata": {},
   "outputs": [],
   "source": [
    "df_FSPs_final = df_FSPs_final[~((df_FSPs_final[\"p\"]<0.100) & (df_FSPs_final[\"PDG\"]==22.))]"
   ]
  },
  {
   "cell_type": "code",
   "execution_count": 27,
   "metadata": {},
   "outputs": [
    {
     "name": "stdout",
     "output_type": "stream",
     "text": [
      "812693\n",
      "53494\n"
     ]
    }
   ],
   "source": [
    "print(df_FSPs_final.shape[0])\n",
    "print(df_Y4S_final.shape[0])"
   ]
  },
  {
   "cell_type": "markdown",
   "metadata": {},
   "source": [
    "## save the concated df as it will be used for data prod"
   ]
  },
  {
   "cell_type": "code",
   "execution_count": null,
   "metadata": {},
   "outputs": [],
   "source": [
    "root_path_finalDF = \"/nfs/dust/belle2/user/axelheim/MC_studies/Dstlnu_Bt_generic/SHR_Hc_correctReco_BsX/SHR_dataSteering_run1/\"\n",
    "\n",
    "df_FSPs_final.to_csv(root_path_finalDF + \"final_df_FSPs_preProcessed_SHR_gamma100cut.csv\")\n",
    "df_Y4S_final.to_csv(root_path_finalDF + \"final_df_Y4S_preProcessed_SHR.csv\")"
   ]
  },
  {
   "cell_type": "markdown",
   "metadata": {},
   "source": [
    "# start of NN data creation"
   ]
  },
  {
   "cell_type": "code",
   "execution_count": 23,
   "metadata": {},
   "outputs": [
    {
     "name": "stdout",
     "output_type": "stream",
     "text": [
      "minFSPs: 7\n",
      "maxFSPs: 83 \n",
      "\n",
      "num Events: 53473 \n",
      "\n"
     ]
    }
   ],
   "source": [
    "numFSPs = pd.DataFrame({'count' : df_FSPs_final.groupby( [\"__event__\"] ).size()}).reset_index()\n",
    "\n",
    "minFSPs = numFSPs[\"count\"].min()\n",
    "maxFSPs = numFSPs[\"count\"].max()\n",
    "print(\"minFSPs:\",minFSPs)\n",
    "print(\"maxFSPs:\",maxFSPs,'\\n')\n",
    "print(\"num Events:\",numFSPs.shape[0],'\\n')\n",
    "\n",
    "df_FSPs_final['numFSPs'] = df_FSPs_final.groupby('__event__')['__event__'].transform('count')"
   ]
  },
  {
   "cell_type": "code",
   "execution_count": 24,
   "metadata": {},
   "outputs": [
    {
     "name": "stdout",
     "output_type": "stream",
     "text": [
      "Will save data to: /nfs/dust/belle2/user/axelheim/MC_studies/Dstlnu_Bt_generic/data/Dstlnu_SHR_BsX_p100cut/SHR_dataSteering_run1 is True \n",
      "\n"
     ]
    }
   ],
   "source": [
    "data_dir = Path(nfs_path + \"data/\" + data_subdir + root_subdir)    \n",
    "if save_data:\n",
    "    data_dir.mkdir(parents=True, exist_ok=True)\n",
    "print(\"Will save data to:\", data_dir,'is', save_data ,'\\n')"
   ]
  },
  {
   "cell_type": "code",
   "execution_count": null,
   "metadata": {
    "scrolled": true
   },
   "outputs": [],
   "source": [
    "#minFSPs = 5\n",
    "for num_FSPs_toData in range(minFSPs, maxFSPs+1):\n",
    "    df_num_subset = df_FSPs_final.copy()\n",
    "    df_num_subset = df_num_subset[df_num_subset['numFSPs'] == num_FSPs_toData]\n",
    "    \n",
    "        \n",
    "    numEvents = df_num_subset.__event__.nunique()\n",
    "    print(\"numEvents:\",numEvents)\n",
    "    print(\"num_FSPs_toData:\",num_FSPs_toData)  \n",
    "    if numEvents == 0:\n",
    "        print(\"skipped because empty \\n\")\n",
    "        continue\n",
    "\n",
    "    if numEvents < 10:\n",
    "        print(\"skipped because <10 events \\n\")\n",
    "        continue\n",
    "    \n",
    "    num_features = 4\n",
    "    leaves = np.zeros((numEvents, num_FSPs_toData,  num_features))  \n",
    "    SA_target =  np.zeros((numEvents, num_FSPs_toData))\n",
    "    global_tag = np.chararray((numEvents, num_FSPs_toData + 1), itemsize=30)\n",
    "    \n",
    "    event_list = df_num_subset[df_num_subset[\"numFSPs\"] == num_FSPs_toData][\"__event__\"].unique()\n",
    "    #print(\"len(event_list):\",len(event_list))\n",
    "    for i in range(numEvents):\n",
    "\n",
    "        event_iter = event_list[i]\n",
    "\n",
    "        global_tag_masterInfo = \"evt\" + str(event_iter)\n",
    "        global_tag[i,-1] = global_tag_masterInfo\n",
    "        #print(\"global_tag[i,-1]:\",global_tag[i,-1])\n",
    "        #print(\"i:\",i,\"event_iter:\",event_iter)\n",
    "\n",
    "        event_df = df_num_subset[df_num_subset.__event__ == event_iter]\n",
    "\n",
    "        for j in range(num_FSPs_toData):\n",
    "            #print(\"numParticle:\",j)\n",
    "            particle = event_df.iloc[j]\n",
    "\n",
    "            #print(particle[\"mcPDG\"],particle[\"px\"],particle[\"py\"],particle[\"pz\"],particle[\"E\"])\n",
    "            leaves[i,j,0] = particle[\"px\"]\n",
    "            leaves[i,j,1] = particle[\"py\"]\n",
    "            leaves[i,j,2] = particle[\"pz\"]\n",
    "            leaves[i,j,3] = particle[\"E\"]\n",
    "            \n",
    "            basf2_usage = \"basf2_NONE\"\n",
    "            if particle[\"basf2_Bsig\"] == 1.0:\n",
    "                basf2_usage = \"basf2_Bsig\"\n",
    "            elif particle[\"basf2_X\"] == 1.0:\n",
    "                basf2_usage = \"basf2_X\"\n",
    "            elif particle[\"basf2_used\"] == 0:\n",
    "                basf2_usage = \"basf2_bg\"\n",
    "\n",
    "            global_tag_Info = str((particle[\"mcPDG\"])) \n",
    "            global_tag_Info += \"_\" + basf2_usage\n",
    "            global_tag[i,j] = global_tag_Info\n",
    "\n",
    "            label = -10 # error code if assignment fails\n",
    "            B_tag_uniqID = -10 # error code if assignment fails     \n",
    "            \n",
    "            B_sig_uniqID = df_Y4S_final[df_Y4S_final[\"__event__\"] == event_iter].iloc[0]['Bsig_uniqParID']\n",
    "            if B_sig_uniqID == 83886082.0:\n",
    "                B_tag_uniqID = 83886081.0\n",
    "            elif B_sig_uniqID == 83886081.0:\n",
    "                B_tag_uniqID = 83886082.0\n",
    "            \n",
    "            if particle[\"B_ID\"] == B_tag_uniqID:\n",
    "                label = 1 # particle belongs to X (MC truth)\n",
    "            elif particle[\"B_ID\"] == B_sig_uniqID:\n",
    "                label = 2 # particle belongs to Bsig (MC truth)\n",
    "            elif particle[\"B_ID\"] == 0:\n",
    "                label = 0 # background (MC truth)\n",
    "            \n",
    "            \n",
    "            SA_target[i,j] = label\n",
    "            \n",
    "        del event_df\n",
    "        \n",
    "        \n",
    "    # shuffle the data    \n",
    "    for idx in np.arange(leaves.shape[0]):   # arange is like range but gives ndarray instead of list\n",
    "        perms = np.random.permutation(leaves.shape[1])\n",
    "\n",
    "        leaves[idx,:] = leaves[idx,perms]\n",
    "        SA_target[idx,:] = SA_target[idx,perms]\n",
    "        global_tag[idx,0:-1] = global_tag[idx,perms]\n",
    "        \n",
    "        \n",
    "         \n",
    "\n",
    "\n",
    "    #print(global_tag)\n",
    "    train_ratio = 0.82\n",
    "    validation_ratio = 0.12\n",
    "    test_ratio = 0.06\n",
    "\n",
    "    print(\"leaves.shape:\",leaves.shape)\n",
    "    print(\"SA_target.shape:\",SA_target.shape)\n",
    "    print(\"global_tag.shape:\",global_tag.shape)\n",
    "\n",
    "\n",
    "    print(\"leaves[0]:\",leaves[0])\n",
    "    print(\"SA_target[0]:\",SA_target[0])\n",
    "    print(\"global_tag[0]:\",global_tag[0])\n",
    "\n",
    "    x=leaves\n",
    "    y=SA_target\n",
    "    z=global_tag\n",
    "\n",
    "    x_train, x_test, y_train, y_test, z_train, z_test = train_test_split(x, y, z, test_size=1 - train_ratio, shuffle=False)\n",
    "    x_val, x_test, y_val, y_test, z_val, z_test = train_test_split(x_test, y_test, z_test, test_size=test_ratio/(test_ratio + validation_ratio), shuffle=False) \n",
    "\n",
    "    if save_data==True:\n",
    "        np.save(data_dir / \"leaves_train_FSP{}.npy\".format(num_FSPs_toData), x_train)\n",
    "        np.save(data_dir / \"is_left_arr_train_FSP{}.npy\".format(num_FSPs_toData), y_train)\n",
    "        np.save(data_dir / \"global_tag_train_FSP{}.npy\".format(num_FSPs_toData), z_train)\n",
    "\n",
    "        np.save(data_dir / \"leaves_val_FSP{}.npy\".format(num_FSPs_toData), x_val)\n",
    "        np.save(data_dir / \"is_left_arr_val_FSP{}.npy\".format(num_FSPs_toData), y_val)\n",
    "        np.save(data_dir / \"global_tag_val_FSP{}.npy\".format(num_FSPs_toData), z_val)\n",
    "\n",
    "        np.save(data_dir / \"leaves_test_FSP{}.npy\".format(num_FSPs_toData), x_test)\n",
    "        np.save(data_dir / \"is_left_arr_test_FSP{}.npy\".format(num_FSPs_toData), y_test)\n",
    "        np.save(data_dir / \"global_tag_test_FSP{}.npy\".format(num_FSPs_toData), z_test)\n",
    "\n",
    "    \n",
    "    print(\"\")\n",
    "    #del df_num_subset\n",
    "\n",
    "\n",
    "    del df_num_subset\n",
    "                                          "
   ]
  },
  {
   "cell_type": "code",
   "execution_count": null,
   "metadata": {},
   "outputs": [],
   "source": [
    "print(\"saving is done\")\n",
    "now = datetime.now()\n",
    "print(\"time at end =\", now)"
   ]
  },
  {
   "cell_type": "code",
   "execution_count": null,
   "metadata": {},
   "outputs": [],
   "source": []
  },
  {
   "cell_type": "code",
   "execution_count": null,
   "metadata": {},
   "outputs": [],
   "source": []
  },
  {
   "cell_type": "code",
   "execution_count": null,
   "metadata": {},
   "outputs": [],
   "source": [
    "#why only one FSP in so many events?"
   ]
  },
  {
   "cell_type": "code",
   "execution_count": 59,
   "metadata": {},
   "outputs": [],
   "source": [
    "df_num_subset = df_FSPs_final.copy()\n",
    "df_num_subset = df_num_subset[df_num_subset['numFSPs'] == 1]"
   ]
  },
  {
   "cell_type": "code",
   "execution_count": 51,
   "metadata": {},
   "outputs": [
    {
     "data": {
      "text/plain": [
       "Index(['Unnamed: 0', '__experiment__', '__run__', '__event__', '__candidate__',\n",
       "       '__ncandidates__', '__weight__', 'basf2_X', 'basf2_used', 'basf2_Bsig',\n",
       "       'isSignal', 'uniqueParticleIdentifier', 'mcErrors', 'mcPDG',\n",
       "       'genMotherID', 'genMotherP', 'genMotherPDG', 'px', 'py', 'pz', 'pt',\n",
       "       'p', 'E', 'kaonID', 'pionID', 'genMothPDG_0', 'genMothPDG_1',\n",
       "       'genMothPDG_2', 'genMothPDG_3', 'genMothPDG_4', 'genMothPDG_5',\n",
       "       'genMothPDG_6', 'genMothPDG_7', 'genMothPDG_8', 'genMothPDG_9',\n",
       "       'genMotherID_0', 'genMotherID_1', 'genMotherID_2', 'genMotherID_3',\n",
       "       'genMotherID_4', 'genMotherID_5', 'genMotherID_6', 'genMotherID_7',\n",
       "       'genMotherID_8', 'genMotherID_9', 'mcMother0_uniqParID',\n",
       "       'mcMother1_uniqParID', 'mcMother2_uniqParID', 'mcMother3_uniqParID',\n",
       "       'mcMother4_uniqParID', 'mcMother5_uniqParID', 'mcMother6_uniqParID',\n",
       "       'mcMother7_uniqParID', 'mcMother8_uniqParID', 'mcMother9_uniqParID',\n",
       "       'PDG', 'B_ID', 'numFSPs'],\n",
       "      dtype='object')"
      ]
     },
     "execution_count": 51,
     "metadata": {},
     "output_type": "execute_result"
    }
   ],
   "source": [
    "df_FSPs_final.keys()"
   ]
  },
  {
   "cell_type": "code",
   "execution_count": 52,
   "metadata": {},
   "outputs": [
    {
     "data": {
      "text/html": [
       "<div>\n",
       "<style scoped>\n",
       "    .dataframe tbody tr th:only-of-type {\n",
       "        vertical-align: middle;\n",
       "    }\n",
       "\n",
       "    .dataframe tbody tr th {\n",
       "        vertical-align: top;\n",
       "    }\n",
       "\n",
       "    .dataframe thead th {\n",
       "        text-align: right;\n",
       "    }\n",
       "</style>\n",
       "<table border=\"1\" class=\"dataframe\">\n",
       "  <thead>\n",
       "    <tr style=\"text-align: right;\">\n",
       "      <th></th>\n",
       "      <th>basf2_used</th>\n",
       "      <th>basf2_Bsig</th>\n",
       "      <th>basf2_X</th>\n",
       "      <th>count</th>\n",
       "    </tr>\n",
       "  </thead>\n",
       "  <tbody>\n",
       "    <tr>\n",
       "      <th>0</th>\n",
       "      <td>0.0</td>\n",
       "      <td>0.0</td>\n",
       "      <td>0.0</td>\n",
       "      <td>591463</td>\n",
       "    </tr>\n",
       "    <tr>\n",
       "      <th>1</th>\n",
       "      <td>0.0</td>\n",
       "      <td>1.0</td>\n",
       "      <td>0.0</td>\n",
       "      <td>1</td>\n",
       "    </tr>\n",
       "    <tr>\n",
       "      <th>2</th>\n",
       "      <td>1.0</td>\n",
       "      <td>0.0</td>\n",
       "      <td>1.0</td>\n",
       "      <td>479138</td>\n",
       "    </tr>\n",
       "    <tr>\n",
       "      <th>3</th>\n",
       "      <td>1.0</td>\n",
       "      <td>1.0</td>\n",
       "      <td>0.0</td>\n",
       "      <td>349332</td>\n",
       "    </tr>\n",
       "  </tbody>\n",
       "</table>\n",
       "</div>"
      ],
      "text/plain": [
       "   basf2_used  basf2_Bsig  basf2_X   count\n",
       "0         0.0         0.0      0.0  591463\n",
       "1         0.0         1.0      0.0       1\n",
       "2         1.0         0.0      1.0  479138\n",
       "3         1.0         1.0      0.0  349332"
      ]
     },
     "execution_count": 52,
     "metadata": {},
     "output_type": "execute_result"
    }
   ],
   "source": [
    "groupsAllFSPs = pd.DataFrame({'count' : df_FSPs_final.groupby( [\"basf2_used\",\"basf2_Bsig\",\"basf2_X\"] ).size()}).reset_index()\n",
    "groupsAllFSPs"
   ]
  },
  {
   "cell_type": "code",
   "execution_count": 3,
   "metadata": {},
   "outputs": [],
   "source": [
    "fileY4S = uproot.open(\"/afs/desy.de/user/a/axelheim/private/MC_studies/Dstlnu_Bt_generic/SHR_Hc_correctReco_BsX/SHR_wChargeLessFiles_run1/DXtagDstl.root:variables\")\n",
    "df_Y4S = fileY4S.arrays(library=\"pd\")"
   ]
  },
  {
   "cell_type": "code",
   "execution_count": 4,
   "metadata": {},
   "outputs": [],
   "source": [
    "pions = uproot.open(\"/afs/desy.de/user/a/axelheim/private/MC_studies/Dstlnu_Bt_generic/SHR_Hc_correctReco_BsX/SHR_wChargeLessFiles_run1/pions.root:variables\")\n",
    "df_pions = pions.arrays(library=\"pd\")"
   ]
  },
  {
   "cell_type": "code",
   "execution_count": null,
   "metadata": {},
   "outputs": [],
   "source": []
  },
  {
   "cell_type": "code",
   "execution_count": 5,
   "metadata": {},
   "outputs": [
    {
     "data": {
      "text/plain": [
       "11"
      ]
     },
     "execution_count": 5,
     "metadata": {},
     "output_type": "execute_result"
    }
   ],
   "source": [
    "df_Y4S.shape[0]"
   ]
  },
  {
   "cell_type": "code",
   "execution_count": 6,
   "metadata": {},
   "outputs": [
    {
     "data": {
      "text/plain": [
       "11"
      ]
     },
     "execution_count": 6,
     "metadata": {},
     "output_type": "execute_result"
    }
   ],
   "source": [
    "df_Y4S[(df_Y4S['Hc_isSignalAcceptMissingGamma'] == 1.0)].shape[0]"
   ]
  },
  {
   "cell_type": "code",
   "execution_count": null,
   "metadata": {},
   "outputs": [],
   "source": []
  }
 ],
 "metadata": {
  "kernelspec": {
   "display_name": "Python 3",
   "language": "python",
   "name": "python3"
  },
  "language_info": {
   "codemirror_mode": {
    "name": "ipython",
    "version": 3
   },
   "file_extension": ".py",
   "mimetype": "text/x-python",
   "name": "python",
   "nbconvert_exporter": "python",
   "pygments_lexer": "ipython3",
   "version": "3.8.6"
  }
 },
 "nbformat": 4,
 "nbformat_minor": 4
}
